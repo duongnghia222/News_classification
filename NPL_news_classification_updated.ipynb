{
  "cells": [
    {
      "cell_type": "code",
      "execution_count": null,
      "metadata": {
        "id": "RcpyAVGwavy5"
      },
      "outputs": [],
      "source": [
        "!pip install transformers\n",
        "!pip install pytorch-lightning\n",
        "!pip install torchinfo"
      ]
    },
    {
      "cell_type": "markdown",
      "metadata": {
        "id": "WOoawOFSYKbC"
      },
      "source": [
        "# Import lib"
      ]
    },
    {
      "cell_type": "code",
      "execution_count": 161,
      "metadata": {
        "colab": {
          "base_uri": "https://localhost:8080/"
        },
        "id": "03PaRuIGYETu",
        "outputId": "a4f3f0ae-ee9f-4340-be07-69eb6faa3c63"
      },
      "outputs": [
        {
          "output_type": "stream",
          "name": "stderr",
          "text": [
            "[nltk_data] Downloading package punkt to /root/nltk_data...\n",
            "[nltk_data]   Package punkt is already up-to-date!\n"
          ]
        },
        {
          "output_type": "execute_result",
          "data": {
            "text/plain": [
              "True"
            ]
          },
          "metadata": {},
          "execution_count": 161
        }
      ],
      "source": [
        "import torch\n",
        "from torch import nn\n",
        "from torch.utils.data import Dataset, DataLoader\n",
        "from torch.nn import LayerNorm\n",
        "from torch.nn import functional as F\n",
        "from torch.nn.utils.rnn import pad_sequence\n",
        "from transformers import AutoModel, AutoTokenizer, AdamW, get_cosine_schedule_with_warmup\n",
        "import numpy as np\n",
        "import os\n",
        "import time\n",
        "import random\n",
        "from sklearn.preprocessing import LabelEncoder\n",
        "from sklearn.model_selection import train_test_split\n",
        "from sklearn.metrics import confusion_matrix\n",
        "from sklearn.metrics import accuracy_score\n",
        "import pandas as pd\n",
        "import matplotlib.pyplot as plt\n",
        "import pytorch_lightning as pl\n",
        "from torch.optim.lr_scheduler import StepLR\n",
        "import re\n",
        "import nltk\n",
        "from nltk.tokenize import word_tokenize\n",
        "import math\n",
        "from torchinfo import summary\n",
        "from google.colab import drive\n",
        "from tqdm.auto import tqdm\n",
        "nltk.download('punkt')\n"
      ]
    },
    {
      "cell_type": "markdown",
      "metadata": {
        "id": "t09nEVgzGNkS"
      },
      "source": [
        "# Import dataset"
      ]
    },
    {
      "cell_type": "code",
      "execution_count": 44,
      "metadata": {
        "colab": {
          "base_uri": "https://localhost:8080/"
        },
        "id": "ZWLpwD6iXdTk",
        "outputId": "5895939b-b522-459e-cea1-5f3487a71000"
      },
      "outputs": [
        {
          "output_type": "stream",
          "name": "stdout",
          "text": [
            "fatal: destination path 'News_classification' already exists and is not an empty directory.\n"
          ]
        }
      ],
      "source": [
        "! git clone https://github.com/duongnghia222/News_classification"
      ]
    },
    {
      "cell_type": "code",
      "execution_count": 148,
      "metadata": {
        "id": "Bnge752SB8Ez"
      },
      "outputs": [],
      "source": [
        "# Load data from CSV file\n",
        "df = pd.read_csv('News_classification/data/raw_data/raw_data.csv', encoding='utf-8-sig')"
      ]
    },
    {
      "cell_type": "markdown",
      "metadata": {
        "id": "aqu8-QjYBzWc"
      },
      "source": [
        "# Visualize Data"
      ]
    },
    {
      "cell_type": "code",
      "execution_count": 46,
      "metadata": {
        "colab": {
          "base_uri": "https://localhost:8080/",
          "height": 206
        },
        "id": "k7U3B_R3CflP",
        "outputId": "5b40ce6e-1bdd-43a4-dd49-cb129c5ffbee"
      },
      "outputs": [
        {
          "output_type": "execute_result",
          "data": {
            "text/plain": [
              "                                                 Content Label\n",
              "10391  Một cá nhân bất ngờ mua vào 30,77 triệu cổ phi...   TTF\n",
              "10392  Chưa kịp bán ra, Chủ tịch Đỗ Quý Hải tiếp tục ...   HPX\n",
              "10393  POM cho cán bộ nhân viên nghỉ việc vì dừng lò ...   POM\n",
              "10394  Năm Bảy Bảy (NBB) chấp thuận cho Công ty con c...   NBB\n",
              "10395  Chứng khoán Ngân hàng Sài Gòn Thương Tín (SBS)...   SBS"
            ],
            "text/html": [
              "\n",
              "  <div id=\"df-d782224f-56a6-460e-afb4-8d5fa03ef1e4\">\n",
              "    <div class=\"colab-df-container\">\n",
              "      <div>\n",
              "<style scoped>\n",
              "    .dataframe tbody tr th:only-of-type {\n",
              "        vertical-align: middle;\n",
              "    }\n",
              "\n",
              "    .dataframe tbody tr th {\n",
              "        vertical-align: top;\n",
              "    }\n",
              "\n",
              "    .dataframe thead th {\n",
              "        text-align: right;\n",
              "    }\n",
              "</style>\n",
              "<table border=\"1\" class=\"dataframe\">\n",
              "  <thead>\n",
              "    <tr style=\"text-align: right;\">\n",
              "      <th></th>\n",
              "      <th>Content</th>\n",
              "      <th>Label</th>\n",
              "    </tr>\n",
              "  </thead>\n",
              "  <tbody>\n",
              "    <tr>\n",
              "      <th>10391</th>\n",
              "      <td>Một cá nhân bất ngờ mua vào 30,77 triệu cổ phi...</td>\n",
              "      <td>TTF</td>\n",
              "    </tr>\n",
              "    <tr>\n",
              "      <th>10392</th>\n",
              "      <td>Chưa kịp bán ra, Chủ tịch Đỗ Quý Hải tiếp tục ...</td>\n",
              "      <td>HPX</td>\n",
              "    </tr>\n",
              "    <tr>\n",
              "      <th>10393</th>\n",
              "      <td>POM cho cán bộ nhân viên nghỉ việc vì dừng lò ...</td>\n",
              "      <td>POM</td>\n",
              "    </tr>\n",
              "    <tr>\n",
              "      <th>10394</th>\n",
              "      <td>Năm Bảy Bảy (NBB) chấp thuận cho Công ty con c...</td>\n",
              "      <td>NBB</td>\n",
              "    </tr>\n",
              "    <tr>\n",
              "      <th>10395</th>\n",
              "      <td>Chứng khoán Ngân hàng Sài Gòn Thương Tín (SBS)...</td>\n",
              "      <td>SBS</td>\n",
              "    </tr>\n",
              "  </tbody>\n",
              "</table>\n",
              "</div>\n",
              "      <button class=\"colab-df-convert\" onclick=\"convertToInteractive('df-d782224f-56a6-460e-afb4-8d5fa03ef1e4')\"\n",
              "              title=\"Convert this dataframe to an interactive table.\"\n",
              "              style=\"display:none;\">\n",
              "        \n",
              "  <svg xmlns=\"http://www.w3.org/2000/svg\" height=\"24px\"viewBox=\"0 0 24 24\"\n",
              "       width=\"24px\">\n",
              "    <path d=\"M0 0h24v24H0V0z\" fill=\"none\"/>\n",
              "    <path d=\"M18.56 5.44l.94 2.06.94-2.06 2.06-.94-2.06-.94-.94-2.06-.94 2.06-2.06.94zm-11 1L8.5 8.5l.94-2.06 2.06-.94-2.06-.94L8.5 2.5l-.94 2.06-2.06.94zm10 10l.94 2.06.94-2.06 2.06-.94-2.06-.94-.94-2.06-.94 2.06-2.06.94z\"/><path d=\"M17.41 7.96l-1.37-1.37c-.4-.4-.92-.59-1.43-.59-.52 0-1.04.2-1.43.59L10.3 9.45l-7.72 7.72c-.78.78-.78 2.05 0 2.83L4 21.41c.39.39.9.59 1.41.59.51 0 1.02-.2 1.41-.59l7.78-7.78 2.81-2.81c.8-.78.8-2.07 0-2.86zM5.41 20L4 18.59l7.72-7.72 1.47 1.35L5.41 20z\"/>\n",
              "  </svg>\n",
              "      </button>\n",
              "      \n",
              "  <style>\n",
              "    .colab-df-container {\n",
              "      display:flex;\n",
              "      flex-wrap:wrap;\n",
              "      gap: 12px;\n",
              "    }\n",
              "\n",
              "    .colab-df-convert {\n",
              "      background-color: #E8F0FE;\n",
              "      border: none;\n",
              "      border-radius: 50%;\n",
              "      cursor: pointer;\n",
              "      display: none;\n",
              "      fill: #1967D2;\n",
              "      height: 32px;\n",
              "      padding: 0 0 0 0;\n",
              "      width: 32px;\n",
              "    }\n",
              "\n",
              "    .colab-df-convert:hover {\n",
              "      background-color: #E2EBFA;\n",
              "      box-shadow: 0px 1px 2px rgba(60, 64, 67, 0.3), 0px 1px 3px 1px rgba(60, 64, 67, 0.15);\n",
              "      fill: #174EA6;\n",
              "    }\n",
              "\n",
              "    [theme=dark] .colab-df-convert {\n",
              "      background-color: #3B4455;\n",
              "      fill: #D2E3FC;\n",
              "    }\n",
              "\n",
              "    [theme=dark] .colab-df-convert:hover {\n",
              "      background-color: #434B5C;\n",
              "      box-shadow: 0px 1px 3px 1px rgba(0, 0, 0, 0.15);\n",
              "      filter: drop-shadow(0px 1px 2px rgba(0, 0, 0, 0.3));\n",
              "      fill: #FFFFFF;\n",
              "    }\n",
              "  </style>\n",
              "\n",
              "      <script>\n",
              "        const buttonEl =\n",
              "          document.querySelector('#df-d782224f-56a6-460e-afb4-8d5fa03ef1e4 button.colab-df-convert');\n",
              "        buttonEl.style.display =\n",
              "          google.colab.kernel.accessAllowed ? 'block' : 'none';\n",
              "\n",
              "        async function convertToInteractive(key) {\n",
              "          const element = document.querySelector('#df-d782224f-56a6-460e-afb4-8d5fa03ef1e4');\n",
              "          const dataTable =\n",
              "            await google.colab.kernel.invokeFunction('convertToInteractive',\n",
              "                                                     [key], {});\n",
              "          if (!dataTable) return;\n",
              "\n",
              "          const docLinkHtml = 'Like what you see? Visit the ' +\n",
              "            '<a target=\"_blank\" href=https://colab.research.google.com/notebooks/data_table.ipynb>data table notebook</a>'\n",
              "            + ' to learn more about interactive tables.';\n",
              "          element.innerHTML = '';\n",
              "          dataTable['output_type'] = 'display_data';\n",
              "          await google.colab.output.renderOutput(dataTable, element);\n",
              "          const docLink = document.createElement('div');\n",
              "          docLink.innerHTML = docLinkHtml;\n",
              "          element.appendChild(docLink);\n",
              "        }\n",
              "      </script>\n",
              "    </div>\n",
              "  </div>\n",
              "  "
            ]
          },
          "metadata": {},
          "execution_count": 46
        }
      ],
      "source": [
        "df.tail()"
      ]
    },
    {
      "cell_type": "code",
      "execution_count": 149,
      "metadata": {
        "colab": {
          "base_uri": "https://localhost:8080/"
        },
        "id": "-evHq83aB4CI",
        "outputId": "b23c0895-aea3-4e95-dfcd-5c6d8376e573"
      },
      "outputs": [
        {
          "output_type": "execute_result",
          "data": {
            "text/plain": [
              "count    10396.000000\n",
              "mean       607.325414\n",
              "std        352.123889\n",
              "min         46.000000\n",
              "25%        381.000000\n",
              "50%        514.000000\n",
              "75%        725.250000\n",
              "max       4235.000000\n",
              "Name: Word Count, dtype: float64"
            ]
          },
          "metadata": {},
          "execution_count": 149
        }
      ],
      "source": [
        "# Count the number of words in each article's content and number of times a class appear\n",
        "df['Word Count'] = df['Content'].apply(lambda x: len(str(x).split()))\n",
        "df['Class Count'] = df.groupby('Label')['Label'].transform('count')\n",
        "\n",
        "# Calculate statistics for word count\n",
        "df['Word Count'].describe()"
      ]
    },
    {
      "cell_type": "code",
      "execution_count": 48,
      "metadata": {
        "colab": {
          "base_uri": "https://localhost:8080/",
          "height": 206
        },
        "id": "9RvaCV55DsfU",
        "outputId": "69664a46-fd39-43f6-b82d-b889eda38e94"
      },
      "outputs": [
        {
          "output_type": "execute_result",
          "data": {
            "text/plain": [
              "                                             Content Label  Word Count  \\\n",
              "0  Vingroup báo lãi hơn 3.600 tỷ đồng, doanh thu ...   VIC         599   \n",
              "1  HAGL Agrico (HNG) lỗ quý thứ 5 liên tiếp. Giá ...   HNG         642   \n",
              "2  Vingroup lãi ròng 1.028 tỷ đồng nửa đầu năm, t...   VIC         577   \n",
              "3  Một doanh nghiệp khoáng sản đã vượt 153% mục t...   KSV         430   \n",
              "4  Doanh nghiệp thép từ lớn đến nhỏ đều báo lỗ qu...   HPG        1247   \n",
              "\n",
              "   Class Count  \n",
              "0          108  \n",
              "1           65  \n",
              "2          108  \n",
              "3            3  \n",
              "4          197  "
            ],
            "text/html": [
              "\n",
              "  <div id=\"df-2f402639-718d-4e56-bef2-6c4386bfeb07\">\n",
              "    <div class=\"colab-df-container\">\n",
              "      <div>\n",
              "<style scoped>\n",
              "    .dataframe tbody tr th:only-of-type {\n",
              "        vertical-align: middle;\n",
              "    }\n",
              "\n",
              "    .dataframe tbody tr th {\n",
              "        vertical-align: top;\n",
              "    }\n",
              "\n",
              "    .dataframe thead th {\n",
              "        text-align: right;\n",
              "    }\n",
              "</style>\n",
              "<table border=\"1\" class=\"dataframe\">\n",
              "  <thead>\n",
              "    <tr style=\"text-align: right;\">\n",
              "      <th></th>\n",
              "      <th>Content</th>\n",
              "      <th>Label</th>\n",
              "      <th>Word Count</th>\n",
              "      <th>Class Count</th>\n",
              "    </tr>\n",
              "  </thead>\n",
              "  <tbody>\n",
              "    <tr>\n",
              "      <th>0</th>\n",
              "      <td>Vingroup báo lãi hơn 3.600 tỷ đồng, doanh thu ...</td>\n",
              "      <td>VIC</td>\n",
              "      <td>599</td>\n",
              "      <td>108</td>\n",
              "    </tr>\n",
              "    <tr>\n",
              "      <th>1</th>\n",
              "      <td>HAGL Agrico (HNG) lỗ quý thứ 5 liên tiếp. Giá ...</td>\n",
              "      <td>HNG</td>\n",
              "      <td>642</td>\n",
              "      <td>65</td>\n",
              "    </tr>\n",
              "    <tr>\n",
              "      <th>2</th>\n",
              "      <td>Vingroup lãi ròng 1.028 tỷ đồng nửa đầu năm, t...</td>\n",
              "      <td>VIC</td>\n",
              "      <td>577</td>\n",
              "      <td>108</td>\n",
              "    </tr>\n",
              "    <tr>\n",
              "      <th>3</th>\n",
              "      <td>Một doanh nghiệp khoáng sản đã vượt 153% mục t...</td>\n",
              "      <td>KSV</td>\n",
              "      <td>430</td>\n",
              "      <td>3</td>\n",
              "    </tr>\n",
              "    <tr>\n",
              "      <th>4</th>\n",
              "      <td>Doanh nghiệp thép từ lớn đến nhỏ đều báo lỗ qu...</td>\n",
              "      <td>HPG</td>\n",
              "      <td>1247</td>\n",
              "      <td>197</td>\n",
              "    </tr>\n",
              "  </tbody>\n",
              "</table>\n",
              "</div>\n",
              "      <button class=\"colab-df-convert\" onclick=\"convertToInteractive('df-2f402639-718d-4e56-bef2-6c4386bfeb07')\"\n",
              "              title=\"Convert this dataframe to an interactive table.\"\n",
              "              style=\"display:none;\">\n",
              "        \n",
              "  <svg xmlns=\"http://www.w3.org/2000/svg\" height=\"24px\"viewBox=\"0 0 24 24\"\n",
              "       width=\"24px\">\n",
              "    <path d=\"M0 0h24v24H0V0z\" fill=\"none\"/>\n",
              "    <path d=\"M18.56 5.44l.94 2.06.94-2.06 2.06-.94-2.06-.94-.94-2.06-.94 2.06-2.06.94zm-11 1L8.5 8.5l.94-2.06 2.06-.94-2.06-.94L8.5 2.5l-.94 2.06-2.06.94zm10 10l.94 2.06.94-2.06 2.06-.94-2.06-.94-.94-2.06-.94 2.06-2.06.94z\"/><path d=\"M17.41 7.96l-1.37-1.37c-.4-.4-.92-.59-1.43-.59-.52 0-1.04.2-1.43.59L10.3 9.45l-7.72 7.72c-.78.78-.78 2.05 0 2.83L4 21.41c.39.39.9.59 1.41.59.51 0 1.02-.2 1.41-.59l7.78-7.78 2.81-2.81c.8-.78.8-2.07 0-2.86zM5.41 20L4 18.59l7.72-7.72 1.47 1.35L5.41 20z\"/>\n",
              "  </svg>\n",
              "      </button>\n",
              "      \n",
              "  <style>\n",
              "    .colab-df-container {\n",
              "      display:flex;\n",
              "      flex-wrap:wrap;\n",
              "      gap: 12px;\n",
              "    }\n",
              "\n",
              "    .colab-df-convert {\n",
              "      background-color: #E8F0FE;\n",
              "      border: none;\n",
              "      border-radius: 50%;\n",
              "      cursor: pointer;\n",
              "      display: none;\n",
              "      fill: #1967D2;\n",
              "      height: 32px;\n",
              "      padding: 0 0 0 0;\n",
              "      width: 32px;\n",
              "    }\n",
              "\n",
              "    .colab-df-convert:hover {\n",
              "      background-color: #E2EBFA;\n",
              "      box-shadow: 0px 1px 2px rgba(60, 64, 67, 0.3), 0px 1px 3px 1px rgba(60, 64, 67, 0.15);\n",
              "      fill: #174EA6;\n",
              "    }\n",
              "\n",
              "    [theme=dark] .colab-df-convert {\n",
              "      background-color: #3B4455;\n",
              "      fill: #D2E3FC;\n",
              "    }\n",
              "\n",
              "    [theme=dark] .colab-df-convert:hover {\n",
              "      background-color: #434B5C;\n",
              "      box-shadow: 0px 1px 3px 1px rgba(0, 0, 0, 0.15);\n",
              "      filter: drop-shadow(0px 1px 2px rgba(0, 0, 0, 0.3));\n",
              "      fill: #FFFFFF;\n",
              "    }\n",
              "  </style>\n",
              "\n",
              "      <script>\n",
              "        const buttonEl =\n",
              "          document.querySelector('#df-2f402639-718d-4e56-bef2-6c4386bfeb07 button.colab-df-convert');\n",
              "        buttonEl.style.display =\n",
              "          google.colab.kernel.accessAllowed ? 'block' : 'none';\n",
              "\n",
              "        async function convertToInteractive(key) {\n",
              "          const element = document.querySelector('#df-2f402639-718d-4e56-bef2-6c4386bfeb07');\n",
              "          const dataTable =\n",
              "            await google.colab.kernel.invokeFunction('convertToInteractive',\n",
              "                                                     [key], {});\n",
              "          if (!dataTable) return;\n",
              "\n",
              "          const docLinkHtml = 'Like what you see? Visit the ' +\n",
              "            '<a target=\"_blank\" href=https://colab.research.google.com/notebooks/data_table.ipynb>data table notebook</a>'\n",
              "            + ' to learn more about interactive tables.';\n",
              "          element.innerHTML = '';\n",
              "          dataTable['output_type'] = 'display_data';\n",
              "          await google.colab.output.renderOutput(dataTable, element);\n",
              "          const docLink = document.createElement('div');\n",
              "          docLink.innerHTML = docLinkHtml;\n",
              "          element.appendChild(docLink);\n",
              "        }\n",
              "      </script>\n",
              "    </div>\n",
              "  </div>\n",
              "  "
            ]
          },
          "metadata": {},
          "execution_count": 48
        }
      ],
      "source": [
        "df.head()"
      ]
    },
    {
      "cell_type": "code",
      "execution_count": 49,
      "metadata": {
        "colab": {
          "base_uri": "https://localhost:8080/",
          "height": 472
        },
        "id": "8Y7NA9bxCK40",
        "outputId": "fb57ca43-e63f-4c64-d5f3-fb8ba72973d4"
      },
      "outputs": [
        {
          "output_type": "display_data",
          "data": {
            "text/plain": [
              "<Figure size 640x480 with 1 Axes>"
            ],
            "image/png": "[encoded data removed]"
          },
          "metadata": {}
        }
      ],
      "source": [
        "# Plot histogram for word count\n",
        "plt.hist(df['Word Count'], bins=20, color='skyblue', edgecolor='black')\n",
        "plt.title('Histogram of Word Count')\n",
        "plt.xlabel('Word Count')\n",
        "plt.ylabel('Frequency')\n",
        "plt.grid(True)\n",
        "plt.show()"
      ]
    },
    {
      "cell_type": "code",
      "execution_count": 150,
      "metadata": {
        "id": "wGjBHZ7TB8Br",
        "colab": {
          "base_uri": "https://localhost:8080/"
        },
        "outputId": "ca6b4414-b038-4246-d413-039453d04e18"
      },
      "outputs": [
        {
          "output_type": "stream",
          "name": "stdout",
          "text": [
            "count    927.000000\n",
            "mean      11.214671\n",
            "std       21.224713\n",
            "min        1.000000\n",
            "25%        1.000000\n",
            "50%        3.000000\n",
            "75%       11.000000\n",
            "max      197.000000\n",
            "Name: Label, dtype: float64\n"
          ]
        }
      ],
      "source": [
        "# Count the occurrence of each unique label\n",
        "label_counts = df['Label'].value_counts()\n",
        "print(label_counts.describe())\n",
        "\n",
        "# Loop over each unique label and print its count\n",
        "# for label, count in label_counts.items():\n",
        "#     print(f\"Label: {label}, Count: {count}\")"
      ]
    },
    {
      "cell_type": "code",
      "execution_count": 151,
      "metadata": {
        "colab": {
          "base_uri": "https://localhost:8080/"
        },
        "id": "-OZpZDJiB8Sx",
        "outputId": "136354f6-9f50-4aa9-99d8-74173dabc9d8"
      },
      "outputs": [
        {
          "output_type": "execute_result",
          "data": {
            "text/plain": [
              "Content        9222\n",
              "Label          9222\n",
              "Word Count     9222\n",
              "Class Count    9222\n",
              "dtype: int64"
            ]
          },
          "metadata": {},
          "execution_count": 151
        }
      ],
      "source": [
        "# extracted_df\n",
        "e_df = df.loc[df['Class Count'] > 5].sort_values(by=\"Class Count\", ascending=False)\n",
        "e_df.count()"
      ]
    },
    {
      "cell_type": "code",
      "execution_count": 152,
      "metadata": {
        "colab": {
          "base_uri": "https://localhost:8080/"
        },
        "id": "S5IyPXDJEwmh",
        "outputId": "02dc8030-9915-4a5b-ac43-53edb0eff6c8"
      },
      "outputs": [
        {
          "output_type": "execute_result",
          "data": {
            "text/plain": [
              "350"
            ]
          },
          "metadata": {},
          "execution_count": 152
        }
      ],
      "source": [
        "number_of_classes = e_df['Label'].nunique()\n",
        "number_of_classes"
      ]
    },
    {
      "cell_type": "markdown",
      "metadata": {
        "id": "6NLAa4szYUhU"
      },
      "source": [
        "# Processing Dataset"
      ]
    },
    {
      "cell_type": "markdown",
      "metadata": {
        "id": "oAAmnOmSXj5a"
      },
      "source": [
        "## Clean text"
      ]
    },
    {
      "cell_type": "code",
      "execution_count": 53,
      "metadata": {
        "colab": {
          "base_uri": "https://localhost:8080/"
        },
        "id": "GnWMnVIDXpl1",
        "outputId": "2b768769-9a61-407d-b501-1ed3ac33d93d"
      },
      "outputs": [
        {
          "output_type": "execute_result",
          "data": {
            "text/plain": [
              "['a lô',\n",
              " 'a ha',\n",
              " 'ai',\n",
              " 'ai ai',\n",
              " 'ai nấy',\n",
              " 'ai đó',\n",
              " 'alô',\n",
              " 'amen',\n",
              " 'anh',\n",
              " 'anh ấy']"
            ]
          },
          "metadata": {},
          "execution_count": 53
        }
      ],
      "source": [
        "with open('/content/News_classification/vietnamese-stopwords.txt', 'r', encoding='utf-8') as f:\n",
        "    vietnamese_stopwords = f.read().splitlines()\n",
        "\n",
        "vietnamese_stopwords[:10]"
      ]
    },
    {
      "cell_type": "code",
      "execution_count": 54,
      "metadata": {
        "colab": {
          "base_uri": "https://localhost:8080/",
          "height": 35
        },
        "id": "ckULHpAOYP9z",
        "outputId": "9aa10150-017a-4491-c506-0c6c3b453f47"
      },
      "outputs": [
        {
          "output_type": "execute_result",
          "data": {
            "text/plain": [
              "'VinFast thức vận hành 35 showroom xe máy điện kết hợp trung tâm trải nghiệm Vin3S 24 tỉnh thành phố'"
            ],
            "application/vnd.google.colaboratory.intrinsic+json": {
              "type": "string"
            }
          },
          "metadata": {},
          "execution_count": 54
        }
      ],
      "source": [
        "def clean_text(txt):\n",
        "    txt = re.sub('\\s+', ' ', txt)\n",
        "    txt = txt.replace('.','')\n",
        "    txt = re.sub('\\n', ' ', txt)\n",
        "    txt = [word_tokenize(wrd) for wrd in txt.split() if wrd not in vietnamese_stopwords]\n",
        "    txt = [item[0] for item in txt]\n",
        "    txt = ' '.join(txt)\n",
        "    return txt\n",
        "\n",
        "clean_text(\" VinFast chính thức vận hành 35 showroom xe máy điện kết hợp trung tâm trải nghiệm Vin3S tại 24 tỉnh, thành phố trên cả nước\")"
      ]
    },
    {
      "cell_type": "code",
      "source": [
        "# e_df['Content'] = e_df['Content'].apply(clean_text)\n",
        "e_df.head()"
      ],
      "metadata": {
        "colab": {
          "base_uri": "https://localhost:8080/",
          "height": 206
        },
        "id": "sLKqEbYMt7ZD",
        "outputId": "4b44fb61-942d-448d-9c78-d3b52c8d7ef0"
      },
      "execution_count": 153,
      "outputs": [
        {
          "output_type": "execute_result",
          "data": {
            "text/plain": [
              "                                                Content Label  Word Count  \\\n",
              "1781  Hòa Phát: Lợi nhuận quý IV tăng 59%, cả năm đạ...   HPG         675   \n",
              "7905  Hòa Phát lãi 4 ngàn tỷ trong quý 2, giảm gần 6...   HPG         336   \n",
              "5725  Chủ tịch Trần Đình Long (HPG): Giai đoạn thảm ...   HPG         977   \n",
              "3000  Tại sao Hòa Phát nâng tỷ lệ cổ tức mặc dù cổ đ...   HPG         919   \n",
              "2512  Hòa Phát dự kiến khởi công dự án 85.000 tỷ vào...   HPG         452   \n",
              "\n",
              "      Class Count  \n",
              "1781          197  \n",
              "7905          197  \n",
              "5725          197  \n",
              "3000          197  \n",
              "2512          197  "
            ],
            "text/html": [
              "\n",
              "  <div id=\"df-dc9f390e-afbe-46f9-a468-f38c981f9164\">\n",
              "    <div class=\"colab-df-container\">\n",
              "      <div>\n",
              "<style scoped>\n",
              "    .dataframe tbody tr th:only-of-type {\n",
              "        vertical-align: middle;\n",
              "    }\n",
              "\n",
              "    .dataframe tbody tr th {\n",
              "        vertical-align: top;\n",
              "    }\n",
              "\n",
              "    .dataframe thead th {\n",
              "        text-align: right;\n",
              "    }\n",
              "</style>\n",
              "<table border=\"1\" class=\"dataframe\">\n",
              "  <thead>\n",
              "    <tr style=\"text-align: right;\">\n",
              "      <th></th>\n",
              "      <th>Content</th>\n",
              "      <th>Label</th>\n",
              "      <th>Word Count</th>\n",
              "      <th>Class Count</th>\n",
              "    </tr>\n",
              "  </thead>\n",
              "  <tbody>\n",
              "    <tr>\n",
              "      <th>1781</th>\n",
              "      <td>Hòa Phát: Lợi nhuận quý IV tăng 59%, cả năm đạ...</td>\n",
              "      <td>HPG</td>\n",
              "      <td>675</td>\n",
              "      <td>197</td>\n",
              "    </tr>\n",
              "    <tr>\n",
              "      <th>7905</th>\n",
              "      <td>Hòa Phát lãi 4 ngàn tỷ trong quý 2, giảm gần 6...</td>\n",
              "      <td>HPG</td>\n",
              "      <td>336</td>\n",
              "      <td>197</td>\n",
              "    </tr>\n",
              "    <tr>\n",
              "      <th>5725</th>\n",
              "      <td>Chủ tịch Trần Đình Long (HPG): Giai đoạn thảm ...</td>\n",
              "      <td>HPG</td>\n",
              "      <td>977</td>\n",
              "      <td>197</td>\n",
              "    </tr>\n",
              "    <tr>\n",
              "      <th>3000</th>\n",
              "      <td>Tại sao Hòa Phát nâng tỷ lệ cổ tức mặc dù cổ đ...</td>\n",
              "      <td>HPG</td>\n",
              "      <td>919</td>\n",
              "      <td>197</td>\n",
              "    </tr>\n",
              "    <tr>\n",
              "      <th>2512</th>\n",
              "      <td>Hòa Phát dự kiến khởi công dự án 85.000 tỷ vào...</td>\n",
              "      <td>HPG</td>\n",
              "      <td>452</td>\n",
              "      <td>197</td>\n",
              "    </tr>\n",
              "  </tbody>\n",
              "</table>\n",
              "</div>\n",
              "      <button class=\"colab-df-convert\" onclick=\"convertToInteractive('df-dc9f390e-afbe-46f9-a468-f38c981f9164')\"\n",
              "              title=\"Convert this dataframe to an interactive table.\"\n",
              "              style=\"display:none;\">\n",
              "        \n",
              "  <svg xmlns=\"http://www.w3.org/2000/svg\" height=\"24px\"viewBox=\"0 0 24 24\"\n",
              "       width=\"24px\">\n",
              "    <path d=\"M0 0h24v24H0V0z\" fill=\"none\"/>\n",
              "    <path d=\"M18.56 5.44l.94 2.06.94-2.06 2.06-.94-2.06-.94-.94-2.06-.94 2.06-2.06.94zm-11 1L8.5 8.5l.94-2.06 2.06-.94-2.06-.94L8.5 2.5l-.94 2.06-2.06.94zm10 10l.94 2.06.94-2.06 2.06-.94-2.06-.94-.94-2.06-.94 2.06-2.06.94z\"/><path d=\"M17.41 7.96l-1.37-1.37c-.4-.4-.92-.59-1.43-.59-.52 0-1.04.2-1.43.59L10.3 9.45l-7.72 7.72c-.78.78-.78 2.05 0 2.83L4 21.41c.39.39.9.59 1.41.59.51 0 1.02-.2 1.41-.59l7.78-7.78 2.81-2.81c.8-.78.8-2.07 0-2.86zM5.41 20L4 18.59l7.72-7.72 1.47 1.35L5.41 20z\"/>\n",
              "  </svg>\n",
              "      </button>\n",
              "      \n",
              "  <style>\n",
              "    .colab-df-container {\n",
              "      display:flex;\n",
              "      flex-wrap:wrap;\n",
              "      gap: 12px;\n",
              "    }\n",
              "\n",
              "    .colab-df-convert {\n",
              "      background-color: #E8F0FE;\n",
              "      border: none;\n",
              "      border-radius: 50%;\n",
              "      cursor: pointer;\n",
              "      display: none;\n",
              "      fill: #1967D2;\n",
              "      height: 32px;\n",
              "      padding: 0 0 0 0;\n",
              "      width: 32px;\n",
              "    }\n",
              "\n",
              "    .colab-df-convert:hover {\n",
              "      background-color: #E2EBFA;\n",
              "      box-shadow: 0px 1px 2px rgba(60, 64, 67, 0.3), 0px 1px 3px 1px rgba(60, 64, 67, 0.15);\n",
              "      fill: #174EA6;\n",
              "    }\n",
              "\n",
              "    [theme=dark] .colab-df-convert {\n",
              "      background-color: #3B4455;\n",
              "      fill: #D2E3FC;\n",
              "    }\n",
              "\n",
              "    [theme=dark] .colab-df-convert:hover {\n",
              "      background-color: #434B5C;\n",
              "      box-shadow: 0px 1px 3px 1px rgba(0, 0, 0, 0.15);\n",
              "      filter: drop-shadow(0px 1px 2px rgba(0, 0, 0, 0.3));\n",
              "      fill: #FFFFFF;\n",
              "    }\n",
              "  </style>\n",
              "\n",
              "      <script>\n",
              "        const buttonEl =\n",
              "          document.querySelector('#df-dc9f390e-afbe-46f9-a468-f38c981f9164 button.colab-df-convert');\n",
              "        buttonEl.style.display =\n",
              "          google.colab.kernel.accessAllowed ? 'block' : 'none';\n",
              "\n",
              "        async function convertToInteractive(key) {\n",
              "          const element = document.querySelector('#df-dc9f390e-afbe-46f9-a468-f38c981f9164');\n",
              "          const dataTable =\n",
              "            await google.colab.kernel.invokeFunction('convertToInteractive',\n",
              "                                                     [key], {});\n",
              "          if (!dataTable) return;\n",
              "\n",
              "          const docLinkHtml = 'Like what you see? Visit the ' +\n",
              "            '<a target=\"_blank\" href=https://colab.research.google.com/notebooks/data_table.ipynb>data table notebook</a>'\n",
              "            + ' to learn more about interactive tables.';\n",
              "          element.innerHTML = '';\n",
              "          dataTable['output_type'] = 'display_data';\n",
              "          await google.colab.output.renderOutput(dataTable, element);\n",
              "          const docLink = document.createElement('div');\n",
              "          docLink.innerHTML = docLinkHtml;\n",
              "          element.appendChild(docLink);\n",
              "        }\n",
              "      </script>\n",
              "    </div>\n",
              "  </div>\n",
              "  "
            ]
          },
          "metadata": {},
          "execution_count": 153
        }
      ]
    },
    {
      "cell_type": "markdown",
      "metadata": {
        "id": "d4CCJN2WY4iI"
      },
      "source": [
        "## Transform labels"
      ]
    },
    {
      "cell_type": "code",
      "execution_count": 100,
      "metadata": {
        "colab": {
          "base_uri": "https://localhost:8080/"
        },
        "id": "4X84MjkGHYm7",
        "outputId": "3afb1932-3eb3-4029-c8cd-45125ca83d8d"
      },
      "outputs": [
        {
          "output_type": "stream",
          "name": "stdout",
          "text": [
            "['HPG', 'HPG', 'HPG', 'HPG', 'HPG', 'HPG', 'HPG', 'HPG', 'HPG', 'HPG']\n"
          ]
        }
      ],
      "source": [
        "labels_list = e_df['Label'].tolist()\n",
        "print(labels_list[:10])"
      ]
    },
    {
      "cell_type": "code",
      "execution_count": 101,
      "metadata": {
        "colab": {
          "base_uri": "https://localhost:8080/"
        },
        "id": "rqVhpg4LdRgY",
        "outputId": "d92dcfe4-7ea0-44da-d844-1761ed807f6d"
      },
      "outputs": [
        {
          "output_type": "stream",
          "name": "stdout",
          "text": [
            "[166, 13, 121, 52, 121, 219, 151, 299, 309, 132]\n"
          ]
        }
      ],
      "source": [
        "le = LabelEncoder()\n",
        "labels = le.fit_transform(labels_list).tolist()\n",
        "print(labels[-10:])"
      ]
    },
    {
      "cell_type": "code",
      "execution_count": 102,
      "metadata": {
        "colab": {
          "base_uri": "https://localhost:8080/",
          "height": 363
        },
        "id": "jcVd4SR3C_Bu",
        "outputId": "6ee150f2-ee0e-440f-ebc0-a33a3f5d7f73"
      },
      "outputs": [
        {
          "output_type": "execute_result",
          "data": {
            "text/plain": [
              "                                                Content Label  Word Count  \\\n",
              "1781  Hòa Phát Lợi nhuận quý IV 59 1,5 tỷ USD Lợi nh...   HPG         675   \n",
              "7905  Hòa Phát lãi 4 ngàn tỷ quý 2 60 Quý 2/2022 Tập...   HPG         336   \n",
              "5725  Chủ tịch Trần Đình Long ( Giai đoạn thảm qua d...   HPG         977   \n",
              "3000  Tại Hòa Phát nâng tỷ lệ cổ tức mặc cổ đông đán...   HPG         919   \n",
              "2512  Hòa Phát dự kiến khởi công dự án 85000 tỷ quý ...   HPG         452   \n",
              "4957  Công ty lợi nhuận Hòa Phát Sau xây dựng vốn đầ...   HPG         604   \n",
              "5328  Loạt đại gia ngành thép báo 'tin buồn quí đầu ...   HPG        1333   \n",
              "2066  Hòa Phát Formosa đứng mấy giới sản thép Năm 20...   HPG         664   \n",
              "1777  Hòa Phát nộp ngân sách 7400 tỷ đồng nửa đầu nă...   HPG         602   \n",
              "1070  Hòa Phát Tiêu thụ thép xây dựng 2 gấp 2,3 kỳ T...   HPG         534   \n",
              "\n",
              "      Class Count  Encode Label  \n",
              "1781          197           122  \n",
              "7905          197           122  \n",
              "5725          197           122  \n",
              "3000          197           122  \n",
              "2512          197           122  \n",
              "4957          197           122  \n",
              "5328          197           122  \n",
              "2066          197           122  \n",
              "1777          197           122  \n",
              "1070          197           122  "
            ],
            "text/html": [
              "\n",
              "  <div id=\"df-7e72e6cf-8ef0-4fed-bcc4-f6de20fda9c5\">\n",
              "    <div class=\"colab-df-container\">\n",
              "      <div>\n",
              "<style scoped>\n",
              "    .dataframe tbody tr th:only-of-type {\n",
              "        vertical-align: middle;\n",
              "    }\n",
              "\n",
              "    .dataframe tbody tr th {\n",
              "        vertical-align: top;\n",
              "    }\n",
              "\n",
              "    .dataframe thead th {\n",
              "        text-align: right;\n",
              "    }\n",
              "</style>\n",
              "<table border=\"1\" class=\"dataframe\">\n",
              "  <thead>\n",
              "    <tr style=\"text-align: right;\">\n",
              "      <th></th>\n",
              "      <th>Content</th>\n",
              "      <th>Label</th>\n",
              "      <th>Word Count</th>\n",
              "      <th>Class Count</th>\n",
              "      <th>Encode Label</th>\n",
              "    </tr>\n",
              "  </thead>\n",
              "  <tbody>\n",
              "    <tr>\n",
              "      <th>1781</th>\n",
              "      <td>Hòa Phát Lợi nhuận quý IV 59 1,5 tỷ USD Lợi nh...</td>\n",
              "      <td>HPG</td>\n",
              "      <td>675</td>\n",
              "      <td>197</td>\n",
              "      <td>122</td>\n",
              "    </tr>\n",
              "    <tr>\n",
              "      <th>7905</th>\n",
              "      <td>Hòa Phát lãi 4 ngàn tỷ quý 2 60 Quý 2/2022 Tập...</td>\n",
              "      <td>HPG</td>\n",
              "      <td>336</td>\n",
              "      <td>197</td>\n",
              "      <td>122</td>\n",
              "    </tr>\n",
              "    <tr>\n",
              "      <th>5725</th>\n",
              "      <td>Chủ tịch Trần Đình Long ( Giai đoạn thảm qua d...</td>\n",
              "      <td>HPG</td>\n",
              "      <td>977</td>\n",
              "      <td>197</td>\n",
              "      <td>122</td>\n",
              "    </tr>\n",
              "    <tr>\n",
              "      <th>3000</th>\n",
              "      <td>Tại Hòa Phát nâng tỷ lệ cổ tức mặc cổ đông đán...</td>\n",
              "      <td>HPG</td>\n",
              "      <td>919</td>\n",
              "      <td>197</td>\n",
              "      <td>122</td>\n",
              "    </tr>\n",
              "    <tr>\n",
              "      <th>2512</th>\n",
              "      <td>Hòa Phát dự kiến khởi công dự án 85000 tỷ quý ...</td>\n",
              "      <td>HPG</td>\n",
              "      <td>452</td>\n",
              "      <td>197</td>\n",
              "      <td>122</td>\n",
              "    </tr>\n",
              "    <tr>\n",
              "      <th>4957</th>\n",
              "      <td>Công ty lợi nhuận Hòa Phát Sau xây dựng vốn đầ...</td>\n",
              "      <td>HPG</td>\n",
              "      <td>604</td>\n",
              "      <td>197</td>\n",
              "      <td>122</td>\n",
              "    </tr>\n",
              "    <tr>\n",
              "      <th>5328</th>\n",
              "      <td>Loạt đại gia ngành thép báo 'tin buồn quí đầu ...</td>\n",
              "      <td>HPG</td>\n",
              "      <td>1333</td>\n",
              "      <td>197</td>\n",
              "      <td>122</td>\n",
              "    </tr>\n",
              "    <tr>\n",
              "      <th>2066</th>\n",
              "      <td>Hòa Phát Formosa đứng mấy giới sản thép Năm 20...</td>\n",
              "      <td>HPG</td>\n",
              "      <td>664</td>\n",
              "      <td>197</td>\n",
              "      <td>122</td>\n",
              "    </tr>\n",
              "    <tr>\n",
              "      <th>1777</th>\n",
              "      <td>Hòa Phát nộp ngân sách 7400 tỷ đồng nửa đầu nă...</td>\n",
              "      <td>HPG</td>\n",
              "      <td>602</td>\n",
              "      <td>197</td>\n",
              "      <td>122</td>\n",
              "    </tr>\n",
              "    <tr>\n",
              "      <th>1070</th>\n",
              "      <td>Hòa Phát Tiêu thụ thép xây dựng 2 gấp 2,3 kỳ T...</td>\n",
              "      <td>HPG</td>\n",
              "      <td>534</td>\n",
              "      <td>197</td>\n",
              "      <td>122</td>\n",
              "    </tr>\n",
              "  </tbody>\n",
              "</table>\n",
              "</div>\n",
              "      <button class=\"colab-df-convert\" onclick=\"convertToInteractive('df-7e72e6cf-8ef0-4fed-bcc4-f6de20fda9c5')\"\n",
              "              title=\"Convert this dataframe to an interactive table.\"\n",
              "              style=\"display:none;\">\n",
              "        \n",
              "  <svg xmlns=\"http://www.w3.org/2000/svg\" height=\"24px\"viewBox=\"0 0 24 24\"\n",
              "       width=\"24px\">\n",
              "    <path d=\"M0 0h24v24H0V0z\" fill=\"none\"/>\n",
              "    <path d=\"M18.56 5.44l.94 2.06.94-2.06 2.06-.94-2.06-.94-.94-2.06-.94 2.06-2.06.94zm-11 1L8.5 8.5l.94-2.06 2.06-.94-2.06-.94L8.5 2.5l-.94 2.06-2.06.94zm10 10l.94 2.06.94-2.06 2.06-.94-2.06-.94-.94-2.06-.94 2.06-2.06.94z\"/><path d=\"M17.41 7.96l-1.37-1.37c-.4-.4-.92-.59-1.43-.59-.52 0-1.04.2-1.43.59L10.3 9.45l-7.72 7.72c-.78.78-.78 2.05 0 2.83L4 21.41c.39.39.9.59 1.41.59.51 0 1.02-.2 1.41-.59l7.78-7.78 2.81-2.81c.8-.78.8-2.07 0-2.86zM5.41 20L4 18.59l7.72-7.72 1.47 1.35L5.41 20z\"/>\n",
              "  </svg>\n",
              "      </button>\n",
              "      \n",
              "  <style>\n",
              "    .colab-df-container {\n",
              "      display:flex;\n",
              "      flex-wrap:wrap;\n",
              "      gap: 12px;\n",
              "    }\n",
              "\n",
              "    .colab-df-convert {\n",
              "      background-color: #E8F0FE;\n",
              "      border: none;\n",
              "      border-radius: 50%;\n",
              "      cursor: pointer;\n",
              "      display: none;\n",
              "      fill: #1967D2;\n",
              "      height: 32px;\n",
              "      padding: 0 0 0 0;\n",
              "      width: 32px;\n",
              "    }\n",
              "\n",
              "    .colab-df-convert:hover {\n",
              "      background-color: #E2EBFA;\n",
              "      box-shadow: 0px 1px 2px rgba(60, 64, 67, 0.3), 0px 1px 3px 1px rgba(60, 64, 67, 0.15);\n",
              "      fill: #174EA6;\n",
              "    }\n",
              "\n",
              "    [theme=dark] .colab-df-convert {\n",
              "      background-color: #3B4455;\n",
              "      fill: #D2E3FC;\n",
              "    }\n",
              "\n",
              "    [theme=dark] .colab-df-convert:hover {\n",
              "      background-color: #434B5C;\n",
              "      box-shadow: 0px 1px 3px 1px rgba(0, 0, 0, 0.15);\n",
              "      filter: drop-shadow(0px 1px 2px rgba(0, 0, 0, 0.3));\n",
              "      fill: #FFFFFF;\n",
              "    }\n",
              "  </style>\n",
              "\n",
              "      <script>\n",
              "        const buttonEl =\n",
              "          document.querySelector('#df-7e72e6cf-8ef0-4fed-bcc4-f6de20fda9c5 button.colab-df-convert');\n",
              "        buttonEl.style.display =\n",
              "          google.colab.kernel.accessAllowed ? 'block' : 'none';\n",
              "\n",
              "        async function convertToInteractive(key) {\n",
              "          const element = document.querySelector('#df-7e72e6cf-8ef0-4fed-bcc4-f6de20fda9c5');\n",
              "          const dataTable =\n",
              "            await google.colab.kernel.invokeFunction('convertToInteractive',\n",
              "                                                     [key], {});\n",
              "          if (!dataTable) return;\n",
              "\n",
              "          const docLinkHtml = 'Like what you see? Visit the ' +\n",
              "            '<a target=\"_blank\" href=https://colab.research.google.com/notebooks/data_table.ipynb>data table notebook</a>'\n",
              "            + ' to learn more about interactive tables.';\n",
              "          element.innerHTML = '';\n",
              "          dataTable['output_type'] = 'display_data';\n",
              "          await google.colab.output.renderOutput(dataTable, element);\n",
              "          const docLink = document.createElement('div');\n",
              "          docLink.innerHTML = docLinkHtml;\n",
              "          element.appendChild(docLink);\n",
              "        }\n",
              "      </script>\n",
              "    </div>\n",
              "  </div>\n",
              "  "
            ]
          },
          "metadata": {},
          "execution_count": 102
        }
      ],
      "source": [
        "e_df['Encode Label'] = labels\n",
        "e_df.head(10)"
      ]
    },
    {
      "cell_type": "markdown",
      "metadata": {
        "id": "pfz_FReFILAS"
      },
      "source": [
        "## Split trainset valset"
      ]
    },
    {
      "cell_type": "code",
      "execution_count": 103,
      "metadata": {
        "id": "A0KrtT5JHvuP"
      },
      "outputs": [],
      "source": [
        "y = e_df['Encode Label']"
      ]
    },
    {
      "cell_type": "code",
      "execution_count": 104,
      "metadata": {
        "id": "Z8LKnxN4IOJJ"
      },
      "outputs": [],
      "source": [
        "trainset, valset = train_test_split(e_df, test_size=0.2, stratify=y, random_state=42)"
      ]
    },
    {
      "cell_type": "markdown",
      "metadata": {
        "id": "_R14rC6nZDVO"
      },
      "source": [
        "# Load phoBERT tokenizer"
      ]
    },
    {
      "cell_type": "code",
      "execution_count": 105,
      "metadata": {
        "colab": {
          "base_uri": "https://localhost:8080/"
        },
        "id": "7B_rRMMoZGUT",
        "outputId": "5655b8b9-414f-480e-8606-d9fcb17ca28c"
      },
      "outputs": [
        {
          "output_type": "stream",
          "name": "stderr",
          "text": [
            "Special tokens have been added in the vocabulary, make sure the associated word embeddings are fine-tuned or trained.\n"
          ]
        }
      ],
      "source": [
        "# Load pre-trained tokenizer\n",
        "tokenizer = AutoTokenizer.from_pretrained(\"vinai/phobert-base-v2\", use_fast=False)"
      ]
    },
    {
      "cell_type": "code",
      "execution_count": 106,
      "metadata": {
        "colab": {
          "base_uri": "https://localhost:8080/"
        },
        "id": "_goEc8618VXw",
        "outputId": "59504006-73f5-48b4-ce69-791636ff1237"
      },
      "outputs": [
        {
          "output_type": "stream",
          "name": "stdout",
          "text": [
            "[0, 675, 6745, 313, 294, 1276, 2136, 2260, 2]\n",
            "[0, 675, 6892, 313, 294, 1529, 57202, 2]\n"
          ]
        }
      ],
      "source": [
        "text = \"công tyNếu tính GJK\"\n",
        "print(tokenizer.encode(text))\n",
        "text = \"công ty Nếu tính gjk\"\n",
        "print(tokenizer.encode(text))"
      ]
    },
    {
      "cell_type": "markdown",
      "metadata": {
        "id": "dtdcZMIXyWP1"
      },
      "source": [
        "# Hyperparameters\n"
      ]
    },
    {
      "cell_type": "code",
      "execution_count": 107,
      "metadata": {
        "id": "ylRDFeY_ZB3G"
      },
      "outputs": [],
      "source": [
        "MAX_LENGTH = 256  # Adjust as needed\n",
        "BATCH_SIZE = 32\n",
        "N_CLASSES = number_of_classes  # Replace with your actual number of classes\n",
        "EPOCHS = 30"
      ]
    },
    {
      "cell_type": "markdown",
      "source": [
        "# ArticleDataset Class"
      ],
      "metadata": {
        "id": "lbrjz_3qzQTy"
      }
    },
    {
      "cell_type": "code",
      "source": [
        "class ArticleDataset(Dataset):\n",
        "    def __init__(self, data, labels, tokenizer, max_length=256):\n",
        "        self.data = data\n",
        "        self.labels = labels\n",
        "        self.tokenizer = tokenizer\n",
        "        self.max_length = max_length\n",
        "\n",
        "    def __len__(self):\n",
        "        return len(self.data)\n",
        "\n",
        "    def __getitem__(self, idx):\n",
        "        item = self.data.iloc[idx]\n",
        "        label = item.get('Encode Label')\n",
        "        encoding = self.tokenizer.encode_plus(\n",
        "            text=item.Content,\n",
        "            add_special_tokens=True,\n",
        "            max_length=self.max_length,\n",
        "            padding='max_length',\n",
        "            truncation=True,\n",
        "            return_attention_mask=True,\n",
        "            return_tensors='pt',\n",
        "        )\n",
        "        # labels_tensor = torch.FloatTensor(label)\n",
        "        # print(label)\n",
        "        return {\n",
        "            'content': item.Content,\n",
        "            'input_ids':encoding['input_ids'].flatten(),\n",
        "            'attention_mask': encoding['attention_mask'].flatten(),\n",
        "            'labels': torch.tensor(label, dtype=torch.long)\n",
        "        }\n",
        "\n"
      ],
      "metadata": {
        "id": "ffAub334zaQw"
      },
      "execution_count": 199,
      "outputs": []
    },
    {
      "cell_type": "code",
      "source": [
        "x = torch.tensor([1, 2, 3, 4, 5])\n",
        "print(x.shape)"
      ],
      "metadata": {
        "colab": {
          "base_uri": "https://localhost:8080/"
        },
        "id": "LAcDCSbWqam4",
        "outputId": "a89f949d-8220-4d67-9d6a-4ae0e314aab8"
      },
      "execution_count": 65,
      "outputs": [
        {
          "output_type": "stream",
          "name": "stdout",
          "text": [
            "torch.Size([5])\n"
          ]
        }
      ]
    },
    {
      "cell_type": "code",
      "source": [
        "a_ds = ArticleDataset(trainset, labels, tokenizer, MAX_LENGTH)\n",
        "sample_item = a_ds[0]\n",
        "print(len(a_ds))\n",
        "sample_item.keys()\n"
      ],
      "metadata": {
        "colab": {
          "base_uri": "https://localhost:8080/"
        },
        "id": "VHAPMslc5ikj",
        "outputId": "17ebdb6a-b155-42cf-b7af-ddf00cc15ad0"
      },
      "execution_count": 109,
      "outputs": [
        {
          "output_type": "stream",
          "name": "stdout",
          "text": [
            "7377\n"
          ]
        },
        {
          "output_type": "execute_result",
          "data": {
            "text/plain": [
              "dict_keys(['input_ids', 'attention_mask', 'labels'])"
            ]
          },
          "metadata": {},
          "execution_count": 109
        }
      ]
    },
    {
      "cell_type": "code",
      "source": [
        "print(sample_item[\"input_ids\"].shape)\n",
        "print(tokenizer.decode(sample_item['input_ids']))\n",
        "print(sample_item[\"labels\"].shape)\n",
        "print(sample_item[\"labels\"])\n",
        "print(le.inverse_transform([106]))"
      ],
      "metadata": {
        "colab": {
          "base_uri": "https://localhost:8080/"
        },
        "id": "xXkjnobs54UP",
        "outputId": "27b2c4af-a9d3-43f1-e66e-27db4000012a"
      },
      "execution_count": 110,
      "outputs": [
        {
          "output_type": "stream",
          "name": "stdout",
          "text": [
            "torch.Size([256])\n",
            "<s> Hoàng Anh Gia Lai ( Con gái bầu Đức mua 1 triệu cổ phiếu Người thân lãnh đạo báo cáo kết giao dịch cổ phiếu Công ty cổ Hoàng Anh Gia Lai ( HAG – sàn HoSE đó Đoàn Hoàng Anh gái Đoàn Nguyên Đức Chủ tịch HĐQT mua 1 triệu cổ phiếu HAG nâng sở hữu 0,97 1,08 vốn lệ giao dịch thực hiện 24/10Xét hoạt động kinh doanh 6 đầu 2022 Hoàng Anh Gia Lai ghi doanh thu 150,6 kỳ 2030 tỷ đồng lợi nhuận thuế 522,84 tỷ đồng 514,53 tỷ đồng ( kỳ 8,31 tỷ đồng kỳ lợi nhuận gộp 329,8 kỳ tương ứng 357,17 tỷ đồng 465,46 tỷ đồng doanh thu tài 39,6 tương ứng 188,36 tỷ đồng 287,8 tỷ đồng chi phí tài 174,9 tương ứng 675,55 tỷ đồng 1061,79 tỷ đồng chi phí hàng quản lý doanh nghiệp bất ngờ 1003,88 tỷ đồng âm 813,07 tỷ đồng ( kỳ 190,81 tỷ đồng lợi nhuận lỗ 175,44 tỷ đồng ghi lỗ 40,79 tỷ đồng hoạt động biến động kểThực tế lợi nhuận gộp 465,46 tỷ đồng chi phí tài 1061,79 tỷ đồng Trong kỳ Công ty lãi chủ yếu ghi chi phí hàng quản lý doanh nghiệp âmCông ty thuyết minh 6 đầu bất ngờ ghi hoàn nhập </s>\n",
            "torch.Size([])\n",
            "tensor(106)\n",
            "['HAG']\n"
          ]
        }
      ]
    },
    {
      "cell_type": "markdown",
      "metadata": {
        "id": "r4dNQIiL6XaJ"
      },
      "source": [
        "# Pytorch Lightning DataModule"
      ]
    },
    {
      "cell_type": "code",
      "execution_count": 111,
      "metadata": {
        "id": "t_S6YmZv6dBJ"
      },
      "outputs": [],
      "source": [
        "class Data_Module(pl.LightningDataModule):\n",
        "    def __init__(self, trainset, valset, labels, batch_size: int = 32, max_token_length: int = 256, tokenizer=None):\n",
        "      super().__init__()\n",
        "      self.trainset = trainset\n",
        "      self.val_path = valset\n",
        "      self.labels = labels\n",
        "      self.batch_size = batch_size\n",
        "      self.max_token_length = max_token_length\n",
        "      self.tokenizer = tokenizer\n",
        "\n",
        "    def setup(self, stage = None):\n",
        "      if stage in (None, \"fit\"):\n",
        "        self.train_dataset = ArticleDataset(self.trainset, self.labels, self.tokenizer, self.max_token_length)\n",
        "        self.val_dataset = ArticleDataset(self.val_path, self.labels, self.tokenizer, self.max_token_length)\n",
        "      if stage == 'predict':\n",
        "        self.val_dataset = ArticleDataset(self.val_path, self.labels, self.tokenizer, self.max_token_length)\n",
        "\n",
        "    def train_dataloader(self):\n",
        "      return DataLoader(self.train_dataset, batch_size = self.batch_size, num_workers=2, shuffle=True)\n",
        "\n",
        "    def val_dataloader(self):\n",
        "      return DataLoader(self.val_dataset, batch_size = self.batch_size, num_workers=2, shuffle=False)\n",
        "\n",
        "    def predict_dataloader(self):\n",
        "      return DataLoader(self.val_dataset, batch_size = self.batch_size, num_workers=2, shuffle=False)"
      ]
    },
    {
      "cell_type": "markdown",
      "metadata": {
        "id": "8_GghUzA9dYk"
      },
      "source": [
        "# Create PyTorch lightning DataLoader"
      ]
    },
    {
      "cell_type": "code",
      "execution_count": 200,
      "metadata": {
        "id": "9EQkuLqcZR5q",
        "colab": {
          "base_uri": "https://localhost:8080/"
        },
        "outputId": "68cd6d8e-3273-4a69-c1b5-c71064ae2865"
      },
      "outputs": [
        {
          "output_type": "execute_result",
          "data": {
            "text/plain": [
              "231"
            ]
          },
          "metadata": {},
          "execution_count": 200
        }
      ],
      "source": [
        "# Create PyTorch lightning DataLoader\n",
        "data_loader = Data_Module(trainset, valset, labels, BATCH_SIZE, MAX_LENGTH, tokenizer)\n",
        "data_loader.setup()\n",
        "len(data_loader.train_dataloader())"
      ]
    },
    {
      "cell_type": "markdown",
      "metadata": {
        "id": "MXBH2wQtyZqi"
      },
      "source": [
        "# Model architecture"
      ]
    },
    {
      "cell_type": "code",
      "execution_count": 113,
      "metadata": {
        "colab": {
          "base_uri": "https://localhost:8080/",
          "height": 35
        },
        "id": "wLuZ3CjDfn58",
        "outputId": "0ecb2bac-52e3-42be-b9c1-29f9df19a336"
      },
      "outputs": [
        {
          "output_type": "execute_result",
          "data": {
            "text/plain": [
              "'cuda'"
            ],
            "application/vnd.google.colaboratory.intrinsic+json": {
              "type": "string"
            }
          },
          "metadata": {},
          "execution_count": 113
        }
      ],
      "source": [
        "device = \"cuda\" if torch.cuda.is_available() else \"cpu\"\n",
        "device"
      ]
    },
    {
      "cell_type": "code",
      "execution_count": 157,
      "metadata": {
        "id": "WXpnzKDQY2Vp"
      },
      "outputs": [],
      "source": [
        "class ArticleClassifier(pl.LightningModule):\n",
        "    def __init__(self, config: dict, freeze_bert=False):\n",
        "        super().__init__()\n",
        "        self.config = config\n",
        "        self.bert = AutoModel.from_pretrained(config['model_name'], return_dict = True)\n",
        "        if freeze_bert:\n",
        "            for param in self.bert.parameters():\n",
        "                param.requires_grad = False\n",
        "        print(self.bert.config.hidden_size)\n",
        "        self.fc1 = nn.Linear(self.bert.config.hidden_size, 128)  # Adjusted the input size to match the bert's hidden size\n",
        "        self.dropout1 = nn.Dropout(0.2)\n",
        "        self.fc2 = nn.Linear(128, 256)\n",
        "        self.dropout2 = nn.Dropout(0.2)\n",
        "        self.layer_norm = LayerNorm(256)\n",
        "        self.output = nn.Linear(256, self.config['n_labels'])\n",
        "        self.loss = nn.CrossEntropyLoss()\n",
        "\n",
        "\n",
        "\n",
        "    def forward(self, input_ids, attention_mask):\n",
        "        x = self.bert(input_ids, attention_mask).pooler_output\n",
        "        x = F.relu(self.fc1(x))\n",
        "        x = self.dropout1(x)\n",
        "        x = F.relu(self.fc2(x))\n",
        "        x = self.dropout2(x)\n",
        "        x = self.layer_norm(x)\n",
        "        logits = self.output(x)  # Remove softmax activation here\n",
        "        return logits"
      ]
    },
    {
      "cell_type": "markdown",
      "metadata": {
        "id": "17n-Sl-wZYG5"
      },
      "source": [
        "# Initialize Model"
      ]
    },
    {
      "cell_type": "markdown",
      "metadata": {
        "id": "MnnxrRBj2tnd"
      },
      "source": [
        "## Model configuration"
      ]
    },
    {
      "cell_type": "code",
      "execution_count": 131,
      "metadata": {
        "id": "8rhH-JU02wrV"
      },
      "outputs": [],
      "source": [
        "config = {\n",
        "    'model_name': 'vinai/phobert-base-v2',\n",
        "    'n_labels': number_of_classes,\n",
        "    'batch_size': BATCH_SIZE,\n",
        "    'lr': 1e-3,\n",
        "    'warmup': 0.15,\n",
        "    'train_size': len(data_loader.train_dataloader()),\n",
        "    'weight_decay': 0.01,\n",
        "    'n_epochs': 100\n",
        "}"
      ]
    },
    {
      "cell_type": "markdown",
      "metadata": {
        "id": "2Q3dmcBV2zw2"
      },
      "source": [
        "## Create model"
      ]
    },
    {
      "cell_type": "code",
      "execution_count": 158,
      "metadata": {
        "colab": {
          "base_uri": "https://localhost:8080/"
        },
        "id": "J2d9tBNoZdVA",
        "outputId": "ccf6493c-1317-4a6a-965c-2243c166b54e"
      },
      "outputs": [
        {
          "output_type": "stream",
          "name": "stderr",
          "text": [
            "Some weights of the model checkpoint at vinai/phobert-base-v2 were not used when initializing RobertaModel: ['lm_head.layer_norm.weight', 'lm_head.bias', 'lm_head.dense.bias', 'lm_head.layer_norm.bias', 'lm_head.dense.weight']\n",
            "- This IS expected if you are initializing RobertaModel from the checkpoint of a model trained on another task or with another architecture (e.g. initializing a BertForSequenceClassification model from a BertForPreTraining model).\n",
            "- This IS NOT expected if you are initializing RobertaModel from the checkpoint of a model that you expect to be exactly identical (initializing a BertForSequenceClassification model from a BertForSequenceClassification model).\n",
            "Some weights of RobertaModel were not initialized from the model checkpoint at vinai/phobert-base-v2 and are newly initialized: ['roberta.pooler.dense.bias', 'roberta.pooler.dense.weight']\n",
            "You should probably TRAIN this model on a down-stream task to be able to use it for predictions and inference.\n"
          ]
        },
        {
          "output_type": "stream",
          "name": "stdout",
          "text": [
            "768\n"
          ]
        }
      ],
      "source": [
        "# Initialize our classifier\n",
        "model = ArticleClassifier(config, freeze_bert=True)\n",
        "model = model.to(device)"
      ]
    },
    {
      "cell_type": "code",
      "source": [
        "for name, param in model.named_parameters():\n",
        "    print(name, param.requires_grad)"
      ],
      "metadata": {
        "id": "0tn6qKuvMgLL"
      },
      "execution_count": null,
      "outputs": []
    },
    {
      "cell_type": "code",
      "execution_count": 75,
      "metadata": {
        "colab": {
          "base_uri": "https://localhost:8080/"
        },
        "id": "3JCqQ3vLLljF",
        "outputId": "24628b2a-b5e7-4ced-81cb-8e992c2be6bb"
      },
      "outputs": [
        {
          "output_type": "stream",
          "name": "stdout",
          "text": [
            "torch.Size([]) torch.Size([1, 350])\n"
          ]
        }
      ],
      "source": [
        "idx=0\n",
        "input_ids_ = a_ds.__getitem__(idx)['input_ids']\n",
        "attention_mask_ = a_ds.__getitem__(idx)['attention_mask']\n",
        "labels_ = a_ds.__getitem__(idx)['labels']\n",
        "model.cpu()\n",
        "output = model(input_ids_.unsqueeze(dim=0), attention_mask_.unsqueeze(dim=0))\n",
        "print(labels_.shape, output.shape)"
      ]
    },
    {
      "cell_type": "code",
      "source": [
        "test_batch = next(iter(data_loader.train_dataloader()))\n",
        "test_batch_input_ids = test_batch['input_ids']\n",
        "print(test_batch_input_ids.shape)\n",
        "output = model(test_batch['input_ids'], test_batch['attention_mask'])\n",
        "print(labels_.shape, output.shape)"
      ],
      "metadata": {
        "colab": {
          "base_uri": "https://localhost:8080/"
        },
        "id": "25S47zkl_Suq",
        "outputId": "abc75f59-4276-4009-f9be-7b8e1a11243f"
      },
      "execution_count": 76,
      "outputs": [
        {
          "output_type": "stream",
          "name": "stdout",
          "text": [
            "torch.Size([32, 256])\n",
            "torch.Size([]) torch.Size([32, 350])\n"
          ]
        }
      ]
    },
    {
      "cell_type": "code",
      "source": [
        "test_batch_labels = test_batch['labels']\n",
        "test_batch_labels.shape"
      ],
      "metadata": {
        "colab": {
          "base_uri": "https://localhost:8080/"
        },
        "id": "O4ooIT76D762",
        "outputId": "edeb28e9-0c25-4593-ee45-87fd9d627b46"
      },
      "execution_count": 77,
      "outputs": [
        {
          "output_type": "execute_result",
          "data": {
            "text/plain": [
              "torch.Size([32])"
            ]
          },
          "metadata": {},
          "execution_count": 77
        }
      ]
    },
    {
      "cell_type": "markdown",
      "source": [
        "# Model Summary"
      ],
      "metadata": {
        "id": "YE0eEL3_i9jm"
      }
    },
    {
      "cell_type": "code",
      "source": [
        "summary(model)"
      ],
      "metadata": {
        "colab": {
          "base_uri": "https://localhost:8080/"
        },
        "id": "43gS_CLwjAEU",
        "outputId": "0ede0f4b-1d98-4546-f91d-18e01c727350"
      },
      "execution_count": 133,
      "outputs": [
        {
          "output_type": "execute_result",
          "data": {
            "text/plain": [
              "=====================================================================================\n",
              "Layer (type:depth-idx)                                       Param #\n",
              "=====================================================================================\n",
              "ArticleClassifier                                            --\n",
              "├─RobertaModel: 1-1                                          --\n",
              "│    └─RobertaEmbeddings: 2-1                                --\n",
              "│    │    └─Embedding: 3-1                                   (49,152,768)\n",
              "│    │    └─Embedding: 3-2                                   (198,144)\n",
              "│    │    └─Embedding: 3-3                                   (768)\n",
              "│    │    └─LayerNorm: 3-4                                   (1,536)\n",
              "│    │    └─Dropout: 3-5                                     --\n",
              "│    └─RobertaEncoder: 2-2                                   --\n",
              "│    │    └─ModuleList: 3-6                                  (85,054,464)\n",
              "│    └─RobertaPooler: 2-3                                    --\n",
              "│    │    └─Linear: 3-7                                      (590,592)\n",
              "│    │    └─Tanh: 3-8                                        --\n",
              "├─Linear: 1-2                                                98,432\n",
              "├─Dropout: 1-3                                               --\n",
              "├─Linear: 1-4                                                33,024\n",
              "├─Linear: 1-5                                                65,792\n",
              "├─Linear: 1-6                                                65,792\n",
              "├─LayerNorm: 1-7                                             512\n",
              "├─Linear: 1-8                                                89,950\n",
              "├─CrossEntropyLoss: 1-9                                      --\n",
              "=====================================================================================\n",
              "Total params: 135,351,774\n",
              "Trainable params: 353,502\n",
              "Non-trainable params: 134,998,272\n",
              "====================================================================================="
            ]
          },
          "metadata": {},
          "execution_count": 133
        }
      ]
    },
    {
      "cell_type": "markdown",
      "metadata": {
        "id": "43JH6zpgZlsp"
      },
      "source": [
        "\n",
        "# Train Model"
      ]
    },
    {
      "cell_type": "code",
      "execution_count": 154,
      "metadata": {
        "id": "HFHQxP6T5B8T"
      },
      "outputs": [],
      "source": [
        "def train_model(model, data_loader, config):\n",
        "    model = model.to(device)\n",
        "    optimizer = torch.optim.AdamW(model.parameters(), lr=config['lr'], weight_decay=config['weight_decay'])\n",
        "\n",
        "    total_steps = config['train_size']/config['batch_size']\n",
        "    warmup_steps = math.floor(total_steps * config['warmup'])\n",
        "    scheduler = get_cosine_schedule_with_warmup(optimizer, warmup_steps, total_steps)\n",
        "\n",
        "    best_valid_loss = float('inf')\n",
        "    early_stopping_counter = 0\n",
        "    early_stopping_limit = 5  # Number of epochs with no improvement after which training will be stopped\n",
        "    model_path = 'best_model.pt'  # path where best model will be saved\n",
        "\n",
        "    progress_bar = tqdm(range(config['n_epochs']), desc=\"Training\", total=config['n_epochs'])\n",
        "\n",
        "    for epoch in progress_bar:\n",
        "        start_time = time.time()  # start time of the epoch\n",
        "\n",
        "        model.train()\n",
        "        total_loss = 0\n",
        "\n",
        "        train_predictions , train_true_labels = [], []\n",
        "\n",
        "        for batch in data_loader.train_dataloader():\n",
        "            optimizer.zero_grad()\n",
        "\n",
        "            input_ids = batch[\"input_ids\"].to(device)\n",
        "            attention_mask = batch[\"attention_mask\"].to(device)\n",
        "            labels = batch[\"labels\"].to(device)\n",
        "\n",
        "            logits = model(input_ids, attention_mask)\n",
        "\n",
        "            loss = model.loss(logits, labels)\n",
        "            total_loss += loss.item()\n",
        "\n",
        "            logits = logits.detach().cpu().numpy()\n",
        "            labels = labels.to('cpu').numpy()\n",
        "\n",
        "            # Store train predictions and true labels for accuracy calculation\n",
        "            train_predictions.append(logits)\n",
        "            train_true_labels.append(labels)\n",
        "\n",
        "            loss.backward()\n",
        "            optimizer.step()\n",
        "            scheduler.step()\n",
        "\n",
        "        avg_train_loss = total_loss / len(data_loader.train_dataloader())\n",
        "\n",
        "        # Calculate training accuracy\n",
        "        train_predictions = np.concatenate(train_predictions, axis=0)\n",
        "        train_true_labels = np.concatenate(train_true_labels, axis=0)\n",
        "        train_accuracy = accuracy_score(train_true_labels, np.argmax(train_predictions, axis=1))\n",
        "\n",
        "        # Start the validation\n",
        "        model.eval()\n",
        "\n",
        "        predictions , true_labels = [], []\n",
        "        total_eval_loss = 0\n",
        "\n",
        "        for batch in data_loader.val_dataloader():\n",
        "            input_ids = batch[\"input_ids\"].to(device)\n",
        "            attention_mask = batch[\"attention_mask\"].to(device)\n",
        "            labels = batch[\"labels\"].to(device)\n",
        "\n",
        "            with torch.no_grad():\n",
        "                logits = model(input_ids, attention_mask)\n",
        "\n",
        "            loss = model.loss(logits, labels)\n",
        "            total_eval_loss += loss.item()\n",
        "\n",
        "            # Move logits and labels to CPU\n",
        "            logits = logits.detach().cpu().numpy()\n",
        "            labels = labels.to('cpu').numpy()\n",
        "\n",
        "            # Store predictions and true labels\n",
        "            predictions.append(logits)\n",
        "            true_labels.append(labels)\n",
        "\n",
        "        # Calculate the average loss over all of the batches\n",
        "        avg_val_loss = total_eval_loss / len(data_loader.val_dataloader())\n",
        "\n",
        "        # Calculate validation accuracy\n",
        "        predictions = np.concatenate(predictions, axis=0)\n",
        "        true_labels = np.concatenate(true_labels, axis=0)\n",
        "        val_accuracy = accuracy_score(true_labels, np.argmax(predictions, axis=1))\n",
        "\n",
        "        end_time = time.time()  # end time of the epoch\n",
        "        epoch_mins, epoch_secs = divmod(end_time - start_time, 60)  # calculate elapsed time for this epoch\n",
        "\n",
        "        # Print additional information after each epoch\n",
        "        print(f'\\nEpoch: {epoch+1:02} | Time: {epoch_mins}m {epoch_secs}s')\n",
        "        print(f'\\tTrain Loss: {avg_train_loss:.3f} | Train Acc: {train_accuracy*100:.2f}% | Valid Loss: {avg_val_loss:.3f} | Valid Acc: {val_accuracy*100:.2f}%')\n",
        "\n",
        "        # Update progress bar\n",
        "        progress_bar.set_postfix({'train_loss': avg_train_loss, 'valid_loss': avg_val_loss, 'valid_acc': val_accuracy, 'train_acc': train_accuracy})\n",
        "\n",
        "        # save model if validation loss has decreased\n",
        "        if avg_val_loss < best_valid_loss:\n",
        "            best_valid_loss = avg_val_loss\n",
        "            torch.save(model.state_dict(), model_path)\n",
        "            early_stopping_counter = 0  # reset counter\n",
        "        else:\n",
        "            early_stopping_counter += 1\n",
        "            if early_stopping_counter >= early_stopping_limit:\n",
        "                print(f'EarlyStopping counter: {early_stopping_counter} out of {early_stopping_limit}')\n",
        "                if early_stopping_counter >= early_stopping_limit:\n",
        "                    print('Early stopping, stopping training')\n",
        "                    break  # break out from the training loop\n"
      ]
    },
    {
      "cell_type": "code",
      "source": [
        "train_model(model, data_loader, config)"
      ],
      "metadata": {
        "colab": {
          "base_uri": "https://localhost:8080/",
          "height": 1000,
          "referenced_widgets": [
            "215515780fa64a488d2c343a53173d10",
            "8b47f547ed784ae9b5f12f8b297d7235",
            "01fb9361474d42ea913c4946d0bdb9b2",
            "bcaedb6d2d2749eba634ed840e8181f2",
            "70ea38d181cf4717a0128dbf77a3435d",
            "d4c14e7508334eb495400551ebbe9494",
            "17184e2cb7b04407ad997fdc8c12f397",
            "4e358f5261974e4499ae6af778734183",
            "d4e61fbee1234177a24a75958f126fe2",
            "a98330245a5240e5b8c6a0b10c5d5b4e",
            "3ba5f313ece64cc5b45d6d670cae540b"
          ]
        },
        "id": "ttWZjMEVOWlU",
        "outputId": "9ba55e23-b437-4ccb-ba97-1cdfe926f741"
      },
      "execution_count": 159,
      "outputs": [
        {
          "output_type": "display_data",
          "data": {
            "text/plain": [
              "Training:   0%|          | 0/100 [00:00<?, ?it/s]"
            ],
            "application/vnd.jupyter.widget-view+json": {
              "version_major": 2,
              "version_minor": 0,
              "model_id": "215515780fa64a488d2c343a53173d10"
            }
          },
          "metadata": {}
        },
        {
          "output_type": "stream",
          "name": "stdout",
          "text": [
            "\n",
            "Epoch: 01 | Time: 0.0m 31.50089168548584s\n",
            "\tTrain Loss: 5.594 | Train Acc: 2.35% | Valid Loss: 5.338 | Valid Acc: 5.15%\n",
            "\n",
            "Epoch: 02 | Time: 0.0m 31.54710054397583s\n",
            "\tTrain Loss: 5.267 | Train Acc: 6.36% | Valid Loss: 4.799 | Valid Acc: 11.82%\n",
            "\n",
            "Epoch: 03 | Time: 0.0m 31.48451066017151s\n",
            "\tTrain Loss: 4.815 | Train Acc: 11.13% | Valid Loss: 4.261 | Valid Acc: 18.21%\n",
            "\n",
            "Epoch: 04 | Time: 0.0m 31.478853702545166s\n",
            "\tTrain Loss: 4.415 | Train Acc: 14.78% | Valid Loss: 3.888 | Valid Acc: 22.01%\n",
            "\n",
            "Epoch: 05 | Time: 0.0m 31.500909090042114s\n",
            "\tTrain Loss: 4.132 | Train Acc: 18.31% | Valid Loss: 3.546 | Valid Acc: 25.58%\n",
            "\n",
            "Epoch: 06 | Time: 0.0m 31.46868109703064s\n",
            "\tTrain Loss: 3.957 | Train Acc: 20.62% | Valid Loss: 3.437 | Valid Acc: 28.83%\n",
            "\n",
            "Epoch: 07 | Time: 0.0m 31.48948860168457s\n",
            "\tTrain Loss: 3.842 | Train Acc: 21.69% | Valid Loss: 3.072 | Valid Acc: 33.98%\n",
            "\n",
            "Epoch: 08 | Time: 0.0m 31.486586332321167s\n",
            "\tTrain Loss: 3.730 | Train Acc: 22.90% | Valid Loss: 3.056 | Valid Acc: 33.60%\n",
            "\n",
            "Epoch: 09 | Time: 0.0m 31.49727201461792s\n",
            "\tTrain Loss: 3.565 | Train Acc: 25.43% | Valid Loss: 2.862 | Valid Acc: 37.02%\n",
            "\n",
            "Epoch: 10 | Time: 0.0m 31.47693181037903s\n",
            "\tTrain Loss: 3.453 | Train Acc: 27.21% | Valid Loss: 2.854 | Valid Acc: 38.70%\n",
            "\n",
            "Epoch: 11 | Time: 0.0m 31.48186469078064s\n",
            "\tTrain Loss: 3.401 | Train Acc: 28.39% | Valid Loss: 2.558 | Valid Acc: 42.82%\n",
            "\n",
            "Epoch: 12 | Time: 0.0m 31.490039348602295s\n",
            "\tTrain Loss: 3.280 | Train Acc: 29.69% | Valid Loss: 2.537 | Valid Acc: 42.44%\n",
            "\n",
            "Epoch: 13 | Time: 0.0m 31.47574520111084s\n",
            "\tTrain Loss: 3.271 | Train Acc: 29.50% | Valid Loss: 2.519 | Valid Acc: 43.69%\n",
            "\n",
            "Epoch: 14 | Time: 0.0m 31.510535717010498s\n",
            "\tTrain Loss: 3.175 | Train Acc: 31.29% | Valid Loss: 2.401 | Valid Acc: 44.82%\n",
            "\n",
            "Epoch: 15 | Time: 0.0m 31.552536964416504s\n",
            "\tTrain Loss: 3.127 | Train Acc: 31.82% | Valid Loss: 2.356 | Valid Acc: 46.88%\n",
            "\n",
            "Epoch: 16 | Time: 0.0m 31.536736488342285s\n",
            "\tTrain Loss: 3.073 | Train Acc: 32.51% | Valid Loss: 2.269 | Valid Acc: 48.35%\n",
            "\n",
            "Epoch: 17 | Time: 0.0m 31.508293628692627s\n",
            "\tTrain Loss: 3.039 | Train Acc: 32.80% | Valid Loss: 2.359 | Valid Acc: 46.18%\n",
            "\n",
            "Epoch: 18 | Time: 0.0m 31.555086851119995s\n",
            "\tTrain Loss: 3.015 | Train Acc: 33.16% | Valid Loss: 2.281 | Valid Acc: 48.73%\n",
            "\n",
            "Epoch: 19 | Time: 0.0m 31.543972730636597s\n",
            "\tTrain Loss: 2.983 | Train Acc: 33.82% | Valid Loss: 2.285 | Valid Acc: 47.86%\n",
            "\n",
            "Epoch: 20 | Time: 0.0m 31.574883937835693s\n",
            "\tTrain Loss: 2.945 | Train Acc: 34.44% | Valid Loss: 2.169 | Valid Acc: 51.44%\n",
            "\n",
            "Epoch: 21 | Time: 0.0m 31.517215490341187s\n",
            "\tTrain Loss: 2.915 | Train Acc: 35.18% | Valid Loss: 2.109 | Valid Acc: 50.79%\n",
            "\n",
            "Epoch: 22 | Time: 0.0m 31.49724245071411s\n",
            "\tTrain Loss: 2.819 | Train Acc: 36.38% | Valid Loss: 2.114 | Valid Acc: 51.82%\n",
            "\n",
            "Epoch: 23 | Time: 0.0m 31.5408616065979s\n",
            "\tTrain Loss: 2.819 | Train Acc: 36.33% | Valid Loss: 2.083 | Valid Acc: 51.92%\n",
            "\n",
            "Epoch: 24 | Time: 0.0m 31.534510850906372s\n",
            "\tTrain Loss: 2.818 | Train Acc: 36.53% | Valid Loss: 2.249 | Valid Acc: 47.97%\n",
            "\n",
            "Epoch: 25 | Time: 0.0m 31.47456407546997s\n",
            "\tTrain Loss: 2.809 | Train Acc: 37.35% | Valid Loss: 2.179 | Valid Acc: 48.89%\n",
            "\n",
            "Epoch: 26 | Time: 0.0m 31.538479804992676s\n",
            "\tTrain Loss: 2.727 | Train Acc: 37.48% | Valid Loss: 2.042 | Valid Acc: 53.33%\n",
            "\n",
            "Epoch: 27 | Time: 0.0m 31.492405891418457s\n",
            "\tTrain Loss: 2.754 | Train Acc: 37.64% | Valid Loss: 1.977 | Valid Acc: 54.53%\n",
            "\n",
            "Epoch: 28 | Time: 0.0m 31.481312036514282s\n",
            "\tTrain Loss: 2.708 | Train Acc: 38.54% | Valid Loss: 1.977 | Valid Acc: 54.53%\n",
            "\n",
            "Epoch: 29 | Time: 0.0m 31.454745054244995s\n",
            "\tTrain Loss: 2.670 | Train Acc: 38.81% | Valid Loss: 2.098 | Valid Acc: 52.74%\n",
            "\n",
            "Epoch: 30 | Time: 0.0m 31.45854640007019s\n",
            "\tTrain Loss: 2.687 | Train Acc: 38.23% | Valid Loss: 1.997 | Valid Acc: 53.88%\n",
            "\n",
            "Epoch: 31 | Time: 0.0m 31.500304698944092s\n",
            "\tTrain Loss: 2.628 | Train Acc: 39.92% | Valid Loss: 2.063 | Valid Acc: 52.74%\n",
            "\n",
            "Epoch: 32 | Time: 0.0m 31.45730209350586s\n",
            "\tTrain Loss: 2.691 | Train Acc: 38.92% | Valid Loss: 2.004 | Valid Acc: 52.90%\n",
            "\n",
            "Epoch: 33 | Time: 0.0m 31.464630842208862s\n",
            "\tTrain Loss: 2.635 | Train Acc: 39.03% | Valid Loss: 2.000 | Valid Acc: 53.50%\n",
            "EarlyStopping counter: 5 out of 5\n",
            "Early stopping, stopping training\n"
          ]
        }
      ]
    },
    {
      "cell_type": "markdown",
      "source": [
        "# Predict"
      ],
      "metadata": {
        "id": "dAODWzVvBMw_"
      }
    },
    {
      "cell_type": "code",
      "source": [
        "def load_model(model, model_path):\n",
        "    model.load_state_dict(torch.load(model_path))\n",
        "    model.eval()\n",
        "    return model"
      ],
      "metadata": {
        "id": "AwsYvj063s39"
      },
      "execution_count": 162,
      "outputs": []
    },
    {
      "cell_type": "code",
      "source": [
        "def test_model(model, data_loader):\n",
        "    # model.load_state_dict(torch.load('best_model.pt'))\n",
        "    model.eval()\n",
        "\n",
        "    predictions, true_labels = [], []\n",
        "    cnt = 0\n",
        "    for batch in data_loader.val_dataloader():\n",
        "        input_ids = batch[\"input_ids\"].to(device)\n",
        "        attention_mask = batch[\"attention_mask\"].to(device)\n",
        "        labels = batch[\"labels\"].to(device)\n",
        "\n",
        "        with torch.no_grad():\n",
        "            logits = model(input_ids, attention_mask)\n",
        "\n",
        "        logits = logits.detach().cpu().numpy()\n",
        "        labels = labels.to('cpu').numpy()\n",
        "\n",
        "        # Store predictions and true labels\n",
        "        predictions.append(logits)\n",
        "        true_labels.append(labels)\n",
        "        if cnt < 1:\n",
        "          for i in range(BATCH_SIZE):\n",
        "            print(f\"Content: {batch['content'][i]}\")\n",
        "            print(f\"Predicted Label: {le.inverse_transform([np.argmax(logits, axis=1)[i]])}\")\n",
        "            print(f\"True Label: {le.inverse_transform([labels[i]])}\")\n",
        "            print(\"========================================\")\n",
        "\n",
        "        cnt += 1\n",
        "\n",
        "    predictions = np.concatenate(predictions, axis=0)\n",
        "    true_labels = np.concatenate(true_labels, axis=0)\n",
        "\n",
        "    # Calculate accuracy\n",
        "    test_accuracy = accuracy_score(true_labels, np.argmax(predictions, axis=1))\n",
        "\n",
        "    print(f'Test Accuracy: {test_accuracy}')\n",
        "\n",
        "    return test_accuracy"
      ],
      "metadata": {
        "id": "Wn5qx4-hBQMi"
      },
      "execution_count": 212,
      "outputs": []
    },
    {
      "cell_type": "code",
      "source": [
        "test_model(model, data_loader)"
      ],
      "metadata": {
        "colab": {
          "base_uri": "https://localhost:8080/"
        },
        "id": "QIYf-rb2B02n",
        "outputId": "1483dace-0fad-40d3-d8dd-eb91a27617df"
      },
      "execution_count": 213,
      "outputs": [
        {
          "output_type": "stream",
          "name": "stdout",
          "text": [
            "Content: Lợi nhuận doanh nghiệp ngành gạo tiếp tục phân hoá quý III Một doanh nghiệp ngành gạo quý III ghi trưởng doanh thu lợi nhuận song doanh nghiệp báo lãi sâu chí thua lỗ Kết thúc quý III/2022 kết kinh doanh doanh nghiệp ngành gạo tiếp diễn phân hóa quý Một doanh nghiệp lãi đậm Tập đoàn Lộc Trời Nông sản thực phẩm An Giang đơn vị ghi khoản lợi nhuận khiêm tốn chí thua lỗ Ở doanh nghiệp trưởng Công ty CP Tập đoàn Lộc Trời ( LTG ghi doanh thu 2736 tỷ đồng 37 kỳ Lợi nhuận thuế 64 tỷ đồng gấp đôi quý III ngoái Sau 9 tháng doanh thu công ty 8629 tỷ đồng 21 kỳ Trong đó doanh thu lương thực chiếm đa 57 tương đương 5025 tỷ đồng Dù vậy lợi nhuận thuế Lộc Trời ghi sụt 23 9 đầu ngoái 203 tỷ đồng Năm 2022 Lộc Trời mục tiêu lợi nhuận thuế 400 tỷ đồng Sau 9 tháng Tập đoàn thực hiện 51 kế hoạch lợi nhuận Một doanh nghiệp ghi tín hiệu kinh doanh khả quan quý III Công ty CP Xuất nhập khẩu Nông sản Thực phẩm An Giang ( AFX Doanh thu hợp công ty 366 tỷ đồng gấp 2 kỳ lãi thuế 9 tỷ đồng gấp 12 quý III/2021 ( triệu đồng Lũy kế 9 tháng doanh thu Nông sản Thực phẩm An Giang 91 989 tỷ đồng lợi nhuận thuế 27 tỷ đồng gấp 6,8 kỳ ngoái Ban lãnh đạo công ty tình hình hoạt động sản xuất kinh doanh kỳ đà khôi phục ảnh hưởng dịch bệnh COVID-19 hai 2020 2021 Lợi nhuận gộp hàng trưởng kỳ trước đồng thời công ty cấu khoản đầu tư tài hiệu kinh doanh công ty Trái ngược mảng tranh kinh doanh quý III ngành gạo Công ty CP Nông nghiệp Công nghệ Trung An ( TAR ghi doanh thu 500 tỷ đồng 31 lợi nhuận thuế 2 tỷ đồng 95 kỳ Lũy kế 9 đầu năm Trung An ghi doanh thu 2222 tỷ đồng doanh thu thuần 14 lợi nhuận thuế 52 tỷ đồng 9 Năm 2022 công ty mục tiêu doanh thu 3500 tỷ đồng lợi nhuận thuế 110 tỷ đồng Kết thúc quý Trung An thực hiện 63 mục tiêu doanh thu 47 kế hoạch lợi nhuận Với công ty CP Tập đoàn Giống trồng Việt Nam ( Mã NSC doanh thu quý III 307 tỷ đồng 24 quý III/2021 Sau trừ chi phí Vinaseed báo lãi 28 tỷ đồng 18 kỳ Tuy nhiên lũy kế 9 đầu năm công ty thu 1202 tỷ đồng doanh thu 2 kỳ Lợi nhuận thuế 152 tỷ đồng 14 2021 9 đầu năm công ty hoàn thành 56 kế hoạch doanh thu 58 lợi nhuận thuế Trong đó Công ty CP Xuất nhập khẩu An Giang ( AGM rơi cảnh thua lỗ doanh thu quý III 710 tỷ đồng 45 kỳ doanh nghiệp lỗ 29 tỷ đồng Lũy kế 9 2022 công ty ghi doanh thu 33 3092 tỷ đồng lỗ 35 tỷ đồng kỳ ngoái lãi 18 tỷ đồng Năm 2022 Xuất nhập khẩu An Giang mục tiêu doanh thu 3929 tỷ đồng lợi nhuận thuế 25 tỷ đồng Như 9 tháng công ty thực hiện 79 doanh thu mục tiêu lãi Riêng Tổng Công ty Lương thực Miền Nam ( VSF doanh nghiệp lãi 265 triệu đồng kỳ ngoái lỗ 97 tỷ đồng Doanh thu 3652 tỷ đồng 14 kỳ Lũy kế 9 đầu 2022 doanh thu Tổng Công ty Lương thực Miền Nam 10830 tỷ đồng 13 Tổng công ty lãi thuế 5,1 tỷ đồng kỳ ngoái lỗ 248 tỷ đồng Kết thúc quý Tổng Công ty Lương thực Miền Nam thực hiện 70 mục tiêu doanh thu 1/5 kế hoạch lãi thuế 19,5 tỷ đồng Một kiện nổi bật quý III ngành gạo Ấn Độ quốc gia chiếm 40 gạo xuất khẩu toàn cầu cạnh tranh Thái Lan Việt Nam Pakistan Myanmar cấm xuất khẩu gạo tấm đồng thời đánh thuế 20 đối gạo ( gạo Basmati gạo đồ 8/9 Ngay thông này dự báo giá gạo doanh nghiệp xuất gạo Việt nam hưởng lợi Chứng khoán VNDirect rằng Lộc Trời Trung An tỷ trọng xuất khẩu gạo doanh nghiệp hưởng lợi xu hướng giá gạo giúp gia biên lợi nhuận công ty Theo phân tích VNDirect Lộc Trời phân phối gạo hai thị trường trọng yếu thời châu Âu Trung Quốc Việc Trung Quốc sản Ấn độ hạn chế xuất khẩu hạn hán lợi ích Lộc Trời Đồng thời bối cảnh hội Trung An Bởi kinh doanh gạo lĩnh vực chủ yếu Trung An tỷ trọng xuất khẩu chiếm 15 tổng doanh thu đó Trung Quốc thị trường xuất khẩu gạo doanh nghiệp tỷ trọng 27 doanh thu xuất khẩu Vì vậy VNDirect kỳ vọng Trung Quốc gia nhập khẩu gạo Việt Nam động lực giúp Trung An sản xuất khẩu Như vậy nay lệnh hạn chế xuất khẩu gạo Ấn Độ thực thi tháng dự báo hưởng lợi doanh nghiệp nét kỳ vọng giá gạo ghi 10 Cụ thể Bộ Nông nghiệp Phát triển Nông thôn ( 10 giá gạo 5 Việt Nam 425 - 430 USD/tấn 11 ngoái Mức giá gạo Ấn Độ 48 - 51 USD/tấn Thái Lan 18 - 23 USD/tấn Chia sẻ viết Phan Văn Có Giám đốc Marketing Công ty TNHH Vrice giá gạo xuất khẩu Việt Nam tiếp tục cao hiện gạo 5 440 - 450 USD/tấn Nguyên nhân giá nhu cầu nhập khẩu quốc tế cung hạn chế thời tiết bất lợi trồng lúa Còn Phạm Thái Bình Tổng giám đốc Công ty CP Nông nghiệp Công nghệ Trung An giá gạo Việt gạo Thái Lan đầu tiên xảy `` đây thời giá gạo Việt Nam Thái Lan Việc gạo Việt Nam gạo Thái dần trở bình Gạo Việt đi Thái Lan phát triển lúa mới nâng quy trình sản xuất Đồng thời độ tươi gạo Việt gạo Thái chủng tiêu ưa chuộng Bình\n",
            "Predicted Label: ['DBC']\n",
            "True Label: ['PAN']\n",
            "========================================\n",
            "Content: PV GAS lãi 4300 tỷ 6 Kết thúc 6 tháng PV GAS thực hiện 57 mục tiêu doanh thu 62 kế hoạch lợi nhuận thuế hợp 2021 Trụ sở tòa PV GAS 673 Nguyễn Hữu Thọ huyện Nhà Bè TP HCM ( minh họa Minh Hằng Tổng công ty Khí Việt Nam - CTCP ( GAS - Mã GAS công bố báo cáo tài quý II/2021 doanh thu 45 kỳ 22702 tỷ đồng Trong kỳ giá vốn hàng 43 song doanh thu biên lợi nhuận gộp nâng 15 17 Doanh thu hoạt động tài kỳ nửa Đồng thời chi phí quản lý 162 chủ yếu phí sử dụng thương hiệu tập đoàn kỳ ghi Kết quý PV GAS báo lãi 2301 tỷ đồng 34 Lũy kế 6 đầu năm doanh thu PV GAS 40272 tỷ đồng lợi nhuận thuế 4359 tỷ lượt 23 4 kỳ Lợi nhuận ròng 4292 tỷ đồng Theo PV GAS tình hình dịch COVID-19 bùng phát trở nước giá dầu giá hợp đồng tương lai LPG biến động giá kế hoạch Việc huy động khí sản xuất điện nửa đầu 2021 thấp 79 kế hoạch Với kết trên PV GAS thực hiện 57 mục tiêu doanh thu 62 kế hoạch lợi nhuận thuế hợp 2021 Tại 6 quy mô tổng tài sản PV GAS 74826 tỷ đồng 18 đầu năm đầu tư nắm đáo hạn khoản thu ngắn hạn So I tổng tiền tương đương tiền tiền gửi ngân hàng trữ 31597 tỷ đồng 13 chiếm 42 tổng tài sản Các khoản thu ngắn hạn chủ yếu hàng ghi 15328 tỷ đồng 1889 tỷ 31/3 Ngoài ra công ty ghi 538 tỷ đồng nợ xấu giá trị thể thu hồi 143 tỷ đồng Chỉ quý II PV GAS đẩy đi vay nợ tổng giá trị 5639 tỷ đồng chủ yếu nợ vay hạn ngân hàng gấp 1,32 31/3 Vốn chủ sở hữu quý II 47845 tỷ đồng quỹ đầu tư phát triển 21053 tỷ đồng lợi nhuận thuế phân phối 6156 tỷ\n",
            "Predicted Label: ['POW']\n",
            "True Label: ['GAS']\n",
            "========================================\n",
            "Content: MSB Lãi thuế 9 17 nợ xấu Theo BCTC hợp công bố Ngân hàng TMCP Hàng hải Việt Nam ( MSB lãi thuế 9 4,824 tỷ đồng 17 kỳ 60 chi phí dự phòng rủi ro tín dụng Nguồn thu MSB 38 kỳ đem 6,224 tỷ đồng Trong đó thu lãi đồng Lãi kinh doanh ngoại hối gấp 32 kỳ thu 889 tỷ đồng thu công cụ tài phái sinh tiền tệ 2,505 tỷ đồng ( 25 lần Hoạt động mua chứng khoán đầu tư thu khoản lãi 813 tỷ đồng gấp 47 Ở chiều ngược lại mua chứng khoán kinh doanh lỗ 148 tỷ đồng hoạt động lỗ 752 tỷ đồng kỳ lãi Trong 9 đầu năm MSB 60 chi phí dự phòng rủi ro tín dụng 409 tỷ đồng Kết quả Ngân hàng báo lãi thuế 4,824 tỷ đồng 17 Năm 2022 MSB kế hoạch lợi nhuận thuế 6,800 tỷ đồng Như vậy Ngân hàng thực hiện 71 tiêu 9 Riêng quý 3 MSB thu 1,489 tỷ đồng lãi thuế 47 kỳ Tính quý 3 tổng tài sản MSB 5 đầu năm 194,182 tỷ đồng Trong đó tiền gửi NHNN 50 ( 1,518 tỷ đồng vay hàng 10 ( tỷ đồng Tiền gửi hàng nhẹ 1 ( tỷ đồng Tổng nợ xấu 30/09/2022 5 đầu năm 1,681 tỷ đồng Trong đó nợ nghi ngờ Kết quả tỷ lệ nợ xấu dư nợ vay 174 đầu 15\n",
            "Predicted Label: ['SGB']\n",
            "True Label: ['MSB']\n",
            "========================================\n",
            "Content: HAGL 5866 tỉ đồng nợ đòi công ty liên quan thành vốn góp Hội đồng quản trị CTCP Hoàng Anh Gia Lai ( – Mã HAG công bố nghị quyết thông phương án dư nợ vay nợ thu CTCP Chăn nuôi Gia Lai thành vốn góp cổ Số cổ đổi 586,5 triệu cổ Tổng giá trị cổ đổi mệnh giá 5866 tỉ đồng tương ứng dư nợ vay thu đổi Theo viết 2019 vốn chủ sở hữu Chăn nuôi Gia Lai âm 5314 tỉ đồng qui mô tổng tài sản 2241 tỉ đồng Năm 2019 công ty lỗ 2676,5 tỉ đồng doanh thu 103 tỉ đồng Nguồn HAGL Tại 30/6 tổng khoản thu ngắn hạn hạn tồn đọng HAGL 10800 tỉ đồng Chăn nuôi Gia Lai chiếm 6081 tỉ đồng Trên báo cáo tài soát xét niên Công ty TNHH Ernst & Young Việt Nam thể thu thập chứng xác định khả năng thu hồi khoản dư nợ tồn đọng 30/6 giá trị 7300 tỉ đồng ( 29 5670 tỉ đồng hồi đầu năm Giải trình kiến ngoại trừ kiểm toán HAGL mặc giá trị vườn định giá giai đoạn đầu tư kiến thiết bản tiềm năng dòng tiền nợ tập đoàn `` tài sản công ty khả năng dòng tiền đảm bảo khả năng thu hồi khoản thu Các liệu định giá thời mục đích tham khảo giá trị giao dịch tổng giám đốc HAGL giải trìnhTheo hiểu Chăn nuôi Gia Lai công ty liên kết CTCP Bò sữa Tây Nguyên ( nắm 99 vốn sở hữu 23,46 Chăn nuôi Gia Lai thành lập 6/2014 hoạt động kinh doanh chăn nuôi kinh doanh bò thịt bò sữa Tại 13/12/2019 vốn lệ Chăn nuôi Gia Lai 797 tỉ đồng Đáng lưu ý CTCP Đầu tư Bất động sản An Phú nắm 75 vốn Chăn nuôi Gia Lai 56,53 nhượng 18,56 cổ Công ty Bò sữa Tây Nguyên Thời 13/12/2019 Bất động sản An Phú thoái sạch vốn Chăn nuôi Gia Lai Bất động sản An Phú đơn vị liên quan xuất hiện giao dịch HAGL Cả Chăn nuôi Gia Lai Bất động sản An Phú `` nợ đòi HAGL Cuối 2017 HAGL ghi tổng khoản thu Bất động sản An Phú liên quan giá trị 10570 tỉ đồng kiểm toán kiến ngoại trừ khả năng thu hồi 4024 tỉ đồng Theo hiểu Chăn nuôi Gia Lai công ty liên kết CTCP Bò sữa Tây Nguyên ( nắm 99 vốn sở hữu 23,46 Tháng 8/2016 Công ty Bò sữa Tây Nguyên chi 550 tỉ đồng mua 18,56 cổ Chăn nuôi Gia Lai nâng sở hữu 23,46 trở thành công ty liên kết HAGL Theo báo cáo niên 2016 CTCP Cao su Trung Nguyên ( nắm 100 vốn hợp tác Chăn nuôi Gia Lai đầu tư dự án chăn nuôi phát triển đàn bò sinh sản bò thịt tổng giá trị dự án 1499 tỉ đồng thời hạn 5 ( 20/5/2021 Tới 3/2018 CTCP Bò sữa Tây Nguyên nhượng toàn vốn góp Chăn nuôi Gia Lai CTCP Thực phẩm Heygo Số tiền lãi nhượng cổ 43,5 tỉ đồng\n",
            "Predicted Label: ['HNG']\n",
            "True Label: ['HAG']\n",
            "========================================\n",
            "Content: Địa ốc First Real ( vay 120 tỷ đồng Ngân hàng OCB CTCP Địa ốc First Real ( FIR - sàn HoSE thông kế hoạch vay vốn Ngân hàngTheo đó Công ty dự kiến thực hiện giao dịch vay vốn hạn 120 tỷ đồng Ngân hàng TMCP Phương Đông ( - Chi nhánh Trung ViệtXét hoạt động kinh doanh 6 đầu 2022 ( 31/3/2022 Địa ốc First Real ghi doanh thu 152,8 kỳ 168,16 tỷ đồng lợi nhuận thuế 54,71 tỷ đồng 57,06 tỷ đồngTrong kỳ lợi nhuận gộp 188,6 kỳ tương ứng 84,18 tỷ đồng 128,81 tỷ đồng chi phí tài 47,3 tương ứng 3,99 tỷ đồng 4,44 tỷ đồng chi phí hàng quản lý doanh nghiệp 78,7 tương ứng 22,29 tỷ đồng 50,61 tỷ đồng hoạt động biến động kểXét dòng tiền 6 đầu 2022 Địa ốc First Real ghi dòng tiền kinh doanh âm 96,18 tỷ đồng kỳ âm 8,91 tỷ đồng nguyên nhân Công ty tồn kho khoản thu ngắn hạn Ngoài ra dòng tiền đầu tư âm 7,87 tỷ đồng dòng tiền tài dương 107,3 tỷ đồng chủ yếu vay nợNhư vậy kỳ Công ty vay nợ bù đắp dòng tiền kinh doanh âmĐược biết 2016 2021 Công ty 4/6 dòng tiền kinh doanh âm Trong đó dòng tiền âm kỷ lục 2018 Công ty ghi âm 77 tỷ đồng Như vậy 6 đầu 2022 dòng tiền kinh doanh âm kỷ lục 2016 Cụ thể dòng tiền kinh doanh 2016 âm 17,7 tỷ đồng 2017 âm 19,7 tỷ đồng 2018 âm 77 tỷ đồng 2019 dương 116,8 tỷ đồng 2020 dương 16,4 tỷ đồng 2021 âm 46,8 tỷ đồng\n",
            "Predicted Label: ['NLG']\n",
            "True Label: ['FIR']\n",
            "========================================\n",
            "Content: Novaland ( Cổ phiếu sàn yếu tố tâm lý thị trường Sáng 10/11 CTCP Tập đoàn Đầu tư Địa ốc Nova ( mã chứng khoán NVL - sàn HOSE công văn giải trình cổ phiếu sàn 5 phiên liên tiếpCụ thể cổ phiếu NVL sàn 5 phiên liên tiếp 3/11 9/11 trường hợp cổ phiếu giải trình Công ty biết cổ phiếu NVL niêm yết giao dịch công khai sàn HOSE Giá cổ phiếu thời gian yếu tố tâm lý thị trường chứng khoán tác động kiện vĩ môTrong phiên giao dịch 10/11 cổ phiếu NVL tiếp tục sàn 44950 đồng/CP Trước đó NVL thông báo hủy đăng ký 14/11 thực hiện quyền phát hành cổ phiếu vốn vốn chủ sở hữu phương án phù hợp tình hình hiện HĐQT kiến ĐHĐCĐ thời triển khai phương án phát hành họp ĐHĐCĐ\n",
            "Predicted Label: ['NVL']\n",
            "True Label: ['NVL']\n",
            "========================================\n",
            "Content: Quyết định cưỡng chế thuế Thuduc House Cục thuế TP HCM 1/3 gửi quyết định cưỡng chế ngân hàng Thuduc House tài khoản Theo thông báo Thanh Niên 1/3 Cục thuế TP HCM ban hành 22 quyết định cưỡng chế thuế CTCP Phát triển Nhà Thủ Đức ( House Mã TDH gửi ngân hàng công ty tài khoản liên quan vụ thu hồi 400 tỷ đồng tiền thuế công ty Theo kết luận tra hóa đơn đầu Thuduc House khai khấu trừ tiền hoàn thuế Công ty Thuduc House Wood Trading hóa đơn `` mua thật giúp Thuduc House hưởng lợi 0,6 giá trị hợp đồng xuất khẩu công ty hưởng 0,1 Như vậy vòng 6 1/2019 6/2019 Thuduc House trục lợi tiền thuế 221 tỷ đồng Số tiền Thuduc House truy thu 221 tỷ đồng hoàn thuế 37 tỷ đồng tiền chậm nộp thuế Sau đó quan ban hành quyết định thu hồi tiền thuế GTGT hoàn giai đoạn 2017 2018 109,8 tỷ đồng thu tiền chậm nộp 27 tỷ đồng Tổng cộng tiền truy thu tiền chậm nộp công ty nộp 396,5 tỷ đồng Như tin tra Thuduc House Cục thuế TP HCM phát hiện công ty thực hiện hành vi vi phạm dấu hiệu phạm tội trốn thuế ban hành quyết định áp dụng biện pháp khắc phục hậu thu hồi tiền hoàn thuế giá trị gia ( Sau đó Toà án nhân dân ( TP HCM ban hành quyết định áp dụng biện pháp khẩn tạm thời ( 11/1/2021 tạm đình quyết định Cục trưởng Cục thuế TP HCM Ngay tiếp đó Cục thuế đề nghị Chánh án TAND hủy quyết định áp dụng biện pháp khẩn tạm thời đảm bảo thu hồi tiền thuế kịp thời quyết định `` thể tình trạng doanh nghiệp tài sản thu hồi tiền thuế ngân sách nước thiệt hại lợi ích hợp pháp nước Ngay đề nghị TAND TP HCM hủy quyết định áp dụng biện pháp khẩn tạm thời ban hành 25/1 Ngày 26/2 Viện Kiểm sát Nhân dân TP HCM phát hành văn gửi Chánh án TAND TP HCM yêu cầu tòa án gửi quyết định áp dụng biện pháp khẩn tạm thời hồ sơ vụ án hành thụ lý liên quan khoản 2 Điều 75 luật Tố tụng hành 2015 Tuy nhiên nay Viện KSND TP HCM quyết định thực hiện chức năng kiểm soát tuân pháp luật ban hành quyết định Dính vụ truy thu 400 tỷ đồng tiền thuế Thuduc House 1,6 tỷ đồng tiền tiền gửi ngân hàng kỳ hạn báo cáo tài công ty mẹ quý IV/2020 Trong đó tổng tài sản công ty xấp xỉ 3600 tỷ đồng 115 tỷ đồng đầu Các khoản thu ngắn hạn ghi 710 tỷ đồng chiếm 20 tổng tài sản Ở vốn nợ công ty 2036 tỷ đồng 9 tổng đi nợ vay công ty chiếm 50 nợ trả 1110 tỷ đồng Năm 2020 qua lợi nhuận thuế cổ đông công ty mẹ ghi âm 30 tỷ đồng 2019 ghi 139 tỷ đồng Đây đầu tiên 2004 Thuduc House báo lỗ\n",
            "Predicted Label: ['TDH']\n",
            "True Label: ['TDH']\n",
            "========================================\n",
            "Content: REE phát hành 53,3 triệu cổ phiếu cổ tức 2022 Sau phát hành chia cổ tức cổ phiếu lưu hành REE 355,4 triệu 408,7 triệu cổ phiếu HĐQT CTCP Cơ điện lạnh ( REE thông phương án phát hành 53,3 triệu cổ phiếu cổ tức 2022 tỷ lệ 15 ( đông sở hữu 100 cổ phiếu 15 cổ phiếu mới Nếu phát hành thành công cổ phiếu lưu hành REE 355,4 triệu 408,7 triệu cổ phiếu Nguồn vốn phát hành lợi nhuận thuế phân phối công ty Trước đó ĐHĐCĐ niên 2023 diễn 3 cổ đông REE thông phương án cổ tức 2022 tỷ lệ 25 10 tiền 15 cổ phiếu Với cổ tức 2023 cổ đông ủy quyền HĐQT quyết định chi phù hợp đảm bảo vốn đầu tư phát triển dự án REE dự kiến 1 triệu cổ phiếu quỹ giá ưu đãi nhân viên quản lý thành tích kinh doanh 2023 xuất sắc Giá dự kiến 10000 đồng/cp cổ phiếu ESOP dự kiến hạn chế nhượng 3 Tính 31/12/2022 REE ghi đầu tư 47,62 tỷ đồng mua cổ phiếu quỹ tương ứng sở hữu 1 triệu cổ phiếu quỹ Như vậy ước giá mua cổ phiếu quỹ trung bình 47000 đồng/cổ phiếu Về kế hoạch kinh doanh 2023 công ty mục tiêu doanh thu 10962 tỷ đồng lợi nhuận ròng kỳ vọng 2700 đồng lượt 17 0,3 kết 2022\n",
            "Predicted Label: ['REE']\n",
            "True Label: ['REE']\n",
            "========================================\n",
            "Content: Công ty tổng thầu dự án năng lãi 9 114 kế hoạch năm rót 63 tỉ cổ phiếu GEX Công ty cổ SCI E chuyên tổng thầu dự án năng thuỷ điện điện mặt trời điện gió báo lãi thuế 9 120 tỉ đồng 114 kế hoạch Công ty cổ SCI E ( SCI công bố báo cáo tài hợp quí III/2020 ghi doanh thu 3 216 tỉ đồng SCI 2020 công trình/hạng mục tỉ lệ lợi nhuận bắt đầu nghiệm thu quí III lợi nhuận gộp doanh nghiệp 49 tỉ đồng gấp 21 kì Dù chi phí quản lí doanh nghiệp doanh thu tài 88 SCI báo lãi quí III đột biến gấp 24 29,5 tỉ đồng Luỹ kế 9 đầu năm SCI 652 tỉ đồng doanh thu thuần 43 lãi thuế gấp 2,3 96 tỉ đồng EPS 4 quí 8000 đồng Năm 2020 công ty mục tiêu lợi nhuận thuế hợp 56,2 tỉ đồng Với 120 tỉ đồng lãi thuế lợi nhuận 9 SCI 114 kế hoạch Nguồn HK tổng hợp báo cáo tài quí III/2020 Về tiêu tài sản 30/9 tổng tài sản công ty 2318 tỉ đồng gấp 2,2 đầu khoản đầu tài ngắn hạn thu ngắn hạn hàng tồn kho SCI uỷ thác 278,5 tỉ đồng CTCP Quản lí quĩ MB quản lí đầu tư Bên cạnh đó 30/9 SCI rót 78,5 tỉ đồng đầu tư hạn cổ phiếu GEX MHC VGC Trong khoản đầu tư cổ phiếu GEX chiếm tỉ trọng 63 tỉ đồng Nguồn Báo cáo tài quí III/2020 Theo thuyết minh khoản mục chi phí tài 9 đầu năm SCI lỗ 22 tỉ đồng lí khoản đầu tư tài Khoản thu quí III gấp 2,9 đầu 1133 tỉ đồng thu hàng Hàng tồn kho 30/9 SCI 1,7 đầu 430 tỉ đồng chi phí xây dựng dở dang Về cấu vốn tổng nợ đi vay SCI 557 tỉ đồng 33,5 đầu gấp 1,9 vốn chủ sở hữu Khoản đi vay ngân hàng tổ chức thuê tài Kết phiên 26/10 cổ phiếu SCI dừng 68000 đồng/cp gấp 10 giá 7 Diễn biến giá cổ phiếu SCI Nguồn VNDirect SCI doanh nghiệp hoạt động lĩnh vực tổng thầu dự án năng thuỷ điện điện mặt trời điện gió vốn lệ 121 tỉ đồng SCI tổng thầu EPC dự án năng như Thuỷ điện Canan 1 2 thuỷ điện Nậm Lụm 1 2 thuỷ điện Nậm Sam 3 trang trại điện mặt trời Gelex Ninh Thuận máy điện gió Hướng Phùng 2 3 máy điện gió Gelex 1,2,3 Hiện cổ đông SCI Công ty cổ SCI nắm 60,5 vốn công ty\n",
            "Predicted Label: ['IPA']\n",
            "True Label: ['GEX']\n",
            "========================================\n",
            "Content: Vietnam Airlines HAGL Agrico chiếm 1/3 tổng giá trị dự kiến huy động phát hành cổ phiếu Thống kê FiinGroup 13/4 54 doanh nghiệp niêm yết dự kiến phát hành 4,2 tỷ cổ phiếu huy động 44700 tỷ đồng phát hành vốn thời gian Theo thông FiinGroup quý I nay tổng giá trị huy động vốn phát hành cổ phiếu đầu 2020 Quý I 43 doanh nghiệp huy động 19800 tỷ đồng thông phát hành 1,1 tỷ cổ phiếu cổ đông hiện hữu tương đương 70 giá trị phát hành 2020 Đây khối giá trị phát hành vốn quý dịch COVID-19 bùng phát Việt Nam FiinGroup định dịch bệnh dần kiểm soát kích hoạt nhu cầu huy động vốn rộng hoạt động sản xuất kinh doanh doanh nghiệp tỷ lệ nợ vay/vốn chủ sở hữu an toàn Báo cáo dự báo giá trị huy động vốn phát hành cổ phiếu dự kiến gấp 1,6 thực hiện 2020 Theo công bố thông cập nhật 13/4 54 doanh nghiệp niêm yết dự kiến phát hành 4,2 tỷ cổ phiếu huy động 44700 tỷ đồng phát hành vốn thời gian tới gấp 1,6 tổng giá trị phát hành 2020 2,3 quý I Việc phát hành huy động vốn hình thức ưa chuộng thông phát hành quyền mua cổ đông hiện hữu ( tổng giá trị phát hành dự kiến 27500 tỷ đồng chào lẻ ( tỷ đồng FiinGroup Trong danh sách thống kê doanh nghiệp kế hoạch phát hành vốn FiinGroup Tổng Công ty Hàng Việt Nam - CTCP ( Airlines - Mã HVN CTCP Nông nghiệp Quốc tế Hoàng Anh Gia Lai ( Agrico - Mã HNG chiếm 1/3 tổng giá trị huy động phát hành cổ phiếu ( kiến Vietnam Airlines dự kiến huy động 8000 tỷ đồng phát hành cổ phiếu nửa đầu 2021 Nếu đợt phát hành thành công tỷ lệ nợ vay vốn chủ sở hữu Vietnam Airlines 6,2x 5,2x Sau Vietnam Airlines tiếp HAGL Agrico tổng giá trị phát hành dự kiến 7400 tỷ đồng ( 5500 tỷ đồng hoán đổi nợ 1900 tỷ đồng bổ sung vốn hoạt động FiinGroup công ty chứng khoán bối cảnh khoản thị trường trì cao tình trạng `` margin công ty chứng khoán tiến hành vốn bổ sung tiền hoạt động giao dịch ký quỹ Trong đó CTCP Chứng khoán VNDirect kế hoạch phát hành 220,4 triệu cổ phiếu tương đương giá trị phát hành 2200 tỷ đồng mệnh giá Tiếp CTCP Chứng khoán TP HCM ( HCM giá trị phát hành dự kiến 2100 tỷ đồng Ở Ngân hàng ngân hàng kế hoạch phát hành cổ phiếu quy mô vốn Ngân hàng TMCP Đầu tư Phát triển Việt Nam ( dự kiến phát hành lẻ 341 triệu cổ phiếu tương đương 3400 tỷ đồng mệnh giá\n",
            "Predicted Label: ['VIC']\n",
            "True Label: ['HNG']\n",
            "========================================\n",
            "Content: Novaland phát hành cổ phiếu vốn lệ tỷ USD Nếu phát hành thành công 483 triệu cổ phiếu nay vốn lệ Novaland 1 tỷ USD Hội đồng quản trị CTCP Tập đoàn Đầu tư Địa ốc No Va ( - Mã NVL báo cáo gửi Uỷ ban Chứng khoán Nhà ( phát hành cổ phiếu vốn cổ vốn chủ sở hữu Theo đó Novaland dự kiến phát hành 482,6 triệu cổ phiếu NVL mệnh giá 10000 đồng/cp tương đương tổng giá trị phát hành mệnh giá 4825,8 tỷ đồng Hiện Novaland lưu hành 1,95 tỷ cổ phiếu tương đương tổng giá trị cổ phiếu lưu hành ( mệnh giá 19500 tỷ đồng Nếu phát hành thành công Novaland nâng tổng cổ phiếu lưu hành thị trường 2,43 tỷ cổ phiếu tương đương tổng vốn cổ ( lệ 24300 tỷ đồng ( 1 tỷ USD Thời gian dự kiến phát hành 2022 UBCKNN chấp thuận phát hành vòng 45 UBCKNN chấp thuận phát hành Nguồn vốn phát hành thặng dư vốn cổ báo cáo tài kiểm toán 2021 Novaland 5023 tỷ đồng Trước đó 2021 Novaland phát hành 456 triệu cổ phiếu ( lệ phát hành 31 cổ tức vốn 4600 tỷ đồng Tháng 4/2022 Novaland tiếp tục vốn thông phát hành 19 triệu cổ phiếu ưu đãi ESOP Mới đây doanh nghiệp khoản đầu tư 250 triệu USD quỹ đầu tư Warburg Pincus đầu Khoản đầu tư huy động vốn quy mô thành công tiếp Novaland đầu tư quốc tế doanh nghiệp phát hành trái phiếu đổi quốc tế niêm yết Sở Giao dịch Chứng khoán Singapore 7/2021 Khoản huy động 250 triệu USD Novaland phân bổ gia quỹ đất phát triển dự án hiện hữu vị trí chiến lược tận dụng sở hạ tầng dần hoàn thiện miền Nam Về kết kinh doanh 6 đầu 2022 Novaland 4615 tỷ đồng doanh thu 1828 tỷ đồng lãi ròng lượt 34,5 1,6 kỳ ngoái Doanh nghiệp ghi bàn giao sản phẩm 6 dự án NovaWorld Phan Thiet Aqua City NovaWorld Ho Tram NovaHills Mui Ne Soho Residence ( Giang 1 Victoria Village ( 2 Tổng tài sản Novaland 30/6 239277 tỷ đồng 16,8 đầu Tổng nợ doanh nghiệp 194800 tỷ đồng 21,3 đầu kỳ Tổng dư nợ vay Novaland 68567 tỷ đồng 7000 tỷ đồng đầu Trong nửa đầu năm Novaland vay 18570 tỷ đồng nợ gốc vay 13182 tỷ Dư nợ trái phiếu 49700 tỷ đồng\n",
            "Predicted Label: ['NVL']\n",
            "True Label: ['NVL']\n",
            "========================================\n",
            "Content: CenLand phạt trăm triệu đồng khoản vay chấp thuận Ủy ban Chứng khoán Nhà ( quyết định xử phạt vi phạm hành lĩnh vực chứng khoán thị trường chứng khoán đối CTCP Bất động sản Thế Kỷ ( HOSE CRE tổng tiền 185 triệu đồng Quyết định hiệu lực 18/08/2022 Theo đó Công ty phạt tiền 60 triệu đồng công bố thông nội dung quy định pháp luật bao báo cáo tình hình quản trị công ty 6 đầu 2020 2020 6 đầu 2021 2021 Cụ thể báo cáo tình hình quản trị công ty 2020 6 đầu 2021 2021 thống kê họp HĐQT báo cáo tình hình quản trị công ty 6 đầu 2020 2020 6 đầu 2021 2021 thống kê nghị quyết/quyết định HĐQT báo cáo tình hình quản trị công ty 6 đầu 2021 2021 nội dung Ủy ban kiểm toán thông kế toán trưởng ban hành Ngoài ra phạt tiền 125 triệu đồng vi phạm quy định giao dịch cổ đông quản lý doanh nghiệp liên quan đối tượng Chi tiết 2020 - 2021 Công ty thực hiện khoản vay CTCP BĐS Cen Sài Gòn tổ chức liên quan Nguyễn Minh Hồi - Thành viên HĐQT Công ty Công ty TNHH Quản lý đối tác liên kết Cen tổ chức liên quan Nguyễn Quỳnh Mai - Phó TGĐ Công ty CTCP Đầu tư Phát triển Bất động sản Thế Kỷ tổ chức liên quan Nguyễn Trung Vũ - Chủ tịch HĐQT Công ty Phạm Thanh Hưng - Phó Chủ tịch HĐQT Công ty Vương Văn Tường - Thành viên HĐQT Công ty Nguyễn Thị Thanh - Phó TGĐ Công ty ĐHĐCĐ chấp thuận Tiếp đó 11/2021 3/2022 CenLand khoản vay CTCP Đầu tư Phát triển Bất động sản Thế Kỷ tổ chức liên quan cổ đông Công ty Về hoạt động kinh doanh lũy kế 6 đầu 2022 CenLand ghi doanh thu 2,566 tỷ đồng lợi nhuận thuế 288 tỷ đồng nhẹ 85 kỳ thực hiện 32 kế hoạch 2022 Trên thị trường cổ phiếu CRE giao dịch quanh 16,800 đồng/cp ( phiên 19/08 48 đáy 11,361 đồng/cp 22/06 song 30 thị giá đầu\n",
            "Predicted Label: ['TGG']\n",
            "True Label: ['CRE']\n",
            "========================================\n",
            "Content: Địa ốc First Real ( Tổng giám đốc mua 100000 cổ phiếu Lãnh đạo báo cáo kết giao dịch CTCP Địa ốc First Real ( FIR - sàn HoSE đó Hà Thân Thúc Luân Tổng giám đốc mua 100000 cổ phiếu nâng sở hữu 0 0,22 vốn lệ giao dịch thực hiện 18/7 15/8Trước đó Nguyễn Anh Tuấn Chủ tịch HĐQT mua 300000 cổ phiếu nâng sở hữu 11,74 12,41 vốn lệ giao dịch thực hiện 18/7 4/8Xét hoạt động kinh doanh quý III niên độ tài 1/4/2022 30/6/2022 Địa ốc First Real ghi doanh thu 102,88 tỷ đồng 36,7 kỳ lợi nhuận thuế 32,15 tỷ đồng 95 kỳ Trong đó biên lợi nhuận gộp cải thiện 51 60,5 kỳ lợi nhuận gộp 62,2 kỳ tương ứng 23,89 tỷ đồng 62,28 tỷ đồng chi phí tài 394,6 tương ứng 3,67 tỷ đồng 4,6 tỷ đồng chi phí hàng quản lý doanh nghiệp 9,3 tương ứng 1,43 tỷ đồng 16,8 tỷ đồng hoạt động biến động kểLũy kế 9 đầu 2022 Địa ốc First Real ghi doanh thu 271,03 tỷ đồng 91,2 kỳ lợi nhuận thuế 89,21 tỷ đồng 373,5 kỳTrong 2022 Địa ốc First Real kế hoạch doanh thu 450 tỷ đồng lợi nhuận thuế 120 tỷ đồng Như vậy kết thúc 9 đầu tài chính Công ty hoàn thành 74,3 kế hoạch lợi nhuận nămXét dòng tiền 9 qua Công ty ghi dòng tiền kinh doanh âm 428,8 tỷ đồng kỳ dương 19,5 tỷ đồng Ngoài ra dòng tiền đầu tư âm 3,5 tỷ đồng dòng tiền tài dương 435,8 tỷ đồng chủ yếu phát hành cổ phiếu vay nợNhư vậy 9 tháng Công ty phát hành cổ phiếu vay nợ bù đắp thâm hụt dòng tiền kinh doanhĐược biết 2016 2021 Công ty 4/6 dòng tiền kinh doanh âm Trong đó dòng tiền âm kỷ lục 2018 Công ty ghi âm 77 tỷ đồng Như vậy 9 niên độ tài 2021-2022 dòng tiền kinh doanh âm kỷ lục 2016 nayCụ thể dòng tiền kinh doanh 2016 âm 17,7 tỷ đồng 2017 âm 19,7 tỷ đồng 2018 âm 77 tỷ đồng 2019 dương 116,8 tỷ đồng 2020 dương 16,4 tỷ đồng 2021 âm 46,8 tỷ đồng\n",
            "Predicted Label: ['KBC']\n",
            "True Label: ['FIR']\n",
            "========================================\n",
            "Content: Sau quý 2 lãi khủng DGC mục tiêu lãi thuế quý 3 gấp 26 Theo nghị quyết HĐQT công bố CTCP Tập đoàn Hóa chất Đức Giang ( DGC mục tiêu lãi thuế quý 3 13 ngàn tỷ đồng gấp 26 kỳ Cụ thể Tập đoàn thông mục tiêu tổng doanh thu hợp 406 ngàn tỷ đồng lợi nhuận thuế hợp 13 ngàn tỷ đồng gấp lượt 19 26 kỳ Các mặt hàng kinh doanh nổi bật phốt vàng ( ngàn tấn axit WPA 50 ( ngàn tấn phân bón DAP MAP ( 12 ngàn tấn supe lân ( ngàn tấn xỷ phốt ( ngàn tấn gypsum ( ngàn tấn quặng apatit ( ngàn tấn Ngoài ra Tập đoàn dự chi đầu tư xây dựng máy phân bón Đắk Nông 100 tỷ đồng Trong trường hợp hoàn thành lũy kế 9 doanh thu lợi nhuận thuế DGC thể lượt 116 ngàn tỷ đồng 47 ngàn tỷ đồng tương ứng hoàn thành 96 mục tiêu doanh thu 34 kế hoạch lợi nhuận thuế ĐHĐCĐ 2022 Trước đó DGC trải quý 2 trưởng lợi nhuận ròng đột biến 15 ngàn tỷ đồng 322 tỷ đồng kỳ 1,784 tỷ đồng Theo giải trình Tập đoàn nguyên nhân trưởng doanh thu sản sản xuất doanh thu mặt hàng giá ( thu Phốt vàng 185 mặt hàng phân bón 628 WPA 227 Trong đó giá vốn mặt hàng 2326 lợi nhuận gộp gấp 4 kỳ Ngoài ra doanh thu hoạt động tài - lãi tiền gửi lãi chênh lệch tỷ giá - 1937 Tổng hợp lại lợi nhuận thuế quý 2 gấp 44 kỳ\n",
            "Predicted Label: ['DGC']\n",
            "True Label: ['DGC']\n",
            "========================================\n",
            "Content: Dư nợ bất động sản trái phiếu doanh nghiệp toàn ngành 2022 HDBank ( tiếp tục đà trưởng Ngân hàng TMCP Phát triển TPHCM ( – mã chứng khoán HDB công bố báo cáo tài 2022 kiểm toán PwC Lợi nhuận thuế đầu 10268 tỷ đồng hoàn thành 105 kế hoạch Nợ xấu thấp tiêu an toàn hoạt động đảm bảo đầuNăm 2022 HDBank ghi tổng thu nhập hoạt động 22000 tỷ đồng 31,1 kỳ Hoạt động tín dụng mảng dịch vụ thẻ ngân hàng trưởng cao thẻ tín dụng kích hoạt gấp 4 lần giá trị giao dịch thẻ gấp 3 lần giao dịch kênh gấp hai kỳ giá trị giao dịch 761 nghìn tỷ đồng gấp 6 lầnLợi nhuận thuế hợp 2022 10268 tỷ đồng 27,2 2021 hoàn thành 105 kế hoạch lợi nhuận cổ đông giao Chỉ ROE 2022 23,5 ROA 2,1 kỳ Báo cáo tài kiểm toán HDBank 2022 ghi tỷ lệ nợ xấu lẻ 1,3 tỷ lệ nợ xấu hợp 1,67 toàn ngành sách tín dụng lọc quản trị rủi ro hiệu Tỷ lệ an toàn vốn ( Basel II 13,4 ngân hàng an toàn vốn Tổng tài sản hợp 416273 tỷ đồng 11,1 2021 Dư nợ tín dụng 268157 tỷ đồng 25,6 Ngân hàng ưu tiên tín dụng lĩnh vực động lực trưởng kinh tế nông nghiệp nông thôn doanh nghiệp vừa chuỗi cung ứng phân phối tín dụng xanh hộ gia đình tiểu thương HDBank nắm 4300 tỷ đồng TPDN tương đương 1,6 tổng dư nợ Thuyết minh báo cáo tài trái phiếu tài sản đảm bảo toán đủ hạn HDBank ngân hàng tỉ lệ vay kinh doanh bất động sản 7,9 tổng dư nợTại 31/12/2022 HDBank 347 chi nhánh/phòng giao dịch 24500 giao dịch tài Số cán công nhân viên ngân hàng mẹ công ty 16326 người bao lực bảo vệ 2000 chiến sỹ thu nhập bình quân 26,7 triệu đồng/tháng 37,6 kỳ Tổng thù lao TV HĐQT 8,4 tỷ đồng 10,9 tỷ đồng Được lãnh đạo HDBank nguyện thù lao hoạt động xã hội đóng góp cộng đồng Bên cạnh hoạt động kinh doanh sôi nổi 2022 HDBank vinh danh 24 danh hiệu giải thưởng uy tín quốc tế Ngân hàng Bằng khen Thủ tướng Chính phủ Cờ thi đua Ngân hàng Nhà nước khen Ủy ban Nhân dân TP HCM đóng góp ngân sách Nhà Tại lễ công bố Bảng xếp hạng Top 50 Công ty đại uy tín & hiệu 2022 Top 10 ngân hàng thương mại Việt Nam uy tín 2022 HDBank vinh danh hai hạng mục Top 5 ngân hàng TMCP tư nhân uy tín Tạp chí Forbes vinh danh HDBank thương hiệu tài đầu\n",
            "Predicted Label: ['OCB']\n",
            "True Label: ['HDB']\n",
            "========================================\n",
            "Content: Hoàng Huy ( lãi 400 tỉ quí III 120 kì Trong 6 đầu niên độ tài 2020 - 2021 ( 1/4/2020 - 31/3/2021 doanh thu TCH 3109 tỉ đồng gấp 4 kì chủ yếu đóng góp hai mảng kinh doanh cốt lõi xe thương mại kinh doanh bất động sản CTCP Đầu tư Dịch vụ Tài Hoàng Huy ( TCH công bố báo cáo tài hợp quí II niên độ 2020-2021 ( 1/7/2020 - 30/9/2020 doanh thu 1937 tỉ đồng gấp 4 kì Đóng góp tổng doanh thu quí II mảng kinh doanh bất động sản 1160 tỉ đồng doanh thu ( 162 kì mảng ô tô đầu kéo Mỹ doanh thu 488 tỉ đồng gấp 14 quí II/2019 Mặt khác quí II 274 tỉ đồng doanh thu hợp đồng xây dựng kì ghi mảng Lãi gộp 547 tỉ đồng 159 kì Sau trừ chi phí doanh nghiệp báo lãi thuế 144 440 tỉ đồng Trong đó lãi thuế cổ đông công ty mẹ 394 tỉ đồng gấp 2,2 kì Nguồn BCTC TCH Trong 6 niên độ ( - 30/9/2020 doanh thu 3109 tỉ đồng gấp 4 kì Lợi nhuận thuế ghi 808 tỉ đồng 162 Lãi thuế cổ đông công ty mẹ 606 tỉ đồng gấp 2,4 giá trị 6 2019 EPS trailing ( cổ phiếu lũy kế 4 quí liên tiếp 2767 đồng Năm tài 2020 TCH kế hoạch doanh thu lợi nhuận thuế lượt 2500 tỉ đồng 800 tỉ đồng Như vậy đi 1/2 chặng đường công ty hoàn thành 124 tiêu doanh thu 101 mục tiêu lợi nhuận Lí giải kết trên Hoàng Huy hoạt động kinh doanh hai lĩnh vực cốt lõi đóng góp trưởng 6 doanh nghiệp Cụ thể mảng xe thương mại làn sóng đầu tư FDI Việt Nam tập đoàn đa quốc gia xúc tiến kế hoạch di máy Việt Nam nhu cầu vận tải doanh thu xe đầu kéo Mỹ Navistar 211 kì 500 tỉ đồng Cùng đó mảng phát triển bất động sản tiếp tục bàn giao nốt biệt thự liền kề dự án Hoàng Huy Riverside ( Phòng Gold Tower ( Nội kì công ty hoàn thành bàn giao 94 dự án Hoàng Huy Mall ( Phòng mua Nhờ bàn giao dự án tiến độ doanh thu bất động sản 6 995 tỉ đồng tương đương 217,5 kì Tính 30/9/2020 TCH 10188 tỉ đồng tổng tài sản 1532 tỉ đồng thời đầu Trong đó doanh nghiệp khoản tiền mặt tiền gửi ngân hàng 4000 tỉ đồng Các khoản thu ngắn hạn 1577 tỉ đồng gấp 3,7 hồi đầu Giá trị hàng tồn kho kì 2077 tỉ đồng tồn kho liên quan kinh doanh bất động sản chiếm 3/4 TCH hiện triển khai dự án song song tổng giá trị xây dựng dở dang 1077 tỉ đồng 900 tỉ đồng đầu kì Tổng nợ quí II 880 tỉ đồng 3056 tỉ đồng Trong đó khoản mua tiền 1025 tỉ đồng 371 tỉ đồng chủ yếu kì doanh nghiệp bàn giao dự án mua\n",
            "Predicted Label: ['CRE']\n",
            "True Label: ['TCH']\n",
            "========================================\n",
            "Content: VNG huy động 418 tỷ đồng đầu tư KDL Dốc Lết Công ty TNHH Du lịch TTC công ty mẹ Công ty Cổ Du lịch Thành Thành Công ( bảo lãnh vay 418 tỷ đồng toán/ bao toán dự án KDL Dốc Lết Hội đồng quản trị ( Công ty Cổ Du lịch Thành Thành Công ( VNG nghị quyết thông bảo lãnh Công ty TNHH Du lịch TTC vay vốn Theo đó VNG cam kết bảo lãnh TTC vay vốn 418 tỷ đồng Ngân hàng Thương mại Cổ Phương Đông ( thời hạn trung hạn Mục đích vay vốn toán/ bảo lãnh toán chi phí đầu tư Dự án Khu du lịch Dốc Lết phường Ninh Hải thị xã Ninh Hòa tỉnh Khánh Hòa Công ty TNHH Du lịch TTC công ty VNG tỷ lệ lợi ích tỷ lệ biểu quyết 100 Trụ sở công ty thành phố Nha Trang tỉnh Khánh Hòa Lĩnh vực sản xuất Du lịch TTC sạn hàng lữ hành nội địa quốc tế giặt ủi Theo báo cáo niên 2021 VNG vốn lệ Du lịch TTC 400 tỷ đồng Hiện tại Du lịch TTC sở hữu sở kinh doanh bao TTC Hotel Michelia TTC Hotel Phan Thiết TTC Resort Dốc Lết TTC Palace Bình Thuận TTC Laundry Bình Thuận Về Dự án Khu du lịch Dốc Lết khu dịch tiêu chuẩn 4 273 phòng Khách sạn Avani Dốc Lết xây dựng khuôn viên khu du lịch sạn đầu tiên Du lịch TTC sử dụng vận hành chuyên nghiệp quản lý hoạt động Tổng đầu tư sạn 500 tỷ đồng hoạt động 2020 Song song trình rộng đầu tư khu du lịch hệ thống sạn nợ vay Du lịch TTC Cuối quý I/2022 Du lịch TTC huy động 371 tỷ đồng nợ vay tổng nợ vay 1360 tỷ đồng Tại kỳ họp Đại hội Đồng cổ đông niên nay lãnh đạo VNG tác động nề dịch COVID-19 HĐQT thông phương án phân phối lợi nhuận hoạt động lập quỹ đầu tư phát triển quỹ phúc lợi khen thưởng chia cổ tức Thay đó VNG kiếm đối tác rộng hoạt động kinh doanh sạn nghỉ dưỡng khu vui tỉnh thành du lịch tiềm năng hình thức M gọi vốn đầu tư đối tác Chủ tịch HĐQT VNG Phan Thị Hồng Vân triển khai kế hoạch kinh doanh đón làn sóng du lịch dự đoán trở mẽ 2022 Cụ thể TTC Hospitality phát triển sản phẩm dấu ấn mùa văn hóa địa phương du lịch trọn gói MICE chủ đề…nhằm trải nghiệm toàn diện du Song song đó VNG trọng đầu tư nâng cấp cải dự án triển khai hoạt động Thung lũng Tình yêu Dốc Lết tiếp tục kiếm hội đầu tư địa du lịch tiềm năng\n",
            "Predicted Label: ['HQC']\n",
            "True Label: ['VNG']\n",
            "========================================\n",
            "Content: Đạm Cà Mau lãi ròng 33 ngàn tỷ đồng 9 Theo BCTC quý 3/2022 công bố CTCP Phân bón Dầu khí Cà Mau ( DCM doanh thu lợi nhuận ròng kỳ mạnh lượt 83 93 Ông ngành phân bón tiếp tục kỳ kinh doanh bùng nổ Quý 3 DCM doanh thu 33 ngàn tỷ đồng 83 kỳ Giá vốn bật 87 23 ngàn tỷ đồng Sau khấu trừ Công ty lãi gộp 1 ngàn tỷ đồng 73 Trong kỳ doanh thu hoạt động tài 806 tỷ đồng gấp đôi kỳ Các khoản chi phí bật tăng chi phí tài 83 78 tỷ đồng chi phí hàng nhẹ 8 146 tỷ đồng quản lý doanh nghiệp 70 153 tỷ đồng Công ty ghi lợi nhuận 45 tỷ đồng ( kỳ 200 triệu đồng Với doanh thu mạnh DCM lãi ròng 728 tỷ đồng quý 3 93 kỳ Theo giải trình Công ty sản tiêu thụ sản phẩm 30 kỳ giá phân bón tiếp tục neo - cụ thể phân Ure 13,781 đồng/kg ( 32 NPK 14,045 đồng/kg ( 204 - doanh thu hàng công ty mẹ Cùng đó doanh thu hoạt động tài bật khoản lãi chênh lệch tỷ giá Nhờ sản tiêu thụ giá phân bón thuận lợi yếu tố chi phí sản xuất hàng quản lý lợi nhuận doanh nghiệp giúp Công ty kết Lũy kế 9 tháng doanh thu Công ty 115 ngàn tỷ đồng 90 kỳ Lợi nhuận thuế chí gấp 4 trước lượt 35 ngàn tỷ đồng 33 ngàn tỷ đồng So kế hoạch kinh doanh ĐHĐCĐ 2022 DCM mục tiêu doanh thu 27 gấp 64 mục tiêu lợi nhuận Thời 9/2022 tổng tài sản DCM 21 134 ngàn tỷ đồng tài sản ngắn hạn bật 45 106 ngàn tỷ đồng chiếm 79 tổng tài sản Trong đó tiền mặt 772 tỷ đồng 80 đầu năm hầu khoản tiền gửi ngân hàng kỳ hạn ( tỷ đồng Các khoản đầu tư tài nắm đáo hạn 69 ngàn tỷ đồng ( - khoản tiền gửi kỳ hạn 3 Các khoản thu ngắn hạn gấp 36 đầu năm 671 tỷ đồng khoản thu CTCP Vật tư Nông sản ( tỷ đồng Hàng tồn kho nhẹ 4 21 ngàn tỷ đồng Bên kia bảng cân đối nợ ngắn hạn 8 29 ngàn tỷ đồng Trong đó vay nợ thuê tài 691 tỷ đồng đầu 374 tỷ đồng Giá cổ phiếu DCM kết phiên 24/10 29,900 đồng/cp 345 đỉnh 45,700 đồng/cp 28/03\n",
            "Predicted Label: ['DCM']\n",
            "True Label: ['DCM']\n",
            "========================================\n",
            "Content: LDG Group hủy ĐHĐCĐ 2021 kiện tiến hành Tính 15 30 phút chiều 15/4 cổ đông dự họp ĐHĐCĐ niên 2021 LDG Group quy định đại hội kiện tiến hành Theo thông báo gửi cổ đông đó CTCP Đầu tư LDG ( Group Mã LDG dự kiến bắt đầu tiến hành ĐHĐCĐ niên 2021 14 15/4 Tuy nhiên 15 30 phút ngày 100 cổ đông ủy quyền đại diện 89,5 triệu cp chiếm 37,37 cổ quyền biểu quyết tham dự đại hội Theo đó ĐHĐCĐ hủy kiện tiến hành quy định Chia sẻ viết cổ đông nắm 60000 cp LDG biết `` kiện tổ chức đại hội bình thường Song cổ đông giấu `` tiêu chuẩn tổ chức đại hội thông báo nửa tiếng thay đợi 1 tiếng đồng hồ hiện nay Tài liệu ĐHĐCĐ biết 2021 LDG mục tiêu doanh thu 1574 tỷ đồng ( 13,4 lãi thuế 301 tỷ đồng gấp 23 13 tỷ đồng 2020 Theo kế hoạch doanh nghiệp tập trung triển khai dự án nhượng hoàn thiện thủ tục pháp lý đẩy tiến độ xây dựng hàng đẩy phát triển quỹ đất đầu tư dự án Theo Khoản 1 Điều 145 Luật Doanh nghiệp 2020 `` họp Đại hội đồng cổ đông tiến hành cổ đông dự họp đại diện 50 tổng phiếu biểu quyết tỷ lệ cụ thể Điều lệ công ty quy định\n",
            "Predicted Label: ['DXG']\n",
            "True Label: ['LDG']\n",
            "========================================\n",
            "Content: Nikkei Petrolimex bế tắc dự án lọc dầu Nhật Bản Tập đoàn xăng dầu Việt Nam ( tham vọng hợp tác đầu tư dự án lọc dầu đối tác Nhật Bản Eneos ( cũ JXTG nhiên diễn biến thực tế chậm thời gian biểu Một cửa hàng lẻ xăng dầu Petrolimex ngoại ô thủ đô Hà Nội Ảnh Song Ngọc Theo Nikkei Asian Review 2018 Petrolimex ( PLX đồng đầu tư máy lọc dầu tập đoàn Eneos ( Bản xây dựng tỉnh Yamaguchi máy xuất khẩu xăng Việt Nam Theo kế hoạch công ty liên doanh thành lập 4/2019 vận hành máy lọc dầu phủ Việt Nam phê duyệt thỏa thuận góp vốn Nikkei Ông Katsuyuki Ota – Giám đốc kiêm Thành viên HĐQT công ty mẹ Eneos Holdings nói `` bắt lập tức thảo luận tiến triển Ông Ota thể nguyên nhân xuất phát quan quản lí Việt Nam Theo Nikkei lãnh đạo Việt Nam tạm trì hoãn quyết định liên quan doanh nghiệp lĩnh vực năng Mối quan hệ Eneos Petrolimex bắt đầu 2016 Eneos ( JX Nippon Oil & Energy mua 8 cổ PLX trị giá 20 tỉ yen tương đương 186 triệu USD Petrolimex hiện hệ thống 5500 cửa hàng phân phối xăng dầu nước 2700 cửa hàng lẻ xăng dầu sở hữu tập đoàn cửa hàng Petrolimex nhượng quyền thương hiệu Liên minh Petrolimex – Eneos kế hoạch xây dựng máy lọc dầu nam Việt Nam phủ phép Petrolimex mảng tài tập trung hoạt động xăng dầu tiến độ chậm Năm 2018 Petrolimex đồng kế hoạch sáp nhập PG Bank ( Petrolimex nắm 40 vốn HDBank nhiên thương vụ Ngân hàng Nhà chấp thuận Petrolimex tập đoàn cổ PG Bank tổ chức thương vụ PG Bank HDBank diễn 8/2020 `` thay mặt ban lãnh đạo Petrolimex kí gửi văn HDBank tư cổ đông thông báo ngân hàng này 31/8 thực hiện sáp nhập được Petrolimex thoái vốn [ PG Bank Điều nghĩa thực hiện sáp nhập nữa Trần Ngọc Năm - thành viên HĐQT Petrolimex PG Bank hôm 24/6 `` 60 cổ đông quyết sáp nhập quyền cổ đông Còn Petrolimex sở hữu 40 thoái vốn Năm Quí I qua Petrolimex lỗ thuế 1813 tỉ đồng Cổ đông công ty mẹ lỗ 1893 tỉ đồng kì lãi 1201 tỉ đồng Mục tiêu lợi nhuận hợp thuế 1570 tỉ đồng 72 thực hiện 2019 Trong thời gian 16/6 2/7 tập đoàn 15 triệu cổ phiếu quĩ thu 680 tỉ đồng bổ sung vốn kinh doanh đầu tư phát triển Petrolimex 88 triệu cổ phiếu quĩ tương đương 7 vốn lệ Nhà kế hoạch thoái vốn Petrolimex tỉ lệ sở hữu 75,86 hiện 51\n",
            "Predicted Label: ['PLX']\n",
            "True Label: ['PLX']\n",
            "========================================\n",
            "Content: Lợi nhuận quý ACV dịch COVID-19 bùng phát Trong kỳ khoản lãi chênh lệch tỷ giá 423 tỷ đồng chi phí hàng tiết quý đầu năm ACV báo lãi 44 862 tỷ đồng thực hiện 21 tiêu lợi nhuận thuế Một banner quảng cáo ACV Cảng Hàng Quốc tế Phú Bài ( Minh Hằng Tổng Công ty Hàng Việt Nam ( ACV công bố báo cáo tài hợp quý I doanh thu 47 1904 tỷ đồng hầu doanh thu dịch vụ hàng không dịch vụ phi hàng không hàng Chi tiết cấu doanh thu ACV ( BCTC hợp quý I/2021 Trong kỳ khoản lãi chênh lệch tỷ giá 423 tỷ đồng chi phí hàng tiết quý đầu năm ACV báo lãi 44 862 tỷ đồng Lợi nhuận thuế cổ đông công ty mẹ ghi 863 tỷ đồng Dù vậy kết quý ACV ghi lỗ 354 tỷ đồng hồi quý II/2020 hạn chế đi dịch COVID-19 Theo giải trình doanh nghiệp tác động dịch COVID-19 phản ánh kết hoạt động khai thác kết cấu hạ tầng hàng quyết định Chính phủ lợi nhuận ACV Nguồn MH tổng hợp BCTC hợp quý I Năm 2021 ACV xây dựng kế hoạch doanh thu 13258 tỷ đồng lợi nhuận thuế mục tiêu 5025 tỷ đồng Như vậy kết thúc quý I ACV thực hiện 14 kế hoạch doanh thu 21 tiêu lợi nhuận thuế Cuối quý I tổng tài sản ACV 56307 tỷ đồng 595 tỷ đồng đầu Trong đó chủ yếu tiền khoản tiền gửi ngân hàng 12 ( suất dao động 4,9 7,3 32780 tỷ đồng 1062 tỷ đồng chiếm 57 cấu tổng tài sản Tỷ lệ nợ ACV tổng vốn 0,32 lần đầu 0,34 Tính kỳ doanh nghiệp đi vay tổng cộng 15044 tỷ đồng 548 tỷ đầu\n",
            "Predicted Label: ['HVN']\n",
            "True Label: ['ACV']\n",
            "========================================\n",
            "Content: Tranh chấp QCG Sunny Island kết Sau đơn vị kiểm toán lưu khoản nợ tiềm tàng liên quan vụ kiện CTCP Đầu tư Sunny Island Trung tâm Trọng tài Quốc tế Việt Nam ( BCTC soát xét niên 2022 CTCP Quốc Cường Gia Lai ( QCG văn giải trình vấn đề 26/08 Cụ thể QCG tranh chấp VIAC thụ lý Về QCG Công ty giải trình nội dung phiên xét xử 04/11/2021 14/01/2022 04/06/2022 Tuy nhiên VIAC phán quyết vụ tranh chấp Tóm tắt vụ tranh chấp Sunny QCG 3/2017 hai đơn vị ký Hợp đồng hứa mua hứa liên quan Dự án Khu dân cư Bắc Phước Kiển huyện Nhà Bè TPHCM Theo hợp đồng Sunny QCG tiền 4,800 tỷ đồng lộ trình quy định hợp đồng QCG nghĩa vụ nhượng đất tương ứng tiền Tuy nhiên mâu thuẫn xảy Sunny giải ngân 2,882 tỷ đồng dừng Trước động thái Sunny hạn tiền QCG nộp đơn khởi kiện Trung tâm Trọng tài Quốc tế Việt Nam ( giải quyết tranh chấp Mong QCG toàn 2,882 tỷ đồng Sunny đổi Sunny nhượng toàn đất Trong VIAC kết luận thức Sunny động thái nộp đơn tố cáo QCG Công an TPHCM hành vi gian dối chiếm đoạt tiền 2,882 tỷ đồng Theo Sunny thời ký kết hợp đồng hứa mua hứa bán QCG thông đền bù giải phóng mặt 92 diện tích dự án tương ứng 84 ha Tuy nhiên giấy chứng quyền sử dụng đất QCG giao Sunny diện tích đền bù thực tế 642 ha\n",
            "Predicted Label: ['QCG']\n",
            "True Label: ['QCG']\n",
            "========================================\n",
            "Content: Cao su Sao Vàng mục tiêu 2023 lãi gấp 3 ngoái Cao su Sao Vàng mục tiêu lợi nhuận 2023 100 tỷ đồng gấp 2,6 kỳ dự kiến chia cổ tức 10 CTCP Cao su Sao Vàng ( SRC công bố kế hoạch sản xuất kinh doanh 2023 2000 tỷ đồng doanh thu lợi nhuận thuế 100 tỷ đồng lượt gấp 2,2 gấp 2,6 kết 2022 Ngoài ra SRC dự kiến chia cổ tức 2023 10 Năm 2022 hai doanh nghiệp săm lốp sàn chứng khoán CTCP Cao su Đà Nẵng ( DRC CTCP Công nghiệp Cao su Miền Nam ( CSM ghi hồi phục dịch COVID-19 lợi nhuận thuế lượt 308 tỷ đồng ( 6 kỳ 79 tỷ đồng ( 114 kỳ Trong đó luỹ kế 2022 doanh thu SRC ghi 915 tỷ đồng 4 lợi nhuận thuế 38 tỷ đồng 27 kỳ Với kết trên công ty hoàn thành 46 mục tiêu doanh thu 35 kế hoạch lợi nhuận Về tình hình tài chính tổng tài sản SRC 31/12/2022 1245 tỷ đồng thay đổi đầu Khoản tiền tương đương tiền tiền gửi kỳ hạn 36 tỷ đồng 23 đầu Hàng tồn kho 13 323 tỷ đồng chủ yếu thành phẩm nguyên vật liệu Cuối quý IV/2022 tổng nợ vay công ty 357 tỷ đồng chiếm 29 tổng vốn Vốn chủ sở hữu 439 tỷ đồng bao 59 tỷ đồng lợi nhuận thuế phân phối\n",
            "Predicted Label: ['TLG']\n",
            "True Label: ['SRC']\n",
            "========================================\n",
            "Content: CEO lỗ lãi quý 2 CTCP Tập đoàn CEO ( CEO lợi nhuận ròng 27 tỷ đồng quý 2/2022 doanh thu kỳ Doanh thu quý 2 CEO 425 tỷ đồng gấp 3 kỳ Trong đó hoạt động kinh doanh bất động sản chiếm 295 tỷ đồng cung dịch vụ Lợi nhuận gộp thu 143 tỷ đồng Nguồn thu tài kỳ gấp 3 lần phát sinh khoản lãi đầu tư 14 tỷ đồng CEO khép quý 2 lợi nhuận ròng 27 tỷ đồng kỳ lỗ 76 tỷ đồng Đây quý báo lãi liên tiếp doanh nghiệp bất động sản Lũy kế 6 đầu 2022 CEO doanh thu 718 tỷ đồng gấp 25 kỳ lợi nhuận ròng 62 tỷ đồng ( kỳ lỗ 94 tỷ đồng CEO doanh nghiệp sở hữu quỹ đất lớn chủ yếu tập trung bất động sản nghỉ dưỡng Phú Quốc Quảng Ninh Hà Nội Đến 30/06/2022 tổng tài sản CEO 75 ngàn tỷ đồng 65 đầu Khoản thu ngắn hạn ghi 1,245 tỷ đồng gấp rưỡi đầu Giá trị tài sản dở dang hạn 1,812 tỷ đồng 24 đầu năm chủ yếu thu hẹp ghi dự án khu tổ hợp nghỉ dưỡng Sonasea Vân Đồn Habour City Kế hoạch chào 250 triệu cp Vào 6/2022 HĐQT CEO thông triển khai phương án phát hành 2573 triệu cp vốn lệ Cụ thể CEO chào 2522 triệu cp cổ đông hiện hữu 51 triệu cp cán nhân viên chương trình lựa lao động ( Với giá 10,000 đồng/cp 2 phương án CEO dự kiến thu 2,522 tỷ đồng phát hành cổ phiếu cổ đông hiện hữu 51 tỷ đồng phát hành cổ phiếu ESOP CEO tổng tiền thu 2,573 tỷ đồng sử dụng đầu tư dự án khu biệt thự Sonasea Residences ( tỷ đồng vốn công ty ( tỷ đồng bổ sung vốn lưu động hoạt động kinh doanh ( tỷ đồng Trong đó 5 công ty CEO bổ sung vốn gồm CTCP Đầu tư Phát triển du lịch Vân Đồn ( tỷ đồng Công ty TNHH CEO Quốc tế ( tỷ đồng CTCP Đầu tư Phát triển Nha Trang ( tỷ đồng CTCP Đầu tư Phát triển Phú Quốc ( tỷ đồng CTCP Xây dựng CEO ( tỷ đồng\n",
            "Predicted Label: ['CEO']\n",
            "True Label: ['CEO']\n",
            "========================================\n",
            "Content: Chủ tịch SRF Nhìn yếu khăn tức thời Đánh giá tác động COVID-19 khăn tức thời Chủ tịch Hội đồng quản trị Searefico Lê Tấn Phước `` `` doanh nghiệp đối sách ứng phó phù hợp hoàn cảnh giai đoạn khăn hiện Đứng đại dịch COVID-19 doanh nghiệp Việt Nam loay hoay giải toán khăn nguy phá sản thử thách đặc biệt đối ngành xây dựng Bởi thị trường sụt giảm dự án hoãn tiến độ dự án đặc biệt dự án bất động sản du lịch nghỉ dưỡng ốc văn phòng tạm dừng tác động COVID-19 Do đó mảng kinh doanh cốt lõi hoạt động đấu thầu thi công công ty điển hình Searefico Công ty Cổ Kĩ Nghệ Lạnh ( - Mã SRF ảnh hưởng dây chuyền Trước dịch COVID-19 diễn ra doanh nghiệp kế hoạch doanh thu 15 lợi nhuận thuế 18 Tuy nhiên dịch bệnh xảy tình hình kinh doanh công ty ảnh hưởng Doanh thu Searefico thời dự báo sụt 20-30 kế hoạch công ty Tác động kế hoạch doanh thu 2020 Searefico tụt 1500 tỉ đồng 12 thực hiện 2019 lợi nhuận thuế kế hoạch 31 50 tỉ đồng Ông Lê Tấn Phước Chủ tịch Hội đồng quản trị Searefico hay `` ngoái công ty kí kết hợp đồng 1500 tỉ đồng nửa Thực chất 6 đầu năm công ty rớt thầu công trình trúng dự án Hoặc dự án chủ đầu tư mời thầu dừng lại công trình tạm hoãn thi công Ngay ta thi công chủ đầu tư tiền mình Dù dự báo tiềm năng phát triển ngành 2020 mấy “ sủa nhiên Phước doanh nghiệp ngành bất động sản xây dựng điện công trình Searefico yếu `` bệnh tác động hoạt động kinh doanh doanh nghiệp song dịch bệnh hội doanh nghiệp nghi thay đổi tối ưu hóa máy chỉnh mô hình tổ chức công ty phù hợp hoàn cảnh hiện khăn tức thời Phước Dây chuyền sản xuất sản phẩm panel PIR Greenpan thức đi hoạt động Ảnh P Dương Chủ tịch Searefico thêm khăn COVID-19 hướng đi công ty lĩnh vực vật liệu xây dựng xanh phòng sạch tiền chế văn phòng lưu động đời đi hoạt động máy sản xuất vật liệu - Greenpan JSC Với định hướng trở thành công ty hàng đầu lĩnh vực vật liệu xây dựng công trình xanh – panel PIR đầu 2020 Greenpan nhập khẩu dây chuyền sản xuất công nghệ hiện đại hoàn tất lắp ráp hệ thống chuyên gia Italy lắp tham gia vận hành Đại diện Greenpan mặc rơi thời dịch bệnh chuyên gia thể trực tiếp Việt Nam vận hành công ty liên tục tổ chức họp trực tuyến lãnh đạo gấp rút bàn thảo chiến lược phát triển kinh doanh chăm sóc hàng thông tảng kĩ thuật Đồng thời vạch hoạt động cụ thể giai đoạn dịch bệnh bùng phát xây dựng tảng sẵn sàng nắm bắt hội vươn dịch bệnh biến tích cực `` tiên phong phát triển vật liệu nhẹ nung ứng dụng ngành công nghiệp xây dựng hiện đại truyền thống Mong Searefico đầu tư máy Greenpan khẳng định sản phẩm Việt Nam hề thua kém sản phẩm hàng đầu giới Tôi sản phẩm Greenpan giới sản phẩm Italy Pháp Tây Ban Nha đồng dây chuyền sản xuất công nghệ đặc biệt kiện nhiệt độ nhiên phù hợp nguội sản phẩm sản phẩm châu Âu Phước khẳng định Nhà máy vận hành động hóa khiển nhân viên Greenpan Ảnh P Dương Ông Phạm Ngọc Sơn Chủ tịch HĐQT Greenpan JSC công nghệ dây chuyền sản xuất hiện đại giới nhập khẩu trực tiếp châu Âu Greenpan dòng sản phẩm panel PIR đa dạng ứng dụng màu sắc thể chỉnh thiết kế yêu cầu dự án Đây vật liệu nhiệt âm chống cháy kháng khuẩn dắt thị trường vật liệu xây dựng công nghệ đón đầu làn sóng dịch máy Trung Quốc Việt Nam Hiện Sanyo Việt Nam đối tác chiến lược Searefico đánh giá sản phẩm Searecifo Công ty kì vọng xuất khẩu Nhật mùa dịch COVID-19 Nói tư “ cơ đại diện Searefico biết `` bệnh doanh nghiệp thay đổi linh hoạt ứng dụng tảng công nghệ AI/AR họp hành trực tuyến hoá hoạt động thiết kế - thi công Điều phù hợp xu hướng giới COVID-19 Searecifo phản ứng ứng thời này Ngoài ra thay đổi thị trường Searecifo doanh nghiệp chỉnh dần tỉ trọng dịch vụ hoạt động thi công nâng tỉ trọng sản xuất tổng doanh thu sản xuất kinh doanh công ty mục tiêu cân 50/50 Theo đó công ty tiếp tục đi sâu lĩnh vực dân dụng ốc sạn resort… tập trung dự án EPC công trình công nghiệp kho lạnh thông minh `` dự án máy bất động sản công nghiệp qui mô ốc thời gian thi công ngắn chủ đầu tư sẵn tiền xong dây chuyền sản xuất giải quyết tình trạng ứ đọng đơn hàng Theo tôi phân khúc `` nguy cơ Searecifo Chủ tịch HĐQT Searefico chia sẻ # chương trình đặc biệt đồng hành doanh nghiệp chia sẻ truyền cảm hứng khăn đại dịch COVID-19 # mong đón chia sẻ kinh nghiệm hiến kế sách giải pháp thúc đẩy kinh doanh thức quản trị khủng hoảng… doanh nhân chèo lái DN thử thách Các thông quí DN quan báo chí tham gia # biên tập đăng tải hoàn toàn miễn phí chương trình nội dung đánh giá hữu ích thiết thực tích cực Các thông vui gửi địa email info info kèm đầu liên lạc # kiện tương tác hỗ trợ kiểm chứng thông đăng tải\n",
            "Predicted Label: ['C4G']\n",
            "True Label: ['SRF']\n",
            "========================================\n",
            "Content: Từ 2020 nay Tân Tạo tạm ứng 218,04 tỷ đồng ủy thác đầu tư 223,02 tỷ đồng Đặng Thị Hoàng Yến Ngày 15/9 CTCP Đầu tư Công nghiệp Tân Tạo ( ITA – sàn HoSE bổ sung Báo cáo quản trị 2020 2021 6 đầu 2022Trong đó 2020 6 đầu 2022 Tân Tạo ghi chi tạm ứng 218,04 tỷ đồng Đặng Thị Hoàng Yến Chủ tịch HĐQT tạm ứng 146,83 tỷ đồng đặc biệt ủy thác đầu tư 223,02 tỷ đồngTính 30/6/2022 Đặng Thị Hoàng Yến sở hữu 54,3 triệu cổ phiếu ITA chiếm 5,79 vốn lệ Đặng Thành Tâm sở hữu 29,06 triệu cổ phiếu tương đương 3,1 vốn lệTrước đó Tân Tạo công bố Báo cáo tài niên 2022 kiểm toán Công ty TNHH Dịch vụ Tư vấn Tài chínhĐiểm lưu ý Kiểm toán sở kết luận ngoại trừ Báo cáo tài niên 2022Trong đó 30/6/2022 Công ty khoản ủy thác đầu tư cá nhân Đặng Thị Hoàng Yến ( tịch HĐQT Biên Nghị quyết Đại hội đồng cổ đông 2019 2021 Tân Tạo biên họp ĐHĐCĐ 1/8/2020 Nghị quyết ĐHĐCĐ 1/8/2020 Công ty cổ Tân Đức ( ty Tân Tạo dư ủy thác 30/6/2022 314,1 tỷ đồng 223 tỷ đồng đầu ( 2022 ủy thác 91,1 tỷ đồng dư ủy thác Công ty ghi khoản mục đầu tư góp vốn đơn vị phù hợp quy định Chế độ kế toán doanh nghiệp Việt Nam chứng vốn đầu tư xác nhậnThêm nữa khoản chi ủy thác đầu tư Đặng Thị Hoàng Yến phát sinh 6 đầu 2022 chi tiền mặt tiền 223,02 tỷ đồng Kiểm toán sở kiểm chứng đối nghiệp vụ nàyBên cạnh sở kiến ngoại trừ kế toán vấn đề nhấn mạnhKiểm toán lưu thuyết minh VIII 23 “ tiềm tàng Báo cáo hợp nhất 30/6/2022 Công ty ghi 100 doanh thu toàn thời gian thuê đất phát sinh sở hạ tầng KCN Tân Tạo – Khu rộng tổng diện tích 938350 m2 ( 938350 m2 KCN Tân Đức 1764498 m2 ( 1683880 m2 vốn tương ứng bao tiền thuê đất trả ước dựa đơn giá thuê đất hợp đồng thuê đất hàng phụ lục liên quan ký kết quan Nhà thẩm quyền thời ghi doanh thuTheo Luật Đất đai 45/2013/QH2013 ban hành 29/11/2013 Nghị định hướng dẫn Công ty nghĩa vụ nộp tiền thuê đất Nhà toàn thời gian thuê tương ứng diện tích đất thuê nêu đơn giá tiền thuê đất lần tiền thể tiền Công ty trích trướcTuy nhiên hiện văn hướng cụ thể xác định đơn giá này Công ty xác định giá trị tiền thuê đất toàn thời gian thuê tương ứng diện tích đất nêu KCN Tân Tạo – Khu rộng KCN Tân ĐứcVào lập Báo cáo kiểm toán niên Tân Tạo thông báo quan Nhà thẩm quyền sở xác định giá trị tiền thuê đất diện tích đất thuê nêu chờ phản hồi quan nàyLũy kế 6 đầu năm Tân Tạo ghi doanh thu 370,84 tỷ đồng 15,3 kỳ lợi nhuận thuế 129,2 tỷ đồng 70,5 kỳ trướcTrong 2022 Tân Tạo kế hoạch kinh doanh doanh thu 777,69 tỷ đồng lợi nhuận thuế 186,85 tỷ đồng Như vậy kết thúc 6 đầu năm Công ty hoàn thành 69,1 kế hoạch lợi nhuận\n",
            "Predicted Label: ['ITA']\n",
            "True Label: ['ITA']\n",
            "========================================\n",
            "Content: Thêm phó TGĐ thời Nguyễn Bá Dương rời Coteccons Ông Từ Đại Phúc Hội đồng quản trị chấp thuận đơn nhiệm vị trí Phó Tổng giám đốc Coteccons 18 gắn bó doanh nghiệp Hội đồng quản trị ( CTCP Xây dựng Coteccons ( CTD công bố nghị quyết thông đơn nhiệm Từ Đại Phúc - Phó Tổng giám đốc 12/10 Nguồn Ảnh cắt báo cáo niên 2019 Coteccons Ông Từ Đại Phúc sinh 1975 nghiệp khoa Kiến trúc trường Đại học Kiến trúc TP HCM Ông công tác Công ty Thiết kế Miền Nam ASCA vai trò Trưởng Thiết kế Kiến trúc Công ty Tư vấn Thiết kế Công nghiệp VCC Từ 2002 Coteccons chức vụ Chỉ huy trưởng Trưởng phòng Hoàn thiện Trợ lý Tổng Giám đốc Giám đốc Phát triển Kinh doanh Từ 3/2014 chức vụ Phó Tổng Giám đốc Công ty Coteccons phụ trách hoạt động đầu tư dự án Design & Build công ty Từ 8 ghi biến động nhân Coteccons Nguyễn Bá Dương dàn lãnh đạo cũ thời lượt rời đi Nguyễn Sỹ Công - Tổng giám đốc Trần Quang Quân - Phó Tổng giám đốc Trần Văn Chính - Phó Tổng giám đốc\b Nguyễn Quốc Hiệp - thành viên HĐQT Mới Từ Đại Phúc công tác 18 Coteccons thời cựu thuyền trưởng Nguyễn Bá Dương tiếp tục rời 1 ngành xây dựng Sau Phúc rời đi ban giám đốc Coteccons Võ Thanh Liêm - Quyền Tổng giám đốc 19 gắn bó Coteccons hai Phó Tổng giám đốc Phạm Quân Lực Trần Trí Gia Nguyễn Trong đó Lực Gia Nguyễn bổ nhiệm 10 Gần đây Coteccons liên tục tuyển dụng nhân quan trọng máy giám đốc dự án huy trưởng huy phó chuyên viên pháp chế kế toán chuyên viên phòng ban kĩ thuật hành Kết thúc quí III tổng nhân viên Coteccons 1793 người 479 thời 2019 Về tình hình kinh doanh quí III Coteccons 2776 tỉ đồng doanh thu thuần 89 tỉ đồng lãi thuế lượt 55 46 kì 2019 Quí III/2020 ghi lợi nhuận thuế doanh thu Coteccons quí II/2015 Luỹ kế 9 đầu năm Coteccons 10301 tỉ đồng doanh thu thuần 369 tỉ đồng lãi thuế lượt 37 23 kì Như vậy 9 tháng Cotecccons thực hiện 64 kế hoạch doanh thu 61 mục tiêu lợi nhuận EPS 4 quí 8000 đồng\n",
            "Predicted Label: ['CTD']\n",
            "True Label: ['CTD']\n",
            "========================================\n",
            "Content: Tasco ( kéo thời gian thực hiện hoán đổi cổ phiếu SVC Holdings CTCP Tasco ( chứng khoán HUT - sàn HNX thay đổi kế hoạch phát hành cổ phiếu hoán đổi CTCP SVC HoldingsCụ thể Tasco biết nội dung sửa đổi chủ yếu thời gian thực hiện đổi Trong đó thay thực hiện 2022 kế hoạch thông ĐHĐCĐ niên 2022 Tasco biết tiến hành Ủy ban Chứng khoán Nhà chấp thuậnVề phương án phát hành Tasco nguyên kế hoạch dự kiến phát hành tối đa 543,88 triệu cổ phiếu hoán đổi cổ phiếu CTCP SVC Holdings tỷ lệ 1:1 thông 21 cổ đông CTCP SVC HoldingsCổ phiếu HUT phát hành phương án hạn chế nhượng 1 kết thúc đợt phát hànhTheo nội dung thông ĐHĐCĐ niên 2022 mục đích thực hiện phát hành hoán đổi Tasco trở thành chủ sở hữu SVC HoldingsSVC Holdings vốn lệ 5439 tỷ đồng Ngành nghề kinh doanh kinh doanh bất động sản lẻ phân phối ô tô Công ty cổ đông CTCP Dịch vụ Tổng hợp Sài Gòn ( mã SVC – sàn HoSE tỷ lệ 53,68 Savico Công ty phân phối 10 hãng ô tô phổ thông ( 22 thị phân phối xe Toyota chiếm 33 thị xe Ford… 1 thương hiệu ô tô hạng VolvoBên cạnh mảng phân phối xe Savico chủ đầu tư dự án bất động sản Trung tâm Savico Megamall Toyota Giải Phóng Toyota Long Biên lộ trình thực hiện hoán đổi Tasco tái cấu trúc SVC Holdings trở thành Công ty TNHH MTV Sau đó Tasco SVC Holdings tiếp tục trì hoạt động kinh doanh bình thực hiện hoán đổiXét hoạt động kinh doanh quý IV/2022 Tasco ghi doanh thu 316,49 tỷ đồng 28,6 kỳ lợi nhuận thuế ghi 26,82 tỷ đồng 84,8 kỳ Trong đó biên lợi nhuận gộp 31,9 19,7 kế 2022 Tasco ghi doanh thu 1079,65 tỷ đồng 24 kỳ lợi nhuận thuế ghi 138,24 tỷ đồng 213,1 kỳ trướcTrong 2022 Tasco kế hoạch kinh doanh doanh thu 11400 tỷ đồng lợi nhuận thuế 250 tỷ đồng Như vậy kết thúc 2022 Công ty hoàn thành 55,3 kế hoạch lợi nhuận\n",
            "Predicted Label: ['DIG']\n",
            "True Label: ['HUT']\n",
            "========================================\n",
            "Content: Dabaco ( mục tiêu 2023 lãi 569 tỷ đồng đề xuất chia cổ tức Năm 2023 Dabaco mục tiêu lãi thuế 569 tỷ đồng 2022 5 tỷ đồng CTCP Tập đoàn Dabaco Việt Nam ( - Mã DBC công bố tài liệu họp Đại hội đồng cổ đông ( niên 2023 dự kiến diễn Bắc Ninh 22/4 Năm nay doanh nghiệp mục tiêu doanh thu 24562 tỷ đồng bao tiêu thụ nội Trong mục tiêu lợi nhuận thuế 569 tỷ đồng gấp 2022 ( tỷ đồng Công ty lợi nhuận 2022 ảnh hưởng khăn thị trường ngành chăn nuôi ảnh hưởng nề giá nguyên liện mạnh tiêu thụ sản phẩm chậm giá giá thành sản xuất Năm 2023 bối cảnh kinh tế dự báo khăn thách thức Dabaco tiếp tục thực hiện chiến lược phát triển mẽ lĩnh vực nông nghiệp – thực phẩm ứng dụng công nghệ chuỗi khép kín 3F ( – Farm – Food Đồng thời công ty tận dụng hội lĩnh vực nâng hiệu sản xuất kinh doanh Về kế hoạch đầu tư xây dựng bản công ty kế hoạch rộng sở sản xuất lĩnh vực bổ trợ tích cực kiếm hội triển khai dự án lĩnh vực tối đa hóa lợi ích Cụ thể Dabaco rà soát đầu tư hoàn chỉnh sử dụng dự án dở dang tòa Parkview City khu xã hội khà máy sản xuất Vắc – xin triển khai dự án phê duyệt thông mặt chủ trương Đường H2 hình thức BT dự án đối ứng khu chăn nuôi Quảng Ninh máy ép dầu thực vật giai đoạn II Công ty dự kiến trình đại hội kế hoạch phân phối lợi nhuận 2022 Dabaco đề xuất toàn lợi nhuận thuế phân phối 31/12/2022 8 tỷ đồng bổ sung quỹ phát triển công ty Đồng thời trích thù lao Hội đồng quản trị Ban kiểm soát Thư ký HĐQT tối đa 1,5 lợi nhuận thuế\n",
            "Predicted Label: ['DBC']\n",
            "True Label: ['DBC']\n",
            "========================================\n",
            "Content: Ngày 12/7 Nhựa Tiền Phong ( chốt quyền chia cổ phiếu thưởng tỷ lệ 10 CTCP Nhựa Thiếu niên Tiền Phong ( chứng khoán NTP - sàn HNX thông báo đăng ký thực hiện quyền cổ phiếu thưởngCụ thể 12/7 NTP chốt quyền chia cổ phiếu thưởng tỷ lệ 10 ( ứng 10 cổ phiếu 1 cổ phiếu mới Trước đó Công ty thông báo phát hành 11,77 triệu cổ phiếu phổ thông cổ đông hiện hữu vốn cổ vốn chủ sở hữuTổng giá trị phát hành 117,7 tỷ đồng Nguồn vốn phát hành quỹ đầu tư phát triển BCTC 2021 kiểm toán Công ty 31/12/2021 ( 1034,56 tỷ đồng Sau phát hành thành công vốn lệ NTP 1295,7 tỷ đồng Cổ phiếu phát hành cổ phiếu phổ thông hạn chế quyền nhượng Về tình hình kinh doanh Công ty quý I/2022 Nhựa Tiền Phong ghi doanh thu 1085 tỷ đồng nhẹ kỳ lợi nhuận thuế 171,46 tỷ đồng lợi nhuận thuế 149 tỷ đồng 15 Tiền Phong lý giải nguyên nhân lợi nhuận kỳ Công ty ghi doanh thu hoạt động tài 12 tỷ đồng gấp 3,3 kỳ Ngoài ra Công ty liên danh liên kết lãi 32 tỷ đồng ( kỳ ngoái lãi 1 tỷ đồng Tại ĐHĐCĐ niên 2022 Công ty thông mục tiêu doanh thu 5175 tỷ đồng lợi nhuận thuế 465 tỷ đồng Như vậy kết thúc quý I Công ty hoàn thành 21 mục tiêu doanh thu 37 mục tiêu lợi nhuận\n",
            "Predicted Label: ['AAA']\n",
            "True Label: ['NTP']\n",
            "========================================\n",
            "Content: IBC tiếng thông liên quan Apax English Ngày 14/11 CTCP Đầu tư Apax Holdings ( IBC giải trình thông liên quan Apax English báo chí Giải trình Sở Giao dịch Chứng khoán TPHCM ( IBC Apax English công ty Công ty tỷ lệ sở hữu 6636 Một thông báo chí nêu liên quan công ty Apax Holdings tiến hành rà soát kiểm tra xác minh Kết kiểm tra thấy “ vấn đề báo chí tồn Apax English lãnh đạo Apax English phối hợp Apax Holdings phương án xử lý phù hợp Công ty khẳng định thông Apax English xuất hiện báo chí “ ảnh hưởng tình hình sản xuất kinh doanh tình hình quản trị Apax Holdings Apax Holdings công ty mẹ hoạt động độc lập Ngoài ra IBC hiện Công ty sở hữu hai công ty CTCP Phát triển Igarten CTCP Trường liên Firbank Australia hoạt động tốt phát triển Quý 3/2022 IBC ghi hoạt động hiệu công ty con đặc biệt CTCP Phát triển giáo dục iGarten tổng doanh thu 97 tỷ đồng lợi nhuận thuế 163 tỷ đồng Lũy kế 9 đầu 2022 đóng góp doanh thu Apax English iGarten hệ thống lượt 8363 tỷ đồng 2257 tỷ đồng lợi nhuận thuế 173 tỷ đồng 248 tỷ đồng Theo BCTC quý 3/2022 tổng doanh thu hợp IBC 4085 tỷ đồng lợi nhuận thuế 26 tỷ đồng Lũy kế 9 đầu 2022 doanh thu hợp IBC 1,043 tỷ đồng lợi nhuận thuế hợp 237 tỷ đồng Mới đây IBC ACI Capital thức ký kết hợp tác chia sẻ kinh nghiệm nâng năng lực quản trị tiếp cận vốn đối tác giới phục vụ phát triển hệ sinh thái giáo dục toàn diện IBC tổng đầu tư 150 triệu USD ACI Capital tiến hành nghiên cứu khảo sát phát triển chuỗi hệ thống giáo dục công ty hệ sinh thái Apax Holdings đồng thời đầu tư phát triển rộng hệ thống trường liên giai đoạn tới định hướng chiến lược Công ty\n",
            "Predicted Label: ['OCH']\n",
            "True Label: ['IBC']\n",
            "========================================\n",
            "Content: ĐHĐCĐ VIB Thông kế hoạch chia cổ tức 35 lợi nhuận 12200 tỷ đồng Sáng 15/3/2023 Ngân hàng Quốc Tế Việt Nam ( tổ chức Đại hội đồng cổ đông ( TPHCM Phương án chia cổ tức tỷ lệ 35 cổ tức tiền mặt cổ phiếu thưởng kế hoạch lợi nhuận thuế 12200 tỷ đồng 2023 ĐHĐCĐ thông quaTheo báo cáo HĐQT ĐHĐCĐ 6 đầu lộ trình đổi chiến lược 10 ( VIB thiết lập tảng vững trưởng trội quy mô chất giá trị thương hiệu Ngân hàng đầu ngành hiệu kinh doanh trưởng quy mô tài sản doanh thu quản trị chi phí hiệu quả kiểm soát rủi ro chặt chẽ Tăng trưởng lợi nhuận hàng năm 2017-2022 ( BCTC 2016-2022 nhuận VIB trưởng bình quân ( 57 suốt giai đoạn 6 qua hiệu lợi nhuận vốn chủ sở hữu ( 30 liên tiếp trội trung bình Top 10 ngân hàng niêm yết Cũng báo cáo HĐQT VIB ngân hàng tỷ lệ vay lẻ thị trường 90 đồng thời băng tỷ trọng trái phiếu tổng dư nợ ngành chiếm 0,8 tổng dư nợTrong 2022 NHNN xếp hạng VIB ngành dựa đánh giá độ an toàn vốn chất tài sản năng lực quản trị hiệu sinh lời quản trị khoản độ nhạy VIB tuân thủ NHNN đề xuyên đi tiên phong áp dụng chuẩn mực quốc tế Basel II Basel III IFRSTrả cổ đông đại hội Đặng Khắc Vỹ - Chủ tịch HĐQT VIB biết 2022 2023 khăn đối thị trường bất động sản trái phiếu doanh nghiệp Trong báo cáo cập nhật đây tổng dư nợ trái phiếu doanh nghiệp chiếm 1800 tỷ đồng tổng 232000 tỷ đồng dư nợ Ngân hàngCòn vay bất động sản 3800 tỷ đồng ngân hàng khác bất động sản chủ yếu vay công ty hoạt động Việt NamVIB 3 vay trái phiếu bất động sản tổng dư nợ Còn báo cáo Moody dư nợ vốn chủ sở hữu 15 đại đa ngân hàng hơnVIB 90 dư nợ mảng ngân hàng lẻ 90 dư nợ tài sản bảo đảm Cho vay chiếm 5 vay kinh doanh chiếm 17 vay ô tô 18-19 vay sửa chữa nhà vay thẻ vay tài sản chấp sổ tiết kiệmVề kinh doanh VIB ngân hàng khác VIB vay dự án triển khai condotel… vay sổ hồng sổ đỏ vay đa mục đích kinh doanh Nếu thị trường bất động sản 30-40 chất tài sản đảm bảo VIB an toànĐHĐCĐ VIB thông kế hoạch vốn lệ 25368 tỷ đồng 20,36 chi cổ tức 35 tối đa 15 cổ tức tiền mặt 20 cổ phiếu thưởngTỷ lệ chi cổ tức VIB ( Tài liệu ĐHĐCĐ niên 2017-2022 mục tiêu thu hút 10 triệu hàng 2026 lợi nhuận trưởng kép 20 - 30 giai đoạn 2022-2026 ĐHĐCĐ thông kế hoạch kinh doanh 2023 HĐQT đề xuất sau hoạch kinh doanh 2023 VIB ĐHCĐ thông quaTheo Chủ tịch VIB kế hoạch lợi nhuận cân nhắc dựa yếu tố VIB kế hoạch lợi nhuận hợp lý mô hình vận hành VIBTrong đầu 2023 NIM nhẹ 4,6 Tuy nhiên VIB biện pháp NHNN lãi suất hành lãi suất huy động đồng thời hỗ trợ hàng vay vốn lãi vay Do đó VIB NIM 4,5-4,6 cạnh đó hoạt động Bancassurance 2022 ảnh hưởng nhẹ yếu tố thị trường bối cảnh trái phiếu doanh nghiệp ngân hàng ngân hàng sản phẩm Bancassurance xác uy tín góc đối sản phẩm ảnh hưởngTrong 2022 Bancassurance VIB trưởng 8 VIB cân bảo hiểm hàng vay hàng tiền gửi VIB đàm phán Prudential gia hạn hợp đồng 13 tới lợi ích thiết thực tham gia mua bảo hiểm bảo hiểm khoản vay bảo hiểm đầu tư Ngân hàng tưởng 2023 hoạt động Bancassurance trưởng tốtNgoài ra ĐHĐCĐ VIB thông danh sách thành viên HĐQT nhiệm kỳ IX ( - 2027 5 thành viên HĐQT 1 thành viên độc lập Trong 5 thành viên HĐQT 4 thành viên tiếp tục trúng cử Đặng Khắc Vỹ Chủ tịch HĐQT Đặng Văn Sơn Phó Chủ tịch HĐQT Hàn Ngọc Vũ thành viên HĐQT kiêm Tổng giám đốc Đỗ Xuân Hoàng thành viên HĐQT VIB\n",
            "Predicted Label: ['OCB']\n",
            "True Label: ['VIB']\n",
            "========================================\n",
            "Test Accuracy: 0.5349593495934959\n"
          ]
        },
        {
          "output_type": "execute_result",
          "data": {
            "text/plain": [
              "0.5349593495934959"
            ]
          },
          "metadata": {},
          "execution_count": 213
        }
      ]
    },
    {
      "cell_type": "markdown",
      "source": [
        "# Naive Bayes"
      ],
      "metadata": {
        "id": "dQ72_pvwZ2pV"
      }
    },
    {
      "cell_type": "code",
      "source": [
        "from sklearn.feature_extraction.text import CountVectorizer\n",
        "from sklearn.naive_bayes import MultinomialNB\n",
        "from sklearn.pipeline import make_pipeline"
      ],
      "metadata": {
        "id": "ruqEZWsQZ5Qt"
      },
      "execution_count": 142,
      "outputs": []
    },
    {
      "cell_type": "code",
      "source": [
        "test_content = e_df.iloc[1].get(\"Content\")\n",
        "print(test_content)\n",
        "print(\"------------------------------------------------------------\")\n",
        "sentences = nltk.tokenize.sent_tokenize(test_content)\n",
        "for s in sentences:\n",
        "  print(s)"
      ],
      "metadata": {
        "colab": {
          "base_uri": "https://localhost:8080/"
        },
        "id": "3CnlxtungvWe",
        "outputId": "5d31fef5-59f5-478c-bb61-3f32ecd1ed10"
      },
      "execution_count": 143,
      "outputs": [
        {
          "output_type": "stream",
          "name": "stdout",
          "text": [
            "Hòa Phát lãi 4 ngàn tỷ quý 2 60 Quý 2/2022 Tập đoàn Hòa Phát ( HPG ghi lợi nhuận thuế 4,023 tỷ đồng 58 Lũy kế 6 đầu năm Hòa Phát ghi 82 ngàn tỷ đồng doanh thu 122 ngàn tỷ lợi nhuận thuế tương ứng 27 kỳ trước hoàn thành 46 kế hoạch Trong quý 2 sản hàng phôi thép thép xây dựng thép cuộn cán nóng 18 triệu tấn 380,000 thép xây dựng xuất khẩu Tiêu thụ ống thép tôn mạ lượt 159,000 75,000 Hòa Phát vị thị 1 Việt Nam thép xây dựng ( ống thép ( Lũy kế 6 đầu năm Tập đoàn Hòa Phát sản xuất 43 triệu thép thô 8 kỳ Tiêu thụ thép xây dựng phôi thép HRC 4 triệu tấn 6 kỳ Trong đó thép xây dựng 238 triệu tấn 29 6 đầu 2021 Sau nửa năm hàng HRC Hòa Phát ghi 14 triệu tấn 7 kỳ Sản phẩm hạ HRC ống thép tôn mạ lượt 377,000 180,000 tấn tương đương tiêu thụ nửa đầu 2021 Hiện tại dự án Khu liên hợp sản xuất gang thép Hòa Phát Dung Quất 2 dự án khai thác mỏ quặng sắt Úc Nhà máy sản xuất vỏ container Bà Rịa-Vũng Tàu trung tâm sản xuất hàng gia dụng Hà Nam…đang đẩy tiến độ Trong đó dự án hàng điện máy gia dụng vỏ container sản phẩm đầu tiên quý 3-4/2022 Hòa Phát dự kiến hoàn thành dự án Dung Quất 2 2025\n",
            "------------------------------------------------------------\n",
            "Hòa Phát lãi 4 ngàn tỷ quý 2 60 Quý 2/2022 Tập đoàn Hòa Phát ( HPG ghi lợi nhuận thuế 4,023 tỷ đồng 58 Lũy kế 6 đầu năm Hòa Phát ghi 82 ngàn tỷ đồng doanh thu 122 ngàn tỷ lợi nhuận thuế tương ứng 27 kỳ trước hoàn thành 46 kế hoạch Trong quý 2 sản hàng phôi thép thép xây dựng thép cuộn cán nóng 18 triệu tấn 380,000 thép xây dựng xuất khẩu Tiêu thụ ống thép tôn mạ lượt 159,000 75,000 Hòa Phát vị thị 1 Việt Nam thép xây dựng ( ống thép ( Lũy kế 6 đầu năm Tập đoàn Hòa Phát sản xuất 43 triệu thép thô 8 kỳ Tiêu thụ thép xây dựng phôi thép HRC 4 triệu tấn 6 kỳ Trong đó thép xây dựng 238 triệu tấn 29 6 đầu 2021 Sau nửa năm hàng HRC Hòa Phát ghi 14 triệu tấn 7 kỳ Sản phẩm hạ HRC ống thép tôn mạ lượt 377,000 180,000 tấn tương đương tiêu thụ nửa đầu 2021 Hiện tại dự án Khu liên hợp sản xuất gang thép Hòa Phát Dung Quất 2 dự án khai thác mỏ quặng sắt Úc Nhà máy sản xuất vỏ container Bà Rịa-Vũng Tàu trung tâm sản xuất hàng gia dụng Hà Nam…đang đẩy tiến độ Trong đó dự án hàng điện máy gia dụng vỏ container sản phẩm đầu tiên quý 3-4/2022 Hòa Phát dự kiến hoàn thành dự án Dung Quất 2 2025\n"
          ]
        }
      ]
    },
    {
      "cell_type": "code",
      "source": [
        "train_data, test_data, train_labels, test_labels = train_test_split(e_df['Content'], e_df['Encode Label'], random_state=42)"
      ],
      "metadata": {
        "id": "7ilSeDfvx3vm"
      },
      "execution_count": 144,
      "outputs": []
    },
    {
      "cell_type": "code",
      "source": [
        "model_nb = make_pipeline(CountVectorizer(), MultinomialNB())"
      ],
      "metadata": {
        "id": "xHy-8i_1hUHa"
      },
      "execution_count": 145,
      "outputs": []
    },
    {
      "cell_type": "code",
      "source": [
        "# Train the model\n",
        "model_nb.fit(train_data, train_labels)\n"
      ],
      "metadata": {
        "colab": {
          "base_uri": "https://localhost:8080/",
          "height": 124
        },
        "id": "ILdqAvj4hIvd",
        "outputId": "32daaf6b-f2e2-43d4-d3a8-b54fa097e881"
      },
      "execution_count": 146,
      "outputs": [
        {
          "output_type": "execute_result",
          "data": {
            "text/plain": [
              "Pipeline(steps=[('countvectorizer', CountVectorizer()),\n",
              "                ('multinomialnb', MultinomialNB())])"
            ],
            "text/html": [
              "<style>#sk-container-id-2 {color: black;background-color: white;}#sk-container-id-2 pre{padding: 0;}#sk-container-id-2 div.sk-toggleable {background-color: white;}#sk-container-id-2 label.sk-toggleable__label {cursor: pointer;display: block;width: 100%;margin-bottom: 0;padding: 0.3em;box-sizing: border-box;text-align: center;}#sk-container-id-2 label.sk-toggleable__label-arrow:before {content: \"▸\";float: left;margin-right: 0.25em;color: #696969;}#sk-container-id-2 label.sk-toggleable__label-arrow:hover:before {color: black;}#sk-container-id-2 div.sk-estimator:hover label.sk-toggleable__label-arrow:before {color: black;}#sk-container-id-2 div.sk-toggleable__content {max-height: 0;max-width: 0;overflow: hidden;text-align: left;background-color: #f0f8ff;}#sk-container-id-2 div.sk-toggleable__content pre {margin: 0.2em;color: black;border-radius: 0.25em;background-color: #f0f8ff;}#sk-container-id-2 input.sk-toggleable__control:checked~div.sk-toggleable__content {max-height: 200px;max-width: 100%;overflow: auto;}#sk-container-id-2 input.sk-toggleable__control:checked~label.sk-toggleable__label-arrow:before {content: \"▾\";}#sk-container-id-2 div.sk-estimator input.sk-toggleable__control:checked~label.sk-toggleable__label {background-color: #d4ebff;}#sk-container-id-2 div.sk-label input.sk-toggleable__control:checked~label.sk-toggleable__label {background-color: #d4ebff;}#sk-container-id-2 input.sk-hidden--visually {border: 0;clip: rect(1px 1px 1px 1px);clip: rect(1px, 1px, 1px, 1px);height: 1px;margin: -1px;overflow: hidden;padding: 0;position: absolute;width: 1px;}#sk-container-id-2 div.sk-estimator {font-family: monospace;background-color: #f0f8ff;border: 1px dotted black;border-radius: 0.25em;box-sizing: border-box;margin-bottom: 0.5em;}#sk-container-id-2 div.sk-estimator:hover {background-color: #d4ebff;}#sk-container-id-2 div.sk-parallel-item::after {content: \"\";width: 100%;border-bottom: 1px solid gray;flex-grow: 1;}#sk-container-id-2 div.sk-label:hover label.sk-toggleable__label {background-color: #d4ebff;}#sk-container-id-2 div.sk-serial::before {content: \"\";position: absolute;border-left: 1px solid gray;box-sizing: border-box;top: 0;bottom: 0;left: 50%;z-index: 0;}#sk-container-id-2 div.sk-serial {display: flex;flex-direction: column;align-items: center;background-color: white;padding-right: 0.2em;padding-left: 0.2em;position: relative;}#sk-container-id-2 div.sk-item {position: relative;z-index: 1;}#sk-container-id-2 div.sk-parallel {display: flex;align-items: stretch;justify-content: center;background-color: white;position: relative;}#sk-container-id-2 div.sk-item::before, #sk-container-id-2 div.sk-parallel-item::before {content: \"\";position: absolute;border-left: 1px solid gray;box-sizing: border-box;top: 0;bottom: 0;left: 50%;z-index: -1;}#sk-container-id-2 div.sk-parallel-item {display: flex;flex-direction: column;z-index: 1;position: relative;background-color: white;}#sk-container-id-2 div.sk-parallel-item:first-child::after {align-self: flex-end;width: 50%;}#sk-container-id-2 div.sk-parallel-item:last-child::after {align-self: flex-start;width: 50%;}#sk-container-id-2 div.sk-parallel-item:only-child::after {width: 0;}#sk-container-id-2 div.sk-dashed-wrapped {border: 1px dashed gray;margin: 0 0.4em 0.5em 0.4em;box-sizing: border-box;padding-bottom: 0.4em;background-color: white;}#sk-container-id-2 div.sk-label label {font-family: monospace;font-weight: bold;display: inline-block;line-height: 1.2em;}#sk-container-id-2 div.sk-label-container {text-align: center;}#sk-container-id-2 div.sk-container {/* jupyter's `normalize.less` sets `[hidden] { display: none; }` but bootstrap.min.css set `[hidden] { display: none !important; }` so we also need the `!important` here to be able to override the default hidden behavior on the sphinx rendered scikit-learn.org. See: https://github.com/scikit-learn/scikit-learn/issues/21755 */display: inline-block !important;position: relative;}#sk-container-id-2 div.sk-text-repr-fallback {display: none;}</style><div id=\"sk-container-id-2\" class=\"sk-top-container\"><div class=\"sk-text-repr-fallback\"><pre>Pipeline(steps=[(&#x27;countvectorizer&#x27;, CountVectorizer()),\n",
              "                (&#x27;multinomialnb&#x27;, MultinomialNB())])</pre><b>In a Jupyter environment, please rerun this cell to show the HTML representation or trust the notebook. <br />On GitHub, the HTML representation is unable to render, please try loading this page with nbviewer.org.</b></div><div class=\"sk-container\" hidden><div class=\"sk-item sk-dashed-wrapped\"><div class=\"sk-label-container\"><div class=\"sk-label sk-toggleable\"><input class=\"sk-toggleable__control sk-hidden--visually\" id=\"sk-estimator-id-4\" type=\"checkbox\" ><label for=\"sk-estimator-id-4\" class=\"sk-toggleable__label sk-toggleable__label-arrow\">Pipeline</label><div class=\"sk-toggleable__content\"><pre>Pipeline(steps=[(&#x27;countvectorizer&#x27;, CountVectorizer()),\n",
              "                (&#x27;multinomialnb&#x27;, MultinomialNB())])</pre></div></div></div><div class=\"sk-serial\"><div class=\"sk-item\"><div class=\"sk-estimator sk-toggleable\"><input class=\"sk-toggleable__control sk-hidden--visually\" id=\"sk-estimator-id-5\" type=\"checkbox\" ><label for=\"sk-estimator-id-5\" class=\"sk-toggleable__label sk-toggleable__label-arrow\">CountVectorizer</label><div class=\"sk-toggleable__content\"><pre>CountVectorizer()</pre></div></div></div><div class=\"sk-item\"><div class=\"sk-estimator sk-toggleable\"><input class=\"sk-toggleable__control sk-hidden--visually\" id=\"sk-estimator-id-6\" type=\"checkbox\" ><label for=\"sk-estimator-id-6\" class=\"sk-toggleable__label sk-toggleable__label-arrow\">MultinomialNB</label><div class=\"sk-toggleable__content\"><pre>MultinomialNB()</pre></div></div></div></div></div></div></div>"
            ]
          },
          "metadata": {},
          "execution_count": 146
        }
      ]
    },
    {
      "cell_type": "code",
      "source": [
        "# Predict the labels of the test set\n",
        "predictions = model_nb.predict(test_data)\n",
        "\n",
        "# Print out the accuracy\n",
        "print(f\"Accuracy: {accuracy_score(test_labels, predictions)}\")"
      ],
      "metadata": {
        "colab": {
          "base_uri": "https://localhost:8080/"
        },
        "id": "vFY6ODvfyykq",
        "outputId": "ee445619-0050-44c2-bb61-5585c702164d"
      },
      "execution_count": 147,
      "outputs": [
        {
          "output_type": "stream",
          "name": "stdout",
          "text": [
            "Accuracy: 0.39288811795316564\n"
          ]
        }
      ]
    }
  ],
  "metadata": {
    "accelerator": "GPU",
    "colab": {
      "provenance": [],
      "gpuType": "A100",
      "toc_visible": true,
      "machine_shape": "hm"
    },
    "kernelspec": {
      "display_name": "Python 3",
      "name": "python3"
    },
    "language_info": {
      "name": "python"
    },
    "widgets": {
      "application/vnd.jupyter.widget-state+json": {
        "215515780fa64a488d2c343a53173d10": {
          "model_module": "@jupyter-widgets/controls",
          "model_name": "HBoxModel",
          "model_module_version": "1.5.0",
          "state": {
            "_dom_classes": [],
            "_model_module": "@jupyter-widgets/controls",
            "_model_module_version": "1.5.0",
            "_model_name": "HBoxModel",
            "_view_count": null,
            "_view_module": "@jupyter-widgets/controls",
            "_view_module_version": "1.5.0",
            "_view_name": "HBoxView",
            "box_style": "",
            "children": [
              "IPY_MODEL_8b47f547ed784ae9b5f12f8b297d7235",
              "IPY_MODEL_01fb9361474d42ea913c4946d0bdb9b2",
              "IPY_MODEL_bcaedb6d2d2749eba634ed840e8181f2"
            ],
            "layout": "IPY_MODEL_70ea38d181cf4717a0128dbf77a3435d"
          }
        },
        "8b47f547ed784ae9b5f12f8b297d7235": {
          "model_module": "@jupyter-widgets/controls",
          "model_name": "HTMLModel",
          "model_module_version": "1.5.0",
          "state": {
            "_dom_classes": [],
            "_model_module": "@jupyter-widgets/controls",
            "_model_module_version": "1.5.0",
            "_model_name": "HTMLModel",
            "_view_count": null,
            "_view_module": "@jupyter-widgets/controls",
            "_view_module_version": "1.5.0",
            "_view_name": "HTMLView",
            "description": "",
            "description_tooltip": null,
            "layout": "IPY_MODEL_d4c14e7508334eb495400551ebbe9494",
            "placeholder": "​",
            "style": "IPY_MODEL_17184e2cb7b04407ad997fdc8c12f397",
            "value": "Training:  32%"
          }
        },
        "01fb9361474d42ea913c4946d0bdb9b2": {
          "model_module": "@jupyter-widgets/controls",
          "model_name": "FloatProgressModel",
          "model_module_version": "1.5.0",
          "state": {
            "_dom_classes": [],
            "_model_module": "@jupyter-widgets/controls",
            "_model_module_version": "1.5.0",
            "_model_name": "FloatProgressModel",
            "_view_count": null,
            "_view_module": "@jupyter-widgets/controls",
            "_view_module_version": "1.5.0",
            "_view_name": "ProgressView",
            "bar_style": "danger",
            "description": "",
            "description_tooltip": null,
            "layout": "IPY_MODEL_4e358f5261974e4499ae6af778734183",
            "max": 100,
            "min": 0,
            "orientation": "horizontal",
            "style": "IPY_MODEL_d4e61fbee1234177a24a75958f126fe2",
            "value": 32
          }
        },
        "bcaedb6d2d2749eba634ed840e8181f2": {
          "model_module": "@jupyter-widgets/controls",
          "model_name": "HTMLModel",
          "model_module_version": "1.5.0",
          "state": {
            "_dom_classes": [],
            "_model_module": "@jupyter-widgets/controls",
            "_model_module_version": "1.5.0",
            "_model_name": "HTMLModel",
            "_view_count": null,
            "_view_module": "@jupyter-widgets/controls",
            "_view_module_version": "1.5.0",
            "_view_name": "HTMLView",
            "description": "",
            "description_tooltip": null,
            "layout": "IPY_MODEL_a98330245a5240e5b8c6a0b10c5d5b4e",
            "placeholder": "​",
            "style": "IPY_MODEL_3ba5f313ece64cc5b45d6d670cae540b",
            "value": " 32/100 [17:43&lt;35:54, 31.68s/it, train_loss=2.63, valid_loss=2, valid_acc=0.535, train_acc=0.39]"
          }
        },
        "70ea38d181cf4717a0128dbf77a3435d": {
          "model_module": "@jupyter-widgets/base",
          "model_name": "LayoutModel",
          "model_module_version": "1.2.0",
          "state": {
            "_model_module": "@jupyter-widgets/base",
            "_model_module_version": "1.2.0",
            "_model_name": "LayoutModel",
            "_view_count": null,
            "_view_module": "@jupyter-widgets/base",
            "_view_module_version": "1.2.0",
            "_view_name": "LayoutView",
            "align_content": null,
            "align_items": null,
            "align_self": null,
            "border": null,
            "bottom": null,
            "display": null,
            "flex": null,
            "flex_flow": null,
            "grid_area": null,
            "grid_auto_columns": null,
            "grid_auto_flow": null,
            "grid_auto_rows": null,
            "grid_column": null,
            "grid_gap": null,
            "grid_row": null,
            "grid_template_areas": null,
            "grid_template_columns": null,
            "grid_template_rows": null,
            "height": null,
            "justify_content": null,
            "justify_items": null,
            "left": null,
            "margin": null,
            "max_height": null,
            "max_width": null,
            "min_height": null,
            "min_width": null,
            "object_fit": null,
            "object_position": null,
            "order": null,
            "overflow": null,
            "overflow_x": null,
            "overflow_y": null,
            "padding": null,
            "right": null,
            "top": null,
            "visibility": null,
            "width": null
          }
        },
        "d4c14e7508334eb495400551ebbe9494": {
          "model_module": "@jupyter-widgets/base",
          "model_name": "LayoutModel",
          "model_module_version": "1.2.0",
          "state": {
            "_model_module": "@jupyter-widgets/base",
            "_model_module_version": "1.2.0",
            "_model_name": "LayoutModel",
            "_view_count": null,
            "_view_module": "@jupyter-widgets/base",
            "_view_module_version": "1.2.0",
            "_view_name": "LayoutView",
            "align_content": null,
            "align_items": null,
            "align_self": null,
            "border": null,
            "bottom": null,
            "display": null,
            "flex": null,
            "flex_flow": null,
            "grid_area": null,
            "grid_auto_columns": null,
            "grid_auto_flow": null,
            "grid_auto_rows": null,
            "grid_column": null,
            "grid_gap": null,
            "grid_row": null,
            "grid_template_areas": null,
            "grid_template_columns": null,
            "grid_template_rows": null,
            "height": null,
            "justify_content": null,
            "justify_items": null,
            "left": null,
            "margin": null,
            "max_height": null,
            "max_width": null,
            "min_height": null,
            "min_width": null,
            "object_fit": null,
            "object_position": null,
            "order": null,
            "overflow": null,
            "overflow_x": null,
            "overflow_y": null,
            "padding": null,
            "right": null,
            "top": null,
            "visibility": null,
            "width": null
          }
        },
        "17184e2cb7b04407ad997fdc8c12f397": {
          "model_module": "@jupyter-widgets/controls",
          "model_name": "DescriptionStyleModel",
          "model_module_version": "1.5.0",
          "state": {
            "_model_module": "@jupyter-widgets/controls",
            "_model_module_version": "1.5.0",
            "_model_name": "DescriptionStyleModel",
            "_view_count": null,
            "_view_module": "@jupyter-widgets/base",
            "_view_module_version": "1.2.0",
            "_view_name": "StyleView",
            "description_width": ""
          }
        },
        "4e358f5261974e4499ae6af778734183": {
          "model_module": "@jupyter-widgets/base",
          "model_name": "LayoutModel",
          "model_module_version": "1.2.0",
          "state": {
            "_model_module": "@jupyter-widgets/base",
            "_model_module_version": "1.2.0",
            "_model_name": "LayoutModel",
            "_view_count": null,
            "_view_module": "@jupyter-widgets/base",
            "_view_module_version": "1.2.0",
            "_view_name": "LayoutView",
            "align_content": null,
            "align_items": null,
            "align_self": null,
            "border": null,
            "bottom": null,
            "display": null,
            "flex": null,
            "flex_flow": null,
            "grid_area": null,
            "grid_auto_columns": null,
            "grid_auto_flow": null,
            "grid_auto_rows": null,
            "grid_column": null,
            "grid_gap": null,
            "grid_row": null,
            "grid_template_areas": null,
            "grid_template_columns": null,
            "grid_template_rows": null,
            "height": null,
            "justify_content": null,
            "justify_items": null,
            "left": null,
            "margin": null,
            "max_height": null,
            "max_width": null,
            "min_height": null,
            "min_width": null,
            "object_fit": null,
            "object_position": null,
            "order": null,
            "overflow": null,
            "overflow_x": null,
            "overflow_y": null,
            "padding": null,
            "right": null,
            "top": null,
            "visibility": null,
            "width": null
          }
        },
        "d4e61fbee1234177a24a75958f126fe2": {
          "model_module": "@jupyter-widgets/controls",
          "model_name": "ProgressStyleModel",
          "model_module_version": "1.5.0",
          "state": {
            "_model_module": "@jupyter-widgets/controls",
            "_model_module_version": "1.5.0",
            "_model_name": "ProgressStyleModel",
            "_view_count": null,
            "_view_module": "@jupyter-widgets/base",
            "_view_module_version": "1.2.0",
            "_view_name": "StyleView",
            "bar_color": null,
            "description_width": ""
          }
        },
        "a98330245a5240e5b8c6a0b10c5d5b4e": {
          "model_module": "@jupyter-widgets/base",
          "model_name": "LayoutModel",
          "model_module_version": "1.2.0",
          "state": {
            "_model_module": "@jupyter-widgets/base",
            "_model_module_version": "1.2.0",
            "_model_name": "LayoutModel",
            "_view_count": null,
            "_view_module": "@jupyter-widgets/base",
            "_view_module_version": "1.2.0",
            "_view_name": "LayoutView",
            "align_content": null,
            "align_items": null,
            "align_self": null,
            "border": null,
            "bottom": null,
            "display": null,
            "flex": null,
            "flex_flow": null,
            "grid_area": null,
            "grid_auto_columns": null,
            "grid_auto_flow": null,
            "grid_auto_rows": null,
            "grid_column": null,
            "grid_gap": null,
            "grid_row": null,
            "grid_template_areas": null,
            "grid_template_columns": null,
            "grid_template_rows": null,
            "height": null,
            "justify_content": null,
            "justify_items": null,
            "left": null,
            "margin": null,
            "max_height": null,
            "max_width": null,
            "min_height": null,
            "min_width": null,
            "object_fit": null,
            "object_position": null,
            "order": null,
            "overflow": null,
            "overflow_x": null,
            "overflow_y": null,
            "padding": null,
            "right": null,
            "top": null,
            "visibility": null,
            "width": null
          }
        },
        "3ba5f313ece64cc5b45d6d670cae540b": {
          "model_module": "@jupyter-widgets/controls",
          "model_name": "DescriptionStyleModel",
          "model_module_version": "1.5.0",
          "state": {
            "_model_module": "@jupyter-widgets/controls",
            "_model_module_version": "1.5.0",
            "_model_name": "DescriptionStyleModel",
            "_view_count": null,
            "_view_module": "@jupyter-widgets/base",
            "_view_module_version": "1.2.0",
            "_view_name": "StyleView",
            "description_width": ""
          }
        }
      }
    }
  },
  "nbformat": 4,
  "nbformat_minor": 0
}
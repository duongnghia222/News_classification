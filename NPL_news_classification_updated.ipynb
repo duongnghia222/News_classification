{
  "cells": [
    {
      "cell_type": "code",
      "execution_count": 1,
      "metadata": {
        "id": "RcpyAVGwavy5",
        "colab": {
          "base_uri": "https://localhost:8080/"
        },
        "outputId": "89e445fa-6c0d-4c98-e4bf-5eba09769368"
      },
      "outputs": [
        {
          "output_type": "stream",
          "name": "stdout",
          "text": [
            "Collecting transformers\n",
            "  Downloading transformers-4.30.2-py3-none-any.whl (7.2 MB)\n",
            "\u001b[2K     \u001b[90m━━━━━━━━━━━━━━━━━━━━━━━━━━━━━━━━━━━━━━━━\u001b[0m \u001b[32m7.2/7.2 MB\u001b[0m \u001b[31m79.6 MB/s\u001b[0m eta \u001b[36m0:00:00\u001b[0m\n",
            "\u001b[?25hRequirement already satisfied: filelock in /usr/local/lib/python3.10/dist-packages (from transformers) (3.12.2)\n",
            "Collecting huggingface-hub<1.0,>=0.14.1 (from transformers)\n",
            "  Downloading huggingface_hub-0.16.4-py3-none-any.whl (268 kB)\n",
            "\u001b[2K     \u001b[90m━━━━━━━━━━━━━━━━━━━━━━━━━━━━━━━━━━━━━━\u001b[0m \u001b[32m268.8/268.8 kB\u001b[0m \u001b[31m34.5 MB/s\u001b[0m eta \u001b[36m0:00:00\u001b[0m\n",
            "\u001b[?25hRequirement already satisfied: numpy>=1.17 in /usr/local/lib/python3.10/dist-packages (from transformers) (1.22.4)\n",
            "Requirement already satisfied: packaging>=20.0 in /usr/local/lib/python3.10/dist-packages (from transformers) (23.1)\n",
            "Requirement already satisfied: pyyaml>=5.1 in /usr/local/lib/python3.10/dist-packages (from transformers) (6.0)\n",
            "Requirement already satisfied: regex!=2019.12.17 in /usr/local/lib/python3.10/dist-packages (from transformers) (2022.10.31)\n",
            "Requirement already satisfied: requests in /usr/local/lib/python3.10/dist-packages (from transformers) (2.27.1)\n",
            "Collecting tokenizers!=0.11.3,<0.14,>=0.11.1 (from transformers)\n",
            "  Downloading tokenizers-0.13.3-cp310-cp310-manylinux_2_17_x86_64.manylinux2014_x86_64.whl (7.8 MB)\n",
            "\u001b[2K     \u001b[90m━━━━━━━━━━━━━━━━━━━━━━━━━━━━━━━━━━━━━━━━\u001b[0m \u001b[32m7.8/7.8 MB\u001b[0m \u001b[31m122.3 MB/s\u001b[0m eta \u001b[36m0:00:00\u001b[0m\n",
            "\u001b[?25hCollecting safetensors>=0.3.1 (from transformers)\n",
            "  Downloading safetensors-0.3.1-cp310-cp310-manylinux_2_17_x86_64.manylinux2014_x86_64.whl (1.3 MB)\n",
            "\u001b[2K     \u001b[90m━━━━━━━━━━━━━━━━━━━━━━━━━━━━━━━━━━━━━━━━\u001b[0m \u001b[32m1.3/1.3 MB\u001b[0m \u001b[31m83.2 MB/s\u001b[0m eta \u001b[36m0:00:00\u001b[0m\n",
            "\u001b[?25hRequirement already satisfied: tqdm>=4.27 in /usr/local/lib/python3.10/dist-packages (from transformers) (4.65.0)\n",
            "Requirement already satisfied: fsspec in /usr/local/lib/python3.10/dist-packages (from huggingface-hub<1.0,>=0.14.1->transformers) (2023.6.0)\n",
            "Requirement already satisfied: typing-extensions>=3.7.4.3 in /usr/local/lib/python3.10/dist-packages (from huggingface-hub<1.0,>=0.14.1->transformers) (4.6.3)\n",
            "Requirement already satisfied: urllib3<1.27,>=1.21.1 in /usr/local/lib/python3.10/dist-packages (from requests->transformers) (1.26.16)\n",
            "Requirement already satisfied: certifi>=2017.4.17 in /usr/local/lib/python3.10/dist-packages (from requests->transformers) (2023.5.7)\n",
            "Requirement already satisfied: charset-normalizer~=2.0.0 in /usr/local/lib/python3.10/dist-packages (from requests->transformers) (2.0.12)\n",
            "Requirement already satisfied: idna<4,>=2.5 in /usr/local/lib/python3.10/dist-packages (from requests->transformers) (3.4)\n",
            "Installing collected packages: tokenizers, safetensors, huggingface-hub, transformers\n",
            "Successfully installed huggingface-hub-0.16.4 safetensors-0.3.1 tokenizers-0.13.3 transformers-4.30.2\n",
            "Collecting pytorch-lightning\n",
            "  Downloading pytorch_lightning-2.0.4-py3-none-any.whl (721 kB)\n",
            "\u001b[2K     \u001b[90m━━━━━━━━━━━━━━━━━━━━━━━━━━━━━━━━━━━━━━\u001b[0m \u001b[32m721.2/721.2 kB\u001b[0m \u001b[31m18.0 MB/s\u001b[0m eta \u001b[36m0:00:00\u001b[0m\n",
            "\u001b[?25hRequirement already satisfied: numpy>=1.17.2 in /usr/local/lib/python3.10/dist-packages (from pytorch-lightning) (1.22.4)\n",
            "Requirement already satisfied: torch>=1.11.0 in /usr/local/lib/python3.10/dist-packages (from pytorch-lightning) (2.0.1+cu118)\n",
            "Requirement already satisfied: tqdm>=4.57.0 in /usr/local/lib/python3.10/dist-packages (from pytorch-lightning) (4.65.0)\n",
            "Requirement already satisfied: PyYAML>=5.4 in /usr/local/lib/python3.10/dist-packages (from pytorch-lightning) (6.0)\n",
            "Requirement already satisfied: fsspec[http]>2021.06.0 in /usr/local/lib/python3.10/dist-packages (from pytorch-lightning) (2023.6.0)\n",
            "Collecting torchmetrics>=0.7.0 (from pytorch-lightning)\n",
            "  Downloading torchmetrics-1.0.0-py3-none-any.whl (728 kB)\n",
            "\u001b[2K     \u001b[90m━━━━━━━━━━━━━━━━━━━━━━━━━━━━━━━━━━━━━━\u001b[0m \u001b[32m728.8/728.8 kB\u001b[0m \u001b[31m60.1 MB/s\u001b[0m eta \u001b[36m0:00:00\u001b[0m\n",
            "\u001b[?25hRequirement already satisfied: packaging>=17.1 in /usr/local/lib/python3.10/dist-packages (from pytorch-lightning) (23.1)\n",
            "Requirement already satisfied: typing-extensions>=4.0.0 in /usr/local/lib/python3.10/dist-packages (from pytorch-lightning) (4.6.3)\n",
            "Collecting lightning-utilities>=0.7.0 (from pytorch-lightning)\n",
            "  Downloading lightning_utilities-0.9.0-py3-none-any.whl (23 kB)\n",
            "Requirement already satisfied: requests in /usr/local/lib/python3.10/dist-packages (from fsspec[http]>2021.06.0->pytorch-lightning) (2.27.1)\n",
            "Requirement already satisfied: aiohttp!=4.0.0a0,!=4.0.0a1 in /usr/local/lib/python3.10/dist-packages (from fsspec[http]>2021.06.0->pytorch-lightning) (3.8.4)\n",
            "Requirement already satisfied: filelock in /usr/local/lib/python3.10/dist-packages (from torch>=1.11.0->pytorch-lightning) (3.12.2)\n",
            "Requirement already satisfied: sympy in /usr/local/lib/python3.10/dist-packages (from torch>=1.11.0->pytorch-lightning) (1.11.1)\n",
            "Requirement already satisfied: networkx in /usr/local/lib/python3.10/dist-packages (from torch>=1.11.0->pytorch-lightning) (3.1)\n",
            "Requirement already satisfied: jinja2 in /usr/local/lib/python3.10/dist-packages (from torch>=1.11.0->pytorch-lightning) (3.1.2)\n",
            "Requirement already satisfied: triton==2.0.0 in /usr/local/lib/python3.10/dist-packages (from torch>=1.11.0->pytorch-lightning) (2.0.0)\n",
            "Requirement already satisfied: cmake in /usr/local/lib/python3.10/dist-packages (from triton==2.0.0->torch>=1.11.0->pytorch-lightning) (3.25.2)\n",
            "Requirement already satisfied: lit in /usr/local/lib/python3.10/dist-packages (from triton==2.0.0->torch>=1.11.0->pytorch-lightning) (16.0.6)\n",
            "Requirement already satisfied: attrs>=17.3.0 in /usr/local/lib/python3.10/dist-packages (from aiohttp!=4.0.0a0,!=4.0.0a1->fsspec[http]>2021.06.0->pytorch-lightning) (23.1.0)\n",
            "Requirement already satisfied: charset-normalizer<4.0,>=2.0 in /usr/local/lib/python3.10/dist-packages (from aiohttp!=4.0.0a0,!=4.0.0a1->fsspec[http]>2021.06.0->pytorch-lightning) (2.0.12)\n",
            "Requirement already satisfied: multidict<7.0,>=4.5 in /usr/local/lib/python3.10/dist-packages (from aiohttp!=4.0.0a0,!=4.0.0a1->fsspec[http]>2021.06.0->pytorch-lightning) (6.0.4)\n",
            "Requirement already satisfied: async-timeout<5.0,>=4.0.0a3 in /usr/local/lib/python3.10/dist-packages (from aiohttp!=4.0.0a0,!=4.0.0a1->fsspec[http]>2021.06.0->pytorch-lightning) (4.0.2)\n",
            "Requirement already satisfied: yarl<2.0,>=1.0 in /usr/local/lib/python3.10/dist-packages (from aiohttp!=4.0.0a0,!=4.0.0a1->fsspec[http]>2021.06.0->pytorch-lightning) (1.9.2)\n",
            "Requirement already satisfied: frozenlist>=1.1.1 in /usr/local/lib/python3.10/dist-packages (from aiohttp!=4.0.0a0,!=4.0.0a1->fsspec[http]>2021.06.0->pytorch-lightning) (1.3.3)\n",
            "Requirement already satisfied: aiosignal>=1.1.2 in /usr/local/lib/python3.10/dist-packages (from aiohttp!=4.0.0a0,!=4.0.0a1->fsspec[http]>2021.06.0->pytorch-lightning) (1.3.1)\n",
            "Requirement already satisfied: MarkupSafe>=2.0 in /usr/local/lib/python3.10/dist-packages (from jinja2->torch>=1.11.0->pytorch-lightning) (2.1.3)\n",
            "Requirement already satisfied: urllib3<1.27,>=1.21.1 in /usr/local/lib/python3.10/dist-packages (from requests->fsspec[http]>2021.06.0->pytorch-lightning) (1.26.16)\n",
            "Requirement already satisfied: certifi>=2017.4.17 in /usr/local/lib/python3.10/dist-packages (from requests->fsspec[http]>2021.06.0->pytorch-lightning) (2023.5.7)\n",
            "Requirement already satisfied: idna<4,>=2.5 in /usr/local/lib/python3.10/dist-packages (from requests->fsspec[http]>2021.06.0->pytorch-lightning) (3.4)\n",
            "Requirement already satisfied: mpmath>=0.19 in /usr/local/lib/python3.10/dist-packages (from sympy->torch>=1.11.0->pytorch-lightning) (1.3.0)\n",
            "Installing collected packages: lightning-utilities, torchmetrics, pytorch-lightning\n",
            "Successfully installed lightning-utilities-0.9.0 pytorch-lightning-2.0.4 torchmetrics-1.0.0\n",
            "Collecting torchinfo\n",
            "  Downloading torchinfo-1.8.0-py3-none-any.whl (23 kB)\n",
            "Installing collected packages: torchinfo\n",
            "Successfully installed torchinfo-1.8.0\n"
          ]
        }
      ],
      "source": [
        "!pip install transformers\n",
        "!pip install pytorch-lightning\n",
        "!pip install torchinfo"
      ]
    },
    {
      "cell_type": "markdown",
      "metadata": {
        "id": "WOoawOFSYKbC"
      },
      "source": [
        "# Import lib"
      ]
    },
    {
      "cell_type": "code",
      "execution_count": 2,
      "metadata": {
        "colab": {
          "base_uri": "https://localhost:8080/"
        },
        "id": "03PaRuIGYETu",
        "outputId": "4a90d02a-e16b-4019-d7f4-2b0db467df7e"
      },
      "outputs": [
        {
          "output_type": "stream",
          "name": "stderr",
          "text": [
            "[nltk_data] Downloading package punkt to /root/nltk_data...\n",
            "[nltk_data]   Unzipping tokenizers/punkt.zip.\n"
          ]
        },
        {
          "output_type": "execute_result",
          "data": {
            "text/plain": [
              "True"
            ]
          },
          "metadata": {},
          "execution_count": 2
        }
      ],
      "source": [
        "import torch\n",
        "from torch import nn\n",
        "from torch.utils.data import Dataset, DataLoader\n",
        "from torch.nn import LayerNorm\n",
        "from torch.nn import functional as F\n",
        "from torch.nn.utils.rnn import pad_sequence\n",
        "from transformers import AutoModel, AutoTokenizer, AdamW, get_cosine_schedule_with_warmup\n",
        "import numpy as np\n",
        "import os\n",
        "import time\n",
        "import random\n",
        "from sklearn.preprocessing import LabelEncoder\n",
        "from sklearn.model_selection import train_test_split\n",
        "from sklearn.metrics import confusion_matrix\n",
        "from sklearn.metrics import accuracy_score\n",
        "from imblearn.under_sampling import RandomUnderSampler\n",
        "import pandas as pd\n",
        "import matplotlib.pyplot as plt\n",
        "import seaborn as sns\n",
        "from collections import Counter\n",
        "import pytorch_lightning as pl\n",
        "from torch.optim.lr_scheduler import StepLR\n",
        "import re\n",
        "import copy\n",
        "import nltk\n",
        "from nltk.tokenize import word_tokenize\n",
        "import math\n",
        "from torchinfo import summary\n",
        "from google.colab import drive\n",
        "from tqdm.auto import tqdm\n",
        "nltk.download('punkt')\n"
      ]
    },
    {
      "cell_type": "markdown",
      "metadata": {
        "id": "t09nEVgzGNkS"
      },
      "source": [
        "# Import dataset"
      ]
    },
    {
      "cell_type": "code",
      "execution_count": 3,
      "metadata": {
        "colab": {
          "base_uri": "https://localhost:8080/"
        },
        "id": "ZWLpwD6iXdTk",
        "outputId": "90495095-137c-4ae2-8b8b-a4404eb9915d"
      },
      "outputs": [
        {
          "output_type": "stream",
          "name": "stdout",
          "text": [
            "Cloning into 'News_classification'...\n",
            "remote: Enumerating objects: 457, done.\u001b[K\n",
            "remote: Counting objects: 100% (55/55), done.\u001b[K\n",
            "remote: Compressing objects: 100% (40/40), done.\u001b[K\n",
            "remote: Total 457 (delta 27), reused 39 (delta 14), pack-reused 402\u001b[K\n",
            "Receiving objects: 100% (457/457), 104.26 MiB | 25.93 MiB/s, done.\n",
            "Resolving deltas: 100% (265/265), done.\n",
            "Updating files: 100% (55/55), done.\n"
          ]
        }
      ],
      "source": [
        "! git clone https://github.com/duongnghia222/News_classification"
      ]
    },
    {
      "cell_type": "code",
      "execution_count": 4,
      "metadata": {
        "id": "Bnge752SB8Ez"
      },
      "outputs": [],
      "source": [
        "# Load data from CSV file\n",
        "df = pd.read_csv('News_classification/data/raw_data/raw_data.csv', encoding='utf-8-sig')"
      ]
    },
    {
      "cell_type": "markdown",
      "metadata": {
        "id": "aqu8-QjYBzWc"
      },
      "source": [
        "# Visualize Data"
      ]
    },
    {
      "cell_type": "code",
      "execution_count": 5,
      "metadata": {
        "colab": {
          "base_uri": "https://localhost:8080/",
          "height": 206
        },
        "id": "k7U3B_R3CflP",
        "outputId": "89d89b84-e68e-4739-8548-d9edba0a7b54"
      },
      "outputs": [
        {
          "output_type": "execute_result",
          "data": {
            "text/plain": [
              "                                                 Content Label\n",
              "10391  Một cá nhân bất ngờ mua vào 30,77 triệu cổ phi...   TTF\n",
              "10392  Chưa kịp bán ra, Chủ tịch Đỗ Quý Hải tiếp tục ...   HPX\n",
              "10393  POM cho cán bộ nhân viên nghỉ việc vì dừng lò ...   POM\n",
              "10394  Năm Bảy Bảy (NBB) chấp thuận cho Công ty con c...   NBB\n",
              "10395  Chứng khoán Ngân hàng Sài Gòn Thương Tín (SBS)...   SBS"
            ],
            "text/html": [
              "\n",
              "  <div id=\"df-e05527fa-bb74-4aab-878b-9eea93bc2c5f\">\n",
              "    <div class=\"colab-df-container\">\n",
              "      <div>\n",
              "<style scoped>\n",
              "    .dataframe tbody tr th:only-of-type {\n",
              "        vertical-align: middle;\n",
              "    }\n",
              "\n",
              "    .dataframe tbody tr th {\n",
              "        vertical-align: top;\n",
              "    }\n",
              "\n",
              "    .dataframe thead th {\n",
              "        text-align: right;\n",
              "    }\n",
              "</style>\n",
              "<table border=\"1\" class=\"dataframe\">\n",
              "  <thead>\n",
              "    <tr style=\"text-align: right;\">\n",
              "      <th></th>\n",
              "      <th>Content</th>\n",
              "      <th>Label</th>\n",
              "    </tr>\n",
              "  </thead>\n",
              "  <tbody>\n",
              "    <tr>\n",
              "      <th>10391</th>\n",
              "      <td>Một cá nhân bất ngờ mua vào 30,77 triệu cổ phi...</td>\n",
              "      <td>TTF</td>\n",
              "    </tr>\n",
              "    <tr>\n",
              "      <th>10392</th>\n",
              "      <td>Chưa kịp bán ra, Chủ tịch Đỗ Quý Hải tiếp tục ...</td>\n",
              "      <td>HPX</td>\n",
              "    </tr>\n",
              "    <tr>\n",
              "      <th>10393</th>\n",
              "      <td>POM cho cán bộ nhân viên nghỉ việc vì dừng lò ...</td>\n",
              "      <td>POM</td>\n",
              "    </tr>\n",
              "    <tr>\n",
              "      <th>10394</th>\n",
              "      <td>Năm Bảy Bảy (NBB) chấp thuận cho Công ty con c...</td>\n",
              "      <td>NBB</td>\n",
              "    </tr>\n",
              "    <tr>\n",
              "      <th>10395</th>\n",
              "      <td>Chứng khoán Ngân hàng Sài Gòn Thương Tín (SBS)...</td>\n",
              "      <td>SBS</td>\n",
              "    </tr>\n",
              "  </tbody>\n",
              "</table>\n",
              "</div>\n",
              "      <button class=\"colab-df-convert\" onclick=\"convertToInteractive('df-e05527fa-bb74-4aab-878b-9eea93bc2c5f')\"\n",
              "              title=\"Convert this dataframe to an interactive table.\"\n",
              "              style=\"display:none;\">\n",
              "        \n",
              "  <svg xmlns=\"http://www.w3.org/2000/svg\" height=\"24px\"viewBox=\"0 0 24 24\"\n",
              "       width=\"24px\">\n",
              "    <path d=\"M0 0h24v24H0V0z\" fill=\"none\"/>\n",
              "    <path d=\"M18.56 5.44l.94 2.06.94-2.06 2.06-.94-2.06-.94-.94-2.06-.94 2.06-2.06.94zm-11 1L8.5 8.5l.94-2.06 2.06-.94-2.06-.94L8.5 2.5l-.94 2.06-2.06.94zm10 10l.94 2.06.94-2.06 2.06-.94-2.06-.94-.94-2.06-.94 2.06-2.06.94z\"/><path d=\"M17.41 7.96l-1.37-1.37c-.4-.4-.92-.59-1.43-.59-.52 0-1.04.2-1.43.59L10.3 9.45l-7.72 7.72c-.78.78-.78 2.05 0 2.83L4 21.41c.39.39.9.59 1.41.59.51 0 1.02-.2 1.41-.59l7.78-7.78 2.81-2.81c.8-.78.8-2.07 0-2.86zM5.41 20L4 18.59l7.72-7.72 1.47 1.35L5.41 20z\"/>\n",
              "  </svg>\n",
              "      </button>\n",
              "      \n",
              "  <style>\n",
              "    .colab-df-container {\n",
              "      display:flex;\n",
              "      flex-wrap:wrap;\n",
              "      gap: 12px;\n",
              "    }\n",
              "\n",
              "    .colab-df-convert {\n",
              "      background-color: #E8F0FE;\n",
              "      border: none;\n",
              "      border-radius: 50%;\n",
              "      cursor: pointer;\n",
              "      display: none;\n",
              "      fill: #1967D2;\n",
              "      height: 32px;\n",
              "      padding: 0 0 0 0;\n",
              "      width: 32px;\n",
              "    }\n",
              "\n",
              "    .colab-df-convert:hover {\n",
              "      background-color: #E2EBFA;\n",
              "      box-shadow: 0px 1px 2px rgba(60, 64, 67, 0.3), 0px 1px 3px 1px rgba(60, 64, 67, 0.15);\n",
              "      fill: #174EA6;\n",
              "    }\n",
              "\n",
              "    [theme=dark] .colab-df-convert {\n",
              "      background-color: #3B4455;\n",
              "      fill: #D2E3FC;\n",
              "    }\n",
              "\n",
              "    [theme=dark] .colab-df-convert:hover {\n",
              "      background-color: #434B5C;\n",
              "      box-shadow: 0px 1px 3px 1px rgba(0, 0, 0, 0.15);\n",
              "      filter: drop-shadow(0px 1px 2px rgba(0, 0, 0, 0.3));\n",
              "      fill: #FFFFFF;\n",
              "    }\n",
              "  </style>\n",
              "\n",
              "      <script>\n",
              "        const buttonEl =\n",
              "          document.querySelector('#df-e05527fa-bb74-4aab-878b-9eea93bc2c5f button.colab-df-convert');\n",
              "        buttonEl.style.display =\n",
              "          google.colab.kernel.accessAllowed ? 'block' : 'none';\n",
              "\n",
              "        async function convertToInteractive(key) {\n",
              "          const element = document.querySelector('#df-e05527fa-bb74-4aab-878b-9eea93bc2c5f');\n",
              "          const dataTable =\n",
              "            await google.colab.kernel.invokeFunction('convertToInteractive',\n",
              "                                                     [key], {});\n",
              "          if (!dataTable) return;\n",
              "\n",
              "          const docLinkHtml = 'Like what you see? Visit the ' +\n",
              "            '<a target=\"_blank\" href=https://colab.research.google.com/notebooks/data_table.ipynb>data table notebook</a>'\n",
              "            + ' to learn more about interactive tables.';\n",
              "          element.innerHTML = '';\n",
              "          dataTable['output_type'] = 'display_data';\n",
              "          await google.colab.output.renderOutput(dataTable, element);\n",
              "          const docLink = document.createElement('div');\n",
              "          docLink.innerHTML = docLinkHtml;\n",
              "          element.appendChild(docLink);\n",
              "        }\n",
              "      </script>\n",
              "    </div>\n",
              "  </div>\n",
              "  "
            ]
          },
          "metadata": {},
          "execution_count": 5
        }
      ],
      "source": [
        "df.tail()"
      ]
    },
    {
      "cell_type": "code",
      "execution_count": 6,
      "metadata": {
        "colab": {
          "base_uri": "https://localhost:8080/"
        },
        "id": "-evHq83aB4CI",
        "outputId": "f326c1de-a145-4095-d04b-887fca095ffc"
      },
      "outputs": [
        {
          "output_type": "execute_result",
          "data": {
            "text/plain": [
              "count    10396.000000\n",
              "mean       607.325414\n",
              "std        352.123889\n",
              "min         46.000000\n",
              "25%        381.000000\n",
              "50%        514.000000\n",
              "75%        725.250000\n",
              "max       4235.000000\n",
              "Name: Word Count, dtype: float64"
            ]
          },
          "metadata": {},
          "execution_count": 6
        }
      ],
      "source": [
        "# Count the number of words in each article's content and number of times a class appear\n",
        "df['Word Count'] = df['Content'].apply(lambda x: len(str(x).split()))\n",
        "df['Class Count'] = df.groupby('Label')['Label'].transform('count')\n",
        "\n",
        "# Calculate statistics for word count\n",
        "df['Word Count'].describe()"
      ]
    },
    {
      "cell_type": "code",
      "execution_count": 7,
      "metadata": {
        "colab": {
          "base_uri": "https://localhost:8080/",
          "height": 206
        },
        "id": "9RvaCV55DsfU",
        "outputId": "6ce5be29-3f4d-47da-e2e8-ad40949bb6de"
      },
      "outputs": [
        {
          "output_type": "execute_result",
          "data": {
            "text/plain": [
              "                                             Content Label  Word Count  \\\n",
              "0  Vingroup báo lãi hơn 3.600 tỷ đồng, doanh thu ...   VIC         599   \n",
              "1  HAGL Agrico (HNG) lỗ quý thứ 5 liên tiếp. Giá ...   HNG         642   \n",
              "2  Vingroup lãi ròng 1.028 tỷ đồng nửa đầu năm, t...   VIC         577   \n",
              "3  Một doanh nghiệp khoáng sản đã vượt 153% mục t...   KSV         430   \n",
              "4  Doanh nghiệp thép từ lớn đến nhỏ đều báo lỗ qu...   HPG        1247   \n",
              "\n",
              "   Class Count  \n",
              "0          108  \n",
              "1           65  \n",
              "2          108  \n",
              "3            3  \n",
              "4          197  "
            ],
            "text/html": [
              "\n",
              "  <div id=\"df-bdac81d9-2f78-4f14-9f8f-208029d09263\">\n",
              "    <div class=\"colab-df-container\">\n",
              "      <div>\n",
              "<style scoped>\n",
              "    .dataframe tbody tr th:only-of-type {\n",
              "        vertical-align: middle;\n",
              "    }\n",
              "\n",
              "    .dataframe tbody tr th {\n",
              "        vertical-align: top;\n",
              "    }\n",
              "\n",
              "    .dataframe thead th {\n",
              "        text-align: right;\n",
              "    }\n",
              "</style>\n",
              "<table border=\"1\" class=\"dataframe\">\n",
              "  <thead>\n",
              "    <tr style=\"text-align: right;\">\n",
              "      <th></th>\n",
              "      <th>Content</th>\n",
              "      <th>Label</th>\n",
              "      <th>Word Count</th>\n",
              "      <th>Class Count</th>\n",
              "    </tr>\n",
              "  </thead>\n",
              "  <tbody>\n",
              "    <tr>\n",
              "      <th>0</th>\n",
              "      <td>Vingroup báo lãi hơn 3.600 tỷ đồng, doanh thu ...</td>\n",
              "      <td>VIC</td>\n",
              "      <td>599</td>\n",
              "      <td>108</td>\n",
              "    </tr>\n",
              "    <tr>\n",
              "      <th>1</th>\n",
              "      <td>HAGL Agrico (HNG) lỗ quý thứ 5 liên tiếp. Giá ...</td>\n",
              "      <td>HNG</td>\n",
              "      <td>642</td>\n",
              "      <td>65</td>\n",
              "    </tr>\n",
              "    <tr>\n",
              "      <th>2</th>\n",
              "      <td>Vingroup lãi ròng 1.028 tỷ đồng nửa đầu năm, t...</td>\n",
              "      <td>VIC</td>\n",
              "      <td>577</td>\n",
              "      <td>108</td>\n",
              "    </tr>\n",
              "    <tr>\n",
              "      <th>3</th>\n",
              "      <td>Một doanh nghiệp khoáng sản đã vượt 153% mục t...</td>\n",
              "      <td>KSV</td>\n",
              "      <td>430</td>\n",
              "      <td>3</td>\n",
              "    </tr>\n",
              "    <tr>\n",
              "      <th>4</th>\n",
              "      <td>Doanh nghiệp thép từ lớn đến nhỏ đều báo lỗ qu...</td>\n",
              "      <td>HPG</td>\n",
              "      <td>1247</td>\n",
              "      <td>197</td>\n",
              "    </tr>\n",
              "  </tbody>\n",
              "</table>\n",
              "</div>\n",
              "      <button class=\"colab-df-convert\" onclick=\"convertToInteractive('df-bdac81d9-2f78-4f14-9f8f-208029d09263')\"\n",
              "              title=\"Convert this dataframe to an interactive table.\"\n",
              "              style=\"display:none;\">\n",
              "        \n",
              "  <svg xmlns=\"http://www.w3.org/2000/svg\" height=\"24px\"viewBox=\"0 0 24 24\"\n",
              "       width=\"24px\">\n",
              "    <path d=\"M0 0h24v24H0V0z\" fill=\"none\"/>\n",
              "    <path d=\"M18.56 5.44l.94 2.06.94-2.06 2.06-.94-2.06-.94-.94-2.06-.94 2.06-2.06.94zm-11 1L8.5 8.5l.94-2.06 2.06-.94-2.06-.94L8.5 2.5l-.94 2.06-2.06.94zm10 10l.94 2.06.94-2.06 2.06-.94-2.06-.94-.94-2.06-.94 2.06-2.06.94z\"/><path d=\"M17.41 7.96l-1.37-1.37c-.4-.4-.92-.59-1.43-.59-.52 0-1.04.2-1.43.59L10.3 9.45l-7.72 7.72c-.78.78-.78 2.05 0 2.83L4 21.41c.39.39.9.59 1.41.59.51 0 1.02-.2 1.41-.59l7.78-7.78 2.81-2.81c.8-.78.8-2.07 0-2.86zM5.41 20L4 18.59l7.72-7.72 1.47 1.35L5.41 20z\"/>\n",
              "  </svg>\n",
              "      </button>\n",
              "      \n",
              "  <style>\n",
              "    .colab-df-container {\n",
              "      display:flex;\n",
              "      flex-wrap:wrap;\n",
              "      gap: 12px;\n",
              "    }\n",
              "\n",
              "    .colab-df-convert {\n",
              "      background-color: #E8F0FE;\n",
              "      border: none;\n",
              "      border-radius: 50%;\n",
              "      cursor: pointer;\n",
              "      display: none;\n",
              "      fill: #1967D2;\n",
              "      height: 32px;\n",
              "      padding: 0 0 0 0;\n",
              "      width: 32px;\n",
              "    }\n",
              "\n",
              "    .colab-df-convert:hover {\n",
              "      background-color: #E2EBFA;\n",
              "      box-shadow: 0px 1px 2px rgba(60, 64, 67, 0.3), 0px 1px 3px 1px rgba(60, 64, 67, 0.15);\n",
              "      fill: #174EA6;\n",
              "    }\n",
              "\n",
              "    [theme=dark] .colab-df-convert {\n",
              "      background-color: #3B4455;\n",
              "      fill: #D2E3FC;\n",
              "    }\n",
              "\n",
              "    [theme=dark] .colab-df-convert:hover {\n",
              "      background-color: #434B5C;\n",
              "      box-shadow: 0px 1px 3px 1px rgba(0, 0, 0, 0.15);\n",
              "      filter: drop-shadow(0px 1px 2px rgba(0, 0, 0, 0.3));\n",
              "      fill: #FFFFFF;\n",
              "    }\n",
              "  </style>\n",
              "\n",
              "      <script>\n",
              "        const buttonEl =\n",
              "          document.querySelector('#df-bdac81d9-2f78-4f14-9f8f-208029d09263 button.colab-df-convert');\n",
              "        buttonEl.style.display =\n",
              "          google.colab.kernel.accessAllowed ? 'block' : 'none';\n",
              "\n",
              "        async function convertToInteractive(key) {\n",
              "          const element = document.querySelector('#df-bdac81d9-2f78-4f14-9f8f-208029d09263');\n",
              "          const dataTable =\n",
              "            await google.colab.kernel.invokeFunction('convertToInteractive',\n",
              "                                                     [key], {});\n",
              "          if (!dataTable) return;\n",
              "\n",
              "          const docLinkHtml = 'Like what you see? Visit the ' +\n",
              "            '<a target=\"_blank\" href=https://colab.research.google.com/notebooks/data_table.ipynb>data table notebook</a>'\n",
              "            + ' to learn more about interactive tables.';\n",
              "          element.innerHTML = '';\n",
              "          dataTable['output_type'] = 'display_data';\n",
              "          await google.colab.output.renderOutput(dataTable, element);\n",
              "          const docLink = document.createElement('div');\n",
              "          docLink.innerHTML = docLinkHtml;\n",
              "          element.appendChild(docLink);\n",
              "        }\n",
              "      </script>\n",
              "    </div>\n",
              "  </div>\n",
              "  "
            ]
          },
          "metadata": {},
          "execution_count": 7
        }
      ],
      "source": [
        "df.head()"
      ]
    },
    {
      "cell_type": "code",
      "execution_count": 8,
      "metadata": {
        "colab": {
          "base_uri": "https://localhost:8080/",
          "height": 472
        },
        "id": "8Y7NA9bxCK40",
        "outputId": "388523af-9e39-4a04-afb1-8785cc63f75e"
      },
      "outputs": [
        {
          "output_type": "display_data",
          "data": {
            "text/plain": [
              "<Figure size 640x480 with 1 Axes>"
            ],
            "image/png": "[encoded data removed]"
          },
          "metadata": {}
        }
      ],
      "source": [
        "# Plot histogram for word count\n",
        "plt.hist(df['Word Count'], bins=40, color='skyblue', edgecolor='black')\n",
        "plt.title('Histogram of Word Count')\n",
        "plt.xlabel('Word Count')\n",
        "plt.ylabel('Frequency')\n",
        "plt.grid(True)\n",
        "plt.show()"
      ]
    },
    {
      "cell_type": "code",
      "execution_count": 9,
      "metadata": {
        "id": "wGjBHZ7TB8Br",
        "colab": {
          "base_uri": "https://localhost:8080/"
        },
        "outputId": "b87daceb-e459-4066-ff28-db8b8939eb08"
      },
      "outputs": [
        {
          "output_type": "stream",
          "name": "stdout",
          "text": [
            "count    927.000000\n",
            "mean      11.214671\n",
            "std       21.224713\n",
            "min        1.000000\n",
            "25%        1.000000\n",
            "50%        3.000000\n",
            "75%       11.000000\n",
            "max      197.000000\n",
            "Name: Label, dtype: float64\n"
          ]
        }
      ],
      "source": [
        "# Count the occurrence of each unique label\n",
        "label_counts = df['Label'].value_counts()\n",
        "print(label_counts.describe())\n",
        "\n",
        "# Loop over each unique label and print its count\n",
        "# for label, count in label_counts.items():\n",
        "#     print(f\"Label: {label}, Count: {count}\")"
      ]
    },
    {
      "cell_type": "markdown",
      "source": [
        "## Extract Dataset"
      ],
      "metadata": {
        "id": "KbrIPHvNuCOF"
      }
    },
    {
      "cell_type": "code",
      "execution_count": 10,
      "metadata": {
        "colab": {
          "base_uri": "https://localhost:8080/"
        },
        "id": "-OZpZDJiB8Sx",
        "outputId": "7e973eba-fdee-431d-e052-8acf69e60d56"
      },
      "outputs": [
        {
          "output_type": "execute_result",
          "data": {
            "text/plain": [
              "Content        7256\n",
              "Label          7256\n",
              "Word Count     7256\n",
              "Class Count    7256\n",
              "dtype: int64"
            ]
          },
          "metadata": {},
          "execution_count": 10
        }
      ],
      "source": [
        "# extracted_df\n",
        "e_df = df.loc[df['Class Count'] > 17].sort_values(by=\"Class Count\", ascending=False)\n",
        "e_df.count()"
      ]
    },
    {
      "cell_type": "code",
      "execution_count": 11,
      "metadata": {
        "colab": {
          "base_uri": "https://localhost:8080/"
        },
        "id": "S5IyPXDJEwmh",
        "outputId": "ac0313ea-8443-4f5a-a860-325b4d952dbe"
      },
      "outputs": [
        {
          "output_type": "execute_result",
          "data": {
            "text/plain": [
              "156"
            ]
          },
          "metadata": {},
          "execution_count": 11
        }
      ],
      "source": [
        "number_of_classes = e_df['Label'].nunique()\n",
        "number_of_classes"
      ]
    },
    {
      "cell_type": "markdown",
      "metadata": {
        "id": "6NLAa4szYUhU"
      },
      "source": [
        "# Processing Dataset"
      ]
    },
    {
      "cell_type": "markdown",
      "metadata": {
        "id": "oAAmnOmSXj5a"
      },
      "source": [
        "## Clean text"
      ]
    },
    {
      "cell_type": "code",
      "execution_count": 12,
      "metadata": {
        "colab": {
          "base_uri": "https://localhost:8080/"
        },
        "id": "GnWMnVIDXpl1",
        "outputId": "e4c70d1d-d957-43ea-8340-38cf92d2de08"
      },
      "outputs": [
        {
          "output_type": "execute_result",
          "data": {
            "text/plain": [
              "['a lô',\n",
              " 'a ha',\n",
              " 'ai',\n",
              " 'ai ai',\n",
              " 'ai nấy',\n",
              " 'ai đó',\n",
              " 'alô',\n",
              " 'amen',\n",
              " 'anh',\n",
              " 'anh ấy']"
            ]
          },
          "metadata": {},
          "execution_count": 12
        }
      ],
      "source": [
        "with open('/content/News_classification/vietnamese-stopwords.txt', 'r', encoding='utf-8') as f:\n",
        "    vietnamese_stopwords = f.read().splitlines()\n",
        "\n",
        "vietnamese_stopwords[:10]"
      ]
    },
    {
      "cell_type": "code",
      "execution_count": 13,
      "metadata": {
        "colab": {
          "base_uri": "https://localhost:8080/",
          "height": 35
        },
        "id": "ckULHpAOYP9z",
        "outputId": "2ff61144-39a0-4eff-8997-504d7b1c9b74"
      },
      "outputs": [
        {
          "output_type": "execute_result",
          "data": {
            "text/plain": [
              "'VinFast thức vận hành 35 showroom xe máy điện kết hợp trung tâm trải nghiệm Vin3S 24 tỉnh thành phố'"
            ],
            "application/vnd.google.colaboratory.intrinsic+json": {
              "type": "string"
            }
          },
          "metadata": {},
          "execution_count": 13
        }
      ],
      "source": [
        "def clean_text(txt):\n",
        "    txt = re.sub('\\s+', ' ', txt)\n",
        "    txt = txt.replace('.','')\n",
        "    txt = re.sub('\\n', ' ', txt)\n",
        "    txt = [word_tokenize(wrd) for wrd in txt.split() if wrd not in vietnamese_stopwords]\n",
        "    txt = [item[0] for item in txt]\n",
        "    txt = ' '.join(txt)\n",
        "    return txt\n",
        "\n",
        "clean_text(\" VinFast chính thức vận hành 35 showroom xe máy điện kết hợp trung tâm trải nghiệm Vin3S tại 24 tỉnh, thành phố trên cả nước\")"
      ]
    },
    {
      "cell_type": "code",
      "source": [
        "# e_df['Content'] = e_df['Content'].apply(clean_text)\n",
        "e_df.head()"
      ],
      "metadata": {
        "colab": {
          "base_uri": "https://localhost:8080/",
          "height": 206
        },
        "id": "sLKqEbYMt7ZD",
        "outputId": "d4bff497-f4c3-4551-d5fe-a5d442ec7e93"
      },
      "execution_count": 14,
      "outputs": [
        {
          "output_type": "execute_result",
          "data": {
            "text/plain": [
              "                                                Content Label  Word Count  \\\n",
              "979   Hòa Phát muốn đầu tư loạt dự án rộng hơn 1.500...   HPG         950   \n",
              "3878  Hòa Phát muốn rót 85.000 tỷ đồng để mở rộng Kh...   HPG         425   \n",
              "1256  Hòa Phát lên lịch tổ chức đại hội cổ đông 2022...   HPG         598   \n",
              "3787  Hòa Phát đã khắc phục xong sự cố hỏa hoạn tại ...   HPG         271   \n",
              "3771  Hòa Phát tiết kiệm 1.700 tỷ đồng trong 6 tháng...   HPG         601   \n",
              "\n",
              "      Class Count  \n",
              "979           197  \n",
              "3878          197  \n",
              "1256          197  \n",
              "3787          197  \n",
              "3771          197  "
            ],
            "text/html": [
              "\n",
              "  <div id=\"df-09b9aecc-fae5-4ef4-a328-7fcf622094d5\">\n",
              "    <div class=\"colab-df-container\">\n",
              "      <div>\n",
              "<style scoped>\n",
              "    .dataframe tbody tr th:only-of-type {\n",
              "        vertical-align: middle;\n",
              "    }\n",
              "\n",
              "    .dataframe tbody tr th {\n",
              "        vertical-align: top;\n",
              "    }\n",
              "\n",
              "    .dataframe thead th {\n",
              "        text-align: right;\n",
              "    }\n",
              "</style>\n",
              "<table border=\"1\" class=\"dataframe\">\n",
              "  <thead>\n",
              "    <tr style=\"text-align: right;\">\n",
              "      <th></th>\n",
              "      <th>Content</th>\n",
              "      <th>Label</th>\n",
              "      <th>Word Count</th>\n",
              "      <th>Class Count</th>\n",
              "    </tr>\n",
              "  </thead>\n",
              "  <tbody>\n",
              "    <tr>\n",
              "      <th>979</th>\n",
              "      <td>Hòa Phát muốn đầu tư loạt dự án rộng hơn 1.500...</td>\n",
              "      <td>HPG</td>\n",
              "      <td>950</td>\n",
              "      <td>197</td>\n",
              "    </tr>\n",
              "    <tr>\n",
              "      <th>3878</th>\n",
              "      <td>Hòa Phát muốn rót 85.000 tỷ đồng để mở rộng Kh...</td>\n",
              "      <td>HPG</td>\n",
              "      <td>425</td>\n",
              "      <td>197</td>\n",
              "    </tr>\n",
              "    <tr>\n",
              "      <th>1256</th>\n",
              "      <td>Hòa Phát lên lịch tổ chức đại hội cổ đông 2022...</td>\n",
              "      <td>HPG</td>\n",
              "      <td>598</td>\n",
              "      <td>197</td>\n",
              "    </tr>\n",
              "    <tr>\n",
              "      <th>3787</th>\n",
              "      <td>Hòa Phát đã khắc phục xong sự cố hỏa hoạn tại ...</td>\n",
              "      <td>HPG</td>\n",
              "      <td>271</td>\n",
              "      <td>197</td>\n",
              "    </tr>\n",
              "    <tr>\n",
              "      <th>3771</th>\n",
              "      <td>Hòa Phát tiết kiệm 1.700 tỷ đồng trong 6 tháng...</td>\n",
              "      <td>HPG</td>\n",
              "      <td>601</td>\n",
              "      <td>197</td>\n",
              "    </tr>\n",
              "  </tbody>\n",
              "</table>\n",
              "</div>\n",
              "      <button class=\"colab-df-convert\" onclick=\"convertToInteractive('df-09b9aecc-fae5-4ef4-a328-7fcf622094d5')\"\n",
              "              title=\"Convert this dataframe to an interactive table.\"\n",
              "              style=\"display:none;\">\n",
              "        \n",
              "  <svg xmlns=\"http://www.w3.org/2000/svg\" height=\"24px\"viewBox=\"0 0 24 24\"\n",
              "       width=\"24px\">\n",
              "    <path d=\"M0 0h24v24H0V0z\" fill=\"none\"/>\n",
              "    <path d=\"M18.56 5.44l.94 2.06.94-2.06 2.06-.94-2.06-.94-.94-2.06-.94 2.06-2.06.94zm-11 1L8.5 8.5l.94-2.06 2.06-.94-2.06-.94L8.5 2.5l-.94 2.06-2.06.94zm10 10l.94 2.06.94-2.06 2.06-.94-2.06-.94-.94-2.06-.94 2.06-2.06.94z\"/><path d=\"M17.41 7.96l-1.37-1.37c-.4-.4-.92-.59-1.43-.59-.52 0-1.04.2-1.43.59L10.3 9.45l-7.72 7.72c-.78.78-.78 2.05 0 2.83L4 21.41c.39.39.9.59 1.41.59.51 0 1.02-.2 1.41-.59l7.78-7.78 2.81-2.81c.8-.78.8-2.07 0-2.86zM5.41 20L4 18.59l7.72-7.72 1.47 1.35L5.41 20z\"/>\n",
              "  </svg>\n",
              "      </button>\n",
              "      \n",
              "  <style>\n",
              "    .colab-df-container {\n",
              "      display:flex;\n",
              "      flex-wrap:wrap;\n",
              "      gap: 12px;\n",
              "    }\n",
              "\n",
              "    .colab-df-convert {\n",
              "      background-color: #E8F0FE;\n",
              "      border: none;\n",
              "      border-radius: 50%;\n",
              "      cursor: pointer;\n",
              "      display: none;\n",
              "      fill: #1967D2;\n",
              "      height: 32px;\n",
              "      padding: 0 0 0 0;\n",
              "      width: 32px;\n",
              "    }\n",
              "\n",
              "    .colab-df-convert:hover {\n",
              "      background-color: #E2EBFA;\n",
              "      box-shadow: 0px 1px 2px rgba(60, 64, 67, 0.3), 0px 1px 3px 1px rgba(60, 64, 67, 0.15);\n",
              "      fill: #174EA6;\n",
              "    }\n",
              "\n",
              "    [theme=dark] .colab-df-convert {\n",
              "      background-color: #3B4455;\n",
              "      fill: #D2E3FC;\n",
              "    }\n",
              "\n",
              "    [theme=dark] .colab-df-convert:hover {\n",
              "      background-color: #434B5C;\n",
              "      box-shadow: 0px 1px 3px 1px rgba(0, 0, 0, 0.15);\n",
              "      filter: drop-shadow(0px 1px 2px rgba(0, 0, 0, 0.3));\n",
              "      fill: #FFFFFF;\n",
              "    }\n",
              "  </style>\n",
              "\n",
              "      <script>\n",
              "        const buttonEl =\n",
              "          document.querySelector('#df-09b9aecc-fae5-4ef4-a328-7fcf622094d5 button.colab-df-convert');\n",
              "        buttonEl.style.display =\n",
              "          google.colab.kernel.accessAllowed ? 'block' : 'none';\n",
              "\n",
              "        async function convertToInteractive(key) {\n",
              "          const element = document.querySelector('#df-09b9aecc-fae5-4ef4-a328-7fcf622094d5');\n",
              "          const dataTable =\n",
              "            await google.colab.kernel.invokeFunction('convertToInteractive',\n",
              "                                                     [key], {});\n",
              "          if (!dataTable) return;\n",
              "\n",
              "          const docLinkHtml = 'Like what you see? Visit the ' +\n",
              "            '<a target=\"_blank\" href=https://colab.research.google.com/notebooks/data_table.ipynb>data table notebook</a>'\n",
              "            + ' to learn more about interactive tables.';\n",
              "          element.innerHTML = '';\n",
              "          dataTable['output_type'] = 'display_data';\n",
              "          await google.colab.output.renderOutput(dataTable, element);\n",
              "          const docLink = document.createElement('div');\n",
              "          docLink.innerHTML = docLinkHtml;\n",
              "          element.appendChild(docLink);\n",
              "        }\n",
              "      </script>\n",
              "    </div>\n",
              "  </div>\n",
              "  "
            ]
          },
          "metadata": {},
          "execution_count": 14
        }
      ]
    },
    {
      "cell_type": "markdown",
      "metadata": {
        "id": "d4CCJN2WY4iI"
      },
      "source": [
        "## Transform labels"
      ]
    },
    {
      "cell_type": "code",
      "execution_count": 15,
      "metadata": {
        "colab": {
          "base_uri": "https://localhost:8080/"
        },
        "id": "4X84MjkGHYm7",
        "outputId": "fb087bb0-b581-4e02-93b7-3958df3037d6"
      },
      "outputs": [
        {
          "output_type": "stream",
          "name": "stdout",
          "text": [
            "['HPG', 'HPG', 'HPG', 'HPG', 'HPG', 'HPG', 'HPG', 'HPG', 'HPG', 'HPG']\n"
          ]
        }
      ],
      "source": [
        "labels_list = e_df['Label'].tolist()\n",
        "print(labels_list[:10])"
      ]
    },
    {
      "cell_type": "code",
      "execution_count": 16,
      "metadata": {
        "colab": {
          "base_uri": "https://localhost:8080/"
        },
        "id": "rqVhpg4LdRgY",
        "outputId": "13fbe2f2-7c4d-41e9-b601-a0ca929c8a5c"
      },
      "outputs": [
        {
          "output_type": "stream",
          "name": "stdout",
          "text": [
            "[142, 31, 142, 128, 90, 73, 101, 90, 90, 142]\n"
          ]
        }
      ],
      "source": [
        "le = LabelEncoder()\n",
        "labels = le.fit_transform(labels_list).tolist()\n",
        "print(labels[-10:])"
      ]
    },
    {
      "cell_type": "code",
      "execution_count": 17,
      "metadata": {
        "colab": {
          "base_uri": "https://localhost:8080/",
          "height": 363
        },
        "id": "jcVd4SR3C_Bu",
        "outputId": "fe5ac35f-a3ee-4aa0-8b67-39a6269f98e7"
      },
      "outputs": [
        {
          "output_type": "execute_result",
          "data": {
            "text/plain": [
              "                                                Content Label  Word Count  \\\n",
              "979   Hòa Phát muốn đầu tư loạt dự án rộng hơn 1.500...   HPG         950   \n",
              "3878  Hòa Phát muốn rót 85.000 tỷ đồng để mở rộng Kh...   HPG         425   \n",
              "1256  Hòa Phát lên lịch tổ chức đại hội cổ đông 2022...   HPG         598   \n",
              "3787  Hòa Phát đã khắc phục xong sự cố hỏa hoạn tại ...   HPG         271   \n",
              "3771  Hòa Phát tiết kiệm 1.700 tỷ đồng trong 6 tháng...   HPG         601   \n",
              "1278  Tham vọng làm dự án thép công suất 80% Hoà Phá...   HPG        1135   \n",
              "1287  Những doanh nhân tuổi Sửu nổi bật trên thương ...   HPG        1253   \n",
              "3725  Hòa Phát lãi kỷ lục, ban lãnh đạo sắp được thư...   HPG         573   \n",
              "3685  Ông Nguyễn Việt Thắng, tân Tổng Giám đốc Tập đ...   HPG         135   \n",
              "7763  Hòa Phát đã bán 530 ngàn tấn thép trong tháng ...   HPG         303   \n",
              "\n",
              "      Class Count  Encode Label  \n",
              "979           197            55  \n",
              "3878          197            55  \n",
              "1256          197            55  \n",
              "3787          197            55  \n",
              "3771          197            55  \n",
              "1278          197            55  \n",
              "1287          197            55  \n",
              "3725          197            55  \n",
              "3685          197            55  \n",
              "7763          197            55  "
            ],
            "text/html": [
              "\n",
              "  <div id=\"df-e06e9efa-d369-430a-af5d-ef89aa04b221\">\n",
              "    <div class=\"colab-df-container\">\n",
              "      <div>\n",
              "<style scoped>\n",
              "    .dataframe tbody tr th:only-of-type {\n",
              "        vertical-align: middle;\n",
              "    }\n",
              "\n",
              "    .dataframe tbody tr th {\n",
              "        vertical-align: top;\n",
              "    }\n",
              "\n",
              "    .dataframe thead th {\n",
              "        text-align: right;\n",
              "    }\n",
              "</style>\n",
              "<table border=\"1\" class=\"dataframe\">\n",
              "  <thead>\n",
              "    <tr style=\"text-align: right;\">\n",
              "      <th></th>\n",
              "      <th>Content</th>\n",
              "      <th>Label</th>\n",
              "      <th>Word Count</th>\n",
              "      <th>Class Count</th>\n",
              "      <th>Encode Label</th>\n",
              "    </tr>\n",
              "  </thead>\n",
              "  <tbody>\n",
              "    <tr>\n",
              "      <th>979</th>\n",
              "      <td>Hòa Phát muốn đầu tư loạt dự án rộng hơn 1.500...</td>\n",
              "      <td>HPG</td>\n",
              "      <td>950</td>\n",
              "      <td>197</td>\n",
              "      <td>55</td>\n",
              "    </tr>\n",
              "    <tr>\n",
              "      <th>3878</th>\n",
              "      <td>Hòa Phát muốn rót 85.000 tỷ đồng để mở rộng Kh...</td>\n",
              "      <td>HPG</td>\n",
              "      <td>425</td>\n",
              "      <td>197</td>\n",
              "      <td>55</td>\n",
              "    </tr>\n",
              "    <tr>\n",
              "      <th>1256</th>\n",
              "      <td>Hòa Phát lên lịch tổ chức đại hội cổ đông 2022...</td>\n",
              "      <td>HPG</td>\n",
              "      <td>598</td>\n",
              "      <td>197</td>\n",
              "      <td>55</td>\n",
              "    </tr>\n",
              "    <tr>\n",
              "      <th>3787</th>\n",
              "      <td>Hòa Phát đã khắc phục xong sự cố hỏa hoạn tại ...</td>\n",
              "      <td>HPG</td>\n",
              "      <td>271</td>\n",
              "      <td>197</td>\n",
              "      <td>55</td>\n",
              "    </tr>\n",
              "    <tr>\n",
              "      <th>3771</th>\n",
              "      <td>Hòa Phát tiết kiệm 1.700 tỷ đồng trong 6 tháng...</td>\n",
              "      <td>HPG</td>\n",
              "      <td>601</td>\n",
              "      <td>197</td>\n",
              "      <td>55</td>\n",
              "    </tr>\n",
              "    <tr>\n",
              "      <th>1278</th>\n",
              "      <td>Tham vọng làm dự án thép công suất 80% Hoà Phá...</td>\n",
              "      <td>HPG</td>\n",
              "      <td>1135</td>\n",
              "      <td>197</td>\n",
              "      <td>55</td>\n",
              "    </tr>\n",
              "    <tr>\n",
              "      <th>1287</th>\n",
              "      <td>Những doanh nhân tuổi Sửu nổi bật trên thương ...</td>\n",
              "      <td>HPG</td>\n",
              "      <td>1253</td>\n",
              "      <td>197</td>\n",
              "      <td>55</td>\n",
              "    </tr>\n",
              "    <tr>\n",
              "      <th>3725</th>\n",
              "      <td>Hòa Phát lãi kỷ lục, ban lãnh đạo sắp được thư...</td>\n",
              "      <td>HPG</td>\n",
              "      <td>573</td>\n",
              "      <td>197</td>\n",
              "      <td>55</td>\n",
              "    </tr>\n",
              "    <tr>\n",
              "      <th>3685</th>\n",
              "      <td>Ông Nguyễn Việt Thắng, tân Tổng Giám đốc Tập đ...</td>\n",
              "      <td>HPG</td>\n",
              "      <td>135</td>\n",
              "      <td>197</td>\n",
              "      <td>55</td>\n",
              "    </tr>\n",
              "    <tr>\n",
              "      <th>7763</th>\n",
              "      <td>Hòa Phát đã bán 530 ngàn tấn thép trong tháng ...</td>\n",
              "      <td>HPG</td>\n",
              "      <td>303</td>\n",
              "      <td>197</td>\n",
              "      <td>55</td>\n",
              "    </tr>\n",
              "  </tbody>\n",
              "</table>\n",
              "</div>\n",
              "      <button class=\"colab-df-convert\" onclick=\"convertToInteractive('df-e06e9efa-d369-430a-af5d-ef89aa04b221')\"\n",
              "              title=\"Convert this dataframe to an interactive table.\"\n",
              "              style=\"display:none;\">\n",
              "        \n",
              "  <svg xmlns=\"http://www.w3.org/2000/svg\" height=\"24px\"viewBox=\"0 0 24 24\"\n",
              "       width=\"24px\">\n",
              "    <path d=\"M0 0h24v24H0V0z\" fill=\"none\"/>\n",
              "    <path d=\"M18.56 5.44l.94 2.06.94-2.06 2.06-.94-2.06-.94-.94-2.06-.94 2.06-2.06.94zm-11 1L8.5 8.5l.94-2.06 2.06-.94-2.06-.94L8.5 2.5l-.94 2.06-2.06.94zm10 10l.94 2.06.94-2.06 2.06-.94-2.06-.94-.94-2.06-.94 2.06-2.06.94z\"/><path d=\"M17.41 7.96l-1.37-1.37c-.4-.4-.92-.59-1.43-.59-.52 0-1.04.2-1.43.59L10.3 9.45l-7.72 7.72c-.78.78-.78 2.05 0 2.83L4 21.41c.39.39.9.59 1.41.59.51 0 1.02-.2 1.41-.59l7.78-7.78 2.81-2.81c.8-.78.8-2.07 0-2.86zM5.41 20L4 18.59l7.72-7.72 1.47 1.35L5.41 20z\"/>\n",
              "  </svg>\n",
              "      </button>\n",
              "      \n",
              "  <style>\n",
              "    .colab-df-container {\n",
              "      display:flex;\n",
              "      flex-wrap:wrap;\n",
              "      gap: 12px;\n",
              "    }\n",
              "\n",
              "    .colab-df-convert {\n",
              "      background-color: #E8F0FE;\n",
              "      border: none;\n",
              "      border-radius: 50%;\n",
              "      cursor: pointer;\n",
              "      display: none;\n",
              "      fill: #1967D2;\n",
              "      height: 32px;\n",
              "      padding: 0 0 0 0;\n",
              "      width: 32px;\n",
              "    }\n",
              "\n",
              "    .colab-df-convert:hover {\n",
              "      background-color: #E2EBFA;\n",
              "      box-shadow: 0px 1px 2px rgba(60, 64, 67, 0.3), 0px 1px 3px 1px rgba(60, 64, 67, 0.15);\n",
              "      fill: #174EA6;\n",
              "    }\n",
              "\n",
              "    [theme=dark] .colab-df-convert {\n",
              "      background-color: #3B4455;\n",
              "      fill: #D2E3FC;\n",
              "    }\n",
              "\n",
              "    [theme=dark] .colab-df-convert:hover {\n",
              "      background-color: #434B5C;\n",
              "      box-shadow: 0px 1px 3px 1px rgba(0, 0, 0, 0.15);\n",
              "      filter: drop-shadow(0px 1px 2px rgba(0, 0, 0, 0.3));\n",
              "      fill: #FFFFFF;\n",
              "    }\n",
              "  </style>\n",
              "\n",
              "      <script>\n",
              "        const buttonEl =\n",
              "          document.querySelector('#df-e06e9efa-d369-430a-af5d-ef89aa04b221 button.colab-df-convert');\n",
              "        buttonEl.style.display =\n",
              "          google.colab.kernel.accessAllowed ? 'block' : 'none';\n",
              "\n",
              "        async function convertToInteractive(key) {\n",
              "          const element = document.querySelector('#df-e06e9efa-d369-430a-af5d-ef89aa04b221');\n",
              "          const dataTable =\n",
              "            await google.colab.kernel.invokeFunction('convertToInteractive',\n",
              "                                                     [key], {});\n",
              "          if (!dataTable) return;\n",
              "\n",
              "          const docLinkHtml = 'Like what you see? Visit the ' +\n",
              "            '<a target=\"_blank\" href=https://colab.research.google.com/notebooks/data_table.ipynb>data table notebook</a>'\n",
              "            + ' to learn more about interactive tables.';\n",
              "          element.innerHTML = '';\n",
              "          dataTable['output_type'] = 'display_data';\n",
              "          await google.colab.output.renderOutput(dataTable, element);\n",
              "          const docLink = document.createElement('div');\n",
              "          docLink.innerHTML = docLinkHtml;\n",
              "          element.appendChild(docLink);\n",
              "        }\n",
              "      </script>\n",
              "    </div>\n",
              "  </div>\n",
              "  "
            ]
          },
          "metadata": {},
          "execution_count": 17
        }
      ],
      "source": [
        "e_df['Encode Label'] = labels\n",
        "e_df.head(10)"
      ]
    },
    {
      "cell_type": "markdown",
      "metadata": {
        "id": "pfz_FReFILAS"
      },
      "source": [
        "## Split trainset valset"
      ]
    },
    {
      "cell_type": "code",
      "execution_count": 18,
      "metadata": {
        "id": "Z8LKnxN4IOJJ",
        "colab": {
          "base_uri": "https://localhost:8080/"
        },
        "outputId": "f66ae2b5-60b0-4a84-a5cc-75f6d40a5183"
      },
      "outputs": [
        {
          "output_type": "stream",
          "name": "stdout",
          "text": [
            "5804\n",
            "5469\n",
            "How many unique labels in the trainset 156\n",
            "How many unique labels in the valset 156\n"
          ]
        }
      ],
      "source": [
        "trainset, valset = train_test_split(e_df, test_size=0.2, stratify=e_df['Encode Label'])\n",
        "print(len(trainset))\n",
        "trainset = trainset.drop_duplicates(subset=['Label', 'Word Count'], keep='first')\n",
        "print(len(trainset))\n",
        "trainset['Class Count'] = trainset.groupby('Label')['Label'].transform('count')\n",
        "valset['Class Count'] = valset.groupby('Label')['Label'].transform('count')\n",
        "print(\"How many unique labels in the trainset\", trainset['Encode Label'].nunique())\n",
        "print(\"How many unique labels in the valset\", valset['Encode Label'].nunique())"
      ]
    },
    {
      "cell_type": "code",
      "source": [
        "trainset_unique_label = trainset.drop_duplicates(subset='Encode Label').sort_values(by=\"Class Count\")\n",
        "trainset_unique_label.head()\n"
      ],
      "metadata": {
        "colab": {
          "base_uri": "https://localhost:8080/",
          "height": 206
        },
        "id": "M2y3_Tf1vuJ0",
        "outputId": "2ab7dee0-33d1-4d7c-bd0c-f03bcc70782f"
      },
      "execution_count": 19,
      "outputs": [
        {
          "output_type": "execute_result",
          "data": {
            "text/plain": [
              "                                                Content Label  Word Count  \\\n",
              "9037  OCH làm rõ lý do về quyết định xử phạt vi phạm...   OCH         556   \n",
              "4534  Vinatex chốt quyền trả cổ tức 5% bằng tiền. Vớ...   VGT         217   \n",
              "2913  Pomina chuyển từ lãi sang lỗ sau soát xét, kiể...   POM         369   \n",
              "8411  CIC Group (CKG): Lãnh đạo chỉ mua được 29,3% t...   CKG         329   \n",
              "4744  Dragon Capital buộc phải bán cổ phần Imexpharm...   IMP         779   \n",
              "\n",
              "      Class Count  Encode Label  \n",
              "9037           12            90  \n",
              "4534           14           142  \n",
              "2913           15           101  \n",
              "8411           15            17  \n",
              "4744           15            66  "
            ],
            "text/html": [
              "\n",
              "  <div id=\"df-7c6a73eb-c013-4708-a8c8-db41658f1653\">\n",
              "    <div class=\"colab-df-container\">\n",
              "      <div>\n",
              "<style scoped>\n",
              "    .dataframe tbody tr th:only-of-type {\n",
              "        vertical-align: middle;\n",
              "    }\n",
              "\n",
              "    .dataframe tbody tr th {\n",
              "        vertical-align: top;\n",
              "    }\n",
              "\n",
              "    .dataframe thead th {\n",
              "        text-align: right;\n",
              "    }\n",
              "</style>\n",
              "<table border=\"1\" class=\"dataframe\">\n",
              "  <thead>\n",
              "    <tr style=\"text-align: right;\">\n",
              "      <th></th>\n",
              "      <th>Content</th>\n",
              "      <th>Label</th>\n",
              "      <th>Word Count</th>\n",
              "      <th>Class Count</th>\n",
              "      <th>Encode Label</th>\n",
              "    </tr>\n",
              "  </thead>\n",
              "  <tbody>\n",
              "    <tr>\n",
              "      <th>9037</th>\n",
              "      <td>OCH làm rõ lý do về quyết định xử phạt vi phạm...</td>\n",
              "      <td>OCH</td>\n",
              "      <td>556</td>\n",
              "      <td>12</td>\n",
              "      <td>90</td>\n",
              "    </tr>\n",
              "    <tr>\n",
              "      <th>4534</th>\n",
              "      <td>Vinatex chốt quyền trả cổ tức 5% bằng tiền. Vớ...</td>\n",
              "      <td>VGT</td>\n",
              "      <td>217</td>\n",
              "      <td>14</td>\n",
              "      <td>142</td>\n",
              "    </tr>\n",
              "    <tr>\n",
              "      <th>2913</th>\n",
              "      <td>Pomina chuyển từ lãi sang lỗ sau soát xét, kiể...</td>\n",
              "      <td>POM</td>\n",
              "      <td>369</td>\n",
              "      <td>15</td>\n",
              "      <td>101</td>\n",
              "    </tr>\n",
              "    <tr>\n",
              "      <th>8411</th>\n",
              "      <td>CIC Group (CKG): Lãnh đạo chỉ mua được 29,3% t...</td>\n",
              "      <td>CKG</td>\n",
              "      <td>329</td>\n",
              "      <td>15</td>\n",
              "      <td>17</td>\n",
              "    </tr>\n",
              "    <tr>\n",
              "      <th>4744</th>\n",
              "      <td>Dragon Capital buộc phải bán cổ phần Imexpharm...</td>\n",
              "      <td>IMP</td>\n",
              "      <td>779</td>\n",
              "      <td>15</td>\n",
              "      <td>66</td>\n",
              "    </tr>\n",
              "  </tbody>\n",
              "</table>\n",
              "</div>\n",
              "      <button class=\"colab-df-convert\" onclick=\"convertToInteractive('df-7c6a73eb-c013-4708-a8c8-db41658f1653')\"\n",
              "              title=\"Convert this dataframe to an interactive table.\"\n",
              "              style=\"display:none;\">\n",
              "        \n",
              "  <svg xmlns=\"http://www.w3.org/2000/svg\" height=\"24px\"viewBox=\"0 0 24 24\"\n",
              "       width=\"24px\">\n",
              "    <path d=\"M0 0h24v24H0V0z\" fill=\"none\"/>\n",
              "    <path d=\"M18.56 5.44l.94 2.06.94-2.06 2.06-.94-2.06-.94-.94-2.06-.94 2.06-2.06.94zm-11 1L8.5 8.5l.94-2.06 2.06-.94-2.06-.94L8.5 2.5l-.94 2.06-2.06.94zm10 10l.94 2.06.94-2.06 2.06-.94-2.06-.94-.94-2.06-.94 2.06-2.06.94z\"/><path d=\"M17.41 7.96l-1.37-1.37c-.4-.4-.92-.59-1.43-.59-.52 0-1.04.2-1.43.59L10.3 9.45l-7.72 7.72c-.78.78-.78 2.05 0 2.83L4 21.41c.39.39.9.59 1.41.59.51 0 1.02-.2 1.41-.59l7.78-7.78 2.81-2.81c.8-.78.8-2.07 0-2.86zM5.41 20L4 18.59l7.72-7.72 1.47 1.35L5.41 20z\"/>\n",
              "  </svg>\n",
              "      </button>\n",
              "      \n",
              "  <style>\n",
              "    .colab-df-container {\n",
              "      display:flex;\n",
              "      flex-wrap:wrap;\n",
              "      gap: 12px;\n",
              "    }\n",
              "\n",
              "    .colab-df-convert {\n",
              "      background-color: #E8F0FE;\n",
              "      border: none;\n",
              "      border-radius: 50%;\n",
              "      cursor: pointer;\n",
              "      display: none;\n",
              "      fill: #1967D2;\n",
              "      height: 32px;\n",
              "      padding: 0 0 0 0;\n",
              "      width: 32px;\n",
              "    }\n",
              "\n",
              "    .colab-df-convert:hover {\n",
              "      background-color: #E2EBFA;\n",
              "      box-shadow: 0px 1px 2px rgba(60, 64, 67, 0.3), 0px 1px 3px 1px rgba(60, 64, 67, 0.15);\n",
              "      fill: #174EA6;\n",
              "    }\n",
              "\n",
              "    [theme=dark] .colab-df-convert {\n",
              "      background-color: #3B4455;\n",
              "      fill: #D2E3FC;\n",
              "    }\n",
              "\n",
              "    [theme=dark] .colab-df-convert:hover {\n",
              "      background-color: #434B5C;\n",
              "      box-shadow: 0px 1px 3px 1px rgba(0, 0, 0, 0.15);\n",
              "      filter: drop-shadow(0px 1px 2px rgba(0, 0, 0, 0.3));\n",
              "      fill: #FFFFFF;\n",
              "    }\n",
              "  </style>\n",
              "\n",
              "      <script>\n",
              "        const buttonEl =\n",
              "          document.querySelector('#df-7c6a73eb-c013-4708-a8c8-db41658f1653 button.colab-df-convert');\n",
              "        buttonEl.style.display =\n",
              "          google.colab.kernel.accessAllowed ? 'block' : 'none';\n",
              "\n",
              "        async function convertToInteractive(key) {\n",
              "          const element = document.querySelector('#df-7c6a73eb-c013-4708-a8c8-db41658f1653');\n",
              "          const dataTable =\n",
              "            await google.colab.kernel.invokeFunction('convertToInteractive',\n",
              "                                                     [key], {});\n",
              "          if (!dataTable) return;\n",
              "\n",
              "          const docLinkHtml = 'Like what you see? Visit the ' +\n",
              "            '<a target=\"_blank\" href=https://colab.research.google.com/notebooks/data_table.ipynb>data table notebook</a>'\n",
              "            + ' to learn more about interactive tables.';\n",
              "          element.innerHTML = '';\n",
              "          dataTable['output_type'] = 'display_data';\n",
              "          await google.colab.output.renderOutput(dataTable, element);\n",
              "          const docLink = document.createElement('div');\n",
              "          docLink.innerHTML = docLinkHtml;\n",
              "          element.appendChild(docLink);\n",
              "        }\n",
              "      </script>\n",
              "    </div>\n",
              "  </div>\n",
              "  "
            ]
          },
          "metadata": {},
          "execution_count": 19
        }
      ]
    },
    {
      "cell_type": "code",
      "source": [
        "trainset.to_csv(\"trainset.csv\", index=False, encoding='utf-8-sig')"
      ],
      "metadata": {
        "id": "ZPv7gDC-RZqj"
      },
      "execution_count": 20,
      "outputs": []
    },
    {
      "cell_type": "code",
      "source": [
        "plt.figure(figsize=(10,6))\n",
        "plt.hist(trainset_unique_label['Class Count'], bins=60, edgecolor='black')\n",
        "plt.title('Distribution of Class Sizes')\n",
        "plt.xlabel('Class Count')\n",
        "plt.ylabel('Number of Classes')\n",
        "plt.show()\n"
      ],
      "metadata": {
        "colab": {
          "base_uri": "https://localhost:8080/",
          "height": 564
        },
        "id": "T1mxhA5RnGBS",
        "outputId": "3462b7a9-7a98-4041-cee3-8f6609c6d8ef"
      },
      "execution_count": 21,
      "outputs": [
        {
          "output_type": "display_data",
          "data": {
            "text/plain": [
              "<Figure size 1000x600 with 1 Axes>"
            ],
            "image/png": "[encoded data removed]"
          },
          "metadata": {}
        }
      ]
    },
    {
      "cell_type": "code",
      "source": [
        "# Pie chart, where the slices will be ordered and plotted counter-clockwise:\n",
        "sizes = trainset_unique_label['Class Count'].values\n",
        "\n",
        "plt.figure(figsize=(10,6))\n",
        "plt.pie(sizes, startangle=140)\n",
        "plt.title('Distribution of Class Sizes')\n",
        "plt.axis('equal')  # Equal aspect ratio ensures that pie is drawn as a circle.\n",
        "plt.show()"
      ],
      "metadata": {
        "colab": {
          "base_uri": "https://localhost:8080/",
          "height": 521
        },
        "id": "azPKL6Y88LnS",
        "outputId": "94672741-af26-4ff8-c771-d8a93f32b4a4"
      },
      "execution_count": 22,
      "outputs": [
        {
          "output_type": "display_data",
          "data": {
            "text/plain": [
              "<Figure size 1000x600 with 1 Axes>"
            ],
            "image/png": "[encoded data removed]"
          },
          "metadata": {}
        }
      ]
    },
    {
      "cell_type": "markdown",
      "source": [
        "## Balance Dataset"
      ],
      "metadata": {
        "id": "KQwBfmkcciYm"
      }
    },
    {
      "cell_type": "code",
      "source": [
        "def balance_data(df, target_count, max_length):\n",
        "    balanced_df = pd.DataFrame(columns=df.columns)\n",
        "    for label in df['Label'].unique():\n",
        "        label_df = df[df['Label'] == label]\n",
        "        count = len(label_df)\n",
        "\n",
        "        if count >= target_count:\n",
        "            label_df = label_df.sample(n=target_count, random_state=42)\n",
        "        else:\n",
        "            additional_samples_needed = target_count - count\n",
        "            samples_per_row = (additional_samples_needed // count)\n",
        "            additional_samples = []\n",
        "\n",
        "            for _, row in label_df.iterrows():\n",
        "                content = row['Content']\n",
        "                sentences = nltk.tokenize.sent_tokenize(content)\n",
        "\n",
        "                window_start = 0\n",
        "\n",
        "                for _ in range(samples_per_row):\n",
        "                    picked_sentences = []\n",
        "                    word_count = 0\n",
        "                    i = window_start  # Set i to the start of the current window\n",
        "\n",
        "                    while i < len(sentences):\n",
        "                        sentence = sentences[i]\n",
        "                        sentence_word_count = len(sentence.split())\n",
        "\n",
        "                        if word_count + sentence_word_count > max_length:\n",
        "                            break\n",
        "\n",
        "                        picked_sentences.append(sentence)\n",
        "                        word_count += sentence_word_count\n",
        "                        i += 1\n",
        "\n",
        "                    # No need to remove picked sentences from the list\n",
        "\n",
        "                    if len(picked_sentences) > 0:\n",
        "                        new_sample = pd.Series(data=copy.deepcopy(row.values), index=df.columns)\n",
        "                        new_sample['Content'] = ' '.join(picked_sentences)\n",
        "                        additional_samples.append(new_sample)\n",
        "\n",
        "                    # Slide the window by one sentence\n",
        "                    if window_start + 1 < len(sentences):\n",
        "                        window_start += 1\n",
        "                    else:\n",
        "                        break  # Break the loop if we've processed all sentences\n",
        "\n",
        "            # This is a new block of code to limit the number of samples\n",
        "            # We randomly select 'target_count' samples if there are more than 'target_count' samples\n",
        "            if len(additional_samples) > target_count:\n",
        "                additional_samples = random.sample(additional_samples, target_count)\n",
        "\n",
        "            additional_samples = pd.DataFrame(additional_samples)\n",
        "            label_df = pd.concat([label_df, additional_samples], ignore_index=True)\n",
        "\n",
        "        balanced_df = pd.concat([balanced_df, label_df], ignore_index=True)\n",
        "\n",
        "    return balanced_df\n"
      ],
      "metadata": {
        "id": "uzp9row0YzB3"
      },
      "execution_count": 23,
      "outputs": []
    },
    {
      "cell_type": "code",
      "source": [
        "balanced_trainset = balance_data(trainset, target_count=50, max_length=150)"
      ],
      "metadata": {
        "id": "_gfQUISEYYXb"
      },
      "execution_count": 24,
      "outputs": []
    },
    {
      "cell_type": "code",
      "source": [
        "balanced_trainset['Class Count'] = balanced_trainset.groupby('Label')['Label'].transform('count')\n",
        "# df['Word Count'] = balanced_trainset['Content'].apply(lambda x: len(str(x).split()))\n",
        "balanced_trainset.head()"
      ],
      "metadata": {
        "colab": {
          "base_uri": "https://localhost:8080/",
          "height": 206
        },
        "id": "bvt_FAwwbiQ5",
        "outputId": "a6b0124a-6927-4cf4-86ed-b887e486ec39"
      },
      "execution_count": 25,
      "outputs": [
        {
          "output_type": "execute_result",
          "data": {
            "text/plain": [
              "                                             Content Label Word Count  \\\n",
              "0  Lộ diện nhiều doanh nghiệp tăng trưởng lợi nhu...   AAA       1285   \n",
              "1  SSI Research: AAA chờ nguồn thu từ khu công ng...   AAA        473   \n",
              "2  AAA lãi quý II tăng 25%, thực hiện 33% kế hoạc...   AAA        561   \n",
              "3  AAA được mở room ngoại lên 100%. Mới đây, CTCP...   AAA        331   \n",
              "4  AAA báo lãi sau thuế quý 2 hơn 92 tỷ đồng. CTC...   AAA        420   \n",
              "\n",
              "   Class Count Encode Label  \n",
              "0           41            0  \n",
              "1           41            0  \n",
              "2           41            0  \n",
              "3           41            0  \n",
              "4           41            0  "
            ],
            "text/html": [
              "\n",
              "  <div id=\"df-b150fae9-d0a5-4b41-914c-1316952bb62f\">\n",
              "    <div class=\"colab-df-container\">\n",
              "      <div>\n",
              "<style scoped>\n",
              "    .dataframe tbody tr th:only-of-type {\n",
              "        vertical-align: middle;\n",
              "    }\n",
              "\n",
              "    .dataframe tbody tr th {\n",
              "        vertical-align: top;\n",
              "    }\n",
              "\n",
              "    .dataframe thead th {\n",
              "        text-align: right;\n",
              "    }\n",
              "</style>\n",
              "<table border=\"1\" class=\"dataframe\">\n",
              "  <thead>\n",
              "    <tr style=\"text-align: right;\">\n",
              "      <th></th>\n",
              "      <th>Content</th>\n",
              "      <th>Label</th>\n",
              "      <th>Word Count</th>\n",
              "      <th>Class Count</th>\n",
              "      <th>Encode Label</th>\n",
              "    </tr>\n",
              "  </thead>\n",
              "  <tbody>\n",
              "    <tr>\n",
              "      <th>0</th>\n",
              "      <td>Lộ diện nhiều doanh nghiệp tăng trưởng lợi nhu...</td>\n",
              "      <td>AAA</td>\n",
              "      <td>1285</td>\n",
              "      <td>41</td>\n",
              "      <td>0</td>\n",
              "    </tr>\n",
              "    <tr>\n",
              "      <th>1</th>\n",
              "      <td>SSI Research: AAA chờ nguồn thu từ khu công ng...</td>\n",
              "      <td>AAA</td>\n",
              "      <td>473</td>\n",
              "      <td>41</td>\n",
              "      <td>0</td>\n",
              "    </tr>\n",
              "    <tr>\n",
              "      <th>2</th>\n",
              "      <td>AAA lãi quý II tăng 25%, thực hiện 33% kế hoạc...</td>\n",
              "      <td>AAA</td>\n",
              "      <td>561</td>\n",
              "      <td>41</td>\n",
              "      <td>0</td>\n",
              "    </tr>\n",
              "    <tr>\n",
              "      <th>3</th>\n",
              "      <td>AAA được mở room ngoại lên 100%. Mới đây, CTCP...</td>\n",
              "      <td>AAA</td>\n",
              "      <td>331</td>\n",
              "      <td>41</td>\n",
              "      <td>0</td>\n",
              "    </tr>\n",
              "    <tr>\n",
              "      <th>4</th>\n",
              "      <td>AAA báo lãi sau thuế quý 2 hơn 92 tỷ đồng. CTC...</td>\n",
              "      <td>AAA</td>\n",
              "      <td>420</td>\n",
              "      <td>41</td>\n",
              "      <td>0</td>\n",
              "    </tr>\n",
              "  </tbody>\n",
              "</table>\n",
              "</div>\n",
              "      <button class=\"colab-df-convert\" onclick=\"convertToInteractive('df-b150fae9-d0a5-4b41-914c-1316952bb62f')\"\n",
              "              title=\"Convert this dataframe to an interactive table.\"\n",
              "              style=\"display:none;\">\n",
              "        \n",
              "  <svg xmlns=\"http://www.w3.org/2000/svg\" height=\"24px\"viewBox=\"0 0 24 24\"\n",
              "       width=\"24px\">\n",
              "    <path d=\"M0 0h24v24H0V0z\" fill=\"none\"/>\n",
              "    <path d=\"M18.56 5.44l.94 2.06.94-2.06 2.06-.94-2.06-.94-.94-2.06-.94 2.06-2.06.94zm-11 1L8.5 8.5l.94-2.06 2.06-.94-2.06-.94L8.5 2.5l-.94 2.06-2.06.94zm10 10l.94 2.06.94-2.06 2.06-.94-2.06-.94-.94-2.06-.94 2.06-2.06.94z\"/><path d=\"M17.41 7.96l-1.37-1.37c-.4-.4-.92-.59-1.43-.59-.52 0-1.04.2-1.43.59L10.3 9.45l-7.72 7.72c-.78.78-.78 2.05 0 2.83L4 21.41c.39.39.9.59 1.41.59.51 0 1.02-.2 1.41-.59l7.78-7.78 2.81-2.81c.8-.78.8-2.07 0-2.86zM5.41 20L4 18.59l7.72-7.72 1.47 1.35L5.41 20z\"/>\n",
              "  </svg>\n",
              "      </button>\n",
              "      \n",
              "  <style>\n",
              "    .colab-df-container {\n",
              "      display:flex;\n",
              "      flex-wrap:wrap;\n",
              "      gap: 12px;\n",
              "    }\n",
              "\n",
              "    .colab-df-convert {\n",
              "      background-color: #E8F0FE;\n",
              "      border: none;\n",
              "      border-radius: 50%;\n",
              "      cursor: pointer;\n",
              "      display: none;\n",
              "      fill: #1967D2;\n",
              "      height: 32px;\n",
              "      padding: 0 0 0 0;\n",
              "      width: 32px;\n",
              "    }\n",
              "\n",
              "    .colab-df-convert:hover {\n",
              "      background-color: #E2EBFA;\n",
              "      box-shadow: 0px 1px 2px rgba(60, 64, 67, 0.3), 0px 1px 3px 1px rgba(60, 64, 67, 0.15);\n",
              "      fill: #174EA6;\n",
              "    }\n",
              "\n",
              "    [theme=dark] .colab-df-convert {\n",
              "      background-color: #3B4455;\n",
              "      fill: #D2E3FC;\n",
              "    }\n",
              "\n",
              "    [theme=dark] .colab-df-convert:hover {\n",
              "      background-color: #434B5C;\n",
              "      box-shadow: 0px 1px 3px 1px rgba(0, 0, 0, 0.15);\n",
              "      filter: drop-shadow(0px 1px 2px rgba(0, 0, 0, 0.3));\n",
              "      fill: #FFFFFF;\n",
              "    }\n",
              "  </style>\n",
              "\n",
              "      <script>\n",
              "        const buttonEl =\n",
              "          document.querySelector('#df-b150fae9-d0a5-4b41-914c-1316952bb62f button.colab-df-convert');\n",
              "        buttonEl.style.display =\n",
              "          google.colab.kernel.accessAllowed ? 'block' : 'none';\n",
              "\n",
              "        async function convertToInteractive(key) {\n",
              "          const element = document.querySelector('#df-b150fae9-d0a5-4b41-914c-1316952bb62f');\n",
              "          const dataTable =\n",
              "            await google.colab.kernel.invokeFunction('convertToInteractive',\n",
              "                                                     [key], {});\n",
              "          if (!dataTable) return;\n",
              "\n",
              "          const docLinkHtml = 'Like what you see? Visit the ' +\n",
              "            '<a target=\"_blank\" href=https://colab.research.google.com/notebooks/data_table.ipynb>data table notebook</a>'\n",
              "            + ' to learn more about interactive tables.';\n",
              "          element.innerHTML = '';\n",
              "          dataTable['output_type'] = 'display_data';\n",
              "          await google.colab.output.renderOutput(dataTable, element);\n",
              "          const docLink = document.createElement('div');\n",
              "          docLink.innerHTML = docLinkHtml;\n",
              "          element.appendChild(docLink);\n",
              "        }\n",
              "      </script>\n",
              "    </div>\n",
              "  </div>\n",
              "  "
            ]
          },
          "metadata": {},
          "execution_count": 25
        }
      ]
    },
    {
      "cell_type": "code",
      "source": [
        "plt.figure(figsize=(10,6))\n",
        "plt.hist(balanced_trainset.drop_duplicates(subset='Encode Label').sort_values(by=\"Class Count\")['Class Count'], bins=60, edgecolor='black')\n",
        "plt.title('Distribution of Class Sizes')\n",
        "plt.xlabel('Class Count')\n",
        "plt.ylabel('Number of Classes')\n",
        "plt.show()"
      ],
      "metadata": {
        "colab": {
          "base_uri": "https://localhost:8080/",
          "height": 564
        },
        "id": "RQu6afHbeRi9",
        "outputId": "a3dd1f4f-5581-4aa5-9f52-9c0ebe837173"
      },
      "execution_count": 26,
      "outputs": [
        {
          "output_type": "display_data",
          "data": {
            "text/plain": [
              "<Figure size 1000x600 with 1 Axes>"
            ],
            "image/png": "[encoded data removed]"
          },
          "metadata": {}
        }
      ]
    },
    {
      "cell_type": "markdown",
      "metadata": {
        "id": "_R14rC6nZDVO"
      },
      "source": [
        "# Load phoBERT tokenizer"
      ]
    },
    {
      "cell_type": "code",
      "execution_count": 27,
      "metadata": {
        "colab": {
          "base_uri": "https://localhost:8080/",
          "height": 150,
          "referenced_widgets": [
            "5f1be6682a094fe8833da760dcfe26f0",
            "b6418b6d5adb456eaeb05b0b5fcf03d5",
            "707a99d7761f4edf8606bcbde2012c20",
            "9461068ea46b4fc580be34df4cfefb09",
            "e1741945f52c4dc7a6bade6d2e909cd2",
            "19f0614f7e924177ae329a5ee7e06f93",
            "4390d7bd8ffc4995b47708488ba09b29",
            "448bcefc06bd401ab77a457d67b4ab28",
            "b59db958c6e84af6bb054d1bb6fa03c0",
            "5aff4bb7ff7144dea56ee42ddffd60f6",
            "1846ad5f837d41a8bed05ebb41675a3e",
            "40fc15796d384d87a5d57ec6715854c5",
            "d6fe2e81f1ad427fa10da6206e06a067",
            "76910aabd40346f7873ef43663fa895a",
            "1d5b742466464ae9a118d792afbfce11",
            "c79e933239db47628b38676fa856f219",
            "dc126bec73984a0b8a867ff891795010",
            "bec5810e02fa40ab81d827edd56d20ca",
            "a3edc39cbb0e4193925ce61ef4745ecf",
            "51bb1305abc8462ca7324424fde98860",
            "8d28522723c0446e8597587688228dbb",
            "1ae50d5a4aca4a65b32185b8181e5c6a",
            "14cda9665c6d40b2a5fa33b88c281600",
            "954172d8dca84740a9db01cf7bdc8840",
            "178d48e8c504446abaca75f6919b8df3",
            "62b43d95a6fa4a5b8a2a14ea44842e67",
            "b02332c6c1194bbeb96649e794803d6b",
            "6fb82937fc344cbfb1a119ea988c1050",
            "9fd9e62401ec4502bf1d5297647f0777",
            "1247705520dc4ebc86e0f98779db38be",
            "78595619b9a94462b5c695caf118ad49",
            "80868803399a4458886755fd5e15483b",
            "43c2326152174201b668ee1594881153"
          ]
        },
        "id": "7B_rRMMoZGUT",
        "outputId": "efe15300-c564-45f0-9c9e-48363571c131"
      },
      "outputs": [
        {
          "output_type": "display_data",
          "data": {
            "text/plain": [
              "Downloading (…)lve/main/config.json:   0%|          | 0.00/678 [00:00<?, ?B/s]"
            ],
            "application/vnd.jupyter.widget-view+json": {
              "version_major": 2,
              "version_minor": 0,
              "model_id": "5f1be6682a094fe8833da760dcfe26f0"
            }
          },
          "metadata": {}
        },
        {
          "output_type": "display_data",
          "data": {
            "text/plain": [
              "Downloading (…)solve/main/vocab.txt:   0%|          | 0.00/895k [00:00<?, ?B/s]"
            ],
            "application/vnd.jupyter.widget-view+json": {
              "version_major": 2,
              "version_minor": 0,
              "model_id": "40fc15796d384d87a5d57ec6715854c5"
            }
          },
          "metadata": {}
        },
        {
          "output_type": "display_data",
          "data": {
            "text/plain": [
              "Downloading (…)solve/main/bpe.codes:   0%|          | 0.00/1.14M [00:00<?, ?B/s]"
            ],
            "application/vnd.jupyter.widget-view+json": {
              "version_major": 2,
              "version_minor": 0,
              "model_id": "14cda9665c6d40b2a5fa33b88c281600"
            }
          },
          "metadata": {}
        },
        {
          "output_type": "stream",
          "name": "stderr",
          "text": [
            "Special tokens have been added in the vocabulary, make sure the associated word embeddings are fine-tuned or trained.\n"
          ]
        }
      ],
      "source": [
        "# Load pre-trained tokenizer\n",
        "tokenizer = AutoTokenizer.from_pretrained(\"vinai/phobert-base-v2\", use_fast=False)"
      ]
    },
    {
      "cell_type": "code",
      "execution_count": 28,
      "metadata": {
        "colab": {
          "base_uri": "https://localhost:8080/"
        },
        "id": "_goEc8618VXw",
        "outputId": "caf06df2-10a0-49c9-ea38-e2ceff2616fe"
      },
      "outputs": [
        {
          "output_type": "stream",
          "name": "stdout",
          "text": [
            "[0, 675, 6745, 313, 294, 1276, 2136, 2260, 2]\n",
            "[0, 675, 6892, 313, 294, 1529, 57202, 2]\n"
          ]
        }
      ],
      "source": [
        "text = \"công tyNếu tính GJK\"\n",
        "print(tokenizer.encode(text))\n",
        "text = \"công ty Nếu tính gjk\"\n",
        "print(tokenizer.encode(text))"
      ]
    },
    {
      "cell_type": "markdown",
      "metadata": {
        "id": "dtdcZMIXyWP1"
      },
      "source": [
        "# Hyperparameters\n"
      ]
    },
    {
      "cell_type": "code",
      "execution_count": 29,
      "metadata": {
        "id": "ylRDFeY_ZB3G"
      },
      "outputs": [],
      "source": [
        "MAX_LENGTH = 256  # Adjust as needed\n",
        "BATCH_SIZE = 32\n",
        "N_CLASSES = number_of_classes  # Replace with your actual number of classes\n",
        "EPOCHS = 30"
      ]
    },
    {
      "cell_type": "markdown",
      "source": [
        "# ArticleDataset Class"
      ],
      "metadata": {
        "id": "lbrjz_3qzQTy"
      }
    },
    {
      "cell_type": "code",
      "source": [
        "class ArticleDataset(Dataset):\n",
        "    def __init__(self, data, labels, tokenizer, max_length=256):\n",
        "        self.data = data\n",
        "        self.labels = labels\n",
        "        self.tokenizer = tokenizer\n",
        "        self.max_length = max_length\n",
        "\n",
        "    def __len__(self):\n",
        "        return len(self.data)\n",
        "\n",
        "    def __getitem__(self, idx):\n",
        "        item = self.data.iloc[idx]\n",
        "        label = item.get('Encode Label')\n",
        "        encoding = self.tokenizer.encode_plus(\n",
        "            text=item.Content,\n",
        "            add_special_tokens=True,\n",
        "            max_length=self.max_length,\n",
        "            padding='max_length',\n",
        "            truncation=True,\n",
        "            return_attention_mask=True,\n",
        "            return_tensors='pt',\n",
        "        )\n",
        "\n",
        "        return {\n",
        "            'content': item.Content,\n",
        "            'input_ids':encoding['input_ids'].flatten(),\n",
        "            'attention_mask': encoding['attention_mask'].flatten(),\n",
        "            'labels': torch.tensor(label, dtype=torch.long)\n",
        "        }\n",
        "\n"
      ],
      "metadata": {
        "id": "ffAub334zaQw"
      },
      "execution_count": 30,
      "outputs": []
    },
    {
      "cell_type": "code",
      "source": [
        "x = torch.tensor([1, 2, 3, 4, 5])\n",
        "print(x.shape)"
      ],
      "metadata": {
        "colab": {
          "base_uri": "https://localhost:8080/"
        },
        "id": "LAcDCSbWqam4",
        "outputId": "699493bb-d232-4d67-8da5-12b60bd67def"
      },
      "execution_count": 31,
      "outputs": [
        {
          "output_type": "stream",
          "name": "stdout",
          "text": [
            "torch.Size([5])\n"
          ]
        }
      ]
    },
    {
      "cell_type": "code",
      "source": [
        "a_ds = ArticleDataset(balanced_trainset, labels, tokenizer, MAX_LENGTH)\n",
        "random_index = random.randint(0, len(a_ds) - 1)  # Generate a random index within the valid range\n",
        "sample_item = a_ds[random_index]\n",
        "print(len(a_ds))\n",
        "print(sample_item.keys())\n",
        "print(sample_item['content'])"
      ],
      "metadata": {
        "colab": {
          "base_uri": "https://localhost:8080/"
        },
        "id": "VHAPMslc5ikj",
        "outputId": "c1d80577-0776-4926-9596-e97f0a4290b3"
      },
      "execution_count": 32,
      "outputs": [
        {
          "output_type": "stream",
          "name": "stdout",
          "text": [
            "6356\n",
            "dict_keys(['content', 'input_ids', 'attention_mask', 'labels'])\n",
            "Vinaconex sau một năm đổi… mẹ. Cổ đông lớn nhất và cũng là công ty mẹ của Tổng CTCP Xuất nhập khẩu và Xây dựng Việt Nam (Vinaconex, HOSE: VCG) là CTCP Đầu tư Pacific Holdings - một doanh nghiệp thành lập từ cuối năm 2021. Sau một năm đổi chủ, dù không khác về bản chất, Vinaconex vẫn kết thúc năm cũ theo cách tương đối suôn sẻ.    Hành trình đổi “mẹ” của Vinaconex Đầu năm 2022, Vinaconex bất ngờ đổi cổ đông lớn. Chính xác là vào ngày 23/02/2022, CTCP Đầu tư Pacific Holdings (gọi tắt là Pacific Holdings) nhận chuyển nhượng toàn bộ hơn 277.8 triệu cp từ Công ty TNHH An Quý Hưng, qua đó nâng tỷ lệ sở hữu từ 0% lên 62.9%, trở thành Công ty mẹ của Vinaconex.  Chuyện doanh nghiệp đổi chủ không có gì lạ, nhưng câu chuyện của Pacific Holdings thì có. Ngay từ ngày mới thành lập 12/11/2021, Pacific Holdings ghi nhận mức vốn điều lệ khủng 7.1 ngàn tỷ đồng. Tân binh có hơn 130 ngành nghề đăng ký kinh doanh, song, hoạt động chính trong lĩnh vực kinh doanh bất động sản.  Sau ba tháng thành lập, Pacific Holdings nhanh chóng trở thành công ty mẹ của doanh nghiệp hơn 30 năm tuổi đời - Vinaconex. Quy mô vốn điều lệ của Pacific Holdings được đảm bảo gấp rưỡi vốn của công ty con này. Pacific Holdings tưởng lạ mà quen, bởi 99.92% vốn điều lệ do Công ty TNHH An Quý Hưng nắm, tương đương hơn 709 triệu cp. Nói cách khác, An Quý Hưng không thoái vốn khỏi Vinaconex, mà sở hữu gián tiếp thông qua công ty con là Pacific Holdings.  Các cổ đông sáng lập còn lại của Pacific  Holdings gồm ông Đào Ngọc Thanh, Dương Văn Mậu, Nguyễn Hữu Tới, Nguyễn Xuân Đông, mỗi người nắm 0.02% cổ phần. Ông Trần Đình Tuấn giữ chức Tổng Giám đốc kiêm Người đại diện pháp luật Pacific Holdings. Đây đều là những nhân vật thượng tầng của Vinaconex, bao gồm: ông Thanh là Chủ tịch HĐQT; ông Đông là Thành viên HĐQT kiêm Tổng Giám đốc; ông Mậu và ông Tới đều là Thành viên HĐQT kiêm Phó Tổng giám đốc; ông Tuấn là Phó Tổng giám đốc Vinaconex.  Về An Quý Hưng, đây là cái tên từng gây xôn xao vào cuối năm 2018 khi trúng giá trọn lô cổ phiếu VCG trị giá hơn 7.3 ngàn tỷ đồng do SCIC thoái vốn. Sau thâu tóm thành công, An Quý Hưng tổ chức ĐHĐCĐ bất thường 2019 để bầu lại toàn bộ HĐQT cùng BKS, qua đó đưa ban lãnh đạo của Công ty vào thượng tầng Vinaconex.  Quá trình thâu tóm cùng thay máu ban lãnh đạo diễn ra chóng vánh của An Quý Hưng tại Vinaconex gây ra nhiều phản ứng trái chiều, trong đó có nghi vấn về tính hợp pháp của các thành viên (5 thành viên HĐQT mới chưa đủ thời gian nắm giữ cổ phiếu để đủ điều kiện đề cử); cũng như nguồn lực tài chính của An Quý Hưng khi tại thời điểm cuối năm 2017, tổng tài sản của doanh nghiệp chỉ là 1,000 tỷ đồng, thấp hơn rất nhiều so với số tiền bỏ ra để thâu tóm Vinaconex.  Trở lại với “mẹ mới” của Vinaconex, một điểm đáng chú ý là chỉ sau 1 tháng thành lập, vào ngày 14/12/2021, Pacific Holdings đã ký một hợp đồng bảo đảm với tài sản thế chấp là hơn 126.6 triệu cp VCG của Vinaconex. Giá trị theo mệnh giá là 1.26 ngàn tỷ đồng, nhưng với thị giá cổ phiếu VCG khi đó là gần 43,000 đồng/cp, giá trị số cổ phiếu được Pacific Holdings đem thế chấp rơi vào khoảng 5.4 ngàn tỷ đồng.  Lưu ý, thời điểm này Pacific Holdings chưa nhận chuyển nhượng cổ phần từ An Quý Hưng.  Vinaconex sau một năm “đổi chủ” Dù không khác về bản chất nhưng so với năm gần nhất còn nằm trong tay An Quý Hưng, Vinaconex đã có một năm đạt kết quả nhìn chung suôn sẻ.  Theo BCTC hợp nhất quý 4/2022, Vinaconex kết năm với doanh thu hơn 8.6 ngàn tỷ đồng, tăng 50% so với năm 2021. Lợi nhuận trước thuế và sau thuế lần lượt là 1.13 ngàn tỷ đồng và gần 1.05 ngàn tỷ đồng, tăng 57% và 102%. So với mục tiêu năm, Vinaconex hoàn thành 63% kế hoạch doanh thu và 75% lợi nhuận.  Công ty cho biết, việc không hoàn thành kế hoạch đặt ra do Vinaconex chủ động điều chỉnh phương án đầu tư đối với một số dự án bất động sản để phù hợp với điều kiện thị trường. Hơn nữa, chi phí vật liệu xây dựng, chi phí lãi vay tăng mạnh so với dự đoán, ảnh hưởng đến hiệu quả đầu tư. Bóc tách cơ cấu doanh thu, mảng xây lắp chiếm nhiều nhất với 70%, kế đến là sản xuất chiếm 11% và các dịch vụ khác 12%. Đáng chú ý, doanh thu của mảng bất động sản chỉ chiếm 7% tổng doanh thu (tương đương 608 tỷ đồng) đến từ việc bàn giao dự án Green Diamond. Thậm chí ngay cả với kết quả sau kiểm toán khiến lợi nhuận sau thuế “rơi” mất 118 tỷ đồng, còn 931 tỷ đồng, Vinaconex vẫn đạt tăng trưởng 79% so với cùng kỳ 2021. Giải thích cho phần lợi nhuận hụt mất, Doanh nghiệp cho biết lý do vì giảm lợi nhuận từ một số hợp đồng thi công xây lắp của các công ty con tại các dự án đầu tư xây dựng dở dang của Công ty.  Tại ngày 31/12/2022, tổng tài sản của Vinaconex đạt 32,285 tỷ đồng, cao hơn thời điểm đầu năm 1,315 tỷ đồng. Vốn chủ sở hữu cũng tăng từ 7,627 tỷ đồng lên 10,026 tỷ đồng. Tuy nhiên, lượng tiền mặt và tiền gửi ngắn hạn giảm 52.4% so với đầu năm, còn hơn 3,100 tỷ đồng. EPS đạt 1,824 đồng, gần gấp đôi năm trước. Cuối năm 2022, nợ phải trả của Vinaconex còn hơn 22.25 ngàn tỷ đồng, giảm nhẹ so với đầu năm. Công ty nợ hơn 4.1 ngàn tỷ đồng vay ngắn hạn với ngân hàng, đã hoàn tất thanh toán gần 700 tỷ đồng trái phiếu tới hạn trong năm. Với nợ dài hạn, Vinaconex nợ 4.2 ngàn tỷ đồng với ngân hàng, và hơn 3.78 ngàn tỷ đồng dư nợ trái phiếu. Chứng khoán Mirae Asset Việt Nam (Mirae Asset) nhận định, trên bối cảnh kế hoạch thúc đẩy đầu tư công của Chính phủ trong năm 2023, Vinaconex được Bộ Giao thông Vận tại (GTVT) chỉ định là nhà thầu thực hiện thêm 4 gói thầu trong dự án đường cao tốc Bắc - Nam giai đoạn 2. Điểm trừ lớn nhất của Vinaconex là dự án Cát Bà Amatina, chiếm phần lớn hàng tồn kho và tài sản dở dang dài hạn (ước tính tổng giá trị khoảng 7,000 tỷ đồng). Mirae Asset cho rằng, dự án này có thể làm trì trệ bảng cân đối kế toán, tiêu tốn nhiều vốn đầu tư và chi phí của Vinaconex khi nhu cầu của thị trường vẫn còn yếu.  Theo tài liệu ĐHĐCĐ thường niên 2023 mới công bố, Vinaconex đặt mục tiêu tổng doanh thu tăng 70% so với thực hiện 2022, đạt 16.3 ngàn tỷ đồng. Tuy vậy, Công ty tỏ ra dè dặt hơn với lợi nhuận sau thuế, khi mục tiêu là 860 tỷ đồng, giảm 8%. Động thái thoái vốn?  Ngày 27/03, Pacific Holdings bán thành công 13 triệu cp VCG từ ngày 20/03 - 27/03/2023. Mục đích giao dịch, theo thông tin công bố, là để cơ cấu lại khoản đầu tư. Chiếu theo thị giá trung bình trong giai đoạn là 20,017 đồng/cp, ước tính Pacific Holdings đã thu về hơn 260 tỷ đồng, qua đó, hạ tỷ lệ sở hữu từ 62.9% xuống còn 60.23% vốn điều lệ (tương đương 292.6 triệu cp). Ngay sau khi bán thành công, Pacific Holdings tiếp tục đăng ký bán 19.6 triệu cp VCG, vẫn với mục đích cơ cấu lại khoản đầu tư. Dự kiến thời gian thực hiện giao dịch là 31/03-28/04/2023.  Nếu thành công, chiếu theo thị giá trung bình 3 tháng gần nhất của cổ phiếu VCG trên thị trường gần 19,800 đồng/cp, ước tính Pacific Holdings có thể thu về thêm 388 tỷ đồng nữa, đồng thời hạ tỷ lệ sở hữu tại 60.23% xuống còn 56.19% vốn điều lệ (tương đương hơn 273 triệu cp VCG). Giao dịch của Pacific Holdings nhằm cơ cấu thông thường hay là động thái thoái dần vốn khỏi Vinaconex, câu trả lời vẫn còn bỏ ngỏ. Dẫu vậy, nếu xét đến hoạt động của Vinaconex, Doanh nghiệp liên tục thoái vốn khỏi các công ty thành viên từ đầu năm 2022, nhằm mục đích tái cấu trúc doanh nghiệp. Trên bảng cân đối, doanh thu hoạt động tài chính năm vừa qua của VCG tăng mạnh, đạt hơn 1 ngàn tỷ đồng, gấp gần 2 lần so với năm 2021.   Trong quý 1/2022, Vinaconex thoái bớt vốn tại CTCP Phát triển Thương mại Vinaconex (VCTD), giảm sở hữu từ 55% còn 45%, đồng nghĩa VCTD chuyển từ công ty con thành công ty liên kết của Vinaconex. Tháng 04/2022, Vinaconex bán toàn bộ vốn góp 46 tỷ đồng tại Công ty TNHH Phát triển Hạ tầng đô thị Vĩnh Phúc.  Ngày 13/05, Vinaconex hoàn tất hạ tỷ lệ sở hữu tại Vinasinco từ 50% (2 triệu cp) xuống còn 25% (1 triệu cp). Theo đó, Vinasinco không còn là công ty con của VCG. Vinasinco hoạt động chủ yếu trong lĩnh vực cung cấp dịch vụ vệ sinh nhà cửa và các công trình.  Gần nhất là tại CTCP Cơ điện Vinaconex (Vinaconex M&E), Vinaconex bán 6 triệu cổ phần, qua đó hạ sở hữu xuống còn 500,000 cổ phần, tương đương 5% vốn điều lệ Vinaconex M&E vào ngày 21/02/2023.  \n"
          ]
        }
      ]
    },
    {
      "cell_type": "code",
      "source": [
        "print(sample_item[\"input_ids\"].shape)\n",
        "print(tokenizer.decode(sample_item['input_ids']))\n",
        "print(sample_item[\"labels\"])\n",
        "print(le.inverse_transform([sample_item[\"labels\"]]))"
      ],
      "metadata": {
        "colab": {
          "base_uri": "https://localhost:8080/"
        },
        "id": "xXkjnobs54UP",
        "outputId": "16ba40ee-707a-4e3c-f00d-9b8e4af9fcb7"
      },
      "execution_count": 33,
      "outputs": [
        {
          "output_type": "stream",
          "name": "stdout",
          "text": [
            "torch.Size([256])\n",
            "<s> Vinaconex sau một năm đổi… mẹ. Cổ đông lớn nhất và cũng là công ty mẹ của Tổng CTCP Xuất nhập khẩu và Xây dựng Việt Nam (Vinaconex, HOSE: VCG) là CTCP Đầu tư Pacific Holdings - một doanh nghiệp thành lập từ cuối năm 2021. Sau một năm đổi chủ, dù không khác về bản chất, Vinaconex vẫn kết thúc năm cũ theo cách tương đối suôn sẻ. Hành trình đổi “mẹ” của Vinaconex Đầu năm 2022, Vinaconex bất ngờ đổi cổ đông lớn. Chính xác là vào ngày 23/02/2022, CTCP Đầu tư Pacific Holdings (gọi tắt là Pacific Holdings) nhận chuyển nhượng toàn bộ hơn 277.8 triệu cp từ Công ty TNHH An Quý Hưng, qua đó nâng tỷ lệ sở hữu từ 0% lên 62.9%, trở thành Công ty mẹ của Vinaconex. Chuyện doanh nghiệp đổi chủ không có gì lạ, nhưng câu chuyện của Pacific Holdings thì có. Ngay từ ngày mới thành lập 12/11/2021, Pacific Holdings ghi nhận mức vốn điều lệ khủng 7.1 ngàn tỷ đồng. Tân binh có hơn 130 ngành nghề đăng ký kinh doanh, song, hoạt động chính trong lĩnh vực kinh doanh bất động sản. Sau ba tháng thành lập, Pacific Holdings nhanh chóng </s>\n",
            "tensor(137)\n",
            "['VCG']\n"
          ]
        }
      ]
    },
    {
      "cell_type": "markdown",
      "metadata": {
        "id": "r4dNQIiL6XaJ"
      },
      "source": [
        "# Pytorch Lightning DataModule"
      ]
    },
    {
      "cell_type": "code",
      "execution_count": 34,
      "metadata": {
        "id": "t_S6YmZv6dBJ"
      },
      "outputs": [],
      "source": [
        "class Data_Module(pl.LightningDataModule):\n",
        "    def __init__(self, trainset, valset, labels, batch_size: int = 32, max_token_length: int = 256, tokenizer=None):\n",
        "      super().__init__()\n",
        "      self.trainset = trainset\n",
        "      self.val_path = valset\n",
        "      self.labels = labels\n",
        "      self.batch_size = batch_size\n",
        "      self.max_token_length = max_token_length\n",
        "      self.tokenizer = tokenizer\n",
        "\n",
        "    def setup(self, stage = None):\n",
        "      if stage in (None, \"fit\"):\n",
        "        self.train_dataset = ArticleDataset(self.trainset, self.labels, self.tokenizer, self.max_token_length)\n",
        "        self.val_dataset = ArticleDataset(self.val_path, self.labels, self.tokenizer, self.max_token_length)\n",
        "      if stage == 'predict':\n",
        "        self.val_dataset = ArticleDataset(self.val_path, self.labels, self.tokenizer, self.max_token_length)\n",
        "\n",
        "    def train_dataloader(self):\n",
        "      return DataLoader(self.train_dataset, batch_size = self.batch_size, num_workers=2, shuffle=True)\n",
        "\n",
        "    def val_dataloader(self):\n",
        "      return DataLoader(self.val_dataset, batch_size = self.batch_size, num_workers=2, shuffle=False)\n",
        "\n",
        "    def predict_dataloader(self):\n",
        "      return DataLoader(self.val_dataset, batch_size = self.batch_size, num_workers=2, shuffle=False)"
      ]
    },
    {
      "cell_type": "markdown",
      "metadata": {
        "id": "8_GghUzA9dYk"
      },
      "source": [
        "# Create PyTorch lightning DataLoader"
      ]
    },
    {
      "cell_type": "code",
      "execution_count": 35,
      "metadata": {
        "id": "9EQkuLqcZR5q",
        "colab": {
          "base_uri": "https://localhost:8080/"
        },
        "outputId": "cc22bdbe-f31d-4de0-b4cc-ece7839626ad"
      },
      "outputs": [
        {
          "output_type": "execute_result",
          "data": {
            "text/plain": [
              "199"
            ]
          },
          "metadata": {},
          "execution_count": 35
        }
      ],
      "source": [
        "# Create PyTorch lightning DataLoader\n",
        "data_loader = Data_Module(balanced_trainset, valset, labels, BATCH_SIZE, MAX_LENGTH, tokenizer)\n",
        "data_loader.setup()\n",
        "len(data_loader.train_dataloader())"
      ]
    },
    {
      "cell_type": "markdown",
      "metadata": {
        "id": "MXBH2wQtyZqi"
      },
      "source": [
        "# Model architecture"
      ]
    },
    {
      "cell_type": "code",
      "execution_count": 36,
      "metadata": {
        "colab": {
          "base_uri": "https://localhost:8080/",
          "height": 35
        },
        "id": "wLuZ3CjDfn58",
        "outputId": "de3b9418-767f-4ce9-b6fd-c6dc6ca7f1ef"
      },
      "outputs": [
        {
          "output_type": "execute_result",
          "data": {
            "text/plain": [
              "'cuda'"
            ],
            "application/vnd.google.colaboratory.intrinsic+json": {
              "type": "string"
            }
          },
          "metadata": {},
          "execution_count": 36
        }
      ],
      "source": [
        "device = \"cuda\" if torch.cuda.is_available() else \"cpu\"\n",
        "device"
      ]
    },
    {
      "cell_type": "code",
      "execution_count": 37,
      "metadata": {
        "id": "WXpnzKDQY2Vp"
      },
      "outputs": [],
      "source": [
        "class ArticleClassifier(pl.LightningModule):\n",
        "    def __init__(self, config: dict, freeze_bert=False):\n",
        "        super().__init__()\n",
        "        self.config = config\n",
        "        self.bert = AutoModel.from_pretrained(config['model_name'], return_dict = True)\n",
        "        if freeze_bert:\n",
        "            for param in self.bert.parameters():\n",
        "                param.requires_grad = False\n",
        "        print(self.bert.config.hidden_size)\n",
        "        self.fc1 = nn.Linear(self.bert.config.hidden_size, 128)  # Adjusted the input size to match the bert's hidden size\n",
        "        self.dropout1 = nn.Dropout(0.2)\n",
        "        self.fc2 = nn.Linear(128, 256)\n",
        "        self.dropout2 = nn.Dropout(0.2)\n",
        "        self.layer_norm = LayerNorm(256)\n",
        "        self.output = nn.Linear(256, self.config['n_labels'])\n",
        "        self.loss = nn.CrossEntropyLoss()\n",
        "\n",
        "\n",
        "\n",
        "    def forward(self, input_ids, attention_mask):\n",
        "        x = self.bert(input_ids, attention_mask).pooler_output\n",
        "        x = F.relu(self.fc1(x))\n",
        "        x = self.dropout1(x)\n",
        "        x = F.relu(self.fc2(x))\n",
        "        x = self.dropout2(x)\n",
        "        x = self.layer_norm(x)\n",
        "        logits = self.output(x)  # Remove softmax activation here\n",
        "        return logits"
      ]
    },
    {
      "cell_type": "markdown",
      "metadata": {
        "id": "17n-Sl-wZYG5"
      },
      "source": [
        "# Initialize Model"
      ]
    },
    {
      "cell_type": "markdown",
      "metadata": {
        "id": "MnnxrRBj2tnd"
      },
      "source": [
        "## Model configuration"
      ]
    },
    {
      "cell_type": "code",
      "execution_count": 40,
      "metadata": {
        "id": "8rhH-JU02wrV"
      },
      "outputs": [],
      "source": [
        "config = {\n",
        "    'model_name': 'vinai/phobert-base-v2',\n",
        "    'n_labels': number_of_classes,\n",
        "    'batch_size': BATCH_SIZE,\n",
        "    'lr': 1e-3,\n",
        "    'warmup': 0.15,\n",
        "    'train_size': len(data_loader.train_dataloader()),\n",
        "    'weight_decay': 0.01,\n",
        "    'n_epochs': 100\n",
        "}"
      ]
    },
    {
      "cell_type": "markdown",
      "metadata": {
        "id": "2Q3dmcBV2zw2"
      },
      "source": [
        "## Create model"
      ]
    },
    {
      "cell_type": "code",
      "execution_count": 41,
      "metadata": {
        "colab": {
          "base_uri": "https://localhost:8080/",
          "height": 173,
          "referenced_widgets": [
            "29a0c86294574364a78edea7523cccf6",
            "8817138c61b746a68da21398198b26b7",
            "3c18d52b7d2b41f9a2cd0ff640995a2d",
            "b8a1ec1947de41df8954d35601fb7c8e",
            "d12151e286384dcaa14cb00c77f69c92",
            "d8146aaf820748b6b51ff4f674b01cfb",
            "6a589d8a32fe432aa3e24543888b61fe",
            "927f39b48bd3446aa8ca6236e7f01b95",
            "16ca766a942a4744b321b2065841d130",
            "d397882080f44d04b65e6f5c2630ff9f",
            "a522610154514fa0a8159b7e9230226e"
          ]
        },
        "id": "J2d9tBNoZdVA",
        "outputId": "d07a511c-3aa0-43b2-8bc6-56dbe198a419"
      },
      "outputs": [
        {
          "output_type": "display_data",
          "data": {
            "text/plain": [
              "Downloading pytorch_model.bin:   0%|          | 0.00/540M [00:00<?, ?B/s]"
            ],
            "application/vnd.jupyter.widget-view+json": {
              "version_major": 2,
              "version_minor": 0,
              "model_id": "29a0c86294574364a78edea7523cccf6"
            }
          },
          "metadata": {}
        },
        {
          "output_type": "stream",
          "name": "stderr",
          "text": [
            "Some weights of the model checkpoint at vinai/phobert-base-v2 were not used when initializing RobertaModel: ['lm_head.dense.weight', 'lm_head.dense.bias', 'lm_head.bias', 'lm_head.layer_norm.weight', 'lm_head.layer_norm.bias']\n",
            "- This IS expected if you are initializing RobertaModel from the checkpoint of a model trained on another task or with another architecture (e.g. initializing a BertForSequenceClassification model from a BertForPreTraining model).\n",
            "- This IS NOT expected if you are initializing RobertaModel from the checkpoint of a model that you expect to be exactly identical (initializing a BertForSequenceClassification model from a BertForSequenceClassification model).\n",
            "Some weights of RobertaModel were not initialized from the model checkpoint at vinai/phobert-base-v2 and are newly initialized: ['roberta.pooler.dense.bias', 'roberta.pooler.dense.weight']\n",
            "You should probably TRAIN this model on a down-stream task to be able to use it for predictions and inference.\n"
          ]
        },
        {
          "output_type": "stream",
          "name": "stdout",
          "text": [
            "768\n"
          ]
        }
      ],
      "source": [
        "# Initialize our classifier\n",
        "model = ArticleClassifier(config, freeze_bert=True)\n",
        "model = model.to(device)"
      ]
    },
    {
      "cell_type": "code",
      "execution_count": 42,
      "metadata": {
        "colab": {
          "base_uri": "https://localhost:8080/"
        },
        "id": "3JCqQ3vLLljF",
        "outputId": "6fb6ae7a-9777-4702-a70c-d093f878a081"
      },
      "outputs": [
        {
          "output_type": "stream",
          "name": "stdout",
          "text": [
            "torch.Size([]) torch.Size([1, 156])\n"
          ]
        }
      ],
      "source": [
        "idx=0\n",
        "input_ids_ = a_ds.__getitem__(idx)['input_ids']\n",
        "attention_mask_ = a_ds.__getitem__(idx)['attention_mask']\n",
        "labels_ = a_ds.__getitem__(idx)['labels']\n",
        "model.cpu()\n",
        "output = model(input_ids_.unsqueeze(dim=0), attention_mask_.unsqueeze(dim=0))\n",
        "print(labels_.shape, output.shape)"
      ]
    },
    {
      "cell_type": "code",
      "source": [
        "test_batch = next(iter(data_loader.train_dataloader()))\n",
        "test_batch_input_ids = test_batch['input_ids']\n",
        "print(test_batch_input_ids.shape)\n",
        "output = model(test_batch['input_ids'], test_batch['attention_mask'])\n",
        "print(labels_.shape, output.shape)"
      ],
      "metadata": {
        "colab": {
          "base_uri": "https://localhost:8080/"
        },
        "id": "25S47zkl_Suq",
        "outputId": "80ec5070-3166-4229-b359-e8bc74fb4305"
      },
      "execution_count": 43,
      "outputs": [
        {
          "output_type": "stream",
          "name": "stdout",
          "text": [
            "torch.Size([32, 256])\n",
            "torch.Size([]) torch.Size([32, 156])\n"
          ]
        }
      ]
    },
    {
      "cell_type": "code",
      "source": [
        "test_batch_labels = test_batch['labels']\n",
        "test_batch_labels.shape"
      ],
      "metadata": {
        "colab": {
          "base_uri": "https://localhost:8080/"
        },
        "id": "O4ooIT76D762",
        "outputId": "10bda173-7484-4bbf-9164-aeca5f12e3ce"
      },
      "execution_count": 44,
      "outputs": [
        {
          "output_type": "execute_result",
          "data": {
            "text/plain": [
              "torch.Size([32])"
            ]
          },
          "metadata": {},
          "execution_count": 44
        }
      ]
    },
    {
      "cell_type": "markdown",
      "source": [
        "# Model Summary"
      ],
      "metadata": {
        "id": "YE0eEL3_i9jm"
      }
    },
    {
      "cell_type": "code",
      "source": [
        "summary(model)"
      ],
      "metadata": {
        "colab": {
          "base_uri": "https://localhost:8080/"
        },
        "id": "43gS_CLwjAEU",
        "outputId": "b5195ff5-6f97-4182-9a7b-494a8f0fb279"
      },
      "execution_count": 45,
      "outputs": [
        {
          "output_type": "execute_result",
          "data": {
            "text/plain": [
              "=====================================================================================\n",
              "Layer (type:depth-idx)                                       Param #\n",
              "=====================================================================================\n",
              "ArticleClassifier                                            --\n",
              "├─RobertaModel: 1-1                                          --\n",
              "│    └─RobertaEmbeddings: 2-1                                --\n",
              "│    │    └─Embedding: 3-1                                   (49,152,768)\n",
              "│    │    └─Embedding: 3-2                                   (198,144)\n",
              "│    │    └─Embedding: 3-3                                   (768)\n",
              "│    │    └─LayerNorm: 3-4                                   (1,536)\n",
              "│    │    └─Dropout: 3-5                                     --\n",
              "│    └─RobertaEncoder: 2-2                                   --\n",
              "│    │    └─ModuleList: 3-6                                  (85,054,464)\n",
              "│    └─RobertaPooler: 2-3                                    --\n",
              "│    │    └─Linear: 3-7                                      (590,592)\n",
              "│    │    └─Tanh: 3-8                                        --\n",
              "├─Linear: 1-2                                                98,432\n",
              "├─Dropout: 1-3                                               --\n",
              "├─Linear: 1-4                                                33,024\n",
              "├─Dropout: 1-5                                               --\n",
              "├─LayerNorm: 1-6                                             512\n",
              "├─Linear: 1-7                                                40,092\n",
              "├─CrossEntropyLoss: 1-8                                      --\n",
              "=====================================================================================\n",
              "Total params: 135,170,332\n",
              "Trainable params: 172,060\n",
              "Non-trainable params: 134,998,272\n",
              "====================================================================================="
            ]
          },
          "metadata": {},
          "execution_count": 45
        }
      ]
    },
    {
      "cell_type": "markdown",
      "metadata": {
        "id": "43JH6zpgZlsp"
      },
      "source": [
        "\n",
        "# Train Model"
      ]
    },
    {
      "cell_type": "code",
      "execution_count": 46,
      "metadata": {
        "id": "HFHQxP6T5B8T"
      },
      "outputs": [],
      "source": [
        "def train_model(model, data_loader, config):\n",
        "    model = model.to(device)\n",
        "    optimizer = torch.optim.AdamW(model.parameters(), lr=config['lr'], weight_decay=config['weight_decay'])\n",
        "\n",
        "    total_steps = config['train_size']/config['batch_size']\n",
        "    warmup_steps = math.floor(total_steps * config['warmup'])\n",
        "    scheduler = get_cosine_schedule_with_warmup(optimizer, warmup_steps, total_steps)\n",
        "\n",
        "    best_valid_loss = float('inf')\n",
        "    early_stopping_counter = 0\n",
        "    early_stopping_limit = 5  # Number of epochs with no improvement after which training will be stopped\n",
        "    model_path = 'best_model.pt'  # path where best model will be saved\n",
        "\n",
        "    progress_bar = tqdm(range(config['n_epochs']), desc=\"Training\", total=config['n_epochs'])\n",
        "\n",
        "    for epoch in progress_bar:\n",
        "        start_time = time.time()  # start time of the epoch\n",
        "\n",
        "        model.train()\n",
        "        total_loss = 0\n",
        "\n",
        "        train_predictions , train_true_labels = [], []\n",
        "\n",
        "        for batch in data_loader.train_dataloader():\n",
        "            optimizer.zero_grad()\n",
        "\n",
        "            input_ids = batch[\"input_ids\"].to(device)\n",
        "            attention_mask = batch[\"attention_mask\"].to(device)\n",
        "            labels = batch[\"labels\"].to(device)\n",
        "\n",
        "            logits = model(input_ids, attention_mask)\n",
        "\n",
        "            loss = model.loss(logits, labels)\n",
        "            total_loss += loss.item()\n",
        "\n",
        "            logits = logits.detach().cpu().numpy()\n",
        "            labels = labels.to('cpu').numpy()\n",
        "\n",
        "            # Store train predictions and true labels for accuracy calculation\n",
        "            train_predictions.append(logits)\n",
        "            train_true_labels.append(labels)\n",
        "\n",
        "            loss.backward()\n",
        "            optimizer.step()\n",
        "            scheduler.step()\n",
        "\n",
        "        avg_train_loss = total_loss / len(data_loader.train_dataloader())\n",
        "\n",
        "        # Calculate training accuracy\n",
        "        train_predictions = np.concatenate(train_predictions, axis=0)\n",
        "        train_true_labels = np.concatenate(train_true_labels, axis=0)\n",
        "        train_accuracy = accuracy_score(train_true_labels, np.argmax(train_predictions, axis=1))\n",
        "\n",
        "        # Start the validation\n",
        "        model.eval()\n",
        "\n",
        "        predictions , true_labels = [], []\n",
        "        total_eval_loss = 0\n",
        "\n",
        "        for batch in data_loader.val_dataloader():\n",
        "            input_ids = batch[\"input_ids\"].to(device)\n",
        "            attention_mask = batch[\"attention_mask\"].to(device)\n",
        "            labels = batch[\"labels\"].to(device)\n",
        "\n",
        "            with torch.no_grad():\n",
        "                logits = model(input_ids, attention_mask)\n",
        "\n",
        "            loss = model.loss(logits, labels)\n",
        "            total_eval_loss += loss.item()\n",
        "\n",
        "            # Move logits and labels to CPU\n",
        "            logits = logits.detach().cpu().numpy()\n",
        "            labels = labels.to('cpu').numpy()\n",
        "\n",
        "            # Store predictions and true labels\n",
        "            predictions.append(logits)\n",
        "            true_labels.append(labels)\n",
        "\n",
        "        # Calculate the average loss over all of the batches\n",
        "        avg_val_loss = total_eval_loss / len(data_loader.val_dataloader())\n",
        "\n",
        "        # Calculate validation accuracy\n",
        "        predictions = np.concatenate(predictions, axis=0)\n",
        "        true_labels = np.concatenate(true_labels, axis=0)\n",
        "        val_accuracy = accuracy_score(true_labels, np.argmax(predictions, axis=1))\n",
        "\n",
        "        end_time = time.time()  # end time of the epoch\n",
        "        epoch_mins, epoch_secs = divmod(end_time - start_time, 60)  # calculate elapsed time for this epoch\n",
        "\n",
        "        # Print additional information after each epoch\n",
        "        print(f'\\nEpoch: {epoch+1:02} | Time: {epoch_mins}m {epoch_secs}s')\n",
        "        print(f'\\tTrain Loss: {avg_train_loss:.3f} | Train Acc: {train_accuracy*100:.2f}% | Valid Loss: {avg_val_loss:.3f} | Valid Acc: {val_accuracy*100:.2f}%')\n",
        "\n",
        "        # Update progress bar\n",
        "        progress_bar.set_postfix({'train_loss': avg_train_loss, 'valid_loss': avg_val_loss, 'valid_acc': val_accuracy, 'train_acc': train_accuracy})\n",
        "\n",
        "        # save model if validation loss has decreased\n",
        "        if avg_val_loss < best_valid_loss:\n",
        "            best_valid_loss = avg_val_loss\n",
        "            torch.save(model.state_dict(), model_path)\n",
        "            early_stopping_counter = 0  # reset counter\n",
        "        else:\n",
        "            early_stopping_counter += 1\n",
        "            if early_stopping_counter >= early_stopping_limit:\n",
        "                print(f'EarlyStopping counter: {early_stopping_counter} out of {early_stopping_limit}')\n",
        "                if early_stopping_counter >= early_stopping_limit:\n",
        "                    print('Early stopping, stopping training')\n",
        "                    break  # break out from the training loop\n"
      ]
    },
    {
      "cell_type": "code",
      "source": [
        "train_model(model, data_loader, config)"
      ],
      "metadata": {
        "colab": {
          "base_uri": "https://localhost:8080/",
          "height": 1000,
          "referenced_widgets": [
            "f4e569e5a82b40d39094a2bf8259e510",
            "df1d72bf0c764c16b8fd2d6649fe1189",
            "26f18970f5394ac3ac34cc815f7710f9",
            "374e776913bf4947b4ff2247bda094e2",
            "f4f97e7de01a4f018bfcfc135b96cfe6",
            "b0ba4e0e95ff4ab8ab41439e1769a05c",
            "3b944cbd5e3742ad85cc47323b93a618",
            "dfd2ad847b7340489a3c297ac145fad6",
            "d53ace6d57fe4d51a48f95412c492032",
            "04af0bb23e984ff4b8ac165468cfe768",
            "3532f90f0c8548fc93899a00e73874ef"
          ]
        },
        "id": "ttWZjMEVOWlU",
        "outputId": "cbaf3a16-43a6-409f-867e-76697d3fc8d1"
      },
      "execution_count": 47,
      "outputs": [
        {
          "output_type": "display_data",
          "data": {
            "text/plain": [
              "Training:   0%|          | 0/100 [00:00<?, ?it/s]"
            ],
            "application/vnd.jupyter.widget-view+json": {
              "version_major": 2,
              "version_minor": 0,
              "model_id": "f4e569e5a82b40d39094a2bf8259e510"
            }
          },
          "metadata": {}
        },
        {
          "output_type": "stream",
          "name": "stdout",
          "text": [
            "\n",
            "Epoch: 01 | Time: 0.0m 27.60950207710266s\n",
            "\tTrain Loss: 5.135 | Train Acc: 0.96% | Valid Loss: 4.946 | Valid Acc: 2.00%\n",
            "\n",
            "Epoch: 02 | Time: 0.0m 26.863948345184326s\n",
            "\tTrain Loss: 4.948 | Train Acc: 2.01% | Valid Loss: 4.486 | Valid Acc: 6.13%\n",
            "\n",
            "Epoch: 03 | Time: 0.0m 26.818441152572632s\n",
            "\tTrain Loss: 4.547 | Train Acc: 5.82% | Valid Loss: 3.865 | Valid Acc: 16.39%\n",
            "\n",
            "Epoch: 04 | Time: 0.0m 26.829428911209106s\n",
            "\tTrain Loss: 4.151 | Train Acc: 9.83% | Valid Loss: 3.490 | Valid Acc: 21.01%\n",
            "\n",
            "Epoch: 05 | Time: 0.0m 26.83958888053894s\n",
            "\tTrain Loss: 3.807 | Train Acc: 13.77% | Valid Loss: 3.070 | Valid Acc: 26.17%\n",
            "\n",
            "Epoch: 06 | Time: 0.0m 26.86101794242859s\n",
            "\tTrain Loss: 3.586 | Train Acc: 17.09% | Valid Loss: 2.877 | Valid Acc: 30.10%\n",
            "\n",
            "Epoch: 07 | Time: 0.0m 26.86475706100464s\n",
            "\tTrain Loss: 3.389 | Train Acc: 19.65% | Valid Loss: 2.509 | Valid Acc: 39.05%\n",
            "\n",
            "Epoch: 08 | Time: 0.0m 26.86891007423401s\n",
            "\tTrain Loss: 3.262 | Train Acc: 22.28% | Valid Loss: 2.359 | Valid Acc: 42.08%\n",
            "\n",
            "Epoch: 09 | Time: 0.0m 26.80420684814453s\n",
            "\tTrain Loss: 3.282 | Train Acc: 22.53% | Valid Loss: 2.305 | Valid Acc: 44.42%\n",
            "\n",
            "Epoch: 10 | Time: 0.0m 26.870291471481323s\n",
            "\tTrain Loss: 3.068 | Train Acc: 26.31% | Valid Loss: 2.208 | Valid Acc: 44.49%\n",
            "\n",
            "Epoch: 11 | Time: 0.0m 26.809521913528442s\n",
            "\tTrain Loss: 3.026 | Train Acc: 26.98% | Valid Loss: 2.038 | Valid Acc: 47.93%\n",
            "\n",
            "Epoch: 12 | Time: 0.0m 26.859063863754272s\n",
            "\tTrain Loss: 2.922 | Train Acc: 29.70% | Valid Loss: 1.996 | Valid Acc: 50.41%\n",
            "\n",
            "Epoch: 13 | Time: 0.0m 26.924978494644165s\n",
            "\tTrain Loss: 2.808 | Train Acc: 30.73% | Valid Loss: 1.907 | Valid Acc: 51.86%\n",
            "\n",
            "Epoch: 14 | Time: 0.0m 26.913138151168823s\n",
            "\tTrain Loss: 2.786 | Train Acc: 31.17% | Valid Loss: 1.778 | Valid Acc: 54.96%\n",
            "\n",
            "Epoch: 15 | Time: 0.0m 26.90411376953125s\n",
            "\tTrain Loss: 2.665 | Train Acc: 34.52% | Valid Loss: 1.659 | Valid Acc: 58.47%\n",
            "\n",
            "Epoch: 16 | Time: 0.0m 26.883750200271606s\n",
            "\tTrain Loss: 2.660 | Train Acc: 34.30% | Valid Loss: 1.728 | Valid Acc: 57.51%\n",
            "\n",
            "Epoch: 17 | Time: 0.0m 26.782424449920654s\n",
            "\tTrain Loss: 2.618 | Train Acc: 34.22% | Valid Loss: 1.569 | Valid Acc: 62.33%\n",
            "\n",
            "Epoch: 18 | Time: 0.0m 26.8226900100708s\n",
            "\tTrain Loss: 2.549 | Train Acc: 36.25% | Valid Loss: 1.595 | Valid Acc: 59.30%\n",
            "\n",
            "Epoch: 19 | Time: 0.0m 26.808335304260254s\n",
            "\tTrain Loss: 2.551 | Train Acc: 36.71% | Valid Loss: 1.556 | Valid Acc: 59.57%\n",
            "\n",
            "Epoch: 20 | Time: 0.0m 26.806452751159668s\n",
            "\tTrain Loss: 2.489 | Train Acc: 37.30% | Valid Loss: 1.457 | Valid Acc: 63.36%\n",
            "\n",
            "Epoch: 21 | Time: 0.0m 26.792670726776123s\n",
            "\tTrain Loss: 2.483 | Train Acc: 37.73% | Valid Loss: 1.452 | Valid Acc: 61.78%\n",
            "\n",
            "Epoch: 22 | Time: 0.0m 26.834619283676147s\n",
            "\tTrain Loss: 2.381 | Train Acc: 39.38% | Valid Loss: 1.418 | Valid Acc: 64.05%\n",
            "\n",
            "Epoch: 23 | Time: 0.0m 26.8021399974823s\n",
            "\tTrain Loss: 2.385 | Train Acc: 39.73% | Valid Loss: 1.467 | Valid Acc: 61.98%\n",
            "\n",
            "Epoch: 24 | Time: 0.0m 26.86960744857788s\n",
            "\tTrain Loss: 2.374 | Train Acc: 39.74% | Valid Loss: 1.388 | Valid Acc: 66.39%\n",
            "\n",
            "Epoch: 25 | Time: 0.0m 26.851449012756348s\n",
            "\tTrain Loss: 2.369 | Train Acc: 41.41% | Valid Loss: 1.383 | Valid Acc: 66.94%\n",
            "\n",
            "Epoch: 26 | Time: 0.0m 26.81247091293335s\n",
            "\tTrain Loss: 2.275 | Train Acc: 41.33% | Valid Loss: 1.290 | Valid Acc: 69.15%\n",
            "\n",
            "Epoch: 27 | Time: 0.0m 26.844536542892456s\n",
            "\tTrain Loss: 2.272 | Train Acc: 42.02% | Valid Loss: 1.411 | Valid Acc: 64.88%\n",
            "\n",
            "Epoch: 28 | Time: 0.0m 26.82027816772461s\n",
            "\tTrain Loss: 2.288 | Train Acc: 41.76% | Valid Loss: 1.284 | Valid Acc: 68.18%\n",
            "\n",
            "Epoch: 29 | Time: 0.0m 26.843238353729248s\n",
            "\tTrain Loss: 2.288 | Train Acc: 42.31% | Valid Loss: 1.263 | Valid Acc: 68.60%\n",
            "\n",
            "Epoch: 30 | Time: 0.0m 26.827503204345703s\n",
            "\tTrain Loss: 2.246 | Train Acc: 42.34% | Valid Loss: 1.353 | Valid Acc: 66.18%\n",
            "\n",
            "Epoch: 31 | Time: 0.0m 26.810290336608887s\n",
            "\tTrain Loss: 2.231 | Train Acc: 43.17% | Valid Loss: 1.322 | Valid Acc: 66.32%\n",
            "\n",
            "Epoch: 32 | Time: 0.0m 26.81629753112793s\n",
            "\tTrain Loss: 2.205 | Train Acc: 44.10% | Valid Loss: 1.277 | Valid Acc: 68.60%\n",
            "\n",
            "Epoch: 33 | Time: 0.0m 26.79926896095276s\n",
            "\tTrain Loss: 2.210 | Train Acc: 43.31% | Valid Loss: 1.290 | Valid Acc: 66.74%\n",
            "\n",
            "Epoch: 34 | Time: 0.0m 26.846431016921997s\n",
            "\tTrain Loss: 2.138 | Train Acc: 44.97% | Valid Loss: 1.274 | Valid Acc: 67.98%\n",
            "EarlyStopping counter: 5 out of 5\n",
            "Early stopping, stopping training\n"
          ]
        }
      ]
    },
    {
      "cell_type": "markdown",
      "source": [
        "# Predict"
      ],
      "metadata": {
        "id": "dAODWzVvBMw_"
      }
    },
    {
      "cell_type": "code",
      "source": [
        "def load_model(model, model_path):\n",
        "    model.load_state_dict(torch.load(model_path))\n",
        "    model.eval()\n",
        "    return model"
      ],
      "metadata": {
        "id": "AwsYvj063s39"
      },
      "execution_count": 48,
      "outputs": []
    },
    {
      "cell_type": "code",
      "source": [
        "def test_model(model, data_loader):\n",
        "    # model.load_state_dict(torch.load('best_model.pt'))\n",
        "    model.eval()\n",
        "\n",
        "    predictions, true_labels = [], []\n",
        "    cnt = 0\n",
        "    for batch in data_loader.val_dataloader():\n",
        "        input_ids = batch[\"input_ids\"].to(device)\n",
        "        attention_mask = batch[\"attention_mask\"].to(device)\n",
        "        labels = batch[\"labels\"].to(device)\n",
        "\n",
        "        with torch.no_grad():\n",
        "            logits = model(input_ids, attention_mask)\n",
        "\n",
        "        logits = logits.detach().cpu().numpy()\n",
        "        labels = labels.to('cpu').numpy()\n",
        "\n",
        "        # Store predictions and true labels\n",
        "        predictions.append(logits)\n",
        "        true_labels.append(labels)\n",
        "        if cnt < 1:\n",
        "          for i in range(BATCH_SIZE):\n",
        "            print(f\"Content: {batch['content'][i]}\")\n",
        "            print(f\"Predicted Label: {le.inverse_transform([np.argmax(logits, axis=1)[i]])}\")\n",
        "            print(f\"True Label: {le.inverse_transform([labels[i]])}\")\n",
        "            print(\"========================================\")\n",
        "\n",
        "        cnt += 1\n",
        "\n",
        "    predictions = np.concatenate(predictions, axis=0)\n",
        "    true_labels = np.concatenate(true_labels, axis=0)\n",
        "\n",
        "    # Calculate accuracy\n",
        "    test_accuracy = accuracy_score(true_labels, np.argmax(predictions, axis=1))\n",
        "\n",
        "    print(f'Test Accuracy: {test_accuracy}')\n",
        "\n",
        "    return test_accuracy"
      ],
      "metadata": {
        "id": "Wn5qx4-hBQMi"
      },
      "execution_count": 49,
      "outputs": []
    },
    {
      "cell_type": "code",
      "source": [
        "test_model(model, data_loader)"
      ],
      "metadata": {
        "id": "QIYf-rb2B02n",
        "colab": {
          "base_uri": "https://localhost:8080/"
        },
        "outputId": "97b01dd6-3fd1-4f30-dad3-9875e50d1e79"
      },
      "execution_count": 50,
      "outputs": [
        {
          "output_type": "stream",
          "name": "stdout",
          "text": [
            "Content: PNJ lãi sau thuế hơn 1,600 tỷ đồng sau 11 tháng, gần gấp đôi cùng kỳ. Theo báo cáo cập nhật kết quả kinh doanh, tháng 11, CTCP Vàng bạc Đá quý Phú Nhuận (HOSE: PNJ) ghi nhận doanh thu thuần 2,529 tỷ đồng và lãi sau thuế 152 tỷ đồng, tăng lần lượt 16.8% và 8.4% so với cùng kỳ. Lãi sau thuế 11 tháng đạt gần 1,640 tỷ đồng, vượt 24% kế hoạch lợi nhuận năm. PNJ cho biết kết quả tăng trưởng trên đạt được trong bối cảnh sức mua chung của các ngành bán lẻ có dấu hiệu chậm lại. Tuy nhiên, Công ty tiếp tục duy trì các nỗ lực tối ưu hóa doanh thu, lợi nhuận và chuẩn bị cho mùa Giáng sinh và Tết.    Lũy kế 11 tháng năm 2022, PNJ thu về 31,063 tỷ đồng doanh thu thuần và 1,639 tỷ đồng lợi nhuận sau thuế, tăng lần lượt 85.4% và 96.1% so với cùng kỳ năm 2021. Bóc tách cơ cấu doanh thu, doanh thu bán lẻ 11 tháng tăng  92.3% so với cùng kỳ (chiếm 60.7% tổng doanh thu); doanh thu sỉ tăng 71.6% (chiếm 12.2%); doanh thu vàng 24K tăng 84.8% (chiếm 25.6%), còn lại là doanh thu khác (chiếm 1.5%).\r\n",
            " Kỳ này, biên lợi nhuận gộp trung bình 11 tháng chỉ đạt 17.4%, giảm 1 điểm phần trăm so với mức 18.4% cùng kỳ, do thay đổi cơ cấu hàng bán và ảnh hưởng lạm phát. Tổng chi phí hoạt động tăng 64% nhưng nhờ những nỗ lực tối ưu hóa vận hành giúp tỷ lệ chi phí hoạt động/ lợi nhuận gộp giảm 58.4% so với mức 62.5% cùng kỳ 2021. Tại cuối tháng 11, toàn hệ thống PNJ ghi nhận 362 cửa hàng tại 55 tỉnh, thành phố. Tính từ đầu năm 2022, Công ty đã mở mới 33 cửa hàng và đóng cửa 13 cửa hàng nhằm tái cấu trúc. Năm 2022, PNJ đặt mục tiêu 25,835 tỷ đồng doanh thu thuần và 1,320 tỷ đồng lãi sau thuế. Sau 11 tháng, Công ty vượt 20.2% chỉ tiêu doanh thu và 24.2% kế hoạch lợi nhuận năm. Phát hành 82 triệu cp thưởng Ở diễn biến khác, PNJ thông báo 30/12/2022 là ngày đăng ký cuối cùng thực hiện quyền nhận cổ phiếu phát hành tăng vốn cổ phần từ nguồn vốn chủ sở hữu.   Theo đó, PNJ dự kiến phát hành hơn 82 triệu cp thưởng , tỷ lệ 3:1, tức cổ đông sở hữu 3 cp sẽ được nhận thêm 1 cp mới. Số cổ phiếu lẻ phát sinh (nếu có) do làm tròn xuống sẽ được hủy bỏ. Nguồn vốn phát hành lấy từ thặng dư vốn cổ phần (400 tỷ đồng) và lợi nhuận sau thuế chưa phân phối (hơn 420 tỷ đồng) tại thời điểm 31/12/2021 theo BCTC riêng năm 2021 đã được kiểm toán.   Về hạn chế chuyển nhượng, số cổ phiếu phát hành cho cán bộ nhân viên sở hữu cổ phiếu ESOP còn trong thời gian hạn chế chuyển nhượng sẽ bị hạn chế chuyển nhượng. Trong khi đó, số lượng cổ phiếu phát hành cho các cổ đông hiện hữu còn lại sẽ được tự do chuyển nhượng. Sau khi hoàn tất kế hoạch trên, vốn điều lệ của PNJ sẽ tăng từ hơn 2,462 tỷ đồng lên 3,283 tỷ đồng.   Rót thêm vốn vào 2 công ty con Ngày 21/12, HĐQT PNJ quyết định thông qua hỗ trợ tài chính cho 2 công ty con là Công ty TNHH Một thành viên Chế tác và Kinh doanh Trang sức PNJ (PNJP) và Công ty TNHH Một thành viên Thời trang CAO (CAF).     Theo BCTC tại ngày 30/09/2022, PNJP và CAF là hai công ty con của PNJ (cùng tỷ lệ sở hữu 100%), với vốn góp lần lượt 200 tỷ đồng và 130 tỷ đồng. Theo Nghị quyết mới công bố, PNJ sẽ rót thêm 300 tỷ đồng vào PNJP và 20 tỷ đồng vào CAF. Sau khi góp thêm, tổng số vốn góp của Công ty tại PNJP và CAF lần lượt là 500 tỷ đồng và 150 tỷ đồng. Thời điểm triển khai dự kiến vào ngày 23/12/2022. Trên thị trường chứng khoán, giá cổ phiếu PNJ kết phiên 22/12 ở mức 109,000 đồng/cp, tăng hơn 15% kể từ đầu năm.\n",
            "Predicted Label: ['PNJ']\n",
            "True Label: ['PNJ']\n",
            "========================================\n",
            "Content: 2 tháng đầu năm 2023, lợi nhuận Petrosetco (PET) giảm 50% về 35 tỷ đồng(ĐTCK) Sau năm 2022 giảm tốc, Tổng công ty cổ phần Dịch vụ Tổng hợp Dầu khí (Petrosetco, mã PET - sàn HoSE) tiếp tục báo cáo lợi nhuận giảm mạnh trong 2 tháng đầu năm 2023.Cụ thể, trong tháng 2 năm 2023, Petrosetco công bố doanh thu đạt 1.564 tỷ đồng, tăng 25,9% so với cùng kỳ và lợi nhuận trước thuế ghi nhận 35 tỷ đồng, giảm 14,6% so với cùng kỳ. Trong đó, biên lợi nhuận gộp giảm từ 5,6% về còn 4,9% và biên lợi nhuận trước thuế giảm mạnh từ 3,3% về còn 2,2%.Cơ cấu doanh thu của Petrosetco trong 2 tháng đầu năm 2023.Lũy kế trong 2 tháng đầu năm 2023, Petrosetco ghi nhận doanh thu 2.774 tỷ đồng, giảm 3,6% so với cùng kỳ và lợi nhuận sau thuế ghi nhận 37 tỷ đồng, giảm 50% so với cùng kỳ năm trước. Trong đó, biên lợi nhuận gộp giảm từ 4,8% về còn 4,4% và biên lợi nhuận trước thuế giảm mạnh từ 2,6% về chỉ còn 1,3%.Xét về cơ cấu doanh thu, trong 2 tháng đầu năm 2023, doanh thu lĩnh vực phân phối giảm 5% so với cùng kỳ, về 2.435 tỷ đồng; doanh thu dịch vụ Catering tăng 7,8% so với cùng kỳ, lên 139 tỷ đồng; doanh thu quản lý và cho thuê bất động sản tăng 5,5% so với cùng kỳ, lên 77 tỷ đồng; và doanh thu lĩnh vực khác tăng 10,8% so với cùng kỳ, lên 123 tỷ đồng.Như vậy, trong 2 tháng đầu năm, doanh thu giảm chủ yếu do lĩnh vực phân phối. Trong đó, chủ yếu do doanh thu sản phẩm Laptop giảm 56,3% so với cùng kỳ, về 450 tỷ đồng; doanh thu PP, LPG giảm 30,6% so với cùng kỳ, về 200 tỷ đồng; doanh thu thiết bị IT khác giảm 0,9%, về 227 tỷ đồng; và doanh thu điện thoại di động tăng 53%, lên 1.558 tỷ đồng.Trước đó, trong quý IV/2022, Petrosetco ghi nhận doanh thu đạt 4.835,1 tỷ đồng, giảm 20,9% so với cùng kỳ và lợi nhuận sau thuế ghi nhận 0,74 tỷ đồng, giảm 99,5% so với cùng kỳ năm trước. Trong đó, biên lợi nhuận gộp giảm từ 5,8% về còn 5,5%.Luỹ kế trong năm 2022, Petrosetco ghi nhận doanh thu đạt 17.665,4 tỷ đồng, tăng 0,4% so với cùng kỳ và lợi nhuận sau thuế ghi nhận 167,84 tỷ đồng, giảm 46,1% so với cùng kỳ năm trước.\n",
            "Predicted Label: ['PET']\n",
            "True Label: ['PET']\n",
            "========================================\n",
            "Content: Thế Giới Di Động: Lãi tiền gửi dư sức trả lãi vay, đóng góp vào lợi nhuận kỷ lục 2021. Ngoài lĩnh vực bán lẻ nòng cốt, hoạt động tài chính cũng góp sức đáng kể vào kết quả kinh doanh của Thế Giới Di Động trong năm 2021. Một cửa hàng Thế Giới Di Động và Điện Máy Xanh tại Hà Nội. (Ảnh: Song Ngọc). Quý IV vừa qua, CTCP Đầu tư Thế Giới Di Động (Mã: MWG) báo cáo doanh thu thuần hơn 36.100 tỷ đồng và lãi sau thuế gần 1.600 tỷ, đều là các mức cao chưa từng thấy trong lịch sử công ty. Lũy kế cả năm 2021, MWG đạt doanh thu thuần gần 123.000 tỷ đồng, tăng 13% so với 2020. Lợi nhuận sau thuế đạt 4.901 tỷ đồng, tăng trưởng 25% và vượt kế hoạch đại hội cổ đông giao phó. Ngoài lĩnh vực kinh doanh chính là bán lẻ đồ điện tử, điện máy và bách hóa, hoạt động tài chính cũng đóng góp đáng kể vào kết quả kinh doanh nói trên. Năm vừa qua, MWG ghi nhận doanh thu tài chính 1.266 tỷ đồng trong khi chi phí tài chính chỉ gần 714 tỷ. Nói cách khác, công ty có lợi nhuận gộp hơn 550 tỷ đồng từ hoạt động tài chính. Trong 8 năm gần đây, có tới 7 năm MWG có doanh thu tài chính lớn hơn chi phí. Trong doanh thu tài chính, riêng các khoản lãi tiền gửi và tiền cho vay của năm ngoái là 967 tỷ đồng, tăng trưởng 71% so với năm 2020. Chi phí lãi vay là hơn 673 tỷ đồng, tăng hơn 13%.  Trong khi các doanh nghiệp khác thu từ lãi tiền gửi không đủ để trả lãi vay thì MWG lại hoàn toàn ngược lại: Lãi thu được từ cho vay thừa sức trả tiền lãi ngân hàng.  Tại ngày 31/12, MWG đang có hơn 13.400 tỷ đồng tiền gửi và trái phiếu với kỳ hạn ngắn từ ba tháng đến một năm. Ngoài ra, công ty của Chủ tịch Nguyễn Đức Tài còn cho vay 962 tỷ đồng với kỳ hạn từ ba đến 6 tháng, hưởng lãi suất 6,4 – 7% mỗi năm. Báo cáo tài chính quý IV không trình bày cụ thể bên vay là ai nhưng báo cáo quý III cho thấy MWG cho CTCP Chứng khoán TP Hồ Chí Minh (HSC – Mã: HCM) vay 745 tỷ đồng và cho các bên liên quan 262 tỷ đồng. Tính đến cuối năm 2021, MWG đang vay ngắn hạn gần 21.900 tỷ và vay dài hạn gần 2.800 tỷ. Tỷ lệ nợ vay trên tổng tài sản là 39%, nợ vay/tài sản ngắn hạn là 47%. Trong năm 2022, MWG đặt mục tiêu lợi nhuận sau thuế 6.350 tỷ đồng với biên lãi thuần cải thiện lên mức 4,5%.\n",
            "Predicted Label: ['MWG']\n",
            "True Label: ['MWG']\n",
            "========================================\n",
            "Content: KIDO muốn phát hành 10 triệu cổ phiếu ESOP và tạm dừng phương án tăng vốn. KIDO dự kiến phát hành 10 triệu cổ phiếu ESOP trong quý IV năm nay và muốn tạm dừng phát hành hơn 25 triệu cổ phiếu để tăng vốn. HĐQT CTCP Tập Đoàn KIDO (Mã: KDC) vừa thông qua phương án phát hành tối đa 10.064.960 cổ phiếu theo chương trình lựa chọn cho người lao động (ESOP), tương đương 3,9% trên số lượng cổ phiếu đang lưu hành.  Giá phát hành là 15.000 đồng/cp, thấp hơn 75% giá chốt phiên chiều 10/11 là 60.000 đồng/cp và thấp hơn 42% so với giá trị sổ sách cuối năm 2021 (25.826 đồng/cp). Cổ phiếu sẽ bị hạn chế chuyển nhượng một năm kể từ ngày kết thúc đợt phát hành. Thời gian thực hiện dự kiến trong quý IV/2022 Đối tượng phát hành gồm thành viên HĐQT, người quản lý, cán bộ công nhân viên toàn tập đoàn theo danh sách được HĐQT phê duyệt. Nếu cán bộ nhân viên nghỉ việc trong thời gian hạn chế chuyển nhượng, cổ phiếu phát hành ESOP sẽ bị thu hồi theo phương án của HĐQT với giá 15.000 đồng/cp. Trong trường hợp, số lượng cổ phiếu chưa chào bán hết theo dự kiến, sẽ được ĐHĐCĐ ủy quyền cho HĐQT chào bán cho người lao động khác sao cho giá bán không thấp hơn 15.000 đồng/cp.  Trong trường hợp HĐQT vẫn không tìm được người lao động phù hợp, ĐHĐCĐ ủy quyền cho HĐQT điều chỉnh giảm tổng số lượng cổ phiếu chào bán theo đúng số lượng cổ phiếu thực tế đã phân phối.   Tổng số tiền dự kiến thu được từ đợt phát hành hơn 150 tỷ đồng, được sử dụng để bổ sung vốn lưu động cho hoạt động kinh doanh của công ty. Kế hoạch sử dụng vốn chi tiết sẽ uỷ quyền cho HĐQT quyết định.   Ngoài ra, trong nghị quyết mới đây, HĐQT KIDO quyết định tạm hoãn việc phát hành cổ phiếu để tăng vốn cổ phần từ nguồn vốn chủ sở hữu và sẽ được báo cáo tại ĐHCĐ gần nhất. Trước đó, KIDO dự kiến phát hành hơn 25 triệu cổ phiếu cho cổ đông hiện hữu để tăng vốn cổ phần từ nguồn vốn chủ sở hữu với tỷ lệ 10% (cổ đông sở hữu 10 cổ phiếu được nhận được 1 cổ phiếu mới).  Trong đó, quyền nhận cổ phiếu phát hành thêm không được phép chuyển nhượng. Cổ phiếu phát hành thêm bằng hình thức tăng vốn cổ phần từ nguồn vốn chủ sở hữu cho cổ đông hiện hữu không bị hạn chế chuyển nhượng. Thời gian dự kiến thực hiện trong năm 2022. Nguồn vốn phát hành từ lợi nhuận sau thuế chưa phân phối tại BCTC hợp nhất đã kiểm toán năm 2021, khoảng 1.790 tỷ đồng. Về tình hình kinh doanh, 9 tháng đầu năm, doanh thu thuần của KIDO đạt 9.569 tỷ đồng, lợi nhuận trước thuế đạt 485 tỷ, lần lượt tăng 29% và 1% so với cùng kỳ. Năm 2022, doanh nghiệp đặt kế hoạch doanh thu là 14.000 tỷ đồng, lợi nhuận trước thuế là 900 tỷ đồng. Sau ba quý, KIDO đã hoàn thành 68% chỉ tiêu doanh thu và 54% mục tiêu lợi nhuận. Về tình hình tài chính, tại ngày 30/9, tổng tài sản của KIDO giảm 547 tỷ đồng so với đầu năm về 13.525 tỷ đồng. Khoản tiền, tương đương tiền và tiền gửi có kỳ hạn là 1.610 tỷ đồng. Về cơ cấu nguồn vốn, tổng nợ vay của KIDO cuối quý III là 4.015 tỷ đồng, chủ yếu là nợ vay ngắn hạn, chiếm 30% tổng nguồn vốn. Vốn chủ sở hữu tại ngày 30/9 của KIDO là 7.010 tỷ đồng, trong đó vốn góp chủ sở hữu là 2.797 tỷ đồng, thặng dư vốn cổ phần là 3.107 tỷ đồng và lợi nhuận sau thuế chưa phân phối là 1.566 tỷ đồng. \n",
            "Predicted Label: ['KDC']\n",
            "True Label: ['KDC']\n",
            "========================================\n",
            "Content: YEG dự kiến chào bán riêng lẻ tối đa 45 triệu cp. Sau khi hoàn tất phát hành, vốn điều lệ của CTCP Tập đoàn Yeah1 (YeaH1, HOSE: YEG) sẽ tăng thêm tối đa 450 tỷ đồng, lên mức gần 763 tỷ đồng. Từ ngày 03/03 đến ngày 13/03, YEG xin ý kiến ĐHĐCĐ bằng văn bản lần 1 năm 2023 về phương án chào bán cổ phiếu riêng lẻ để tăng vốn điều lệ Công ty.  Theo đó, YEG sẽ chào bán riêng lẻ tối đa 45 triệu cp với giá chào bán 10,000 đồng/cp. Thời gian chào bán dự kiến trong năm 2023, sau khi Ủy ban Chứng khoán Nhà nước có chấp thuận bằng văn bản. Số cổ phiếu chào bán riêng lẻ trên sẽ bị hạn chế chuyển nhượng trong vòng 03 năm kể từ ngày hoàn thành đợt chào bán, trừ trường hợp chuyển nhượng theo quy định của pháp luật. Dự kiến sau khi hoàn tất phát hành, vốn điều lệ của YEG sẽ tăng thêm tối đa 450 tỷ đồng, từ gần 313 tỷ đồng lên mức 763 tỷ đồng.  Với định hướng trở thành doanh nghiệp hàng đầu trong lĩnh vực truyền thông đa phương tiện, kế hoạch kinh doanh trong những năm tới của YeaH1 là tập trung vào mảng quản lý Người sáng tạo nội dung (content creators); đẩy mạnh hoạt động thương mại điện tử thông qua các nền tảng công nghệ; đầu tư vốn vào các doanh nghiệp trong lĩnh vực truyền thông, truyền hình; đầu tư vào cơ sở hạ tầng để tạo thế chủ động trong việc sản xuất các chương trình lớn có quy mô và chất lượng cao, đáp ứng thị hiếu nghe nhìn và khả năng sử dụng công nghệ ngày càng phát triển của người dân; xây dựng và đầu tư cơ sở vật chất tạo nền tảng bền vững cho việc phát triển các hoạt động kinh doanh mới, phù hợp xu hướng hiện đại và năng động của thị trường truyền thông. Do đó, nhu cầu huy động vốn hiện nay để bổ sung nguồn vốn cho hoạt động kinh doanh là cấp bách, then chốt, gắn liền với sự thành công của Công ty trong tương lai. Công ty sẽ tập trung sử dụng số tiền thu được để cơ cấu lại các khoản nợ vay, thực hiện đầu tư, góp vốn để hình thành các mảng kinh doanh và một phần dùng để bổ sung vốn lưu động cho Công ty. Tổng số tiền 450 tỷ đồng dự kiến thu được từ đợt phát hành sẽ được sử dụng bổ sung nguồn vốn vào hoạt động kinh doanh của Công ty với cơ cấu hợp lý, trên nguyên tắc đảm bảo an toàn, hiệu quả và mang lại lợi ích cao nhất cho cổ đông.  Cụ thể, YEG sẽ dùng 137 tỷ đồng góp vốn vào Công ty TNHH 1Production và trích 23 tỷ đồng góp vốn vào Công ty TNHH Yeah1 Up. Thời gian giải ngân dự kiến vào quý 2 và/hoặc quý 3/2023. Số tiền còn lại 289 tỷ đồng sẽ được Công ty bổ sung vào vốn lưu động (bao gồm nhưng không giới hạn việc thanh toán các khoản nợ vay, nợ ngân hàng, đối tác khác, bổ sung vốn lưu động cho hoạt động kinh doanh của Công ty…).\n",
            "Predicted Label: ['YEG']\n",
            "True Label: ['YEG']\n",
            "========================================\n",
            "Content: Novaland dự kiến bàn giao 10 dự án, phát triển 25 dự án năm 2020. Theo kế hoạch đưa ra cho năm nay, Novaland tiếp tục phát triển 25 dự án (bao gồm cả dự án mới). Lợi nhuận sau thuế dự kiến tăng 8% lên 3.650 tỉ đồng. CTCP Tập đoàn Đầu tư Địa ốc No Va (Novaland - Mã: NVL) vừa công bố tài liệu họp ĐHĐCĐ thường niên 2020. Theo dự kiến, Novaland sẽ bàn giao 10 dự án trong năm nay, bao gồm 7 dự án tại TP HCM và ba dự án tại Đồng Nai, Bà Rịa - Vũng Tàu, Bình Thuận. Danh sách dự án dự kiến bàn giao trong năm 2020. Nguồn: Novaland. Bên cạnh đó, công ty sẽ tiếp tục phát triển 22 dự án, phần lớn tập trung tại khu Đông TP HCM (quận 2, quận 9) và khu Tây (quận Phú Nhuận, quận Tân Bình).   Tại các địa phương khác, Novaland có dự án Aqua City (Biên Hòa, Đồng Nai) và tổ hợp các dự án nghỉ dưỡng mang thương hiệu Novahill, NovaWorld, Novabeach ở Xuyên Mộc (Bà Rịa - Vũng Tàu), Phan Thiết (Bình Thuận), Cam Ranh (Khánh Hòa). Danh sách dự án tiếp tục phát triển trong năm 2020. Nguồn: Novaland. Ngoài ra, Novaland dự kiến phát triển các dự án mới, trong đó có hai dự án ở khu Đông TP HCM và các dự án nghỉ dưỡng khác tại Bà Rịa - Vũng Tàu, Bình Thuận. Danh sách dự án mới dự kiến phát triển trong năm 2020. Nguồn: Novaland. Với những kế hoạch trên, Novaland kì vọng doanh thu năm nay trên 14.877 tỉ đồng và lợi nhuận sau thuế 3.650 tỉ đồng, lần lượt tăng 36% và 8% so với kết quả đạt được trong năm 2019. Tuy nhiên, Novaland cho biết tạm thời không có kế hoạch chia cổ tức năm 2020. Đồng thời, HĐQT Novaland dự kiến trình cổ đông thông qua việc không chia cổ tức năm 2019. Tính đến cuối năm 2019, lợi nhuận sau thuế chưa phân phối lũy kế của công ty còn gần 8.723 tỉ đồng. Ngoài ra, Novaland cho biết đã chi trả thù lao cho HĐQT trong năm 2019 gần 2,5 tỉ đồng (kế hoạch được ĐHĐCĐ 2019 thông qua tổng mức thù lao không qua 5 tỉ đồng). Theo dự kiến, HĐQT sẽ tiếp tục trình ĐHĐCĐ tới đây thông qua mức thù lao cho HĐQT năm 2020 không quá 5 tỉ đồng và trao quyền cho HĐQT quyết định mức thù lao cụ thể cũng như thực hiện chi trả thù lao cho các thành viên. Một trong những nội dung HĐQT Novaland sẽ trình ĐHĐCĐ tới đây là việc sửa đổi kế hoạch phát hành cổ phần để chuyển đổi trái phiếu trong năm nay Theo dự kiến, giá chuyển đổi 60.000 đồng/cp và tỉ lệ chuyển đổi 75.910 cp/trái phiếu. Tỉ giá cố định áp dụng tại thời điểm chuyển đổi là 22.773 đồng/cp và được điều chỉnh theo từng thời điểm ở các sự kiện điều chỉnh giá chuyển đổi. Trước đó, ĐHĐCĐ thường niên 2018 (ngày 26/4/2018) đã thông qua phương án phát hành trên 48,7 triệu cp NVL để chuyển đổi thành trái phiếu quốc tế được niêm yết tại Sở Giao dịch Chứng khoán Singapore. Tại thời điểm trên, giá chuyển đổi được thông qua là 74.750 đồng/cp và tỉ lệ chuyển đổi là 60.931 cp/trái phiếu. Với kịch bản này, vốn điều lệ của Novaland sẽ tăng lên gần 487.5 tỉ đồng. Tuy nhiên, ngày 4/1/2019, Novaland tiếp tục lấy ý kiến cổ đông bằng văn bản, thay đổi phương án phát hành. Cụ thể, Novaland dự kiến sẽ phát hành tối đa gần 97,5 triệu cp NVL để hoán đổi thành trái phiếu trong năm 2019. Theo đó, giá chuyển đổi được điều chỉnh giảm về 71.000 đồng/cp,  tỉ lệ chuyển đổi 64.149,3 cp/trái phiếu và vốn điều lệ công ty dự kiến tăng lên gần 975 tỉ đồng. Như vậy, đây là lần thứ ba Novaland điều chỉnh giá chuyển đổi cổ phần sang trái phiếu cũng như trình cổ đông thông qua nội dung này. Ngoài ra, Novaland có kế hoạch phát hành tối đa 1,5% giá trị cổ phiếu đang lưu hành, tương đương trên 14,5 triệu cp theo chương trình lựa chọn cho người lao động (ESOP) với giá chào bán tối thiểu 10.000 đồng/cp. Thời gian thực hiện chậm nhất đến quí I/2021. Ngày 30/4/2018, Novaland đã phát hành 160 triệu USD trái phiếu chuyển đổi quốc tế niêm yết trên Sở Giao Dịch Chứng Khoán Singapore (SGX). Theo đó, trái phiếu có thể chuyển đổi thành cổ phần phổ thông với giá chuyển đổi ban đầu là 74.750 đồng/cp, cao hơn giá cổ phiếu tham chiếu tại ngày phát hành 15%. Lãi suất của trái phiếu là 5,5% mỗi năm và sẽ đáo hạn vào năm 2023, Credit Suisse (Singapore) Limited đóng vai trò là đơn vị tư vấn và thu xếp chính cho đợt phát hành này. Ngày 18/5 vừa qua, Novaland đã lấy ý kiến cổ đông bằng văn bản và đã được thông qua việc phát hành tối đa 300 triệu USD trái phiếu chuyển đổi trong năm 2020. Theo dự kiến, trái phiếu có kì hạn 5 năm và giá chuyển đổi sẽ do HĐQT quyết định.\n",
            "Predicted Label: ['NVL']\n",
            "True Label: ['NVL']\n",
            "========================================\n",
            "Content: Hải Phòng yêu cầu Kinh Bắc (KBC) triển khai đúng tiến độ dự án Tràng Cát và Tràng Duệ 3, nếu không sẽ xem xét thu hồi(ĐTCK) UBND TP. Hải Phòng yêu cầu các công ty con của Tổng công ty Phát triển Đô thị Kinh Bắc – CTCP (mã KBC – sàn HoSE) triển khai dự án đúng tiến độ đã đề ra.Văn phòng UBND TP. Hải Phòng vừa có Thông báo 144/TB-VP truyền đạt Kết luận của Chủ tịch UBND Thành phố Nguyễn Văn Tùng tại cuộc họp nghe báo cáo tình hình thực hiện, triển khai các dự án do Tổng Công ty Phát triển Đô thị Kinh Bắc-CTCP; Công ty cổ phần Tập đoàn đầu tư và Phát triển Hưng Yên; Công ty cổ phần Khu công nghiệp Sài Gòn - Hải Phòng và Công ty TNHH MTV Phát triển đô thị Tràng Cát nghiên cứu đề xuất đầu tư; cùng một số dự án khu đô thị, khu công nghiệp trên địa bàn thành phố.Dự án đầu tư xây dựng Khu đô thị và dịch vụ Tràng Cát, quận Hải AnThành phố Hải Phòng yêu cầu Công ty TNHH MTV Phát triển đô thị Tràng Cát (Công ty con do Tổng Công ty Phát triển Đô thị Kinh Bắc sở hữu 100% vốn điều lệ) tập trung triển khai dự án theo tiến độ Thành phố đề ra. Đến tháng 6/2024, chủ đầu tư phải hoàn thành việc thẩm định thiết kế sau thiết kế cơ sở, cấp phép xây dựng (phần hạ tầng) và tổ chức khởi công dự án.Trường hợp không có lý do khách quan mà Công ty TNHH MTV Phát triển đô thị Tràng Cát không đảm bảo tiến độ nêu trên, UBND Thành phố sẽ xem xét việc thu hồi Dự án theo quy định.Được biết, Dự án đầu tư xây dựng Khu đô thị và dịch vụ Tràng Cát tại quận Hải An, Hải Phòng, quy mô 585 ha, tổng vốn đầu tư khoảng 11.328 tỷ đồng.Dự án đầu tư xây dựng và kinh doanh kết cấu hạ tầng Khu công nghiệp Tràng Duệ 3Thành phố Hải Phòng yêu cầu Công ty cổ phần Khu công nghiệp Sài Gòn - Hải Phòng (Công ty con của Kinh Bắc - sở hữu 86,54% vốn điều lệ) tập trung triển khai theo tiến độ thành phố đưa ra. Đến tháng 5/2024, Công ty phải tổ chức khởi công dự án.Trường hợp không có lý do khách quan mà Công ty cổ phần Khu công nghiệp Sài Gòn - Hải Phòng không đảm bảo tiến độ nêu trên, UBND thành phố sẽ xem xét việc lựa chọn Nhà đầu tư khác để nghiên cứu triển khai Dự án.Được biết, Dự án đầu tư xây dựng và kinh doanh kết cấu hạ tầng Khu công nghiệp Tràng Duệ 3 tại huyện An Lão, Hải Phòng, tổng vốn đầu tư khoảng 8.000 đến 10.000 tỷ đồng.Dự án Cụm công nghiệp phụ trợ Tràng DuệThành phố Hải Phòng yêu cầu Công ty cổ phần Khu công nghiệp Sài Gòn - Hải Phòng khẩn trương tổ chức lập đề xuất dự án, trong đó bao gồm tuyến đường kết nối dự án sang tỉnh Hải Dương trình duyệt theo quy định; báo cáo hồ sơ đề xuất thực hiện dự án trước ngày 5/6.Bên cạnh đó, yêu cầu Sở Công Thương thẩm định, hoàn thiện hồ sơ bổ sung Cụm công nghiệp phụ trợ Tràng Duệ vào quy hoạch phát triển Cụm công nghiệp thành phố, báo cáo UBND Thành phố trước ngày 5/6.Được biết, Dự án Cụm công nghiệp phụ trợ Tràng Duệ nằm tại xã Hồng Phong, xã An Hoà, huyện An Dương.Ngoài ra, đối với một số dự án khác, Thành phố cũng đưa ra chỉ đạo như Dự án Nhà ở xã hội thuộc Khu đô thị - Dịch vụ thương mại và nhà ở công nhân Tràng Duệ; Dự án Khu đô thị mới tại xã An Tiến, xã An Thắng, huyện An Lão (diện tích 34,7ha); Dự án Khu đô thị dịch vụ dành cho chuyên gia, công nhân tại huyện An Lão; Dự án Khu đô thị nghỉ dưỡng Gia Luận, huyện Cát Hải; Dự án Khu công nghiệp Tiên Lãng 2, huyện Tiên Lãng; Dự án Khu công nghiệp Cầu Cựu, huyện An Lão; Dự án Mở rộng Khu đô thị - dịch vụ thương mại và nhà ở công nhân Tràng Duệ, huyện An Dương; Khu đất diện tích khoảng 4,7ha tại Khu đô thị mới Bắc sông Cấm, huyện Thủy Nguyên.Kinh Bắc tiếp tục đặt kế hoạch lợi nhuận tăng trưởng 153,7% trong năm 2023Một diễn biến đáng chú ý khác, Kinh Bắc vừa công bố kế hoạch tổ chức Đại hội đồng cổ đông thường niên năm 2023, đại hội dự kiến tổ chức ngày 23/6 tại Bắc Ninh.Trong năm 2023, Kinh Bắc đặt kế hoạch kinh doanh với tổng doanh thu hợp nhất là 9.000 tỷ đồng, tăng 157,3% so với cùng kỳ và tổng lợi nhuận hợp nhất sau thuế là 4.000 tỷ đồng, tăng 153,7% so với thực hiện trong năm 2022.Được biết, trong năm 2022, Kinh Bắc ghi nhận tổng doanh thu 3.498,07 tỷ đồng, giảm 27,61% so với cùng kỳ và bằng 35,69% so với kế hoạch doanh thu; lợi nhuận sau thuế ghi nhận 1.576,53 tỷ đồng, tăng 16,63% so với cùng kỳ và chỉ bằng 35,03% so với kế hoạch lợi nhuận năm.Về kế hoạch triển khai dự án trọng điểm, trong năm 2023, dự án Khu công nghiệp Nam Sơn – Hạp Lĩnh dự kiến tiếp tục đền bù và hoàn thiện cơ sở hạ tầng (108,3ha), hoàn thiện nhà máy cung cấp nước sạch, xử lý nước thải… để bàn giao đất cho nhà đầu tư đã ký kết biên bản ghi nhớ và sẵn sàng quỹ đất thu hút các nhà đầu tư.Dự án Khu công nghiệp Quang Châu mở rộng, Công ty tập trung hoàn thiện đền bù và cơ sở hạ tầng với diện tích 38,1ha còn lại và thu hút đầu tư, đạt tỷ lệ lấp đầy 100%.Đối với dự án Khu công nghiệp Tân Phú Trung, Công ty tiếp tục đền bù đạt 100% diện tích dự án (33,2ha), với lợi thế quỹ đất sẵn có, nguồn cung trên địa bàn hạn chế, nhu cầu của nhà đầu tư lớn, cho nên Khu công nghiệp này sẽ tận dụng các lợi thế để thu hút khách hàng.Đối với dự án Khu công nghiệp Tràng Duệ 3, Công ty hoàn thiện thủ tục phê duyệt chấp thuận chủ trương đầu tư cho dự án vào quý III/2023, chuẩn bị nguồn tài chính để sẵn sàng thực hiện ngay phương án đền bù khi dự án được phê duyệt.Đối với dự án Khu đô thị Tràng Duệ, Công ty tiếp tục hoàn thiện 28 căn biệt thự và bàn giao 83 căn biệt thự cuối cùng, tương đương 1,27ha trong năm 2023.Đối với Khu đô thị Tràng Cát, Công ty tập trung triển khai san lấp mặt bằng và xây dựng cơ sở hạ tầng để sẵn sàng đưa vào kinh doanh hoặc hợp tác kinh doanh.Đối với dự án Khu đô thị Phúc Ninh, Công ty tập trung hoàn thiện thủ tục pháp lý để bàn giao cho các nhà đầu tư đã đặt chỗ, thực hiện ghi nhận doanh thu trong năm 2023.Đối với các dự án Nhà ở xã hội và khu tái định cư, Công ty triển khai phương án đầu tư xây dựng và thu xếp vốn cho các dự án Nhà ở xã hội trong Khu đô thị Tràng Duệ là 3,13ha, Khu dân cư Tân Phú Trung, các Khu tái định cư ở Long An, Quản lý và phát triển dự án Nhà ở xã hội thị trấn Nếnh – Bắc Giang do Công ty con là CTCP KCN Sài Gòn – Hải Phòng là đối tác liên danh của dự án.\n",
            "Predicted Label: ['KBC']\n",
            "True Label: ['KBC']\n",
            "========================================\n",
            "Content: ROS công bố lộ trình thực hiện nghĩa vụ tổ chức niêm yết hậu đình chỉ giao dịch. Sau khi nhận công văn từ Sở Giao dịch Chứng khoán TPHCM (HOSE), CTCP Xây dựng FLC Faros (HOSE: ROS) đã ra văn bản giải trình liên quan đến nghĩa vụ của tổ chức niêm yết, bao gồm lộ trình tổ chức ĐHĐCĐ thường niên cũng như lựa chọn đơn vị kiểm toán BCTC, báo cáo thường niên 2021…  Từ ngày 12/08, cổ phiếu ROS bị đình chỉ giao dịch do Công ty tiếp tục vi phạm quy định về công bố thông tin sau khi bị đưa vào diện hạn chế giao dịch. Trước đó, cổ phiếu ROS bị đưa vào diện hạn chế giao dịch theo quyết định ngày 25/05/2022 do chậm nộp báo cáo tài chính (BCTC) năm 2021 đã được kiểm toán hoặc BCTC bán niên đã soát xét quá 30 ngày so với thời hạn quy định. Thêm vào đó, ROS còn bị HOSE đưa vào diện cảnh báo từ ngày 11/07/2022. Đến ngày 17/08, sau khi nhận được công văn từ HOSE yêu cầu giải trình về việc thực hiện nghĩa vụ của tổ chức niêm yết, ROS đã công bố lộ trình thực hiện các nghĩa vụ.  Theo đó, ROS cho biết đã tiến hành các thủ tục triệu tập ĐHĐCĐ bất thường để bầu bổ sung thành viên HĐQT nhiệm kỳ 2021-2026, dự kiến tổ chức vào ngày 15/09/2022. Sau khi tổ chức thành công, Công ty sẽ tiếp tục nộp hồ sơ thay đổi người đại diện theo pháp luật. Sau khi thay đổi được vị trí này, Công ty sẽ công bố thông tin BCTC quý 1 và 2/2022, đồng thời tiếp tục lựa chọn đơn vị kiểm toán phù hợp theo quy định để thực hiện kiểm toán BCTC soát xét.  Khi chọn được đơn vị kiểm toán, ROS sẽ tiến hành công bố BCTC kiểm toán 2021, báo cáo thường niên 2021 và triệu tập họp ĐHĐCĐ thường niên 2022. Tại đại hội, Công ty dự tính trình thông qua nội dung lựa chọn đơn vị kiểm toán, soát xét BCTC năm 2022 nhằm đảm bảo tuân thủ các quy định, sau đó phối hợp với các đơn vị được lựa chọn để công bố BCTC soát xét bán niên 2022. ROS cho biết Công ty mong cơ quan chức năng tiếp tục hỗ trợ, quan tâm giúp đỡ, tạo điều kiện để Công ty thực hiện đúng lộ trình dự kiến nêu trên, đảm bảo quyền lợi cho doanh nghiệp, cổ đông và góp phần ổn định tâm lý nhà đầu tư trên thị trường chứng khoán.\n",
            "Predicted Label: ['CKG']\n",
            "True Label: ['ROS']\n",
            "========================================\n",
            "Content: KIDO chi gần 1.256 tỷ đồng để nâng sở hữu tại Vocarimex lên 87,3%. KIDO đã chi gần 1.256 tỷ đồng để mua hơn 44,2 triệu cổ phiếu VOC từ SCIC, nâng tỷ lệ sở hữu tại Vocarimex từ 51% lên 87,3%. Giao dịch này đã gỡ nút thắt để KIDO có thể tiến hành hợp nhất Dầu Thực Vật Tường An. CTCP Tập đoàn KIDO (Mã: KDC) vừa cho biết đã mua thành công hơn 44,2 triệu cổ phiếu VOC của Tổng công ty Công nghiệp Dầu thực vật Việt Nam (Vocarimex) do Tổng công ty Đầu tư và Kinh doanh vốn nhà nước (SCIC) bán đấu giá. Theo SCIC, lô cổ phần này đã được đấu giá thành công với giá gần 1.256 tỷ đồng, tương đương xấp xỉ 28.400 đồng/cp, thấp hơn 21% so với thị giá cổ phiếu VOC kết phiên 9/11. Diễn biến giá cổ phiếu VOC từ đầu năm đến nay. (Ảnh: TradingView). Sau giao dịch này, tỷ lệ sở hữu của KIDO tại Vocarimex đã tăng từ 51% lên 87,3%. Đồng thời, việc hoàn tất thoái vốn nhà nước tại Vocarimex đã gỡ được nút thắt để KIDO có thể tiến hành hợp nhất CTCP Dầu Thực Vật Tường An (Mã: TAC). Năm ngoái, KIDO cũng dự kiến hợp nhất Dầu Tường An vào tập đoàn. Tuy nhiên, do Vocarimiex - cổ đông có vốn nhà nước, vẫn đang nắm 26,55% cổ phần tại TAC, việc sáp nhập TAC vào KIDO trước sẽ ảnh hưởng đến tiến độ thoái vốn tại Vocarimex. Tại ĐHCĐ thường niên năm 2021, ban lãnh đạo Dầu Tường An cho biết ngay sau khi SCIC hoàn tất thoái vốn khỏi VOC, phía KIDO sẽ mời tư vấn để làm thủ tục sáp nhập. Về tình hình kinh doanh, trong 9 tháng đầu năm nay, doanh thu thuần của Tập đoàn KIDO đạt 7.444 tỷ đồng, tăng 24% so với cùng kỳ năm trước; lợi nhuận sau thuế đạt 488 tỷ đồng, tăng 92%. Xét về hiệu quả kinh doanh, biên lợi nhuận gộp của KIDO đạt 19,2%. Trong đó, biên lãi gộp ngành dầu ăn đạt 12% và biên lãi gộp ngành hàng thực phẩm đạt 53%. Trong khi đó, tại Vocarimex, doanh thu hoạt động tài chính trong quý III đã sụt giảm gần 94% xuống còn 4,58 tỷ đồng, qua đó khiến công ty lỗ hơn 1,5 tỷ đồng trong kỳ.  Theo lý giải từ phía Vocarimex, doanh thu tài chính đã giảm mạnh do cùng kỳ năm trước công ty ghi nhận khoản thu nhập từ cổ tức đặc biệt của Dầu Tường An. Lũy kế 9 tháng đầu năm, lợi nhuận sau thuế của Vocarimex 43% xuống còn 116 tỷ đồng.\n",
            "Predicted Label: ['OIL']\n",
            "True Label: ['KDC']\n",
            "========================================\n",
            "Content: Hòa Phát trả cổ tức trong tháng 6-8, gia đình Chủ tịch Trần Đình Long sắp nhận 782 tỷ đồng và 470 triệu cổ phiếu HPG. Tập đoàn Hòa Phát sẽ chi tổng cộng 2.236 tỷ đồng tiền mặt và phát hành thêm 1,34 tỷ cổ phiếu HPG trong đợt cổ tức tới. Tập đoàn Hòa Phát (Mã: HPG) vừa thông báo sẽ trả cổ tức năm 2021 trong giai đoạn từ tháng 6 đến tháng 8 sắp tới. Phương án cổ tức đã được đại hội cổ đông thường niên ngày 24/5 vừa qua phê duyệt với tỷ lệ trên 99% số phiếu đồng ý. Ngày chốt danh sách cổ đông chưa được công bố. Tổng tỷ lệ cổ tức chi trả là 35%, bao gồm 5% bằng tiền mặt và 30% bằng cổ phiếu. Như vậy, nhà đầu tư nắm giữ 100 cổ phiếu HPG tại ngày chốt quyền sẽ được nhận 50.000 đồng tiền mặt (chưa trừ thuế, phí) và 30 cổ phiếu HPG mới. Hòa Phát hiện nay có hơn 4,47 tỷ cổ phiếu đang lưu hành nên sẽ cần chi ra khoảng 2.236 tỷ đồng tiền mặt và phát hành 1,34 tỷ cổ phiếu. Tổng số cổ phiếu sau khi chia cổ tức là hơn 5,8 tỷ đơn vị, ứng với vốn điều lệ 58.147 tỷ đồng. Chủ tịch Hội đồng quản trị Trần Đình Long đang sở hữu 26,08% vốn điều lệ của Hòa Phát. Vợ và con trai của ông Long cũng là cổ đông của tập đoàn, như thể hiện trong biểu đồ bên dưới. Tổng cộng cả gia đình ông Long nắm giữ 35% vốn. Trong đợt cổ tức tới, gia đình Chủ tịch Tập đoàn Hòa Phát sẽ được nhận khoảng 782 tỷ đồng tiền mặt và 470 triệu cổ phiếu HPG. HPG là “cổ phiếu quốc dân” được nhiều nhà đầu tư quan tâm và sở hữu. Tại ngày chốt danh sách cổ đông có quyền tham dự đại hội thường niên 2022, Hòa Phát ghi nhận 161.205 cổ đông, nhiều nhất thị trường chứng khoán Việt Nam. Theo thống kê của Sở Giao dịch Chứng khoán TP Hồ Chí Minh (HOSE) dưới đây, HPG là cổ phiếu có giá trị giao dịch lớn nhất toàn thị trường với thanh khoản 336.300 tỷ đồng. Xét về khối lượng giao dịch, HPG xếp thứ 2 với 6,64 tỷ cổ phiếu được sang tay trong năm ngoái. Tại đại hội cổ đông ngày 24/5 vừa qua, Chủ tịch Trần Đình Long tái khẳng định cam kết không bán số cổ phiếu HPG mà ông đang sở hữu. Tuy nhiên, nếu cổ đông muốn ông dùng tiền từ cổ tức và các nguồn khác để mua thêm HPG thì sau này ông sẽ cần bán bớt đi để có “tiền ra, tiền vào” vì ông không có tiền để gia tăng sở hữu mãi. Nếu ông Long dùng toàn bộ số tiền cổ tức tiền mặt 782 tỷ đồng mà cả gia đình sắp nhận được để mua cổ phiếu HPG thì có thể mua được hơn 22 triệu đơn vị, tính theo mức giá hiện nay khoảng 35.000 đồng/cp.\n",
            "Predicted Label: ['HPG']\n",
            "True Label: ['HPG']\n",
            "========================================\n",
            "Content: Doanh thu vàng miếng của PNJ tăng gần 79% tháng cận Tết Nguyên đán. Trong tháng 1/2021, doanh thu vàng miếng của PNJ tăng gần 79% đã khiến biên lợi nhuận gộp của doanh nghiệp giảm 4,4 điểm % so với tháng 1/2020 xuống còn 18,9%. CTCP Vàng bạc Đá quý Phú Nhuận (Mã: PNJ) đã công bố kết quả kinh doanh tháng 1/2021. Tháng 1, PNJ ghi nhận doanh thu thuần đạt 2.170 tỷ đồng, tăng 30,2% và lợi nhuận sau thuế đạt 168 tỷ đồng, tăng 2,5% so với cùng kỳ năm trước chủ yếu nhờ sự tăng trưởng của doanh thu bán lẻ và vàng miếng. Nguồn: PNJ Về tăng trưởng doanh thu theo kênh, doanh thu kênh lẻ tháng 1 tăng 10% so với quý I/2020 đến từ chương trình truyền thông, tiếp thị và push-sale cho khách hàng qua kênh online và offline. Tỷ trọng doanh thu kênh lẻ đạt 55,5% có sự thay đổi so với cùng kỳ năm 2020. Doanh thu sỉ tháng 1 tăng 34,1% do sự khác biệt trong chu kỳ kinh doanh giữa năm 2020 và 2021. Tỷ trọng doanh thu kênh sỉ chiếm 18,6% so với mức 18% cùng kỳ.  Doanh thu vàng miếng tăng 78,6% trong tháng 1 và tỷ trọng doanh thu vàng miếng tăng lên mức 20,2% so với 14,6% của tháng 1/2020. Biên lợi nhuận gộp trong tháng 1 đạt 18,9%, giảm so với mức 23,3% cùng kỳ 2020 do sự dịch chuyển trong cơ cấu doanh thu của PNJ khi tỷ trọng doanh thu từ kênh sỉ gia tăng từ 18% (năm 2020) lên mức 18,6% (năm 2021) và tỷ trọng doanh thu vàng miếng tăng từ 14,6% (năm 2020) lên 20,2% (năm 2021).  Tổng chi phí hoạt động tháng 1 tăng 11% so với cùng kỳ 2020 và giảm 16,3% so với tháng 12/2020. Trong tháng 1, PNJ đã mở mới hai cửa hàng PNJ Gold và đóng cửa một cửa hàng PNJSilver và một cửa hàng CAO trong trung tâm thương mại.  Số lượng cửa hàng tại thời điểm cuối tháng 1 của PNJ là 339 gồm 301 cửa hàng PNJ Gold, PNJ Silver là 32, CAO và PNJ Art đều cùng có 3 cửa hàng. Trong đó, PNJ Watch là 66 cửa hàng. Thông tin thêm về tình hình hoạt động, Hội đồng quản trị của PNJ vừa chốt ngày đăng ký cuối cùng để tham dự họp đại hội đồng cổ đông thường niên năm 2021 là ngày 16/3. Thời gian họp dự kiến từ ngày 17/4 đến ngày 30/4.\n",
            "Predicted Label: ['PNJ']\n",
            "True Label: ['PNJ']\n",
            "========================================\n",
            "Content: 'NT2 sẽ hưởng lợi từ nhu cầu tiêu thụ điện tăng cao'. Chứng khoán KB Việt Nam cho rằng trong bối cảnh các nhà máy nhiệt điện sẽ được huy động với công suất cao hơn trong mùa nắng nóng, NT2 sẽ được hưởng lợi khi giá nguyên liệu khí đầu vào có xu hướng giảm trong khi giá bán điện toàn phần vẫn neo ở mức cao. Theo báo cáo mới nhất của Chứng khoán KB Việt Nam (KSBV), CTCP Điện lực dầu khí Nhơn Trạch 2 (Mã: NT2) sẽ hưởng lợi từ nhu cầu tiêu thụ điện tăng cao. Tại ngày 6/5, theo công bố của Tập đoàn Điện lực (EVN), nhu cầu điện của hệ thống điện quốc gia đã tăng lên mức kỷ lục mới, tương đương 895 triệu kWh (tăng 12% so với cùng kỳ năm ngoái). Công suất tiêu thụ cực đại đạt 43.030 MW (tăng hơn 9%), cao nhất kể từ đầu năm. Nhu cầu phụ tải điện đang có xu hướng tăng cao, đặc biệt là vào mùa nắng nóng. Trong khi đó, mức nước tại các nhà máy thuỷ điện không còn dồi dào như năm 2022. Vì vậy, nhà máy nhiệt điện sẽ được huy động với mức cao hơn nhằm đảm bảo đáp ứng đủ nhu cầu tiêu thụ điện. Trong quý I/2023, giá điện toàn phần bình quân đạt 1.689 đồng/kWh (tăng 11%) do nguyên liệu đầu vào (khí, than) của các nhà máy nhiệt điện neo cao kéo theo giá bán điện đi lên. Giá điện toàn phần tháng 4/2023 đã đạt mức 1.964 đồng/kWh (tăng 10%), đạt đỉnh 10 năm do tiêu thụ tăng cao khi thời tiết bước vào mùa nắng nóng. Bên cạnh đó, giá khí đầu vào có xu hướng đi xuống kể từ tháng 4/2022. Điều này đồng nghĩa NT2 sẽ có lợi thế khi tham gia phát điện nhờ giá khí đầu vào giảm xuống nhưng giá bán điện toàn phần neo ở mức cao. Các nhà phân tích giữ dự phóng giá phát điện trên thị trường phát điện cạnh tranh sẽ đạt trung bình 1.569 đồng/kWh (tăng 2%) vào năm 2023 và có thể vẫn tăng vào các năm tiếp theo do dự báo nhu cầu điện tiếp tục leo thang. Dựa trên các yếu tố này, KBSV dự phóng sản lượng điện thương phẩm cả năm 2023 của NT2 sẽ đạt 4.032 triệu kWh (giảm 0,8%). Nguyên nhân là trong 2023, NT2 sẽ tiến hành đại tu nhà máy định kỳ sau 100.000 giờ EOH (giờ vận hành tương đương) các tổ máy, hệ thống, thiết bị phụ trợ. Nhưng nhận thấy nhu cầu sẽ tăng cao, sản lượng điện tiêu thụ chỉ giảm nhẹ so với 2022 do khả năng nhà máy sẽ được huy động với công suất cao để đảm bảo cung ứng điện trong nước. Sản lượng hợp đồng Qc cũng sẽ cao hơn so với năm 2022. Chuyên gia dự phóng giá khí đầu vào của NT2 trung bình đạt 9.09 USD/MMBTU (giảm 2% YoY) do giả định giá dầu Brent giảm nhẹ so với 2022 về mức 85 USD/thùng. Do đó, giá bán điện trung bình sẽ giảm nhẹ 2.122 đồng/kWh. Tựu chung lại, KBSV dự phóng doanh thu năm 2023 của NT2 sẽ đạt 8.556 tỷ đồng, lãi sau thuế 720 tỷ đồng, giảm lần lượt 2,6% và 18,5% so với năm ngoái. Dự phóng này cao hơn so với kế hoạch đặt ra của doanh nghiệp là 8.299 tỷ đồng doanh thu và 473 tỷ đồng lợi nhuận sau thuế.\n",
            "Predicted Label: ['NT2']\n",
            "True Label: ['NT2']\n",
            "========================================\n",
            "Content: IDICO lập công ty bất động sản tại Tiền Giang, vốn 900 tỷ đồng. Trong đó IDICO sẽ góp 65% số vốn của công ty mới, tương ứng số tiền 585 tỷ đồng. Ảnh minh họa: IDICO. Hội đồng quản trị (HĐQT) Tổng công ty IDICO - CTCP (Mã: IDC) vừa công bố nghị quyết thành lập CTCP IDICO Tiền Giang với vốn điều lệ 900 tỷ đồng, trong đó tổng công ty sẽ góp 65% vốn, còn lại là các cổ đông khác. Ngành nghề kinh doanh chính của IDICO Tiền Giang là kinh doanh bất động sản, bao gồm đầu tư xây dựng, kinh doanh phát triển nhà, hạ tầng kỹ thuật đô thị, khu công nghiệp, khu kinh tế, khu dân cư tập trung. Địa chỉ đăng ký kinh doanh tại TP Mỹ Tho, tỉnh Tiền Giang, theo Cổng thông tin đăng ký doanh nghiệp. Tổng công ty cử ông Đặng Chính Trung, Tổng Giám đốc IDICO sẽ là người đại diện 35% trong tổng 65% vốn tại IDICO Tiền Giang và giữ chức Chủ tịch HĐQT nhiệm kỳ 2021 - 2026. Ông Nguyễn Hồng Hải và ông Phan Văn Chính, Phó Tổng Giám đốc IDICO mỗi người đại diện 15% trong tổng 65% vốn và cùng tham gia vào HĐQT IDICO Tiền Giang, trong đó ông Hải sẽ là Giám đốc của công ty mới này. Trong một diễn biến khác, HĐQT IDICO vừa thông qua việc thoái vốn toàn bộ vốn tại 4 đơn vị do cần tập trung vốn cho hoạt động sản xuất kinh doanh và cân đối nguồn vốn cho các dự án đầu tư. Các công ty dự kiến thoái bao gồm CTCP Đầu tư xây dựng lắp máy IDICO, CTCP Đầu tư Đồng Thuận, Trường Đại học Công nghệ Vinh và CTCP Đầu tư Xây dựng đô thị Việt Nam. Tổng giá trị đầu tư tại các công ty này tại ngày 30/9 gần 47 tỷ đồng. Trên thị trường chứng khoán, cũng như nhiều cổ phiếu bất động sản khu công nghiệp khác, giá cổ phiếu IDC đã tăng mạnh kể từ đầu năm đến nay, từ vùng 35.000 đồng/cp lên 87.300 đồng/cp chốt phiên 16/12, tức gấp 2,4 lần. Diễn biến giá cp IDC trong một năm qua. (Nguồn: TradingView).\n",
            "Predicted Label: ['IDC']\n",
            "True Label: ['IDC']\n",
            "========================================\n",
            "Content: Thuduc House lỗ ròng 576 tỷ đồng năm 2021, tài sản bốc hơi 63% sau một quý. Tổng tài sản của Thuduc House chỉ còn 1.579 tỷ đồng tại thời điểm cuối năm 2021, giảm gần 63% sau một quý do giảm mạnh các chỉ tiêu phải thu, hàng tồn kho, tài sản cố định. CTCP Phát triển Nhà Thủ Đức (Thuduc House - Mã: TDH) đã công bố báo cáo tài chính hợp nhất quý IV/2021 ghi nhận năm thứ hai thua lỗ. Quý IV/2021, doanh thu thuần của Thuduc House giảm 97% về còn hơn 23 tỷ đồng. Giá vốn lên tới 192 tỷ khiến công ty ghi nhận lợi nhuận gộp âm 168 tỷ đồng. Doanh thu hoạt động tài chính âm 145 tỷ cùng các chi phí gia tăng, đặc biệt xuất hiện khoản phạt thuế gần 258 tỷ đồng trong kỳ nên Thuduc House lỗ sau thuế tới 774 tỷ đồng quý IV. Lỗ ròng 782 tỷ đồng. Cả năm 2021, doanh thu thuần của Thuduc House giảm 75% còn 487 tỷ đồng. Lỗ sau thuế 525 tỷ, riêng lỗ của công ty mẹ là 576 tỷ đồng. Đây là năm thứ hai liên tiếp Thuduc House ghi nhận thua lỗ và cũng là mức lỗ kỷ lục của công ty, năm 2020 công ty lỗ ròng 363 tỷ. Năm 2021, công ty lên kế hoạch tổng doanh thu năm 2021 là 1.715 tỷ đồng, lợi nhuận sau thuế là 275 tỷ đồng. So với kế hoạch đề ra, công ty đã thực hiện được 28% chỉ tiêu doanh thu và không đạt kế hoạch có lãi.  Nói thêm về khoản phạt thuế năm 2021, ngày 21/12/2021, Thuduc House đã công bố quyết định của Cục thuế TP HCM về áp dụng các biện pháp khắc phục hậu quả do vi phạm hành chính thời kỳ thanh tra 2017 - 2018. Trong đó, Thuduc House bị truy thu số tiền thuế giá trị gia tăng là gần 20,8 tỷ đồng, tiền nộp chậm thuế giá trị gia tăng gần 9,6 tỷ đồng và điều chỉnh giảm khấu trừ tiền thuế giá trị gia tăng 67,5 tỷ đồng. Như vậy, tổng số tiền Thuduc House phải nộp do truy thu thuế là gần 98 tỷ đồng.  Trong đó, công ty dự kiến trích lập dự phòng toàn bộ chi phí thuế giá trị gia tăng liên quan đến hoạt động kinh doanh linh kiện điện tử từ năm 2017 - 2019 vào báo cáo tài chính năm 2021. Chỉ cách đây một tuần, Thuduc House lại công bố nhận được các quyết định của Cục thuế TP HCM về việc cưỡng chế thi hành quyết định hàng chính về quản lý thuế với số tiền 111,4 tỷ đồng. Về tình hình tài chính, tổng tài sản của Thuduc House là 1.579 tỷ đồng tại ngày 31/12/2021, giảm gần 72% so với đầu năm và giảm gần 63% sau một quý. Các chỉ tiêu phải thu, hàng tồn kho, tài sản cố định ghi nhận giảm mạnh trong quý IV. Đáng chú ý, tính tới cuối năm 2021, Thuduc House đã sạch nợ vay, trong khi cuối quý III/2021, công ty vẫn còn 254 tỷ đồng. Theo báo cáo lưu chuyển tiền tệ, trong năm qua, công ty chỉ vay thêm 227 tỷ nhưng chi tới 1.223 tỷ đồng để trả nợ gốc vay. Vốn chủ sở hữu tính tới hết quý IV chỉ còn gần 735 tỷ đồng, giảm 71% sau một quý do khoản lỗ luỹ kế tính tới hết năm ngoái là 591 tỷ. Bên cạnh đó, quỹ đầu tư phát triển của công ty chỉ còn chưa tới 9 tỷ, giảm 270 tỷ sau một quý.\n",
            "Predicted Label: ['TDH']\n",
            "True Label: ['TDH']\n",
            "========================================\n",
            "Content: Eximbank: Lãi trước thuế quý 2 gần 1,094 tỷ đồng, gấp 3.2 lần cùng kỳ. BCTC hợp nhất quý 2/2022 cho thấy Ngân hàng TMCP Xuất Nhập Khẩu Việt Nam (Eximbank, HOSE: EIB) báo lãi trước thuế gần 1,094 tỷ đồng, gấp 3.2 lần cùng kỳ.  Nhìn chung, trong quý 2, các hoạt động kinh doanh của Eximbank đều tăng trưởng so với cùng kỳ năm trước. Hoạt động chính đem về gần 1,418 tỷ đồng thu nhập lãi thuần, tăng 44%.  Các nguồn thu ngoài lãi đều tăng trưởng so cùng kỳ như lãi từ dịch vụ (+47%), lãi từ kinh doanh ngoại hối (+16%), lãi từ hoạt động khác (gấp 4.4 lần)… Quý này, Ngân hàng chỉ tăng 6% chi phí dự phòng rủi ro tín dụng (130 tỷ đồng), do đó Eximbank báo lãi trước thuế gần 1,094 tỷ đồng, gấp 3.2 lần cùng kỳ.  Lũy kế 6 tháng đầu năm, Eximbank giảm 35% chi phí dự phòng rủi ro tín dụng, chỉ còn trích hơn 288 tỷ đồng. Kết quả, Ngân hàng báo lãi trước thuế gần 1,903 tỷ đồng, gấp 3.4 lần cùng kỳ. So với kế hoạch 2,500 tỷ đồng lợi nhuận trước thuế được đề ra cho cả năm 2022, Eximbank đã thực hiện được 76% sau nửa đầu năm. Tính đến cuối quý 2, tổng tài sản Eximbank tăng 5% so với đầu năm, lên mức 174,582 tỷ đồng. Cho vay khách hàng tăng 9% (124,528 tỷ đồng) và tiền gửi khách hàng tăng 3% (141,494 tỷ đồng). Tổng nợ xấu tính đến ngày 30/06/2022 tăng 4% so với đầu năm, ghi nhận 2,343 tỷ đồng. Trong đó, có sự dịch chuyển từ nợ dưới tiêu chuẩn và nợ nghi ngờ sang nợ có khả năng mất vốn. Kết quả, tỷ lệ nợ xấu trên dư nợ vay giảm nhẹ từ 1.96% đầu năm xuống còn 1.88%. \n",
            "Predicted Label: ['STB']\n",
            "True Label: ['EIB']\n",
            "========================================\n",
            "Content: Quý II/2022: Thaiholdings giảm mạnh lãi vay, báo lãi thuần hơn 350 tỷ đồng. Lợi nhuận thuần 6 tháng đầu năm của Thaiholdings đạt hơn 350 tỷ đồng, tăng trưởng khoảng 7% so với cùng kỳ 2021. Công ty cổ phần Thaiholdings (Mã: THD) vừa công bố báo cáo tài chính quý II/2022 với lợi nhuận sau thuế đạt 132 tỷ đồng, gấp gần 4,45 lần so với cùng kỳ năm trước. Có được kết quả này là nhờ doanh thu hoạt động tài chính tăng lên hơn 241 tỷ đồng, đến từ lãi chuyển nhượng khoản đầu tư Công ty Cổ phần Tôn Đản Hà Nội. Trong quý II, công ty tiến hành thoái 70 triệu cổ phần của Tôn Đản Hà Nội với tổng giá chuyển nhượng 1.204 tỷ đồng, giá gốc chuyển nhượng 1.151 tỷ đồng. Sau giao dịch, Tôn Đản Hà Nội từ công ty con thành công ty liên kết của Thaiholdings, với tỷ lệ sở hữu 30,28%. Bên cạnh thương vụ Tôn Đản, vào ngày 22/6, Thaiholdings còn thực hiện chuyển nhượng phần vốn góp của Công ty TNHH Đầu tư Thương mại và dịch vụ Bãi Thơm – Phú Quốc (trước đây là Công ty cổ phần Thaispace). Tổng giá trị vốn góp chuyển nhượng là 392 tỷ đồng, tới thời điểm 30/6 công ty đã nhận được số tiền chuyển nhượng 176 tỷ đồng. Kết quả việc thoái vốn đầu tư dẫn đến công ty chỉ còn nắm 9,25% vốn điều lệ của công ty Bãi Thơm – Phú Quốc. Thaiholdings cho biết sẽ hoàn tất việc chuyển nhượng vốn trong quý III/2022. Tại Đại hội đồng cổ đông thường niên năm 2022, việc thoái vốn các công ty cũng đã nằm trong kế hoạch của ban lãnh đạo Thaiholdings. Không chỉ gia tăng lợi nhuận, mà bức tranh tài chính của Thaiholdings trên bảng cân đối kế toán cũng được cải thiện, mà đáng chú ý nhất là việc tích cực giảm vay nợ. Cụ thể, Thaiholdings đã tất toán khoản nợ dài hạn 632 tỷ đồng tại SHB, giảm 300 tỷ đồng vay ngắn hạn tại Agribank và giảm 274 tỷ đồng vay ngắn hạn các cá nhân. Nhờ đó, tổng vay nợ chỉ còn 1.091 tỷ đồng tại ngày 30/6, nên trong nửa đầu năm nay Thaiholdings chỉ phải trả 58 tỷ đồng lãi vay, trong khi 6 tháng năm ngoái con số này lên tới 169 tỷ đồng. Như vậy, hệ số vốn chủ sở hữu của Thaiholdings thời điểm hiện tại đã được nâng lên 0,7 tăng mạnh so với mức 0,54 hồi đầu năm. Lũy kế 6 tháng đầu năm, Thaiholdings đạt doanh thu thuần 2.685 tỷ đồng, lợi nhuận thuần hơn 350 tỷ đồng. So với kế hoạch kinh doanh cả năm, Thaiholdings đã hoàn thành khoảng 30% các chỉ tiêu đề ra.\n",
            "Predicted Label: ['CKG']\n",
            "True Label: ['THD']\n",
            "========================================\n",
            "Content: Hậu chuyển sàn HOSE, Viglacera báo lãi tháng 5 tăng 51% so cùng kì. Quý II/2019, Viglacera đặt chỉ tiêu lợi nhuận trước thuế kế hoạch đạt 290 tỉ đồng, lũy kế 6 tháng đạt 516 tỉ đồng, thực hiện 54% kế hoạch năm. Báo cáo kết quả kinh doanh tháng  5 của Tổng Công ty Viglacera – CTCP (Mã: VGC), lợi nhuận toàn Tổng công ty đạt kế hoạch tháng và tăng 51%  so với cùng kỳ. Quý II năm nay, Viglacera đặt chỉ  tiêu doanh thu hợp nhất 2.421 tỉ đồng. Dự kiến 6 tháng đầu năm đạt doanh thu 4.690  tỉ đồng, thực hiện 50% kế hoạch năm. Về lợi nhuận trước thuế kế hoạch đạt 290 tỉ  đồng trong quý II. Dự kiến 6 tháng đầu năm, lãi trước thuế đạt 516 tỉ đồng, thực  hiện 54% kế hoạch năm, tăng 15% so với nửa đầu năm 2018.  Bên cạnh đó, giá trị sản xuất  kinh doanh toàn Tổng công ty kế hoạch quý II là 5.283 tỷ đồng; Dự kiến 6 tháng  đầu năm đạt 9.458 tỷ đồng, bằng 53% kế hoạch năm. Về hoạt động bất động sản – khu công  nghiệp, trong quý II, Viglacera đặt kế hoạch Hoàn thiện thủ tục pháp lý cần thiết  đối với các dự án khu công nghiệp đang chuẩn bị triển khai (KCN Yên Phong IIC,  Yên Mỹ, Đồng Văn mở rộng, Thuận Thành). Cổ phiếu VGC niêm yết trên HOSE cuối tháng 5. Nguồn: VGC Về dự án Khu du lịch sinh thái  Vân Hải, công ty Đẩy nhanh tiến độ triển khai dự án giai đoạn 1 (35ha): khu biệt  thự, cảnh quan và hạ tầng kỹ thuật ngoài nhà; Triển khai ý tưởng thiết kế và  hoàn thành thiết kế kỹ thuật Khu khách sạn, dịch vụ, phụ trợ để thi cồng trong  quý in/2019; Chuẩn bị đầu tư giai đoạn 2 (40ha) và m ở rộng dự án khu du lịch  (121ha) và Triển khai tuyển dụng, đào tạo, chuẩn bị các điều kiện cần thiết cho  dự án vận hành. Được biết, cuối tháng 6, Viglacera  sẽ tổ chức Đại hội đồng cổ đông  thường niên năm 2018. Thông  tin thêm, ngày 29/5 vừa qua, hơn 448 triệu cổ phiếu VGC của Viglacera đã chuyển  niêm yết từ HNX sang HOSE.\n",
            "Predicted Label: ['VGC']\n",
            "True Label: ['VGC']\n",
            "========================================\n",
            "Content: Khải Hoàn Land (KHG) tự tin hoàn thành và có thể vượt kế hoạch năm\"(ĐTCK) Khẳng định trên được ông Phùng Quang Hải, Thành viên HĐQT, Phó tổng giám đốc CTCP Tập đoàn Khải Hoàn Land (KHG – sàn HOSE) chia sẻ tại Talkshow Chọn danh mục kỳ 13: “Cổ đất” sau giai đoạn tiền dễ, tiền rẻ được Báo Đầu tư Chứng khoán tổ chức ngày 21/7.Theo ông Hải, Khải Hoàn Land với nền tảng là môi giới bất động sản nên có đặc thù các ghi nhận doanh thu và lợi nhuận riêng. Kết quả 6 tháng không phản ánh hết nội tại doanh nghiệp, mà chỉ mang tính thời điểm.Kết quả 6 tháng đầu năm 2022, KHG ước doanh thu về mảng môi giới gần 500 tỷ đồng, lợi nhuận sau thuế khoảng 128 tỷ đồng, tăng trưởng 150% về doanh thu và 232% về lợi nhuận.Về nguồn tài chính cho giai đoạn sắp tới, ông Hải cho biết, Khải Hoàn Land đã có lưu ý từ rất sớm khi thấy có tính tương quan tương đồng giữa thị trường bất động sản Việt Nam và Trung Quốc. Trong những năm qua, KHG chú trọng gia nội lực thông qua tăng vốn hơn là huy động vốn vay, tỷ trọng vốn tín dụng và trái phiếu chiếm tỷ lệ lần lượt là 2,6 và 12% tổng nguồn vốn KHG. Nguồn vốn này Khải Hoàn Land sử dụng để bao tiêu các dự án từ các chủ đầu tư uy tín và thực hiện các thương vụ như mua sỉ bán lẻ, các dự án M&A. Đặc biệt các dự án Công ty đang phân phối, đa số về mảng môi giới, KHG là đối tác chiến lược của các chủ đầu tư lớn trên thị trường Việt Nam hiện nay. Điều này đã giúp KHG có giỏ hàng đa dạng và có sự cạnh tranh trong bối cảnh thị trường khan hiếm nguồn cung.“Chúng tôi luôn đảm bảo cho khách hàng là đưa ra sản phẩm sạch, đáp ứng được nhu cầu thực của khách hàng. Điều này giúp chúng tôi tự tin hoàn thành và có thể vượt kế hoạch kinh doanh đề ra tại ĐHCĐ thường niên năm 2022”, ông Hải nhấn mạnh.\n",
            "Predicted Label: ['KHG']\n",
            "True Label: ['KHG']\n",
            "========================================\n",
            "Content: Vietjet báo lãi hai quý liên tục, số chuyến bay gấp rưỡi cùng kỳ. Sau khi lỗ ròng trong quý IV, Vietjet đã ghi nhận lợi nhuận dương trong cả hai quý đầu năm 2022. Tuy nhiên, giá nhiên liệu cao cũng ảnh hưởng không nhỏ tới hoạt động của hãng bay này. Công ty cổ phần Hàng không Vietjet (Mã: VJC) cho biết: Trong quý II vừa qua, doanh thu hợp nhất đạt 11.590 tỷ đồng, tăng trưởng 227% so với cùng kỳ năm trước nhờ vào nhu cầu đi lại đang trên đà phục hồi mạnh, đặc biệt là các chặng nội địa tăng hơn 30% so với cùng kỳ năm 2019 khi COVID chưa bùng phát. Lợi nhuận sau thuế hợp nhất đạt 181 tỷ đồng, thấp hơn quý đầu năm nhưng cao gấp 40 lần cùng kỳ 2021. Biểu đồ bên dưới cho thấy đây là quý có lãi thứ 2 liên tiếp của Vietjet sau khi báo lỗ trong quý IV năm ngoái. Vietjet đã thực hiện gần 33.000 chuyến bay và vận chuyển 6 triệu lượt khách, tăng lần lượt 135% và 200% so với quý II/2021. Tổng sản lượng hàng hóa vận chuyển đạt hơn 11.000 tấn. Lũy kế 6 tháng đầu năm 2022, Vietjet ghi nhận doanh thu hợp nhất 16.112 tỷ đồng và lợi nhuận sau thuế 426 tỷ đồng, hãng bay của Tổng Giám đốc Nguyễn Thị Phương Thảo cho hay. Đến thời điểm hiện tại, website Vietjet Air đã đăng tải giải trình biến động kết quả kinh doanh nhưng chưa công bố báo cáo tài chính hợp nhất quý II. Theo số liệu từ Cục Hàng không Việt Nam, Vietjet khai thác tổng cộng 51.483 chuyến bay trong nửa đầu năm 2022, tăng trưởng gần 52% so với 6 tháng 2021. Biểu đồ dưới đây cho thấy tốc độ hồi phục số chuyến bay của Vietjet xấp xỉ với Vietnam Airlines. Vietjet cho biết việc giá xăng dầu tăng mạnh trong khi phụ thu xăng dầu giữ nguyên đã ảnh hưởng đến kết quả hoạt động kinh doanh của công ty. Theo thống kê của Cơ quan Thông tin Năng lượng Mỹ (EIA), giá nhiên liệu bay Jet A1 trung bình trong 6 tháng đầu 2022 là gần 145 USD/thùng. Trong tháng 6 và 7, có lúc giá còn vượt 160 - 170 USD/thùng, cao gấp nhiều lần mức bình quân 72 USD/thùng của năm 2021. Một doanh nghiệp khác trong ngành hàng không là Vietnam Airlines (Mã: HVN) cũng coi việc giá nhiên liệu lên cao là yếu tố ảnh hưởng tiêu cực tới kết quả kinh doanh quý II cũng như cả năm 2022. Quý vừa qua, Vietnam Airlines ghi nhận lỗ sau thuế hợp nhất 2.568 tỷ đồng, giảm 43% so với số lỗ cùng kỳ 2021. Nếu giá nhiên liệu không quá cao, khoản lỗ của Vietnam Airlines nhiều khả năng đã thấp hơn con số trên. Năm 2022, Vietnam Airlines lên kế hoạch lỗ sau thuế của công ty mẹ khoảng 9.335 tỷ đồng. Kế toán trưởng Trần Thanh Hiền ước tính nếu giá nhiên liệu trung bình năm nay là 80 USD/thùng, tức là không chênh quá nhiều so với mức 72 USD/thùng của năm ngoái, thì Vietnam Airlines sẽ chỉ lỗ tối đa 3.000 – 4.000 tỷ.\n",
            "Predicted Label: ['VJC']\n",
            "True Label: ['VJC']\n",
            "========================================\n",
            "Content: HQC muốn tăng vốn 600 tỷ cho dự án nhà ở xã hội tại Tây Ninh. HĐQT CTCP Tư vấn Thương mại Dịch vụ Địa Ốc Hoàng Quân (HOSE: HQC) vừa thông qua việc sửa đổi, bổ sung nội dung tờ trình ĐHĐCĐ thường niên 2023, liên quan đến việc thay đổi cơ cấu mục đích sử dụng vốn từ đợt chào bán riêng lẻ 100 triệu cp, với giá 10,000 đồng/cp. * HQC đính chính Công ty Thành Phố Vàng là đơn vị có liên quan * Bí ẩn Công ty Thành Phố Vàng mà HQC dự kiến huy động 1,000 tỷ đồng để mua Theo đó, HQC sẽ dùng toàn bộ số tiền dự kiến thu được 1,000 tỷ đồng để mua cổ phần CTCP Đầu tư Thành phố Vàng như kế hoạch cũ, song mức phân bổ vốn có sự thay đổi.  Cụ thể, Công ty sẽ dùng 400 tỷ đồng để nhận chuyển nhượng 40 triệu cp tại CTCP Đầu tư Thành phố Vàng từ cổ đông hiện hữu, với giá 10,000 đồng/cp, thay vì 650 tỷ đồng như kế hoạch cũ. Còn lại 600 tỷ đồng sẽ được HQC dùng để mua cổ phần trong đợt chào bán cổ phần riêng lẻ của CTCP Đầu tư Thành phố Vàng (kế hoạch cũ dự chi 350 tỷ đồng), nhằm bổ sung vốn thực hiện dự án Chung cư Nhà ở xã hội (NOXH) Thành phố Vàng (dự án Golden City tại tỉnh Tây Ninh).  Trước đó, phương án chào bán riêng lẻ 100 triệu cp giá 10,000 đồng/cp đã được thông qua tại ĐHĐCĐ thường niên 2022, và HĐQT đã nộp hồ sơ chào bán cổ phiếu riêng lẻ lên UBCKNN. Tuy nhiên, hồ sơ đang tạm dừng xem xét do cần bổ sung tiến độ triển khai Dự án chung cư NOXH Thành phố Vàng. Dự kiến, Dự án này sẽ được Cơ quan có thẩm quyền cho phép gia hạn tiến độ và hoàn thành trong thời gian tới. Do đó, HĐQT trình cổ đông thông qua việc tiếp tục thực hiện chào bán cổ phiếu sau khi dự án được gia hạn tiến độ. ​Trong tài liệu dự kiến trình cổ đông trước đó, HQC đặt mục tiêu doanh thu và lợi nhuận năm 2023 tăng trưởng vượt bậc, gấp lần lượt 5.1 lần và 7.4 lần kết quả năm 2022, dự kiến đạt 1,700 tỷ đồng doanh thu và 140 tỷ đồng lãi sau thuế. Kế hoạch tham vọng trên được căn cứ trên cơ sở những chính sách về Nhà ở xã hội được Chính phủ ủng hộ, thích hợp với xu thế phát triển cùng thế mạnh có sẵn trong lĩnh vực này, HQC cho biết Công ty sẽ đẩy mạnh tìm kiếm thêm dự án, phát triển, hoàn thiện các dự án nhà ở xã hội, nhà ở cho công nhân tại các khu công nghiệp. Giai đoạn 2023-2030, HQC đặt mục tiêu hoàn thành 50,000 sản phẩm nhà ở xã hội, nhà ở cho người có thu nhập thấp đã đăng ký đầu tư.  Đáng chú ý, tính tới ngày 31/12/2022, lợi nhuận sau thuế chưa phân phối của HQC hơn 49 tỷ đồng, HĐQT quyết định trình cổ đông thông qua trích lập các quỹ hơn 188 triệu đồng và bỏ ngỏ kế hoạch trả cổ tức. *HQC đặt kế hoạch tham vọng lãi gấp 7 lần, tiếp tục chào bán riêng lẻ 100 triệu cp\n",
            "Predicted Label: ['CKG']\n",
            "True Label: ['HQC']\n",
            "========================================\n",
            "Content: HAG ước lãi sau thuế 10 tháng vượt 1,000 tỷ đồng . Theo báo cáo cập nhật kết quả kinh doanh, tháng 10, CTCP Hoàng Anh Gia Lai (HOSE: HAG) ghi nhận doanh thu thuần 467 tỷ đồng và lãi sau thuế đạt 107 tỷ đồng, giảm lần lượt 2% và 5% so với tháng 9; song lãi sau thuế 10 tháng vượt 1,000 tỷ đồng.  Tháng 10, sản lượng tiêu thụ ngành chăn nuôi đạt 36,644 con heo thịt và 39,274 tấn ngành cây ăn trái. Trong đó, sản lượng chuối xuất khẩu đạt 11,407 tấn; sản lượng chuối dùng cho sản xuất thức ăn gia súc đạt 27,867 tấn.   So với tháng 9, sản lượng tiêu thụ tháng 10 tăng ở cả ngành chăn nuôi và cây ăn trái. Song, doanh thu thuần giảm nhẹ gần 2% so với tháng trước, còn 467 tỷ đồng. Trong đó, mảng chăn nuôi đạt 214 tỷ đồng, mảng cây ăn trái đạt 221 tỷ đồng, mảng phụ trợ đạt 32 tỷ đồng. HAG cho biết kết quả tháng 10 thu được trong bối cảnh giá xuất khẩu chuối chưa tăng cao như kỳ vọng, giá heo thấp hơn tháng trước, do đó lãi sau thuế tháng 10 chỉ đạt 107 tỷ đồng, giảm 5% so với tháng 9. Lũy kế 10 tháng đầu năm, HAG ghi nhận doanh thu thuần 3,650 tỷ đồng và lãi sau thuế 1,001 tỷ đồng (thực hiện được 89% kế hoạch năm).   Năm 2022, HAG dự kiến đem về 4,800 tỷ đồng doanh thu và 1,120 tỷ đồng lãi sau thuế, lần lượt tăng 29% và gấp gần 9 lần thực hiện năm 2021.\n",
            "Predicted Label: ['HAG']\n",
            "True Label: ['HAG']\n",
            "========================================\n",
            "Content: Một nhà máy điện gió ở Quảng Trị vừa hút về hơn 900 tỷ đồng trái phiếu. Thời gian gần đây, nhiều dự án năng lượng nói chung cũng như điện gió nói riêng đang tranh thủ huy động vốn từ kênh trái phiếu, đẩy nhanh tiến độ công trình nhằm kịp hưởng giá FIT. Một dự án điện gió đang triển khai tại huyện miền núi Hướng Hóa, Quảng Trị. (Ảnh minh họa: TTXVN). Ngày 14/9, CTCP Điện gió Phong Liệu vừa huy động xong 914 tỷ đồng trái phiếu với kỳ hạn 14 năm, đáo hạn vào 2/4/2035. Đây là loại trái phiếu không chuyển đổi, không kèm chứng quyền và có tài sản đảm bảo. Lãi suất được áp dụng cho 4 kỳ thanh toán lãi đầu tiên là 8%/năm. Các kỳ tiếp theo (cho mỗi giai đoạn ba tháng) được tính bằng lãi suất tiền gửi tiết kiệm cá nhân kỳ hạn 24 tháng cộng với biên độ 2,9%/năm. Chi tiết tài sản đảm bảo lô trái phiếu của Điện gió Phong Liệu. (Nguồn: Sở giao dịch Chứng khoán Hà Nội). Số tiền huy động được nhằm thanh toán các chi phí xây dựng và thiết bị để thực hiện dự án Nhà máy Điện gió Phong Liệu tại xã Tân Thành và Hướng Tân, huyện Hướng Hóa, tỉnh Quảng Trị. Kết quả, một tổ chức tín dụng trong nước đã mua lại số trái phiếu phát hành. CTCP Chứng khoán MB và Ngân hàng TMCP Quân Đội (MB Bank - Mã: MBB) là bên đứng ra sắp xếp thương vụ. Theo tìm hiểu, dự án Nhà máy Điện gió Phong Liệu do Công ty Điện gió Phong Liệu làm chủ đầu tư, có công suất 48 MW với tổng mức đầu tư 1.600 tỷ đồng.  Dự án được chấp thuận chủ trương đầu tư tháng 9/2019 với diện tích đất sử dụng là 16,51 ha (đất sử dụng tạm thời 9,2 ha) và chính thức khởi công vào ngày cuối năm 2019. Dự kiến tháng 10 tới đây sẽ tiến hành thí nghiệm, hiệu chỉnh và nghiệm thu hoàn thành đóng điện, vận hành phát điện. Tỉnh Quảng Trị là địa phương thường thu hút nhiều nhà đầu tư các dự án điện gió do đặc điểm có gió phơn Tây Nam khô nóng vào mùa hè (gió Lào).  Riêng trong năm nay, tỉnh miền Trung này đã cấp chủ trương đầu tư cho 28/31 dự án điện gió, trong đó có hai dự án với tổng công suất 60 MW đã đi vào hoạt động (Điện gió Hướng Linh 1 và Hướng Linh 2); 26 dự án còn lại với tổng công suất 1.027,2 MW đang triển khai đầu tư. Hiện tại, có 16 dự án điện gió tại tỉnh đang cố gắng hoàn thành trước ngày 31/10 để kịp hưởng giá FIT.\n",
            "Predicted Label: ['HDG']\n",
            "True Label: ['MBB']\n",
            "========================================\n",
            "Content: Vinamilk kì vọng doanh thu tăng trưởng ổn định 5 - 8% trong vài năm tới. Theo ban lãnh đạo của Vinamilk, công ty hiện đối mặt với tác động kép từ dịch COVID-19 lên các thị trường xuất khẩu như Mỹ, Trung Đông và lũ lụt miền Trung - khu vực chiếm 20% doanh số trong nước của Vinamilk. Tuy nhiên, Vinamilk cho biết doanh thu công ty vẫn có thể tăng trưởng tự nhiên 5 - 8% trong vài năm tới. Ảnh: Ánh Hường Trong báo cáo gặp gỡ nhà đầu tư với CTCP Sửa Việt Nam (Vinamilk - Mã: VNM) được Chứng khoán Bản Việt (VCSC) công bố mới đây, ban lãnh đạo Vinamilk cho biết doanh thu công ty có thể tăng trưởng tự nhiên 5 - 8% trong vài năm tới.  Tiềm năng tăng trưởng của ngành bao gồm gia tăng lượng tiêu thụ sữa đầu người tại Việt Nam, đặc biệt là ở khu vực nông thôn cũng như các mặt hàng đang có tỉ lệ thâm nhập thấp như phô mai, bơ và sữa chua. Bên cạnh đó là xu hướng cao cấp hóa, dù xu hướng này đã phần nào chững lại bởi dịch COVID-19. Vinamilk kì vọng giá sữa bột đầu vào trong năm 2021 sẽ đi ngang hoặc giảm so với năm 2020. Theo Vinamilk, triển vọng tình hình giá bột sữa đầu vào sẽ dần trở nên rõ ràng hơn khi công ty thương lượng hợp đồng với các nhà cung cấp vào cuối năm nay. Kênh bán hàng hiện đại (MT) của Vinamilk ghi nhận đà tăng trưởng nhanh hơn nhưng đóng góp doanh thu của kênh bán hàng truyền thống (GT) vẫn duy trì cao hơn đáng kể. Theo ban lãnh đạo, trong khi MT đã tăng trưởng nhanh chóng hơn nhờ tăng trưởng mạnh mẽ của các chuỗi siêu thị mini, GT (thường thống trị ở khu vực nông thôn) hiện vẫn chiếm 85% doanh số sữa trong nước hiện tại của Vinamilk. Về triển vọng quí IV/2020, ban lãnh đạo Vinamilk tỏ ra thận trọng trong bối cảnh chịu tác động kép từ dịch COVID-19 và lũ lụt tại miền Trung.  Theo Vinamilk, doanh số sữa trong nước đã phục hồi phần nào trong tháng 9 sau khi làn sóng thứ hai của dịch COVID-19 tại Việt Nam đã ảnh hưởng đến kết quả kinh doanh hai tháng trước đó.  Tuy nhiên, đợt lũ kỉ lục tại khu vực miền Trung (khu vực chiếm khoảng 20% doanh số trong nước của Vinamilk) có thể ảnh hưởng đến kết quả kinh doanh quí IV/2020.  Trong khi đó, ban lãnh đạo công ty thừa nhận các trở ngại tiềm năng tại các thị trường xuất khẩu chính như Trung Đông trong bối cảnh đại dịch. Ngoài ra, Driftwood, công ty con của Vinamilk tại Mỹ, tiếp tục chịu ảnh hưởng tiêu cực từ việc trường học đóng cửa tại Mỹ. Về tình hình bán hàng theo từng mảng, ban lãnh đạo cho thấy kết quả khả quan của mảng sữa chua, đặc biệt là dòng sản phẩm probiotic probi trong bối cảnh người tiêu dùng gia tăng nhận thức về sức khỏe. Kết quả, Vinamilk duy trì thị phần trong 9 tháng năm 2020 đạt 60% sản lượng và 54% giá trị. Tổng doanh thu 9 tháng của Vinamilk đạt 45.277 tỉ đồng và lợi nhuận sau thuế thu về 8.967 tỉ đồng, tương ứng tăng 7% cả về doanh thu và lợi nhuận sao với cùng kì. Với kế hoạch doanh thu năm nay đạt 59.600 tỉ đồng và lợi nhuận sau thuế 10.690 tỉ đồng, Vinamilk đã thực hiện được 76% kế hoạch doanh thu và 84% kế hoạch lợi nhuận năm. Theo VCSC, ban lãnh đạo Vinamilk cũng chia sẻ về kế hoạch đưa lên UPCoM cổ phiếu MCM của CTCP Giống bò sữa Mộc Châu (Mộc Châu Milk) vào cuối tháng 3/2021. Vinamilk để ngỏ khả năng chuyển niêm yết cổ phiếu MCM sang Sở Giao dịch Chứng khoán TP HCM (HOSE) sau đó.\n",
            "Predicted Label: ['VNM']\n",
            "True Label: ['VNM']\n",
            "========================================\n",
            "Content: Novaland sẽ phát hành gần 500 triệu cổ phiếu thưởng, tăng vốn điều lệ lên trên 1 tỷ USD. Ngoài phát hành cổ phiếu thưởng tỷ lệ tối đa 25%, Novaland có kế hoạch chia cổ tức bằng cổ phiếu tỷ lệ 10% qua đó tăng vốn điều lệ lên trên 26.000 tỷ đồng. Hội đồng quản trị CTCP Tập đoàn Đầu tư Địa ốc No Va (Novaland - Mã: NVL) vừa công bố nghị quyết triển khai phương án phát hành hơn 477 triệu cổ phiếu thưởng cho cổ đông hiện hữu với tỷ lệ 24,5% (tức cứ sở hữu 1.000 cổ phiếu được nhận thêm 245 cổ phiếu mới). Nguồn thực hiện từ thặng dư vốn cổ phần tại báo cáo tài chính đã kiểm toán 2021 là 5.023 tỷ đồng.  Thời điểm thực hiện trong năm 2022, sau khi được Uỷ ban chứng khoán chấp thuận. Nếu thành công, vốn điều lệ của Novaland sẽ tăng từ 19.498 tỷ đồng lên 24.275 tỷ đồng (tương đương 1,04 tỷ USD theo tỷ giá bán ngân hàng Vietcombank). Cổ phiếu NVL hiện đang ở quanh mức 75.000 đồng/cp, tương ứng mức vốn hóa thị trường 147 nghìn tỷ đồng. Sau phát hành cổ phiếu thưởng, số cổ phiếu lưu hành của Novaland sẽ tăng từ 1,95 tỷ cổ phiếu lên 2,43 tỷ cổ phiếu sau phát hành. Theo Nghị quyết Đại hội đồng cổ đông thường niên 2022, Novaland dự kiến chia cổ tức bằng cổ phiếu tỷ lệ 10% và thưởng cổ phiếu với tỷ lệ tối đa 25%. Vốn điều lệ dự kiến tăng lên hơn 26.000 tỷ đồng. Bên cạnh đó, tập đoàn có kế hoạch phát hành ESOP với tỷ lệ tối đa 1,5% số cổ phần đang lưu hành, thời điểm thực hiện trong quý II/2023. Năm nay, Novaland lên kế hoạch doanh thu thuần 35.974 tỷ đồng, tăng 141% so với kết quả năm trước; lãi sau thuế mục tiêu đạt 6.500 tỷ đồng, tăng 88%. Để thực hiện mục tiêu trên, trong năm 2022, Novaland tiếp tục phát triển 24 dự án đang được đầu tư xây dựng và phát triển mới 22 dự án. Bên cạnh một số địa phương quen thuộc như TP HCM, Đồng Nai, Bà Rịa - Vũng Tàu, Bình Thuận, trong danh mục các dự án được công bố còn có thêm các địa phương mới như Lâm Đồng, Khánh Hòa, Phú Yên...\n",
            "Predicted Label: ['NVL']\n",
            "True Label: ['NVL']\n",
            "========================================\n",
            "Content: Lợi nhuận năm 2021 của PV OIL cao kỷ lục. Giá dầu tăng trong năm qua được coi là nhân tố chính giúp PV OIL ghi nhận lợi nhuận năm cao kỷ lục bất chấp tác động của dịch COVID-19. Ảnh minh hoạ: PV OIL. Tại Hội nghị Tổng kết công tác Đảng, hoạt động sản xuất kinh doanh năm 2021 và Hội nghị Người lao động năm 2022, Tổng Công ty Dầu Việt Nam - CTCP (PV OIL - Mã: OIL) cho biết doanh thu hợp nhất năm 2021 ước đạt 55.000 tỷ đồng, hoàn thành 98,7% kế hoạch năm và tăng 8,8% so với cùng kỳ năm 2020. Lợi nhuận trước thuế hợp nhất ước đạt 884 tỷ đồng, vượt 121% mục tiêu năm trong khi năm 2020 lỗ gần 111 tỷ đồng. Doanh thu công ty mẹ ước đạt 32.522 tỷ đồng, tăng 55,2% so với cùng kỳ năm ngoái và vượt 20,5% kế hoạch năm. Lợi nhuận trước thuế công ty mẹ khoảng 754 tỷ đồng, hoàn thành 251% chỉ tiêu năm; công ty con ước đạt 160 tỷ đồng, vượt 1% mục tiêu năm. Tính riêng quý IV, doanh thu hợp nhất của PV OIL ước đạt 17.191 tỷ đồng, lãi trước thuế 269 tỷ đồng; tăng lần lượt 89% và gần 49% so với cùng kỳ năm ngoái. Mặc dù sức tiêu thụ của thị trường sụt giảm nghiêm trọng do ảnh hưởng nặng nề của dịch bệnh COVID-19 nhưng tổng sản lượng kinh doanh của PVOIL vẫn đạt 97,5% kế hoạch năm; lợi nhuận hợp nhất toàn tổng công ty đạt mức cao kỷ lục, vượt 2,4 lần so với kế hoạch năm. Một yếu tố giúp PV OIL báo lãi kỷ lục bất chấp tác động của dịch bệnh là giá dầu tăng mạnh trong năm 2021. Với lượng tồn kho vào thời điểm cuối tháng 9 ước đạt 450.000 tấn thành phẩm xăng dầu, Chứng khoán Dầu khí cũng đánh giá biên lợi nhuận của PVOIL sẽ được cải thiện tích cực nhờ giá bán lẻ các sản phẩm xăng dầu có xu hướng tăng mạnh trong quý IV. Diễn biến giá dầu Brent một năm qua. (Nguồn: nasdaq.com) Trên thị trường chứng khoán, cổ phiếu OIL chốt phiên 21/12 ở mức 16.600 đồng/cp, tăng khoảng 29% so với đầu tháng 9. \n",
            "Predicted Label: ['GAS']\n",
            "True Label: ['OIL']\n",
            "========================================\n",
            "Content: VNDirect dự báo Hòa Phát tiếp tục lỗ trong quý 1. Trong báo cáo cập nhật mới nhất, CTCK VNDirect dự báo Hòa Phát tiếp tục ghi nhận kết quả kinh doanh ảm đạm trong nửa đầu năm 2023, nhưng sẽ hồi phục mạnh trong nửa cuối năm.  Kế hoạch năm 2023 thận trọng Theo kế hoạch của ban lãnh đạo, doanh thu và lợi nhuận sau thuế của Hòa Phát năm 2023 lần lượt là 150,000 tỷ đồng (tăng 6.1% so với cùng kỳ) và 8,000 tỷ đồng (giảm 5.7% so với cùng kỳ). Các chuyên viên phân tích VNDirect cũng lưu ý 2022 là năm đầu tiên sau 10 năm, Hòa Phát không hoàn thành kế hoạch lợi nhuận sau thuế được Đại hội cổ đông giao. Trong giai đoạn 2012-2021, Hòa Phát thường xuyên vượt kế hoạch lợi nhuận sau thuế với mức trung bình là 47%.  Do đó, VNDirect cho rằng kế hoạch kinh doanh năm 2023 được lập trên cơ sở thận trọng của ban lãnh đạo Công ty, đặc biệt trong bối cảnh giá nguyên liệu đầu vào biến động và nhu cầu thép yếu như hiện nay. Nhìn về phía trước, các chuyên viên dự báo sản lượng tiêu thụ thép năm 2023 của Hòa Phát sẽ giảm 8% so với cùng kỳ và sau đó phục hồi mạnh 15% trong năm 2024.  Theo xu hướng của ngành thép Việt Nam, sản lượng tiêu thụ của Hòa Phát trong quý 4/2022 chỉ đạt 1.75 triệu tấn, giảm 31% so với cùng kỳ và 12% so với quý trước đó. Trong đó, mức bán hàng giảm ở tất cả nhóm sản phẩm, cụ thể là thép xây dựng giảm 24.9% so với cùng kỳ, HRC giảm 5.9%, tôn mạ giảm 49% và ống thép giảm 2.9%. Mặc dù tăng trưởng sản lượng tiêu thụ thép xây dựng của Hòa Phát năm 2022 vượt trội so với toàn ngành, VNDirect vẫn điều chỉnh dự phóng sản lượng bán hàng trong năm 2023 xuống 3.9 triệu tấn, giảm 8.3% so với cùng kỳ và thấp hơn 16.8% so với dự phóng trước đó.  Các lò cao được kỳ vọng vận hành trở lại trong quý 2/2023 Hòa Phát mới chỉ vận hành trở lại 1 trong 4 lò cao tại Hải Dương từ ngày 27/12/2022. Do đó, sản lượng sản xuất của Công ty vẫn thấp trong 2 tháng đầu năm 2023, đạt 809 ngàn tấn (giảm 42% so với cùng kỳ).  Hiện tại, công ty vẫn còn 3 lò cao đang đóng và chưa có kế hoạch cụ thể cho việc vận hành trở lại. Điều này đồng nghĩa nhu cầu kỳ vọng trong ngắn hạn với các sản phẩm thép vẫn thấp. VNDirect kỳ vọng 3 lò cao còn lại sẽ bắt đầu hoạt động trở lại từ tháng 5/2023 và tăng dần hiệu suất hoạt động lên 90% kể từ tháng 9/2023. Do đó, sản lượng sản xuất thép thô của Hòa Phát năm 2023 sẽ đạt 7.16 triệu tấn (giảm 5% so với cùng kỳ).  Tăng trưởng lợi nhuận ròng sẽ được cải thiện trong quý 3/2023 VNDirect cho rằng lợi nhuận ròng của Hòa Phát vẫn ghi nhận mức thấp trong nửa đầu năm 2023, trước khi tăng trưởng tích cực trở lại từ quý 3/2023.   Các chuyên viên phân tích đề cập tới 3 yếu tố giúp Hòa Phát hồi phục mạnh: Sản lượng tiêu thụ thép tăng trở lại từ mức thấp của nửa cuối năm 2022, biên lợi nhuận gộp cải thiện khi giá nguyên liệu đầu vào giảm và dự phóng giảm giá hàng tồn kho thấp hơn, cải thiện lỗ ròng chi phí tài chính khi lỗ tỷ giá giảm mạnh. Theo diễn biến giá hàng hóa giao ngay (bao gồm giá thép, quặng sắt, than cốc và thép phế), VNDirect ước tính biên EBITDA của Hòa Phát trong quý 1/2023 thấp hơn 1.8 điểm phần trăm so với quý 4/2022.  Với nhu cầu yếu, VNDirect lo ngại khả năng chuyển rủi ro tăng giá nguyên liệu đầu vào của Hòa Phát sang phía người tiêu dùng cuối cùng. Bên cạnh đó, hiệu suất vận hành nhà máy thấp trong nửa đầu năm 2023 cũng sẽ tác động tới biên lợi nhuận của Công ty. Do đó, các chuyên viên phân tích dự phóng lợi nhuận ròng của Công ty có thể vẫn âm trong quý 1/2023. \n",
            "Predicted Label: ['HPG']\n",
            "True Label: ['HPG']\n",
            "========================================\n",
            "Content: Ông Bùi Thành Nhơn tín nhiệm trao quyền cho bộ máy mới của Novaland. Ông Bùi Thành Nhơn tập trung cho việc dẫn dắt và định hướng toàn bộ cho NovaGroup nên ông Bùi Xuân Huy sẽ giữ vị trí Chủ tịch HĐQT Novaland. Theo công bố thông tin từ CTCP Tập đoàn Địa ốc No Va (Novaland, Mã: NVL) ngày 20/1/2022, để tập trung lãnh đạo NovaGroup giai đoạn hậu tái cấu trúc, ông Bùi Thành Nhơn quyết định trao quyền và vị trí Chủ tịch HĐQT Novaland cho ông Bùi Xuân Huy.  Bên cạnh đó, HĐQT Novaland cũng công bố bổ nhiệm ông Nguyễn Ngọc Huyên vào vị trí Tổng Giám đốc, bổ nhiệm bà Dương Thị Thu Thủy và bà Võ Thị Cao Ly vào các vị trí Phó Tổng Giám đốc. Ông Bùi Thành Nhơn là nhà sáng lập và là Chủ tịch HĐQT NovaGroup. Ông Nhơn được ghi nhận là một trong những chủ doanh nghiệp tư nhân đầu tiên tại TP HCM khi thành lập Công ty TNHH Thành Nhơn từ năm 1992 - tiền thân của NovaGroup ngày nay. Ông Bùi Thành Nhơn tập trung cho việc dẫn dắt và định hướng toàn bộ cho NovaGroup.(Ảnh: Novaland). Từ \"nova\" bắt nguồn từ tiếng La Tinh – novator, có nghĩa là \"người cải tiến\"; cùng biểu tượng khối rubik xanh lá – tượng trưng cho sự năng động, sáng tạo. Ông Nhơn luôn chú trọng tìm kiếm và xây dựng đội ngũ nhân sự có giá trị cốt lõi \"Hiệu quả -     Chính trực – Chuyên nghiệp\", xây dựng hệ thống quản trị theo chuẩn mực quốc tế. Năm 2007, NovaGroup tái cấu trúc lần thứ nhất thành hai Tổng Công ty: Anova Corporation (lĩnh vực thuốc thú ý, sản phẩm nông nghiệp – thực phẩm…) và chính thức bước vào ngành BĐS với thương hiệu Novaland Group. Novaland phát triển Sunrise City (quận 7, TP HCM) - dự án khu phức hợp đầu tiên trong bối cảnh thị trường gặp nhiều khó khăn. Với quyết tâm xây dựng \"uy tín thương hiệu\", Novaland hoàn thành dự án đúng tiến độ và chất lượng như cam kết với khách hàng; qua     đó, mở ra lộ trình trở thành Nhà phát triển BĐS chuyên nghiệp Novaland với hơn 50 dự án, cùng hàng trăm tiện ích du lịch - giải trí - văn hóa - chăm sóc sức khỏe đang xây dựng tại TP HCM và nhiều tỉnh thành phía Nam. Năm 2016, 489 triệu cổ phiếu NVL chính thức niêm yết và Novaland trở thành doanh nghiệp BĐS lớn thứ 2 trên sàn giao dịch chứng khoán TP HCM.  Từ đó đến nay, Novaland liên tục duy trì vị trí trong nhóm VN30, nằm trong rổ chỉ số VNSI. Đồng thời, là một trong     số ít doanh nghiệp Việt Nam có uy tín cao trên thị trường vốn quốc tế khi đã hai lần niêm yết trái phiếu trên Sở Giao dịch Chứng khoán Singapore, cũng như có nhiều đối tác cấp vốn là ngân hàng, định chế tài chính tên tuổi như Credit Suisse AG, Standard     Chartered, DEG (Quỹ đầu tư thuộc Ngân hàng tái thiết Đức KFW)… Năm 2021, NovaGroup tái cấu trúc lần 2 với 8 Tổng Công ty thành viên: Novaland, Nova Service, Nova Consumer, Nova Tech, Nova Capital Partners, Nova Logistic, Nova Industry, Nova Finance.  NovaGroup xác định Sứ mệnh mới là: \"Bằng nguồn lực trong hệ sinh     thái của Tập đoàn; kết nối, hỗ trợ Doanh nghiệp Việt tạo ra những sản phẩm vượt trội, những dịch vụ trải nghiệm đẳng cấp để cùng hòa nhập vào cộng đồng quốc tế\". Qua đó, hướng đến tầm nhìn: \"Trở thành Tập đoàn đầu tư và phát triển kinh tế hàng đầu     Việt Nam hoạt động trong các lĩnh vực: Dịch vụ - Công nghệ - Công nghiệp\". Ông Bùi Thành Nhơn cho biết: \"Trước cột mốc mang tính bước ngoặt, cần kêu gọi sự hợp lực phát triển của nhiều bên, cũng như nhằm tạo đà cho chu kỳ tăng trưởng tiếp theo, tôi sẽ tập trung vào việc dẫn dắt và định hướng cho toàn bộ NovaGroup. Đối với thành     viên trụ cột Novaland, tôi tin tưởng trao quyền xây dựng chiến lược phát triển cho ông Bùi Xuân Huy cùng bộ máy điều hành quản lý mới\". Ban lãnh đạo mới Novaland nhận hoa từ ông Bùi Thành Nhơn. (Ảnh: Novaland). Tiếp quản vị trí Chủ tịch HĐQT Tập đoàn Novaland là ông Bùi Xuân Huy – người đã gắn bó với Novaland tròn 10 năm. Khẳng định tại Lễ nhậm chức, ông Huy nói: \"Novaland tiếp tục củng cố nội lực, kiên định với chiến lược dài hạn đã đặt ra, đảm bảo hoàn thành     đúng tiến độ các dự án của giai đoạn 2.  Sự thành công của các đại dự án này sẽ tạo bệ đỡ vững chắc cho sự phát triển của toàn hệ sinh thái NovaGroup, đồng thời góp phần sự phát triển đô thị, phát triển kinh tế và du lịch tại các địa phương mà Novaland     hướng đến\". Ông Huy được bổ nhiệm giữ chức Tổng Giám đốc Tập Đoàn Novaland trong hai nhiệm kỳ liên tục, từ tháng 9/2017 đến tháng 1/2022.  Đặc biệt, giai đoạn 2020 – 2021, trong bối cảnh thị trường BĐS và nền kinh tế nói chung gặp nhiều khó khăn do ảnh hưởng từ dịch     bệnh toàn cầu, ông Huy đã bản lĩnh điều hành hoạt động kinh doanh của tập đoàn phát triển bình ổn, đạt được các mục tiêu tăng trưởng trọng yếu như đã đặt ra tại các kỳ đại hội đồng cổ đông. Ông Bùi Xuân Huy tiếp quản vị trí Chủ tịch HĐQT Tập đoàn Novaland từ ngày 20/1/2022. (Ảnh: Novaland). Với sự tín nhiệm cao từ HĐQT, ông Huy được vinh danh là Lãnh đạo xuất sắc 6 năm liền. Ông cũng được ghi nhận là Doanh nhân BĐS tiêu biểu của năm 2020 và năm 2021 do Tạp chí Nhịp cầu Đầu tư bình chọn.  Thương hiệu Novaland những năm gần đây cũng liên tục     nhận được nhiều giải thưởng uy tín trong và ngoài nước, như: Nhà phát triển BĐS xuất sắc nhất Việt Nam 2021 (Tạp chí Euro Money), Nhà phát triển BĐS xuất sắc nhất 2021 (Tạp chí Nhịp cầu Đầu tư), Top 50 doanh nghiệp niêm yết tốt nhất 2021 (Forbes),     Nơi làm việc tốt nhất Châu Á, Top 10 Báo Cáo Thường Niên,... Ông Huy có hơn 27 năm kinh nghiệm trong lĩnh vực xây dựng và quản lý dự án, từng nắm giữ các chức vụ cấp cao tại các công ty xây dựng, tư vấn thiết kế và quản lý dự án đa quốc gia. Ông Nguyễn Ngọc Huyên sẽ giữ chức Tổng Giám đốc Tập Đoàn Novaland từ ngày 20/1/2022. Ông Huyên được bổ nhiệm làm Phó Tổng Giám đốc Tập Đoàn Novaland từ tháng 10/2021 trên cơ sở những đóng góp nổi bật trong công tác quán lý điều hành dự án cũng như năng     lực quản trị đầy tiềm năng. Ông Nguyễn Ngọc Huyên gia nhập Tập đoàn Novaland năm 2020, từng giữ chức Giám đốc Điều hành Dự án Đô thị. Ông Huyên đã có những đóng góp quan trọng về quy hoạch tổng thể và tham gia trực tiếp về mặt quản lý triển khai các dự án đô thị thông minh quy mô     lớn của Novaland.  Ông Huyên đã có gần 20 năm kinh nghiệm trong lĩnh vực quản lý xây dựng công trình dân dụng, tư vấn thiết kế, phát triển và quản lý dự án hạ tầng giao thông trọng điểm (Hầm vượt sông Sài Gòn, đại lộ Đông Tây TP HCM; Cao tốc TP HCM     - Long Thành – Dầu Giây…). Ông Nguyễn Ngọc Huyên, Tân Tổng Giám đốc Tập Đoàn Novaland. (Ảnh: Novaland). Phó Tổng Giám đốc Tập đoàn Novaland được bổ nhiệm đợt này là bà Dương Thị Thu Thủy – người đã có 14 năm đồng hành cùng Novaland. Bà Thủy gia nhập Novaland từ năm 2009. Đến năm 2016, Bà được bổ nhiệm chức vụ Giám đốc kinh doanh. Từ năm 2017 đến nay, bà     giữ chức danh Giám đốc Khối Thương mại.  Bà Dương Thị Thu Thủy được bổ nhiệm là Phó Tổng Giám đốc Tập đoàn Novaland. (Ảnh: Novaland). Bà Thủy là người dẫn dắt đội ngũ bán hàng và tiếp thị, hoạch định chiến lược kinh doanh, đảm bảo doanh số của hơn 50 dự án BĐS Novaland liên tục tăng trưởng, đạt được các kế hoạch kinh doanh đề ra trong nhiều năm liên tục.  Bà cũng là người có đóng góp     quan trọng về các giải pháp, sáng kiến phát triển sản phẩm tại các dự án trọng điểm như Aqua City, NovaWorld Phan Thiet, NovaWorld Ho Tram… Bên cạnh đó, bà Thủy định hình mô hình \"Quản lý quan hệ khách hàng – Business Account Management\" – qua đó nâng tầm chất lượng và hình ảnh mới cho đội ngũ kinh doanh Novaland.  Cùng với quá trình mở rộng thị trường phát triển dự án của Novaland, bà Thủy     phụ trách xây dựng mô hình kinh doanh đa kênh bao gồm: đội ngũ Quản lý quan hệ khách hàng, các đại lý phân phối và mở rộng tệp đối tác kinh doanh trong và ngoài nước. Bà Võ Thị Cao Ly, Phó Tổng Giám đốc Tập đoàn Novaland vừa được bổ nhiệm, gia nhập Novaland từ tháng 10/2015.  Bà Võ Thị Cao Ly được bổ nhiệm là Phó Tổng Giám đốc Tập đoàn Novaland. (Ảnh: Novaland). Bà Võ Thị Cao Ly có gần 15 năm kinh nghiệm trong lĩnh vực quản lý xây dựng, phát triển và quản lý dự án BĐS. Từ năm 2018, khi Novaland chính thức bước vào thị trường BĐS du lịch nghỉ dưỡng, Bà Ly tiếp nhận chức Giám đốc Khối điều hành Dự án Nghỉ dưỡng     và trực tiếp tham gia điều hành toàn bộ mảng quy hoạch, phát triển và xây dựng đến vận hành các dự án trọng điểm của Tập đoàn.  Bà Ly có thành tích nổi bật trong việc dẫn dắt đội ngũ hoàn thành đúng tiến độ loạt Đô thị Du lịch quy mô lớn như NovaWorld     Phan Thiet (Bình Thuận), NovaWorld Ho Tram (Bà Rịa – Vũng Tàu)… Nổi bật trong công tác quản lý giai đoạn vừa qua, Bà Ly được vinh danh là Lãnh đạo xuất sắc 5 năm liên tiếp. Trên quỹ đất hơn 5.400 ha, Novaland hiện phát triển ba dòng sản phẩm chủ lực, gồm: BĐS Đô thị, BĐS Đô thị Du lịch, và BĐS Công nghiệp. Dự kiến, giai đoạn 2021-2025, Novaland sẽ phát triển 100.000 sản phẩm; giai đoạn 2026-2030 phát triển dự án tại 30 tỉnh     thành, cung cấp ra thị trường 150.000 sản phẩm. Mục tiêu của Novaland sẽ không dừng ở thị trường lân cận TP HCM, đồng bằng sông Cửu Long, các tỉnh Nam Trung Bộ, Tây Nguyên, mà trong dài hạn, sẽ vươn ra khu vực miền Bắc. Tại ngày 31/12/2021, Tập đoàn Novaland ghi nhận tổng tài sản hợp nhất hơn 200.000 tỷ đồng, giá trị vốn hóa thị trường đạt hơn 175.000 tỷ VND (tương đương hơn 7,6 tỷ USD), tổng doanh thu thuần hợp nhất bao gồm doanh thu từ bán hàng và thu phí cung cấp     dịch vụ đạt gần 15.000 tỷ đồng.\n",
            "Predicted Label: ['NVL']\n",
            "True Label: ['NVL']\n",
            "========================================\n",
            "Content: DIC Corp lãi bao nhiêu trong năm 2021?. Trong quý cuối năm 2021, DIC Corp đã chuyển nhượng căn hộ dự án Gateway Vũng Tàu và CSJ, quyền sử dụng đất thuộc dự án Nam Vĩnh Yên, nhà xây thô thuộc dự án Hiệp Phước. Theo BCTC hợp nhất quý IV/2021 của Tổng CTCP Đầu tư Phát triển Xây dựng (DIC Corp, Mã: DIG), kết quả kinh doanh quý cuối năm của doanh nghiệp lần lượt tăng trưởng 46% doanh thu thuần và 62% lãi ròng, tương ứng đạt hơn 914 tỷ đồng và 818 tỷ đồng. Doanh thu trong quý được đóng góp từ việc chuyển nhượng căn hộ dự án Gateway Vũng Tàu và CSJ, quyền sử dụng đất thuộc dự án Nam Vĩnh Yên, nhà xây thô thuộc dự án Hiệp Phước.  Bên cạnh đó, lợi nhuận khác của DIC Corp cũng tăng 33% lên gần 786 tỷ đồng do doanh nghiệp đánh giá lại hàng tồn kho. Trong năm 2021, DIC Corp đạt gần 2.569 tỷ đồng doanh thu thuần và 956 tỷ đồng lãi ròng, tăng 3% về doanh thu và 52% về lợi nhuận so với năm 2020; tương ứng thực hiện được 93% kế hoạch doanh thu và 85% kế hoạch lợi nhuận năm. (Nguồn: BCTC hợp nhất quý IV/2021). Trong bản công bố thông tin trước đó, DIC Corp cho biết do ảnh hưởng bởi dịch COVID-19 nên kể từ ngày 15/7, mọi hoạt động sản xuất kinh doanh của công ty đều bị đóng băng. Các đơn vị không thể triển khai công tác bán hàng, bàn giao sản phẩm, nghiệm thu, thanh toán công nợ,… Bên cạnh đó, việc thực hiện các thủ tục pháp lý cũng rất chậm và gần như không thể triển khai do giãn cách xã hội. Tổng tài sản của DIC Corp tại thời điểm cuối năm 2021 trên 16.858 tỷ đồng, tăng 43% so với đầu năm. Trong đó, các khoản phải thu ngắn và dài hạn chiếm phần lớn tài sản với 7.547 tỷ đồng (tăng 59%). Các khoản tiền lớn bao gồm phải thu khách hàng tại các dự án như khu đô thị mới Nam Vĩnh Yên (379 tỷ đồng), Vũng Tàu Gateway (370 tỷ đồng), DIC Phonex (130 tỷ đồng),...; tạm ứng đền bù dự án Long Tân (910 tỷ đồng), Bắc Vũng Tàu 416 tỷ đồng),...; phải thu ba đơn vị gồm CTCP Đầu tư Phát triển Thiên Tân (1.298 tỷ đồng), CTCP Đầu tư Đức Hòa III-Resco (1.729 tỷ đồng), CTCP Logistic Cái Mép (1.000 tỷ đồng). (Nguồn: BCTC hợp nhất quý IV/2021). Hàng tồn kho của doanh nghiệp đã giảm 12% so với đầu năm về gần 3.847 tỷ đồng, chủ yếu là chi phí sản xuất kinh doanh dở dang tại các dự án như Khu đô thị mới Nam Vĩnh Yên (1.911 tỷ đồng). Bên cạnh đó, giá trị các khoản đầu tư nắm giữ đến ngày đáo hạn của DIC Corp cũng tăng mạnh từ 137 tỷ đồng ở đầu năm lên 2.738 tỷ đồng.  (Nguồn: BCTC hợp nhất quý IV/2021). Nợ phải trả của doanh nghiệp trên 9.176 tỷ đồng, tăng 30% so với đầu kỳ. Trong đó, tổng dư nợ vay chiếm hơn 4.900 tỷ đồng, gấp 3,2 lần hồi đầu năm. Trong kỳ, DIC Corp đã thanh toán gần 1.300 tỷ đồng nợ gốc và vay thêm 4.700 tỷ đồng. \n",
            "Predicted Label: ['DIG']\n",
            "True Label: ['DIG']\n",
            "========================================\n",
            "Content: BCG Energy lùi thời hạn thanh toán gốc lô trái phiếu hơn trăm tỷ thêm 9 tháng. Khoản nợ gốc lô trái phiếu riêng lẻ hơn 115 tỷ đồng của BCG Energy vừa được chấp thuận gia hạn từ tháng 9/2022 sang tháng 6 năm nay. CTCP BCG Energy, thành viên của Bamboo Capital (Mã: BCG) cho biết đã đạt được thỏa thuận với nhà đầu tư liên quan đến việc thanh toán gốc trái phiếu. Trong đó, nhà đầu tư ngoại đồng ý, ngoài những điểm khác, phần gốc của trái phiếu sẽ được thanh toán từng đợt và thời hạn thanh toán khoản nợ gốc trái phiếu cuối cùng sẽ chuyển đến ngày 30/6/2023, thay vì ngày 5/9/2022 như ban đầu. Trước đó, vào ngày 4/9/2019, BCG Energy đã phát hành riêng lẻ gói trái phiếu chuyển đổi cho Hanwa Energy Corporation Singapore Pte.Ltd với giá trị 115,75 tỷ đồng. Đây là loại trái phiếu chuyển đổi, không tài sản đảm bảo và không kèm chứng quyền. Trái phiếu có kỳ hạn ba năm, đáo hạn vào 5/9/2022 (do ngày 4/9/2022 là ngày nghỉ cuối tuần). Lãi suất phát hành thực tế 7%/năm, tiền lãi sẽ được trả 6 tháng/lần. Theo thống kê của người viết trên Sở Giao dịch Chứng khoán Hà Nội (HNX), từ tháng 9/2019 đến tháng 5/2021, BCG Energy đã phát hành tổng cộng hơn 2.835 tỷ đồng trái phiếu, với kỳ hạn từ 3 đến 7 năm. Lãi suất trung bình khoản 10% - 11%/năm. BCG Energy là công ty con của BCG chuyên về phát triển các dự án năng lượng tái tạo. Thông qua BCG Energy, Bamboo Capital muốn phát triển mảng năng lượng - một trong những trụ cột kinh doanh chính của tập đoàn, bên cạnh bất động sản, xây dựng hạ tầng,... Mục tiêu BCG Energy đề ra năm 2022 là triển khai 300 MW cánh đồng điện mặt trời, 150 MW điện mặt trời áp mái và 500 MW điện gió. Bên cạnh đó, BCG Energy sẽ nghiên cứu mảng điện khí LNG và công nghệ dự trữ điện với mục tiêu đạt được ít nhất 2.000 MW tổng sản lượng phát điện trong danh mục đến năm 2025. Ngoài ra, tập đoàn còn dự định chào bán lần đầu ra công chúng (IPO) BCG Energy cuối năm 2022 hoặc đầu năm 2023. Tuy nhiên, việc IPO đến nay vẫn còn đang bỏ ngỏ. Năm 2022, BCG Energy kỳ vọng đem về doanh thu 1.660 tỷ đồng, lợi nhuận 997 tỷ. Riêng 9 tháng đầu năm, mảng năng lượng tái tạo đóng góp hơn 25% vào doanh thu tập đoàn mẹ, tương ứng khoảng 844 tỷ đồng. Tháng 12/2022, Hội đồng quản trị BCG đã thông qua việc tham gia góp bổ sung 500 tỷ đồng vào BCG Energy, nâng tổng giá trị vốn góp của tập đoàn lên 3.203 tỷ đồng, tương ứng 71,18% vốn điều lệ của công ty năng lượng này. Báo cáo tài chính quý IV/2022 của BCG cho thấy, tính đến cuối năm, tập đoàn này đang nắm 82,18% vốn điều lệ của BCG Energy. Việc rót vốn của BCG nhằm bổ sung vốn hoạt động bao gồm nhưng không giới hạn việc bổ sung vốn lưu động, thanh toán các khoản nợ, bổ sung tiền để đầu tư vào các công ty thực hiện dự án thông qua hình thức góp vốn và/hoặc hợp tác đầu tư. Thực tế, thị trường biến động, quá trình xây dựng các dự án năng lượng tái tạo của BCG Engergy sẽ có độ trễ từ năm 2023 và 2024, đặc biệt trong nửa cuối năm, biến động về chính sách cũng như môi trường kinh doanh xấu đi cũng phần nào ảnh hưởng tới tiến độ dự án của công ty. Phó Chủ tịch BCG thông tin, về cơ bản năm 2025 công ty vẫn sẽ cố gắng đạt mục tiêu phát triển 2 GW năng lượng tái tạo. \n",
            "Predicted Label: ['HAG']\n",
            "True Label: ['BCG']\n",
            "========================================\n",
            "Content: Doanh thu nội địa của TNG tăng mạnh trong 7 tháng đầu năm. Lũy kế 7 tháng, TNG ghi nhận 2.445 tỉ đồng tổng doanh thu, giảm 6% so với cùng kì năm trước. Riêng doanh thu nội địa đạt gần 180 tỉ đồng, tăng 44%. CTCP Đầu tư và Thương mại TNG (Mã: TNG) vừa cập nhật kết quả kinh doanh tháng 7 với doanh thu tiêu thụ đạt 604 tỉ đồng, tăng 6% so với cùng kì năm trước, thực hiện 53% kế hoạch năm. Trong kì, ngoài việc thực hiện các đơn hàng xuất khẩu, công ty còn xuất khẩu sản phẩm bộ bảo hộ y tế, đóng góp khoảng 9% vào tổng doanh thu. Tính chung 7 tháng, TNG ghi nhận 2.445 tỉ đồng tổng doanh thu, giảm 6% so với cùng kì năm trước. Riêng doanh thu nội địa đạt gần 180 tỉ đồng, tăng 44%. Nguồn: Thu Thảo tổng hợp từ Báo cáo cập nhật TNG Phía TNG cho biết, bên cạnh các sản phẩm truyền thống, công ty tiếp tục nghiên cứu và phát triển thêm sản phẩm mới gồm khẩu trang y tế, bộ bảo hộ chống dịch, bộ bảo hộ phòng chống cháy, bộ bảo hộ phòng chống hóa chất tiêu thụ trong nước và hướng tới xuất khẩu. Doanh nghiệp đặt mục tiêu doanh thu tháng 8 và quí III lần lượt đạt 610 tỉ đồng và 1.665 tỉ đồng, nâng tổng doanh thu tiêu thụ 9 tháng lên 3.505 tỉ đồng. Vừa qua, TNG công bố báo cáo tài chính quí II với 1.067 tỉ đồng doanh thu thuần và 32 tỉ đồng lãi sau thuế, lần lượt giảm 14% và 43% so với cùng kì năm trước. Kết quả trên được ghi nhận trong bối cảnh các khách hàng của công ty đề nghị giãn thời gian giao hàng toàn bộ đơn hàng tháng 3, 4, 5 do ảnh hưởng của dịch COVID-19.\n",
            "Predicted Label: ['TNG']\n",
            "True Label: ['TNG']\n",
            "========================================\n",
            "Content: TTC Land (SCR) đã hết dư nợ trái phiếu. Ngay sau khi HNX công bố danh sách 54 doanh nghiệp từng chậm thanh toán gốc, lãi trái phiếu trong giai đoạn 16/9/2022-31/1/2023, CTCP Địa ốc Sài Gòn Thương tín – TTC land (HOSE: SCR) cho biết đã hoàn tất thanh toán trái phiếu và không còn dư nợ trái phiếu. Cụ thể, Công ty có gói trái phiếu mã SCRBOND2019 (trị giá 80 tỷ đồng) đến hạn ngày 22/11/2022, đến ngày 23/11/2022, SCR đã thực hiện thanh toán cả nợ lãi và gốc trái phiếu.   Trước đó, ngày 23/2/2023, HNX công bố danh sách 54 doanh nghiệp từng chậm thanh toán gốc, lãi trái phiếu trong giai đoạn 16/9/2022-31/1/2023. Như vậy, việc chậm thanh toán gốc, lãi của TTC Land đã được công ty xử lý ngay sau đó 1 ngày. Điều này cũng đồng nghĩa, hiện nay dư nợ trái phiếu của TTC Land bằng 0.  Năm 2022, TTC Land ghi nhận doanh thu hoạt động kinh doanh chính gần 900 tỷ đồng, lợi nhuận trước thuế gần 79 tỷ đồng, sụt giảm khá mạnh so với năm 2021. Đây cũng là bức tranh chung của ngành bất động sản trong năm vừa qua, nhất là quý 4 khi thị trường chịu tác động mạnh bởi lãi suất tăng cao và nhu cầu sụt giảm. Tại thời điểm 31/12/2022, tổng tài sản TTC Land đạt 9,691 tỷ đồng. Tổng nợ phải trả 4,623 tỷ đồng, trong đó tổng nợ vay ngắn và dài hạn 1,908 tỷ đồng, tỷ lệ nợ vay/vốn chủ sở hữu là 0.37 lần, tỷ lệ nợ/vốn chủ sở hữu là 0.9 lần.\n",
            "Predicted Label: ['SCR']\n",
            "True Label: ['SCR']\n",
            "========================================\n",
            "Content: Nhiều doanh nghiệp bị nhắc nhở, cổ phiếu vào diện kiểm soát vì chậm công bố thông tin. Một số doanh nghiệp niêm yết chưa hoàn thành nghĩa vụ công bố báo cáo thường niên 2021, báo cáo tài chính năm 2021 và quý I/2022. Sở Giao dịch Chứng khoán TP Hồ Chí Minh (HOSE) ngày 5/5 ra văn bản nhắc nhở Công ty cổ phần Hàng không Vietjet (Mã: VJC) vì công bố báo cáo tài chính quý I/2022 chưa đầy đủ. Cụ thể, cho đến hôm nay 6/5, Vietjet mới chỉ công bố bảng cân đối kế toán, báo cáo kết quả hoạt động kinh doanh, báo cáo lưu chuyển tiền tệ, chưa kèm theo các phụ lục và thuyết minh theo quy định tại Thông tư 96/2020 của Bộ Tài chính. Ngoài ra, các báo cáo tài chính riêng lẻ và hợp nhất của Vietjet cũng thiếu dấu đỏ của công ty. Hiện nay đã quá hạn chót 30/4 để nộp báo cáo tài chính quý I. HOSE nhắc nhở và đề nghị Vietjet cung cấp báo cáo tài chính quý I/2022 (riêng lẻ và hợp nhất) bản hợp lệ theo quy định và thực hiện công bố thông tin để đảm bảo quyền lợi của cổ đông. Theo báo cáo chưa đầy đủ mà Vietjet đã công bố, hãng hàng không này lỗ gộp gần 257 tỷ đồng trong quý I. Thống kê dưới đây cho thấy đây là quý lỗ gộp thứ 6 của Vietjet kể từ khi dịch COVID-19 bùng phát vào quý I/2020. Công ty vẫn có lãi sau thuế trong quý đầu năm 2022 chủ yếu nhờ doanh thu hoạt động tài chính gần 1.200 tỷ đồng. Cùng ngày 5/5, HOSE đã quyết định chuyển cổ phiếu FLC của Tập đoàn FLC và HAI của Nông dược HAI từ diện cảnh báo sang diện kiểm soát kể từ ngày 12/5. Nguyên nhân là cả Tập đoàn FLC và Nông dược HAI đều chậm nộp báo cáo tài chính kiểm toán năm 2021 quá 30 ngày so với thời hạn quy định. Theo Thông tư 96/2020 của Bộ Tài chính, doanh nghiệp niêm yết như FLC và HAI phải công bố báo cáo tài chính năm 2021 đã được kiểm toán chậm nhất vào ngày 31/3/2022. Bà Bùi Hải Huyền, Thành viên HĐQT kiêm Tổng Giám đốc Tập đoàn FLC, đồng thời là Thành viên HĐQT Nông dược HAI. Ngày 25/4, Nông dược HAI đã cam kết nộp báo cáo tài chính đã kiểm toán năm 2021 chậm nhất vào hôm nay 6/5 nhưng hiện website của công ty chưa đăng tải báo cáo này. FLC cần tìm đơn vị kiểm toán mới cho báo cáo tài chính của mình và không đưa ra hạn chót về ngày hoàn thành.  Ngày 4/5, HOSE đã nhắc nhở CTCP Nông dược HAI vì chưa công bố báo cáo thường niên 2021 dù đã quá hạn chót 14/4/2022. CTCP Đầu tư khoáng sản FLC Stone (Mã: AMD) cũng bị HOSE nhắc nhở vì công bố báo cáo thường niên 2021 vào ngày 18/4, chậm 4 ngày so với quy định. Một doanh nghiệp cùng họ FLC khác là CTCP Xây dựng FLC Faros (Mã: ROS) cũng chưa công bố báo cáo thường niên và báo cáo tài chính kiểm toán năm 2021. Cả FLC Faros và Nông dược HAI đều chưa nộp báo cáo tài chính quý I/2022. Lý do mà FLC Faros đưa ra là công ty đang trong quá trình làm thủ tục thay đổi người đại diện theo pháp luật từ bà Hương Trần Kiều Dung sang bà Nguyễn Bình Phương nên hiện không có người đủ thẩm quyền ký báo cáo tài chính theo quy định tại Luật Kế toán 2015. Bà Hương Trần Kiều Dung, cựu Chủ tịch Hội đồng quản trị của FLC Faros, đang bị khởi tố với cáo buộc liên quan tới thao túng thị trường chứng khoán. Bà Nguyễn Bình Phương là tân Chủ tịch từ ngày 21/4. Về phần Nông dược HAI, hôm 28/4 công ty cho biết hệ thống lưu trữ dữ liệu và phần mềm kế toán đang gặp sự cố nên chưa thể hoàn thành báo cáo tài chính quý I. Tập đoàn FLC đã công bố báo cáo tài chính quý I với doanh thu từ hoạt động bán hàng và cung cấp dịch vụ đạt 1.085 tỷ đồng, giảm 58% so với cùng kỳ năm ngoái. Lỗ sau thuế là 465 tỷ đồng, trái với khoản lãi gần 43 tỷ cùng kỳ. Kết phiên hôm nay 6/5, giá cổ phiếu FLC và ROS giảm kịch sàn, trắng bên mua. Các cổ phiếu liên quan như KLF, AMD, ART, và HAI đều đi xuống, như thể hiện trong biểu đồ bên dưới. Hôm nay cũng là ngày giao dịch không hưởng quyền để FLC chốt danh sách cổ đông tham dự đại hội bất thường để bàn về vấn đề nhân sự. Tại Sở Giao dịch Chứng khoán Hà Nội (HNX), cổ phiếu SPI của CTCP Spiral Galaxy bị đưa vào diện kiểm soát từ ngày 19/4 vì chậm nộp báo cáo tài chính hai năm liên tiếp 2020 và 2021.\n",
            "Predicted Label: ['STB']\n",
            "True Label: ['FLC']\n",
            "========================================\n",
            "Test Accuracy: 0.6797520661157025\n"
          ]
        },
        {
          "output_type": "execute_result",
          "data": {
            "text/plain": [
              "0.6797520661157025"
            ]
          },
          "metadata": {},
          "execution_count": 50
        }
      ]
    },
    {
      "cell_type": "markdown",
      "source": [
        "# Naive Bayes"
      ],
      "metadata": {
        "id": "dQ72_pvwZ2pV"
      }
    },
    {
      "cell_type": "code",
      "source": [
        "from sklearn.feature_extraction.text import CountVectorizer\n",
        "from sklearn.naive_bayes import MultinomialNB\n",
        "from sklearn.pipeline import make_pipeline"
      ],
      "metadata": {
        "id": "ruqEZWsQZ5Qt"
      },
      "execution_count": 51,
      "outputs": []
    },
    {
      "cell_type": "code",
      "source": [
        "test_content = e_df.iloc[1].get(\"Content\")\n",
        "print(test_content)\n",
        "print(\"------------------------------------------------------------\")\n",
        "sentences = nltk.tokenize.sent_tokenize(test_content)\n",
        "for s in sentences:\n",
        "  print(s)"
      ],
      "metadata": {
        "id": "3CnlxtungvWe",
        "colab": {
          "base_uri": "https://localhost:8080/"
        },
        "outputId": "fbeaa51c-0741-4139-9c62-b605a195654d"
      },
      "execution_count": 52,
      "outputs": [
        {
          "output_type": "stream",
          "name": "stdout",
          "text": [
            "Hòa Phát muốn rót 85.000 tỷ đồng để mở rộng Khu liên hợp Dung Quất. Tập đoàn Hòa Phát (Mã: HPG) dự kiến sẽ đầu tư thêm 85.000 tỷ đồng vào Khu liên hợp tại Dung Quất, tăng 25.000 tỷ so với ước tính trước đó. Tập đoàn Hòa Phát định rót thêm 85.000 tỷ đồng vào Dung Quất. (Ảnh minh họa: Song Ngọc). Hội đồng quản trị Tập đoàn Hòa Phát dự kiến sẽ trình đại hội cổ đông thường niên 2021 thông qua kế hoạch đầu tư Khu liên hợp sản xuất Gang thép Hòa Phát Dung Quất giai đoạn 2.  Cụ thể, công suất hàng năm dự kiến là 5,6 triệu tấn, trong đó thép dẹt là 4,6 triệu tấn và thép thanh, thép dây chất lượng cao là 1 triệu tấn. Tổng mức đầu tư ước tính khoảng 85.000 tỷ đồng, trong đó vốn cố định là 70.000 tỷ đồng, vốn lưu động 15.000 tỷ. Hòa Phát dự tính sẽ xây dựng hoàn thành và đưa dự án vào hoạt động trong thời hạn 36 tháng kể từ ngày bàn giao đất và cấp giấy phép xây dựng. Tổng diện tích đất dự kiến sử dụng là 283,73 ha. Quy mô dự án đề xuất đợt này đã tăng đáng kể so với kế hoạch mà đại hội cổ đông năm 2020 đã thông qua. Cụ thể theo kế hoạch cũ, công suất của dự án là 5 triệu tấn thép, gồm 3 triệu tấn thép cuộn cán nóng (HRC), 1 triệu tấn thép hình cỡ trung, 0,5 triệu tấn thép dây cuộn chất lượng cao và 0,5 triệu tấn thép tròn cơ khí chế tạo. Tổng vốn đầu tư dự kiến là 60.000 tỷ đồng, trong đó vốn cố định là 50.000 tỷ và vốn lưu động là 10.000 tỷ. Về cơ cấu vốn cố định, vốn tự có sẽ góp khoảng 30.000 tỷ, vốn vay dự tính 20.000 tỷ. Diện tích mặt đất sử dụng cho dự án dự kiến khoảng 166 ha. Như vậy, tổng sản lượng dự kiến được điều chỉnh tăng 600.000 tấn, tổng vốn đầu tư thêm 25.000 tỷ đồng và diện tích đất thêm gần 118 ha. Dự án Dung Quất giai đoạn 1 đến nay đã hoàn thành, cả 4 lò cao và 4 lò thổi đã hoạt động hết công suất. Tổng mức đầu tư là 65.000 tỷ đồng, trong đó vốn cố định là 52.000 tỷ, còn lại là vốn lưu động. Sản lượng thép mỗi năm đạt 4 triệu tấn.\n",
            "------------------------------------------------------------\n",
            "Hòa Phát muốn rót 85.000 tỷ đồng để mở rộng Khu liên hợp Dung Quất.\n",
            "Tập đoàn Hòa Phát (Mã: HPG) dự kiến sẽ đầu tư thêm 85.000 tỷ đồng vào Khu liên hợp tại Dung Quất, tăng 25.000 tỷ so với ước tính trước đó.\n",
            "Tập đoàn Hòa Phát định rót thêm 85.000 tỷ đồng vào Dung Quất.\n",
            "(Ảnh minh họa: Song Ngọc).\n",
            "Hội đồng quản trị Tập đoàn Hòa Phát dự kiến sẽ trình đại hội cổ đông thường niên 2021 thông qua kế hoạch đầu tư Khu liên hợp sản xuất Gang thép Hòa Phát Dung Quất giai đoạn 2.\n",
            "Cụ thể, công suất hàng năm dự kiến là 5,6 triệu tấn, trong đó thép dẹt là 4,6 triệu tấn và thép thanh, thép dây chất lượng cao là 1 triệu tấn.\n",
            "Tổng mức đầu tư ước tính khoảng 85.000 tỷ đồng, trong đó vốn cố định là 70.000 tỷ đồng, vốn lưu động 15.000 tỷ.\n",
            "Hòa Phát dự tính sẽ xây dựng hoàn thành và đưa dự án vào hoạt động trong thời hạn 36 tháng kể từ ngày bàn giao đất và cấp giấy phép xây dựng.\n",
            "Tổng diện tích đất dự kiến sử dụng là 283,73 ha.\n",
            "Quy mô dự án đề xuất đợt này đã tăng đáng kể so với kế hoạch mà đại hội cổ đông năm 2020 đã thông qua.\n",
            "Cụ thể theo kế hoạch cũ, công suất của dự án là 5 triệu tấn thép, gồm 3 triệu tấn thép cuộn cán nóng (HRC), 1 triệu tấn thép hình cỡ trung, 0,5 triệu tấn thép dây cuộn chất lượng cao và 0,5 triệu tấn thép tròn cơ khí chế tạo.\n",
            "Tổng vốn đầu tư dự kiến là 60.000 tỷ đồng, trong đó vốn cố định là 50.000 tỷ và vốn lưu động là 10.000 tỷ.\n",
            "Về cơ cấu vốn cố định, vốn tự có sẽ góp khoảng 30.000 tỷ, vốn vay dự tính 20.000 tỷ.\n",
            "Diện tích mặt đất sử dụng cho dự án dự kiến khoảng 166 ha.\n",
            "Như vậy, tổng sản lượng dự kiến được điều chỉnh tăng 600.000 tấn, tổng vốn đầu tư thêm 25.000 tỷ đồng và diện tích đất thêm gần 118 ha.\n",
            "Dự án Dung Quất giai đoạn 1 đến nay đã hoàn thành, cả 4 lò cao và 4 lò thổi đã hoạt động hết công suất.\n",
            "Tổng mức đầu tư là 65.000 tỷ đồng, trong đó vốn cố định là 52.000 tỷ, còn lại là vốn lưu động.\n",
            "Sản lượng thép mỗi năm đạt 4 triệu tấn.\n"
          ]
        }
      ]
    },
    {
      "cell_type": "code",
      "source": [
        "train_data, test_data, train_labels, test_labels = train_test_split(e_df['Content'], e_df['Encode Label'], random_state=42)"
      ],
      "metadata": {
        "id": "7ilSeDfvx3vm"
      },
      "execution_count": 53,
      "outputs": []
    },
    {
      "cell_type": "code",
      "source": [
        "model_nb = make_pipeline(CountVectorizer(), MultinomialNB())"
      ],
      "metadata": {
        "id": "xHy-8i_1hUHa"
      },
      "execution_count": 54,
      "outputs": []
    },
    {
      "cell_type": "code",
      "source": [
        "# Train the model\n",
        "model_nb.fit(train_data, train_labels)\n"
      ],
      "metadata": {
        "id": "ILdqAvj4hIvd",
        "colab": {
          "base_uri": "https://localhost:8080/",
          "height": 124
        },
        "outputId": "83872544-57fb-41d6-f768-792bd055aa57"
      },
      "execution_count": 55,
      "outputs": [
        {
          "output_type": "execute_result",
          "data": {
            "text/plain": [
              "Pipeline(steps=[('countvectorizer', CountVectorizer()),\n",
              "                ('multinomialnb', MultinomialNB())])"
            ],
            "text/html": [
              "<style>#sk-container-id-1 {color: black;background-color: white;}#sk-container-id-1 pre{padding: 0;}#sk-container-id-1 div.sk-toggleable {background-color: white;}#sk-container-id-1 label.sk-toggleable__label {cursor: pointer;display: block;width: 100%;margin-bottom: 0;padding: 0.3em;box-sizing: border-box;text-align: center;}#sk-container-id-1 label.sk-toggleable__label-arrow:before {content: \"▸\";float: left;margin-right: 0.25em;color: #696969;}#sk-container-id-1 label.sk-toggleable__label-arrow:hover:before {color: black;}#sk-container-id-1 div.sk-estimator:hover label.sk-toggleable__label-arrow:before {color: black;}#sk-container-id-1 div.sk-toggleable__content {max-height: 0;max-width: 0;overflow: hidden;text-align: left;background-color: #f0f8ff;}#sk-container-id-1 div.sk-toggleable__content pre {margin: 0.2em;color: black;border-radius: 0.25em;background-color: #f0f8ff;}#sk-container-id-1 input.sk-toggleable__control:checked~div.sk-toggleable__content {max-height: 200px;max-width: 100%;overflow: auto;}#sk-container-id-1 input.sk-toggleable__control:checked~label.sk-toggleable__label-arrow:before {content: \"▾\";}#sk-container-id-1 div.sk-estimator input.sk-toggleable__control:checked~label.sk-toggleable__label {background-color: #d4ebff;}#sk-container-id-1 div.sk-label input.sk-toggleable__control:checked~label.sk-toggleable__label {background-color: #d4ebff;}#sk-container-id-1 input.sk-hidden--visually {border: 0;clip: rect(1px 1px 1px 1px);clip: rect(1px, 1px, 1px, 1px);height: 1px;margin: -1px;overflow: hidden;padding: 0;position: absolute;width: 1px;}#sk-container-id-1 div.sk-estimator {font-family: monospace;background-color: #f0f8ff;border: 1px dotted black;border-radius: 0.25em;box-sizing: border-box;margin-bottom: 0.5em;}#sk-container-id-1 div.sk-estimator:hover {background-color: #d4ebff;}#sk-container-id-1 div.sk-parallel-item::after {content: \"\";width: 100%;border-bottom: 1px solid gray;flex-grow: 1;}#sk-container-id-1 div.sk-label:hover label.sk-toggleable__label {background-color: #d4ebff;}#sk-container-id-1 div.sk-serial::before {content: \"\";position: absolute;border-left: 1px solid gray;box-sizing: border-box;top: 0;bottom: 0;left: 50%;z-index: 0;}#sk-container-id-1 div.sk-serial {display: flex;flex-direction: column;align-items: center;background-color: white;padding-right: 0.2em;padding-left: 0.2em;position: relative;}#sk-container-id-1 div.sk-item {position: relative;z-index: 1;}#sk-container-id-1 div.sk-parallel {display: flex;align-items: stretch;justify-content: center;background-color: white;position: relative;}#sk-container-id-1 div.sk-item::before, #sk-container-id-1 div.sk-parallel-item::before {content: \"\";position: absolute;border-left: 1px solid gray;box-sizing: border-box;top: 0;bottom: 0;left: 50%;z-index: -1;}#sk-container-id-1 div.sk-parallel-item {display: flex;flex-direction: column;z-index: 1;position: relative;background-color: white;}#sk-container-id-1 div.sk-parallel-item:first-child::after {align-self: flex-end;width: 50%;}#sk-container-id-1 div.sk-parallel-item:last-child::after {align-self: flex-start;width: 50%;}#sk-container-id-1 div.sk-parallel-item:only-child::after {width: 0;}#sk-container-id-1 div.sk-dashed-wrapped {border: 1px dashed gray;margin: 0 0.4em 0.5em 0.4em;box-sizing: border-box;padding-bottom: 0.4em;background-color: white;}#sk-container-id-1 div.sk-label label {font-family: monospace;font-weight: bold;display: inline-block;line-height: 1.2em;}#sk-container-id-1 div.sk-label-container {text-align: center;}#sk-container-id-1 div.sk-container {/* jupyter's `normalize.less` sets `[hidden] { display: none; }` but bootstrap.min.css set `[hidden] { display: none !important; }` so we also need the `!important` here to be able to override the default hidden behavior on the sphinx rendered scikit-learn.org. See: https://github.com/scikit-learn/scikit-learn/issues/21755 */display: inline-block !important;position: relative;}#sk-container-id-1 div.sk-text-repr-fallback {display: none;}</style><div id=\"sk-container-id-1\" class=\"sk-top-container\"><div class=\"sk-text-repr-fallback\"><pre>Pipeline(steps=[(&#x27;countvectorizer&#x27;, CountVectorizer()),\n",
              "                (&#x27;multinomialnb&#x27;, MultinomialNB())])</pre><b>In a Jupyter environment, please rerun this cell to show the HTML representation or trust the notebook. <br />On GitHub, the HTML representation is unable to render, please try loading this page with nbviewer.org.</b></div><div class=\"sk-container\" hidden><div class=\"sk-item sk-dashed-wrapped\"><div class=\"sk-label-container\"><div class=\"sk-label sk-toggleable\"><input class=\"sk-toggleable__control sk-hidden--visually\" id=\"sk-estimator-id-1\" type=\"checkbox\" ><label for=\"sk-estimator-id-1\" class=\"sk-toggleable__label sk-toggleable__label-arrow\">Pipeline</label><div class=\"sk-toggleable__content\"><pre>Pipeline(steps=[(&#x27;countvectorizer&#x27;, CountVectorizer()),\n",
              "                (&#x27;multinomialnb&#x27;, MultinomialNB())])</pre></div></div></div><div class=\"sk-serial\"><div class=\"sk-item\"><div class=\"sk-estimator sk-toggleable\"><input class=\"sk-toggleable__control sk-hidden--visually\" id=\"sk-estimator-id-2\" type=\"checkbox\" ><label for=\"sk-estimator-id-2\" class=\"sk-toggleable__label sk-toggleable__label-arrow\">CountVectorizer</label><div class=\"sk-toggleable__content\"><pre>CountVectorizer()</pre></div></div></div><div class=\"sk-item\"><div class=\"sk-estimator sk-toggleable\"><input class=\"sk-toggleable__control sk-hidden--visually\" id=\"sk-estimator-id-3\" type=\"checkbox\" ><label for=\"sk-estimator-id-3\" class=\"sk-toggleable__label sk-toggleable__label-arrow\">MultinomialNB</label><div class=\"sk-toggleable__content\"><pre>MultinomialNB()</pre></div></div></div></div></div></div></div>"
            ]
          },
          "metadata": {},
          "execution_count": 55
        }
      ]
    },
    {
      "cell_type": "code",
      "source": [
        "# Predict the labels of the test set\n",
        "predictions = model_nb.predict(test_data)\n",
        "\n",
        "# Print out the accuracy\n",
        "print(f\"Accuracy: {accuracy_score(test_labels, predictions)}\")"
      ],
      "metadata": {
        "id": "vFY6ODvfyykq",
        "colab": {
          "base_uri": "https://localhost:8080/"
        },
        "outputId": "9aba5787-c50c-4187-95c5-3873883a91a3"
      },
      "execution_count": 56,
      "outputs": [
        {
          "output_type": "stream",
          "name": "stdout",
          "text": [
            "Accuracy: 0.6251378169790518\n"
          ]
        }
      ]
    }
  ],
  "metadata": {
    "colab": {
      "provenance": [],
      "gpuType": "A100",
      "machine_shape": "hm",
      "toc_visible": true,
      "collapsed_sections": [
        "oAAmnOmSXj5a"
      ]
    },
    "kernelspec": {
      "display_name": "Python 3",
      "name": "python3"
    },
    "language_info": {
      "name": "python"
    },
    "widgets": {
      "application/vnd.jupyter.widget-state+json": {
        "5f1be6682a094fe8833da760dcfe26f0": {
          "model_module": "@jupyter-widgets/controls",
          "model_name": "HBoxModel",
          "model_module_version": "1.5.0",
          "state": {
            "_dom_classes": [],
            "_model_module": "@jupyter-widgets/controls",
            "_model_module_version": "1.5.0",
            "_model_name": "HBoxModel",
            "_view_count": null,
            "_view_module": "@jupyter-widgets/controls",
            "_view_module_version": "1.5.0",
            "_view_name": "HBoxView",
            "box_style": "",
            "children": [
              "IPY_MODEL_b6418b6d5adb456eaeb05b0b5fcf03d5",
              "IPY_MODEL_707a99d7761f4edf8606bcbde2012c20",
              "IPY_MODEL_9461068ea46b4fc580be34df4cfefb09"
            ],
            "layout": "IPY_MODEL_e1741945f52c4dc7a6bade6d2e909cd2"
          }
        },
        "b6418b6d5adb456eaeb05b0b5fcf03d5": {
          "model_module": "@jupyter-widgets/controls",
          "model_name": "HTMLModel",
          "model_module_version": "1.5.0",
          "state": {
            "_dom_classes": [],
            "_model_module": "@jupyter-widgets/controls",
            "_model_module_version": "1.5.0",
            "_model_name": "HTMLModel",
            "_view_count": null,
            "_view_module": "@jupyter-widgets/controls",
            "_view_module_version": "1.5.0",
            "_view_name": "HTMLView",
            "description": "",
            "description_tooltip": null,
            "layout": "IPY_MODEL_19f0614f7e924177ae329a5ee7e06f93",
            "placeholder": "​",
            "style": "IPY_MODEL_4390d7bd8ffc4995b47708488ba09b29",
            "value": "Downloading (…)lve/main/config.json: 100%"
          }
        },
        "707a99d7761f4edf8606bcbde2012c20": {
          "model_module": "@jupyter-widgets/controls",
          "model_name": "FloatProgressModel",
          "model_module_version": "1.5.0",
          "state": {
            "_dom_classes": [],
            "_model_module": "@jupyter-widgets/controls",
            "_model_module_version": "1.5.0",
            "_model_name": "FloatProgressModel",
            "_view_count": null,
            "_view_module": "@jupyter-widgets/controls",
            "_view_module_version": "1.5.0",
            "_view_name": "ProgressView",
            "bar_style": "success",
            "description": "",
            "description_tooltip": null,
            "layout": "IPY_MODEL_448bcefc06bd401ab77a457d67b4ab28",
            "max": 678,
            "min": 0,
            "orientation": "horizontal",
            "style": "IPY_MODEL_b59db958c6e84af6bb054d1bb6fa03c0",
            "value": 678
          }
        },
        "9461068ea46b4fc580be34df4cfefb09": {
          "model_module": "@jupyter-widgets/controls",
          "model_name": "HTMLModel",
          "model_module_version": "1.5.0",
          "state": {
            "_dom_classes": [],
            "_model_module": "@jupyter-widgets/controls",
            "_model_module_version": "1.5.0",
            "_model_name": "HTMLModel",
            "_view_count": null,
            "_view_module": "@jupyter-widgets/controls",
            "_view_module_version": "1.5.0",
            "_view_name": "HTMLView",
            "description": "",
            "description_tooltip": null,
            "layout": "IPY_MODEL_5aff4bb7ff7144dea56ee42ddffd60f6",
            "placeholder": "​",
            "style": "IPY_MODEL_1846ad5f837d41a8bed05ebb41675a3e",
            "value": " 678/678 [00:00&lt;00:00, 55.2kB/s]"
          }
        },
        "e1741945f52c4dc7a6bade6d2e909cd2": {
          "model_module": "@jupyter-widgets/base",
          "model_name": "LayoutModel",
          "model_module_version": "1.2.0",
          "state": {
            "_model_module": "@jupyter-widgets/base",
            "_model_module_version": "1.2.0",
            "_model_name": "LayoutModel",
            "_view_count": null,
            "_view_module": "@jupyter-widgets/base",
            "_view_module_version": "1.2.0",
            "_view_name": "LayoutView",
            "align_content": null,
            "align_items": null,
            "align_self": null,
            "border": null,
            "bottom": null,
            "display": null,
            "flex": null,
            "flex_flow": null,
            "grid_area": null,
            "grid_auto_columns": null,
            "grid_auto_flow": null,
            "grid_auto_rows": null,
            "grid_column": null,
            "grid_gap": null,
            "grid_row": null,
            "grid_template_areas": null,
            "grid_template_columns": null,
            "grid_template_rows": null,
            "height": null,
            "justify_content": null,
            "justify_items": null,
            "left": null,
            "margin": null,
            "max_height": null,
            "max_width": null,
            "min_height": null,
            "min_width": null,
            "object_fit": null,
            "object_position": null,
            "order": null,
            "overflow": null,
            "overflow_x": null,
            "overflow_y": null,
            "padding": null,
            "right": null,
            "top": null,
            "visibility": null,
            "width": null
          }
        },
        "19f0614f7e924177ae329a5ee7e06f93": {
          "model_module": "@jupyter-widgets/base",
          "model_name": "LayoutModel",
          "model_module_version": "1.2.0",
          "state": {
            "_model_module": "@jupyter-widgets/base",
            "_model_module_version": "1.2.0",
            "_model_name": "LayoutModel",
            "_view_count": null,
            "_view_module": "@jupyter-widgets/base",
            "_view_module_version": "1.2.0",
            "_view_name": "LayoutView",
            "align_content": null,
            "align_items": null,
            "align_self": null,
            "border": null,
            "bottom": null,
            "display": null,
            "flex": null,
            "flex_flow": null,
            "grid_area": null,
            "grid_auto_columns": null,
            "grid_auto_flow": null,
            "grid_auto_rows": null,
            "grid_column": null,
            "grid_gap": null,
            "grid_row": null,
            "grid_template_areas": null,
            "grid_template_columns": null,
            "grid_template_rows": null,
            "height": null,
            "justify_content": null,
            "justify_items": null,
            "left": null,
            "margin": null,
            "max_height": null,
            "max_width": null,
            "min_height": null,
            "min_width": null,
            "object_fit": null,
            "object_position": null,
            "order": null,
            "overflow": null,
            "overflow_x": null,
            "overflow_y": null,
            "padding": null,
            "right": null,
            "top": null,
            "visibility": null,
            "width": null
          }
        },
        "4390d7bd8ffc4995b47708488ba09b29": {
          "model_module": "@jupyter-widgets/controls",
          "model_name": "DescriptionStyleModel",
          "model_module_version": "1.5.0",
          "state": {
            "_model_module": "@jupyter-widgets/controls",
            "_model_module_version": "1.5.0",
            "_model_name": "DescriptionStyleModel",
            "_view_count": null,
            "_view_module": "@jupyter-widgets/base",
            "_view_module_version": "1.2.0",
            "_view_name": "StyleView",
            "description_width": ""
          }
        },
        "448bcefc06bd401ab77a457d67b4ab28": {
          "model_module": "@jupyter-widgets/base",
          "model_name": "LayoutModel",
          "model_module_version": "1.2.0",
          "state": {
            "_model_module": "@jupyter-widgets/base",
            "_model_module_version": "1.2.0",
            "_model_name": "LayoutModel",
            "_view_count": null,
            "_view_module": "@jupyter-widgets/base",
            "_view_module_version": "1.2.0",
            "_view_name": "LayoutView",
            "align_content": null,
            "align_items": null,
            "align_self": null,
            "border": null,
            "bottom": null,
            "display": null,
            "flex": null,
            "flex_flow": null,
            "grid_area": null,
            "grid_auto_columns": null,
            "grid_auto_flow": null,
            "grid_auto_rows": null,
            "grid_column": null,
            "grid_gap": null,
            "grid_row": null,
            "grid_template_areas": null,
            "grid_template_columns": null,
            "grid_template_rows": null,
            "height": null,
            "justify_content": null,
            "justify_items": null,
            "left": null,
            "margin": null,
            "max_height": null,
            "max_width": null,
            "min_height": null,
            "min_width": null,
            "object_fit": null,
            "object_position": null,
            "order": null,
            "overflow": null,
            "overflow_x": null,
            "overflow_y": null,
            "padding": null,
            "right": null,
            "top": null,
            "visibility": null,
            "width": null
          }
        },
        "b59db958c6e84af6bb054d1bb6fa03c0": {
          "model_module": "@jupyter-widgets/controls",
          "model_name": "ProgressStyleModel",
          "model_module_version": "1.5.0",
          "state": {
            "_model_module": "@jupyter-widgets/controls",
            "_model_module_version": "1.5.0",
            "_model_name": "ProgressStyleModel",
            "_view_count": null,
            "_view_module": "@jupyter-widgets/base",
            "_view_module_version": "1.2.0",
            "_view_name": "StyleView",
            "bar_color": null,
            "description_width": ""
          }
        },
        "5aff4bb7ff7144dea56ee42ddffd60f6": {
          "model_module": "@jupyter-widgets/base",
          "model_name": "LayoutModel",
          "model_module_version": "1.2.0",
          "state": {
            "_model_module": "@jupyter-widgets/base",
            "_model_module_version": "1.2.0",
            "_model_name": "LayoutModel",
            "_view_count": null,
            "_view_module": "@jupyter-widgets/base",
            "_view_module_version": "1.2.0",
            "_view_name": "LayoutView",
            "align_content": null,
            "align_items": null,
            "align_self": null,
            "border": null,
            "bottom": null,
            "display": null,
            "flex": null,
            "flex_flow": null,
            "grid_area": null,
            "grid_auto_columns": null,
            "grid_auto_flow": null,
            "grid_auto_rows": null,
            "grid_column": null,
            "grid_gap": null,
            "grid_row": null,
            "grid_template_areas": null,
            "grid_template_columns": null,
            "grid_template_rows": null,
            "height": null,
            "justify_content": null,
            "justify_items": null,
            "left": null,
            "margin": null,
            "max_height": null,
            "max_width": null,
            "min_height": null,
            "min_width": null,
            "object_fit": null,
            "object_position": null,
            "order": null,
            "overflow": null,
            "overflow_x": null,
            "overflow_y": null,
            "padding": null,
            "right": null,
            "top": null,
            "visibility": null,
            "width": null
          }
        },
        "1846ad5f837d41a8bed05ebb41675a3e": {
          "model_module": "@jupyter-widgets/controls",
          "model_name": "DescriptionStyleModel",
          "model_module_version": "1.5.0",
          "state": {
            "_model_module": "@jupyter-widgets/controls",
            "_model_module_version": "1.5.0",
            "_model_name": "DescriptionStyleModel",
            "_view_count": null,
            "_view_module": "@jupyter-widgets/base",
            "_view_module_version": "1.2.0",
            "_view_name": "StyleView",
            "description_width": ""
          }
        },
        "40fc15796d384d87a5d57ec6715854c5": {
          "model_module": "@jupyter-widgets/controls",
          "model_name": "HBoxModel",
          "model_module_version": "1.5.0",
          "state": {
            "_dom_classes": [],
            "_model_module": "@jupyter-widgets/controls",
            "_model_module_version": "1.5.0",
            "_model_name": "HBoxModel",
            "_view_count": null,
            "_view_module": "@jupyter-widgets/controls",
            "_view_module_version": "1.5.0",
            "_view_name": "HBoxView",
            "box_style": "",
            "children": [
              "IPY_MODEL_d6fe2e81f1ad427fa10da6206e06a067",
              "IPY_MODEL_76910aabd40346f7873ef43663fa895a",
              "IPY_MODEL_1d5b742466464ae9a118d792afbfce11"
            ],
            "layout": "IPY_MODEL_c79e933239db47628b38676fa856f219"
          }
        },
        "d6fe2e81f1ad427fa10da6206e06a067": {
          "model_module": "@jupyter-widgets/controls",
          "model_name": "HTMLModel",
          "model_module_version": "1.5.0",
          "state": {
            "_dom_classes": [],
            "_model_module": "@jupyter-widgets/controls",
            "_model_module_version": "1.5.0",
            "_model_name": "HTMLModel",
            "_view_count": null,
            "_view_module": "@jupyter-widgets/controls",
            "_view_module_version": "1.5.0",
            "_view_name": "HTMLView",
            "description": "",
            "description_tooltip": null,
            "layout": "IPY_MODEL_dc126bec73984a0b8a867ff891795010",
            "placeholder": "​",
            "style": "IPY_MODEL_bec5810e02fa40ab81d827edd56d20ca",
            "value": "Downloading (…)solve/main/vocab.txt: 100%"
          }
        },
        "76910aabd40346f7873ef43663fa895a": {
          "model_module": "@jupyter-widgets/controls",
          "model_name": "FloatProgressModel",
          "model_module_version": "1.5.0",
          "state": {
            "_dom_classes": [],
            "_model_module": "@jupyter-widgets/controls",
            "_model_module_version": "1.5.0",
            "_model_name": "FloatProgressModel",
            "_view_count": null,
            "_view_module": "@jupyter-widgets/controls",
            "_view_module_version": "1.5.0",
            "_view_name": "ProgressView",
            "bar_style": "success",
            "description": "",
            "description_tooltip": null,
            "layout": "IPY_MODEL_a3edc39cbb0e4193925ce61ef4745ecf",
            "max": 895321,
            "min": 0,
            "orientation": "horizontal",
            "style": "IPY_MODEL_51bb1305abc8462ca7324424fde98860",
            "value": 895321
          }
        },
        "1d5b742466464ae9a118d792afbfce11": {
          "model_module": "@jupyter-widgets/controls",
          "model_name": "HTMLModel",
          "model_module_version": "1.5.0",
          "state": {
            "_dom_classes": [],
            "_model_module": "@jupyter-widgets/controls",
            "_model_module_version": "1.5.0",
            "_model_name": "HTMLModel",
            "_view_count": null,
            "_view_module": "@jupyter-widgets/controls",
            "_view_module_version": "1.5.0",
            "_view_name": "HTMLView",
            "description": "",
            "description_tooltip": null,
            "layout": "IPY_MODEL_8d28522723c0446e8597587688228dbb",
            "placeholder": "​",
            "style": "IPY_MODEL_1ae50d5a4aca4a65b32185b8181e5c6a",
            "value": " 895k/895k [00:00&lt;00:00, 4.52MB/s]"
          }
        },
        "c79e933239db47628b38676fa856f219": {
          "model_module": "@jupyter-widgets/base",
          "model_name": "LayoutModel",
          "model_module_version": "1.2.0",
          "state": {
            "_model_module": "@jupyter-widgets/base",
            "_model_module_version": "1.2.0",
            "_model_name": "LayoutModel",
            "_view_count": null,
            "_view_module": "@jupyter-widgets/base",
            "_view_module_version": "1.2.0",
            "_view_name": "LayoutView",
            "align_content": null,
            "align_items": null,
            "align_self": null,
            "border": null,
            "bottom": null,
            "display": null,
            "flex": null,
            "flex_flow": null,
            "grid_area": null,
            "grid_auto_columns": null,
            "grid_auto_flow": null,
            "grid_auto_rows": null,
            "grid_column": null,
            "grid_gap": null,
            "grid_row": null,
            "grid_template_areas": null,
            "grid_template_columns": null,
            "grid_template_rows": null,
            "height": null,
            "justify_content": null,
            "justify_items": null,
            "left": null,
            "margin": null,
            "max_height": null,
            "max_width": null,
            "min_height": null,
            "min_width": null,
            "object_fit": null,
            "object_position": null,
            "order": null,
            "overflow": null,
            "overflow_x": null,
            "overflow_y": null,
            "padding": null,
            "right": null,
            "top": null,
            "visibility": null,
            "width": null
          }
        },
        "dc126bec73984a0b8a867ff891795010": {
          "model_module": "@jupyter-widgets/base",
          "model_name": "LayoutModel",
          "model_module_version": "1.2.0",
          "state": {
            "_model_module": "@jupyter-widgets/base",
            "_model_module_version": "1.2.0",
            "_model_name": "LayoutModel",
            "_view_count": null,
            "_view_module": "@jupyter-widgets/base",
            "_view_module_version": "1.2.0",
            "_view_name": "LayoutView",
            "align_content": null,
            "align_items": null,
            "align_self": null,
            "border": null,
            "bottom": null,
            "display": null,
            "flex": null,
            "flex_flow": null,
            "grid_area": null,
            "grid_auto_columns": null,
            "grid_auto_flow": null,
            "grid_auto_rows": null,
            "grid_column": null,
            "grid_gap": null,
            "grid_row": null,
            "grid_template_areas": null,
            "grid_template_columns": null,
            "grid_template_rows": null,
            "height": null,
            "justify_content": null,
            "justify_items": null,
            "left": null,
            "margin": null,
            "max_height": null,
            "max_width": null,
            "min_height": null,
            "min_width": null,
            "object_fit": null,
            "object_position": null,
            "order": null,
            "overflow": null,
            "overflow_x": null,
            "overflow_y": null,
            "padding": null,
            "right": null,
            "top": null,
            "visibility": null,
            "width": null
          }
        },
        "bec5810e02fa40ab81d827edd56d20ca": {
          "model_module": "@jupyter-widgets/controls",
          "model_name": "DescriptionStyleModel",
          "model_module_version": "1.5.0",
          "state": {
            "_model_module": "@jupyter-widgets/controls",
            "_model_module_version": "1.5.0",
            "_model_name": "DescriptionStyleModel",
            "_view_count": null,
            "_view_module": "@jupyter-widgets/base",
            "_view_module_version": "1.2.0",
            "_view_name": "StyleView",
            "description_width": ""
          }
        },
        "a3edc39cbb0e4193925ce61ef4745ecf": {
          "model_module": "@jupyter-widgets/base",
          "model_name": "LayoutModel",
          "model_module_version": "1.2.0",
          "state": {
            "_model_module": "@jupyter-widgets/base",
            "_model_module_version": "1.2.0",
            "_model_name": "LayoutModel",
            "_view_count": null,
            "_view_module": "@jupyter-widgets/base",
            "_view_module_version": "1.2.0",
            "_view_name": "LayoutView",
            "align_content": null,
            "align_items": null,
            "align_self": null,
            "border": null,
            "bottom": null,
            "display": null,
            "flex": null,
            "flex_flow": null,
            "grid_area": null,
            "grid_auto_columns": null,
            "grid_auto_flow": null,
            "grid_auto_rows": null,
            "grid_column": null,
            "grid_gap": null,
            "grid_row": null,
            "grid_template_areas": null,
            "grid_template_columns": null,
            "grid_template_rows": null,
            "height": null,
            "justify_content": null,
            "justify_items": null,
            "left": null,
            "margin": null,
            "max_height": null,
            "max_width": null,
            "min_height": null,
            "min_width": null,
            "object_fit": null,
            "object_position": null,
            "order": null,
            "overflow": null,
            "overflow_x": null,
            "overflow_y": null,
            "padding": null,
            "right": null,
            "top": null,
            "visibility": null,
            "width": null
          }
        },
        "51bb1305abc8462ca7324424fde98860": {
          "model_module": "@jupyter-widgets/controls",
          "model_name": "ProgressStyleModel",
          "model_module_version": "1.5.0",
          "state": {
            "_model_module": "@jupyter-widgets/controls",
            "_model_module_version": "1.5.0",
            "_model_name": "ProgressStyleModel",
            "_view_count": null,
            "_view_module": "@jupyter-widgets/base",
            "_view_module_version": "1.2.0",
            "_view_name": "StyleView",
            "bar_color": null,
            "description_width": ""
          }
        },
        "8d28522723c0446e8597587688228dbb": {
          "model_module": "@jupyter-widgets/base",
          "model_name": "LayoutModel",
          "model_module_version": "1.2.0",
          "state": {
            "_model_module": "@jupyter-widgets/base",
            "_model_module_version": "1.2.0",
            "_model_name": "LayoutModel",
            "_view_count": null,
            "_view_module": "@jupyter-widgets/base",
            "_view_module_version": "1.2.0",
            "_view_name": "LayoutView",
            "align_content": null,
            "align_items": null,
            "align_self": null,
            "border": null,
            "bottom": null,
            "display": null,
            "flex": null,
            "flex_flow": null,
            "grid_area": null,
            "grid_auto_columns": null,
            "grid_auto_flow": null,
            "grid_auto_rows": null,
            "grid_column": null,
            "grid_gap": null,
            "grid_row": null,
            "grid_template_areas": null,
            "grid_template_columns": null,
            "grid_template_rows": null,
            "height": null,
            "justify_content": null,
            "justify_items": null,
            "left": null,
            "margin": null,
            "max_height": null,
            "max_width": null,
            "min_height": null,
            "min_width": null,
            "object_fit": null,
            "object_position": null,
            "order": null,
            "overflow": null,
            "overflow_x": null,
            "overflow_y": null,
            "padding": null,
            "right": null,
            "top": null,
            "visibility": null,
            "width": null
          }
        },
        "1ae50d5a4aca4a65b32185b8181e5c6a": {
          "model_module": "@jupyter-widgets/controls",
          "model_name": "DescriptionStyleModel",
          "model_module_version": "1.5.0",
          "state": {
            "_model_module": "@jupyter-widgets/controls",
            "_model_module_version": "1.5.0",
            "_model_name": "DescriptionStyleModel",
            "_view_count": null,
            "_view_module": "@jupyter-widgets/base",
            "_view_module_version": "1.2.0",
            "_view_name": "StyleView",
            "description_width": ""
          }
        },
        "14cda9665c6d40b2a5fa33b88c281600": {
          "model_module": "@jupyter-widgets/controls",
          "model_name": "HBoxModel",
          "model_module_version": "1.5.0",
          "state": {
            "_dom_classes": [],
            "_model_module": "@jupyter-widgets/controls",
            "_model_module_version": "1.5.0",
            "_model_name": "HBoxModel",
            "_view_count": null,
            "_view_module": "@jupyter-widgets/controls",
            "_view_module_version": "1.5.0",
            "_view_name": "HBoxView",
            "box_style": "",
            "children": [
              "IPY_MODEL_954172d8dca84740a9db01cf7bdc8840",
              "IPY_MODEL_178d48e8c504446abaca75f6919b8df3",
              "IPY_MODEL_62b43d95a6fa4a5b8a2a14ea44842e67"
            ],
            "layout": "IPY_MODEL_b02332c6c1194bbeb96649e794803d6b"
          }
        },
        "954172d8dca84740a9db01cf7bdc8840": {
          "model_module": "@jupyter-widgets/controls",
          "model_name": "HTMLModel",
          "model_module_version": "1.5.0",
          "state": {
            "_dom_classes": [],
            "_model_module": "@jupyter-widgets/controls",
            "_model_module_version": "1.5.0",
            "_model_name": "HTMLModel",
            "_view_count": null,
            "_view_module": "@jupyter-widgets/controls",
            "_view_module_version": "1.5.0",
            "_view_name": "HTMLView",
            "description": "",
            "description_tooltip": null,
            "layout": "IPY_MODEL_6fb82937fc344cbfb1a119ea988c1050",
            "placeholder": "​",
            "style": "IPY_MODEL_9fd9e62401ec4502bf1d5297647f0777",
            "value": "Downloading (…)solve/main/bpe.codes: 100%"
          }
        },
        "178d48e8c504446abaca75f6919b8df3": {
          "model_module": "@jupyter-widgets/controls",
          "model_name": "FloatProgressModel",
          "model_module_version": "1.5.0",
          "state": {
            "_dom_classes": [],
            "_model_module": "@jupyter-widgets/controls",
            "_model_module_version": "1.5.0",
            "_model_name": "FloatProgressModel",
            "_view_count": null,
            "_view_module": "@jupyter-widgets/controls",
            "_view_module_version": "1.5.0",
            "_view_name": "ProgressView",
            "bar_style": "success",
            "description": "",
            "description_tooltip": null,
            "layout": "IPY_MODEL_1247705520dc4ebc86e0f98779db38be",
            "max": 1135173,
            "min": 0,
            "orientation": "horizontal",
            "style": "IPY_MODEL_78595619b9a94462b5c695caf118ad49",
            "value": 1135173
          }
        },
        "62b43d95a6fa4a5b8a2a14ea44842e67": {
          "model_module": "@jupyter-widgets/controls",
          "model_name": "HTMLModel",
          "model_module_version": "1.5.0",
          "state": {
            "_dom_classes": [],
            "_model_module": "@jupyter-widgets/controls",
            "_model_module_version": "1.5.0",
            "_model_name": "HTMLModel",
            "_view_count": null,
            "_view_module": "@jupyter-widgets/controls",
            "_view_module_version": "1.5.0",
            "_view_name": "HTMLView",
            "description": "",
            "description_tooltip": null,
            "layout": "IPY_MODEL_80868803399a4458886755fd5e15483b",
            "placeholder": "​",
            "style": "IPY_MODEL_43c2326152174201b668ee1594881153",
            "value": " 1.14M/1.14M [00:00&lt;00:00, 16.6MB/s]"
          }
        },
        "b02332c6c1194bbeb96649e794803d6b": {
          "model_module": "@jupyter-widgets/base",
          "model_name": "LayoutModel",
          "model_module_version": "1.2.0",
          "state": {
            "_model_module": "@jupyter-widgets/base",
            "_model_module_version": "1.2.0",
            "_model_name": "LayoutModel",
            "_view_count": null,
            "_view_module": "@jupyter-widgets/base",
            "_view_module_version": "1.2.0",
            "_view_name": "LayoutView",
            "align_content": null,
            "align_items": null,
            "align_self": null,
            "border": null,
            "bottom": null,
            "display": null,
            "flex": null,
            "flex_flow": null,
            "grid_area": null,
            "grid_auto_columns": null,
            "grid_auto_flow": null,
            "grid_auto_rows": null,
            "grid_column": null,
            "grid_gap": null,
            "grid_row": null,
            "grid_template_areas": null,
            "grid_template_columns": null,
            "grid_template_rows": null,
            "height": null,
            "justify_content": null,
            "justify_items": null,
            "left": null,
            "margin": null,
            "max_height": null,
            "max_width": null,
            "min_height": null,
            "min_width": null,
            "object_fit": null,
            "object_position": null,
            "order": null,
            "overflow": null,
            "overflow_x": null,
            "overflow_y": null,
            "padding": null,
            "right": null,
            "top": null,
            "visibility": null,
            "width": null
          }
        },
        "6fb82937fc344cbfb1a119ea988c1050": {
          "model_module": "@jupyter-widgets/base",
          "model_name": "LayoutModel",
          "model_module_version": "1.2.0",
          "state": {
            "_model_module": "@jupyter-widgets/base",
            "_model_module_version": "1.2.0",
            "_model_name": "LayoutModel",
            "_view_count": null,
            "_view_module": "@jupyter-widgets/base",
            "_view_module_version": "1.2.0",
            "_view_name": "LayoutView",
            "align_content": null,
            "align_items": null,
            "align_self": null,
            "border": null,
            "bottom": null,
            "display": null,
            "flex": null,
            "flex_flow": null,
            "grid_area": null,
            "grid_auto_columns": null,
            "grid_auto_flow": null,
            "grid_auto_rows": null,
            "grid_column": null,
            "grid_gap": null,
            "grid_row": null,
            "grid_template_areas": null,
            "grid_template_columns": null,
            "grid_template_rows": null,
            "height": null,
            "justify_content": null,
            "justify_items": null,
            "left": null,
            "margin": null,
            "max_height": null,
            "max_width": null,
            "min_height": null,
            "min_width": null,
            "object_fit": null,
            "object_position": null,
            "order": null,
            "overflow": null,
            "overflow_x": null,
            "overflow_y": null,
            "padding": null,
            "right": null,
            "top": null,
            "visibility": null,
            "width": null
          }
        },
        "9fd9e62401ec4502bf1d5297647f0777": {
          "model_module": "@jupyter-widgets/controls",
          "model_name": "DescriptionStyleModel",
          "model_module_version": "1.5.0",
          "state": {
            "_model_module": "@jupyter-widgets/controls",
            "_model_module_version": "1.5.0",
            "_model_name": "DescriptionStyleModel",
            "_view_count": null,
            "_view_module": "@jupyter-widgets/base",
            "_view_module_version": "1.2.0",
            "_view_name": "StyleView",
            "description_width": ""
          }
        },
        "1247705520dc4ebc86e0f98779db38be": {
          "model_module": "@jupyter-widgets/base",
          "model_name": "LayoutModel",
          "model_module_version": "1.2.0",
          "state": {
            "_model_module": "@jupyter-widgets/base",
            "_model_module_version": "1.2.0",
            "_model_name": "LayoutModel",
            "_view_count": null,
            "_view_module": "@jupyter-widgets/base",
            "_view_module_version": "1.2.0",
            "_view_name": "LayoutView",
            "align_content": null,
            "align_items": null,
            "align_self": null,
            "border": null,
            "bottom": null,
            "display": null,
            "flex": null,
            "flex_flow": null,
            "grid_area": null,
            "grid_auto_columns": null,
            "grid_auto_flow": null,
            "grid_auto_rows": null,
            "grid_column": null,
            "grid_gap": null,
            "grid_row": null,
            "grid_template_areas": null,
            "grid_template_columns": null,
            "grid_template_rows": null,
            "height": null,
            "justify_content": null,
            "justify_items": null,
            "left": null,
            "margin": null,
            "max_height": null,
            "max_width": null,
            "min_height": null,
            "min_width": null,
            "object_fit": null,
            "object_position": null,
            "order": null,
            "overflow": null,
            "overflow_x": null,
            "overflow_y": null,
            "padding": null,
            "right": null,
            "top": null,
            "visibility": null,
            "width": null
          }
        },
        "78595619b9a94462b5c695caf118ad49": {
          "model_module": "@jupyter-widgets/controls",
          "model_name": "ProgressStyleModel",
          "model_module_version": "1.5.0",
          "state": {
            "_model_module": "@jupyter-widgets/controls",
            "_model_module_version": "1.5.0",
            "_model_name": "ProgressStyleModel",
            "_view_count": null,
            "_view_module": "@jupyter-widgets/base",
            "_view_module_version": "1.2.0",
            "_view_name": "StyleView",
            "bar_color": null,
            "description_width": ""
          }
        },
        "80868803399a4458886755fd5e15483b": {
          "model_module": "@jupyter-widgets/base",
          "model_name": "LayoutModel",
          "model_module_version": "1.2.0",
          "state": {
            "_model_module": "@jupyter-widgets/base",
            "_model_module_version": "1.2.0",
            "_model_name": "LayoutModel",
            "_view_count": null,
            "_view_module": "@jupyter-widgets/base",
            "_view_module_version": "1.2.0",
            "_view_name": "LayoutView",
            "align_content": null,
            "align_items": null,
            "align_self": null,
            "border": null,
            "bottom": null,
            "display": null,
            "flex": null,
            "flex_flow": null,
            "grid_area": null,
            "grid_auto_columns": null,
            "grid_auto_flow": null,
            "grid_auto_rows": null,
            "grid_column": null,
            "grid_gap": null,
            "grid_row": null,
            "grid_template_areas": null,
            "grid_template_columns": null,
            "grid_template_rows": null,
            "height": null,
            "justify_content": null,
            "justify_items": null,
            "left": null,
            "margin": null,
            "max_height": null,
            "max_width": null,
            "min_height": null,
            "min_width": null,
            "object_fit": null,
            "object_position": null,
            "order": null,
            "overflow": null,
            "overflow_x": null,
            "overflow_y": null,
            "padding": null,
            "right": null,
            "top": null,
            "visibility": null,
            "width": null
          }
        },
        "43c2326152174201b668ee1594881153": {
          "model_module": "@jupyter-widgets/controls",
          "model_name": "DescriptionStyleModel",
          "model_module_version": "1.5.0",
          "state": {
            "_model_module": "@jupyter-widgets/controls",
            "_model_module_version": "1.5.0",
            "_model_name": "DescriptionStyleModel",
            "_view_count": null,
            "_view_module": "@jupyter-widgets/base",
            "_view_module_version": "1.2.0",
            "_view_name": "StyleView",
            "description_width": ""
          }
        },
        "29a0c86294574364a78edea7523cccf6": {
          "model_module": "@jupyter-widgets/controls",
          "model_name": "HBoxModel",
          "model_module_version": "1.5.0",
          "state": {
            "_dom_classes": [],
            "_model_module": "@jupyter-widgets/controls",
            "_model_module_version": "1.5.0",
            "_model_name": "HBoxModel",
            "_view_count": null,
            "_view_module": "@jupyter-widgets/controls",
            "_view_module_version": "1.5.0",
            "_view_name": "HBoxView",
            "box_style": "",
            "children": [
              "IPY_MODEL_8817138c61b746a68da21398198b26b7",
              "IPY_MODEL_3c18d52b7d2b41f9a2cd0ff640995a2d",
              "IPY_MODEL_b8a1ec1947de41df8954d35601fb7c8e"
            ],
            "layout": "IPY_MODEL_d12151e286384dcaa14cb00c77f69c92"
          }
        },
        "8817138c61b746a68da21398198b26b7": {
          "model_module": "@jupyter-widgets/controls",
          "model_name": "HTMLModel",
          "model_module_version": "1.5.0",
          "state": {
            "_dom_classes": [],
            "_model_module": "@jupyter-widgets/controls",
            "_model_module_version": "1.5.0",
            "_model_name": "HTMLModel",
            "_view_count": null,
            "_view_module": "@jupyter-widgets/controls",
            "_view_module_version": "1.5.0",
            "_view_name": "HTMLView",
            "description": "",
            "description_tooltip": null,
            "layout": "IPY_MODEL_d8146aaf820748b6b51ff4f674b01cfb",
            "placeholder": "​",
            "style": "IPY_MODEL_6a589d8a32fe432aa3e24543888b61fe",
            "value": "Downloading pytorch_model.bin: 100%"
          }
        },
        "3c18d52b7d2b41f9a2cd0ff640995a2d": {
          "model_module": "@jupyter-widgets/controls",
          "model_name": "FloatProgressModel",
          "model_module_version": "1.5.0",
          "state": {
            "_dom_classes": [],
            "_model_module": "@jupyter-widgets/controls",
            "_model_module_version": "1.5.0",
            "_model_name": "FloatProgressModel",
            "_view_count": null,
            "_view_module": "@jupyter-widgets/controls",
            "_view_module_version": "1.5.0",
            "_view_name": "ProgressView",
            "bar_style": "success",
            "description": "",
            "description_tooltip": null,
            "layout": "IPY_MODEL_927f39b48bd3446aa8ca6236e7f01b95",
            "max": 540322347,
            "min": 0,
            "orientation": "horizontal",
            "style": "IPY_MODEL_16ca766a942a4744b321b2065841d130",
            "value": 540322347
          }
        },
        "b8a1ec1947de41df8954d35601fb7c8e": {
          "model_module": "@jupyter-widgets/controls",
          "model_name": "HTMLModel",
          "model_module_version": "1.5.0",
          "state": {
            "_dom_classes": [],
            "_model_module": "@jupyter-widgets/controls",
            "_model_module_version": "1.5.0",
            "_model_name": "HTMLModel",
            "_view_count": null,
            "_view_module": "@jupyter-widgets/controls",
            "_view_module_version": "1.5.0",
            "_view_name": "HTMLView",
            "description": "",
            "description_tooltip": null,
            "layout": "IPY_MODEL_d397882080f44d04b65e6f5c2630ff9f",
            "placeholder": "​",
            "style": "IPY_MODEL_a522610154514fa0a8159b7e9230226e",
            "value": " 540M/540M [00:08&lt;00:00, 80.3MB/s]"
          }
        },
        "d12151e286384dcaa14cb00c77f69c92": {
          "model_module": "@jupyter-widgets/base",
          "model_name": "LayoutModel",
          "model_module_version": "1.2.0",
          "state": {
            "_model_module": "@jupyter-widgets/base",
            "_model_module_version": "1.2.0",
            "_model_name": "LayoutModel",
            "_view_count": null,
            "_view_module": "@jupyter-widgets/base",
            "_view_module_version": "1.2.0",
            "_view_name": "LayoutView",
            "align_content": null,
            "align_items": null,
            "align_self": null,
            "border": null,
            "bottom": null,
            "display": null,
            "flex": null,
            "flex_flow": null,
            "grid_area": null,
            "grid_auto_columns": null,
            "grid_auto_flow": null,
            "grid_auto_rows": null,
            "grid_column": null,
            "grid_gap": null,
            "grid_row": null,
            "grid_template_areas": null,
            "grid_template_columns": null,
            "grid_template_rows": null,
            "height": null,
            "justify_content": null,
            "justify_items": null,
            "left": null,
            "margin": null,
            "max_height": null,
            "max_width": null,
            "min_height": null,
            "min_width": null,
            "object_fit": null,
            "object_position": null,
            "order": null,
            "overflow": null,
            "overflow_x": null,
            "overflow_y": null,
            "padding": null,
            "right": null,
            "top": null,
            "visibility": null,
            "width": null
          }
        },
        "d8146aaf820748b6b51ff4f674b01cfb": {
          "model_module": "@jupyter-widgets/base",
          "model_name": "LayoutModel",
          "model_module_version": "1.2.0",
          "state": {
            "_model_module": "@jupyter-widgets/base",
            "_model_module_version": "1.2.0",
            "_model_name": "LayoutModel",
            "_view_count": null,
            "_view_module": "@jupyter-widgets/base",
            "_view_module_version": "1.2.0",
            "_view_name": "LayoutView",
            "align_content": null,
            "align_items": null,
            "align_self": null,
            "border": null,
            "bottom": null,
            "display": null,
            "flex": null,
            "flex_flow": null,
            "grid_area": null,
            "grid_auto_columns": null,
            "grid_auto_flow": null,
            "grid_auto_rows": null,
            "grid_column": null,
            "grid_gap": null,
            "grid_row": null,
            "grid_template_areas": null,
            "grid_template_columns": null,
            "grid_template_rows": null,
            "height": null,
            "justify_content": null,
            "justify_items": null,
            "left": null,
            "margin": null,
            "max_height": null,
            "max_width": null,
            "min_height": null,
            "min_width": null,
            "object_fit": null,
            "object_position": null,
            "order": null,
            "overflow": null,
            "overflow_x": null,
            "overflow_y": null,
            "padding": null,
            "right": null,
            "top": null,
            "visibility": null,
            "width": null
          }
        },
        "6a589d8a32fe432aa3e24543888b61fe": {
          "model_module": "@jupyter-widgets/controls",
          "model_name": "DescriptionStyleModel",
          "model_module_version": "1.5.0",
          "state": {
            "_model_module": "@jupyter-widgets/controls",
            "_model_module_version": "1.5.0",
            "_model_name": "DescriptionStyleModel",
            "_view_count": null,
            "_view_module": "@jupyter-widgets/base",
            "_view_module_version": "1.2.0",
            "_view_name": "StyleView",
            "description_width": ""
          }
        },
        "927f39b48bd3446aa8ca6236e7f01b95": {
          "model_module": "@jupyter-widgets/base",
          "model_name": "LayoutModel",
          "model_module_version": "1.2.0",
          "state": {
            "_model_module": "@jupyter-widgets/base",
            "_model_module_version": "1.2.0",
            "_model_name": "LayoutModel",
            "_view_count": null,
            "_view_module": "@jupyter-widgets/base",
            "_view_module_version": "1.2.0",
            "_view_name": "LayoutView",
            "align_content": null,
            "align_items": null,
            "align_self": null,
            "border": null,
            "bottom": null,
            "display": null,
            "flex": null,
            "flex_flow": null,
            "grid_area": null,
            "grid_auto_columns": null,
            "grid_auto_flow": null,
            "grid_auto_rows": null,
            "grid_column": null,
            "grid_gap": null,
            "grid_row": null,
            "grid_template_areas": null,
            "grid_template_columns": null,
            "grid_template_rows": null,
            "height": null,
            "justify_content": null,
            "justify_items": null,
            "left": null,
            "margin": null,
            "max_height": null,
            "max_width": null,
            "min_height": null,
            "min_width": null,
            "object_fit": null,
            "object_position": null,
            "order": null,
            "overflow": null,
            "overflow_x": null,
            "overflow_y": null,
            "padding": null,
            "right": null,
            "top": null,
            "visibility": null,
            "width": null
          }
        },
        "16ca766a942a4744b321b2065841d130": {
          "model_module": "@jupyter-widgets/controls",
          "model_name": "ProgressStyleModel",
          "model_module_version": "1.5.0",
          "state": {
            "_model_module": "@jupyter-widgets/controls",
            "_model_module_version": "1.5.0",
            "_model_name": "ProgressStyleModel",
            "_view_count": null,
            "_view_module": "@jupyter-widgets/base",
            "_view_module_version": "1.2.0",
            "_view_name": "StyleView",
            "bar_color": null,
            "description_width": ""
          }
        },
        "d397882080f44d04b65e6f5c2630ff9f": {
          "model_module": "@jupyter-widgets/base",
          "model_name": "LayoutModel",
          "model_module_version": "1.2.0",
          "state": {
            "_model_module": "@jupyter-widgets/base",
            "_model_module_version": "1.2.0",
            "_model_name": "LayoutModel",
            "_view_count": null,
            "_view_module": "@jupyter-widgets/base",
            "_view_module_version": "1.2.0",
            "_view_name": "LayoutView",
            "align_content": null,
            "align_items": null,
            "align_self": null,
            "border": null,
            "bottom": null,
            "display": null,
            "flex": null,
            "flex_flow": null,
            "grid_area": null,
            "grid_auto_columns": null,
            "grid_auto_flow": null,
            "grid_auto_rows": null,
            "grid_column": null,
            "grid_gap": null,
            "grid_row": null,
            "grid_template_areas": null,
            "grid_template_columns": null,
            "grid_template_rows": null,
            "height": null,
            "justify_content": null,
            "justify_items": null,
            "left": null,
            "margin": null,
            "max_height": null,
            "max_width": null,
            "min_height": null,
            "min_width": null,
            "object_fit": null,
            "object_position": null,
            "order": null,
            "overflow": null,
            "overflow_x": null,
            "overflow_y": null,
            "padding": null,
            "right": null,
            "top": null,
            "visibility": null,
            "width": null
          }
        },
        "a522610154514fa0a8159b7e9230226e": {
          "model_module": "@jupyter-widgets/controls",
          "model_name": "DescriptionStyleModel",
          "model_module_version": "1.5.0",
          "state": {
            "_model_module": "@jupyter-widgets/controls",
            "_model_module_version": "1.5.0",
            "_model_name": "DescriptionStyleModel",
            "_view_count": null,
            "_view_module": "@jupyter-widgets/base",
            "_view_module_version": "1.2.0",
            "_view_name": "StyleView",
            "description_width": ""
          }
        },
        "f4e569e5a82b40d39094a2bf8259e510": {
          "model_module": "@jupyter-widgets/controls",
          "model_name": "HBoxModel",
          "model_module_version": "1.5.0",
          "state": {
            "_dom_classes": [],
            "_model_module": "@jupyter-widgets/controls",
            "_model_module_version": "1.5.0",
            "_model_name": "HBoxModel",
            "_view_count": null,
            "_view_module": "@jupyter-widgets/controls",
            "_view_module_version": "1.5.0",
            "_view_name": "HBoxView",
            "box_style": "",
            "children": [
              "IPY_MODEL_df1d72bf0c764c16b8fd2d6649fe1189",
              "IPY_MODEL_26f18970f5394ac3ac34cc815f7710f9",
              "IPY_MODEL_374e776913bf4947b4ff2247bda094e2"
            ],
            "layout": "IPY_MODEL_f4f97e7de01a4f018bfcfc135b96cfe6"
          }
        },
        "df1d72bf0c764c16b8fd2d6649fe1189": {
          "model_module": "@jupyter-widgets/controls",
          "model_name": "HTMLModel",
          "model_module_version": "1.5.0",
          "state": {
            "_dom_classes": [],
            "_model_module": "@jupyter-widgets/controls",
            "_model_module_version": "1.5.0",
            "_model_name": "HTMLModel",
            "_view_count": null,
            "_view_module": "@jupyter-widgets/controls",
            "_view_module_version": "1.5.0",
            "_view_name": "HTMLView",
            "description": "",
            "description_tooltip": null,
            "layout": "IPY_MODEL_b0ba4e0e95ff4ab8ab41439e1769a05c",
            "placeholder": "​",
            "style": "IPY_MODEL_3b944cbd5e3742ad85cc47323b93a618",
            "value": "Training:  33%"
          }
        },
        "26f18970f5394ac3ac34cc815f7710f9": {
          "model_module": "@jupyter-widgets/controls",
          "model_name": "FloatProgressModel",
          "model_module_version": "1.5.0",
          "state": {
            "_dom_classes": [],
            "_model_module": "@jupyter-widgets/controls",
            "_model_module_version": "1.5.0",
            "_model_name": "FloatProgressModel",
            "_view_count": null,
            "_view_module": "@jupyter-widgets/controls",
            "_view_module_version": "1.5.0",
            "_view_name": "ProgressView",
            "bar_style": "danger",
            "description": "",
            "description_tooltip": null,
            "layout": "IPY_MODEL_dfd2ad847b7340489a3c297ac145fad6",
            "max": 100,
            "min": 0,
            "orientation": "horizontal",
            "style": "IPY_MODEL_d53ace6d57fe4d51a48f95412c492032",
            "value": 33
          }
        },
        "374e776913bf4947b4ff2247bda094e2": {
          "model_module": "@jupyter-widgets/controls",
          "model_name": "HTMLModel",
          "model_module_version": "1.5.0",
          "state": {
            "_dom_classes": [],
            "_model_module": "@jupyter-widgets/controls",
            "_model_module_version": "1.5.0",
            "_model_name": "HTMLModel",
            "_view_count": null,
            "_view_module": "@jupyter-widgets/controls",
            "_view_module_version": "1.5.0",
            "_view_name": "HTMLView",
            "description": "",
            "description_tooltip": null,
            "layout": "IPY_MODEL_04af0bb23e984ff4b8ac165468cfe768",
            "placeholder": "​",
            "style": "IPY_MODEL_3532f90f0c8548fc93899a00e73874ef",
            "value": " 33/100 [15:39&lt;30:10, 27.02s/it, train_loss=2.14, valid_loss=1.27, valid_acc=0.68, train_acc=0.45]"
          }
        },
        "f4f97e7de01a4f018bfcfc135b96cfe6": {
          "model_module": "@jupyter-widgets/base",
          "model_name": "LayoutModel",
          "model_module_version": "1.2.0",
          "state": {
            "_model_module": "@jupyter-widgets/base",
            "_model_module_version": "1.2.0",
            "_model_name": "LayoutModel",
            "_view_count": null,
            "_view_module": "@jupyter-widgets/base",
            "_view_module_version": "1.2.0",
            "_view_name": "LayoutView",
            "align_content": null,
            "align_items": null,
            "align_self": null,
            "border": null,
            "bottom": null,
            "display": null,
            "flex": null,
            "flex_flow": null,
            "grid_area": null,
            "grid_auto_columns": null,
            "grid_auto_flow": null,
            "grid_auto_rows": null,
            "grid_column": null,
            "grid_gap": null,
            "grid_row": null,
            "grid_template_areas": null,
            "grid_template_columns": null,
            "grid_template_rows": null,
            "height": null,
            "justify_content": null,
            "justify_items": null,
            "left": null,
            "margin": null,
            "max_height": null,
            "max_width": null,
            "min_height": null,
            "min_width": null,
            "object_fit": null,
            "object_position": null,
            "order": null,
            "overflow": null,
            "overflow_x": null,
            "overflow_y": null,
            "padding": null,
            "right": null,
            "top": null,
            "visibility": null,
            "width": null
          }
        },
        "b0ba4e0e95ff4ab8ab41439e1769a05c": {
          "model_module": "@jupyter-widgets/base",
          "model_name": "LayoutModel",
          "model_module_version": "1.2.0",
          "state": {
            "_model_module": "@jupyter-widgets/base",
            "_model_module_version": "1.2.0",
            "_model_name": "LayoutModel",
            "_view_count": null,
            "_view_module": "@jupyter-widgets/base",
            "_view_module_version": "1.2.0",
            "_view_name": "LayoutView",
            "align_content": null,
            "align_items": null,
            "align_self": null,
            "border": null,
            "bottom": null,
            "display": null,
            "flex": null,
            "flex_flow": null,
            "grid_area": null,
            "grid_auto_columns": null,
            "grid_auto_flow": null,
            "grid_auto_rows": null,
            "grid_column": null,
            "grid_gap": null,
            "grid_row": null,
            "grid_template_areas": null,
            "grid_template_columns": null,
            "grid_template_rows": null,
            "height": null,
            "justify_content": null,
            "justify_items": null,
            "left": null,
            "margin": null,
            "max_height": null,
            "max_width": null,
            "min_height": null,
            "min_width": null,
            "object_fit": null,
            "object_position": null,
            "order": null,
            "overflow": null,
            "overflow_x": null,
            "overflow_y": null,
            "padding": null,
            "right": null,
            "top": null,
            "visibility": null,
            "width": null
          }
        },
        "3b944cbd5e3742ad85cc47323b93a618": {
          "model_module": "@jupyter-widgets/controls",
          "model_name": "DescriptionStyleModel",
          "model_module_version": "1.5.0",
          "state": {
            "_model_module": "@jupyter-widgets/controls",
            "_model_module_version": "1.5.0",
            "_model_name": "DescriptionStyleModel",
            "_view_count": null,
            "_view_module": "@jupyter-widgets/base",
            "_view_module_version": "1.2.0",
            "_view_name": "StyleView",
            "description_width": ""
          }
        },
        "dfd2ad847b7340489a3c297ac145fad6": {
          "model_module": "@jupyter-widgets/base",
          "model_name": "LayoutModel",
          "model_module_version": "1.2.0",
          "state": {
            "_model_module": "@jupyter-widgets/base",
            "_model_module_version": "1.2.0",
            "_model_name": "LayoutModel",
            "_view_count": null,
            "_view_module": "@jupyter-widgets/base",
            "_view_module_version": "1.2.0",
            "_view_name": "LayoutView",
            "align_content": null,
            "align_items": null,
            "align_self": null,
            "border": null,
            "bottom": null,
            "display": null,
            "flex": null,
            "flex_flow": null,
            "grid_area": null,
            "grid_auto_columns": null,
            "grid_auto_flow": null,
            "grid_auto_rows": null,
            "grid_column": null,
            "grid_gap": null,
            "grid_row": null,
            "grid_template_areas": null,
            "grid_template_columns": null,
            "grid_template_rows": null,
            "height": null,
            "justify_content": null,
            "justify_items": null,
            "left": null,
            "margin": null,
            "max_height": null,
            "max_width": null,
            "min_height": null,
            "min_width": null,
            "object_fit": null,
            "object_position": null,
            "order": null,
            "overflow": null,
            "overflow_x": null,
            "overflow_y": null,
            "padding": null,
            "right": null,
            "top": null,
            "visibility": null,
            "width": null
          }
        },
        "d53ace6d57fe4d51a48f95412c492032": {
          "model_module": "@jupyter-widgets/controls",
          "model_name": "ProgressStyleModel",
          "model_module_version": "1.5.0",
          "state": {
            "_model_module": "@jupyter-widgets/controls",
            "_model_module_version": "1.5.0",
            "_model_name": "ProgressStyleModel",
            "_view_count": null,
            "_view_module": "@jupyter-widgets/base",
            "_view_module_version": "1.2.0",
            "_view_name": "StyleView",
            "bar_color": null,
            "description_width": ""
          }
        },
        "04af0bb23e984ff4b8ac165468cfe768": {
          "model_module": "@jupyter-widgets/base",
          "model_name": "LayoutModel",
          "model_module_version": "1.2.0",
          "state": {
            "_model_module": "@jupyter-widgets/base",
            "_model_module_version": "1.2.0",
            "_model_name": "LayoutModel",
            "_view_count": null,
            "_view_module": "@jupyter-widgets/base",
            "_view_module_version": "1.2.0",
            "_view_name": "LayoutView",
            "align_content": null,
            "align_items": null,
            "align_self": null,
            "border": null,
            "bottom": null,
            "display": null,
            "flex": null,
            "flex_flow": null,
            "grid_area": null,
            "grid_auto_columns": null,
            "grid_auto_flow": null,
            "grid_auto_rows": null,
            "grid_column": null,
            "grid_gap": null,
            "grid_row": null,
            "grid_template_areas": null,
            "grid_template_columns": null,
            "grid_template_rows": null,
            "height": null,
            "justify_content": null,
            "justify_items": null,
            "left": null,
            "margin": null,
            "max_height": null,
            "max_width": null,
            "min_height": null,
            "min_width": null,
            "object_fit": null,
            "object_position": null,
            "order": null,
            "overflow": null,
            "overflow_x": null,
            "overflow_y": null,
            "padding": null,
            "right": null,
            "top": null,
            "visibility": null,
            "width": null
          }
        },
        "3532f90f0c8548fc93899a00e73874ef": {
          "model_module": "@jupyter-widgets/controls",
          "model_name": "DescriptionStyleModel",
          "model_module_version": "1.5.0",
          "state": {
            "_model_module": "@jupyter-widgets/controls",
            "_model_module_version": "1.5.0",
            "_model_name": "DescriptionStyleModel",
            "_view_count": null,
            "_view_module": "@jupyter-widgets/base",
            "_view_module_version": "1.2.0",
            "_view_name": "StyleView",
            "description_width": ""
          }
        }
      }
    },
    "accelerator": "GPU"
  },
  "nbformat": 4,
  "nbformat_minor": 0
}
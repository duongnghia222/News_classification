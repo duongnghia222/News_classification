{
 "cells": [
  {
   "cell_type": "code",
   "execution_count": 32,
   "metadata": {},
   "outputs": [
    {
     "name": "stderr",
     "output_type": "stream",
     "text": [
      "  0%|          | 0/10 [00:00<?, ?it/s]"
     ]
    },
    {
     "name": "stdout",
     "output_type": "stream",
     "text": [
      "10\n"
     ]
    },
    {
     "name": "stderr",
     "output_type": "stream",
     "text": [
      "100%|██████████| 10/10 [00:05<00:00,  1.82it/s]\n",
      " 10%|█         | 1/10 [00:08<01:13,  8.17s/it]"
     ]
    },
    {
     "name": "stdout",
     "output_type": "stream",
     "text": [
      "10\n"
     ]
    },
    {
     "name": "stderr",
     "output_type": "stream",
     "text": [
      "100%|██████████| 10/10 [00:03<00:00,  2.69it/s]\n",
      " 20%|██        | 2/10 [00:13<00:53,  6.73s/it]"
     ]
    },
    {
     "name": "stdout",
     "output_type": "stream",
     "text": [
      "10\n"
     ]
    },
    {
     "name": "stderr",
     "output_type": "stream",
     "text": [
      "100%|██████████| 10/10 [00:01<00:00,  6.57it/s]\n",
      " 30%|███       | 3/10 [00:15<00:32,  4.59s/it]"
     ]
    },
    {
     "name": "stdout",
     "output_type": "stream",
     "text": [
      "10\n"
     ]
    },
    {
     "name": "stderr",
     "output_type": "stream",
     "text": [
      "100%|██████████| 10/10 [00:01<00:00,  7.47it/s]\n",
      " 40%|████      | 4/10 [00:17<00:20,  3.49s/it]"
     ]
    },
    {
     "name": "stdout",
     "output_type": "stream",
     "text": [
      "10\n"
     ]
    },
    {
     "name": "stderr",
     "output_type": "stream",
     "text": [
      "100%|██████████| 10/10 [00:01<00:00,  8.53it/s]\n",
      " 50%|█████     | 5/10 [00:20<00:15,  3.08s/it]"
     ]
    },
    {
     "name": "stdout",
     "output_type": "stream",
     "text": [
      "10\n"
     ]
    },
    {
     "name": "stderr",
     "output_type": "stream",
     "text": [
      "100%|██████████| 10/10 [00:01<00:00,  8.65it/s]\n",
      " 60%|██████    | 6/10 [00:22<00:11,  2.78s/it]"
     ]
    },
    {
     "name": "stdout",
     "output_type": "stream",
     "text": [
      "10\n"
     ]
    },
    {
     "name": "stderr",
     "output_type": "stream",
     "text": [
      "100%|██████████| 10/10 [00:01<00:00,  9.20it/s]\n",
      " 70%|███████   | 7/10 [00:24<00:07,  2.61s/it]"
     ]
    },
    {
     "name": "stdout",
     "output_type": "stream",
     "text": [
      "10\n"
     ]
    },
    {
     "name": "stderr",
     "output_type": "stream",
     "text": [
      "100%|██████████| 10/10 [00:01<00:00,  8.92it/s]\n",
      " 80%|████████  | 8/10 [00:26<00:05,  2.54s/it]"
     ]
    },
    {
     "name": "stdout",
     "output_type": "stream",
     "text": [
      "10\n"
     ]
    },
    {
     "name": "stderr",
     "output_type": "stream",
     "text": [
      "100%|██████████| 10/10 [00:00<00:00, 10.46it/s]\n",
      " 90%|█████████ | 9/10 [00:29<00:02,  2.56s/it]"
     ]
    },
    {
     "name": "stdout",
     "output_type": "stream",
     "text": [
      "10\n"
     ]
    },
    {
     "name": "stderr",
     "output_type": "stream",
     "text": [
      "100%|██████████| 10/10 [00:02<00:00,  4.91it/s]\n",
      "100%|██████████| 10/10 [00:34<00:00,  3.44s/it]"
     ]
    },
    {
     "name": "stdout",
     "output_type": "stream",
     "text": [
      "[{'title': 'Trước thềm ĐHĐCĐ thường niên 2023, Chủ tịch Ủy ban kiểm toán TVC nộp đơn xin từ nhiệm', 'link': 'https://vietstock.vn/2023/06/truoc-them-dhdcd-thuong-nien-2023-chu-tich-uy-ban-kiem-toan-tvc-nop-don-xin-tu-nhiem-214-1081104.htm', 'time': '22/06 16:45', 'type': 'NHÂN VẬT'}, {'title': 'Công ty sở hữu Galaxy Play thông tin việc chậm thanh toán trái phiếu', 'link': 'https://vietstock.vn/2023/06/cong-ty-so-huu-galaxy-play-thong-tin-viec-cham-thanh-toan-trai-phieu-3118-1081017.htm', 'time': '22/06 16:30', 'type': 'TRÁI PHIẾU DOANH NGHIỆP'}, {'title': 'ĐHĐCĐ thường niên 2023 lần 2 của LDG bất thành', 'link': 'https://vietstock.vn/2023/06/dhdcd-thuong-nien-2023-lan-2-cua-ldg-bat-thanh-737-1081059.htm', 'time': '22/06 15:45', 'type': 'HOẠT ĐỘNG KINH DOANH'}, {'title': 'Chủ tịch Bùi Thành Nhơn gửi lời xin lỗi, sẵn sàng chấp nhận mọi mất mát, cam kết hành động bù đắp cho cổ đông, khách hàng', 'link': 'https://vietstock.vn/2023/06/chu-tich-bui-thanh-nhon-gui-loi-xin-loi-san-sang-chap-nhan-moi-mat-mat-cam-ket-hanh-dong-bu-dap-cho-co-dong-khach-hang-737-1081066.htm', 'time': '22/06 15:27', 'type': 'HOẠT ĐỘNG KINH DOANH'}, {'title': 'SZC chốt quyền trả cổ tức tỷ lệ 20% bằng cổ phiếu', 'link': 'https://vietstock.vn/2023/06/szc-chot-quyen-tra-co-tuc-ty-le-20-bang-co-phieu-738-1081026.htm', 'time': '22/06 15:00', 'type': 'CỔ TỨC'}, {'title': 'Thủy điện Định Bình sắp chi hơn 16 tỷ trả cổ tức đợt 1/2023', 'link': 'https://vietstock.vn/2023/06/thuy-dien-dinh-binh-sap-chi-hon-16-ty-tra-co-tuc-dot-12023-738-1081005.htm', 'time': '22/06 14:00', 'type': 'CỔ TỨC'}, {'title': 'ĐHĐCĐ TMP: Kế hoạch giảm nửa lợi nhuận 2023, quý 2 kết quả khả quan', 'link': 'https://vietstock.vn/2023/06/dhdcd-tmp-ke-hoach-giam-nua-loi-nhuan-2023-quy-2-ket-qua-kha-quan-737-1080860.htm', 'time': '22/06 11:53', 'type': 'HOẠT ĐỘNG KINH DOANH'}, {'title': 'Victory Capital sẽ chào bán 100 triệu cp riêng lẻ', 'link': 'https://vietstock.vn/2023/06/victory-capital-se-chao-ban-100-trieu-cp-rieng-le-764-1080969.htm', 'time': '22/06 11:30', 'type': 'TĂNG VỐN - M&A'}, {'title': 'Shark Louis Nguyễn muốn rời HĐQT LDG chỉ sau 1 năm tham gia', 'link': 'https://vietstock.vn/2023/06/shark-louis-nguyen-muon-roi-hdqt-ldg-chi-sau-1-nam-tham-gia-214-1080998.htm', 'time': '22/06 11:25', 'type': 'NHÂN VẬT'}, {'title': 'Doanh nghiệp nào đang sở hữu nhiều chương trình hấp dẫn nhất với nguồn lực trẻ, nguồn lực công nghệ?', 'link': 'https://vietstock.vn/2023/06/doanh-nghiep-nao-dang-so-huu-nhieu-chuong-trinh-hap-dan-nhat-voi-nguon-luc-tre-nguon-luc-cong-nghe-737-1080972.htm', 'time': '22/06 10:12', 'type': 'HOẠT ĐỘNG KINH DOANH'}, {'title': 'THACO bị phạt tiền vì vi phạm công bố thông tin liên quan phát hành trái phiếu\\xa0', 'link': 'https://vietstock.vn/2023/06/thaco-bi-phat-tien-vi-vi-pham-cong-bo-thong-tin-lien-quan-phat-hanh-trai-phieu-3118-1080968.htm', 'time': '22/06 10:10', 'type': 'TRÁI PHIẾU DOANH NGHIỆP'}, {'title': 'Ông Hồ Nam Tiến chính thức làm Tổng Giám đốc LPBank\\xa0', 'link': 'https://vietstock.vn/2023/06/ong-ho-nam-tien-chinh-thuc-lam-tong-giam-doc-lpbank-214-1080959.htm', 'time': '22/06 09:26', 'type': 'NHÂN VẬT'}, {'title': 'HSG sắp phát hành gần 18 triệu cp trả cổ tức 2021 - 2022', 'link': 'https://vietstock.vn/2023/06/hsg-sap-phat-hanh-gan-18-trieu-cp-tra-co-tuc-2021-2022-738-1080762.htm', 'time': '22/06 09:05', 'type': 'CỔ TỨC'}, {'title': 'Lãi ròng FPT vượt 2.5 ngàn tỷ sau 5 tháng, tăng 20%', 'link': 'https://vietstock.vn/2023/06/lai-rong-fpt-vuot-25-ngan-ty-sau-5-thang-tang-20-737-1080885.htm', 'time': '22/06 08:40', 'type': 'HOẠT ĐỘNG KINH DOANH'}, {'title': 'Bamboo Airways có tân Chủ tịch HĐQT là người Nhật', 'link': 'https://vietstock.vn/2023/06/bamboo-airways-co-tan-chu-tich-hdqt-la-nguoi-nhat-737-1080810.htm', 'time': '21/06 17:13', 'type': 'HOẠT ĐỘNG KINH DOANH'}, {'title': 'PNJ lãi 5 tháng gần 1,000 tỷ, thực hiện 50% kế hoạch năm', 'link': 'https://vietstock.vn/2023/06/pnj-lai-5-thang-gan-1000-ty-thuc-hien-50-ke-hoach-nam-737-1080754.htm', 'time': '21/06 17:00', 'type': 'HOẠT ĐỘNG KINH DOANH'}, {'title': 'ĐHĐCĐ STG: Hợp tác với nhà khai thác cảng hàng đầu thế giới PSA, không chia cổ tức 2023', 'link': 'https://vietstock.vn/2023/06/dhdcd-stg-hop-tac-voi-nha-khai-thac-cang-hang-dau-the-gioi-psa-khong-chia-co-tuc-2023-737-1080711.htm', 'time': '21/06 16:07', 'type': 'HOẠT ĐỘNG KINH DOANH'}, {'title': 'Vinasun muốn nâng cổ tức 2023 bằng tiền lên 45%', 'link': 'https://vietstock.vn/2023/06/vinasun-muon-nang-co-tuc-2023-bang-tien-len-45-738-1080712.htm', 'time': '21/06 16:00', 'type': 'CỔ TỨC'}, {'title': 'Giảm so với cùng kỳ, chủ chuỗi G Kitchen vẫn lãi mỗi ngày hơn 1.1 tỷ đồng', 'link': 'https://vietstock.vn/2023/06/giam-so-voi-cung-ky-chu-chuoi-g-kitchen-van-lai-moi-ngay-hon-11-ty-dong-737-1080656.htm', 'time': '21/06 15:44', 'type': 'HOẠT ĐỘNG KINH DOANH'}, {'title': 'Bamboo Airways đặt mục tiêu hết lỗ năm 2024, các lãnh đạo Japan Airlines và Sacombank vào HĐQT', 'link': 'https://vietstock.vn/2023/06/bamboo-airways-dat-muc-tieu-het-lo-nam-2024-cac-lanh-dao-japan-airlines-va-sacombank-vao-hdqt-737-1080654.htm', 'time': '21/06 15:19', 'type': 'HOẠT ĐỘNG KINH DOANH'}, {'title': 'Tập đoàn Đèo Cả dự kiến trả cổ tức tối đa 80% lãi sau thuế, đầu tư 26,000 tỷ giai đoạn 2023-2025', 'link': 'https://vietstock.vn/2023/06/tap-doan-deo-ca-du-kien-tra-co-tuc-toi-da-80-lai-sau-thue-dau-tu-26000-ty-giai-doan-2023-2025-737-1080629.htm', 'time': '21/06 14:00', 'type': 'HOẠT ĐỘNG KINH DOANH'}, {'title': 'Giao dịch thứ cấp trái phiếu riêng lẻ là giao dịch T+0', 'link': 'https://vietstock.vn/2023/06/giao-dich-thu-cap-trai-phieu-rieng-le-la-giao-dich-t0-3118-1080637.htm', 'time': '21/06 13:51', 'type': 'TRÁI PHIẾU DOANH NGHIỆP'}, {'title': 'Chứng khoán Beta hủy bỏ phát hành 12 triệu cp tăng vốn lẫn đăng ký giao dịch UPCoM', 'link': 'https://vietstock.vn/2023/06/chung-khoan-beta-huy-bo-phat-hanh-12-trieu-cp-tang-von-lan-dang-ky-giao-dich-upcom-737-1080625.htm', 'time': '21/06 13:05', 'type': 'HOẠT ĐỘNG KINH DOANH'}, {'title': 'CNG trả cổ tức bằng tiền và thưởng cổ phiếu tổng tỷ lệ 50%', 'link': 'https://vietstock.vn/2023/06/cng-tra-co-tuc-bang-tien-va-thuong-co-phieu-tong-ty-le-50-738-1080616.htm', 'time': '21/06 10:45', 'type': 'CỔ TỨC'}, {'title': 'THIBIDI muốn chi 688 tỷ đồng mua hơn 7 triệu cp TBD', 'link': 'https://vietstock.vn/2023/06/thibidi-muon-chi-688-ty-dong-mua-hon-7-trieu-cp-tbd-739-1080612.htm', 'time': '21/06 10:05', 'type': 'GIAO DỊCH NỘI BỘ'}, {'title': 'Thành viên HĐQT ST8 đồng loạt từ nhiệm', 'link': 'https://vietstock.vn/2023/06/thanh-vien-hdqt-st8-dong-loat-tu-nhiem-214-1080608.htm', 'time': '21/06 09:37', 'type': 'NHÂN VẬT'}, {'title': 'Đi tìm chất lượng lợi nhuận của ông lớn ngành sữa', 'link': 'https://vietstock.vn/2023/06/di-tim-chat-luong-loi-nhuan-cua-ong-lon-nganh-sua-737-1080589.htm', 'time': '21/06 09:10', 'type': 'HOẠT ĐỘNG KINH DOANH'}, {'title': 'Chứng khoán HSC được 3 ngân hàng cấp hạn mức tín dụng 11,000 tỷ đồng', 'link': 'https://vietstock.vn/2023/06/chung-khoan-hsc-duoc-3-ngan-hang-cap-han-muc-tin-dung-11000-ty-dong-737-1080575.htm', 'time': '20/06 19:45', 'type': 'HOẠT ĐỘNG KINH DOANH'}, {'title': 'Một doanh nghiệp phân phối xăng dầu muốn thưởng cổ phiếu tỷ lệ trên 281%', 'link': 'https://vietstock.vn/2023/06/mot-doanh-nghiep-phan-phoi-xang-dau-muon-thuong-co-phieu-ty-le-tren-281-764-1080555.htm', 'time': '20/06 19:00', 'type': 'TĂNG VỐN - M&A'}, {'title': 'Chủ tịch DIG kêu gọi cổ đông tham dự ĐHĐCĐ', 'link': 'https://vietstock.vn/2023/06/chu-tich-dig-keu-goi-co-dong-tham-du-dhdcd-737-1080576.htm', 'time': '20/06 18:29', 'type': 'HOẠT ĐỘNG KINH DOANH'}, {'title': 'Tập đoàn Đèo Cả dự kiến trả cổ tức tối đa 80% lãi sau thuế, đầu tư 26,000 tỷ giai đoạn 2023-2025', 'link': 'https://vietstock.vn/2023/06/tap-doan-deo-ca-du-kien-tra-co-tuc-toi-da-80-lai-sau-thue-dau-tu-26000-ty-giai-doan-2023-2025-737-1080629.htm', 'time': '21/06 14:00', 'type': 'HOẠT ĐỘNG KINH DOANH'}, {'title': 'Giao dịch thứ cấp trái phiếu riêng lẻ là giao dịch T+0', 'link': 'https://vietstock.vn/2023/06/giao-dich-thu-cap-trai-phieu-rieng-le-la-giao-dich-t0-3118-1080637.htm', 'time': '21/06 13:51', 'type': 'TRÁI PHIẾU DOANH NGHIỆP'}, {'title': 'Sonadezi Long Bình sắp chi 54 tỷ đồng trả cổ tức đợt 2/2022', 'link': 'https://vietstock.vn/2023/06/sonadezi-long-binh-sap-chi-54-ty-dong-tra-co-tuc-dot-22022-738-1080421.htm', 'time': '20/06 16:15', 'type': 'CỔ TỨC'}, {'title': 'Tổng Giám đốc HBC: Tái cấu trúc tài chính là ưu tiên hàng đầu của Hòa Bình trong lúc này', 'link': 'https://vietstock.vn/2023/06/tong-giam-doc-hbc-tai-cau-truc-tai-chinh-la-uu-tien-hang-dau-cua-hoa-binh-trong-luc-nay-737-1080430.htm', 'time': '20/06 15:36', 'type': 'HOẠT ĐỘNG KINH DOANH'}, {'title': 'Cholimex sắp chi 26 tỷ trả cổ tức đợt 2/2022', 'link': 'https://vietstock.vn/2023/06/cholimex-sap-chi-26-ty-tra-co-tuc-dot-22022-738-1080376.htm', 'time': '20/06 15:00', 'type': 'CỔ TỨC'}, {'title': '“Ẩn số” ứng viên HĐQT Bamboo Airways Trần Hòa Bình là ai?', 'link': 'https://vietstock.vn/2023/06/an-so-ung-vien-hdqt-bamboo-airways-tran-hoa-binh-la-ai-214-1080383.htm', 'time': '20/06 13:57', 'type': 'NHÂN VẬT'}, {'title': 'ASM quan tâm dự án hơn 600 tỷ ở Thanh Hóa', 'link': 'https://vietstock.vn/2023/06/asm-quan-tam-du-an-hon-600-ty-o-thanh-hoa-4222-1080381.htm', 'time': '20/06 13:47', 'type': 'DỰ ÁN'}, {'title': 'Phó Tổng Giám đốc FLC Stone xin từ nhiệm sau 5 tháng nhậm chức', 'link': 'https://vietstock.vn/2023/06/pho-tong-giam-doc-flc-stone-xin-tu-nhiem-sau-5-thang-nham-chuc-214-1080351.htm', 'time': '20/06 10:50', 'type': 'NHÂN VẬT'}, {'title': 'HPP sắp trả cổ tức tiền mặt tỷ lệ 20%', 'link': 'https://vietstock.vn/2023/06/hpp-sap-tra-co-tuc-tien-mat-ty-le-20-738-1080344.htm', 'time': '20/06 10:35', 'type': 'CỔ TỨC'}, {'title': 'Khai thiếu thuế, HAM bị phạt và truy thu hơn 377 triệu đồng', 'link': 'https://vietstock.vn/2023/06/khai-thieu-thue-ham-bi-phat-va-truy-thu-hon-377-trieu-dong-737-1080294.htm', 'time': '20/06 10:05', 'type': 'HOẠT ĐỘNG KINH DOANH'}, {'title': 'Sợi Thế Kỷ sắp phát hành hơn 12 triệu cp trả cổ tức', 'link': 'https://vietstock.vn/2023/06/soi-the-ky-sap-phat-hanh-hon-12-trieu-cp-tra-co-tuc-738-1080432.htm', 'time': '20/06 17:00', 'type': 'CỔ TỨC'}, {'title': 'Vợ ông Trần Quí Thanh làm Tổng Giám đốc Tân Hiệp Phát', 'link': 'https://vietstock.vn/2023/06/cap-nuoc-phu-my-se-chi-hon-56-ty-dong-tra-co-tuc-2022-738-1080269.htm', 'time': '20/06 08:20', 'type': 'CỔ TỨC'}, {'title': 'Lãi tháng 5 của HAG đạt 82 tỷ đồng, gấp 2.5 lần tháng trước', 'link': 'https://vietstock.vn/2023/06/lai-thang-5-cua-hag-dat-82-ty-dong-gap-25-lan-thang-truoc-737-1080165.htm', 'time': '19/06 17:15', 'type': 'HOẠT ĐỘNG KINH DOANH'}, {'title': 'Tổng Giám đốc ngoại được đề cử vào HĐQT NVL', 'link': 'https://vietstock.vn/2023/06/tong-giam-doc-ngoai-duoc-de-cu-vao-hdqt-nvl-214-1080166.htm', 'time': '19/06 16:50', 'type': 'NHÂN VẬT'}, {'title': 'TDM chào bán 10 triệu cp, huy động 300 tỷ đồng cho mục tiêu M&A\\xa0', 'link': 'https://vietstock.vn/2023/06/tdm-chao-ban-10-trieu-cp-huy-dong-300-ty-dong-cho-muc-tieu-ma-764-1080126.htm', 'time': '19/06 16:06', 'type': 'TĂNG VỐN - M&A'}, {'title': 'TCM lãi 5 tháng gần 4.3 triệu USD, thiếu đơn hàng cho quý 2', 'link': 'https://vietstock.vn/2023/06/tcm-lai-5-thang-gan-43-trieu-usd-thieu-don-hang-cho-quy-2-737-1080110.htm', 'time': '19/06 15:33', 'type': 'HOẠT ĐỘNG KINH DOANH'}, {'title': 'HBC lỗ hơn 2,594 tỷ đồng năm 2022 sau kiểm toán, đặt kế hoạch lợi nhuận 2023 thấp nhất trong 11 năm', 'link': 'https://vietstock.vn/2023/06/hbc-lo-hon-2594-ty-dong-nam-2022-sau-kiem-toan-dat-ke-hoach-loi-nhuan-2023-thap-nhat-trong-11-nam-737-1080092.htm', 'time': '19/06 15:07', 'type': 'HOẠT ĐỘNG KINH DOANH'}, {'title': 'Kiến Vàng Invest báo lãi giảm 95%, hai lô trái phiếu 60 tỷ sát ngày đáo hạn', 'link': 'https://vietstock.vn/2023/06/kien-vang-invest-bao-lai-giam-95-hai-lo-trai-phieu-60-ty-sat-ngay-dao-han-737-1080074.htm', 'time': '19/06 15:05', 'type': 'HOẠT ĐỘNG KINH DOANH'}, {'title': 'Vinatex sắp chi 300 tỷ đồng trả cổ tức 2022', 'link': 'https://vietstock.vn/2023/06/vinatex-sap-chi-300-ty-dong-tra-co-tuc-2022-738-1080027.htm', 'time': '19/06 14:00', 'type': 'CỔ TỨC'}, {'title': 'BLT sắp chi cổ tức tiền mặt tỷ lệ 40%', 'link': 'https://vietstock.vn/2023/06/blt-sap-chi-co-tuc-tien-mat-ty-le-40-738-1080024.htm', 'time': '19/06 13:13', 'type': 'CỔ TỨC'}, {'title': 'Công ty liên quan Phó Chủ tịch NDX làm chủ đầu tư dự án Aqua Tower', 'link': 'https://vietstock.vn/2023/06/cong-ty-lien-quan-pho-chu-tich-ndx-lam-chu-dau-tu-du-an-aqua-tower-4222-1080022.htm', 'time': '19/06 12:04', 'type': 'DỰ ÁN'}, {'title': 'Cổ đông ngoại lớn nhất của IDP muốn chi gần 611 tỷ mua hết số cổ phiếu chào bán riêng lẻ', 'link': 'https://vietstock.vn/2023/06/co-dong-ngoai-lon-nhat-cua-idp-muon-chi-gan-611-ty-mua-het-so-co-phieu-chao-ban-rieng-le-764-1080000.htm', 'time': '19/06 11:30', 'type': 'TĂNG VỐN - M&A'}, {'title': 'Dược Bến Tre sẽ mua thêm 1.2 triệu cổ phần, nhắm đến thâu tóm một doanh nghiệp dược', 'link': 'https://vietstock.vn/2023/06/duoc-ben-tre-se-mua-them-12-trieu-co-phan-nham-den-thau-tom-mot-doanh-nghiep-duoc-764-1079996.htm', 'time': '19/06 10:25', 'type': 'TĂNG VỐN - M&A'}, {'title': 'CEO VNDirect Phạm Minh Hương: Vụ việc trái phiếu Trung Nam là bài học đắt giá', 'link': 'https://vietstock.vn/2023/06/ceo-vndirect-pham-minh-huong-vu-viec-trai-phieu-trung-nam-la-bai-hoc-dat-gia-737-1079938.htm', 'time': '18/06 22:00', 'type': 'HOẠT ĐỘNG KINH DOANH'}, {'title': 'Lãnh đạo VNDirect: 90% giao dịch trên thị trường chứng khoán là lỗ', 'link': 'https://vietstock.vn/2023/06/lanh-dao-vndirect-90-giao-dich-tren-thi-truong-chung-khoan-la-lo-737-1079939.htm', 'time': '18/06 18:00', 'type': 'HOẠT ĐỘNG KINH DOANH'}, {'title': 'Tuần từ 19-23/06: Xuất hiện doanh nghiệp chốt quyền trả cổ tức gấp 9 lần thị giá', 'link': 'https://vietstock.vn/2023/06/tuan-tu-19-2306-xuat-hien-doanh-nghiep-chot-quyen-tra-co-tuc-gap-9-lan-thi-gia-738-1079917.htm', 'time': '18/06 15:00', 'type': 'CỔ TỨC'}, {'title': 'Ông Lê Viết Hải đề cử tân Tổng Giám đốc HBC và Chủ tịch Bất động sản Thành Ngân vào HĐQT\\xa0', 'link': 'https://vietstock.vn/2023/06/ong-le-viet-hai-de-cu-tan-tong-giam-doc-hbc-va-chu-tich-bat-dong-san-thanh-ngan-vao-hdqt-214-1079942.htm', 'time': '18/06 11:00', 'type': 'NHÂN VẬT'}, {'title': 'VNZ đặt kế hoạch giảm lỗ còn 378 tỷ đồng, thay đổi phương án xử lý hơn 7.1 triệu cp quỹ', 'link': 'https://vietstock.vn/2023/06/vnz-dat-ke-hoach-giam-lo-con-378-ty-dong-thay-doi-phuong-an-xu-ly-hon-71-trieu-cp-quy-737-1079933.htm', 'time': '17/06 18:34', 'type': 'HOẠT ĐỘNG KINH DOANH'}, {'title': 'ĐHĐCĐ TVB: Kế hoạch lãi sau thuế 16 tỷ đồng, mua lại 5 triệu cp để giảm vốn điều lệ', 'link': 'https://vietstock.vn/2023/06/dhdcd-tvb-ke-hoach-lai-sau-thue-16-ty-dong-mua-lai-5-trieu-cp-de-giam-von-dieu-le-737-1079927.htm', 'time': '17/06 18:30', 'type': 'HOẠT ĐỘNG KINH DOANH'}, {'title': 'ĐHĐCĐ VNDirect: Cần nhiều thời gian để tìm nhà đầu tư chiến lược', 'link': 'https://vietstock.vn/2023/06/dhdcd-vndirect-can-nhieu-thoi-gian-de-tim-nha-dau-tu-chien-luoc-737-1079932.htm', 'time': '17/06 18:09', 'type': 'HOẠT ĐỘNG KINH DOANH'}, {'title': 'IFC đầu tư 460 tỷ đồng mở rộng chuỗi cửa hàng tiện lợi GS25', 'link': 'https://vietstock.vn/2023/06/ifc-dau-tu-460-ty-dong-mo-rong-chuoi-cua-hang-tien-loi-gs25-737-1079922.htm', 'time': '17/06 16:00', 'type': 'HOẠT ĐỘNG KINH DOANH'}, {'title': 'Một công ty nuôi heo tại Đắk Nông bị phạt hơn 1.4 tỷ', 'link': 'https://vietstock.vn/2023/06/mot-cong-ty-nuoi-heo-tai-dak-nong-bi-phat-hon-14-ty-737-1079920.htm', 'time': '17/06 15:13', 'type': 'HOẠT ĐỘNG KINH DOANH'}, {'title': 'AGM giải thích việc chậm trả lãi lô trái phiếu 300 tỷ', 'link': 'https://vietstock.vn/2023/06/agm-giai-thich-viec-cham-tra-lai-lo-trai-phieu-300-ty-3118-1079913.htm', 'time': '17/06 15:00', 'type': 'TRÁI PHIẾU DOANH NGHIỆP'}, {'title': 'Người của Sacombank được đề cử vào HĐQT Bamboo Airways', 'link': 'https://vietstock.vn/2023/06/nguoi-cua-sacombank-duoc-de-cu-vao-hdqt-bamboo-airways-737-1079906.htm', 'time': '17/06 09:30', 'type': 'HOẠT ĐỘNG KINH DOANH'}, {'title': 'Cao su Bến Thành sắp chia cổ tức bằng tiền, tỷ lệ 12.5%', 'link': 'https://vietstock.vn/2023/06/cao-su-ben-thanh-sap-chia-co-tuc-bang-tien-ty-le-125-738-1079817.htm', 'time': '17/06 09:12', 'type': 'CỔ TỨC'}, {'title': 'Reuters: Thương vụ SPAC giữa VinFast và Black Spade có thể hoàn thành trong năm nay', 'link': 'https://vietstock.vn/2023/06/reuters-thuong-vu-spac-giua-vinfast-va-black-spade-co-the-hoan-thanh-trong-nam-nay-737-1079899.htm', 'time': '17/06 09:05', 'type': 'HOẠT ĐỘNG KINH DOANH'}, {'title': 'Tại sao diện tích giao đất khu công nghiệp NTC3 của NTC lại nhỏ hơn chủ trương đầu tư?', 'link': 'https://vietstock.vn/2023/06/tai-sao-dien-tich-giao-dat-khu-cong-nghiep-ntc3-cua-ntc-lai-nho-hon-chu-truong-dau-tu-4222-1079706.htm', 'time': '17/06 08:52', 'type': 'DỰ ÁN'}, {'title': 'AGP sắp chi gần 9 tỷ đồng và 1.8 triệu cp để chi trả cổ tức 2022', 'link': 'https://vietstock.vn/2023/06/agp-sap-chi-gan-9-ty-dong-va-18-trieu-cp-de-chi-tra-co-tuc-2022-738-1079818.htm', 'time': '17/06 08:34', 'type': 'CỔ TỨC'}, {'title': 'Tích cực mua lại trái phiếu trước hạn, ngân hàng nhắm đến điều gì?', 'link': 'https://vietstock.vn/2023/06/tich-cuc-mua-lai-trai-phieu-truoc-han-ngan-hang-nham-den-dieu-gi-3118-1079889.htm', 'time': '17/06 08:14', 'type': 'TRÁI PHIẾU DOANH NGHIỆP'}, {'title': 'Tập đoàn Hóa chất Việt Nam sắp nhận hơn 12 tỷ đồng cổ tức SFG', 'link': 'https://vietstock.vn/2023/06/tap-doan-hoa-chat-viet-nam-sap-nhan-hon-12-ty-dong-co-tuc-sfg-738-1079690.htm', 'time': '16/06 20:15', 'type': 'CỔ TỨC'}, {'title': 'Tập đoàn Trường Thịnh bị UBCKNN phạt 85 triệu đồng do vi phạm công bố thông tin', 'link': 'https://vietstock.vn/2023/06/tap-doan-truong-thinh-bi-ubcknn-phat-85-trieu-dong-do-vi-pham-cong-bo-thong-tin-737-1079777.htm', 'time': '16/06 19:00', 'type': 'HOẠT ĐỘNG KINH DOANH'}, {'title': 'HUT tiếp tục đầu tư 550 tỷ đồng vào Tasco Land', 'link': 'https://vietstock.vn/2023/06/hut-tiep-tuc-dau-tu-550-ty-dong-vao-tasco-land-764-1079679.htm', 'time': '16/06 16:30', 'type': 'TĂNG VỐN - M&A'}, {'title': 'Nova F&B về tay chủ GEM Center?', 'link': 'https://vietstock.vn/2023/06/nova-fb-ve-tay-chu-gem-center-737-1079678.htm', 'time': '16/06 16:25', 'type': 'HOẠT ĐỘNG KINH DOANH'}, {'title': 'VSC sẽ phát hành hơn 133 triệu cp, tăng vốn lên trên 2.4 ngàn tỷ\\xa0', 'link': 'https://vietstock.vn/2023/06/vsc-se-phat-hanh-hon-133-trieu-cp-tang-von-len-tren-24-ngan-ty-764-1079646.htm', 'time': '16/06 16:00', 'type': 'TĂNG VỐN - M&A'}, {'title': 'ĐHĐCĐ PXL: Trong năm 2023 sẽ có quyết định về KCN Dầu khí Long Sơn', 'link': 'https://vietstock.vn/2023/06/dhdcd-pxl-trong-nam-2023-se-co-quyet-dinh-ve-kcn-dau-khi-long-son-737-1079666.htm', 'time': '16/06 15:43', 'type': 'HOẠT ĐỘNG KINH DOANH'}, {'title': 'DHC bổ sung kế hoạch phát hành cổ phiếu với giá thấp hơn thị giá 41%', 'link': 'https://vietstock.vn/2023/06/dhc-bo-sung-ke-hoach-phat-hanh-co-phieu-voi-gia-thap-hon-thi-gia-41-737-1079630.htm', 'time': '16/06 15:30', 'type': 'HOẠT ĐỘNG KINH DOANH'}, {'title': 'ĐHĐCĐ GVR: Kỳ vọng chuyển đổi được 7,000 - 8,000 ha đất cao su thành đất KCN vào cuối năm 2025', 'link': 'https://vietstock.vn/2023/06/dhdcd-gvr-ky-vong-chuyen-doi-duoc-7000-8000-ha-dat-cao-su-thanh-dat-kcn-vao-cuoi-nam-2025-737-1079575.htm', 'time': '16/06 11:30', 'type': 'HOẠT ĐỘNG KINH DOANH'}, {'title': 'Gần sát ngày tổ chức, Vietnam Airlines bất ngờ dời họp đại hội thường niên', 'link': 'https://vietstock.vn/2023/06/gan-sat-ngay-to-chuc-vietnam-airlines-bat-ngo-doi-hop-dai-hoi-thuong-nien-737-1079603.htm', 'time': '16/06 11:11', 'type': 'HOẠT ĐỘNG KINH DOANH'}, {'title': 'Dự án tòa nhà văn phòng Phát Đạt hoàn thành kết cấu phần ngầm', 'link': 'https://vietstock.vn/2023/06/du-an-toa-nha-van-phong-phat-dat-hoan-thanh-ket-cau-phan-ngam-737-1079596.htm', 'time': '16/06 10:43', 'type': 'HOẠT ĐỘNG KINH DOANH'}, {'title': 'Saigon Glory lấy ý kiến trái chủ bằng văn bản về điều chỉnh ngày đáo hạn 5,000 tỷ trái phiếu', 'link': 'https://vietstock.vn/2023/06/saigon-glory-lay-y-kien-trai-chu-bang-van-ban-ve-dieu-chinh-ngay-dao-han-5000-ty-trai-phieu-3118-1079595.htm', 'time': '16/06 10:35', 'type': 'TRÁI PHIẾU DOANH NGHIỆP'}, {'title': 'ĐHĐCĐ PGS 2023: Người của VNDirect trúng cử vào HĐQT, nghiên cứu làm bình gas lạnh', 'link': 'https://vietstock.vn/2023/06/dhdcd-pgs-2023-nguoi-cua-vndirect-trung-cu-vao-hdqt-nghien-cuu-lam-binh-gas-lanh-737-1079363.htm', 'time': '16/06 10:17', 'type': 'HOẠT ĐỘNG KINH DOANH'}, {'title': 'Chủ tịch Bamboo Airways: Nhà đầu tư mới rót 8,000 tỷ, sẽ thành lập các công ty dịch vụ hàng không', 'link': 'https://vietstock.vn/2023/06/chu-tich-bamboo-airways-nha-dau-tu-moi-rot-8000-ty-se-thanh-lap-cac-cong-ty-dich-vu-hang-khong-737-1079573.htm', 'time': '16/06 09:45', 'type': 'HOẠT ĐỘNG KINH DOANH'}, {'title': 'VIB sắp phát hành 7.6 triệu cp ESOP', 'link': 'https://vietstock.vn/2023/06/vib-sap-phat-hanh-76-trieu-cp-esop-764-1079543.htm', 'time': '16/06 08:53', 'type': 'TĂNG VỐN - M&A'}, {'title': 'FIR chốt quyền trả cổ tức bằng cổ phiếu với tỷ lệ 20%', 'link': 'https://vietstock.vn/2023/06/fir-chot-quyen-tra-co-tuc-bang-co-phieu-voi-ty-le-20-738-1079499.htm', 'time': '15/06 19:00', 'type': 'CỔ TỨC'}, {'title': 'TOS sẽ chia cổ tức 25% bằng tiền trong tháng 7', 'link': 'https://vietstock.vn/2023/06/tos-se-chia-co-tuc-25-bang-tien-trong-thang-7-738-1079359.htm', 'time': '15/06 15:45', 'type': 'CỔ TỨC'}, {'title': 'HC3 sắp chi hơn 20 tỷ đồng trả cổ tức đợt 2/2022', 'link': 'https://vietstock.vn/2023/06/hc3-sap-chi-hon-20-ty-dong-tra-co-tuc-dot-22022-738-1079327.htm', 'time': '15/06 13:45', 'type': 'CỔ TỨC'}, {'title': 'Thị trường giao dịch thứ cấp trái phiếu doanh nghiệp sẽ vận hành trong tháng 7', 'link': 'https://vietstock.vn/2023/06/thi-truong-giao-dich-thu-cap-trai-phieu-doanh-nghiep-se-van-hanh-trong-thang-7-143-1079329.htm', 'time': '15/06 13:35', 'type': 'CHÍNH SÁCH'}, {'title': 'Chủ tịch Lê Hoàng Linh: “Thời điểm này không thể mong TCL chia cổ tức cao, phải đợi ngoài 5 năm nữa”', 'link': 'https://vietstock.vn/2023/06/chu-tich-le-hoang-linh-thoi-diem-nay-khong-the-mong-tcl-chia-co-tuc-cao-phai-doi-ngoai-5-nam-nua-737-1079326.htm', 'time': '15/06 13:32', 'type': 'HOẠT ĐỘNG KINH DOANH'}, {'title': 'ĐHĐCĐ PGV: Nâng cổ tức 2022 lên 20%, triển khai mua khí 10 năm với GAS', 'link': 'https://vietstock.vn/2023/06/dhdcd-pgv-nang-co-tuc-2022-len-20-trien-khai-mua-khi-10-nam-voi-gas-737-1079189.htm', 'time': '15/06 13:18', 'type': 'HOẠT ĐỘNG KINH DOANH'}, {'title': 'Tập đoàn Giống cây trồng Việt Nam sắp nhận hơn 19 tỷ đồng cổ tức từ SSC', 'link': 'https://vietstock.vn/2023/06/tap-doan-giong-cay-trong-viet-nam-sap-nhan-hon-19-ty-dong-co-tuc-tu-ssc-738-1079299.htm', 'time': '15/06 11:33', 'type': 'CỔ TỨC'}, {'title': 'TRS sắp chia cổ tức bằng tiền tỷ lệ 15%', 'link': 'https://vietstock.vn/2023/06/trs-sap-chia-co-tuc-bang-tien-ty-le-15-738-1079268.htm', 'time': '15/06 11:00', 'type': 'CỔ TỨC'}, {'title': 'TTZ bị cưỡng chế thuế gần 1.9 tỷ đồng', 'link': 'https://vietstock.vn/2023/06/ttz-bi-cuong-che-thue-gan-19-ty-dong-737-1079253.htm', 'time': '15/06 10:15', 'type': 'HOẠT ĐỘNG KINH DOANH'}, {'title': 'Chuyện sở hữu chéo ngành nước', 'link': 'https://vietstock.vn/2023/06/chuyen-so-huu-cheo-nganh-nuoc-764-1078943.htm', 'time': '15/06 10:00', 'type': 'TĂNG VỐN - M&A'}, {'title': 'IJC chuẩn bị chia cổ tức 2022 với tỷ lệ 14%', 'link': 'https://vietstock.vn/2023/06/ijc-chuan-bi-chia-co-tuc-2022-voi-ty-le-14-738-1079161.htm', 'time': '15/06 08:23', 'type': 'CỔ TỨC'}, {'title': 'NTC đặt kế hoạch lãi sau thuế hơn 284 tỷ, tiếp tục trả cổ tức cao', 'link': 'https://vietstock.vn/2023/06/ntc-dat-ke-hoach-lai-sau-thue-hon-284-ty-tiep-tuc-tra-co-tuc-cao-737-1079012.htm', 'time': '14/06 19:10', 'type': 'HOẠT ĐỘNG KINH DOANH'}, {'title': 'Toàn bộ thành viên HĐQT Bamboo Airways xin từ nhiệm', 'link': 'https://vietstock.vn/2023/06/toan-bo-thanh-vien-hdqt-bamboo-airways-xin-tu-nhiem-737-1079124.htm', 'time': '14/06 17:33', 'type': 'HOẠT ĐỘNG KINH DOANH'}, {'title': 'GAS sắp nhận về hơn 5.6 tỷ đồng từ cổ tức PVG', 'link': 'https://vietstock.vn/2023/06/gas-sap-nhan-ve-hon-56-ty-dong-tu-co-tuc-pvg-738-1079081.htm', 'time': '14/06 16:43', 'type': 'CỔ TỨC'}, {'title': 'Bamboo Airways lỗ ròng 17.6 ngàn tỷ đồng năm 2022, âm vốn chủ sở hữu', 'link': 'https://vietstock.vn/2023/06/bamboo-airways-lo-rong-176-ngan-ty-dong-nam-2022-am-von-chu-so-huu-737-1079021.htm', 'time': '14/06 15:01', 'type': 'HOẠT ĐỘNG KINH DOANH'}, {'title': 'VCS sắp chi 320 tỷ đồng trả cổ tức đợt 1/2023', 'link': 'https://vietstock.vn/2023/06/vcs-sap-chi-320-ty-dong-tra-co-tuc-dot-12023-738-1078989.htm', 'time': '14/06 14:30', 'type': 'CỔ TỨC'}, {'title': 'Doanh thu tháng 5 của VHC giảm 37%', 'link': 'https://vietstock.vn/2023/06/doanh-thu-thang-5-cua-vhc-giam-37-737-1078984.htm', 'time': '14/06 13:45', 'type': 'HOẠT ĐỘNG KINH DOANH'}]\n"
     ]
    },
    {
     "name": "stderr",
     "output_type": "stream",
     "text": [
      "\n"
     ]
    }
   ],
   "source": [
    "import numpy as np\n",
    "import pandas as pd\n",
    "import os\n",
    "import requests\n",
    "from tqdm import tqdm\n",
    "import json\n",
    "\n",
    "from bs4 import BeautifulSoup\n",
    "from selenium import webdriver\n",
    "from selenium.webdriver.common.by import By\n",
    "from selenium.webdriver.support.ui import WebDriverWait\n",
    "from selenium.webdriver.support import expected_conditions as EC\n",
    "from selenium.common.exceptions import NoSuchElementException\n",
    "\n",
    "NUMBER_OF_PAGES_CRAWL = 10\n",
    "\n",
    "WEBDRIVER_DELAY_TIME_INT = 7\n",
    "chrome_options = webdriver.ChromeOptions()\n",
    "chrome_options.add_argument('--headless')\n",
    "chrome_options.add_argument('--no-sandbox')\n",
    "chrome_options.headless = None\n",
    "\n",
    "driver = webdriver.Chrome('chromedriver', options=chrome_options)\n",
    "\n",
    "driver.implicitly_wait(4)\n",
    "wait = WebDriverWait(driver, WEBDRIVER_DELAY_TIME_INT)\n",
    "\n",
    "main_url = \"https://vietstock.vn/doanh-nghiep.htm\"\n",
    "driver.get(main_url)\n",
    "\n",
    "content_tags_xpath = '//*[@id=\"channel-container\"]/div[@class=\"single_post post_type12 type20 mb20 channelContent\"]'\n",
    "content_tags = driver.find_elements(By.XPATH, content_tags_xpath)\n",
    "\n",
    "result = []\n",
    "\n",
    "for _ in tqdm(range(NUMBER_OF_PAGES_CRAWL)):\n",
    "    print(len(content_tags))\n",
    "    for idx in tqdm(range(len(content_tags))):\n",
    "        content_title_xpath = f'//*[@id=\"channel-container\"]/div[{1+3*idx}]/div[2]/h4/a'\n",
    "        meta_xpath = f'//*[@id=\"channel-container\"]/div[{1+3*idx}]/div[2]/div[1]/div/div/a'\n",
    "        news_title = wait.until(EC.presence_of_element_located((By.XPATH, content_title_xpath))).get_attribute('title')\n",
    "        news_url = wait.until(EC.presence_of_element_located((By.XPATH, content_title_xpath))).get_attribute('href')\n",
    "        news_type = wait.until(EC.presence_of_element_located((By.XPATH, meta_xpath + '[1]'))).text\n",
    "        news_published_time = wait.until(EC.presence_of_element_located((By.XPATH, meta_xpath + '[2]'))).get_attribute('title')\n",
    "        # print(news_title)\n",
    "        dictionary = {\n",
    "            'title': news_title,\n",
    "            'link': news_url,\n",
    "            'time': news_published_time,\n",
    "            'type': news_type\n",
    "        }\n",
    "        result.append(dictionary)\n",
    "\n",
    "    button = driver.find_element(By.XPATH, '//*[@id=\"page-next \"]/a')\n",
    "    driver.execute_script(\"arguments[0].click()\", button)\n",
    "\n",
    "print(result)"
   ]
  },
  {
   "cell_type": "code",
   "execution_count": 33,
   "metadata": {},
   "outputs": [],
   "source": [
    "if os.path.exists('./news_vietstock.json'):\n",
    "    os.remove('./news_vietstock.json')\n",
    "import json\n",
    "with open('news_vietstock.json', 'w+', encoding='utf-8') as f:\n",
    "    json.dump(result, f, ensure_ascii=False, indent=4)\n"
   ]
  }
 ],
 "metadata": {
  "kernelspec": {
   "display_name": "venv",
   "language": "python",
   "name": "python3"
  },
  "language_info": {
   "codemirror_mode": {
    "name": "ipython",
    "version": 3
   },
   "file_extension": ".py",
   "mimetype": "text/x-python",
   "name": "python",
   "nbconvert_exporter": "python",
   "pygments_lexer": "ipython3",
   "version": "3.9.17"
  },
  "orig_nbformat": 4
 },
 "nbformat": 4,
 "nbformat_minor": 2
}

{
  "cells": [
    {
      "cell_type": "code",
      "execution_count": 1,
      "metadata": {
        "id": "RcpyAVGwavy5",
        "colab": {
          "base_uri": "https://localhost:8080/"
        },
        "outputId": "f0ddbe25-bc6e-4126-b972-57228b4244b8"
      },
      "outputs": [
        {
          "output_type": "stream",
          "name": "stdout",
          "text": [
            "Installing collected packages: torchinfo\n",
            "Successfully installed torchinfo-1.8.0\n"
          ]
        }
      ],
      "source": [
        "!pip install pytorch-lightning\n",
        "!pip install transformers\n",
        "!pip install torchinfo"
      ]
    },
    {
      "cell_type": "markdown",
      "metadata": {
        "id": "WOoawOFSYKbC"
      },
      "source": [
        "# Import lib"
      ]
    },
    {
      "cell_type": "code",
      "execution_count": 2,
      "metadata": {
        "colab": {
          "base_uri": "https://localhost:8080/"
        },
        "id": "03PaRuIGYETu",
        "outputId": "cffe3b0e-c27e-4680-bc9d-a4a8728fef09"
      },
      "outputs": [
        {
          "output_type": "stream",
          "name": "stderr",
          "text": [
            "[nltk_data] Downloading package punkt to /root/nltk_data...\n",
            "[nltk_data]   Unzipping tokenizers/punkt.zip.\n"
          ]
        },
        {
          "output_type": "execute_result",
          "data": {
            "text/plain": [
              "True"
            ]
          },
          "metadata": {},
          "execution_count": 2
        }
      ],
      "source": [
        "import torch\n",
        "from torch import nn\n",
        "from torch.utils.data import Dataset, DataLoader\n",
        "from torch.nn import LayerNorm\n",
        "from torch.nn import functional as F\n",
        "from torch.nn.utils.rnn import pad_sequence\n",
        "from transformers import AutoTokenizer, AutoModelForSequenceClassification, Trainer, TrainingArguments, AdamW, get_cosine_schedule_with_warmup\n",
        "import numpy as np\n",
        "import os\n",
        "import time\n",
        "import random\n",
        "from sklearn.preprocessing import LabelEncoder\n",
        "from sklearn.model_selection import train_test_split\n",
        "from sklearn.metrics import confusion_matrix, classification_report\n",
        "from sklearn.metrics import accuracy_score\n",
        "from imblearn.under_sampling import RandomUnderSampler\n",
        "import pandas as pd\n",
        "import matplotlib.pyplot as plt\n",
        "import seaborn as sns\n",
        "from collections import Counter\n",
        "import pytorch_lightning as pl\n",
        "from torch.optim.lr_scheduler import StepLR\n",
        "import re\n",
        "import copy\n",
        "import nltk\n",
        "from nltk.tokenize import word_tokenize\n",
        "import math\n",
        "import requests\n",
        "import joblib\n",
        "from torchinfo import summary\n",
        "from google.colab import drive\n",
        "from tqdm.auto import tqdm\n",
        "nltk.download('punkt')\n"
      ]
    },
    {
      "cell_type": "markdown",
      "metadata": {
        "id": "t09nEVgzGNkS"
      },
      "source": [
        "# Clone dataset"
      ]
    },
    {
      "cell_type": "markdown",
      "source": [
        "I placed dataset on github repo"
      ],
      "metadata": {
        "id": "_pOLR_7WA-9P"
      }
    },
    {
      "cell_type": "code",
      "execution_count": 3,
      "metadata": {
        "id": "ZWLpwD6iXdTk"
      },
      "outputs": [],
      "source": [
        "# Make the API request\n",
        "url = f'https://raw.githubusercontent.com/duongnghia222/News_classification/main/data/raw_data/raw_data.csv'\n",
        "response = requests.get(url)\n",
        "# Save the file locally\n",
        "csv_path = 'raw_data.csv'\n",
        "with open(csv_path, 'w', encoding='utf-8-sig') as file:\n",
        "    file.write(response.text)"
      ]
    },
    {
      "cell_type": "markdown",
      "source": [
        "# Load dataset"
      ],
      "metadata": {
        "id": "CAFAMJKgqRml"
      }
    },
    {
      "cell_type": "code",
      "execution_count": 4,
      "metadata": {
        "id": "Bnge752SB8Ez"
      },
      "outputs": [],
      "source": [
        "# Load data from CSV file\n",
        "df = pd.read_csv('/content/raw_data.csv', encoding='utf-8-sig')"
      ]
    },
    {
      "cell_type": "markdown",
      "metadata": {
        "id": "aqu8-QjYBzWc"
      },
      "source": [
        "# Visualize Data"
      ]
    },
    {
      "cell_type": "markdown",
      "source": [
        "## Show Data Structure"
      ],
      "metadata": {
        "id": "FVxhtzw1qWcF"
      }
    },
    {
      "cell_type": "code",
      "execution_count": 5,
      "metadata": {
        "colab": {
          "base_uri": "https://localhost:8080/",
          "height": 206
        },
        "id": "k7U3B_R3CflP",
        "outputId": "85011b20-7dbe-4fb2-cb69-e4cf636d9879"
      },
      "outputs": [
        {
          "output_type": "execute_result",
          "data": {
            "text/plain": [
              "                                                 Content Label\n",
              "10395  Một cá nhân bất ngờ mua vào 30,77 triệu cổ phi...   TTF\n",
              "10396  Chưa kịp bán ra, Chủ tịch Đỗ Quý Hải tiếp tục ...   HPX\n",
              "10397  POM cho cán bộ nhân viên nghỉ việc vì dừng lò ...   POM\n",
              "10398  Năm Bảy Bảy (NBB) chấp thuận cho Công ty con c...   NBB\n",
              "10399  Chứng khoán Ngân hàng Sài Gòn Thương Tín (SBS)...   SBS"
            ],
            "text/html": [
              "\n",
              "\n",
              "  <div id=\"df-a302281d-9d2d-4d44-967a-0c48394e5395\">\n",
              "    <div class=\"colab-df-container\">\n",
              "      <div>\n",
              "<style scoped>\n",
              "    .dataframe tbody tr th:only-of-type {\n",
              "        vertical-align: middle;\n",
              "    }\n",
              "\n",
              "    .dataframe tbody tr th {\n",
              "        vertical-align: top;\n",
              "    }\n",
              "\n",
              "    .dataframe thead th {\n",
              "        text-align: right;\n",
              "    }\n",
              "</style>\n",
              "<table border=\"1\" class=\"dataframe\">\n",
              "  <thead>\n",
              "    <tr style=\"text-align: right;\">\n",
              "      <th></th>\n",
              "      <th>Content</th>\n",
              "      <th>Label</th>\n",
              "    </tr>\n",
              "  </thead>\n",
              "  <tbody>\n",
              "    <tr>\n",
              "      <th>10395</th>\n",
              "      <td>Một cá nhân bất ngờ mua vào 30,77 triệu cổ phi...</td>\n",
              "      <td>TTF</td>\n",
              "    </tr>\n",
              "    <tr>\n",
              "      <th>10396</th>\n",
              "      <td>Chưa kịp bán ra, Chủ tịch Đỗ Quý Hải tiếp tục ...</td>\n",
              "      <td>HPX</td>\n",
              "    </tr>\n",
              "    <tr>\n",
              "      <th>10397</th>\n",
              "      <td>POM cho cán bộ nhân viên nghỉ việc vì dừng lò ...</td>\n",
              "      <td>POM</td>\n",
              "    </tr>\n",
              "    <tr>\n",
              "      <th>10398</th>\n",
              "      <td>Năm Bảy Bảy (NBB) chấp thuận cho Công ty con c...</td>\n",
              "      <td>NBB</td>\n",
              "    </tr>\n",
              "    <tr>\n",
              "      <th>10399</th>\n",
              "      <td>Chứng khoán Ngân hàng Sài Gòn Thương Tín (SBS)...</td>\n",
              "      <td>SBS</td>\n",
              "    </tr>\n",
              "  </tbody>\n",
              "</table>\n",
              "</div>\n",
              "      <button class=\"colab-df-convert\" onclick=\"convertToInteractive('df-a302281d-9d2d-4d44-967a-0c48394e5395')\"\n",
              "              title=\"Convert this dataframe to an interactive table.\"\n",
              "              style=\"display:none;\">\n",
              "\n",
              "  <svg xmlns=\"http://www.w3.org/2000/svg\" height=\"24px\"viewBox=\"0 0 24 24\"\n",
              "       width=\"24px\">\n",
              "    <path d=\"M0 0h24v24H0V0z\" fill=\"none\"/>\n",
              "    <path d=\"M18.56 5.44l.94 2.06.94-2.06 2.06-.94-2.06-.94-.94-2.06-.94 2.06-2.06.94zm-11 1L8.5 8.5l.94-2.06 2.06-.94-2.06-.94L8.5 2.5l-.94 2.06-2.06.94zm10 10l.94 2.06.94-2.06 2.06-.94-2.06-.94-.94-2.06-.94 2.06-2.06.94z\"/><path d=\"M17.41 7.96l-1.37-1.37c-.4-.4-.92-.59-1.43-.59-.52 0-1.04.2-1.43.59L10.3 9.45l-7.72 7.72c-.78.78-.78 2.05 0 2.83L4 21.41c.39.39.9.59 1.41.59.51 0 1.02-.2 1.41-.59l7.78-7.78 2.81-2.81c.8-.78.8-2.07 0-2.86zM5.41 20L4 18.59l7.72-7.72 1.47 1.35L5.41 20z\"/>\n",
              "  </svg>\n",
              "      </button>\n",
              "\n",
              "\n",
              "\n",
              "    <div id=\"df-4d104ed3-cefa-4d27-8944-d297791417bf\">\n",
              "      <button class=\"colab-df-quickchart\" onclick=\"quickchart('df-4d104ed3-cefa-4d27-8944-d297791417bf')\"\n",
              "              title=\"Suggest charts.\"\n",
              "              style=\"display:none;\">\n",
              "\n",
              "<svg xmlns=\"http://www.w3.org/2000/svg\" height=\"24px\"viewBox=\"0 0 24 24\"\n",
              "     width=\"24px\">\n",
              "    <g>\n",
              "        <path d=\"M19 3H5c-1.1 0-2 .9-2 2v14c0 1.1.9 2 2 2h14c1.1 0 2-.9 2-2V5c0-1.1-.9-2-2-2zM9 17H7v-7h2v7zm4 0h-2V7h2v10zm4 0h-2v-4h2v4z\"/>\n",
              "    </g>\n",
              "</svg>\n",
              "      </button>\n",
              "    </div>\n",
              "\n",
              "<style>\n",
              "  .colab-df-quickchart {\n",
              "    background-color: #E8F0FE;\n",
              "    border: none;\n",
              "    border-radius: 50%;\n",
              "    cursor: pointer;\n",
              "    display: none;\n",
              "    fill: #1967D2;\n",
              "    height: 32px;\n",
              "    padding: 0 0 0 0;\n",
              "    width: 32px;\n",
              "  }\n",
              "\n",
              "  .colab-df-quickchart:hover {\n",
              "    background-color: #E2EBFA;\n",
              "    box-shadow: 0px 1px 2px rgba(60, 64, 67, 0.3), 0px 1px 3px 1px rgba(60, 64, 67, 0.15);\n",
              "    fill: #174EA6;\n",
              "  }\n",
              "\n",
              "  [theme=dark] .colab-df-quickchart {\n",
              "    background-color: #3B4455;\n",
              "    fill: #D2E3FC;\n",
              "  }\n",
              "\n",
              "  [theme=dark] .colab-df-quickchart:hover {\n",
              "    background-color: #434B5C;\n",
              "    box-shadow: 0px 1px 3px 1px rgba(0, 0, 0, 0.15);\n",
              "    filter: drop-shadow(0px 1px 2px rgba(0, 0, 0, 0.3));\n",
              "    fill: #FFFFFF;\n",
              "  }\n",
              "</style>\n",
              "\n",
              "    <script>\n",
              "      async function quickchart(key) {\n",
              "        const containerElement = document.querySelector('#' + key);\n",
              "        const charts = await google.colab.kernel.invokeFunction(\n",
              "            'suggestCharts', [key], {});\n",
              "      }\n",
              "    </script>\n",
              "\n",
              "      <script>\n",
              "\n",
              "function displayQuickchartButton(domScope) {\n",
              "  let quickchartButtonEl =\n",
              "    domScope.querySelector('#df-4d104ed3-cefa-4d27-8944-d297791417bf button.colab-df-quickchart');\n",
              "  quickchartButtonEl.style.display =\n",
              "    google.colab.kernel.accessAllowed ? 'block' : 'none';\n",
              "}\n",
              "\n",
              "        displayQuickchartButton(document);\n",
              "      </script>\n",
              "      <style>\n",
              "    .colab-df-container {\n",
              "      display:flex;\n",
              "      flex-wrap:wrap;\n",
              "      gap: 12px;\n",
              "    }\n",
              "\n",
              "    .colab-df-convert {\n",
              "      background-color: #E8F0FE;\n",
              "      border: none;\n",
              "      border-radius: 50%;\n",
              "      cursor: pointer;\n",
              "      display: none;\n",
              "      fill: #1967D2;\n",
              "      height: 32px;\n",
              "      padding: 0 0 0 0;\n",
              "      width: 32px;\n",
              "    }\n",
              "\n",
              "    .colab-df-convert:hover {\n",
              "      background-color: #E2EBFA;\n",
              "      box-shadow: 0px 1px 2px rgba(60, 64, 67, 0.3), 0px 1px 3px 1px rgba(60, 64, 67, 0.15);\n",
              "      fill: #174EA6;\n",
              "    }\n",
              "\n",
              "    [theme=dark] .colab-df-convert {\n",
              "      background-color: #3B4455;\n",
              "      fill: #D2E3FC;\n",
              "    }\n",
              "\n",
              "    [theme=dark] .colab-df-convert:hover {\n",
              "      background-color: #434B5C;\n",
              "      box-shadow: 0px 1px 3px 1px rgba(0, 0, 0, 0.15);\n",
              "      filter: drop-shadow(0px 1px 2px rgba(0, 0, 0, 0.3));\n",
              "      fill: #FFFFFF;\n",
              "    }\n",
              "  </style>\n",
              "\n",
              "      <script>\n",
              "        const buttonEl =\n",
              "          document.querySelector('#df-a302281d-9d2d-4d44-967a-0c48394e5395 button.colab-df-convert');\n",
              "        buttonEl.style.display =\n",
              "          google.colab.kernel.accessAllowed ? 'block' : 'none';\n",
              "\n",
              "        async function convertToInteractive(key) {\n",
              "          const element = document.querySelector('#df-a302281d-9d2d-4d44-967a-0c48394e5395');\n",
              "          const dataTable =\n",
              "            await google.colab.kernel.invokeFunction('convertToInteractive',\n",
              "                                                     [key], {});\n",
              "          if (!dataTable) return;\n",
              "\n",
              "          const docLinkHtml = 'Like what you see? Visit the ' +\n",
              "            '<a target=\"_blank\" href=https://colab.research.google.com/notebooks/data_table.ipynb>data table notebook</a>'\n",
              "            + ' to learn more about interactive tables.';\n",
              "          element.innerHTML = '';\n",
              "          dataTable['output_type'] = 'display_data';\n",
              "          await google.colab.output.renderOutput(dataTable, element);\n",
              "          const docLink = document.createElement('div');\n",
              "          docLink.innerHTML = docLinkHtml;\n",
              "          element.appendChild(docLink);\n",
              "        }\n",
              "      </script>\n",
              "    </div>\n",
              "  </div>\n"
            ]
          },
          "metadata": {},
          "execution_count": 5
        }
      ],
      "source": [
        "df.tail()"
      ]
    },
    {
      "cell_type": "markdown",
      "source": [
        "## Add Word Count and Class Count Column"
      ],
      "metadata": {
        "id": "durUJUzfrgrI"
      }
    },
    {
      "cell_type": "code",
      "execution_count": 6,
      "metadata": {
        "id": "-evHq83aB4CI"
      },
      "outputs": [],
      "source": [
        "# Count the number of words in each article's content and number of times a class appear\n",
        "df['Word Count'] = df['Content'].apply(lambda x: len(str(x).split()))\n",
        "df['Class Count'] = df.groupby('Label')['Label'].transform('count')"
      ]
    },
    {
      "cell_type": "code",
      "execution_count": 7,
      "metadata": {
        "colab": {
          "base_uri": "https://localhost:8080/",
          "height": 206
        },
        "id": "9RvaCV55DsfU",
        "outputId": "696c5a4a-97ec-44a5-c89e-dcaa5a12253f"
      },
      "outputs": [
        {
          "output_type": "execute_result",
          "data": {
            "text/plain": [
              "                                             Content Label  Word Count  \\\n",
              "0  Vingroup báo lãi hơn 3.600 tỷ đồng, doanh thu ...   VIC         599   \n",
              "1  HAGL Agrico (HNG) lỗ quý thứ 5 liên tiếp. Giá ...   HNG         642   \n",
              "2  Vingroup lãi ròng 1.028 tỷ đồng nửa đầu năm, t...   VIC         577   \n",
              "3  Một doanh nghiệp khoáng sản đã vượt 153% mục t...   KSV         430   \n",
              "4  Doanh nghiệp thép từ lớn đến nhỏ đều báo lỗ qu...   HPG        1247   \n",
              "\n",
              "   Class Count  \n",
              "0          108  \n",
              "1           65  \n",
              "2          108  \n",
              "3            3  \n",
              "4          197  "
            ],
            "text/html": [
              "\n",
              "\n",
              "  <div id=\"df-b44e93d5-5a77-4ded-894c-82c258e3d227\">\n",
              "    <div class=\"colab-df-container\">\n",
              "      <div>\n",
              "<style scoped>\n",
              "    .dataframe tbody tr th:only-of-type {\n",
              "        vertical-align: middle;\n",
              "    }\n",
              "\n",
              "    .dataframe tbody tr th {\n",
              "        vertical-align: top;\n",
              "    }\n",
              "\n",
              "    .dataframe thead th {\n",
              "        text-align: right;\n",
              "    }\n",
              "</style>\n",
              "<table border=\"1\" class=\"dataframe\">\n",
              "  <thead>\n",
              "    <tr style=\"text-align: right;\">\n",
              "      <th></th>\n",
              "      <th>Content</th>\n",
              "      <th>Label</th>\n",
              "      <th>Word Count</th>\n",
              "      <th>Class Count</th>\n",
              "    </tr>\n",
              "  </thead>\n",
              "  <tbody>\n",
              "    <tr>\n",
              "      <th>0</th>\n",
              "      <td>Vingroup báo lãi hơn 3.600 tỷ đồng, doanh thu ...</td>\n",
              "      <td>VIC</td>\n",
              "      <td>599</td>\n",
              "      <td>108</td>\n",
              "    </tr>\n",
              "    <tr>\n",
              "      <th>1</th>\n",
              "      <td>HAGL Agrico (HNG) lỗ quý thứ 5 liên tiếp. Giá ...</td>\n",
              "      <td>HNG</td>\n",
              "      <td>642</td>\n",
              "      <td>65</td>\n",
              "    </tr>\n",
              "    <tr>\n",
              "      <th>2</th>\n",
              "      <td>Vingroup lãi ròng 1.028 tỷ đồng nửa đầu năm, t...</td>\n",
              "      <td>VIC</td>\n",
              "      <td>577</td>\n",
              "      <td>108</td>\n",
              "    </tr>\n",
              "    <tr>\n",
              "      <th>3</th>\n",
              "      <td>Một doanh nghiệp khoáng sản đã vượt 153% mục t...</td>\n",
              "      <td>KSV</td>\n",
              "      <td>430</td>\n",
              "      <td>3</td>\n",
              "    </tr>\n",
              "    <tr>\n",
              "      <th>4</th>\n",
              "      <td>Doanh nghiệp thép từ lớn đến nhỏ đều báo lỗ qu...</td>\n",
              "      <td>HPG</td>\n",
              "      <td>1247</td>\n",
              "      <td>197</td>\n",
              "    </tr>\n",
              "  </tbody>\n",
              "</table>\n",
              "</div>\n",
              "      <button class=\"colab-df-convert\" onclick=\"convertToInteractive('df-b44e93d5-5a77-4ded-894c-82c258e3d227')\"\n",
              "              title=\"Convert this dataframe to an interactive table.\"\n",
              "              style=\"display:none;\">\n",
              "\n",
              "  <svg xmlns=\"http://www.w3.org/2000/svg\" height=\"24px\"viewBox=\"0 0 24 24\"\n",
              "       width=\"24px\">\n",
              "    <path d=\"M0 0h24v24H0V0z\" fill=\"none\"/>\n",
              "    <path d=\"M18.56 5.44l.94 2.06.94-2.06 2.06-.94-2.06-.94-.94-2.06-.94 2.06-2.06.94zm-11 1L8.5 8.5l.94-2.06 2.06-.94-2.06-.94L8.5 2.5l-.94 2.06-2.06.94zm10 10l.94 2.06.94-2.06 2.06-.94-2.06-.94-.94-2.06-.94 2.06-2.06.94z\"/><path d=\"M17.41 7.96l-1.37-1.37c-.4-.4-.92-.59-1.43-.59-.52 0-1.04.2-1.43.59L10.3 9.45l-7.72 7.72c-.78.78-.78 2.05 0 2.83L4 21.41c.39.39.9.59 1.41.59.51 0 1.02-.2 1.41-.59l7.78-7.78 2.81-2.81c.8-.78.8-2.07 0-2.86zM5.41 20L4 18.59l7.72-7.72 1.47 1.35L5.41 20z\"/>\n",
              "  </svg>\n",
              "      </button>\n",
              "\n",
              "\n",
              "\n",
              "    <div id=\"df-d1c62064-a060-4283-bcab-e1ead00156f2\">\n",
              "      <button class=\"colab-df-quickchart\" onclick=\"quickchart('df-d1c62064-a060-4283-bcab-e1ead00156f2')\"\n",
              "              title=\"Suggest charts.\"\n",
              "              style=\"display:none;\">\n",
              "\n",
              "<svg xmlns=\"http://www.w3.org/2000/svg\" height=\"24px\"viewBox=\"0 0 24 24\"\n",
              "     width=\"24px\">\n",
              "    <g>\n",
              "        <path d=\"M19 3H5c-1.1 0-2 .9-2 2v14c0 1.1.9 2 2 2h14c1.1 0 2-.9 2-2V5c0-1.1-.9-2-2-2zM9 17H7v-7h2v7zm4 0h-2V7h2v10zm4 0h-2v-4h2v4z\"/>\n",
              "    </g>\n",
              "</svg>\n",
              "      </button>\n",
              "    </div>\n",
              "\n",
              "<style>\n",
              "  .colab-df-quickchart {\n",
              "    background-color: #E8F0FE;\n",
              "    border: none;\n",
              "    border-radius: 50%;\n",
              "    cursor: pointer;\n",
              "    display: none;\n",
              "    fill: #1967D2;\n",
              "    height: 32px;\n",
              "    padding: 0 0 0 0;\n",
              "    width: 32px;\n",
              "  }\n",
              "\n",
              "  .colab-df-quickchart:hover {\n",
              "    background-color: #E2EBFA;\n",
              "    box-shadow: 0px 1px 2px rgba(60, 64, 67, 0.3), 0px 1px 3px 1px rgba(60, 64, 67, 0.15);\n",
              "    fill: #174EA6;\n",
              "  }\n",
              "\n",
              "  [theme=dark] .colab-df-quickchart {\n",
              "    background-color: #3B4455;\n",
              "    fill: #D2E3FC;\n",
              "  }\n",
              "\n",
              "  [theme=dark] .colab-df-quickchart:hover {\n",
              "    background-color: #434B5C;\n",
              "    box-shadow: 0px 1px 3px 1px rgba(0, 0, 0, 0.15);\n",
              "    filter: drop-shadow(0px 1px 2px rgba(0, 0, 0, 0.3));\n",
              "    fill: #FFFFFF;\n",
              "  }\n",
              "</style>\n",
              "\n",
              "    <script>\n",
              "      async function quickchart(key) {\n",
              "        const containerElement = document.querySelector('#' + key);\n",
              "        const charts = await google.colab.kernel.invokeFunction(\n",
              "            'suggestCharts', [key], {});\n",
              "      }\n",
              "    </script>\n",
              "\n",
              "      <script>\n",
              "\n",
              "function displayQuickchartButton(domScope) {\n",
              "  let quickchartButtonEl =\n",
              "    domScope.querySelector('#df-d1c62064-a060-4283-bcab-e1ead00156f2 button.colab-df-quickchart');\n",
              "  quickchartButtonEl.style.display =\n",
              "    google.colab.kernel.accessAllowed ? 'block' : 'none';\n",
              "}\n",
              "\n",
              "        displayQuickchartButton(document);\n",
              "      </script>\n",
              "      <style>\n",
              "    .colab-df-container {\n",
              "      display:flex;\n",
              "      flex-wrap:wrap;\n",
              "      gap: 12px;\n",
              "    }\n",
              "\n",
              "    .colab-df-convert {\n",
              "      background-color: #E8F0FE;\n",
              "      border: none;\n",
              "      border-radius: 50%;\n",
              "      cursor: pointer;\n",
              "      display: none;\n",
              "      fill: #1967D2;\n",
              "      height: 32px;\n",
              "      padding: 0 0 0 0;\n",
              "      width: 32px;\n",
              "    }\n",
              "\n",
              "    .colab-df-convert:hover {\n",
              "      background-color: #E2EBFA;\n",
              "      box-shadow: 0px 1px 2px rgba(60, 64, 67, 0.3), 0px 1px 3px 1px rgba(60, 64, 67, 0.15);\n",
              "      fill: #174EA6;\n",
              "    }\n",
              "\n",
              "    [theme=dark] .colab-df-convert {\n",
              "      background-color: #3B4455;\n",
              "      fill: #D2E3FC;\n",
              "    }\n",
              "\n",
              "    [theme=dark] .colab-df-convert:hover {\n",
              "      background-color: #434B5C;\n",
              "      box-shadow: 0px 1px 3px 1px rgba(0, 0, 0, 0.15);\n",
              "      filter: drop-shadow(0px 1px 2px rgba(0, 0, 0, 0.3));\n",
              "      fill: #FFFFFF;\n",
              "    }\n",
              "  </style>\n",
              "\n",
              "      <script>\n",
              "        const buttonEl =\n",
              "          document.querySelector('#df-b44e93d5-5a77-4ded-894c-82c258e3d227 button.colab-df-convert');\n",
              "        buttonEl.style.display =\n",
              "          google.colab.kernel.accessAllowed ? 'block' : 'none';\n",
              "\n",
              "        async function convertToInteractive(key) {\n",
              "          const element = document.querySelector('#df-b44e93d5-5a77-4ded-894c-82c258e3d227');\n",
              "          const dataTable =\n",
              "            await google.colab.kernel.invokeFunction('convertToInteractive',\n",
              "                                                     [key], {});\n",
              "          if (!dataTable) return;\n",
              "\n",
              "          const docLinkHtml = 'Like what you see? Visit the ' +\n",
              "            '<a target=\"_blank\" href=https://colab.research.google.com/notebooks/data_table.ipynb>data table notebook</a>'\n",
              "            + ' to learn more about interactive tables.';\n",
              "          element.innerHTML = '';\n",
              "          dataTable['output_type'] = 'display_data';\n",
              "          await google.colab.output.renderOutput(dataTable, element);\n",
              "          const docLink = document.createElement('div');\n",
              "          docLink.innerHTML = docLinkHtml;\n",
              "          element.appendChild(docLink);\n",
              "        }\n",
              "      </script>\n",
              "    </div>\n",
              "  </div>\n"
            ]
          },
          "metadata": {},
          "execution_count": 7
        }
      ],
      "source": [
        "df.head()"
      ]
    },
    {
      "cell_type": "markdown",
      "source": [
        "## Word Count Histogram"
      ],
      "metadata": {
        "id": "xQtUWuuz3wjv"
      }
    },
    {
      "cell_type": "code",
      "execution_count": 8,
      "metadata": {
        "colab": {
          "base_uri": "https://localhost:8080/",
          "height": 472
        },
        "id": "8Y7NA9bxCK40",
        "outputId": "49de7e33-2e5a-4098-b5d7-fab11726e78b"
      },
      "outputs": [
        {
          "output_type": "display_data",
          "data": {
            "text/plain": [
              "<Figure size 640x480 with 1 Axes>"
            ],
            "image/png": "[encoded data removed]"
          },
          "metadata": {}
        }
      ],
      "source": [
        "# Plot histogram for word count\n",
        "plt.hist(df['Word Count'], bins=40, color='skyblue', edgecolor='black')\n",
        "plt.title('Histogram of Word Count')\n",
        "plt.xlabel('Word Count')\n",
        "plt.ylabel('Frequency')\n",
        "plt.grid(True)\n",
        "plt.show()"
      ]
    },
    {
      "cell_type": "markdown",
      "source": [
        "## Class Count Histogram"
      ],
      "metadata": {
        "id": "G3YJVdQJBhoG"
      }
    },
    {
      "cell_type": "code",
      "source": [
        "plt.figure(figsize=(10,6))\n",
        "plt.hist(df['Class Count'], bins=60, edgecolor='black')\n",
        "plt.title('Distribution of Class Sizes in the raw dataset')\n",
        "plt.xlabel('Class Count')\n",
        "plt.ylabel('Number of Classes')\n",
        "plt.show()"
      ],
      "metadata": {
        "colab": {
          "base_uri": "https://localhost:8080/",
          "height": 564
        },
        "id": "kji___3OBk-9",
        "outputId": "e21c6991-38c7-4917-d2da-9a0c16766211"
      },
      "execution_count": 9,
      "outputs": [
        {
          "output_type": "display_data",
          "data": {
            "text/plain": [
              "<Figure size 1000x600 with 1 Axes>"
            ],
            "image/png": "[encoded data removed]"
          },
          "metadata": {}
        }
      ]
    },
    {
      "cell_type": "markdown",
      "source": [
        "# Extract Dataset"
      ],
      "metadata": {
        "id": "KbrIPHvNuCOF"
      }
    },
    {
      "cell_type": "markdown",
      "source": [
        "Get only class that has `Class Count` > 17"
      ],
      "metadata": {
        "id": "4deoFsb8B2ke"
      }
    },
    {
      "cell_type": "code",
      "execution_count": 10,
      "metadata": {
        "colab": {
          "base_uri": "https://localhost:8080/"
        },
        "id": "-OZpZDJiB8Sx",
        "outputId": "92413536-b1b1-4c78-8094-da3f7e50306b"
      },
      "outputs": [
        {
          "output_type": "execute_result",
          "data": {
            "text/plain": [
              "Content        7220\n",
              "Label          7220\n",
              "Word Count     7220\n",
              "Class Count    7220\n",
              "dtype: int64"
            ]
          },
          "metadata": {},
          "execution_count": 10
        }
      ],
      "source": [
        "# extracted_df\n",
        "e_df = df.loc[df['Class Count'] > 17].sort_values(by=\"Class Count\", ascending=False)\n",
        "e_df.count()"
      ]
    },
    {
      "cell_type": "code",
      "execution_count": 11,
      "metadata": {
        "colab": {
          "base_uri": "https://localhost:8080/"
        },
        "id": "S5IyPXDJEwmh",
        "outputId": "984e49f5-04da-40fc-c2b9-e2dc3cb75cf8"
      },
      "outputs": [
        {
          "output_type": "execute_result",
          "data": {
            "text/plain": [
              "156"
            ]
          },
          "metadata": {},
          "execution_count": 11
        }
      ],
      "source": [
        "number_of_classes = e_df['Label'].nunique()\n",
        "number_of_classes"
      ]
    },
    {
      "cell_type": "markdown",
      "metadata": {
        "id": "6NLAa4szYUhU"
      },
      "source": [
        "# Processing Dataset"
      ]
    },
    {
      "cell_type": "markdown",
      "metadata": {
        "id": "oAAmnOmSXj5a"
      },
      "source": [
        "## Clean text"
      ]
    },
    {
      "cell_type": "code",
      "source": [
        "vn_stopwords_url = 'https://raw.githubusercontent.com/duongnghia222/News_classification/main/vietnamese-stopwords.txt'\n",
        "with open('vietnamese-stopwords.txt', 'w', encoding='utf-8-sig') as file:\n",
        "    file.write(requests.get(vn_stopwords_url).text)"
      ],
      "metadata": {
        "id": "Q3Hv_Mbq4TLc"
      },
      "execution_count": 14,
      "outputs": []
    },
    {
      "cell_type": "code",
      "execution_count": 15,
      "metadata": {
        "colab": {
          "base_uri": "https://localhost:8080/"
        },
        "id": "GnWMnVIDXpl1",
        "outputId": "43190f56-881a-473a-a7df-b6ab2cecf8b7"
      },
      "outputs": [
        {
          "output_type": "execute_result",
          "data": {
            "text/plain": [
              "['\\ufeffa lô',\n",
              " 'a ha',\n",
              " 'ai',\n",
              " 'ai ai',\n",
              " 'ai nấy',\n",
              " 'ai đó',\n",
              " 'alô',\n",
              " 'amen',\n",
              " 'anh',\n",
              " 'anh ấy']"
            ]
          },
          "metadata": {},
          "execution_count": 15
        }
      ],
      "source": [
        "with open('/content/vietnamese-stopwords.txt', 'r', encoding='utf-8') as f:\n",
        "    vietnamese_stopwords = f.read().splitlines()\n",
        "\n",
        "vietnamese_stopwords[:10]"
      ]
    },
    {
      "cell_type": "code",
      "execution_count": 16,
      "metadata": {
        "colab": {
          "base_uri": "https://localhost:8080/",
          "height": 35
        },
        "id": "ckULHpAOYP9z",
        "outputId": "e7ebdc10-0cc2-45ef-c21f-325cfb4eb4e2"
      },
      "outputs": [
        {
          "output_type": "execute_result",
          "data": {
            "text/plain": [
              "'VinFast thức vận hành 35 showroom xe máy điện kết hợp trung tâm trải nghiệm Vin3S 24 tỉnh thành phố'"
            ],
            "application/vnd.google.colaboratory.intrinsic+json": {
              "type": "string"
            }
          },
          "metadata": {},
          "execution_count": 16
        }
      ],
      "source": [
        "def clean_text(txt):\n",
        "    txt = re.sub('\\s+', ' ', txt)\n",
        "    txt = txt.replace('.','')\n",
        "    txt = re.sub('\\n', ' ', txt)\n",
        "    txt = [word_tokenize(wrd) for wrd in txt.split() if wrd not in vietnamese_stopwords]\n",
        "    txt = [item[0] for item in txt]\n",
        "    txt = ' '.join(txt)\n",
        "    return txt\n",
        "\n",
        "clean_text(\" VinFast chính thức vận hành 35 showroom xe máy điện kết hợp trung tâm trải nghiệm Vin3S tại 24 tỉnh, thành phố trên cả nước\")"
      ]
    },
    {
      "cell_type": "code",
      "source": [
        "# e_df['Content'] = e_df['Content'].apply(clean_text)\n",
        "e_df.head()"
      ],
      "metadata": {
        "colab": {
          "base_uri": "https://localhost:8080/",
          "height": 206
        },
        "id": "sLKqEbYMt7ZD",
        "outputId": "c3b350bc-7758-4602-cae8-aa983ccf3cb0"
      },
      "execution_count": 17,
      "outputs": [
        {
          "output_type": "execute_result",
          "data": {
            "text/plain": [
              "                                                Content Label  Word Count  \\\n",
              "3945  Hòa Phát tiêu thụ thép xây dựng tăng 82%. Tron...   HPG         324   \n",
              "1809  Công ty Container Hòa Phát bị phạt hành chính ...   HPG        1053   \n",
              "7422  Sản lượng bán thép tháng 10 của Hòa Phát giảm ...   HPG         346   \n",
              "943   'Lão tướng' sáng lập FPT gọi Hoà Phát là... kỳ...   HPG        1035   \n",
              "2267  Cổ đông Hòa Phát quan tâm gì trước ngày đại hộ...   HPG        1271   \n",
              "\n",
              "      Class Count  \n",
              "3945          197  \n",
              "1809          197  \n",
              "7422          197  \n",
              "943           197  \n",
              "2267          197  "
            ],
            "text/html": [
              "\n",
              "\n",
              "  <div id=\"df-d562bff5-468d-4bee-87d1-6d04a34fdbca\">\n",
              "    <div class=\"colab-df-container\">\n",
              "      <div>\n",
              "<style scoped>\n",
              "    .dataframe tbody tr th:only-of-type {\n",
              "        vertical-align: middle;\n",
              "    }\n",
              "\n",
              "    .dataframe tbody tr th {\n",
              "        vertical-align: top;\n",
              "    }\n",
              "\n",
              "    .dataframe thead th {\n",
              "        text-align: right;\n",
              "    }\n",
              "</style>\n",
              "<table border=\"1\" class=\"dataframe\">\n",
              "  <thead>\n",
              "    <tr style=\"text-align: right;\">\n",
              "      <th></th>\n",
              "      <th>Content</th>\n",
              "      <th>Label</th>\n",
              "      <th>Word Count</th>\n",
              "      <th>Class Count</th>\n",
              "    </tr>\n",
              "  </thead>\n",
              "  <tbody>\n",
              "    <tr>\n",
              "      <th>3945</th>\n",
              "      <td>Hòa Phát tiêu thụ thép xây dựng tăng 82%. Tron...</td>\n",
              "      <td>HPG</td>\n",
              "      <td>324</td>\n",
              "      <td>197</td>\n",
              "    </tr>\n",
              "    <tr>\n",
              "      <th>1809</th>\n",
              "      <td>Công ty Container Hòa Phát bị phạt hành chính ...</td>\n",
              "      <td>HPG</td>\n",
              "      <td>1053</td>\n",
              "      <td>197</td>\n",
              "    </tr>\n",
              "    <tr>\n",
              "      <th>7422</th>\n",
              "      <td>Sản lượng bán thép tháng 10 của Hòa Phát giảm ...</td>\n",
              "      <td>HPG</td>\n",
              "      <td>346</td>\n",
              "      <td>197</td>\n",
              "    </tr>\n",
              "    <tr>\n",
              "      <th>943</th>\n",
              "      <td>'Lão tướng' sáng lập FPT gọi Hoà Phát là... kỳ...</td>\n",
              "      <td>HPG</td>\n",
              "      <td>1035</td>\n",
              "      <td>197</td>\n",
              "    </tr>\n",
              "    <tr>\n",
              "      <th>2267</th>\n",
              "      <td>Cổ đông Hòa Phát quan tâm gì trước ngày đại hộ...</td>\n",
              "      <td>HPG</td>\n",
              "      <td>1271</td>\n",
              "      <td>197</td>\n",
              "    </tr>\n",
              "  </tbody>\n",
              "</table>\n",
              "</div>\n",
              "      <button class=\"colab-df-convert\" onclick=\"convertToInteractive('df-d562bff5-468d-4bee-87d1-6d04a34fdbca')\"\n",
              "              title=\"Convert this dataframe to an interactive table.\"\n",
              "              style=\"display:none;\">\n",
              "\n",
              "  <svg xmlns=\"http://www.w3.org/2000/svg\" height=\"24px\"viewBox=\"0 0 24 24\"\n",
              "       width=\"24px\">\n",
              "    <path d=\"M0 0h24v24H0V0z\" fill=\"none\"/>\n",
              "    <path d=\"M18.56 5.44l.94 2.06.94-2.06 2.06-.94-2.06-.94-.94-2.06-.94 2.06-2.06.94zm-11 1L8.5 8.5l.94-2.06 2.06-.94-2.06-.94L8.5 2.5l-.94 2.06-2.06.94zm10 10l.94 2.06.94-2.06 2.06-.94-2.06-.94-.94-2.06-.94 2.06-2.06.94z\"/><path d=\"M17.41 7.96l-1.37-1.37c-.4-.4-.92-.59-1.43-.59-.52 0-1.04.2-1.43.59L10.3 9.45l-7.72 7.72c-.78.78-.78 2.05 0 2.83L4 21.41c.39.39.9.59 1.41.59.51 0 1.02-.2 1.41-.59l7.78-7.78 2.81-2.81c.8-.78.8-2.07 0-2.86zM5.41 20L4 18.59l7.72-7.72 1.47 1.35L5.41 20z\"/>\n",
              "  </svg>\n",
              "      </button>\n",
              "\n",
              "\n",
              "\n",
              "    <div id=\"df-787bb123-5036-469f-a893-ac8b6d48bc2c\">\n",
              "      <button class=\"colab-df-quickchart\" onclick=\"quickchart('df-787bb123-5036-469f-a893-ac8b6d48bc2c')\"\n",
              "              title=\"Suggest charts.\"\n",
              "              style=\"display:none;\">\n",
              "\n",
              "<svg xmlns=\"http://www.w3.org/2000/svg\" height=\"24px\"viewBox=\"0 0 24 24\"\n",
              "     width=\"24px\">\n",
              "    <g>\n",
              "        <path d=\"M19 3H5c-1.1 0-2 .9-2 2v14c0 1.1.9 2 2 2h14c1.1 0 2-.9 2-2V5c0-1.1-.9-2-2-2zM9 17H7v-7h2v7zm4 0h-2V7h2v10zm4 0h-2v-4h2v4z\"/>\n",
              "    </g>\n",
              "</svg>\n",
              "      </button>\n",
              "    </div>\n",
              "\n",
              "<style>\n",
              "  .colab-df-quickchart {\n",
              "    background-color: #E8F0FE;\n",
              "    border: none;\n",
              "    border-radius: 50%;\n",
              "    cursor: pointer;\n",
              "    display: none;\n",
              "    fill: #1967D2;\n",
              "    height: 32px;\n",
              "    padding: 0 0 0 0;\n",
              "    width: 32px;\n",
              "  }\n",
              "\n",
              "  .colab-df-quickchart:hover {\n",
              "    background-color: #E2EBFA;\n",
              "    box-shadow: 0px 1px 2px rgba(60, 64, 67, 0.3), 0px 1px 3px 1px rgba(60, 64, 67, 0.15);\n",
              "    fill: #174EA6;\n",
              "  }\n",
              "\n",
              "  [theme=dark] .colab-df-quickchart {\n",
              "    background-color: #3B4455;\n",
              "    fill: #D2E3FC;\n",
              "  }\n",
              "\n",
              "  [theme=dark] .colab-df-quickchart:hover {\n",
              "    background-color: #434B5C;\n",
              "    box-shadow: 0px 1px 3px 1px rgba(0, 0, 0, 0.15);\n",
              "    filter: drop-shadow(0px 1px 2px rgba(0, 0, 0, 0.3));\n",
              "    fill: #FFFFFF;\n",
              "  }\n",
              "</style>\n",
              "\n",
              "    <script>\n",
              "      async function quickchart(key) {\n",
              "        const containerElement = document.querySelector('#' + key);\n",
              "        const charts = await google.colab.kernel.invokeFunction(\n",
              "            'suggestCharts', [key], {});\n",
              "      }\n",
              "    </script>\n",
              "\n",
              "      <script>\n",
              "\n",
              "function displayQuickchartButton(domScope) {\n",
              "  let quickchartButtonEl =\n",
              "    domScope.querySelector('#df-787bb123-5036-469f-a893-ac8b6d48bc2c button.colab-df-quickchart');\n",
              "  quickchartButtonEl.style.display =\n",
              "    google.colab.kernel.accessAllowed ? 'block' : 'none';\n",
              "}\n",
              "\n",
              "        displayQuickchartButton(document);\n",
              "      </script>\n",
              "      <style>\n",
              "    .colab-df-container {\n",
              "      display:flex;\n",
              "      flex-wrap:wrap;\n",
              "      gap: 12px;\n",
              "    }\n",
              "\n",
              "    .colab-df-convert {\n",
              "      background-color: #E8F0FE;\n",
              "      border: none;\n",
              "      border-radius: 50%;\n",
              "      cursor: pointer;\n",
              "      display: none;\n",
              "      fill: #1967D2;\n",
              "      height: 32px;\n",
              "      padding: 0 0 0 0;\n",
              "      width: 32px;\n",
              "    }\n",
              "\n",
              "    .colab-df-convert:hover {\n",
              "      background-color: #E2EBFA;\n",
              "      box-shadow: 0px 1px 2px rgba(60, 64, 67, 0.3), 0px 1px 3px 1px rgba(60, 64, 67, 0.15);\n",
              "      fill: #174EA6;\n",
              "    }\n",
              "\n",
              "    [theme=dark] .colab-df-convert {\n",
              "      background-color: #3B4455;\n",
              "      fill: #D2E3FC;\n",
              "    }\n",
              "\n",
              "    [theme=dark] .colab-df-convert:hover {\n",
              "      background-color: #434B5C;\n",
              "      box-shadow: 0px 1px 3px 1px rgba(0, 0, 0, 0.15);\n",
              "      filter: drop-shadow(0px 1px 2px rgba(0, 0, 0, 0.3));\n",
              "      fill: #FFFFFF;\n",
              "    }\n",
              "  </style>\n",
              "\n",
              "      <script>\n",
              "        const buttonEl =\n",
              "          document.querySelector('#df-d562bff5-468d-4bee-87d1-6d04a34fdbca button.colab-df-convert');\n",
              "        buttonEl.style.display =\n",
              "          google.colab.kernel.accessAllowed ? 'block' : 'none';\n",
              "\n",
              "        async function convertToInteractive(key) {\n",
              "          const element = document.querySelector('#df-d562bff5-468d-4bee-87d1-6d04a34fdbca');\n",
              "          const dataTable =\n",
              "            await google.colab.kernel.invokeFunction('convertToInteractive',\n",
              "                                                     [key], {});\n",
              "          if (!dataTable) return;\n",
              "\n",
              "          const docLinkHtml = 'Like what you see? Visit the ' +\n",
              "            '<a target=\"_blank\" href=https://colab.research.google.com/notebooks/data_table.ipynb>data table notebook</a>'\n",
              "            + ' to learn more about interactive tables.';\n",
              "          element.innerHTML = '';\n",
              "          dataTable['output_type'] = 'display_data';\n",
              "          await google.colab.output.renderOutput(dataTable, element);\n",
              "          const docLink = document.createElement('div');\n",
              "          docLink.innerHTML = docLinkHtml;\n",
              "          element.appendChild(docLink);\n",
              "        }\n",
              "      </script>\n",
              "    </div>\n",
              "  </div>\n"
            ]
          },
          "metadata": {},
          "execution_count": 17
        }
      ]
    },
    {
      "cell_type": "markdown",
      "metadata": {
        "id": "d4CCJN2WY4iI"
      },
      "source": [
        "## Transform labels"
      ]
    },
    {
      "cell_type": "code",
      "execution_count": 18,
      "metadata": {
        "colab": {
          "base_uri": "https://localhost:8080/"
        },
        "id": "4X84MjkGHYm7",
        "outputId": "d6fa3edb-22dd-4224-ce0e-f2c343ba9203"
      },
      "outputs": [
        {
          "output_type": "stream",
          "name": "stdout",
          "text": [
            "['HPG', 'HPG', 'HPG', 'HPG', 'HPG', 'HPG', 'HPG', 'HPG', 'HPG', 'HPG']\n"
          ]
        }
      ],
      "source": [
        "labels_list = e_df['Label'].tolist()\n",
        "print(labels_list[:10])"
      ]
    },
    {
      "cell_type": "code",
      "execution_count": 19,
      "metadata": {
        "colab": {
          "base_uri": "https://localhost:8080/"
        },
        "id": "rqVhpg4LdRgY",
        "outputId": "dd02efe9-6663-4124-eb38-530ef41d647a"
      },
      "outputs": [
        {
          "output_type": "stream",
          "name": "stdout",
          "text": [
            "[142, 142, 101, 142, 31, 31, 73, 73, 31, 31]\n"
          ]
        }
      ],
      "source": [
        "le = LabelEncoder()\n",
        "labels = le.fit_transform(labels_list).tolist()\n",
        "print(labels[-10:])"
      ]
    },
    {
      "cell_type": "markdown",
      "source": [
        "Save file for later prediction"
      ],
      "metadata": {
        "id": "lT3dQolI3Kd1"
      }
    },
    {
      "cell_type": "code",
      "source": [
        "joblib.dump(le, 'label_encoder.joblib')"
      ],
      "metadata": {
        "colab": {
          "base_uri": "https://localhost:8080/"
        },
        "id": "CxxlhpXS3MrQ",
        "outputId": "8af43eeb-1a1b-41a5-901b-ba37f0566054"
      },
      "execution_count": 20,
      "outputs": [
        {
          "output_type": "execute_result",
          "data": {
            "text/plain": [
              "['label_encoder.joblib']"
            ]
          },
          "metadata": {},
          "execution_count": 20
        }
      ]
    },
    {
      "cell_type": "code",
      "execution_count": 21,
      "metadata": {
        "colab": {
          "base_uri": "https://localhost:8080/",
          "height": 363
        },
        "id": "jcVd4SR3C_Bu",
        "outputId": "50ee7dd8-645c-44f2-c883-a2c359bf456f"
      },
      "outputs": [
        {
          "output_type": "execute_result",
          "data": {
            "text/plain": [
              "                                                Content Label  Word Count  \\\n",
              "3945  Hòa Phát tiêu thụ thép xây dựng tăng 82%. Tron...   HPG         324   \n",
              "1809  Công ty Container Hòa Phát bị phạt hành chính ...   HPG        1053   \n",
              "7422  Sản lượng bán thép tháng 10 của Hòa Phát giảm ...   HPG         346   \n",
              "943   'Lão tướng' sáng lập FPT gọi Hoà Phát là... kỳ...   HPG        1035   \n",
              "2267  Cổ đông Hòa Phát quan tâm gì trước ngày đại hộ...   HPG        1271   \n",
              "2111  Hòa Phát quý III: Chi phí tài chính hơn 2.300 ...   HPG         693   \n",
              "5448  Nhà máy Dung Quất đi vào hoạt động, Hòa Phát t...   HPG        1331   \n",
              "3878  Hòa Phát muốn rót 85.000 tỷ đồng để mở rộng Kh...   HPG         425   \n",
              "5405  Hòa Phát sản xuất container: Những bài toán đã...   HPG        1784   \n",
              "2669  Hòa Phát có thêm 18.000 cổ đông sau một năm, H...   HPG         720   \n",
              "\n",
              "      Class Count  Encode Label  \n",
              "3945          197            55  \n",
              "1809          197            55  \n",
              "7422          197            55  \n",
              "943           197            55  \n",
              "2267          197            55  \n",
              "2111          197            55  \n",
              "5448          197            55  \n",
              "3878          197            55  \n",
              "5405          197            55  \n",
              "2669          197            55  "
            ],
            "text/html": [
              "\n",
              "\n",
              "  <div id=\"df-27ae0e18-7a4a-440b-af7a-3e4568798707\">\n",
              "    <div class=\"colab-df-container\">\n",
              "      <div>\n",
              "<style scoped>\n",
              "    .dataframe tbody tr th:only-of-type {\n",
              "        vertical-align: middle;\n",
              "    }\n",
              "\n",
              "    .dataframe tbody tr th {\n",
              "        vertical-align: top;\n",
              "    }\n",
              "\n",
              "    .dataframe thead th {\n",
              "        text-align: right;\n",
              "    }\n",
              "</style>\n",
              "<table border=\"1\" class=\"dataframe\">\n",
              "  <thead>\n",
              "    <tr style=\"text-align: right;\">\n",
              "      <th></th>\n",
              "      <th>Content</th>\n",
              "      <th>Label</th>\n",
              "      <th>Word Count</th>\n",
              "      <th>Class Count</th>\n",
              "      <th>Encode Label</th>\n",
              "    </tr>\n",
              "  </thead>\n",
              "  <tbody>\n",
              "    <tr>\n",
              "      <th>3945</th>\n",
              "      <td>Hòa Phát tiêu thụ thép xây dựng tăng 82%. Tron...</td>\n",
              "      <td>HPG</td>\n",
              "      <td>324</td>\n",
              "      <td>197</td>\n",
              "      <td>55</td>\n",
              "    </tr>\n",
              "    <tr>\n",
              "      <th>1809</th>\n",
              "      <td>Công ty Container Hòa Phát bị phạt hành chính ...</td>\n",
              "      <td>HPG</td>\n",
              "      <td>1053</td>\n",
              "      <td>197</td>\n",
              "      <td>55</td>\n",
              "    </tr>\n",
              "    <tr>\n",
              "      <th>7422</th>\n",
              "      <td>Sản lượng bán thép tháng 10 của Hòa Phát giảm ...</td>\n",
              "      <td>HPG</td>\n",
              "      <td>346</td>\n",
              "      <td>197</td>\n",
              "      <td>55</td>\n",
              "    </tr>\n",
              "    <tr>\n",
              "      <th>943</th>\n",
              "      <td>'Lão tướng' sáng lập FPT gọi Hoà Phát là... kỳ...</td>\n",
              "      <td>HPG</td>\n",
              "      <td>1035</td>\n",
              "      <td>197</td>\n",
              "      <td>55</td>\n",
              "    </tr>\n",
              "    <tr>\n",
              "      <th>2267</th>\n",
              "      <td>Cổ đông Hòa Phát quan tâm gì trước ngày đại hộ...</td>\n",
              "      <td>HPG</td>\n",
              "      <td>1271</td>\n",
              "      <td>197</td>\n",
              "      <td>55</td>\n",
              "    </tr>\n",
              "    <tr>\n",
              "      <th>2111</th>\n",
              "      <td>Hòa Phát quý III: Chi phí tài chính hơn 2.300 ...</td>\n",
              "      <td>HPG</td>\n",
              "      <td>693</td>\n",
              "      <td>197</td>\n",
              "      <td>55</td>\n",
              "    </tr>\n",
              "    <tr>\n",
              "      <th>5448</th>\n",
              "      <td>Nhà máy Dung Quất đi vào hoạt động, Hòa Phát t...</td>\n",
              "      <td>HPG</td>\n",
              "      <td>1331</td>\n",
              "      <td>197</td>\n",
              "      <td>55</td>\n",
              "    </tr>\n",
              "    <tr>\n",
              "      <th>3878</th>\n",
              "      <td>Hòa Phát muốn rót 85.000 tỷ đồng để mở rộng Kh...</td>\n",
              "      <td>HPG</td>\n",
              "      <td>425</td>\n",
              "      <td>197</td>\n",
              "      <td>55</td>\n",
              "    </tr>\n",
              "    <tr>\n",
              "      <th>5405</th>\n",
              "      <td>Hòa Phát sản xuất container: Những bài toán đã...</td>\n",
              "      <td>HPG</td>\n",
              "      <td>1784</td>\n",
              "      <td>197</td>\n",
              "      <td>55</td>\n",
              "    </tr>\n",
              "    <tr>\n",
              "      <th>2669</th>\n",
              "      <td>Hòa Phát có thêm 18.000 cổ đông sau một năm, H...</td>\n",
              "      <td>HPG</td>\n",
              "      <td>720</td>\n",
              "      <td>197</td>\n",
              "      <td>55</td>\n",
              "    </tr>\n",
              "  </tbody>\n",
              "</table>\n",
              "</div>\n",
              "      <button class=\"colab-df-convert\" onclick=\"convertToInteractive('df-27ae0e18-7a4a-440b-af7a-3e4568798707')\"\n",
              "              title=\"Convert this dataframe to an interactive table.\"\n",
              "              style=\"display:none;\">\n",
              "\n",
              "  <svg xmlns=\"http://www.w3.org/2000/svg\" height=\"24px\"viewBox=\"0 0 24 24\"\n",
              "       width=\"24px\">\n",
              "    <path d=\"M0 0h24v24H0V0z\" fill=\"none\"/>\n",
              "    <path d=\"M18.56 5.44l.94 2.06.94-2.06 2.06-.94-2.06-.94-.94-2.06-.94 2.06-2.06.94zm-11 1L8.5 8.5l.94-2.06 2.06-.94-2.06-.94L8.5 2.5l-.94 2.06-2.06.94zm10 10l.94 2.06.94-2.06 2.06-.94-2.06-.94-.94-2.06-.94 2.06-2.06.94z\"/><path d=\"M17.41 7.96l-1.37-1.37c-.4-.4-.92-.59-1.43-.59-.52 0-1.04.2-1.43.59L10.3 9.45l-7.72 7.72c-.78.78-.78 2.05 0 2.83L4 21.41c.39.39.9.59 1.41.59.51 0 1.02-.2 1.41-.59l7.78-7.78 2.81-2.81c.8-.78.8-2.07 0-2.86zM5.41 20L4 18.59l7.72-7.72 1.47 1.35L5.41 20z\"/>\n",
              "  </svg>\n",
              "      </button>\n",
              "\n",
              "\n",
              "\n",
              "    <div id=\"df-edae2b85-299b-485e-8335-a43493828913\">\n",
              "      <button class=\"colab-df-quickchart\" onclick=\"quickchart('df-edae2b85-299b-485e-8335-a43493828913')\"\n",
              "              title=\"Suggest charts.\"\n",
              "              style=\"display:none;\">\n",
              "\n",
              "<svg xmlns=\"http://www.w3.org/2000/svg\" height=\"24px\"viewBox=\"0 0 24 24\"\n",
              "     width=\"24px\">\n",
              "    <g>\n",
              "        <path d=\"M19 3H5c-1.1 0-2 .9-2 2v14c0 1.1.9 2 2 2h14c1.1 0 2-.9 2-2V5c0-1.1-.9-2-2-2zM9 17H7v-7h2v7zm4 0h-2V7h2v10zm4 0h-2v-4h2v4z\"/>\n",
              "    </g>\n",
              "</svg>\n",
              "      </button>\n",
              "    </div>\n",
              "\n",
              "<style>\n",
              "  .colab-df-quickchart {\n",
              "    background-color: #E8F0FE;\n",
              "    border: none;\n",
              "    border-radius: 50%;\n",
              "    cursor: pointer;\n",
              "    display: none;\n",
              "    fill: #1967D2;\n",
              "    height: 32px;\n",
              "    padding: 0 0 0 0;\n",
              "    width: 32px;\n",
              "  }\n",
              "\n",
              "  .colab-df-quickchart:hover {\n",
              "    background-color: #E2EBFA;\n",
              "    box-shadow: 0px 1px 2px rgba(60, 64, 67, 0.3), 0px 1px 3px 1px rgba(60, 64, 67, 0.15);\n",
              "    fill: #174EA6;\n",
              "  }\n",
              "\n",
              "  [theme=dark] .colab-df-quickchart {\n",
              "    background-color: #3B4455;\n",
              "    fill: #D2E3FC;\n",
              "  }\n",
              "\n",
              "  [theme=dark] .colab-df-quickchart:hover {\n",
              "    background-color: #434B5C;\n",
              "    box-shadow: 0px 1px 3px 1px rgba(0, 0, 0, 0.15);\n",
              "    filter: drop-shadow(0px 1px 2px rgba(0, 0, 0, 0.3));\n",
              "    fill: #FFFFFF;\n",
              "  }\n",
              "</style>\n",
              "\n",
              "    <script>\n",
              "      async function quickchart(key) {\n",
              "        const containerElement = document.querySelector('#' + key);\n",
              "        const charts = await google.colab.kernel.invokeFunction(\n",
              "            'suggestCharts', [key], {});\n",
              "      }\n",
              "    </script>\n",
              "\n",
              "      <script>\n",
              "\n",
              "function displayQuickchartButton(domScope) {\n",
              "  let quickchartButtonEl =\n",
              "    domScope.querySelector('#df-edae2b85-299b-485e-8335-a43493828913 button.colab-df-quickchart');\n",
              "  quickchartButtonEl.style.display =\n",
              "    google.colab.kernel.accessAllowed ? 'block' : 'none';\n",
              "}\n",
              "\n",
              "        displayQuickchartButton(document);\n",
              "      </script>\n",
              "      <style>\n",
              "    .colab-df-container {\n",
              "      display:flex;\n",
              "      flex-wrap:wrap;\n",
              "      gap: 12px;\n",
              "    }\n",
              "\n",
              "    .colab-df-convert {\n",
              "      background-color: #E8F0FE;\n",
              "      border: none;\n",
              "      border-radius: 50%;\n",
              "      cursor: pointer;\n",
              "      display: none;\n",
              "      fill: #1967D2;\n",
              "      height: 32px;\n",
              "      padding: 0 0 0 0;\n",
              "      width: 32px;\n",
              "    }\n",
              "\n",
              "    .colab-df-convert:hover {\n",
              "      background-color: #E2EBFA;\n",
              "      box-shadow: 0px 1px 2px rgba(60, 64, 67, 0.3), 0px 1px 3px 1px rgba(60, 64, 67, 0.15);\n",
              "      fill: #174EA6;\n",
              "    }\n",
              "\n",
              "    [theme=dark] .colab-df-convert {\n",
              "      background-color: #3B4455;\n",
              "      fill: #D2E3FC;\n",
              "    }\n",
              "\n",
              "    [theme=dark] .colab-df-convert:hover {\n",
              "      background-color: #434B5C;\n",
              "      box-shadow: 0px 1px 3px 1px rgba(0, 0, 0, 0.15);\n",
              "      filter: drop-shadow(0px 1px 2px rgba(0, 0, 0, 0.3));\n",
              "      fill: #FFFFFF;\n",
              "    }\n",
              "  </style>\n",
              "\n",
              "      <script>\n",
              "        const buttonEl =\n",
              "          document.querySelector('#df-27ae0e18-7a4a-440b-af7a-3e4568798707 button.colab-df-convert');\n",
              "        buttonEl.style.display =\n",
              "          google.colab.kernel.accessAllowed ? 'block' : 'none';\n",
              "\n",
              "        async function convertToInteractive(key) {\n",
              "          const element = document.querySelector('#df-27ae0e18-7a4a-440b-af7a-3e4568798707');\n",
              "          const dataTable =\n",
              "            await google.colab.kernel.invokeFunction('convertToInteractive',\n",
              "                                                     [key], {});\n",
              "          if (!dataTable) return;\n",
              "\n",
              "          const docLinkHtml = 'Like what you see? Visit the ' +\n",
              "            '<a target=\"_blank\" href=https://colab.research.google.com/notebooks/data_table.ipynb>data table notebook</a>'\n",
              "            + ' to learn more about interactive tables.';\n",
              "          element.innerHTML = '';\n",
              "          dataTable['output_type'] = 'display_data';\n",
              "          await google.colab.output.renderOutput(dataTable, element);\n",
              "          const docLink = document.createElement('div');\n",
              "          docLink.innerHTML = docLinkHtml;\n",
              "          element.appendChild(docLink);\n",
              "        }\n",
              "      </script>\n",
              "    </div>\n",
              "  </div>\n"
            ]
          },
          "metadata": {},
          "execution_count": 21
        }
      ],
      "source": [
        "e_df['Encode Label'] = labels\n",
        "e_df.head(10)"
      ]
    },
    {
      "cell_type": "markdown",
      "metadata": {
        "id": "pfz_FReFILAS"
      },
      "source": [
        "## Split trainset valset"
      ]
    },
    {
      "cell_type": "code",
      "execution_count": 22,
      "metadata": {
        "id": "Z8LKnxN4IOJJ",
        "colab": {
          "base_uri": "https://localhost:8080/"
        },
        "outputId": "2cf39160-9283-4906-832a-0aa6f7163ff0"
      },
      "outputs": [
        {
          "output_type": "stream",
          "name": "stdout",
          "text": [
            "5776\n",
            "5447\n",
            "How many unique labels in the trainset 156\n",
            "How many unique labels in the valset 156\n"
          ]
        }
      ],
      "source": [
        "trainset, valset = train_test_split(e_df, test_size=0.2, stratify=e_df['Encode Label'])\n",
        "print(len(trainset))\n",
        "trainset = trainset.drop_duplicates(subset=['Label', 'Word Count'], keep='first')\n",
        "print(len(trainset))\n",
        "trainset['Class Count'] = trainset.groupby('Label')['Label'].transform('count')\n",
        "valset['Class Count'] = valset.groupby('Label')['Label'].transform('count')\n",
        "print(\"How many unique labels in the trainset\", trainset['Encode Label'].nunique())\n",
        "print(\"How many unique labels in the valset\", valset['Encode Label'].nunique())"
      ]
    },
    {
      "cell_type": "markdown",
      "source": [
        "# Visualize Extracted Data"
      ],
      "metadata": {
        "id": "moZNIJYM99ag"
      }
    },
    {
      "cell_type": "code",
      "source": [
        "trainset_unique_label = trainset.drop_duplicates(subset='Encode Label').sort_values(by=\"Class Count\")\n",
        "trainset_unique_label.head()"
      ],
      "metadata": {
        "colab": {
          "base_uri": "https://localhost:8080/",
          "height": 206
        },
        "id": "M2y3_Tf1vuJ0",
        "outputId": "4c89a87e-e8cc-4865-c906-53dac237230e"
      },
      "execution_count": 23,
      "outputs": [
        {
          "output_type": "execute_result",
          "data": {
            "text/plain": [
              "                                                Content Label  Word Count  \\\n",
              "323   Ocean Group thoát lỗ quý II nhờ giảm nợ sau ph...   OCH         847   \n",
              "8615  Giá thép giảm mạnh, Thép Pomina (POM) lỗ sau t...   POM         336   \n",
              "7477  Ông Nguyễn Mạnh Tuấn “A7” rời HĐQT, kế hoạch đ...   L14         640   \n",
              "6665  HDBank thu được 8,016 tỷ đồng lãi trước thuế s...   HDB         297   \n",
              "646   Lãi ròng năm 2023 của Dat Xanh Services dự phó...   DXS         590   \n",
              "\n",
              "      Class Count  Encode Label  \n",
              "323            13            90  \n",
              "8615           13           101  \n",
              "7477           13            73  \n",
              "6665           14            49  \n",
              "646            14            31  "
            ],
            "text/html": [
              "\n",
              "\n",
              "  <div id=\"df-90f157a7-4e50-4121-855b-644a4c84dca3\">\n",
              "    <div class=\"colab-df-container\">\n",
              "      <div>\n",
              "<style scoped>\n",
              "    .dataframe tbody tr th:only-of-type {\n",
              "        vertical-align: middle;\n",
              "    }\n",
              "\n",
              "    .dataframe tbody tr th {\n",
              "        vertical-align: top;\n",
              "    }\n",
              "\n",
              "    .dataframe thead th {\n",
              "        text-align: right;\n",
              "    }\n",
              "</style>\n",
              "<table border=\"1\" class=\"dataframe\">\n",
              "  <thead>\n",
              "    <tr style=\"text-align: right;\">\n",
              "      <th></th>\n",
              "      <th>Content</th>\n",
              "      <th>Label</th>\n",
              "      <th>Word Count</th>\n",
              "      <th>Class Count</th>\n",
              "      <th>Encode Label</th>\n",
              "    </tr>\n",
              "  </thead>\n",
              "  <tbody>\n",
              "    <tr>\n",
              "      <th>323</th>\n",
              "      <td>Ocean Group thoát lỗ quý II nhờ giảm nợ sau ph...</td>\n",
              "      <td>OCH</td>\n",
              "      <td>847</td>\n",
              "      <td>13</td>\n",
              "      <td>90</td>\n",
              "    </tr>\n",
              "    <tr>\n",
              "      <th>8615</th>\n",
              "      <td>Giá thép giảm mạnh, Thép Pomina (POM) lỗ sau t...</td>\n",
              "      <td>POM</td>\n",
              "      <td>336</td>\n",
              "      <td>13</td>\n",
              "      <td>101</td>\n",
              "    </tr>\n",
              "    <tr>\n",
              "      <th>7477</th>\n",
              "      <td>Ông Nguyễn Mạnh Tuấn “A7” rời HĐQT, kế hoạch đ...</td>\n",
              "      <td>L14</td>\n",
              "      <td>640</td>\n",
              "      <td>13</td>\n",
              "      <td>73</td>\n",
              "    </tr>\n",
              "    <tr>\n",
              "      <th>6665</th>\n",
              "      <td>HDBank thu được 8,016 tỷ đồng lãi trước thuế s...</td>\n",
              "      <td>HDB</td>\n",
              "      <td>297</td>\n",
              "      <td>14</td>\n",
              "      <td>49</td>\n",
              "    </tr>\n",
              "    <tr>\n",
              "      <th>646</th>\n",
              "      <td>Lãi ròng năm 2023 của Dat Xanh Services dự phó...</td>\n",
              "      <td>DXS</td>\n",
              "      <td>590</td>\n",
              "      <td>14</td>\n",
              "      <td>31</td>\n",
              "    </tr>\n",
              "  </tbody>\n",
              "</table>\n",
              "</div>\n",
              "      <button class=\"colab-df-convert\" onclick=\"convertToInteractive('df-90f157a7-4e50-4121-855b-644a4c84dca3')\"\n",
              "              title=\"Convert this dataframe to an interactive table.\"\n",
              "              style=\"display:none;\">\n",
              "\n",
              "  <svg xmlns=\"http://www.w3.org/2000/svg\" height=\"24px\"viewBox=\"0 0 24 24\"\n",
              "       width=\"24px\">\n",
              "    <path d=\"M0 0h24v24H0V0z\" fill=\"none\"/>\n",
              "    <path d=\"M18.56 5.44l.94 2.06.94-2.06 2.06-.94-2.06-.94-.94-2.06-.94 2.06-2.06.94zm-11 1L8.5 8.5l.94-2.06 2.06-.94-2.06-.94L8.5 2.5l-.94 2.06-2.06.94zm10 10l.94 2.06.94-2.06 2.06-.94-2.06-.94-.94-2.06-.94 2.06-2.06.94z\"/><path d=\"M17.41 7.96l-1.37-1.37c-.4-.4-.92-.59-1.43-.59-.52 0-1.04.2-1.43.59L10.3 9.45l-7.72 7.72c-.78.78-.78 2.05 0 2.83L4 21.41c.39.39.9.59 1.41.59.51 0 1.02-.2 1.41-.59l7.78-7.78 2.81-2.81c.8-.78.8-2.07 0-2.86zM5.41 20L4 18.59l7.72-7.72 1.47 1.35L5.41 20z\"/>\n",
              "  </svg>\n",
              "      </button>\n",
              "\n",
              "\n",
              "\n",
              "    <div id=\"df-7c102581-2e5c-43cc-ba33-d9fd4aaf3181\">\n",
              "      <button class=\"colab-df-quickchart\" onclick=\"quickchart('df-7c102581-2e5c-43cc-ba33-d9fd4aaf3181')\"\n",
              "              title=\"Suggest charts.\"\n",
              "              style=\"display:none;\">\n",
              "\n",
              "<svg xmlns=\"http://www.w3.org/2000/svg\" height=\"24px\"viewBox=\"0 0 24 24\"\n",
              "     width=\"24px\">\n",
              "    <g>\n",
              "        <path d=\"M19 3H5c-1.1 0-2 .9-2 2v14c0 1.1.9 2 2 2h14c1.1 0 2-.9 2-2V5c0-1.1-.9-2-2-2zM9 17H7v-7h2v7zm4 0h-2V7h2v10zm4 0h-2v-4h2v4z\"/>\n",
              "    </g>\n",
              "</svg>\n",
              "      </button>\n",
              "    </div>\n",
              "\n",
              "<style>\n",
              "  .colab-df-quickchart {\n",
              "    background-color: #E8F0FE;\n",
              "    border: none;\n",
              "    border-radius: 50%;\n",
              "    cursor: pointer;\n",
              "    display: none;\n",
              "    fill: #1967D2;\n",
              "    height: 32px;\n",
              "    padding: 0 0 0 0;\n",
              "    width: 32px;\n",
              "  }\n",
              "\n",
              "  .colab-df-quickchart:hover {\n",
              "    background-color: #E2EBFA;\n",
              "    box-shadow: 0px 1px 2px rgba(60, 64, 67, 0.3), 0px 1px 3px 1px rgba(60, 64, 67, 0.15);\n",
              "    fill: #174EA6;\n",
              "  }\n",
              "\n",
              "  [theme=dark] .colab-df-quickchart {\n",
              "    background-color: #3B4455;\n",
              "    fill: #D2E3FC;\n",
              "  }\n",
              "\n",
              "  [theme=dark] .colab-df-quickchart:hover {\n",
              "    background-color: #434B5C;\n",
              "    box-shadow: 0px 1px 3px 1px rgba(0, 0, 0, 0.15);\n",
              "    filter: drop-shadow(0px 1px 2px rgba(0, 0, 0, 0.3));\n",
              "    fill: #FFFFFF;\n",
              "  }\n",
              "</style>\n",
              "\n",
              "    <script>\n",
              "      async function quickchart(key) {\n",
              "        const containerElement = document.querySelector('#' + key);\n",
              "        const charts = await google.colab.kernel.invokeFunction(\n",
              "            'suggestCharts', [key], {});\n",
              "      }\n",
              "    </script>\n",
              "\n",
              "      <script>\n",
              "\n",
              "function displayQuickchartButton(domScope) {\n",
              "  let quickchartButtonEl =\n",
              "    domScope.querySelector('#df-7c102581-2e5c-43cc-ba33-d9fd4aaf3181 button.colab-df-quickchart');\n",
              "  quickchartButtonEl.style.display =\n",
              "    google.colab.kernel.accessAllowed ? 'block' : 'none';\n",
              "}\n",
              "\n",
              "        displayQuickchartButton(document);\n",
              "      </script>\n",
              "      <style>\n",
              "    .colab-df-container {\n",
              "      display:flex;\n",
              "      flex-wrap:wrap;\n",
              "      gap: 12px;\n",
              "    }\n",
              "\n",
              "    .colab-df-convert {\n",
              "      background-color: #E8F0FE;\n",
              "      border: none;\n",
              "      border-radius: 50%;\n",
              "      cursor: pointer;\n",
              "      display: none;\n",
              "      fill: #1967D2;\n",
              "      height: 32px;\n",
              "      padding: 0 0 0 0;\n",
              "      width: 32px;\n",
              "    }\n",
              "\n",
              "    .colab-df-convert:hover {\n",
              "      background-color: #E2EBFA;\n",
              "      box-shadow: 0px 1px 2px rgba(60, 64, 67, 0.3), 0px 1px 3px 1px rgba(60, 64, 67, 0.15);\n",
              "      fill: #174EA6;\n",
              "    }\n",
              "\n",
              "    [theme=dark] .colab-df-convert {\n",
              "      background-color: #3B4455;\n",
              "      fill: #D2E3FC;\n",
              "    }\n",
              "\n",
              "    [theme=dark] .colab-df-convert:hover {\n",
              "      background-color: #434B5C;\n",
              "      box-shadow: 0px 1px 3px 1px rgba(0, 0, 0, 0.15);\n",
              "      filter: drop-shadow(0px 1px 2px rgba(0, 0, 0, 0.3));\n",
              "      fill: #FFFFFF;\n",
              "    }\n",
              "  </style>\n",
              "\n",
              "      <script>\n",
              "        const buttonEl =\n",
              "          document.querySelector('#df-90f157a7-4e50-4121-855b-644a4c84dca3 button.colab-df-convert');\n",
              "        buttonEl.style.display =\n",
              "          google.colab.kernel.accessAllowed ? 'block' : 'none';\n",
              "\n",
              "        async function convertToInteractive(key) {\n",
              "          const element = document.querySelector('#df-90f157a7-4e50-4121-855b-644a4c84dca3');\n",
              "          const dataTable =\n",
              "            await google.colab.kernel.invokeFunction('convertToInteractive',\n",
              "                                                     [key], {});\n",
              "          if (!dataTable) return;\n",
              "\n",
              "          const docLinkHtml = 'Like what you see? Visit the ' +\n",
              "            '<a target=\"_blank\" href=https://colab.research.google.com/notebooks/data_table.ipynb>data table notebook</a>'\n",
              "            + ' to learn more about interactive tables.';\n",
              "          element.innerHTML = '';\n",
              "          dataTable['output_type'] = 'display_data';\n",
              "          await google.colab.output.renderOutput(dataTable, element);\n",
              "          const docLink = document.createElement('div');\n",
              "          docLink.innerHTML = docLinkHtml;\n",
              "          element.appendChild(docLink);\n",
              "        }\n",
              "      </script>\n",
              "    </div>\n",
              "  </div>\n"
            ]
          },
          "metadata": {},
          "execution_count": 23
        }
      ]
    },
    {
      "cell_type": "markdown",
      "source": [
        "## Class Distribution Histogram"
      ],
      "metadata": {
        "id": "p9g-EEi1-Ptx"
      }
    },
    {
      "cell_type": "code",
      "source": [
        "plt.figure(figsize=(10,6))\n",
        "plt.hist(trainset_unique_label['Class Count'], bins=60, edgecolor='black')\n",
        "plt.title('Distribution of Class Sizes in the extracted dataset')\n",
        "plt.xlabel('Class Count')\n",
        "plt.ylabel('Number of Classes')\n",
        "plt.show()\n"
      ],
      "metadata": {
        "colab": {
          "base_uri": "https://localhost:8080/",
          "height": 564
        },
        "id": "T1mxhA5RnGBS",
        "outputId": "af1f0312-60e7-4b2d-c359-d15c7ed9a8c3"
      },
      "execution_count": 24,
      "outputs": [
        {
          "output_type": "display_data",
          "data": {
            "text/plain": [
              "<Figure size 1000x600 with 1 Axes>"
            ],
            "image/png": "[encoded data removed]"
          },
          "metadata": {}
        }
      ]
    },
    {
      "cell_type": "markdown",
      "source": [
        "## Class Distribution PieChart"
      ],
      "metadata": {
        "id": "aIYHBlMo-VYX"
      }
    },
    {
      "cell_type": "code",
      "source": [
        "# Pie chart, where the slices will be ordered and plotted counter-clockwise:\n",
        "sizes = trainset_unique_label['Class Count'].values\n",
        "\n",
        "plt.figure(figsize=(10,6))\n",
        "plt.pie(sizes, startangle=140)\n",
        "plt.title('Distribution of Class Sizes')\n",
        "plt.axis('equal')  # Equal aspect ratio ensures that pie is drawn as a circle.\n",
        "plt.show()"
      ],
      "metadata": {
        "colab": {
          "base_uri": "https://localhost:8080/",
          "height": 521
        },
        "id": "azPKL6Y88LnS",
        "outputId": "a5d33cee-e80d-4944-f830-37ba66ee9a20"
      },
      "execution_count": 25,
      "outputs": [
        {
          "output_type": "display_data",
          "data": {
            "text/plain": [
              "<Figure size 1000x600 with 1 Axes>"
            ],
            "image/png": "[encoded data removed]"
          },
          "metadata": {}
        }
      ]
    },
    {
      "cell_type": "markdown",
      "source": [
        "Trainset is unbalance"
      ],
      "metadata": {
        "id": "-KbzC15-CRLR"
      }
    },
    {
      "cell_type": "markdown",
      "source": [
        "# Balance Dataset"
      ],
      "metadata": {
        "id": "KQwBfmkcciYm"
      }
    },
    {
      "cell_type": "code",
      "source": [
        "def balance_data(df, target_count, max_length):\n",
        "    balanced_df = pd.DataFrame(columns=df.columns)\n",
        "    for label in df['Label'].unique():\n",
        "        label_df = df[df['Label'] == label]\n",
        "        count = len(label_df)\n",
        "\n",
        "        if count >= target_count:\n",
        "            label_df = label_df.sample(n=target_count, random_state=42)\n",
        "        else:\n",
        "            additional_samples_needed = target_count - count\n",
        "            samples_per_row = (additional_samples_needed // count) + 1\n",
        "            additional_samples = []\n",
        "\n",
        "            for _, row in label_df.iterrows():\n",
        "                content = row['Content']\n",
        "                sentences = nltk.tokenize.sent_tokenize(content)\n",
        "\n",
        "                window_start = 0\n",
        "\n",
        "                for _ in range(samples_per_row):\n",
        "                    picked_sentences = []\n",
        "                    word_count = 0\n",
        "                    i = window_start  # Set i to the start of the current window\n",
        "\n",
        "                    while i < len(sentences):\n",
        "                        sentence = sentences[i]\n",
        "                        sentence_word_count = len(sentence.split())\n",
        "\n",
        "                        if word_count + sentence_word_count > max_length:\n",
        "                            break\n",
        "\n",
        "                        picked_sentences.append(sentence)\n",
        "                        word_count += sentence_word_count\n",
        "                        i += 1\n",
        "\n",
        "                    # No need to remove picked sentences from the list\n",
        "\n",
        "                    if len(picked_sentences) > 0:\n",
        "                        new_sample = pd.Series(data=copy.deepcopy(row.values), index=df.columns)\n",
        "                        new_sample['Content'] = ' '.join(picked_sentences)\n",
        "                        new_sample['Word Count'] = len(new_sample['Content'].split())\n",
        "                        if new_sample['Word Count'] <= max_length:\n",
        "                            additional_samples.append(new_sample)\n",
        "\n",
        "                    # Slide the window by one sentence\n",
        "                    if window_start + 1 < len(sentences):\n",
        "                        window_start += 1\n",
        "                    else:\n",
        "                        break  # Break the loop if we've processed all sentences\n",
        "\n",
        "            # This is a new block of code to limit the number of samples\n",
        "            # We randomly select 'target_count' samples if there are more than 'target_count' samples\n",
        "            if len(additional_samples) + count > target_count:\n",
        "                additional_samples = random.sample(additional_samples, target_count - count)\n",
        "\n",
        "            additional_samples = pd.DataFrame(additional_samples)\n",
        "            label_df = pd.concat([label_df, additional_samples], ignore_index=True)\n",
        "\n",
        "        balanced_df = pd.concat([balanced_df, label_df], ignore_index=True)\n",
        "\n",
        "    return balanced_df\n"
      ],
      "metadata": {
        "id": "uzp9row0YzB3"
      },
      "execution_count": 26,
      "outputs": []
    },
    {
      "cell_type": "code",
      "source": [
        "balanced_trainset = balance_data(trainset, target_count=50, max_length=150)"
      ],
      "metadata": {
        "id": "_gfQUISEYYXb"
      },
      "execution_count": 27,
      "outputs": []
    },
    {
      "cell_type": "code",
      "source": [
        "balanced_trainset['Class Count'] = balanced_trainset.groupby('Label')['Label'].transform('count')\n",
        "print(\"How many unique labels in the trainset\", balanced_trainset['Encode Label'].nunique())\n",
        "# df['Word Count'] = balanced_trainset['Content'].apply(lambda x: len(str(x).split()))\n",
        "balanced_trainset.head()"
      ],
      "metadata": {
        "colab": {
          "base_uri": "https://localhost:8080/",
          "height": 223
        },
        "id": "bvt_FAwwbiQ5",
        "outputId": "4b9d9e38-173f-4e49-a8cd-eba73917b1bc"
      },
      "execution_count": 28,
      "outputs": [
        {
          "output_type": "stream",
          "name": "stdout",
          "text": [
            "How many unique labels in the trainset 156\n"
          ]
        },
        {
          "output_type": "execute_result",
          "data": {
            "text/plain": [
              "                                             Content Label Word Count  \\\n",
              "0  Lợi nhuận Gemadept tăng 86% quý I nhờ nguồn th...   GMD        466   \n",
              "1  BSC: Viconship sẽ thành doanh nghiệp cảng lớn ...   GMD        671   \n",
              "2  Cảng Gemalink có thể đạt điểm hoà vốn trong nă...   GMD       1168   \n",
              "3  Gemadept lãi ròng gần 670 tỷ 7 tháng, chốt ngà...   GMD        611   \n",
              "4  Gemadept (GMD) khai trương Giai đoạn 2 của Cụm...   GMD        473   \n",
              "\n",
              "   Class Count Encode Label  \n",
              "0           50           43  \n",
              "1           50           43  \n",
              "2           50           43  \n",
              "3           50           43  \n",
              "4           50           43  "
            ],
            "text/html": [
              "\n",
              "\n",
              "  <div id=\"df-519d8131-5e6c-43ba-a818-3e92f72ed81d\">\n",
              "    <div class=\"colab-df-container\">\n",
              "      <div>\n",
              "<style scoped>\n",
              "    .dataframe tbody tr th:only-of-type {\n",
              "        vertical-align: middle;\n",
              "    }\n",
              "\n",
              "    .dataframe tbody tr th {\n",
              "        vertical-align: top;\n",
              "    }\n",
              "\n",
              "    .dataframe thead th {\n",
              "        text-align: right;\n",
              "    }\n",
              "</style>\n",
              "<table border=\"1\" class=\"dataframe\">\n",
              "  <thead>\n",
              "    <tr style=\"text-align: right;\">\n",
              "      <th></th>\n",
              "      <th>Content</th>\n",
              "      <th>Label</th>\n",
              "      <th>Word Count</th>\n",
              "      <th>Class Count</th>\n",
              "      <th>Encode Label</th>\n",
              "    </tr>\n",
              "  </thead>\n",
              "  <tbody>\n",
              "    <tr>\n",
              "      <th>0</th>\n",
              "      <td>Lợi nhuận Gemadept tăng 86% quý I nhờ nguồn th...</td>\n",
              "      <td>GMD</td>\n",
              "      <td>466</td>\n",
              "      <td>50</td>\n",
              "      <td>43</td>\n",
              "    </tr>\n",
              "    <tr>\n",
              "      <th>1</th>\n",
              "      <td>BSC: Viconship sẽ thành doanh nghiệp cảng lớn ...</td>\n",
              "      <td>GMD</td>\n",
              "      <td>671</td>\n",
              "      <td>50</td>\n",
              "      <td>43</td>\n",
              "    </tr>\n",
              "    <tr>\n",
              "      <th>2</th>\n",
              "      <td>Cảng Gemalink có thể đạt điểm hoà vốn trong nă...</td>\n",
              "      <td>GMD</td>\n",
              "      <td>1168</td>\n",
              "      <td>50</td>\n",
              "      <td>43</td>\n",
              "    </tr>\n",
              "    <tr>\n",
              "      <th>3</th>\n",
              "      <td>Gemadept lãi ròng gần 670 tỷ 7 tháng, chốt ngà...</td>\n",
              "      <td>GMD</td>\n",
              "      <td>611</td>\n",
              "      <td>50</td>\n",
              "      <td>43</td>\n",
              "    </tr>\n",
              "    <tr>\n",
              "      <th>4</th>\n",
              "      <td>Gemadept (GMD) khai trương Giai đoạn 2 của Cụm...</td>\n",
              "      <td>GMD</td>\n",
              "      <td>473</td>\n",
              "      <td>50</td>\n",
              "      <td>43</td>\n",
              "    </tr>\n",
              "  </tbody>\n",
              "</table>\n",
              "</div>\n",
              "      <button class=\"colab-df-convert\" onclick=\"convertToInteractive('df-519d8131-5e6c-43ba-a818-3e92f72ed81d')\"\n",
              "              title=\"Convert this dataframe to an interactive table.\"\n",
              "              style=\"display:none;\">\n",
              "\n",
              "  <svg xmlns=\"http://www.w3.org/2000/svg\" height=\"24px\"viewBox=\"0 0 24 24\"\n",
              "       width=\"24px\">\n",
              "    <path d=\"M0 0h24v24H0V0z\" fill=\"none\"/>\n",
              "    <path d=\"M18.56 5.44l.94 2.06.94-2.06 2.06-.94-2.06-.94-.94-2.06-.94 2.06-2.06.94zm-11 1L8.5 8.5l.94-2.06 2.06-.94-2.06-.94L8.5 2.5l-.94 2.06-2.06.94zm10 10l.94 2.06.94-2.06 2.06-.94-2.06-.94-.94-2.06-.94 2.06-2.06.94z\"/><path d=\"M17.41 7.96l-1.37-1.37c-.4-.4-.92-.59-1.43-.59-.52 0-1.04.2-1.43.59L10.3 9.45l-7.72 7.72c-.78.78-.78 2.05 0 2.83L4 21.41c.39.39.9.59 1.41.59.51 0 1.02-.2 1.41-.59l7.78-7.78 2.81-2.81c.8-.78.8-2.07 0-2.86zM5.41 20L4 18.59l7.72-7.72 1.47 1.35L5.41 20z\"/>\n",
              "  </svg>\n",
              "      </button>\n",
              "\n",
              "\n",
              "\n",
              "    <div id=\"df-63a2e9d5-877d-4b34-8b83-27d50d31edc0\">\n",
              "      <button class=\"colab-df-quickchart\" onclick=\"quickchart('df-63a2e9d5-877d-4b34-8b83-27d50d31edc0')\"\n",
              "              title=\"Suggest charts.\"\n",
              "              style=\"display:none;\">\n",
              "\n",
              "<svg xmlns=\"http://www.w3.org/2000/svg\" height=\"24px\"viewBox=\"0 0 24 24\"\n",
              "     width=\"24px\">\n",
              "    <g>\n",
              "        <path d=\"M19 3H5c-1.1 0-2 .9-2 2v14c0 1.1.9 2 2 2h14c1.1 0 2-.9 2-2V5c0-1.1-.9-2-2-2zM9 17H7v-7h2v7zm4 0h-2V7h2v10zm4 0h-2v-4h2v4z\"/>\n",
              "    </g>\n",
              "</svg>\n",
              "      </button>\n",
              "    </div>\n",
              "\n",
              "<style>\n",
              "  .colab-df-quickchart {\n",
              "    background-color: #E8F0FE;\n",
              "    border: none;\n",
              "    border-radius: 50%;\n",
              "    cursor: pointer;\n",
              "    display: none;\n",
              "    fill: #1967D2;\n",
              "    height: 32px;\n",
              "    padding: 0 0 0 0;\n",
              "    width: 32px;\n",
              "  }\n",
              "\n",
              "  .colab-df-quickchart:hover {\n",
              "    background-color: #E2EBFA;\n",
              "    box-shadow: 0px 1px 2px rgba(60, 64, 67, 0.3), 0px 1px 3px 1px rgba(60, 64, 67, 0.15);\n",
              "    fill: #174EA6;\n",
              "  }\n",
              "\n",
              "  [theme=dark] .colab-df-quickchart {\n",
              "    background-color: #3B4455;\n",
              "    fill: #D2E3FC;\n",
              "  }\n",
              "\n",
              "  [theme=dark] .colab-df-quickchart:hover {\n",
              "    background-color: #434B5C;\n",
              "    box-shadow: 0px 1px 3px 1px rgba(0, 0, 0, 0.15);\n",
              "    filter: drop-shadow(0px 1px 2px rgba(0, 0, 0, 0.3));\n",
              "    fill: #FFFFFF;\n",
              "  }\n",
              "</style>\n",
              "\n",
              "    <script>\n",
              "      async function quickchart(key) {\n",
              "        const containerElement = document.querySelector('#' + key);\n",
              "        const charts = await google.colab.kernel.invokeFunction(\n",
              "            'suggestCharts', [key], {});\n",
              "      }\n",
              "    </script>\n",
              "\n",
              "      <script>\n",
              "\n",
              "function displayQuickchartButton(domScope) {\n",
              "  let quickchartButtonEl =\n",
              "    domScope.querySelector('#df-63a2e9d5-877d-4b34-8b83-27d50d31edc0 button.colab-df-quickchart');\n",
              "  quickchartButtonEl.style.display =\n",
              "    google.colab.kernel.accessAllowed ? 'block' : 'none';\n",
              "}\n",
              "\n",
              "        displayQuickchartButton(document);\n",
              "      </script>\n",
              "      <style>\n",
              "    .colab-df-container {\n",
              "      display:flex;\n",
              "      flex-wrap:wrap;\n",
              "      gap: 12px;\n",
              "    }\n",
              "\n",
              "    .colab-df-convert {\n",
              "      background-color: #E8F0FE;\n",
              "      border: none;\n",
              "      border-radius: 50%;\n",
              "      cursor: pointer;\n",
              "      display: none;\n",
              "      fill: #1967D2;\n",
              "      height: 32px;\n",
              "      padding: 0 0 0 0;\n",
              "      width: 32px;\n",
              "    }\n",
              "\n",
              "    .colab-df-convert:hover {\n",
              "      background-color: #E2EBFA;\n",
              "      box-shadow: 0px 1px 2px rgba(60, 64, 67, 0.3), 0px 1px 3px 1px rgba(60, 64, 67, 0.15);\n",
              "      fill: #174EA6;\n",
              "    }\n",
              "\n",
              "    [theme=dark] .colab-df-convert {\n",
              "      background-color: #3B4455;\n",
              "      fill: #D2E3FC;\n",
              "    }\n",
              "\n",
              "    [theme=dark] .colab-df-convert:hover {\n",
              "      background-color: #434B5C;\n",
              "      box-shadow: 0px 1px 3px 1px rgba(0, 0, 0, 0.15);\n",
              "      filter: drop-shadow(0px 1px 2px rgba(0, 0, 0, 0.3));\n",
              "      fill: #FFFFFF;\n",
              "    }\n",
              "  </style>\n",
              "\n",
              "      <script>\n",
              "        const buttonEl =\n",
              "          document.querySelector('#df-519d8131-5e6c-43ba-a818-3e92f72ed81d button.colab-df-convert');\n",
              "        buttonEl.style.display =\n",
              "          google.colab.kernel.accessAllowed ? 'block' : 'none';\n",
              "\n",
              "        async function convertToInteractive(key) {\n",
              "          const element = document.querySelector('#df-519d8131-5e6c-43ba-a818-3e92f72ed81d');\n",
              "          const dataTable =\n",
              "            await google.colab.kernel.invokeFunction('convertToInteractive',\n",
              "                                                     [key], {});\n",
              "          if (!dataTable) return;\n",
              "\n",
              "          const docLinkHtml = 'Like what you see? Visit the ' +\n",
              "            '<a target=\"_blank\" href=https://colab.research.google.com/notebooks/data_table.ipynb>data table notebook</a>'\n",
              "            + ' to learn more about interactive tables.';\n",
              "          element.innerHTML = '';\n",
              "          dataTable['output_type'] = 'display_data';\n",
              "          await google.colab.output.renderOutput(dataTable, element);\n",
              "          const docLink = document.createElement('div');\n",
              "          docLink.innerHTML = docLinkHtml;\n",
              "          element.appendChild(docLink);\n",
              "        }\n",
              "      </script>\n",
              "    </div>\n",
              "  </div>\n"
            ]
          },
          "metadata": {},
          "execution_count": 28
        }
      ]
    },
    {
      "cell_type": "code",
      "source": [
        "plt.figure(figsize=(10,6))\n",
        "plt.hist(balanced_trainset.drop_duplicates(subset='Encode Label').sort_values(by=\"Class Count\")['Class Count'], bins=60, edgecolor='black')\n",
        "plt.title('Distribution of Class Sizes')\n",
        "plt.xlabel('Class Count')\n",
        "plt.ylabel('Number of Classes')\n",
        "plt.show()"
      ],
      "metadata": {
        "colab": {
          "base_uri": "https://localhost:8080/",
          "height": 564
        },
        "id": "RQu6afHbeRi9",
        "outputId": "3e065ce8-b410-40b1-a516-f24cfe4ef509"
      },
      "execution_count": 29,
      "outputs": [
        {
          "output_type": "display_data",
          "data": {
            "text/plain": [
              "<Figure size 1000x600 with 1 Axes>"
            ],
            "image/png": "[encoded data removed]"
          },
          "metadata": {}
        }
      ]
    },
    {
      "cell_type": "code",
      "source": [
        "balanced_trainset[balanced_trainset['Encode Label'] == random.randint(0, number_of_classes)].sort_values(by=\"Word Count\").head()"
      ],
      "metadata": {
        "colab": {
          "base_uri": "https://localhost:8080/",
          "height": 206
        },
        "id": "yOT8MXL9S0xR",
        "outputId": "8dfc16a7-411e-4ec7-a12e-125e8f9400d9"
      },
      "execution_count": 30,
      "outputs": [
        {
          "output_type": "execute_result",
          "data": {
            "text/plain": [
              "                                                Content Label Word Count  \\\n",
              "2027              Nhà Đà Nẵng (NDN) biến động lãnh đạo.   NDN          8   \n",
              "2042  Gây thất thoát tài sản nhà nước khi cổ phần hó...   NDN         24   \n",
              "2017  Nhà Đà Nẵng báo lãi kỷ lục nhờ dự án Monarchy ...   NDN         58   \n",
              "2038  (ĐTCK) Công ty cổ phần Đầu tư phát triển Nhà Đ...   NDN         74   \n",
              "2032  Nhà Đà Nẵng (NDN) bổ nhiệm thêm lãnh đạo. (ĐTC...   NDN         74   \n",
              "\n",
              "      Class Count Encode Label  \n",
              "2027           50           84  \n",
              "2042           50           84  \n",
              "2017           50           84  \n",
              "2038           50           84  \n",
              "2032           50           84  "
            ],
            "text/html": [
              "\n",
              "\n",
              "  <div id=\"df-d1a3ec89-2855-4706-8dfa-c3c1bedec743\">\n",
              "    <div class=\"colab-df-container\">\n",
              "      <div>\n",
              "<style scoped>\n",
              "    .dataframe tbody tr th:only-of-type {\n",
              "        vertical-align: middle;\n",
              "    }\n",
              "\n",
              "    .dataframe tbody tr th {\n",
              "        vertical-align: top;\n",
              "    }\n",
              "\n",
              "    .dataframe thead th {\n",
              "        text-align: right;\n",
              "    }\n",
              "</style>\n",
              "<table border=\"1\" class=\"dataframe\">\n",
              "  <thead>\n",
              "    <tr style=\"text-align: right;\">\n",
              "      <th></th>\n",
              "      <th>Content</th>\n",
              "      <th>Label</th>\n",
              "      <th>Word Count</th>\n",
              "      <th>Class Count</th>\n",
              "      <th>Encode Label</th>\n",
              "    </tr>\n",
              "  </thead>\n",
              "  <tbody>\n",
              "    <tr>\n",
              "      <th>2027</th>\n",
              "      <td>Nhà Đà Nẵng (NDN) biến động lãnh đạo.</td>\n",
              "      <td>NDN</td>\n",
              "      <td>8</td>\n",
              "      <td>50</td>\n",
              "      <td>84</td>\n",
              "    </tr>\n",
              "    <tr>\n",
              "      <th>2042</th>\n",
              "      <td>Gây thất thoát tài sản nhà nước khi cổ phần hó...</td>\n",
              "      <td>NDN</td>\n",
              "      <td>24</td>\n",
              "      <td>50</td>\n",
              "      <td>84</td>\n",
              "    </tr>\n",
              "    <tr>\n",
              "      <th>2017</th>\n",
              "      <td>Nhà Đà Nẵng báo lãi kỷ lục nhờ dự án Monarchy ...</td>\n",
              "      <td>NDN</td>\n",
              "      <td>58</td>\n",
              "      <td>50</td>\n",
              "      <td>84</td>\n",
              "    </tr>\n",
              "    <tr>\n",
              "      <th>2038</th>\n",
              "      <td>(ĐTCK) Công ty cổ phần Đầu tư phát triển Nhà Đ...</td>\n",
              "      <td>NDN</td>\n",
              "      <td>74</td>\n",
              "      <td>50</td>\n",
              "      <td>84</td>\n",
              "    </tr>\n",
              "    <tr>\n",
              "      <th>2032</th>\n",
              "      <td>Nhà Đà Nẵng (NDN) bổ nhiệm thêm lãnh đạo. (ĐTC...</td>\n",
              "      <td>NDN</td>\n",
              "      <td>74</td>\n",
              "      <td>50</td>\n",
              "      <td>84</td>\n",
              "    </tr>\n",
              "  </tbody>\n",
              "</table>\n",
              "</div>\n",
              "      <button class=\"colab-df-convert\" onclick=\"convertToInteractive('df-d1a3ec89-2855-4706-8dfa-c3c1bedec743')\"\n",
              "              title=\"Convert this dataframe to an interactive table.\"\n",
              "              style=\"display:none;\">\n",
              "\n",
              "  <svg xmlns=\"http://www.w3.org/2000/svg\" height=\"24px\"viewBox=\"0 0 24 24\"\n",
              "       width=\"24px\">\n",
              "    <path d=\"M0 0h24v24H0V0z\" fill=\"none\"/>\n",
              "    <path d=\"M18.56 5.44l.94 2.06.94-2.06 2.06-.94-2.06-.94-.94-2.06-.94 2.06-2.06.94zm-11 1L8.5 8.5l.94-2.06 2.06-.94-2.06-.94L8.5 2.5l-.94 2.06-2.06.94zm10 10l.94 2.06.94-2.06 2.06-.94-2.06-.94-.94-2.06-.94 2.06-2.06.94z\"/><path d=\"M17.41 7.96l-1.37-1.37c-.4-.4-.92-.59-1.43-.59-.52 0-1.04.2-1.43.59L10.3 9.45l-7.72 7.72c-.78.78-.78 2.05 0 2.83L4 21.41c.39.39.9.59 1.41.59.51 0 1.02-.2 1.41-.59l7.78-7.78 2.81-2.81c.8-.78.8-2.07 0-2.86zM5.41 20L4 18.59l7.72-7.72 1.47 1.35L5.41 20z\"/>\n",
              "  </svg>\n",
              "      </button>\n",
              "\n",
              "\n",
              "\n",
              "    <div id=\"df-2d201bc0-4cdc-490e-8e1d-adad6fcb807b\">\n",
              "      <button class=\"colab-df-quickchart\" onclick=\"quickchart('df-2d201bc0-4cdc-490e-8e1d-adad6fcb807b')\"\n",
              "              title=\"Suggest charts.\"\n",
              "              style=\"display:none;\">\n",
              "\n",
              "<svg xmlns=\"http://www.w3.org/2000/svg\" height=\"24px\"viewBox=\"0 0 24 24\"\n",
              "     width=\"24px\">\n",
              "    <g>\n",
              "        <path d=\"M19 3H5c-1.1 0-2 .9-2 2v14c0 1.1.9 2 2 2h14c1.1 0 2-.9 2-2V5c0-1.1-.9-2-2-2zM9 17H7v-7h2v7zm4 0h-2V7h2v10zm4 0h-2v-4h2v4z\"/>\n",
              "    </g>\n",
              "</svg>\n",
              "      </button>\n",
              "    </div>\n",
              "\n",
              "<style>\n",
              "  .colab-df-quickchart {\n",
              "    background-color: #E8F0FE;\n",
              "    border: none;\n",
              "    border-radius: 50%;\n",
              "    cursor: pointer;\n",
              "    display: none;\n",
              "    fill: #1967D2;\n",
              "    height: 32px;\n",
              "    padding: 0 0 0 0;\n",
              "    width: 32px;\n",
              "  }\n",
              "\n",
              "  .colab-df-quickchart:hover {\n",
              "    background-color: #E2EBFA;\n",
              "    box-shadow: 0px 1px 2px rgba(60, 64, 67, 0.3), 0px 1px 3px 1px rgba(60, 64, 67, 0.15);\n",
              "    fill: #174EA6;\n",
              "  }\n",
              "\n",
              "  [theme=dark] .colab-df-quickchart {\n",
              "    background-color: #3B4455;\n",
              "    fill: #D2E3FC;\n",
              "  }\n",
              "\n",
              "  [theme=dark] .colab-df-quickchart:hover {\n",
              "    background-color: #434B5C;\n",
              "    box-shadow: 0px 1px 3px 1px rgba(0, 0, 0, 0.15);\n",
              "    filter: drop-shadow(0px 1px 2px rgba(0, 0, 0, 0.3));\n",
              "    fill: #FFFFFF;\n",
              "  }\n",
              "</style>\n",
              "\n",
              "    <script>\n",
              "      async function quickchart(key) {\n",
              "        const containerElement = document.querySelector('#' + key);\n",
              "        const charts = await google.colab.kernel.invokeFunction(\n",
              "            'suggestCharts', [key], {});\n",
              "      }\n",
              "    </script>\n",
              "\n",
              "      <script>\n",
              "\n",
              "function displayQuickchartButton(domScope) {\n",
              "  let quickchartButtonEl =\n",
              "    domScope.querySelector('#df-2d201bc0-4cdc-490e-8e1d-adad6fcb807b button.colab-df-quickchart');\n",
              "  quickchartButtonEl.style.display =\n",
              "    google.colab.kernel.accessAllowed ? 'block' : 'none';\n",
              "}\n",
              "\n",
              "        displayQuickchartButton(document);\n",
              "      </script>\n",
              "      <style>\n",
              "    .colab-df-container {\n",
              "      display:flex;\n",
              "      flex-wrap:wrap;\n",
              "      gap: 12px;\n",
              "    }\n",
              "\n",
              "    .colab-df-convert {\n",
              "      background-color: #E8F0FE;\n",
              "      border: none;\n",
              "      border-radius: 50%;\n",
              "      cursor: pointer;\n",
              "      display: none;\n",
              "      fill: #1967D2;\n",
              "      height: 32px;\n",
              "      padding: 0 0 0 0;\n",
              "      width: 32px;\n",
              "    }\n",
              "\n",
              "    .colab-df-convert:hover {\n",
              "      background-color: #E2EBFA;\n",
              "      box-shadow: 0px 1px 2px rgba(60, 64, 67, 0.3), 0px 1px 3px 1px rgba(60, 64, 67, 0.15);\n",
              "      fill: #174EA6;\n",
              "    }\n",
              "\n",
              "    [theme=dark] .colab-df-convert {\n",
              "      background-color: #3B4455;\n",
              "      fill: #D2E3FC;\n",
              "    }\n",
              "\n",
              "    [theme=dark] .colab-df-convert:hover {\n",
              "      background-color: #434B5C;\n",
              "      box-shadow: 0px 1px 3px 1px rgba(0, 0, 0, 0.15);\n",
              "      filter: drop-shadow(0px 1px 2px rgba(0, 0, 0, 0.3));\n",
              "      fill: #FFFFFF;\n",
              "    }\n",
              "  </style>\n",
              "\n",
              "      <script>\n",
              "        const buttonEl =\n",
              "          document.querySelector('#df-d1a3ec89-2855-4706-8dfa-c3c1bedec743 button.colab-df-convert');\n",
              "        buttonEl.style.display =\n",
              "          google.colab.kernel.accessAllowed ? 'block' : 'none';\n",
              "\n",
              "        async function convertToInteractive(key) {\n",
              "          const element = document.querySelector('#df-d1a3ec89-2855-4706-8dfa-c3c1bedec743');\n",
              "          const dataTable =\n",
              "            await google.colab.kernel.invokeFunction('convertToInteractive',\n",
              "                                                     [key], {});\n",
              "          if (!dataTable) return;\n",
              "\n",
              "          const docLinkHtml = 'Like what you see? Visit the ' +\n",
              "            '<a target=\"_blank\" href=https://colab.research.google.com/notebooks/data_table.ipynb>data table notebook</a>'\n",
              "            + ' to learn more about interactive tables.';\n",
              "          element.innerHTML = '';\n",
              "          dataTable['output_type'] = 'display_data';\n",
              "          await google.colab.output.renderOutput(dataTable, element);\n",
              "          const docLink = document.createElement('div');\n",
              "          docLink.innerHTML = docLinkHtml;\n",
              "          element.appendChild(docLink);\n",
              "        }\n",
              "      </script>\n",
              "    </div>\n",
              "  </div>\n"
            ]
          },
          "metadata": {},
          "execution_count": 30
        }
      ]
    },
    {
      "cell_type": "markdown",
      "metadata": {
        "id": "_R14rC6nZDVO"
      },
      "source": [
        "# Load phoBERT tokenizer"
      ]
    },
    {
      "cell_type": "code",
      "source": [
        "checkpoint_model = 'vinai/phobert-base-v2'"
      ],
      "metadata": {
        "id": "ZQtoZQi_bm_c"
      },
      "execution_count": 31,
      "outputs": []
    },
    {
      "cell_type": "code",
      "execution_count": 32,
      "metadata": {
        "colab": {
          "base_uri": "https://localhost:8080/",
          "height": 150,
          "referenced_widgets": [
            "ac014e89250c4e309a05d723ba2c5134",
            "8994f6b419bb4a77b1d08280433c6a73",
            "3427ad74744d4f248f700aef2800f1b2",
            "2881748792e34c449b645ea9b9bf5d64",
            "8eea9fd6241f4cf49d1b3cd16adab6c2",
            "20e51559abb447208c9ae9fea1594e2d",
            "d855322457964401a30a5945cd1bdfc2",
            "93375d503d714137bc8f8a7611782659",
            "d4fb6576668c4b7eb47c8db2a038bee8",
            "a88e8f5d14b5471a9823dc7a2ea4e8bd",
            "04baca36105942168368c083f9258b3d",
            "00953c8d99e94bacbef180663e6edf05",
            "8072250527b0414fa7ab0f03f6a8e0a9",
            "fbb2d87fcd164b7c806ee51e886510b1",
            "c76edda1553048ce8281e4f09429c8d2",
            "3591fbf098014b838d9b229b66edf743",
            "a1fd8495b01a497d99d957bf406c0cb9",
            "7cd48eb4235b4335b6fe93cc01524969",
            "667ce99252374ead83cf9fbc678b3dd2",
            "f74706e1c9944a6f9c88aeed86e7ecef",
            "147d3fe1736e450388bffcd3670a6e71",
            "ce382ab3391645ed8dc54d838ffbd744",
            "b445f2a29a6546df8412150b3f2e4875",
            "f1e044978ac548c0bb582fde06927d7e",
            "df07a823388848e2afae2ceb60413ba1",
            "2ddfe777466449d688d46328bf69094c",
            "a0176bd254f04bedb9b4dbcf7b7b41ca",
            "059ef8fa32ee43b38b9a12ae6a1fc131",
            "5ddb49caac16449f845df56ca517bac2",
            "646b6db93dd445809087794e64930dac",
            "0adfca8cf9f04a06adb9faeb2a7294f1",
            "0485aae177c94b0b8ef958b1242e595f",
            "503181b120444d4dba6a92c45041ce9c"
          ]
        },
        "id": "7B_rRMMoZGUT",
        "outputId": "46db5eb9-4ba6-469b-edbd-bee106ca5eca"
      },
      "outputs": [
        {
          "output_type": "display_data",
          "data": {
            "text/plain": [
              "Downloading (…)lve/main/config.json:   0%|          | 0.00/678 [00:00<?, ?B/s]"
            ],
            "application/vnd.jupyter.widget-view+json": {
              "version_major": 2,
              "version_minor": 0,
              "model_id": "ac014e89250c4e309a05d723ba2c5134"
            }
          },
          "metadata": {}
        },
        {
          "output_type": "display_data",
          "data": {
            "text/plain": [
              "Downloading (…)solve/main/vocab.txt:   0%|          | 0.00/895k [00:00<?, ?B/s]"
            ],
            "application/vnd.jupyter.widget-view+json": {
              "version_major": 2,
              "version_minor": 0,
              "model_id": "00953c8d99e94bacbef180663e6edf05"
            }
          },
          "metadata": {}
        },
        {
          "output_type": "display_data",
          "data": {
            "text/plain": [
              "Downloading (…)solve/main/bpe.codes:   0%|          | 0.00/1.14M [00:00<?, ?B/s]"
            ],
            "application/vnd.jupyter.widget-view+json": {
              "version_major": 2,
              "version_minor": 0,
              "model_id": "b445f2a29a6546df8412150b3f2e4875"
            }
          },
          "metadata": {}
        },
        {
          "output_type": "stream",
          "name": "stderr",
          "text": [
            "Special tokens have been added in the vocabulary, make sure the associated word embeddings are fine-tuned or trained.\n"
          ]
        }
      ],
      "source": [
        "# Load pre-trained tokenizer\n",
        "tokenizer = AutoTokenizer.from_pretrained(checkpoint_model, use_fast=False)"
      ]
    },
    {
      "cell_type": "code",
      "execution_count": 33,
      "metadata": {
        "colab": {
          "base_uri": "https://localhost:8080/"
        },
        "id": "_goEc8618VXw",
        "outputId": "426c89a7-c399-46cd-9d9f-854153074e95"
      },
      "outputs": [
        {
          "output_type": "stream",
          "name": "stdout",
          "text": [
            "[0, 675, 6745, 313, 294, 1276, 2136, 2260, 2]\n",
            "[0, 675, 6892, 313, 294, 1529, 57202, 2]\n"
          ]
        }
      ],
      "source": [
        "text = \"công tyNếu tính GJK\"\n",
        "print(tokenizer.encode(text))\n",
        "text = \"công ty Nếu tính gjk\"\n",
        "print(tokenizer.encode(text))"
      ]
    },
    {
      "cell_type": "markdown",
      "metadata": {
        "id": "dtdcZMIXyWP1"
      },
      "source": [
        "# Hyperparameters\n"
      ]
    },
    {
      "cell_type": "code",
      "execution_count": 34,
      "metadata": {
        "id": "ylRDFeY_ZB3G"
      },
      "outputs": [],
      "source": [
        "MAX_LENGTH = 256  # Adjust as needed\n",
        "BATCH_SIZE = 32\n",
        "LR = 5e-5\n",
        "N_CLASSES = number_of_classes  # Replace with your actual number of classes\n",
        "EPOCHS = 100"
      ]
    },
    {
      "cell_type": "markdown",
      "source": [
        "# ArticleDataset Class"
      ],
      "metadata": {
        "id": "lbrjz_3qzQTy"
      }
    },
    {
      "cell_type": "code",
      "source": [
        "class ArticleDataset(Dataset):\n",
        "    def __init__(self, data, labels, tokenizer, max_length=256):\n",
        "        self.data = data\n",
        "        self.labels = labels\n",
        "        self.tokenizer = tokenizer\n",
        "        self.max_length = max_length\n",
        "\n",
        "    def __len__(self):\n",
        "        return len(self.data)\n",
        "\n",
        "    def __getitem__(self, idx):\n",
        "        item = self.data.iloc[idx]\n",
        "        label = item.get('Encode Label')\n",
        "        encoding = self.tokenizer.encode_plus(\n",
        "            text=item.Content,\n",
        "            add_special_tokens=True,\n",
        "            max_length=self.max_length,\n",
        "            padding='max_length',\n",
        "            truncation=True,\n",
        "            return_attention_mask=True,\n",
        "            return_tensors='pt',\n",
        "        )\n",
        "\n",
        "        return {\n",
        "            'content': item.Content,\n",
        "            'input_ids':encoding['input_ids'].flatten(),\n",
        "            'attention_mask': encoding['attention_mask'].flatten(),\n",
        "            'labels': torch.tensor(label, dtype=torch.long)\n",
        "        }\n",
        "\n"
      ],
      "metadata": {
        "id": "ffAub334zaQw"
      },
      "execution_count": 35,
      "outputs": []
    },
    {
      "cell_type": "markdown",
      "metadata": {
        "id": "r4dNQIiL6XaJ"
      },
      "source": [
        "# Pytorch Lightning DataLoader"
      ]
    },
    {
      "cell_type": "code",
      "execution_count": 36,
      "metadata": {
        "id": "t_S6YmZv6dBJ"
      },
      "outputs": [],
      "source": [
        "class Data_Module(pl.LightningDataModule):\n",
        "    def __init__(self, trainset, valset, labels, batch_size: int = 32, max_token_length: int = 256, tokenizer=None):\n",
        "      super().__init__()\n",
        "      self.trainset = trainset\n",
        "      self.val_path = valset\n",
        "      self.labels = labels\n",
        "      self.batch_size = batch_size\n",
        "      self.max_token_length = max_token_length\n",
        "      self.tokenizer = tokenizer\n",
        "\n",
        "    def setup(self, stage = None):\n",
        "      if stage in (None, \"fit\"):\n",
        "        self.train_dataset = ArticleDataset(self.trainset, self.labels, self.tokenizer, self.max_token_length)\n",
        "        self.val_dataset = ArticleDataset(self.val_path, self.labels, self.tokenizer, self.max_token_length)\n",
        "      if stage == 'predict':\n",
        "        self.val_dataset = ArticleDataset(self.val_path, self.labels, self.tokenizer, self.max_token_length)\n",
        "\n",
        "    def train_dataloader(self):\n",
        "      return DataLoader(self.train_dataset, batch_size = self.batch_size, num_workers=2, shuffle=True)\n",
        "\n",
        "    def val_dataloader(self):\n",
        "      return DataLoader(self.val_dataset, batch_size = self.batch_size, num_workers=2, shuffle=False)\n",
        "\n",
        "    def predict_dataloader(self):\n",
        "      return DataLoader(self.val_dataset, batch_size = self.batch_size, num_workers=2, shuffle=False)"
      ]
    },
    {
      "cell_type": "markdown",
      "metadata": {
        "id": "8_GghUzA9dYk"
      },
      "source": [
        "# Create PyTorch-lightning DataLoader"
      ]
    },
    {
      "cell_type": "code",
      "execution_count": 37,
      "metadata": {
        "id": "9EQkuLqcZR5q",
        "colab": {
          "base_uri": "https://localhost:8080/"
        },
        "outputId": "64a29de0-468e-4358-ca6d-098090f1e2b7"
      },
      "outputs": [
        {
          "output_type": "stream",
          "name": "stdout",
          "text": [
            "number of batches in an epoch:  244\n"
          ]
        }
      ],
      "source": [
        "# Create PyTorch lightning DataLoader\n",
        "data_loader = Data_Module(balanced_trainset, valset, labels, BATCH_SIZE, MAX_LENGTH, tokenizer)\n",
        "data_loader.setup()\n",
        "print(\"number of batches in an epoch: \", len(data_loader.train_dataloader()))"
      ]
    },
    {
      "cell_type": "markdown",
      "metadata": {
        "id": "MXBH2wQtyZqi"
      },
      "source": [
        "# Model architecture"
      ]
    },
    {
      "cell_type": "code",
      "execution_count": 38,
      "metadata": {
        "id": "WXpnzKDQY2Vp"
      },
      "outputs": [],
      "source": [
        "class ArticleClassifier(pl.LightningModule):\n",
        "    def __init__(self, config: dict):\n",
        "        super().__init__()\n",
        "        self.config = config\n",
        "        self.bert = AutoModelForSequenceClassification.from_pretrained(config['model_name'], num_labels=config['n_labels'])\n",
        "        self.loss = nn.CrossEntropyLoss()\n",
        "\n",
        "\n",
        "    def forward(self, input_ids, attention_mask):\n",
        "        x = self.bert(input_ids, attention_mask).logits\n",
        "        return x"
      ]
    },
    {
      "cell_type": "markdown",
      "metadata": {
        "id": "MnnxrRBj2tnd"
      },
      "source": [
        "# Model configuration"
      ]
    },
    {
      "cell_type": "code",
      "execution_count": 39,
      "metadata": {
        "id": "8rhH-JU02wrV"
      },
      "outputs": [],
      "source": [
        "config = {\n",
        "    'model_name': checkpoint_model,\n",
        "    'n_labels': number_of_classes,\n",
        "    'batch_size': BATCH_SIZE,\n",
        "    'lr': LR,\n",
        "    'warmup': 0.15,\n",
        "    'train_size': len(data_loader.train_dataloader()),\n",
        "    'weight_decay': 0.01,\n",
        "    'n_epochs': EPOCHS,\n",
        "    'early_stopping_limit': 3\n",
        "}"
      ]
    },
    {
      "cell_type": "markdown",
      "metadata": {
        "id": "2Q3dmcBV2zw2"
      },
      "source": [
        "# Create model"
      ]
    },
    {
      "cell_type": "code",
      "execution_count": 40,
      "metadata": {
        "colab": {
          "base_uri": "https://localhost:8080/",
          "height": 35
        },
        "id": "wLuZ3CjDfn58",
        "outputId": "b35a5028-0eae-49ac-9354-ebb18cc625a1"
      },
      "outputs": [
        {
          "output_type": "execute_result",
          "data": {
            "text/plain": [
              "'cuda'"
            ],
            "application/vnd.google.colaboratory.intrinsic+json": {
              "type": "string"
            }
          },
          "metadata": {},
          "execution_count": 40
        }
      ],
      "source": [
        "device = \"cuda\" if torch.cuda.is_available() else \"cpu\"\n",
        "device"
      ]
    },
    {
      "cell_type": "code",
      "execution_count": 41,
      "metadata": {
        "colab": {
          "base_uri": "https://localhost:8080/",
          "height": 156,
          "referenced_widgets": [
            "83e37b0f68ed4fd0914f379912e30868",
            "06ddae15657c438faff4b2e14bc43a83",
            "4f612b2e467e44e98f904d80bc362f22",
            "410b38145b3e439d9386500c11b52610",
            "03f89f3e6f0943a3b2072ed82e9a7c68",
            "bb0ce31aa8dd4e95865f9787e3ecbe72",
            "5c28f322dd394df8b99474e28ee72c0b",
            "7f49367439bb41d1b228eb4a780acd65",
            "ec4f9ff31dd54cec8fd844b89b7444f4",
            "af425c5b6de74465b42e1c828bbfddef",
            "df46bbb4c3e24b2fb1f604029e68c6e3"
          ]
        },
        "id": "J2d9tBNoZdVA",
        "outputId": "3f533223-7d0e-4d4c-f41d-cfc11b55486e"
      },
      "outputs": [
        {
          "output_type": "display_data",
          "data": {
            "text/plain": [
              "Downloading pytorch_model.bin:   0%|          | 0.00/540M [00:00<?, ?B/s]"
            ],
            "application/vnd.jupyter.widget-view+json": {
              "version_major": 2,
              "version_minor": 0,
              "model_id": "83e37b0f68ed4fd0914f379912e30868"
            }
          },
          "metadata": {}
        },
        {
          "output_type": "stream",
          "name": "stderr",
          "text": [
            "Some weights of the model checkpoint at vinai/phobert-base-v2 were not used when initializing RobertaForSequenceClassification: ['lm_head.layer_norm.bias', 'lm_head.bias', 'lm_head.dense.bias', 'lm_head.layer_norm.weight', 'lm_head.dense.weight']\n",
            "- This IS expected if you are initializing RobertaForSequenceClassification from the checkpoint of a model trained on another task or with another architecture (e.g. initializing a BertForSequenceClassification model from a BertForPreTraining model).\n",
            "- This IS NOT expected if you are initializing RobertaForSequenceClassification from the checkpoint of a model that you expect to be exactly identical (initializing a BertForSequenceClassification model from a BertForSequenceClassification model).\n",
            "Some weights of RobertaForSequenceClassification were not initialized from the model checkpoint at vinai/phobert-base-v2 and are newly initialized: ['classifier.out_proj.bias', 'classifier.dense.weight', 'classifier.out_proj.weight', 'classifier.dense.bias']\n",
            "You should probably TRAIN this model on a down-stream task to be able to use it for predictions and inference.\n"
          ]
        }
      ],
      "source": [
        "# Initialize our classifier\n",
        "model = ArticleClassifier(config)\n",
        "model = model.to(device)"
      ]
    },
    {
      "cell_type": "markdown",
      "source": [
        "# Model Summary"
      ],
      "metadata": {
        "id": "YE0eEL3_i9jm"
      }
    },
    {
      "cell_type": "code",
      "source": [
        "summary(model)"
      ],
      "metadata": {
        "colab": {
          "base_uri": "https://localhost:8080/"
        },
        "id": "43gS_CLwjAEU",
        "outputId": "3fe68e29-b5c5-41d4-cefd-85959761629c"
      },
      "execution_count": 42,
      "outputs": [
        {
          "output_type": "execute_result",
          "data": {
            "text/plain": [
              "==========================================================================================\n",
              "Layer (type:depth-idx)                                            Param #\n",
              "==========================================================================================\n",
              "ArticleClassifier                                                 --\n",
              "├─RobertaForSequenceClassification: 1-1                           --\n",
              "│    └─RobertaModel: 2-1                                          --\n",
              "│    │    └─RobertaEmbeddings: 3-1                                49,353,216\n",
              "│    │    └─RobertaEncoder: 3-2                                   85,054,464\n",
              "│    └─RobertaClassificationHead: 2-2                             --\n",
              "│    │    └─Linear: 3-3                                           590,592\n",
              "│    │    └─Dropout: 3-4                                          --\n",
              "│    │    └─Linear: 3-5                                           119,964\n",
              "├─CrossEntropyLoss: 1-2                                           --\n",
              "==========================================================================================\n",
              "Total params: 135,118,236\n",
              "Trainable params: 135,118,236\n",
              "Non-trainable params: 0\n",
              "=========================================================================================="
            ]
          },
          "metadata": {},
          "execution_count": 42
        }
      ]
    },
    {
      "cell_type": "markdown",
      "metadata": {
        "id": "43JH6zpgZlsp"
      },
      "source": [
        "\n",
        "# Train Model"
      ]
    },
    {
      "cell_type": "code",
      "execution_count": 43,
      "metadata": {
        "id": "HFHQxP6T5B8T"
      },
      "outputs": [],
      "source": [
        "def train_model(model, data_loader, config, model_path=None):\n",
        "    if model_path is not None:\n",
        "          # Load the pre-trained model\n",
        "          model = torch.load(model_path)\n",
        "\n",
        "    model = model.to(device)\n",
        "    model.train()\n",
        "    optimizer = torch.optim.AdamW(model.parameters(), lr=config['lr'], weight_decay=config['weight_decay'])\n",
        "\n",
        "    total_steps = config['train_size']/config['batch_size']\n",
        "    warmup_steps = math.floor(total_steps * config['warmup'])\n",
        "    scheduler = get_cosine_schedule_with_warmup(optimizer, warmup_steps, total_steps)\n",
        "\n",
        "    best_valid_loss = float('inf')\n",
        "    early_stopping_counter = 0\n",
        "    early_stopping_limit = config['early_stopping_limit']  # Number of epochs with no improvement after which training will be stopped\n",
        "    save_model_path = 'NPL_news_classification.pt'  # path where best model will be saved\n",
        "\n",
        "    progress_bar = tqdm(range(config['n_epochs']), desc=\"Training\", total=config['n_epochs'])\n",
        "\n",
        "    for epoch in progress_bar:\n",
        "        start_time = time.time()  # start time of the epoch\n",
        "\n",
        "        model.train()\n",
        "        total_loss = 0\n",
        "\n",
        "        train_predictions , train_true_labels = [], []\n",
        "\n",
        "        for batch in data_loader.train_dataloader():\n",
        "            optimizer.zero_grad()\n",
        "\n",
        "            input_ids = batch[\"input_ids\"].to(device)\n",
        "            attention_mask = batch[\"attention_mask\"].to(device)\n",
        "            labels = batch[\"labels\"].to(device)\n",
        "\n",
        "            logits = model(input_ids, attention_mask)\n",
        "\n",
        "            loss = model.loss(logits, labels)\n",
        "            total_loss += loss.item()\n",
        "\n",
        "            logits = logits.detach().cpu().numpy()\n",
        "            labels = labels.to('cpu').numpy()\n",
        "\n",
        "            # Store train predictions and true labels for accuracy calculation\n",
        "            train_predictions.append(logits)\n",
        "            train_true_labels.append(labels)\n",
        "\n",
        "            loss.backward()\n",
        "            optimizer.step()\n",
        "            scheduler.step()\n",
        "\n",
        "        avg_train_loss = total_loss / len(data_loader.train_dataloader())\n",
        "\n",
        "        # Calculate training accuracy\n",
        "        train_predictions = np.concatenate(train_predictions, axis=0)\n",
        "        train_true_labels = np.concatenate(train_true_labels, axis=0)\n",
        "        train_accuracy = accuracy_score(train_true_labels, np.argmax(train_predictions, axis=1))\n",
        "\n",
        "        # Start the validation\n",
        "        model.eval()\n",
        "\n",
        "        predictions , true_labels = [], []\n",
        "        total_eval_loss = 0\n",
        "\n",
        "        for batch in data_loader.val_dataloader():\n",
        "            input_ids = batch[\"input_ids\"].to(device)\n",
        "            attention_mask = batch[\"attention_mask\"].to(device)\n",
        "            labels = batch[\"labels\"].to(device)\n",
        "\n",
        "            with torch.no_grad():\n",
        "                logits = model(input_ids, attention_mask)\n",
        "\n",
        "            loss = model.loss(logits, labels)\n",
        "            total_eval_loss += loss.item()\n",
        "\n",
        "            # Move logits and labels to CPU\n",
        "            logits = logits.detach().cpu().numpy()\n",
        "            labels = labels.to('cpu').numpy()\n",
        "\n",
        "            # Store predictions and true labels\n",
        "            predictions.append(logits)\n",
        "            true_labels.append(labels)\n",
        "\n",
        "        # Calculate the average loss over all of the batches\n",
        "        avg_val_loss = total_eval_loss / len(data_loader.val_dataloader())\n",
        "\n",
        "        # Calculate validation accuracy\n",
        "        predictions = np.concatenate(predictions, axis=0)\n",
        "        true_labels = np.concatenate(true_labels, axis=0)\n",
        "        val_accuracy = accuracy_score(true_labels, np.argmax(predictions, axis=1))\n",
        "\n",
        "        end_time = time.time()  # end time of the epoch\n",
        "        epoch_mins, epoch_secs = divmod(end_time - start_time, 60)  # calculate elapsed time for this epoch\n",
        "\n",
        "        # Print additional information after each epoch\n",
        "        print(f'\\nEpoch: {epoch+1:02} | Time: {epoch_mins}m {epoch_secs}s')\n",
        "        print(f'\\tTrain Loss: {avg_train_loss:.3f} | Train Acc: {train_accuracy*100:.2f}% | Valid Loss: {avg_val_loss:.3f} | Valid Acc: {val_accuracy*100:.2f}%')\n",
        "\n",
        "        # Update progress bar\n",
        "        progress_bar.set_postfix({'train_loss': avg_train_loss, 'valid_loss': avg_val_loss, 'valid_acc': val_accuracy, 'train_acc': train_accuracy})\n",
        "\n",
        "        # save model if validation loss has decreased\n",
        "        if avg_val_loss < best_valid_loss:\n",
        "            best_valid_loss = avg_val_loss\n",
        "            torch.save(model, save_model_path)\n",
        "            early_stopping_counter = 0  # reset counter\n",
        "        else:\n",
        "            early_stopping_counter += 1\n",
        "            if early_stopping_counter >= early_stopping_limit:\n",
        "                print(f'EarlyStopping counter: {early_stopping_counter} out of {early_stopping_limit}')\n",
        "                if early_stopping_counter >= early_stopping_limit:\n",
        "                    print('Early stopping, stopping training')\n",
        "                    break  # break out from the training loop\n"
      ]
    },
    {
      "cell_type": "code",
      "source": [
        "train_model(model, data_loader, config)"
      ],
      "metadata": {
        "id": "ttWZjMEVOWlU",
        "colab": {
          "base_uri": "https://localhost:8080/",
          "height": 893,
          "referenced_widgets": [
            "1aae612394174fafa25130fa21ae45ea",
            "36bfde9a423c48c49a90212843e32bfd",
            "114460876aac4161b281251b4d536250",
            "cc377b5c7694423fb12326bc1c1ea4df",
            "02a1093efaf6455881ecd1c378c578ef",
            "ba2ef44d79504448a6c8358178acdc46",
            "ac40af6ee84243a2b46b3081302e37d4",
            "e72c6ef32f204cb2843b014a82db06f8",
            "dca17f3bfb3147649f544c938dae0b89",
            "d93129a6058e412d86a217963e3c1b79",
            "c8109f7c876b4260aa7cb2d2ad4ab0c6"
          ]
        },
        "outputId": "e707cc97-db39-4547-89f2-121bc29d80ae"
      },
      "execution_count": 44,
      "outputs": [
        {
          "data": {
            "application/vnd.jupyter.widget-view+json": {
              "model_id": "1aae612394174fafa25130fa21ae45ea",
              "version_major": 2,
              "version_minor": 0
            },
            "text/plain": [
              "Training:   0%|          | 0/100 [00:00<?, ?it/s]"
            ]
          },
          "metadata": {},
          "output_type": "display_data"
        },
        {
          "output_type": "stream",
          "name": "stdout",
          "text": [
            "\n",
            "Epoch: 01 | Time: 5.0m 56.70482611656189s\n",
            "\tTrain Loss: 4.606 | Train Acc: 53.29% | Valid Loss: 3.776 | Valid Acc: 92.94%\n",
            "\n",
            "Epoch: 02 | Time: 6.0m 1.5131139755249023s\n",
            "\tTrain Loss: 3.354 | Train Acc: 94.29% | Valid Loss: 2.592 | Valid Acc: 94.53%\n",
            "\n",
            "Epoch: 03 | Time: 6.0m 0.6432218551635742s\n",
            "\tTrain Loss: 2.269 | Train Acc: 96.42% | Valid Loss: 1.619 | Valid Acc: 94.60%\n",
            "\n",
            "Epoch: 04 | Time: 6.0m 0.09044671058654785s\n",
            "\tTrain Loss: 1.365 | Train Acc: 97.45% | Valid Loss: 0.948 | Valid Acc: 94.67%\n",
            "\n",
            "Epoch: 05 | Time: 6.0m 0.46994447708129883s\n",
            "\tTrain Loss: 0.762 | Train Acc: 98.29% | Valid Loss: 0.609 | Valid Acc: 94.67%\n",
            "\n",
            "Epoch: 06 | Time: 6.0m 0.6222186088562012s\n",
            "\tTrain Loss: 0.445 | Train Acc: 98.74% | Valid Loss: 0.439 | Valid Acc: 95.36%\n",
            "\n",
            "Epoch: 07 | Time: 6.0m 0.027521848678588867s\n",
            "\tTrain Loss: 0.279 | Train Acc: 99.01% | Valid Loss: 0.363 | Valid Acc: 94.74%\n",
            "\n",
            "Epoch: 08 | Time: 5.0m 59.95961332321167s\n",
            "\tTrain Loss: 0.178 | Train Acc: 99.32% | Valid Loss: 0.331 | Valid Acc: 95.01%\n",
            "\n",
            "Epoch: 09 | Time: 6.0m 0.42498278617858887s\n",
            "\tTrain Loss: 0.129 | Train Acc: 99.42% | Valid Loss: 0.309 | Valid Acc: 95.43%\n",
            "\n",
            "Epoch: 10 | Time: 6.0m 0.9420897960662842s\n",
            "\tTrain Loss: 0.099 | Train Acc: 99.58% | Valid Loss: 0.329 | Valid Acc: 94.74%\n",
            "\n",
            "Epoch: 11 | Time: 6.0m 0.517974853515625s\n",
            "\tTrain Loss: 0.076 | Train Acc: 99.67% | Valid Loss: 0.302 | Valid Acc: 95.15%\n",
            "\n",
            "Epoch: 12 | Time: 6.0m 0.4790217876434326s\n",
            "\tTrain Loss: 0.056 | Train Acc: 99.76% | Valid Loss: 0.287 | Valid Acc: 95.29%\n",
            "\n",
            "Epoch: 13 | Time: 6.0m 0.13539385795593262s\n",
            "\tTrain Loss: 0.044 | Train Acc: 99.83% | Valid Loss: 0.297 | Valid Acc: 95.22%\n",
            "\n",
            "Epoch: 14 | Time: 6.0m 0.62809157371521s\n",
            "\tTrain Loss: 0.037 | Train Acc: 99.81% | Valid Loss: 0.288 | Valid Acc: 95.22%\n",
            "\n",
            "Epoch: 15 | Time: 6.0m 0.12019181251525879s\n",
            "\tTrain Loss: 0.028 | Train Acc: 99.92% | Valid Loss: 0.292 | Valid Acc: 95.29%\n",
            "EarlyStopping counter: 3 out of 3\n",
            "Early stopping, stopping training\n"
          ]
        }
      ]
    },
    {
      "cell_type": "markdown",
      "source": [
        "# Predict"
      ],
      "metadata": {
        "id": "dAODWzVvBMw_"
      }
    },
    {
      "cell_type": "code",
      "source": [
        "def test_model(model, data_loader, model_path=None):\n",
        "    if model_path is not None:\n",
        "        # Load the pre-trained model\n",
        "        model = torch.load(model_path)\n",
        "\n",
        "    model.eval()\n",
        "\n",
        "    all_predictions, all_true_labels = [], []\n",
        "    cnt = 0\n",
        "    for batch in data_loader.val_dataloader():\n",
        "        input_ids = batch[\"input_ids\"].to(device)\n",
        "        attention_mask = batch[\"attention_mask\"].to(device)\n",
        "        labels = batch[\"labels\"].to(device)\n",
        "\n",
        "        with torch.no_grad():\n",
        "            logits = model(input_ids, attention_mask)\n",
        "\n",
        "        logits = logits.detach().cpu().numpy()\n",
        "        labels = labels.to('cpu').numpy()\n",
        "\n",
        "        # Get the predicted labels\n",
        "        predicted_labels = np.argmax(logits, axis=1)\n",
        "\n",
        "        # Store predictions and true labels\n",
        "        all_predictions.append(predicted_labels)\n",
        "        all_true_labels.append(labels)\n",
        "        if cnt < 1:\n",
        "          for i in range(BATCH_SIZE):\n",
        "            print(f\"Content: {batch['content'][i]}\")\n",
        "            print(f\"Predicted Label: {le.inverse_transform([predicted_labels[i]])}\")\n",
        "            print(f\"True Label: {le.inverse_transform([labels[i]])}\")\n",
        "            print(\"========================================\")\n",
        "\n",
        "        cnt += 1\n",
        "\n",
        "    # Flatten the lists\n",
        "    all_predictions = np.concatenate(all_predictions, axis=0)\n",
        "    all_true_labels = np.concatenate(all_true_labels, axis=0)\n",
        "\n",
        "    # Calculate accuracy\n",
        "    test_accuracy = accuracy_score(all_true_labels, all_predictions)\n",
        "    print(\" ===============================================\")\n",
        "    print()\n",
        "    print(f'Test Accuracy: {test_accuracy}')\n",
        "    print()\n",
        "    print(\" ===============================================\")\n",
        "\n",
        "    return all_predictions, all_true_labels, test_accuracy\n"
      ],
      "metadata": {
        "id": "Wn5qx4-hBQMi"
      },
      "execution_count": 45,
      "outputs": []
    },
    {
      "cell_type": "code",
      "source": [
        "# Test the model\n",
        "predicted_labels, true_labels, test_accuracy = test_model(model, data_loader, \"/content/NPL_news_classification.pt\")"
      ],
      "metadata": {
        "id": "QIYf-rb2B02n",
        "colab": {
          "base_uri": "https://localhost:8080/"
        },
        "outputId": "7148724c-1efe-4243-a17f-1af5059fa810"
      },
      "execution_count": 46,
      "outputs": [
        {
          "output_type": "stream",
          "name": "stdout",
          "text": [
            "Content: Vietjet làm ăn ra sao trong quí III khi đại dịch tái bùng phát?. Dịch COVID-19 tái bùng phát tại Đà Nẵng vào cuối tháng 7 đã làm ảnh hưởng tiêu cực đến kết quả kinh doanh quí III của Vietjet. Công ty đang nỗ lực cắt giảm chi phí và tìm nguồn thu mới để khắc phục khó khăn. Tàu bay Vietjet Air tại Nội Bài. (Ảnh: Song Ngọc) Công ty cổ phần Hàng không Vietjet (Mã: VJC) mới công bố báo cáo tài chính quí III/2020 cho thấy doanh thu thuần sụt giảm gần 80% so với cùng kì năm ngoái còn 2.809 tỉ đồng. Sau khi trừ giá vốn hàng bán, Vietjet lỗ gộp 612 tỉ đồng, trong khi quí III/2019 có lãi gộp hơn 2.000 tỉ đồng. Trong quí II năm nay, Vietjet cũng lỗ gộp nhưng nhờ có doanh thu tài chính cao đột biến gần 2.000 tỉ đồng nên công ty lãi thuần nghìn tỉ.  Tuy nhiên trong quí III vừa qua, công ty không ghi nhận doanh thu tài chính bất thường nên lợi nhuận sau thuế âm 971 tỉ đồng. Quí III năm ngoái, Vietjet có lãi ròng xấp xỉ 1.700 tỉ đồng. Nói về nguyên nhân chuyển từ lãi cùng kì năm trước sang lỗ kì này, bà Hồ Ngọc Yến Phương – Phó Tổng Giám đốc Vietjet cho biết đại dịch COVID-19 đã ảnh hưởng trực tiếp lên ngành hàng không toàn cầu, khiến nhu cầu đi lại khắp thế giới sụt giảm nghiêm trọng. Việt Nam cũng không phải ngoại lệ. Sau khi được phép bay trở lại sau sau dịch đợt đầu, toàn mạng bay Vietjet đã vận chuyển hơn 3 triệu lượt khách trong quí III/2020. Luỹ kế 9 tháng đầu năm, Vietjet đã vận chuyển hơn 10 triệu lượt khách. Công ty cũng đã mở mới 8 đường bay nội địa để đáp ứng nhu cầu đi lại ngày càng tăng của người dân và du khách, đưa mạng bay nội địa lên 52 đường bay. Thị trường nội địa có sự tăng trưởng mạnh mẽ trở lại với tần suất khai thác trong tháng 7 của Vietjet đạt hơn 300 chuyến/ngày, tăng 27% so với cùng kì năm ngoái. Tuy nhiên dịch COVID-19 tái bùng phát tại Đà Nẵng vào cuối tháng 7 đã làm ảnh hưởng đến kết quả kinh doanh quí III vừa qua, Phó TGĐ Hồ Ngọc Yến Phương cho biết. Vietjet khai thác khoảng 15.000 chuyến bay trong quí III, giảm 35% so với cùng kì. Trong 9 tháng, hãng bay giá rẻ này thực hiện tổng cộng 58.500 chuyến, giảm 43%. Nhiều hãng bay khác của Việt Nam cũng phải cắt giảm khai thác như Vietnam Airlines bay 64.400 chuyến trong 9 tháng, thấp hơn 36% so với cùng kì, Pacific Airlines bay 11.300 chuyến, giảm 59% và Vasco gần 6.400 chuyến, giảm 35%. Quí III vừa qua, Vietnam Airlines lỗ sau thuế gần 4.000 tỉ đồng. Quầy tự làm thủ tục của Vietjet tại sân bay Nội Bài. (Ảnh: Song Ngọc) \"Mặc dù thị trường quốc tế còn gặp nhiều khó khăn, Vietjet vẫn thực hiện được gần 250 chuyến bay, chuyên chở hành khách và vận chuyển hàng hoá (cargo) về nước\", bà Yến Phương cho hay. Tính chung ba quí đầu năm, Vietjet ghi nhận doanh thu hợp nhất 13.780 tỉ đồng, giảm 64% so với cùng kì 2019; lỗ sau thuế 925 tỉ đồng. Vietjet cho biết số lỗ này thấp hơn dự kiến của ban lãnh đạo công ty. Để khắc phục khó khăn do dịch bệnh gây ra, Vietjet đã thực hiện nhiều giải pháp kinh doanh mới như bắt đầu dịch vụ tự phục vụ mặt đất tại Cảng hàng không quốc tế Nội Bài để tối ưu chi phí, tạo nguồn thu phụ trợ tại sân bay cũng như nâng cao chất lượng phục vụ hành khách, tăng các chuyến bay chở hàng hoá, tạo ra các sản phẩm mới, đầu tư hạng vé Delux, tăng cường chất lượng dịch vụ SkyBoss, doanh thu phụ trợ, … Vietjet cũng đang nộp hồ sơ tại Ngân hàng Nhà nước xin thủ tục ví điện tử. Đồng thời công ty cũng triển khai chương trình khách hàng thân thiết. Bên cạnh đó Vietjet cũng tiếp tục các giải pháp tiết kiệm chi phí, tăng cường đàm phán giảm giá dịch vụ từ các nhà cung cấp, các chi phí thuê tàu, khai thác và bảo dưỡng theo giờ bay khai thác bình quân giảm 50-70% so với cùng kì 2019. Trên bảng cân đối kế toán, tổng tài sản của Vietjet thời điểm cuối quí III giảm khoảng 3.550 tỉ đồng so với ngày đầu năm, còn hơn 45.300 tỉ đồng. Bên phía nguồn vốn, vốn chủ sở hữu của công ty giảm hơn 900 tỉ đồng tương ứng với số lỗ sau thuế của 9 tháng đầu năm.  Nợ phải trả cũng giảm hơn 2.600 tỉ đồng, chủ yếu do Vietjet giảm các khoản vay dài hạn. Tỉ lệ nợ phải trả trên tổng nguồn vốn được duy trì ổn định ở khoảng 69%.\n",
            "Predicted Label: ['VJC']\n",
            "True Label: ['VJC']\n",
            "========================================\n",
            "Content: Trống ghế CEO và không còn ai trong HĐQT, Louis Land (BII) lên mục tiêu lãi đột biến năm nay. Tại đại hội thường niên năm nay, Louis Land dự kiến sẽ bầu mới 4 thành viên HĐQT cho nhiệm kỳ 2020 - 2025 và sẽ bầu Tổng Giám đốc mới thời gian tới. CTCP Louis Land (Mã: BII) vừa công bố tài liệu họp Đại hội đồng cổ đông thường niên 2022, dự kiến diễn ra ngày 28/6 tại TP HCM. Năm 2022, công ty lên mục tiêu 320 tỷ đồng tổng doanh thu, 50,8 tỷ đồng lợi nhuận sau thuế; giảm 35% về doanh thu nhưng tăng 156% về lợi nhuận so với năm 2021. Công ty dự kiến sẽ tiếp tục đẩy mạnh hoạt động cho thuê cụm công nghiệp Thắng Hải 1 và Thắng Hải 2. Trong ba tháng đầu năm, Louis Land đạt hơn 151 tỷ đồng doanh thu, tăng 40% so với cùng kỳ năm ngoái song lại lỗ sau thuế hơn 9 tỷ đồng (quý I/2021 có lãi hơn 4 tỷ).  Công ty đề xuất không chia cổ tức cho cả năm 2021 và 2022. Tại đại hội tới, Louis Land sẽ tiến hành bầu mới 4 thành viên HĐQT cho nhiệm kỳ 2020 - 2025. Ngày 6/6, Louis Land đã nhận được đơn từ nhiệm khỏi vị trí thành viên HĐQT của ông Trần Sĩ Chương kể từ 17/5 vì lý do cá nhân. Ông Trần Sĩ Chương, Phó Chủ tịch HĐQT được bổ nhiệm đầu tháng 11/2021. Trước đó, ngày 1/6, HĐQT của Louis Land đã nhận được đơn từ nhiệm của ông Hoàng Xuân Hạnh về việc rút khỏi HĐQT và rời ghế Chủ tịch HĐQT kể từ ngày 29/5. Cùng ngày, bà Nguyễn Giang Quyên cũng xin từ nhiệm khỏi vị trí Tổng Giám đốc Louis Land từ 29/5.  Ông Hoàng Xuân Hạnh mới nhậm chức Chủ tịch HĐQT từ ngày 4/4 năm nay, thay thế ông Lục Tấn Huy (bổ nhiệm từ ngày 24/2).  Còn bà Nguyễn Giang Quyên mới ngồi ghế Tổng Giám đốc Louis Land từ ngày 17/2 thay ông Lục Tấn Huy. Thời gian gần đây, nhân sự cấp cao của Louis Land liên tục có sự biến động. Chỉ trong vòng ba tháng, công ty đã đổi tới ba Chủ tịch HĐQT và hai Tổng Giám đốc. Và nếu tính trong vòng một năm qua thì công ty đã thay tới 5 Chủ tịch.  Trong tháng 4, bà Nguyễn Đình Tú Nhi cũng có đơn xin từ nhiệm vị trí thành viên HĐQT và Chủ tịch Uỷ ban kiểm toán từ 18/4. Bà Nguyễn Thị Minh Hiệp cũng xin rút khỏi chức Kế toán trưởng từ 4/4 và bà Mai Thị Kim Phượng được bổ nhiệm thay thế. Sau khi ông Hạnh rút khỏi ghế Chủ tịch và loạt thành viên xin rời HĐQT của Louis Land thì hiện HĐQT của Louis Land không còn ai. \n",
            "Predicted Label: ['BII']\n",
            "True Label: ['BII']\n",
            "========================================\n",
            "Content: Công trình Viettel (CTR) tiến sát mục tiêu lợi nhuận năm. Sau 10 tháng, tổng lợi nhuận trước thuế lũy kế của Công trình Viettel đạt gần 348 tỷ và tương ứng với 99,2% mục tiêu lợi nhuận năm. Tổng Công ty cổ phần Công trình Viettel (Viettel Construction - Mã: CTR) vừa công bố kết quả kinh doanh tháng 10 với doanh thu thuần đạt 650,2 tỷ, tăng gần 14% so với tháng 10 năm ngoái. Lợi nhuận trước thuế 35,8 tỷ, tăng hơn 7%. Trong đó, lĩnh vực vận hành khai thác ghi nhận 428,3 tỷ đồng doanh thu, tăng 38,4% và chiếm tỷ trọng gần 66% tổng doanh thu. Đáng chú ý, lĩnh vực đầu tư hạ tầng có doanh thu tăng trưởng 163% so với cùng kỳ, đạt 18,4 tỷ. Nguồn: MH tổng hợp từ báo cáo của CTR. Còn xét theo thị trường quốc tế, thị trường Myanmar ghi nhận doanh thu 49,8 tỷ đồng, tăng trưởng 96,5% so với cùng kỳ. Kết quả này đóng góp từ nguồn doanh thu vận hành khai thác 46 tỷ đồng, còn lại là mảng xây lắp. Tại Campuchia, doanh thu ước đạt 25,3 tỷ đồng, tăng hơn 59%. Tại Peru, công ty ghi nhận doanh thu 5,6 tỷ đồng, tăng nhẹ so với cùng kỳ. Còn doanh thu tại Mozambique là 5 tỷ đồng, tăng trưởng 67,8% so với cùng kỳ và gấp đôi tháng trước. Lũy kế 10 tháng, doanh thu của CTR đạt 6.126 tỷ đồng, lợi nhuận trước thuế gần 348 tỷ, lần lượt ứng với 93% kế hoạch doanh thu và 99,2% mục tiêu lợi nhuận năm.\n",
            "Predicted Label: ['CTR']\n",
            "True Label: ['CTR']\n",
            "========================================\n",
            "Content: SAM Holdings (SAM) miễn nhiệm một Phó tổng giám đốc. (ĐTCK) CTCP SAM Holdings (mã chứng khoán SAM - sàn HOSE) biến động lãnh đạo cấp cao.. Cụ thể, ngày 1/3, SAM Holdings thông qua đơn từ nhiệm chức danh Phó tổng giám đốc của ông Nguyễn Minh Tùng, hiệu lực từ ngày 8/3.Theo tìm hiểu, ông Nguyễn Minh Tùng sinh năm 1970, ông đang giữ nhiều vị trí tại SAM Holdings như người công bố thông tin, Phó tổng giám đốc và thành viên HĐQT (bổ nhiệm ngày 26/4/2022) tại SAM Holdings.Xét về hoạt động kinh doanh, trong quý IV/2022, SAM Holdings ghi nhận doanh thu đạt 535,27 tỷ đồng, giảm 12% so với cùng kỳ và lợi nhuận sau thuế ghi nhận lỗ 38,28 tỷ đồng, so với cùng kỳ lãi 98,16 tỷ đồng, tức giảm 136,44 tỷ đồng.Trong kỳ, lợi nhuận gộp tăng 158,6% so với cùng kỳ, tương ứng tăng thêm 28,98 tỷ đồng lên 47,25 tỷ đồng; doanh thu tài chính giảm 53%, tương ứng giảm 97,59 tỷ đồng về 86,54 tỷ đồng; chi phí tài chính tăng 111,3%, tương ứng tăng thêm 53,05 tỷ đồng lên 100,72 tỷ đồng; lãi/lỗ công ty liên doanh, liên kết ghi nhận lỗ 17,74 tỷ đồng so với cùng kỳ lỗ 2,21 tỷ đồng, tăng lỗ 15,53 tỷ đồng; chi phí bán hàng và quản lý doanh nghiệp tăng 40,9%, tương ứng tăng thêm 14,95 tỷ đồng lên 51,47 tỷ đồng và các hoạt động khác biến động không đáng kể.Nếu xét hoạt động kinh doanh cốt lõi (lợi nhuận gộp – chi phí tài chính – chi phí bán hàng & quản lý doanh nghiệp), quý IV, Công ty tiếp tục lỗ 104,94 tỷ đồng so với cùng kỳ lỗ 65,92 tỷ đồng.Như vậy, Công ty chỉ bớt lỗ nhờ ghi nhận doanh thu tài chính 86,54 tỷ đồng.Công ty thuyết minh chi phí tài chính tăng chủ yếu do trong kỳ, Công ty ghi nhận lỗ tỷ giá 17,8 tỷ đồng so với cùng kỳ ghi nhận lỗ 1,5 triệu đồng; lỗ thanh lý các khoản đầu tư là 55,4 tỷ đồng so với cùng kỳ là 11,6 tỷ đồng; chi phí lãi vay là 26,3 tỷ đồng so với cùng kỳ là 10,7 tỷ đồng …Được biết, quý lỗ gần nhất là quý III/2017 với mức lỗ 3,57 tỷ đồng. Như vậy, sau 20 quý liên tiếp có lãi, Công ty quay trở lại lỗ trong quý IV/2022.Luỹ kế trong năm 2022, SAM Holdings ghi nhận doanh thu đạt 2.109,06 tỷ đồng, tăng 11,7% so với cùng kỳ và lợi nhuận sau thuế ghi nhận 7,35 tỷ đồng, giảm 95,4% so với cùng kỳ năm trước.Trong năm 2022, SAM Holdings đặt kế hoạch tổng doanh thu 2.855,8 tỷ đồng, lợi nhuận trước thuế 210,7 tỷ đồng. Như vậy, kết thúc năm tài chính 2022 với lợi nhuận trước thuế chỉ đạt 40,9 tỷ đồng, Công ty không hoàn thành kế hoạch và chỉ đạt 19,4% kế hoạch lợi nhuận năm, thấp hơn nhiều chỉ tiêu kế hoạch mà Đại hội đồng cổ đông giao cho Ban điều hành.\n",
            "Predicted Label: ['SAM']\n",
            "True Label: ['SAM']\n",
            "========================================\n",
            "Content: LienVietPostBank mua lại trước hạn 1,100 tỷ đồng trái phiếu. HĐQT Ngân hàng TMCP Bưu điện Liên Việt (LienVietPostBank, HOSE: LPB) mới đây thông qua việc mua lại trước hạn 1,100 trái phiếu phát hành đợt 17 năm 2021 với mã trái phiếu là LPBH2124017.  Tổng giá trị mua lại theo mệnh giá là 1,100 tỷ đồng. Trái phiếu được phát hành vào ngày 27/12/2021 và có kỳ hạn 3 năm. Lãi suất phát hành là 2.9%/năm. Đây là trái phiếu có quyền mua lại theo yêu cầu của tổ chức phát hành hoặc theo yêu cầu của người sở hữu trái phiếu hoặc mua lại bắt buộc hoặc mua lại theo thỏa thuận khác.  Theo kế hoạch, Ngân hàng mua lại vào ngày 27/12/2022. Lãi chưa thanh toán tính đến ngày mua lại trước hạn là 29 triệu đồng/trái phiếu. Giá mua lại lô trái phiếu trên là 1,029 tỷ đồng. Tổng giá trị thanh toán đạt gần 1,132 tỷ đồng. LPB sẽ dùng nguồn tiền từ thu nợ gốc/lãi của các khoản vay được tài trợ vốn từ nguồn vốn phát hành trái phiếu, và nguồn thu từ các hoạt động kinh doanh khác, từ nguồn vốn tự tích lũy và các nguồn vốn hợp pháo khác của Ngân hàng.  Trước đó, LPB đã mua lại trước hạn 9,800 tỷ đồng trong 11 tháng qua. Về hoạt động kinh doanh của LPB, với lợi nhuận trước thuế 9 tháng đạt 4,822 tỷ đồng, tăng 72% so với cùng kỳ, LienVietPostBank (LPB) đã hoàn thành kế hoạch lợi nhuận cả năm.  LPB cho biết lợi nhuận trước thuế đã cán đích và nhỉnh hơn kế hoạch cả năm 2022 chỉ sau 9 tháng nhờ thu nhập lãi thuần tăng mạnh so với cùng kỳ, chủ yếu đến từ tín dụng bán lẻ cùng các khoản thu lãi khoản vay cơ cấu COVID-19 của các khách hàng đã khôi phục hoạt động kinh doanh.\n",
            "Predicted Label: ['LPB']\n",
            "True Label: ['LPB']\n",
            "========================================\n",
            "Content: Lãi ròng Sữa Quốc tế (IDP) tăng 39% quý III. 9 tháng đầu năm, lợi nhuận sau thuế của IDP đã vượt 43% kế hoạch năm. CTCP Sữa Quốc Tế (Mã: IDP) công bố BCTC quý III/2022, ghi nhận doanh thu thuần trong quý đạt 1.630 tỷ đồng, tăng 32% so với cùng kỳ năm ngoái. Giá vốn tăng 41% kéo biên lợi nhuận gộp của IDP giảm 3,9 điểm % so với cùng kỳ năm ngoái còn 37,2%. Các chi phí gia tăng không đáng kể so với cùng kỳ, trong đó chi phí quản lý bán hàng chiếm tỷ trọng lớn nhất ghi nhận tăng 6% lên 332 tỷ đồng quý III. Kết quả, lợi nhuận sau thuế của doanh nghiệp đạt 192 tỷ đồng, tăng 39% so với cùng kỳ 2021. Lũy kế 9 tháng đầu năm, IDP ghi nhận doanh thu thuần đạt gần 4.415 tỷ đồng và lợi nhuận sau thuế đạt 645 tỷ đồng, lần lượt tăng 22% và 19% so với cùng giai đoạn của 2021.Lãi cơ bản trên cổ phiếu (EPS) sau 9 tháng đạt 10.938 đồng.  Trong 2022, IDP đề ra mục tiêu doanh thu thuần 5.500 tỷ đồng và lợi nhuận sau thuế 452 tỷ đồng. Như vậy, sau 9 tháng, IDP đã thực hiện được 80% kế hoạch doanh thu năm và vượt gần 43% kế hoạch lợi nhuận sau thuế của 2022. Trước đó, IDP đã hoàn thành kế hoạch lợi nhuận năm sau nửa đầu năm.  Về tình hình tài chính, đến 30/9, IDP có quy mô tổng tài sản đạt 3.633 tỷ đồng, tăng 667 tỷ đồng so với đầu năm. Chỉ tiêu chiếm tỷ trọng lớn nhất là tiền và đầu tư nắm giữ đến ngày đáo hạn ghi nhận hơn 1.397 tỷ đồng. Các khoản phải thu ngắn hạn của IDP tăng đột biến từ 350,4 tỷ ở đầu năm lên 858,7 tỷ đồng vào 30/9 chủ yếu từ việc tăng khoản tạm ứng cho nhân viên ghi nhận vào cuối quý là 506 tỷ đồng, tăng 489 tỷ đồng so với đầu năm. Báo cáo tài chính quý III/2022 chưa ghi nhận các khoản đầu tư vào công ty con của IDP, tuy nhiên, vào ngày 23/8, IDP đã được thông qua việc góp vốn thành lập và cử người đại diện quản lý phần góp vốn tại CTCP Đầu tư Green Light với số vốn góp là 499,9 tỷ đồng, tỷ lệ sở hữu 99,98%.   Tài sản xây dựng dở dang dài hạn của IDP cũng tăng 258 tỷ đồng so với đầu năm, ghi nhận ở mức 275 tỷ đồng. Trong 2022, IDP có kế hoạch đầu tư cho dự án CTCP Sữa Quốc Tế - Chi nhánh Bình Dương với tổng vốn đầu tư 2.800 tỷ đồng. Về cơ cấu vốn, IDP có tổng nợ phải trả là 1.903 tỷ đồng tại ngày 30/9, hoàn toàn là ngắn hạn. Trong đó, doanh nghiệp vay nợ 640,5 tỷ đồng, tăng 99 tỷ đồng so với đầu năm. Cuối quý III, vốn chủ sở hữu của IDP ghi nhận gần 1.730 tỷ đồng bao gồm 860 tỷ lợi nhuận sau thuế chưa phân phối. Lưu chuyển tiền thuần trong kỳ ghi nhận được 57 tỷ đồng, trong đó dòng tiền thuần từ hoạt động kinh doanh là 117 tỷ đồng.\n",
            "Predicted Label: ['IDP']\n",
            "True Label: ['IDP']\n",
            "========================================\n",
            "Content: Vĩnh Hoàn có thể tăng trưởng lợi nhuận âm trong nửa đầu năm 2023?. SSI Research giả định sản lượng tiêu thụ tăng 5% theo năm, trong khi giá bán bình quân giảm 17% theo năm trong năm 2023. Vĩnh Hoàn nhiều khả năng sẽ ghi nhận tăng trưởng lợi nhuận âm trong 6 tháng đầu năm sau. Báo cáo tài chính hợp nhất quý III của CTCP Vĩnh Hoàn (Mã: VHC) cho thấy kết quả kinh doanh tăng mạnh so với cùng kỳ nhờ giá bán tăng.  Cụ thể, doanh thu thuần của Vĩnh Hoàn tăng 46% lên 3.261 tỷ đồng. Giá vốn hàng bán tăng với mức 45%, thấp hơn mức tăng của doanh thu thuần. Biên lãi gộp đạt 19,1%, tăng 0,7 điểm % so với con số 18,4% cùng kỳ năm ngoái. Nhìn chung, cả doanh thu, lợi nhuận gộp và cả biên lãi gộp đều giảm mạnh so với mức kỷ lục doanh nghiệp đã thiết lập hồi quý II - thời điểm công ty đẩy mạnh xuất khẩu sang thị trường Mỹ để hưởng lợi từ sự thiếu hụt thủy sản. Trừ đi các chi phí, Vĩnh Hoàn lãi sau thuế 460 tỷ đồng quý III, tăng 80% so với cùng kỳ, song thấp nhất kể từ quý IV năm ngoái.  Theo Trung tâm phân tích của Chứng khoán SSI (SSI Research), nguyên nhân là do doanh thu từ Mỹ (thị trường xuất khẩu quan trọng nhất của Vĩnh Hoàn) giảm 41% so với quý trước, phản ánh lượng hàng tồn kho cao và lạm phát kéo dài.  Tỷ suất lợi nhuận gộp đạt 19,2% trong quý III, giảm mạnh so với 25,9% trong quý II mặc dù giá bán bình quân tăng nhẹ 5% so với quý trước. Nguyên nhân là do khoản dự phòng hàng tồn kho lên tới 240 triệu đồng liên quan đến thành phẩm tồn kho. Do cả nguyên liệu cá và chi phí thức ăn đều giảm kể từ tháng 10, Vĩnh Hoàn dự báo giá bán bình quân sẽ giảm trong quý 4 năm 2022, dẫn đến việc trích lập dự phòng trong quý này.  “Tuy nhiên, xét về tính trọng yếu của khoản dự phòng này, chúng tôi dự báo Vĩnh Hoàn sẽ ghi nhận một số khoản hoàn nhập trong quý IV”, SSI Research nhận định. Công ty kỳ vọng xu hướng xuất khẩu hiện tại sẽ tiếp tục được duy trì, mặc dù có thể vẫn có sai lệch so với dự báo này. Trong khi sản lượng xuất khẩu sang Mỹ có thể tăng trong quý IV so với quý III do tác động từ kỳ nghỉ lễ, giá bán bình quân đã bắt đầu điều chỉnh giảm. Theo Agromonitor, giá bán bình quân của cá tra là 4,2 USD/kg trong tháng 10 năm 2022 (giảm 7% so với tháng trước).  Với mức tiêu thụ dự kiến trong mùa lễ hội tăng vọt, SSI Research kỳ vọng Vĩnh Hoàn sẽ ghi nhận giá bán bình quân là 4,5 USD/kg trong quý IV. Đối với năm 2023, giá bán bình quân có thể giảm sau kỳ nghỉ lễ và giảm xuống 4 USD/kg. Mặc dù thị trường Trung Quốc rất nhạy cảm và dễ biến động với giá cả, thị trường này được dự báo duy trì mức độ tăng trưởng cho đến năm 2023. Theo Hiệp hội Chế biến và Xuất khẩu Thuỷ sản (VASEP), có thể đơn hàng cá tra sẽ tăng dần trong tháng 10 là tháng đỉnh điểm của mùa giao dịch cuối năm. Hiện nay nguồn cung cá tra nguyên liệu tại nhiều địa phương đang giảm, giá cá nguyên liệu đang tăng lên.   Trong tháng 9 kim ngạch xuất khẩu cá tra đạtđạt 164 triệu USD, tăng gấp đôi so với cùng kỳ năm ngoái.Tuy nhiên, VASEP cho rằng các mức tăng trưởng đột phá trên không phải là tín hiệu lạc quan vì tháng 9/2021, do ảnh hưởng của dịch COVID-19, xuất khẩu cá tra sụt giảm xuống mức thấp nhất. Hơn nữa, thông thường hàng năm vào tháng 9 sắp vào mùa cao điểm có nhiều đơn hàng cho dịp lễ cuối năm và năm mới, nhưng năm nay, kim ngạch cá tra tháng 9 lại thấp hơn 15% so với tháng 8.   Cho năm 2022, SSI Research dự báo doanh thu thuần và lợi nhuận sau thuế lần lượt là 14 nghìn tỷ đồng (tăng 54% so với cùng kỳ) và 2,3 nghìn tỷ đồng (tăng 109% so với cùng kỳ). Cho năm 2023, doanh thu thuần và lợi nhuận sau thuế có thể lần lượt đạt 12,9 nghìn tỷ đồng  và 1,7 nghìn tỷ đồng, giảm lần lượt 8% và 27% so với 2022.  “Chúng tôi giả định sản lượng tiêu thụ tăng 5% theo năm, trong khi giá bán bình quân giảm 17% theo năm trong năm 2023. Vĩnh Hoàn nhiều khả năng sẽ ghi nhận tăng trưởng lợi nhuận âm trong 6 tháng đầu năm 2023”, SSI Research nhận định.  \n",
            "Predicted Label: ['VHC']\n",
            "True Label: ['VHC']\n",
            "========================================\n",
            "Content: Tập đoàn Cao su Việt Nam (GVR) có gần 9.400 tỷ đồng doanh thu chưa thực hiện cuối năm 2022. Cuối năm 2022, GVR ghi nhận gần 9.377 tỷ đồng doanh thu chưa thực hiện ngắn và dài hạn, hầu như là doanh thu từ cho thuê hạ tầng, khu dân cư, chiếm 38% tổng nợ phải trả của tập đoàn. Báo cáo tài chính hợp nhất quý IV/2022 của Tập đoàn Công nghiệp Cao su Việt Nam (Mã: GVR) cho thấy doanh thu thuần đạt 9.013 tỷ đồng, giảm gần 7% so với cùng kỳ năm ngoái do giá bán giảm. Trong cơ cấu doanh thu, mảng sản xuất kinh doanh mủ cao su đóng góp 6.710 tỷ đồng, chiếm 74% tổng doanh thu và cao nhất trong vòng một năm trở lại đây. Trong kỳ, lợi nhuận gộp của GVR giảm 34% về 1.687 tỷ đồng. Biên lợi nhuận gộp thu hẹp từ 26,6% cùng kỳ về 18,7% quý IV/2022. Trừ đi các chi phí bán hàng và quản lý doanh nghiệp gia tăng, GVR lãi sau thuế 1.311 tỷ đồng, lợi nhuận ròng 911 tỷ, lần lượt giảm 27% và 37% so với cùng kỳ. Lũy kế năm 2022, doanh thu thuần của GVR đạt 25.315 tỷ, lợi nhuận sau thuế 4.797 tỷ, giảm lần lượt 3,3% và 10% so với năm 2021. Cuối năm 2022, Hội đồng quản trị GVR đã thông qua việc điều chỉnh chỉ tiêu kinh doanh năm 2022 với doanh thu hợp nhất giảm 5% so với kế hoạch cũ, từ 29.707 tỷ đồng xuống 28.280 tỷ đồng. Lợi nhuận trước thuế 4.900 tỷ đồng, giảm 24% so với kế hoạch ban đầu.  Theo GVR, nguyên nhân khiến tập đoàn điều chỉnh kế hoạch lợi nhuận năm 2022 do xung đột của một số nước trên thế giới làm ảnh hưởng đến tiêu thụ và giá bán các sản phẩm chính. Bên cạnh đó, tập đoàn cũng chưa thoái vốn được như kế hoạch được giao, các đơn vị thành viên GVR chưa thực hiện được việc bàn giao đất do đang trong thời gian chờ đợi quyết định của cơ quan có thẩm quyền cùng với việc lập dự phòng do suy giảm giá trị đầu tư sang Lào vì sự suy giảm giá trị của đồng Kip Lào trong kỳ lập báo cáo. Như vậy so với kế hoạch mới, GVR đã thực hiện được 89% kế hoạch doanh thu và vượt 17% chỉ tiêu lợi nhuận trước thuế năm 2022. Theo Cục Xuất nhập khẩu, năm 2022, xuất khẩu cao su của Việt Nam vẫn gặp nhiều khó khăn do bị ảnh hưởng lớn bởi đại dịch COVID-19, đồng USD tăng giá mạnh, giá cao su liên tục giảm. Trong khi đó, sự cạnh tranh về giá giữa các nước sản xuất và xuất khẩu cao su thiên nhiên tăng lên. Mặt khác, cơ cấu và chủng loại cao su thiên nhiên của Việt Nam còn lệ thuộc nhiều vào thị trường tiêu thụ của Trung Quốc, gặp nhiều khó khăn trong việc thâm nhập thị trường lớn khác như Mỹ, Nhật Bản, châu Âu. Cuối năm 2022, quy mô tài sản của GVR giảm gần 1.000 tỷ đồng so với đầu năm về 78.064 tỷ, chủ yếu tập trung ở tài sản cố định gần 34.000 tỷ đồng.  Tiền, tương đương tiền và tiền gửi ngân hàng tại cuối tháng 12/2022 của GVR khoảng 15.633 tỷ đồng, không thay đổi nhiều so với đầu năm và bằng 1/5 tổng tài sản. Tính riêng quý IV/2022, GVR lãi hơn 190 tỷ đồng từ tiền gửi, tiền cho vay. Bên cạnh đó, GVR còn đầu tư 2.776 tỷ đồng vào công ty liên doanh, liên kết, đơn vị khác. Năm 2022, tập đoàn thu lãi 299 tỷ đồng từ việc rót vốn vào các công ty này. Hàng tồn kho tính đến cuối quý IV hơn 4.000 tỷ đồng, tăng khoảng 530 tỷ so với ngày 1/1/2022, chủ yếu là chi phí sản xuất kinh doanh dở dang và thành phẩm tồn kho. GVR ghi nhận gần 9.377 tỷ đồng doanh thu chưa thực hiện ngắn và dài hạn, hầu như là doanh thu từ cho thuê hạ tầng, khu dân cư, chiếm 38% tổng nợ phải trả của tập đoàn. Cuối tháng 12, quy mô nợ đi vay của GVR là 7.411 tỷ, giảm gần 1.600 tỷ so với đầu năm. Chi phí lãi vay của tập đoàn phải trả trong năm 2022 hơn 500 tỷ. Vốn chủ sở hữu của GVR tại cuối kỳ là 53.203 tỷ đồng, trong đó lợi nhuận sau thuế chưa phân phối là 4.783 tỷ, quỹ đầu tư phát triển là 5.089 tỷ đồng.\n",
            "Predicted Label: ['GVR']\n",
            "True Label: ['GVR']\n",
            "========================================\n",
            "Content: GTNfoods sẽ huỷ niêm yết, sáp nhập vào công ty con. Theo kế hoạch, GTNfoods sẽ được sáp nhập vào Tổng Công ty Chăn nuôi Việt Nam - CTCP và hủy niêm yết cổ phiếu GTN trên Sở Giao dịch Chứng khoán HOSE. CTCP GTNfoods (Mã: GTN) vừa công bố tài liệu họp Đại hội đồng cổ đông thường niên năm 2021. Cụ thể, Hội đồng quản trị đã trình kế hoạch doanh thu hợp nhất năm 2021 đạt 3.073 tỷ đồng, tăng 9% so với năm 2020 và mục tiêu lợi nhuận sau thuế đạt 244 tỷ đồng, giảm 3%. Chi tiết kế hoạch 2021 của GTNfoods. (Nguồn: GTNfoods). Theo tài liệu, HĐQT muốn trình Đại hội đồng cổ đông thông qua nội dung không phân phối lợi nhuận trong năm 2020 do công ty còn bị lỗ lũy kế và không có nguồn phân phối theo qui định của pháp luật hiện hành. Tính đến cuối năm 2020, GTNfoods vẫn còn lỗ lũy kế hơn 133 tỷ đồng. Đáng chú ý, HĐQT đã đưa ra phương án sáp nhập GTNfoods vào Tổng Công ty Chăn nuôi Việt Nam - CTCP (Vilico, Mã VLC) và hủy niêm yết cổ phiếu GTN trên Sở Giao dịch Chứng khoán HOSE, chấm dứt sự tồn tại của GTNfoods. Điều đáng chú ý là GTN đang là công ty mẹ của Vilico và nếu dự thảo được thông qua, toàn bộ tài sản, quyền và nghĩa vụ hợp pháp của GTN sẽ được chuyển giao toàn bộ, nguyên trạng cho công ty Vilico, bao gồm cả 250 triệu cổ phiếu GTN đang niêm yết trên HOSE.  Vốn điều lệ của Vilico dự kiến tối đa 1.723,5 tỷ đồng Lưu ý một điều là sự sở hữu chéo giữa CTCP Sữa Việt Nam (Vinamilk - Mã: VNM), GTN và Vilico lại khá rối. Trong đó, GTN chỉ đóng vai trò chính là mắt xích sở hữu gián tiếp Mộc Châu Milk. VNM đã mua lại 75% vốn tại GTNfoods từ đầu năm 2020, trong khi đó GTNfoods lại đang nắm 74,49% vốn tại Vilico và Vilico thì đang nắm 51% tại Mộc Châu Milk. Lộ trình dự kiến sáp nhập vào Vilico. (Nguồn: GTNfoods). Như vậy, nếu thành công thì VNM sẽ trực tiếp góp mặt trong cơ cấu cổ đông của Vilico. Theo dự thảo, chiến lược hoạt động sản xuất kinh doanh của Vilico sau sáp nhập sẽ tập trung vào những nội dung chính như khôi phục lại hoạt động sản xuất kinh doanh và định hướng đưa Vilico trở thành đơn vị lớn trong lĩnh vực ngành chăn nuôi và chế biến sản phẩm thịt tại Việt Nam.  Vilico đang có chủ trương đầu tư trang trại bò thịt qui mô khai thác 20.000 con/năm với tổng vốn đầu tư không quá 1.700 tỷ đồng. Hình thức đầu tư là tự làm hoặc tìm đối tác có tiềm lực và kinh nghiệm tốt trong lĩnh vực này để thực hiện dự án. Vilico cho biết sẽ tập trung nguồn lực để hỗ trợ và phát triển chăn nuôi bò sữa và sản xuất, kinh doanh các mặt hàng sữa thông qua công ty con là CTCP Giống Bò Sữa Mộc Châu (Mã: MCM) Bên cạnh đó, công ty sẽ hỗ trợ và phát triển sản xuất và kinh doanh các sản phẩm chè thông qua công ty liên kết là Tổng Công ty Chè Việt Nam - CTCP (Vinatea); hỗ trợ và phát triển sản xuất kinh doanh các sản phẩm rượu vang, nước giải khát, sản phẩm điều thông qua công ty liên kết là CTCP Thực phẩm Lâm Đồng (Ladofoods). Đặc biệt, Vilico cũng sẽ tiếp tục khai thác các nguồn lực sẵn có của mình, Vinamilk và tiếp kiếm các cơ hội đầu tư khác trong lĩnh vực sản xuất hàng tiêu dùng, chăn nuôi, nông nghiệp,… để phát triển VLC lớn mạnh hơn và bền vững trong dài hạn,...\n",
            "Predicted Label: ['KDC']\n",
            "True Label: ['VNM']\n",
            "========================================\n",
            "Content: Ông lớn bán lẻ FRT bất ngờ lỗ quý 1/2023, nhưng Long Châu vẫn là điểm sáng. CTCP Bán lẻ kỹ thuật số FPT (FPT Retail, HOSE: FRT) vừa công bố kết quả kinh doanh quý 1/2023, với khoản lỗ ròng 5 tỷ đồng. Đây cũng là quý ảm đạm nhất của ông lớn bán lẻ này kể từ quý 2/2020. Trong 3 tháng đầu năm, Công ty ghi nhận doanh thu thuần 7,753 tỷ đồng, giảm nhẹ so với cùng kỳ. Trong đó, chuỗi FPT Shop đóng góp 58% doanh thu, còn Long Châu chiếm phần còn lại. Theo lý giải từ FPT Retail, chuỗi FPTShop liên tục chịu ảnh hưởng xấu từ áp lực giảm cầu, sự cạnh tranh mạnh mẽ trên thị trường bán lẻ dẫn đến FRT đã đưa ra nhiều chính sách giảm giá, khuyến mại nhằm kích cầu cho các sản phẩm điện tử, đặc biệt là sản phẩm Apple. Điều này khiến doanh thu của chuỗi giảm 20%.   Trong khi đó, chuỗi Long Châu thể hiện tầm quan trọng của mình với FPT Retail trong bối cảnh nhu cầu các sản phẩm ICT yếu ớt, với doanh thu tăng trưởng 52% so với cùng kỳ. Đây là yếu tố giúp FPT Retail không giảm mạnh về doanh thu.  Bên cạnh bối cảnh sức cầu kém, FPT Retail còn chịu gánh nặng chi phí lớn hơn.   Trong quý 1/2023, chi phí lãi vay tăng 84.3% so với cùng kỳ, lên 85 tỷ đồng, còn chi phí bán hàng cũng tăng mạnh 25% lên 913 tỷ đồng. Riêng chi phí quản lý giảm 30%. Với những khó khăn kể trên, FRT Retail ghi nhận lợi nhuận sau thuế cổ đông công ty mẹ âm hơn 5 tỷ đồng, trong khi cùng kỳ lãi 165 tỷ đồng. Kết quả kinh doanh quý 1/2023 của FPT Retail Đvt: Tỷ đồng Chuỗi Long Châu tiếp tục là động lực tăng trưởng cho FPT Retail Trong quý 1/2023, ông lớn bán lẻ này mở thêm 119 cửa hàng Long Châu, nâng tổng số cửa hàng lên 1,056. Doanh thu cũng tăng trưởng ấn tượng 52% so với cùng kỳ.  Tại đại hội thường niên gần đây, Chủ tịch Nguyễn Bạch Diệp cho biết những cửa hàng mới trong quý 1/2023 chủ yếu nằm ở huyện và thị trấn. “Với các nhà thuốc mới này, số ngày hòa vốn còn tốt hơn ở thành phố vì giá thuê ở tuyến huyện rẻ và độ cạnh tranh ít hơn”, bà chia sẻ. Vị Chủ tịch cũng nói thêm FPT Retail hướng chuỗi nhà thuốc này theo chiến lược giá rẻ và đặt mục tiêu các cửa hàng phải có lãi sau 6 tháng hoạt động. “Đến giờ này, đã đạt 99% mục tiêu, có vài cửa hàng trên 6 tháng chưa có lãi vì lý do nào đấy”, bà cho biết.  Nữ lãnh đạo thông tin thêm trong năm 2022, chuỗi nhà thuốc Long Châu đã có lãi 52 tỷ đồng, với doanh thu trung bình 1.2 tỷ đồng mỗi cửa hàng. “Trong năm 2023, lợi nhuận của Long Châu có thể gấp đôi so với 2022”, bà cho biết.\n",
            "Predicted Label: ['FRT']\n",
            "True Label: ['FRT']\n",
            "========================================\n",
            "Content: Viettel Global: LNTT quí III tăng 188% lên 1.090 tỉ đồng ngay trong đại dịch Covid-19. Viettel Global (Mã: VGI) vừa công bố kết quả kinh doanh hợp nhất quý III và lũy kế 9 tháng đầu năm 2020. Quí vừa qua là một trong những quí ghi nhận hoạt động kinh doanh cốt lõi khởi sắc nhất trong nhiều năm trở lại đây. Cụ thể doanh thu thuần tăng trưởng 26% so với cùng kì năm trước, từ 4.531 tỉ lên 5.726 tỉ đồng. Cả lãi gộp – đạt 2.392 tỉ đồng cũng như tỉ suất lãi gộp trên doanh thu - đạt 41,8% đều là mức cao nhất từ trước đến nay. Đây là kết quả rất đặc biệt trong bối cảnh đại dịch Covid-19 vẫn diễn biến phức tạp trên phạm vi toàn cầu và tăng trưởng của ngành viễn thông thế giới đang đi ngang, ở nhiều quốc gia còn suy giảm. Chỉ riêng trong quí III/2020, Mytel (Viettel Myanmar) đã có lợi nhuận lên tới gần 1.000 tỉ đồng (Ảnh: VGI). Lợi nhuận trước thuế (LNTT) tăng 188%, từ 378 tỉ lên 1.090 tỉ đồng. Đây là quí thứ 2 kể từ đầu năm Viettel Global đạt lợi nhuận trên 1.000 tỉ đồng. Lợi nhuận sau thuế thuộc về cổ đông công ty mẹ tăng vọt từ 59 tỉ lên 876 tỉ đồng. Trong số các công ty con, kết quả kinh doanh nổi bật nhất thuộc về Natcom tại Haiti khi doanh thu quí 3 tăng gần gấp 3 cùng kì lên 1.544 tỉ đồng và lãi sau thuế tăng gấp đôi lên 209 tỉ đồng. Viettel Global cho biết Natcom đã bù được lỗ lũy kế và chia cổ tức.     Các thị trường châu phi Halotel tại Tanzania, Movitel tại Mozambique cũng có sự tăng trưởng hoạt động kinh doanh tốt. Lợi nhuận sau thuế của khu vực Đông Nam Á cũng tăng 50% lên 781 tỉ đồng.     Lợi nhuận từ công ty liên kết tăng 787 tỉ đồng so với cùng kì lên 674 tỉ đồng. Kết quả tích cực này là nhờ công ty Mytel tại Myanmar có lãi 935 tỉ đồng trong quí 3 trong khi cùng kì lỗ 634 tỉ đồng.      Lũy kế 9 tháng đầu năm, Viettel Global đạt 14.351 tỉ đồng doanh thu hợp nhất, tăng 16% so với cùng kì. Do tối ưu chi phí nên lãi gộp tăng 25% lên 5.658 tỉ đồng.     Với đà tăng trưởng được duy trì của Mytel, lợi nhuận từ công ty liên kết đạt hơn 1.511 tỉ đồng trong khi cùng kì -15 tỉ đồng.     Lợi nhuận trước thuế tăng 47%, từ 1.548 tỉ lên 2.272 tỉ đồng. Lợi nhuận ròng tăng 113%, từ 781 tỉ lên 1.664 tỉ đồng.     Tính đến 30/9, tổng tài sản của Viettel Global đạt 60.618 tỉ đồng, giảm nhẹ so với đầu năm do VTG cơ cấu giảm nợ phải trả trong đó có nợ vay ngân hàng để tối ưu hoạt động tài chính. Nhờ vào kết quả kinh doanh tích cực vốn chủ sở hữu tăng hơn 2.600 tỉ lên gần 31.500 tỉ.\n",
            "Predicted Label: ['VGI']\n",
            "True Label: ['VGI']\n",
            "========================================\n",
            "Content: Viettel Global: Lợi nhuận năm 2020 sau kiểm toán cao nhất 5 năm. Với kết quả kinh doanh tích cực cùng xu hướng đi lên của thị trường, cổ phiếu VGI của Viettel Global đã tăng mạnh từ quý IV/2020 đến nay. Tổng Công ty cổ phần Đầu tư Quốc tế Viettel (Viettel Global - Mã: VGI) vừa công bố kết quả kinh doanh hợp nhất năm 2020 đã được kiểm toán.  Theo đó, doanh thu thuần từ hoạt động kinh doanh đạt xấp xỉ 18.962 tỷ đồng và lợi nhuận trước thuế đạt 1.201 tỷ đồng – tương ứng tăng 85 tỷ và 102 tỷ đồng so với báo cáo tài chính tự lập. Viettel Global cho biết nguyên nhân khiến lợi nhuận tăng là do giảm chi phí dự phòng nợ phải thu khó đòi của công ty mẹ. Lợi nhuận sau thuế và lợi nhuận sau thuế thuộc về cổ đông công ty mẹ đạt lần lượt là 429 tỷ và 560 tỷ đồng. So với năm 2019, doanh thu của Viettel Global tăng 1.858 tỷ, tương ứng tăng 11% và lợi nhuận trước thuế tăng 1.190 tỷ đồng lên 1.201 tỷ đồng, đây là mức lợi nhuận cao nhất trong vòng 5 năm.  Động lực tăng trưởng của cả hệ thống đến từ sự tăng trưởng kinh doanh tốt từ các công ty thị trường nước ngoài, trong đó có phần đóng góp không nhỏ của Công ty Mytel tại Myanmar và Công ty Natcom tại Haiti, đồng thời trích lập dự phòng phải thu khó đòi giảm làm chi phí quản lý doanh nghiệp giảm. Một trong những điểm tích cực nhất trong số liệu tài chính 2020 của Viettel Global là kết quả kinh doanh từ các công ty liên kết.  Theo đó, Mytel cùng các công ty liên kết khác của Viettel Global đạt tổng doanh thu gần 16.300 tỷ đồng trong năm vừa qua, tăng 38% so với mức 11.800 tỷ của năm 2019. Lợi nhuận thuần của các công ty liên kết tăng gấp 5 lần lên 3.242 tỷ đồng, trong đó phần ghi nhận vào kết quả kinh doanh của Viettel Global là 1.589 tỷ đồng. Nguồn: Viettel Global Về cơ cấu doanh thu, thị trường Đông Nam Á vẫn đóng góp chủ đạo với hơn 9.140 tỷ đồng, tiếp đến là châu Phi với 6.600 tỷ và Mỹ Latin đạt 3.200 tỷ đồng.  Tại thời điểm cuối năm, tổng tài sản và vốn chủ sở hữu của Viettel Global đạt lần lượt là 59.0040 tỷ và 29.868 tỷ đồng.  Với kết quả kinh doanh tích cực cùng xu hướng đi lên của thị trường, cổ phiếu VGI của Viettel Global đã tăng mạnh từ quý IV/2020 đến nay. Hiện tại, giá trị vốn hóa của Viettel Global đạt hơn 123.000 tỷ đồng, tương đương hơn 5,3 tỷ USD.\n",
            "Predicted Label: ['VGI']\n",
            "True Label: ['VGI']\n",
            "========================================\n",
            "Content: Đạm Cà Mau nâng chỉ tiêu lợi nhuận 2020 lên 9 lần trước giờ chốt sổ. Dù điều chỉnh giảm doanh thu hơn nghìn tỷ, kế hoạch lãi sau thuế năm 2020 của Đạm Cà Mau được điều chỉnh lên 479 tỷ đồng, gấp hơn 9 lần so với kế hoạch ban đầu đã đề ra. Ngày 22/12, Hội đồng quản trị (HĐQT) CTCP Phân bón Dầu khí Cà Mau (Mã: DCM) đã thông báo quyết định điều chỉnh kế hoạch năm 2020 với tổng doanh thu hợp nhất còn 6.952,91 tỷ đồng, lợi nhuận sau thuế thành 479 tỷ đồng, lần lượt giảm 1.004 tỷ đồng và tăng 428 tỷ đồng so với kế hoạch ban đầu. Chi tiết kế hoạch tài chính điều chỉnh hợp nhất của Đạm Cà Mau năm 2020. (Nguồn: DCM). HĐQT của Đạm Cà Mau cũng sẽ chia cổ tức năm 2020 với tỷ lệ 6% thay vì không chia như kế hoạch trước đây. Tỷ lệ này cũng bằng với tỷ lệ chia cổ tức của công ty đã thực hiện năm 2019. Về chỉ tiêu sản lượng năm 2020, công ty điều chỉnh tăng sản lượng sản xuất và sản lượng kinh doanh đạm cà mau (u rê) lần lượt lên 895 nghìn tấn và 867 nghìn tấn. Trong khi đó, công ty điều chỉnh giảm sản lượng các loại phân khác như N46.Plus, NPK và phân bón tự doanh. Chi tiết điều chỉnh chỉ tiêu sản lượng năm 2020. (Nguồn: DCM). Về kế hoạch vốn đầu tư, công ty dự kiến năm 2020 sẽ tăng nguồn vốn chủ sở hữu lên gần 95 tỷ đồng và giảm các nguồn vay và khác xuống còn 58,6 tỷ đồng.  Ngoài ra, Đạm Cà Mau cũng điều chỉnh giảm khoản chi cho việc đầu tư xây dựng cơ bản và mua sắm tài sản, trang thiết bị từ mức 183 tỷ đồng xuống 153 tỷ đồng. Trên thị trường chứng khoán, cổ phiếu DCM vừa có phiên bứt tốc tăng trần trong phiên giao dịch ngày 22/12, tăng 170% so với mức giá thấp thành lập hồi cuối tháng 3 năm nay. \n",
            "Predicted Label: ['DCM']\n",
            "True Label: ['DCM']\n",
            "========================================\n",
            "Content: PNJ chi 182 tỷ đồng trả cổ tức đợt 2 năm 2020. Tỷ lệ thanh toán 8%/cổ phiếu, với 227,4 triệu cổ phiếu đang lưu hành trên thị trường, dự kiến PNJ sẽ bỏ ra khoảng 181,9 tỷ đồng để chi trả cổ tức cho cổ đông. CTCP Vàng bạc Đá quý Phú Nhuận (Mã: PNJ) ra thông báo tạm ứng cổ tức bằng tiền đợt hai năm 2020, tỷ lệ thanh toán 8%/cổ phiếu, tức mỗi cổ phiếu cổ đông sở hữu sẽ nhận về 800 đồng. Thời gian dự kiến thanh toán vào ngày 14/4/2021. Với 227,4 triệu cổ phiếu đang lưu hành trên thị trường, dự kiến PNJ sẽ bỏ ra khoảng gần 182 tỷ đồng để chi trả cổ tức cho cổ đông trong đợt này. Trước đó, ngày 22/12/2020, PNJ cũng đã tiến hành thanh toán cổ tức bằng tiền đợt một năm 2020 cho cổ đông, tỷ lệ 6%/cổ phiếu, tức mỗi cổ đông nhận về 600 đồng/cổ phiếu sở hữu. Năm 2020, Vàng bạc Đá quý Phú Nhuận đạt 17.511 tỷ đồng doanh thu thuần, tăng nhẹ 3%, song lãi sau thuế lại giảm 10% còn 1.069 tỷ đồng. So với kế hoạch đặt ra trong năm, PNJ đã thực hiện vượt 21% mục tiêu doanh thu và vượt 28% kế hoạch lợi nhuận năm. Về tình hình hoạt động, Hội đồng quản trị (HĐQT) PNJ vừa chốt ngày đăng ký cuối cùng để tham dự họp đại hội đồng cổ đông thường niên năm 2021 là ngày 16/3. Thời gian họp dự kiến từ ngày 17/4 đến ngày 30/4. Bên cạnh đó, tờ TTXVN số ra ngày 24/2 cũng đưa tin, Chủ tịch HĐQT PNJ bà Cao Thị Ngọc Dung đã chỉ đạo cho các phòng ban chức năng của PNJ sớm tìm kiếm nguồn vắc xin COVID-19 phối hợp với các đơn vị chức năng để tiêm phòng miễn phí cho toàn bộ nhân viên của công ty. Hiện tại, PNJ đang có khoảng gần 7.000 nhân viên.\n",
            "Predicted Label: ['PNJ']\n",
            "True Label: ['PNJ']\n",
            "========================================\n",
            "Content: Masan Group sắp phát hành 10.000 tỉ đồng trái phiếu mệnh giá 100.000 đồng/đơn vị. Lượng trái phiếu này được chia làm 4 đợt phát hành, dự kiến thực hiện trong quí I và quí II/2020. Nhà máy chế biến khoáng sản tại mỏ đa kim Núi Pháo. (Ảnh: Báo Tin tức) CTCP Tập đoàn Masan (Mã: MSN) đang có kế hoạch huy động 10.000 tỉ đồng trái phiếu theo phương thức chào bán ra công chúng trong năm 2020. Mệnh giá mỗi trái phiếu 100.000 đồng, tương ứng 100 triệu đơn vị.  Theo kế hoạch, lượng trái phiếu này sẽ được chào bán trong 4 đợt, đợt một và đợt hai lần lượt 3.000 tỉ đồng và 2.000 tỉ đồng thực hiện trong quí I. 4.000 tỉ đồng thu được dùng để góp thêm vào vốn điều lệ của Công ty TNHH Tầm nhìn Masan, 1.000 tỉ đồng dùng để thanh toán nợ vay nội bộ cho công ty con là Công ty TNHH Khai thác Chế biến Khoáng sản Núi Pháo.  Đợt ba và đợt 4 cũng phát hành huy động 3.000 tỉ đồng và 2.000 tỉ đồng, dự kiến thực hiện trong quí II năm nay. Số tiền thu được để cấp khoản vay cho công ty con là Công ty TNHH Masan Consumer Holdings 3.000 tỉ đồng, cấp khoản vay cho Công ty TNHH MNS Meat Hà Nam 1.000 tỉ đồng và góp thêm vốn điều lệ của Công ty TNHH Tầm Nhìn Masan 1.000 tỉ đồng.  Tất cả các loại trái phiếu phát hành đều có kì hạn 3 năm.  Đợt chào bán trái phiếu đầu tiên 3.000 tỉ đồng đã được phía Masan chính thức khởi động, thời gian đăng kí mua và nộp tiền từ 17/2 - 8/3. Nhà đầu tư sẽ phải mua tối thiểu 500 trái phiếu, tương ứng giá trị 50 triệu đồng.  Theo bản công bố, lãi suất áp dụng cho năm đầu tiên 9,3%, cho mỗi 6 tháng tiếp theo bằng 2,5% cộng thêm lãi suất tham chiếu.  Đại lý phát hành trái phiếu là CTCP Chứng khoán Kỹ Thương (Techcom Securities). \n",
            "Predicted Label: ['MSN']\n",
            "True Label: ['MSN']\n",
            "========================================\n",
            "Content: DIC Corp (DIG) nói gì khi cổ phiếu liên tục bị bán tháo. (ĐTCK) Sau 5 phiên giảm sàn liên tiếp, Tổng công ty cổ phần Đầu tư Phát triển Xây dựng (DIC Corp, mã DIG - sàn HoSE) đã lên tiếng về tình hình kinh doanh của Công ty.. Cụ thể, cổ phiếu DIG giảm những phiên gần đây đều do tác động tiêu cực của yếu tố vĩ mô và niềm tin của nhà đầu tư suy giảm. Đến nay, về tình hình sản xuất của DIC Corp vẫn đang diễn ra bình thường. HĐQT và Ban điều hành vẫn đang nổ lực tối đa để hoàn thành kế hoạch kinh doanh năm 2022.Tuy nhiên, trong bối cảnh tình hình kinh tế thế giới tiếp tục khó khăn, xung đột quân sự, tình hình địa chính trị ở một số khu vực đang diễn biến phức tạp nhất từ trước đến nay; lạm phát ở mức cao; xu hướng tăng lãi suất, chính sách thắt chặt tiền tệ và sự truyền thông liên tục về nguy cơ suy thoái toàn cầu. Trong nước, thị trường vốn suy giảm, giới hạn room tín dụng cho các ngân hàng thương mại do Ngân hàng Nhà nước cấp hàng năm đã được sử dụng hết, lãi suất tăng cao với tốc độ nhanh, tỷ giá có xu hướng tăng, các chính sách liên quan chưa được tháo gỡ… dẫn đến tâm lý lo ngại về cổ phiếu và nhóm ngành hoạt động của DIC Corp, giá cổ phiếu suy giảm liên tục dẫn đến hiện tượng nhà đầu tư mất kiên nhẫn và bán tháo trên diện rộng với cả nhiều mã cổ phiếu khác thuộc cùng nhóm ngành hoạt động.Để hạn chế sự giảm giá cổ phiếu bất thường, một mặt, DIC Corp tiếp tục nỗ lực trong hoạt động để gia tăng hiệu quả hoạt động sản xuất kinh doanh, có nhiều biện pháp hỗ trợ phù hợp. Bên cạnh đó, DIC Corp cũng kiến nghị Chính phủ, các cơ quan ban ngành khẩn trương có chính sách, giải pháp hỗ trợ thị trường vốn, thị trường chứng khoán nhằm lấy lại niềm tin của nhà đầu tư, càng chậm trễ thì sự hồi phục của thị trường, của doanh nghiệp càng khó khăn, phức tạp.Mua lại trái phiếu trước hạnĐồng thời, DIC Corp cũng thông qua kế hoạch mua lại 1.600 tỷ đồng trái phiếu trước hạn với mã trái phiếu là DIGH2124002 và DIGH2124003, thời gian dự kiến mua là ngày 10/11 và nguồn vốn thực hiện là từ nguồn hoạt động sản xuất kinh doanh và nguồn vốn khác.Trước đó, ngày 8/11, DIC Corp thay đổi 110 triệu cổ phiếu DIG làm tài sản đảm bảo thành 79,2 triệu cổ phiếu, tức giảm 30,8 triệu cổ phiếu. Trong đó, bên thứ ba bị bán giải chấp 55 triệu cổ phiếu DIG và thế chấp bổ sung 24,2 triệu cổ phiếu DIG từ việc chia cổ tức và cổ tức thưởng.Đồng thời, Công ty cũng đã phải bổ sung 80 bất động sản tại xã Đại Phước, huyện Nhơn Trạch, tỉnh Đồng Nai làm tài sản đảm bảo thay cho 3 lô trái phiếu thay thế cho 55 triệu cổ phiếu của bên thứ ba vừa bị bán giải chấp.Điểm đáng lưu ý, tài sản đảm bảo của 3 lô trái phiếu trên là toàn bộ tài sản, quyền tài sản và các quyền, lợi ích hiện hữu và phát sinh trong tương lai từ việc đầu tư, phát triển, khai thác tiêu thụ sản phẩm Dự án Khu Đô thị du lịch Long Tân với diện tích 331,9 ha tại huyện Nhơn Trạch, Đồng Nai; và cổ phiếu DIG và toàn bộ lợi tức, cổ tức phát hành từ số cổ phiếu thế chấp tại Ngân hàng mà Công ty sở hữu.Theo tìm hiểu, tính tới 30/9/2022, DIC Corp đang có tổng dư nợ ngắn hạn và dài hạn là 5.301,99 tỷ đồng, chiếm 33,5% tổng nguồn vốn và bằng 70,5% vốn chủ sở hữu. Trong đó, Công ty thuyết minh có tổng dư nợ 3.417,34 tỷ đồng trái phiếu.Công ty thuyết minh trái phiếu DIGH2124001 phát hành ngày 16/09/2021 với tổng mệnh giá 1.000 tỷ đồng, kỳ hạn 36 tháng và đáo hạn ngày 16/9/2024; trái phiếu DIGH2124002 phát hành ngày 30/9/2021 với tổng giá trị 1.000 tỷ đồng, kỳ hạn 36 tháng và đáo hạn ngày 30/9/2024; và lô trái phiếu DIGH2124003 phát hành ngày 26/11/2021 với tổng mệnh giá 1.500 tỷ đồng, thời hạn 36 tháng và đáo hạn ngày 26/11/2024.Trong đó, lãi suất được áp dụng 2 kỳ 6 tháng đầu tiên là 11%/năm cho 3 lô trái phiếu, các kỳ sau được tính là 4,25% cộng với lãi suất tiền gửi khách hàng cá nhân 12 tháng tại Ngân hàng HDBank nhưng không thấp hơn 10%/năm.Gia đình Chủ tịch liên tục bị bán giải chấp sau lời hứa đăng ký mua 10 triệu cổ phiếuCụ thể, trong các ngày 4/11, 7/11, 8/11 và 9/11, ông Nguyễn Thiện Tuấn cho biết đã bán ra 9.417.600 cổ phiếu DIG để giảm sở hữu từ 9,59% về còn 8,04% vốn điều lệ. Trong đó, lý do được đưa ra là do công ty chứng khoán bán giải chấp.Trước đó, từ ngày 27/10 đến 28/10, ông Nguyễn Thiện Tuấn và con trai là Nguyễn Hùng Cường cũng đã bị bán giải chấp 4.424.950 cổ phiếu DIG.Như vậy, theo thông báo từ DIC Corp tới ngày 10/11, ông Nguyễn Thiện Tuấn và con trai Nguyễn Hùng Cường đã bị bán giải chấp 13.842.550 cổ phiếu DIG, tương ứng 2,27% vốn điều lệ.Điểm đáng lưu ý, tại Đại hội cổ đông bất thường ngày 12/10/2022, ông Nguyễn Thiện Tuấn đã tỏ ra bất ngờ khi giá cổ phiếu DIG liên tục giảm trong thời gian qua. Ông Tuấn cho biết, con gái ông (Nguyễn Thị Thanh Huyền) đã đăng ký mua vào 20 triệu cổ phiếu và khẳng định nếu giá cổ phiếu DIG sau ngày 30/10 vẫn dưới 30.000 đồng/cổ phiếu, bản thân ông sẽ đăng ký mua thêm 10 triệu cổ phiếu.Tuy nhiên, tính tới ngày 10/11, vẫn chưa có động thái đăng ký mua như lời hứa của ông Nguyễn Thiện Tuấn ngày 12/10/2022 với cổ đông. Trong khi đó, gia đình ông Nguyễn Thiện Tuấn liên tục bị bán giải chấp cổ phiếu DIG.Cụ thể, bà Nguyễn Thị Thanh Huyền chỉ mua được 4.571.000 cổ phiếu trong tổng đăng ký 20 triệu cổ phiếu, tỷ lệ mua so với đăng ký là 22,9%, thời gian giao dịch từ ngày 7/10 đến 4/11. Như vậy, sau giao dịch bà Huyền nâng sở hữu từ 3,61% lên 4,36% vốn điều lệ. Lý do được đưa ra là không thu xếp kịp tài chính.Thực tế, từ đầu năm tới nay, ông Nguyễn Hùng Cường, anh trai bà Nguyễn Thị Thanh Huyền liên tục đăng ký mua nhưng chỉ mua với tỷ lệ rất nhỏ hoặc không mua vào cổ phiếu với lý do \"giá thị trường không phù hợp\" hoặc \"không thu xếp kịp tài chính\".\n",
            "Predicted Label: ['DIG']\n",
            "True Label: ['DIG']\n",
            "========================================\n",
            "Content: 'Lợi nhuận khác' đẩy lợi nhuận quí IV Hoà Bình tăng hơn 60%. Cả năm 2019, doanh thu của Xây dựng Hòa Bình tăng nhẹ lên 18.647 tỉ đồng; lợi nhuận sau thuế ở mức 407,3 tỉ đồng, giảm 34,3% so với năm trước. Dòng tiền từ hoạt động kinh doanh tiếp tục âm 366,9 tỉ đồng. CTCP Tập đoàn Xây dựng Hoà Bình (Mã: HBC) vừa công bố báo cáo tài chính quí IV/2019 với doanh thu thuần đạt 5.001 tỉ đồng, giảm 8% so với cùng kì năm trước.  Cùng với chi phí giá vốn giảm ít hơn doanh thu khiến lợi nhuận gộp giảm 23,3% so với cùng kì năm ngoái xuống còn 333 tỉ đồng; biên lợi nhuận gộp ở mức 6,7%. So với quí III/2019, biên lãi gộp của Xây dựng Hòa Bình đã có sự cải thiện trong quí IV, tuy nhiên vẫn ở vùng thấp nhất trong ba năm trở lại đây. Biên lợi nhuận gộp của Hòa Bình cải thiện trong quí IV/2019, tuy nhiên vẫn ở vùng thấp nhất trong ba năm. Nguồn: Đan Nguyên, BCTC Xây dựng Hòa Bình. Hoạt động tài chính trong quí IV không có nhiều thay đổi với doanh thu tài chính giảm từ 13,1 tỉ đồng xuống 12,5 tỉ đồng, chi phí tài chính giảm gần 2 tỉ đồng xuống 97,5 tỉ đồng.  Ngoài ra, chi phí quản lí doanh nghiệp cũng giảm 16,5% xuống 135,5 tỉ đồng khiến lợi nhuận thuần từ hoạt động kinh doanh chỉ còn 81 tỉ đồng, giảm một nửa so với cùng kì năm trước. Trong kì, Xây dựng Hòa Bình ghi nhận lợi nhuận khác 120,8 tỉ đồng tăng đột biến so với mức 8,9 tỉ đồng trong quí IV/2018. Hoà Bình không thuyết minh chi tiết về khoản mục này. Kết quả, lợi nhuận sau thuế của Hòa Bình đạt 163,8 tỉ đồng trong quí IV/2019, tăng trưởng hơn 30% so với cùng kì năm trước. Riêng lợi nhuận sau thuế thuộc về các cổ đông công ty mẹ ghi nhận 208 tỉ đồng, tăng trưởng 60,5%. Lũy kế cả năm 2019, doanh thu của công ty tăng nhẹ so với năm 2018 lên 18.647 tỉ đồng. Kết quả kém sắc trong 9 tháng đầu năm khiến lợi nhuận sau thuế cả năm ở mức 407,3 tỉ đồng, giảm 34,3% so với năm trước. Tổng tài sản của Xây dựng Hòa Bình tại ngày 31/12/2019 ở mức 16.700 tỉ đồng, tăng 5% so với thời điểm đầu năm. Trong đó, đáng chú ý nhất vẫn là các khoản phải thu chiếm 70,5% trong cơ cấu tài sản, tương đương giá trị 11.891 tỉ đồng. So với thời điểm cuối quí III/2019, các khoản phải thu đã giảm hơn 113 tỉ đồng. Dù vậy, con số này vẫn rất nhỏ so với số vốn chậm thu hồi vốn từ chủ đầu tư. Trong khi đó, các khoản vay ngân hàng gần 5.000 tỉ đồng khiến công ty chịu thêm hơn 321 tỉ đồng chi phí lãi vay trong năm vừa qua. Trong khi đó, dòng tiền của Xây dựng Hòa Bình cũng chưa được cải thiện. Năm 2019v dòng tiền từ hoạt động kinh doanh của nhà thầu này tiếp tục âm 366,9 tỉ đồng. \n",
            "Predicted Label: ['HBC']\n",
            "True Label: ['HBC']\n",
            "========================================\n",
            "Content: 30 doanh nghiệp sắp chốt quyền cổ tức, LienVietPostBank và SeABank chuẩn bị tăng vốn. Trong tuần từ 20/7 đến 26/7 trên thị trường chứng khoán Việt Nam có 30 doanh nghiệp giao dịch không hưởng quyền nhận cổ tức, trong đó có các ngân hàng như LienVietPostBank và SeABank. Nhân viên LienVietPostBank. (Ảnh: LPB). Một số doanh nghiệp đáng chú ý trong đợt này gồm: Ngân hàng TMCP Bưu Điện Liên Việt (LienVietPostBank – Mã: LPB) dự định trả cổ tức năm 2020 bằng cổ phiếu tỷ lệ 12%, tức là cổ đông sở hữu 100 cổ phiếu LPB tại ngày chốt quyền sẽ được nhận thêm 12 cổ phiếu. Ngày giao dịch không hưởng quyền là 21/7/2021. Ước tính LienVietPostBank sẽ cần phát hành gần 129 triệu cổ phiếu, vốn điều lệ sau chia cổ tức là 12.036 tỷ đồng. Phó Chủ tịch HĐQT Nguyễn Đức Thụy đang sở hữu gần 30,6 triệu cổ phiếu LPB. Công ty cổ phần Thaiholdings (nơi ông Thụy làm cổ đông lớn) cũng đang nắm giữ 20 triệu cổ phiếu LPB mới mua trong đầu tháng 7. Tổng cộng, ông Thụy và Thaiholdings sẽ được nhận gần hơn 6 triệu cổ phiếu LPB trong đợt cổ tức này. Một nhà băng khác là Ngân hàng TMCP Đông Nam Á (SeABank – Mã: SSB) cũng có kế hoạch trả cổ tức năm 2020 bằng cổ phiếu tỷ lệ 9,12%. Tổng số cổ phiếu dự kiến phát hành thêm là 110,24 triệu đơn vị. Vốn điều lệ sau phát hành là 13.189 tỷ đồng. Ngày giao dịch không hưởng quyền và ngày đăng ký cuối cùng lần lượt là 23/7 và 26/7/2021. LienVietPostBank và SeABank hiện nay đang đứng thứ 16 và 13 trong bảng xếp hạng vốn điều lệ các ngân hàng. Sau tăng vốn, hai nhà băng này sẽ lần lượt nhảy lên vị trí thứ 14 và 12. CTCP Đông Hải Bến Tre (Mã: DHC) dự định trả cổ tức đợt cuối năm 2020 bằng tiền mặt tỷ lệ 5% (tức 500 đồng/cp), tạm ứng cổ tức đợt 1/2021 cũng với giá trị 500 đồng/cp. Ngoài ra, công ty sẽ trả cổ tức bằng cổ phiếu tỷ lệ 25%, tương đương cần phát hành thêm 14,2 triệu đơn vị DHC. Ngày giao dịch không hưởng quyền của cả ba đợt cổ tức đều là 23/7. CTCP Thương mại Dịch vụ TNS Holdings (Mã: TN1) cũng sẽ trả cổ tức bằng tiền mặt tỷ lệ 5%, bằng cổ phiếu 45%. Ngày chốt quyền đều là 23/7. Nguồn: Song Ngọc tổng hợp từ SSI.\n",
            "Predicted Label: ['LPB']\n",
            "True Label: ['LPB']\n",
            "========================================\n",
            "Content: Năm 2022, TTC Land (SCR) báo lãi gần 79 tỷ đồng. (ĐTCK) Quý IV/2022, CTCP Địa ốc Sài Gòn Thương Tín – TTC Land (mã chứng khoán SCR - sàn HOSE) ghi nhận doanh thu hơn 319 tỷ đồng, tương đương cùng kỳ năm trước, nhưng doanh thu tài chính giảm mạnh khiến lợi nhuận chung suy giảm.. Cụ thể, doanh thu hoạt động kinh doanh chính đạt 319 tỷ đồng, tăng 185%, chủ yếu nhờ khai thác hiệu quả hoạt động kinh doanh từ cho thuê sàn thương mại tại các dự án Charmington La Pointe, TTC Plaza Bình Thạnh… đảm bảo tỷ lệ lấp đầy trên 95%. Cùng với đó là doanh thu đến từ dự án Carillon 7 tăng vào 3 tháng cuối năm, do thủ tục cấp sổ hồng cho cư dân được triển khai khẩn trương, đảm bảo quyền lợi cho khách hàng của TTC Land.Lợi nhuận gộp đạt 81 tỷ đồng, biên lợi nhuận gộp đạt 25%, nhích nhẹ so với cùng kỳ. Trong kỳ, doanh thu tài chính giảm tới 84,82%, đạt 35,96 tỷ đồng; trong khi chi phí tài chính giảm 23%, ghi nhận 174 tỷ đồng, do TTC Land thực hiện thu hồi các khoản cho vay ngắn hạn trong năm và trích trước các khoản chi phí tài chính, nên lợi nhuận sau thuế suy giảm.Lũy kế cả năm 2022, TTC Land ghi nhận doanh thu hoạt động kinh doanh chính gần 900 tỷ đồng, lợi nhuận trước thuế gần 79 tỷ đồng, sụt giảm khá mạnh so với năm 2021. Đây cũng là bức tranh chung của ngành bất động sản trong năm vừa qua, nhất là quý IV khi thị trường chịu tác động mạnh bởi lãi suất tăng cao và nhu cầu sụt giảm. Tại thời điểm 31/12/2022, tổng tài sản TTC Land đạt 9.691 tỷ đồng, giảm nhẹ so với đầu năm, trong đó, chiếm tỷ trọng lớn vẫn đến từ hàng tồn kho 2.776 tỷ đồng, chủ yếu là bất động sản dở dang tập trung tại các dự án trọng điểm.Các khoản phải thu ngắn hạn 2.980 tỷ đồng, dài hạn 1.267 tỷ đồng, và đầu tư tài chính dài hạn 1.004 tỷ đồng. Trong cơ cấu nguồn vốn, tổng nợ phải trả 4.623 tỷ đồng, trong đó tổng nợ vay ngắn và dài hạn 1.908 tỷ đồng, vốn chủ sở hữu 5.068 tỷ đồng, tỷ lệ nợ vay/vốn chủ sở hữu là 0,37 lần, tỷ lệ nợ/vốn chủ sở hữu là 0,9 lần, thấp so với trung bình ngành. Tỷ số thanh toán hiện hành là 1,77 lần, tỷ số thanh toán nhanh xấp xỉ 0,95 lần, đảm bảo khả năng thanh toán được kiểm soát. Cùng với đó, Công ty cũng không có dư nợ trái phiếu trong cơ cấu nợ. Vào đầu tháng 12/2022, 29.305.472 cổ phiếu SCR được niêm yết bổ sung trên Sở Giao dịch Chứng khoán TP.HCM (HOSE) do phát hành thêm cổ phiếu để chi trả cổ tức cho cổ đông hiện hữu, nâng tổng số lượng cổ phiếu có quyền biểu quyết đang lưu hành lên 395.661.775 cổ phiếu.\n",
            "Predicted Label: ['SCR']\n",
            "True Label: ['SCR']\n",
            "========================================\n",
            "Content: BCG và FiinRatings dừng xếp hạng tín nhiệm không liên quan đến triển vọng doanh nghiệp. Ngày 12/12/2022, CTCP Tập đoàn Bamboo Capital (HOSE: BCG) và FiinRatings - một bộ phận của FiinGroup chuyên về dịch vụ xếp hạng tín nhiệm - vừa công bố dừng thực hiện xếp hạng tín nhiệm trên cơ sở hết hạn hợp đồng giữa hai bên.  Việc công bố thông tin về việc chấm dứt hợp đồng xếp hạng tín nhiệm này được thực hiện theo quy định tại Nghị định 88/2014/NĐ-CP quy định về dịch vụ xếp hạng tín nhiệm, theo đó, khi doanh nghiệp không muốn tiếp tục tham gia dịch vụ xếp hạng tín dụng tự nguyện thì FiinRatings có trách nhiệm phải công bố thông tin về việc này. Vì vậy, đây là động thái bắt buộc và hoàn toàn bình thường mà FiinRatings phải làm khi BCG không còn nhu cầu gia hạn dịch vụ và hai bên đồng thuận chấm dứt hợp đồng.  Tuy nhiên, do những tuyên bố chưa rõ ràng về mặt thông tin của thông báo đã ban hành nên dẫn đến những phản ứng trái chiều và tạo nên cách hiểu tiêu cực không chính xác về tình hình tài chính của BCG, khiến nhà đầu tư phải quan ngại. Vì thế, FiinRatings và BCG đã cùng ra thông báo chung để khẳng định việc dừng xếp hạng tín nhiệm BCG trong bối cảnh hiện nay xuất phát từ nhu cầu của BCG và không đồng nghĩa với việc có sự thay đổi về kết quả xếp hạng tín nhiệm hay sức khỏe tài chính của doanh nghiệp.   FiinRatings là một trong những đơn vị xếp hạng tín nhiệm nội địa đầu tiên được Bộ Tài chính cấp phép và là đơn vị đầu tiên cung cấp dịch vụ xếp hạng tín nhiệm đại chúng tại Việt Nam. Cùng với sự hỗ trợ về chuyên môn nghiệp vụ từ đối tác chiến lược S&P Global Ratings, FiinRatings đưa ra ý kiến độc lập, khách quan về mức độ tín nhiệm của tổ chức phát hành. Những báo cáo của FiinRatings là kênh tham khảo quan trọng cho các nhà đầu tư, các tổ chức phát hành công cụ nợ và cho chính cổ đông của doanh nghiệp. Vào tháng 5/2021, nhằm minh bạch hoá thông tin, nên mặc dù pháp luật thời điểm đó không bắt buộc nhưng BCG đã tự nguyện và chủ động sử dụng dịch vụ của FiinRatings để đánh giá xếp hạng tín nhiệm cho BCG. Kết quả, tháng 8/2021, FiinRatings đánh giá BCG đạt mức “BB” với triển vọng tích cực. Sang tháng 6/2022, BCG tiếp tục duy trì mức “BB” với triển vọng ổn định trong dài hạn. Những đánh giá trên dựa vào các luận điểm chính: BCG đã thành công trong việc giảm tỷ lệ đòn bẩy xuống 2.7 lần từ mức 3.5 lần vào cuối năm 2021; tính tới thời điểm hiện nay, tỷ lệ nợ đòn bẩy của BCG chỉ còn 2.1 lần. Luận điểm quan trọng thứ hai là mảng năng lượng tái tạo đang đóng góp ngày càng tích cực vào doanh thu của BCG và vẫn còn dư địa phát triển mạnh mẽ. Bên cạnh đó, BCG cũng đang sở hữu những dự án bất động sản đa dạng, cao cấp, tọa lạc ở những vị trí “đắc địa”, sẽ giúp BCG duy trì nguồn thu trong giai đoạn 2022 - 2024.\n",
            "Predicted Label: ['BCG']\n",
            "True Label: ['BCG']\n",
            "========================================\n",
            "Content: Thưởng Tết năm 2022: Nhiều gam màu. Chỉ còn gần 2 tháng là đến Tết Nhâm Dần năm 2022. Thời điểm này, các doanh nghiệp và các cấp Công đoàn đang xây dựng kế hoạch chăm lo Tết cho người lao động. Theo các chuyên gia, bức tranh thưởng Tết năm nay sẽ có nhiều màu sắc, những lĩnh vực bị tác động mạnh bởi COVID-19 như du lịch, nghỉ dưỡng, vận tải..sẽ khó có thưởng Tết. Tuy nhiên, vẫn có doanh nghiệp cố gắng đảm bảo 1-3 tháng lương cho người lao động. Do ảnh hưởng nặng nề của dịch COVID-19, dự đoán, bức tranh thưởng Tết năm 2022 sẽ có nhiều thay đổi. Dịp Tết Nguyên đán Tân Sửu 2021, cả nước có 63.000 doanh nghiệp báo cáo về lương, thưởng Tết.  Với Tết Dương lịch, mức thưởng bình quân 2,3 triệu đồng/người, thưởng cao nhất 990 triệu đồng tại một doanh nghiệp tài chính ở TP HCM; Tết Nguyên đán mức thưởng bình quân 6,3 triệu đồng/người (tương đương 1 tháng lương, giảm 5% so với năm 2020). Thế nhưng bước sang năm 2022, TP HCM lại là địa phương bị ảnh hưởng nặng nề nhất bởi COVID-19 và sẽ khó có thể giữ được vị trí dẫn đầu về tiền lương, tiền thưởng như các năm trước. Ở phương diện các ngành nghề, theo dự báo của các chuyên gia kinh tế, một số lĩnh vực vẫn hoạt động tốt trong dịch bệnh như tài chính - ngân hàng, chứng khoán, y tế, dược phẩm, thương mại điện tử... thì khả năng thưởng sẽ vẫn khả quan. Còn lại về tổng thể, tình hình thưởng Tết nhìn chung sẽ giảm, các lĩnh vực vẫn khó khăn là du lịch, nghỉ dưỡng, dịch vụ, vận tải khách... khó có thưởng Tết. Điển hình như ngành vận tải, sau 3 tháng dừng hoạt động, từ cuối tháng 10 tới nay mới được hoạt động tối đa 50% số phương tiện, xe khách liên tỉnh còn khó khăn. Vừa hoạt động lại, giá xăng dầu lại tăng cao. Do đó, nếu như mọi năm thì thời điểm này các doanh nghiệp đã tính tới thưởng Tết, nhưng nay chỉ lo có việc làm cho người lao động để có thu nhập đã là may mắn. Ngành dệt may cũng gặp nhiều khó khăn. Đại diện một doanh nghiệp dệt may chia sẻ, nếu như mọi năm, tùy theo thâm niên và chức vụ, công ty sẽ có mức thưởng từ 5 - 50 triệu đồng/một nhân viên. Năm nay, có thể mức thưởng Tết chỉ tượng trưng gồm một tháng lương cơ bản hoặc phần quà.  Doanh nghiệp này cũng chia sẻ trong 4 tháng phải ngưng việc, công ty vẫn đảm bảo chế độ cơ bản cho người lao động. Công ty vẫn luôn đồng hành và phát triển cùng người lao động nhưng do dịch kéo dài nên kinh tế của công ty chưa thể hồi phục, đơn hàng thì có nhưng giá vật liệu cao khiến doanh thu giảm. Người lao động cũng hết sức đồng cảm với lãnh đạo doanh nghiệp. Ảnh minh hoạ: TTXVN. Một số lĩnh vực vẫn hoạt động tốt trong dịch bệnh như tài chính - ngân hàng, chứng khoán..khả năng mức thưởng vẫn khả quan.  Theo tìm hiểu tại một ngân hàng thương mại lớn nằm trong nhóm Big4 (4 NHTM Nhà nước lớn nhất của Việt Nam), chính sách thưởng Tết năm nay đến thời điểm hiện tại chưa có gì thay đổi so với năm ngoái.  Dịp Tết cán bộ nhân viên sẽ được bổ sung thêm 1 tháng lương. Cần phải nói thêm rằng Big4 đều trả lương nhân sự theo KPI (chỉ số đo lường hiệu suất, hiệu quả công việc), tiền lương mỗi tháng sẽ được doanh nghiệp giữ lại 10-20%, sau đó cuối năm căn cứ KPI để quyết toán, khoản này nếu cộng cả năm cũng tương đương thêm 2 tháng lương, nhưng thực chất lại là tiền lương chưa lĩnh trong cả năm của người lao động.  Nhìn lại năm 2021, một số ngân hàng chi thưởng Tết 7-8 tháng lương, tuy nhiên cũng rất ít nhân sự có thể đạt được mức thưởng này. Đối với lĩnh vực xây dựng, bất động sản, các doanh nghiệp cũng chịu tác động không nhỏ từ đại dịch COVID-19. Tuy nhiên, cũng có doanh nghiệp vẫn đảm bảo việc làm và tiền lương hàng tháng cho người lao động, cùng với mức thưởng Tết 3 tháng lương. \"Trong bối cảnh quý III/ 2021, nhiều địa phương thực hiện giãn cách xã hội và các hoạt động kinh tế trầm lắng, doanh nghiệp vẫn nỗ lực duy trì các hoạt động sản xuất – kinh doanh trong ba lĩnh vực chính là xây dựng, bất động sản và đầu tư tài chính, duy trì quyền lợi và chế độ chính sách cho CBNV, người lao động như: Đảm bảo thu nhập 15 tháng lương/năm, không thay đổi so với năm trước, không cắt giảm lương ngay cả đối với những nhân sự làm việc online, bị cách ly do dịch bệnh, hoặc trong thời gian doanh nghiệp phải hoạt động cầm chừng khi áp dụng giãn cách xã hội, đặc biệt vẫn đảm bảo đời sống và thu nhập cho các thầy cô giáo của hệ thống giáo dục Lý Thái Tổ (đơn vị thành viên của Vinaconex), một lĩnh vực bị ảnh hưởng rất lớn từ dịch bệnh. Các nội dung trong thỏa ước lao động cũng được thực hiện đầy đủ (sinh nhật, ngày lễ, hiếu hỷ). Đây là nỗ lực rất lớn thể hiện sự quan tâm sâu sắc của ban lãnh đạo tới đời sống của người lao động\" – Ông Nguyễn Mạnh Cường, Chủ tịch Công đoàn Tổng Công ty Vinaconex chia sẻ. Trong năm 2021, Vinaconex cũng chủ động phối hợp với các cơ sở y tế để tổ chức xét nghiệm, tiêm  sớm cho CBCNV, người lao động; kiểm tra, giám sát thực hiện các quy định phòng chống dịch bệnh như 5K, 5T; đồng thời chủ động xây dựng kịch bản ứng phó nhằm đảm bảo hoạt động  -  an toàn, không bị gián đoạn.  Đối với một số công trình xây dựng phải tạm dừng thi công trong điều kiện giãn cách xã hội, Tổng công ty và các đơn vị thành viên đã hỗ trợ lương thực thiết yếu, tiền mặt, hỗ trợ xét nghiệm COVID-19 theo đúng quy định, bổ sung công cụ, dụng cụ nấu ăn … để người lao động đảm bảo sức khỏe, đời sống và yên tâm thực hiện giãn cách. Người lao động Vinaconex được lấy mẫu xét nghiệm COVID-19 ngay tại công trình, dự án. (Ảnh: Vinaconex). Từ câu chuyện lương thưởng nhìn rộng ra có thể thấy rằng, chính sách đầu tư cho người lao động chính là khoản đầu tư sinh lời của doanh nghiệp vì khi được quan tâm, chăm sóc chu đáo, người lao động sẽ tận lực cống hiến cho sự phát triển lâu dài của doanh nghiệp. Điều này càng trở nên ý nghĩa trong bối cảnh nhiều doanh nghiệp đang thiếu lao động để phục hồi sản xuất. Trong bối cảnh COVID-19 ảnh hưởng không nhỏ đến tiền lương, tiền thưởng Tết của người lao động, mới đây, Tổng Liên đoàn Lao động Việt Nam đã ban hành kế hoạch tổ chức các hoạt động chăm lo cho đoàn viên, người lao động dịp Tết Nguyên đán Nhâm Dần 2022, với tổng kinh phí lên tới 2.400 tỷ đồng. Dự kiến, sẽ có 8 triệu lao động được chăm lo Tết (mức 300.000 đồng/người) từ nguồn kinh phí công đoàn.\n",
            "Predicted Label: ['TLH']\n",
            "True Label: ['VCG']\n",
            "========================================\n",
            "Content: 'Bầu' Đức hứa xoá sạch gần 5.900 tỷ nợ BIDV của HAGL trước năm 2026. Trong tâm thư gửi cổ đông, \"bầu\" Đức chia sẻ định hướng phát triển của HAGL là sẽ phát triển song song hai lĩnh vực cốt lõi là chăn nuôi và trái cây đồng thời duy trì một số ngành nghề phụ trợ khác để tận dụng lợi thế về nguyên vật liệu sản xuất. Ông Đoàn Nguyên Đức (\"bầu\" Đức), Chủ tịch HĐQT Công ty cổ phần Hoàng Anh Gia Lai (HAGL - Mã: HAG) vừa có tâm thư chia sẻ về các kế hoạch kinh doanh tới cổ đông sau khi vẫn chưa thể tổ chức Đại hội đồng cổ đông (ĐHĐCĐ) thường niên do dịch COVID-19. Với mảng chăn nuôi, \"bầu\" Đức dự kiến cuối năm 2021, tập đoàn sẽ hoàn thiện toàn bộ hệ thống chuồng trại để sẵn sàng cho năm 2022 triển khai nuôi 15.000 heo nái sinh sản và 300.000 heo thịt xuất chuồng mỗi năm. HAGL bắt đầu ghi nhận doanh thu từ bán heo trong quý IV/2020. Quý II, doanh thu từ bán heo gần 190 tỷ, ngang ngửa với doanh thu trái cây. Trong đó, biên lợi nhuận gộp mảng trái cây là hơn 22% trong quý II còn mảng bán heo lên tới hơn 49%. Ở ngành cây ăn trái, HAGL sẽ đầu tư duy trì khoảng 10.000 ha trồng các loại cây gồm chuối và loại cây ăn trái khác. Riêng chuối, tại thời điểm này \"bầu\" Đức cho hay HAGL đã cơ bản đầu tư trồng hoàn thiện được 5.000 ha tại Việt Nam, Lào, Campuchia. Dự kiến, năng suất thu hoạch chuối bình quân từ năm 2022 sẽ đạt 50 tấn/ha. Định hướng của công ty được \"bầu\" Đức đưa ra là sẽ tập trung hai ngành chủ lực nêu trên, đồng thời cũng duy trì một số ngành nghề phụ trợ khác để tận dụng lợi thế về nguyên vật liệu sản xuất. Về tái cơ cấu tài chính, \"bầu\" Đức chia sẻ tới nay đã cơ bản hoàn thành, theo đó tình hình nợ của HAGL đã giảm đáng kể. Hiện, tập đoàn chỉ còn chủ yếu khoản nợ trái phiếu tại BIDV. \"Bầu\" Đức nói thêm HAGL đã có kế hoạch thanh lý một số tài sản không tạo ra lợi nhuận, tập trung thu hồi nợ từ các bên liên quan và sử dụng dòng tiền thu được từ sản xuất kinh doanh để hoàn tất trả nợ trái phiếu này trước cuối năm 2025. Tâm thư gửi đến cổ đông được \"bầu\" Đức phát đi trong bối cảnh cổ phiếu HAG đang ở vùng giá thấp nhất lịch sử, phía Thaco mới đây lên tiếng BIDV vẫn chưa giao giấy tờ đất do các tài sản đang được dùng để thế chấp cho các khoản nợ của HAGL và cho rằng HAGL đã \"thất hứa\" khi liên tục bán ra cổ phiếu HNG khiến cổ phiếu này tụt dốc, Sau khi không còn hợp nhất với CTCP Nông nghiệp Quốc tế Hoàng Anh Gia Lai (HAGL Agrico - Mã: HNG) từ ngày 8/1, quy mô tổng tài sản giảm mạnh, nợ vay của HAGL cũng đã giảm mạnh về mức thấp nhất trong vòng chục năm qua. Dù vậy, thanh khoản của HAGL vẫn là dấu hỏi khi lượng tiền mặt còn lại rất nhỏ so với quy mô tài sản, phần lớn tài sản thì đang nằm ở các khoản mục kém thanh khoản, đặc biệt là các khoản phải thu ngắn dài hạn tiếp tục tăng mạnh.  Tổng nợ đi vay tại ngày 30/6 là 8.279 tỷ đồng, giảm gần 5% so với cuối quý I và gấp gần 1,6 lần vốn chủ sở hữu. Trong đó nợ ngân hàng 1.656 tỷ đồng với 551 tỷ nợ dài hạn và 1.105 tỷ nợ ngắn hạn.  Các chủ nợ lớn của HAGL gồm ngân hàng Sacombank (524 tỷ), Eximbank (678 tỷ), Ngân hàng Liên doanh Lào Việt (262 tỷ), TPBank (192 tỷ),...  Ngoài nợ ngân hàng thì dư nợ trái phiếu của HAGL là hơn 6.481 tỷ đồng với 6.114 tỷ nợ dài hạn.  Trong đó, nợ trái phiếu của BIDV là 5.876 tỷ đồng được phát hành ngày 31/3/2017 và đáo hạn vào ngày cuối của năm 2026.  Theo thuyết minh trên báo cáo tài chính đã kiểm toán năm 2020, khoản nợ vay với BIDV này nhằm bổ sung vốn cho các dự án đầu tư và tái cấu trúc nợ vay.  Lãi suất của khoản vay này bằng trung bình cộng lãi suất tiền gửi tiết kiệm cá nhân kì hạn 12 tháng bằng VND của 4 ngân hàng (Agribank, BIDV, Vietcombank, Vietinbank) cộng với biên độ 3%. HAGL cho biết lãi suất của khoản vay này năm 2020 rơi vào khoảng 9,5 - 9,8%.  Tài sản đảm bảo cho số trái phiếu của BIDV gồm các quyền thuê đất tại Campuchia, Lào và gần 45 triệu cổ phiếu HAG thuộc sở hữu của \"bầu\" Đức.  Diễn biến giá cổ phiếu HAG nửa năm qua. (Nguồn: TradingView).\n",
            "Predicted Label: ['HAG']\n",
            "True Label: ['HNG']\n",
            "========================================\n",
            "Content: EVNGENCO3 giảm 3.456 tỷ đồng nợ vay trong 9 tháng đầu năm 2022. Sự hồi phục của nền kinh tế giúp kết quả hoạt động kinh doanh điện tăng trưởng so với cùng kỳ. Sản lượng điện lũy kế 9 tháng đầu năm đạt 23,87 tỷ kWh, tăng 5,88% so với cùng kỳ năm trước. Tổng Công ty Phát điện 3 (EVNGENCO3 - Mã PGV) vừa công bố báo cáo tài chính quý III/2022 với hoạt động kinh doanh điện cải thiện so với cùng kỳ. Tuy nhiên, diễn biến tỷ giá đã tác động đến chi phí tài chính của doanh nghiệp sản xuất điện này.  Đến cuối quý III, tỷ trọng vay nợ của EVNGENCO3 đã giảm xuống còn 58%. (Ảnh: PGV). Theo Báo cáo tài chính Công ty mẹ, doanh thu từ hoạt động sản xuất kinh doanh đạt 11.742 tỷ đồng, tăng 39,5% so với cùng kỳ. Tỷ suất lợi nhuận gộp tăng từ mức 10,2% cùng kỳ lên 13,7%. Nhờ đó, EVNGENCO3 báo lãi gộp đạt 1.600 tỷ đồng, tăng 86% so với quý III/2021. Sự hồi phục của nền kinh tế đi kèm là nhu cầu sử dụng điện đã giúp kết quả kinh doanh của EVNGENCO3 cùng nhiều doanh nghiệp điện tăng so với cùng kỳ năm 2021 - khoảng thời gian nhiều hoạt động kinh doanh đình trệ vì đại dịch COVID-19. Tuy nhiên, tỷ giá USD/VND tăng lại khiến chi phí tài chính của công ty mạnh lên hơn 1.278 tỷ đồng, ảnh hưởng đến thành quả từ hoạt động kinh doanh. Tương tự, lợi nhuận gộp trên báo cáo tài chính hợp nhất là 1.666 tỷ đồng tăng 86% so với cùng kỳ năm trước, lợi nhuận sau thuế hợp nhất quý III đạt 315,5 tỷ đồng, giảm 65% so với cùng kỳ. Theo giải trình của EVNGENCO3, chi phí tài chính trong kỳ là 1.261 tỷ đồng, tăng 963 tỷ đồng so với cùng kỳ năm 2021 do lỗ chênh lệch tỷ giá tăng 1.334 tỷ đồng. Cụ thể, quý 3 năm 2022, lỗ chênh lệch tỷ giá là 793 tỷ đồng, trong khi lãi chênh lệch tỷ giá quý 3 năm 2021 là 541 tỷ đồng. Chi phí lãi vay tăng 134 tỷ đồng. Áp lực kiềm chế lạm phát đã khiến Cục dự trữ liên bang Mỹ (Fed) cùng hàng loạt ngân hàng trung ương trên thế giới liên tục tăng lãi suất điều hành. Xu hướng tăng lãi suất và sự mạnh lên của đồng USD đã diễn ra trong thời gian dài. So với biến động của nhiều đồng tiền khác, VND vẫn khá ổn định ở nửa đầu năm 2022 nhưng đã tăng mạnh thời gian qua. Riêng quý III, tỷ giá USD/VND tại Vietcombank tăng 2,6%; tỷ giá JPY/VND ngược lại giảm hơn 3%. Đây cũng là hai đồng tiền chính trong các khoản vay ngoại tệ của EVNGENCO3. Tỷ trọng vay USD lớn là nguyên nhân chính khiến chênh lệch lỗ tỷ giá tăng cao. Tại thời điểm 30/9/2022, dư nợ vay của công ty tiếp tục được thu hẹp, đạt xấp xỉ 41.200 tỷ đồng, giảm gần 3.456 tỷ đồng so với đầu năm. Trong cơ cấu tổng nguồn vốn 70.484 tỷ đồng đến cuối quý III, tỷ trọng vay nợ đã giảm xuống còn 58%, từ mức 66% hồi đầu năm.  Đến cuối quý III, tỷ trọng vay nợ của EVNGENCO3 đã giảm xuống còn 58%. (Ảnh: PGV). Lũy kế 9 tháng đầu năm, doanh thu từ hoạt động kinh doanh Hợp nhất đạt 34.931 tỷ đồng, tăng 23% so với cùng kỳ năm 2021. Trong khi đó, lợi nhuận sau thuế hợp nhất lũy kế giảm hơn 32%, đạt xấp xỉ 1.736 tỷ đồng. Kết phiên giao dịch ngày 27/10, cổ phiếu PGV đóng cửa ở mức 20.600 đồng. Giá trị sổ sách tại thời điểm 30/9 đạt 14.926 đồng.\n",
            "Predicted Label: ['PGV']\n",
            "True Label: ['PGV']\n",
            "========================================\n",
            "Content: Hoá chất Đức Giang (DGC) dự kiến lãi 240 tỉ đồng quí IV, cán mốc lợi nhuận năm kỉ lục. Dự kiến hết năm 2020, Hoá chất Đức Giang đạt khoảng 945 tỉ đồng lãi sau thuế, ghi nhận mức lợi nhuận năm cao nhất lịch sử. Hội đồng quản trị (HĐQT) CTCP Tập đoàn Hoá chất Đức Giang (Mã: DGC) vừa công bố nghị quyết thông qua kế hoạch sản xuất kinh doanh quí IV/2020.  Quí IV, Hoá chất Đức Giang dự kiến đạt 1.750 tỉ đồng doanh thu hợp nhất, 240 tỉ đồng lãi sau thuế hợp nhất; tăng lần lượt 21% và 38% so với cùng kì. 9 tháng đầu năm, công ty đạt 4.652,5 tỉ đồng doanh thu, 705 tỉ đồng lãi sau thuế. Như vậy với kế hoạch quí IV như trên thì cả năm 2020, công ty dự kiến doanh thu khoảng 6.402 tỉ đồng doanh thu, 945 tỉ đồng lãi sau thuế. Theo thống kê của người viết thì đây dự kiến là mức lợi nhuận năm cao nhất lịch sử của Hoá chất Đức Giang. Nguồn: H.K tổng hợp từ báo cáo tài chính HĐQT của Đức Giang cũng thông qua kế hoạch rót tiền vào loạt dự án với tổng vốn lên tới 236 tỉ đồng. Công ty sẽ chi khoảng 66 tỉ đồng vào dự án axit phosphoric điện tử (HPO) 30.000 tấn/năm. Dự án dự kiến khởi công tháng 11/2020 và vận hành vào tháng 8/2021. Công ty sẽ đầu tư khoảng 100 tỉ đồng lập dự án nhà máy phốt pho đỏ 5.000 tấn/năm, dự án P2O5 5.000 tấn/năm sẽ được khởi công và hoàn thành trong năm 2021. Ngoài ra, Hoá chất Đức Giang sẽ dự chi khoảng 50 tỉ đồng vào dự án xử lí gypsum, dự kiến khởi công trong quí IV/2020 và đưa vào sử dụng trong tháng 1/2021. Bên cạnh đó, 20 tỉ đồng sẽ được đầu tư hoàn thành hệ đốt bùn mới và công ty cũng tiếp tục mở rộng kho Đình Vũ - Hải Phòng để phục vụ xuất khẩu. Cuối cùng, HĐQT của Hoá chất Đức Giang đã thông qua phương án tạm ứng cổ tức cho năm 2020 với tỉ lệ 15% bằng tiền (1.500 đồng/cp). Thời gian chốt danh sách cổ đông là dự kiến trong tháng 12/2020 và chi trả trong khoảng tháng 1/2021.  Theo nghị quyết đại hội đồng cổ đông thường niên 2020, cổ đông đã thông qua phương án cổ tức 30% của công ty.\n",
            "Predicted Label: ['DGC']\n",
            "True Label: ['DGC']\n",
            "========================================\n",
            "Content: Nam Long sẽ chào bán tối đa 1.000 tỷ đồng trái phiếu để đầu tư vào dự án 190 ha ở Long An. Theo phương án chào bán, 1.000 tỷ đồng trái phiếu sẽ được chia thành hai đợt phát hành, dự kiến diễn ra trong quý I và quý III năm nay. HĐQT CTCP Đầu tư Nam Long (Mã: NLG) vừa phê duyệt phương án phát hành trái phiếu ra công chúng với tổng giá trị tối đa là 1.000 tỷ đồng và kỳ hạn tối đa 7 năm. Tài sản đảm bảo gồm cổ phần của Nam Long tại CTCP Nam Long VCD (công ty con) và CTCP NNH Mizuki (công ty liên doanh). Nguồn vốn thu được sẽ được dùng để tăng vốn đầu tư vào CTCP Nam Long VCD - công ty con của Nam Long - qua đó phát triển dự án Waterpoint giai đoạn 2. Theo dự kiến, số trái phiếu nói trên sẽ được Nam Long chia thành hai đợt phát hành. Trong đó, đợt 1 diễn ra trong quý I, phát hành tối đa 700 tỷ đồng để đền bù, giải phóng mặt bằng, xây dựng cơ sở hạ tầng  Đợt 2 diễn ra trong quý III, phát hành tối đa 500 tỷ đồng để tiếp tục xây dựng cơ sở hạ tầng, công trình hoặc đóng tiền sử dụng đất. Waterpoint giai đoạn 2 có quy mô 190 ha với khoảng 6.538 sản phẩm, thuộc dự án Waterpoint có tổng quy mô 355 ha, thuộc địa phận tỉnh Long An (gần cao tốc Trung Lương, Bến Lức - Long Thành và được bao bọc bởi 5,8 km sông Vàm Cỏ Đông).  Waterpoint giai đoạn 1 (còn có tên gọi là South Gate) có quy mô 165 ha đã được mở bán từ năm 2020 với 976 căn hộ đã được bán trong năm, tương đương 3.762 tỷ đồng doanh thu, theo thống kê của Công ty Chứng khoán Yuanta Việt Nam. Theo CTCK MB (MBS), Nam Long đặt mục tiêu đạt giá trị bán hàng 11.000 - 12.000 tỷ đồng trong năm nay. Dự kiến trong quý I, Nam Long sẽ triển khai bán ba dự án. Cụ thể, doanh nghiệp sẽ chào bán các sản phẩm biệt thự lớn Grand Villa, phân khu Aquaria, thuộc dự án Waterpoint với giá từ 23 tỷ đồng. Bên cạnh đó, doanh nghiệp có kế hoạch chào bán khoảng 400 căn căn hộ biệt lập cao cấp Flora Panorama nằm trong khu đô thị Mizuki Park và 1.600 căn hộ biệt lập cao cấp Flora thuộc Akari City giai đoạn 2.  Trước đó trong năm 2021, Nam Long đã bàn giao 1.525 căn hộ tại dự án Akari City và 507 căn hộ tại dự án South Gate.  Ngoài ra, sau khi hợp nhất dự án Izumi City, Nam Long có 432 tỷ đồng thặng dư từ việc định giá lại tài sản. Đồng thời, việc hợp nhất dự án South Gate sau khi tăng tỷ lệ biểu quyết từ 50% lên 65% trong quý III/2021 cũng đem về cho Nam Long 361 tỷ đồng lợi nhuận tài chính. (Nguồn: MBS).  \n",
            "Predicted Label: ['NLG']\n",
            "True Label: ['NLG']\n",
            "========================================\n",
            "Content: Mưa cổ tức tiền mặt từ hàng chục doanh nghiệp, FPT sắp trả hơn 680 tỉ đồng. Trong tuần từ ngày 11/5 đến 18/5 có hơn 20 doanh nghiệp giao dịch không hưởng quyền nhận cổ tức bằng tiền mặt hoặc bằng cổ phiếu, nhiều công ty dự chi hàng trăm tỉ đồng để trả tiền mặt với tỉ lệ 10-30% mệnh giá. Một cửa hàng của FPT Retail - công ty liên kết của Công ty cổ phần FPT. Ảnh: Song Ngọc. Một số doanh nghiệp lớn hoặc có tỉ lệ cổ tức cao trong đợt này gồm: Công ty cổ phần FPT (Mã: FPT) dự định trả cổ tức tiền mặt tỉ lệ 10%, tương ứng mỗi cổ phiếu được nhận 1.000 đồng. Ngày giao dịch không hưởng quyền và ngày chi trả lần lượt là 13/5 và 5/6. Với vốn điều lệ hơn 6.800 tỉ đồng, dự tính FPT sẽ chi khoảng 680 tỉ cho đợt cổ tức sắp tới.  Ngoài ra, FPT cũng chốt quyền trả cổ tức bằng cổ phiếu tỉ lệ 15%. Sau khi phát hành thêm, dự kiến vốn điều lệ của công ty sẽ tăng lên trên 7.800 tỉ đồng. Trong quí I vừa qua FPT ghi nhận doanh thu tăng trưởng 17% lên 6.631 tỉ đồng; lĩnh vực công nghệ đóng góp 54% vào cơ cấu doanh thu.  Trong đó, dịch vụ công nghệ thông tin tại nước ngoài đem về 2.891 tỉ đồng, tăng trưởng 25,5% và chiếm 44% tổng doanh thu toàn công ty. Doanh thu khối viễn thông cũng tăng trưởng hơn 12% lên 2.668 tỉ đồng. Trong báo cáo phân tích mới đây, CTCP Chứng khoán Bản Việt (VCSC) nhận định mảng xuất khẩu phần mềm của FPT có thể được hưởng lợi trong giai đoạn sau khủng hoảng COVID-19 do khách hàng đa dạng hóa đối tác ở bên ngoài Trung Quốc và Ấn Độ.  Trong quí I/2020, FPT ghi nhận lãi sau thuế hợp nhất 937 tỉ đồng, tăng 18% so với quí I/2019 và đi ngược lại xu hướng kết quả kinh doanh giảm sút của nhiều doanh nghiệp. Đại gia ngành dược là Công ty cổ phần Dược Hậu Giang (Mã: DHG) dự định trả cổ tức bằng tiền mặt tỉ lệ 30%, tức là cổ đông sở hữu một cổ phiếu được nhận 3.000 đồng. Với gần 131 triệu cổ phiếu đang lưu hành, Dược Hậu Giang sẽ chi hơn 390 tỉ đồng trong đợt cổ tức này. Cổ đông lớn nhất của Dược Hậu Giang là Taisho Pharmaceutical (Nhật Bản) với tỉ lệ sở hữu 51,01%. Ước tính trong đợt cổ tức này Taisho sẽ thu về gần 200 tỉ đồng. Trong quí I vừa qua, Dược Hậu Giang đạt doanh thu thuần 858 tỉ đồng, tăng 12% so với cùng kì; lãi sau thuế 177 tỉ đồng, tăng 31%. Nhiều doanh nghiệp sắp chốt quyền trả cổ tức bằng tiền mặt tỉ lệ 20% gồm: CTCP Xuất khẩu Thủy sản Khánh Hòa (Mã: KSE), CTCP Sách và Thiết bị trường học Đà Nẵng (Mã: BED), CTCP Tư vấn Xây dựng Tổng hợp (Mã: NAC), CTCP Dầu Thực vật Tường An (Mã: TAC), CTCP Thép Thủ Đức - VnSteel (Mã: TDS). Nhiều doanh nghiệp dự định trả cổ tức tiền mặt tỉ lệ 12-18% như: Tổng Công ty Công nghiệp Dầu thực vật Việt Nam - CTCP (Mã: VOC), Công ty cổ phần 22 (Mã: C22), Công ty cổ phần 26 (Mã: X26) Tổng Công ty cổ phần Bảo Minh (Mã: BMI), Công ty cổ phần Sơn Đồng Nai (Mã: SDN), Công ty cổ phần Dược phẩm Dược liệu Pharmedic (Mã: PMC). Danh sách doanh nghiệp chốt quyền trả cổ tức và phát hành thêm tuần tới (Tổng hợp từ VNDirect): \n",
            "Predicted Label: ['FPT']\n",
            "True Label: ['FPT']\n",
            "========================================\n",
            "Content: Uỷ ban Chứng khoán đã thông qua kế hoạch chào mua công khai 46,68% cổ phần GTNFoods của Vinamilk. Mộc Châu Milk có chỗ đứng vững chắc tại miền Bắc và Vinamilk dự kiến sẽ hỗ trợ công ty mở rộng quy mô như mở rộng mạng lưới phân phối. CTCP Chứng khoán Bản Việt (VCSC) cho biết, CTCP Sữa Việt Nam (Mã: VNM) tổ chức họp mặt nhà đầu tư ngày 11/4. Doanh thu và lợi nhuận sau thuế của Vinamilk quý I đạt lần lượt 13.0000 tỉ đồng và 2.800 tỉ đồng, tăng 3% so với cùng kỳ. Công ty cho biết, doanh thu được thúc đẩy chủ yếu nhờ nhu cầu trong nước phục hồi, trong đó các ngành hàng và kênh phân phối đều đạt tăng trưởng tốt. Trong khi đó, xuất khẩu đi ngang so với cùng kỳ năm ngoái.  Doanh thu từ sữa từ kênh hiện đại tăng mạnh hơn nhiều so với kênh truyền thống. Ban lãnh đạo cho biết chi phí chiết khấu và khuyến mãi cho các kênh phân phối hiện đại thường cao hơn nên có biên lợi nhuận thấp hơn so với kênh truyền thống.  Biên lợi nhuận thuần giảm do giá bột sữa đầu vào tăng. Vinamilk cho biết, nhu cầu sữa từ Trung Quốc tăng cao và thuế suất cao hơn do các ưu đãi thuế cho các nhà máy của Vinamilk dần dần hết hiệu lực.  Trong các công ty con của Vinamilk, Angkor Milk tại Campuchia tiếp tục tăng trưởng mạnh với doanh thu và lợi nhuận tăng hơn 40% so với cùng kỳ năm ngoái nhờ mở rộng mạng lưới phân phối ngoài Phnom Penh. Ngày 1/4, Vinamilk đã tăng giá bán một số sản phẩm sữa bột thêm 1-2% để bù đắp cho chi phí sữa đầu vào tăng. Tỷ lệ chi phí tiếp thị/doanh thu giảm nhẹ so với cùng kỳ năm ngoái. Bên cạnh đó, tại buổi gặp gỡ, ban lãnh đạo cho biết, Vinamilk đã được Uỷ ban Chứng khoán Nhà nước thông qua kế hoạch chào mua công khai 46,68% cổ phần GTNFoods. Mộc Châu Milk, một công ty con gián tiếp của GTNFoods, là lý do chính khiến Vinamilk mong muốn mua lại cổ phần. Công ty này có chỗ đứng vững chắc tại miền Bắc và Vinamilk dự kiến hỗ trợ Mộc Châu Milk mở rộng quy mô, ví dụ như mở rộng mạng lưới phân phối.  Ban lãnh đạo cho biết, trước khi công bố kế hoạch chào mua công khai, Vinamilk đã gửi ban lãnh đạo GTNFoods thư bày tỏ lý do chào mua và mong muốn hợp tác để phát triển Mộc Châu Milk. Hiện tổng nguồn cung sữa nguyên liệu trong nước của Vinamilk đạt khoảng 1 triệu lít/ngày, trong đó 400.000 lít là từ các trang trại do công ty sở hữu. Công ty đang tích cực đầu tư vào các trang trại bò sữa để giảm phụ thuộc vào bột sữa nhập khẩu. Ban lãnh đạo cho biết các trang trại đã khấu hao xong có chi phí sản xuất xấp xỉ thế giới. Đối với các nông trại mới, thông thường cần 2-3 năm để có lãi. Về thị trường xuất khẩu, Vinamilk hiện đang chờ đợi Việt Nam và Trung Quốc ký kết hiệp định thương mại song phương để có thể chính thức xuất khẩu các mặt hàng chính, trong đó có sữa nước, sữa bột, và sữa đặc sang nước này.  Chương trình sữa học đường dự kiến sẽ mang lại khoảng 1 nghìn tỉ đồng doanh thu/năm (tương đương khoảng 2% tổng doanh thu 2018) trong 3 năm tới. Tuy nhiên, với mức giá chiết khấu mạnh mà Vinamilk đưa ra cho chương trình, ban lãnh đạo cho rằng chương trình sẽ gần như không mang lại lợi nhuận. Đối với sản phẩm mới, từ tháng tới, Vinamilk sẽ bắt đầu tung ra một số dòng sản phẩm mới nhắm vào thanh thiếu niên.Đây là đối tượng người tiêu dùng mà ban lãnh đạo cho rằng công ty chưa đáp ứng tốt.  Sữa nước hữu cơ của Vinamilk đạt doanh số bán tốt. Công ty cho biết gần đây đã mở rộng đàn bò hữu cơ gấp đôi lên 1.000 con.  Để đảm bảo cung sữa hữu cơ, Vinamilk đang xây dựng trang trại bò sữa hữu cơ tại tỉnh Thanh Hóa với đàn bò tổng cộng 2.000 con và một trang trại nữa tại Lào với đàn bò 4.000 con.Công ty dự kiến sẽ tiếp tục tung ra nhiều sản phẩm cao cấp hơn, đặc biệt là trong phân khúc sữa bột và sữa chua, nhằm khai thác xu hướng cao cấp hóa hiện nay. Năm 2019, Ban lãnh đạo đề ra mục tiêu doanh thu đạt 56.000 tỉ đồng, tăng 7% so với năm 2018 và lợi nhuận ròng đạt 10.500 tỉ đồng, tăng 2,5% cho năm 2019.  Đến nay, Vinamilk đã chốt được giá bột sữa cho sản xuất đến tháng 8/2019. Ban lãnh đạo kỳ vọng giá bột sữa trong thời gian tới sẽ giảm vì các báo cáo độc lập dự báo nguồn cung sữa trong mùa sản xuất tới sẽ cao.  Tuy nhiên, công ty cũng nhìn nhận tác động đối với biên lợi nhuận từ việc giá sữa bột tăng sẽ rõ rệt hơn trong 6 tháng cuối năm 2019. Trong trung hạn, Vinamilk đặt kế hoạch sẽ giữ được biên lợi nhuận trước thuế tối thiểu 20% so với 23% năm 2018. \n",
            "Predicted Label: ['VNM']\n",
            "True Label: ['VNM']\n",
            "========================================\n",
            "Content: TCM đặt mục tiêu lợi nhuận cao nhất từ trước tới nay. Cả hai kế hoạch doanh thu thuần và lợi nhuận ròng năm 2021 đều là chỉ tiêu cao nhất trong các kết quả thực hiện của doanh nghiệp kể từ trước tới nay. CTCP Dệt may - Đầu tư - Thương mại Thành Công (Mã: TCM) vừa công bố kế hoạch kinh doanh năm 2021 với mục tiêu doanh thu thuần đạt 4.218 tỷ đồng, lợi nhuận ròng dự kiến 290 tỷ đồng, lần lượt tăng 122% và 105% so với kết quả năm 2020. Cả hai kế hoạch doanh thu thuần và lợi nhuận ròng năm 2021 đều là chỉ tiêu cao nhất trong các kết quả thực hiện của doanh nghiệp kể từ trước tới nay. Trước đó, ông Lee Eun Hong, Tổng Giám đốc TCM, cho biết sẽ phấn đấu doanh thu năm 2021 đạt 300 triệu USD, tức hơn 6.900 tỷ đồng. Nguồn: M.H tổng hợp từ BCTC của TCM. TCM cho biết trong thời gian tới, công ty sẽ vừa đẩy mạnh đầu tư mở rộng các nhà máy may, dệt kim, nhuộm phục vụ các đơn hàng xuất khẩu, vừa đáp ứng các đơn hàng sợi, vải ngày càng cao của các doanh nghiệp dệt may Việt Nam để hưởng lợi từ Hiệp định CPTPP và EVFTA. Về mặt hàng thời trang, công ty phát triển trực tuyến thay vì mở chuỗi bán lẻ để đón đầu xu hướng mua sắm hiện đại. Sau giai đoạn cổ phiếu TCM tăng trưởng về thị giá kể từ đầu tháng 11/2020, giá TCM đang điều chỉnh về quanh vùng 80.000 đồng/cp, tăng 57% kể từ đầu năm 2021.\n",
            "Predicted Label: ['TCM']\n",
            "True Label: ['TCM']\n",
            "========================================\n",
            "Content: Bamboo Capital (BCG): IPO BCG Land trong quý III, điểm rơi lợi nhuận bất động sản vào nửa cuối năm. (ĐTCK) Sau 6 tháng, Bamboo Capital hoàn thành 30% kế hoạch doanh thu và 40% kế hoạch lợi nhuận song ban lãnh đạo Tập đoàn tự tin sẽ về đích kế hoạch năm vì các dự án bất động sản có điểm rơi lợi nhuận vào quý III và quý IV năm nay.. Dự án Hoian D’orThông tin trên được ông Phạm Minh Tuấn - Phó chủ tịch CTCP Bamboo Capital (BCG - sàn HOSE) trao đổi tại cuộc gặp gỡ nhà đầu tư trực tuyến vào chiều 9/8.Điểm rơi lợi nhuận quý III, IVTrong mảng bất động sản, các dự án đang triển khai theo đúng tiến độ và kế hoạch. Dự án Malibu Hội An với quy mô 96 biệt thự, 675 căn hộ nghỉ dưỡng đã hoàn thành tiện ích hồ bơi và khu cảnh quan, cây xanh xung quanh, đang hoàn thiện những hạng mục còn lại của khu condotel để bàn giao từ quý III/2022, tiếp tục hoàn thiện các hạng mục của Khu biệt thự và dự kiến bắt đầu bàn giao từ quý IV/2022.Một dự án bất động sản nghỉ dưỡng khác là Hoian D’or (TP. Hội An) thi công mặt ngoài khu shophouse để bàn giao cho khách từ cuối tháng 7/2022, đang thi công cảnh quan, thi công khách sạn…Tại TP.HCM, BCG đã bàn giao xong 10 villas còn lại của dự án King Crown Village (giai đoạn 1) và mở bán 200 căn hộ dự án King Crown Infinity trong quý II/2022. Hiện nay, dự án King Crown Infinity (quy mô 739 căn hộ văn phòng shophouse và các tầng thương mại) đã nghiệm thu thi công phần móng và sàn tầng trệt, đang tiếp tục thi công phần hầm.Tại Bình Định, dự án Casa Marina Premium, quy mô 160 biệt thự trên núi hướng biển, đã hoàn thiện xây dựng nhà mẫu, sales gallery và điểm check in cho du khách.Một dự án tiềm năng khác là Khu công nghiệp Cát Trinh, hiện BCG đang hoàn tất các thủ tục pháp lý để có thể khởi công năm sau và triển khai kinh doanh năm 2024.Mảng năng lượng với các dự án như điện gió Khai Long, điện gió Trà Vinh, điện gió Sóc Trăng, điện gió Cà Mau 1 và 2 vẫn được Tập đoàn chú trọng triển khai và hiện đang chờ quy hoạch điện VIII để thúc đẩy tiến độ.Ông Tuấn cho biết, các dự án chưa có giá điện của Chính phủ, Tập đoàn triển khai chủ yếu dựa vào vốn chủ sở hữu hoặc huy động vốn từ nhà thầu theo hình thức tài trợ EPC trả chậm. BCG cũng tìm kiếm nhà đầu tư chiến lược, ví dụ về điện gió đã làm việc với Semcorp để họ tham gia cùng, các dự án cũng có đối tác để cùng nhau bỏ vốn, hoặc như dự án Khai Long thì BCG huy động trái phiếu để xây dựng, khi có biểu giá điện thì nguồn vốn này sẽ được chuyển đổi sang tài trợ ngân hàng.  Trong lĩnh vực năng lượng tái tạo, BCG Energy dự kiến sẽ hoàn thành 150 MW điện mặt trời áp mái trong năm 2022. Trước đó, BCG Energy đã ký kết với SP Group sẽ cùng lắp đặt 500 MW điện mặt trời áp mái đến năm 2025. Đối với mảng điện gió, BCG Energy đặt mục tiêu triển khai 550 MW điện gió tại Tây Nam Bộ, dự kiến 180 MW đầu tiên sẽ COD trong năm 2023, 370 MW sẽ COD trong năm 2024.Thông tin quan trọng được lãnh đạo BCG chia sẻ tại buổi gặp gỡ là BCG Land sẽ thực hiện IPO trong quý III/2022. Hiện doanh nghiệp đã hoàn tất toàn bộ thủ tục hồ sơ và đã nộp lên Uỷ ban Chứng khoán Nhà nước, việc niêm yết sẽ cố gắng thực hiện trong quý IV/2022.Bức tranh tài chính vững vàng hơnLuỹ kế 6 tháng đầu năm 2022, BCG đã ghi nhận 2.133,9 tỷ đồng doanh thu và 877,1 tỷ đồng lợi nhuận sau thuế, tăng trưởng lần lượt 47,4% và 81,5% so với cùng kỳ năm 2021. Doanh thu 6 tháng đầu năm 2022 của BCG đến chủ yếu từ 3 mảng hoạt động lõi: mảng xây dựng - hạ tầng đóng góp 737,6 tỷ đồng, bất động sản là 543,4 tỷ đồng và năng lượng tái tạo là 584,7 tỷ đồng, sản xuất là 166,3 tỷ đồng.Như vậy, sau khi cơ cấu các mảng hoạt động, doanh thu và lợi nhuận quý II/2022 của BCG đã bớt phụ thuộc hơn vào hoạt động xây lắp của Tracodi, thay vào đó các mảng hoạt động mới đang dần hiệu quả và ghi nhận đóng góp tích cực hơn (xem bảng). Biên lợi nhuận gộp và biên lợi nhuận ròng 6 tháng 2022 tiếp tục cải thiện lên mức 38% và 41,1% cao hơn mức cùng kỳ và cả năm 2021.Sản lượng điện từ mảng năng lượng tái tạo đã đi vào ổn định và tiếp tục tăng trưởng 16,5% so với cùng kỳ, có 7 dự án điện áp mái bắt đầu vận hành trong 6 tháng đầu năm với tổng công suất thiết kế 8.716 kWp.Lợi nhuận quý II/2022 giảm so với quý I/2022 tuy nhiên vẫn tăng trưởng mạnh so với quý I/2021, trong đó mảng năng lượng tái tạo ghi nhận tăng trưởng lợi nhuận cao hơn do giảm cắt giảm sản lượng trong năm 2022. Lợi nhuận từ bất động sản theo chia sẻ của ông Phạm Minh Tuấn, sẽ có điểm rơi vào quý III/quý IV năm nay. Báo cáo tài chính của BCG cho thấy, các khoản mục Hàng tồn kho và Người mua trả tiền trước liên tục tăng trưởng, tính đến cuối quý II/2022 lần lượt đạt 2.773 tỷ đồng và 2.532 tỷ đồng, tăng lần lượt 30,3% và 33,1% so với cùng kỳ, đây là một trong những cơ sở đảm bảo cho tăng trưởng doanh thu và lợi nhuận của Tập đoàn các quý tới.Bức tranh tài chính của BCG khá tích cực khi quy mô tổng tài sản và vốn chủ sở hữu tiếp tục tăng trong 6 tháng 2022, tổng tài sản và vốn chủ sở hữu đạt 44.361 tỷ và 13.701 tỷ đồng, lần lượt tăng 17,7% và 64,1% so với cuối 2021.BCG đã tăng vốn chủ sở hữu lên mức 13.701 tỷ đồng thông qua các đợt tăng vốn và huy động vốn từ đối tác chiến lược. Điều này đã giúp giảm tỷ lệ tổng nợ/vốn chủ từ mức 7,1 lần vào quý IV/2020 xuống 2,2 lần tại thời điểm cuối quý II/2022, mức trung bình so với các công ty cùng ngành. Tỷ lệ nợ vay/vốn chủ sở hữu cũng giảm xuống mức 1 lần, tương đương trung bình ngành, từ mức đỉnh 2,5 lần của quý II/2021.\n",
            "Predicted Label: ['BCG']\n",
            "True Label: ['BCG']\n",
            "========================================\n",
            "Content: Đầu tư LDG (LDG) lên tiếng sau khi cổ phiếu giảm sàn do vụ án tại Dự án Khu dân cư Tân Thịnh vừa bị khởi tố. (ĐTCK) Sau khi Cơ quan Cảnh sát điều tra Công an tỉnh Đồng Nai quyết định khởi tố vụ án gần 500 căn biệt thự, nhà liền kề xây trái phép tại dự án khu dân cư Tân Thịnh, Chủ đầu tư dự án là CTCP Đầu tư LDG (mã LDG – sàn HoSE) đã lên tiếng giải thích rõ hơn.. Cụ thể, ngày 29/5, Cơ quan Cảnh sát điều tra Công an tỉnh Đồng Nai đã ra quyết định khởi tố vụ án để điều tra về hành vi lợi dụng chức vụ, quyền hạn trong khi thi hành công vụ xảy ra tại Dự án Khu dân cư Tân Thịnh do LDG làm chủ đầu tư tại xã Đồi 61 (huyện Trảng Bom, tỉnh Đồng Nai).LDG cho biết, ngày 07/04/2023, UBND tỉnh Đồng Nai đã tổ chức công bố bản Kết luận thanh tra ngày 23/03/2023 của Ủy ban Nhân dân tỉnh Đồng Nai đối với Dự án Khu dân cư Tân Thịnh và được truyền tải đến dư luận thông qua các Cơ quan truyền thông, báo chí.Việc khởi tố này nhằm mục đích làm rõ sai phạm của một số cá nhân, tổ chức theo nội dung Kiến nghị biện pháp xử lý tại Điểm 1, Mục Đ. Kiến Nghị Biện Pháp Xử Lý theo Kết luận Thanh tra.Việc Cơ quan Điều tra thuộc Công an tỉnh Đồng Nai tiến hành khởi tố Vụ án là bước tiếp theo để làm rõ sai phạm của một số cá nhân, tổ chức đã được đề cập trong Kết luận thanh tra.Về phía doanh nghiệp, Kết luận thanh tra có nêu các kết luận chính liên quan đến trách nhiệm như sau:Thứ nhất, kết luận nêu rõ các vi phạm hành chính của doanh nghiệp bao gồm xây dựng khi chưa hoàn thành các thủ tục xin phép về hạ tầng, chưa bổ sung đầy đủ hồ sơ thiết kế xây dựng, thiếu các hồ sơ liên quan đến hoạt động xây dựng hạ tầng, vi phạm hành chính trong quá trình khai thác, sử dụng đất đai. Trong đó, cơ quan chức năng đã ra quyết định xử phạt hành chính về giấy phép xây dựng đất đai. Doanh nghiệp đã chấp hành nộp phạt hành chính với số tiền hơn 6,5 tỷ đồng vào Kho bạc Nhà nước.Thứ hai, Ủy ban nhân dân tỉnh Đồng Nai yêu cầu thời gian tới, doanh nghiệp phải bổ sung các thủ tục còn thiếu về hoạt động xây dựng, thủ tục đất đai và các thủ tục pháp lý liên quan để sớm hoàn thiện các thủ tục hành chính theo quy định và báo cáo cơ quan chức năng liên quan về tiến độ thực hiện. Đồng thời, không được thực hiện bất kỳ giao dịch nào của dự án cho đến khi hoàn thành các thủ tục liên quan đến việc bán nhà hình thành tương lai.Với Kết luận thanh tra này, Dự án Khu dân cư Tân Thịnh sẽ được tiếp tục bổ sung các thủ tục để triển khai hoàn thành dự án.Công ty đang tiếp tục thực hiện bổ sung các thủ tục theo quy định và báo cáo cơ quan chức năng theo Kết luận Thanh tra để sớm hoàn thành pháp lý dự án, triển khai kinh doanh theo đúng trình tự pháp luật quy định.Theo tìm hiểu, Dự án khu dân cư Tân Thịnh thuộc xã Đồi 61, huyện Trảng Bom, Đồng Nai, tên thương mại là Khu đô thị thông minh Viva Park, tổng diện tích sử dụng đất là 18 ha, trong đó diện tích thương phẩm là 8,2 ha, diện tích sàn xây dựng là hơn 16 ha. Quy mô dự án dự kiến là 680 căn nhà phố và biệt thự và 8 căn shophouse, tổng vốn đầu tư dự kiến 1.290 tỷ đồng.LDG đã ký hợp đồng nguyên tắc bán nhà cùng 60 khách hàng với số tiền hơn 132 tỷ đồng. Các khách hàng đã thanh toán cho công ty từ 25% đến 95% giá trị hợp đồng, có 7 hộ chuyển đến sinh sống. Trong khi đó, dự này chưa đủ điều kiện bất động sản hình thành trong tương lai được đưa vào kinh doanh theo quy định của pháp luật và kinh doanh bất động sản.Tại ngày 31/3/2023, giá trị hàng tồn kho của LDG phần lớn đến từ Khu dân cư Tân Thịnh với 464 tỷ đồng, chiếm 42% tổng hàng tồn kho.\n",
            "Predicted Label: ['LDG']\n",
            "True Label: ['LDG']\n",
            "========================================\n",
            "Content: Sonadezi Châu Đức (SZC) chuẩn bị trả cổ tức năm 2021 với tỷ lệ 10%. (ĐTCK) CTCP Sonadezi Châu Đức (mã SZC - HoSE) thông qua kế hoạch trả cổ tức năm 2021.. Theo đó, ngày 1/9, Công ty chốt danh sách cổ đông trả cổ tức năm 2021 với tỷ lệ 10%, tương ứng cổ đông sở hữu 1 cổ phiếu sẽ nhận 1.000 đồng. Với 100 triệu cổ phiếu đang lưu hành, ước tính Công ty sẽ trả tổng cộng 100 tỷ đồng cổ tức trong đợt này.Thời gian thanh toán dự kiến là 28/9/2022.Xét về hoạt động kinh doanh, trong quý II/2022, Sonadezi Châu Đức ghi nhận doanh thu đạt 262,59 tỷ đồng, tăng 17% so với cùng kỳ và lợi nhuận sau thuế ghi nhận 61,17 tỷ đồng, giảm 44,1% so với cùng kỳ. Đáng lưu ý, biên lợi nhuận gộp giảm mạnh từ 66,8% về chỉ còn 35,2%.Trong kỳ, lợi nhuận gộp giảm 38,4% so với cùng kỳ, tương ứng giảm 57,6 tỷ đồng về 92,35 tỷ đồng; chi phí tài chính tăng 487,9%, tương ứng tăng thêm 8,44 tỷ đồng lên 10,17 tỷ đồng; chi phí bán hàng và quản lý doanh nghiệp giảm 40,3% so với cùng kỳ, tương ứng giảm 7,92 tỷ đồng về 11,71 tỷ đồng và các hoạt động khác biến động không đáng kể.Như vậy, mặc dù doanh thu tăng, nhưng lợi nhuận lại giảm mạnh trong kỳ, nguyên nhân chủ yếu do biên lợi nhuận gộp giảm mạnh dẫn tới lợi nhuận gộp giảm mạnh trong kỳ.Lũy kế trong 6 tháng đầu năm, Sonadezi Châu Đức ghi nhận doanh thu đạt 539,94 tỷ đồng, tăng 34,1% so với cùng kỳ và lợi nhuận sau thuế đạt 136,48 tỷ đồng, giảm 27,8% so với cùng kỳ.Trong năm 2022, Sonadezi Châu Đức đặt kế hoạch doanh thu tăng 6% lên 774,7 tỷ đồng và lợi nhuận sau thuế giảm 43% về 184 tỷ đồng. Như vậy, kết thúc 6 tháng đầu năm, Công ty hoàn thành 74,2% kế hoạch lợi nhuận năm.\n",
            "Predicted Label: ['SZC']\n",
            "True Label: ['SZC']\n",
            "========================================\n",
            "Content: Lãi ròng 2022 gấp 5 lần năm trước, ANV rút ngắn thời gian trả cổ tức. CTCP Nam Việt (Navico, HOSE: ANV) vừa thông báo thay đổi thời gian chi trả cổ tức năm 2021. Thời gian thanh toán sẽ được rút ngắn hơn vào ngày 31/03, thay vì 27/04/2023 như công bố trước đó. Cuối tháng 11/2022, Navico quyết định thay đổi thời gian chi trả cổ tức năm 2021 từ ngày 01/12/2022 sang ngày 27/04/2023, trễ gần 5 tháng so với kế hoạch ban đầu. Lý do được đưa ra là tình hình tài chính cuối năm gặp khó khăn, chuẩn bị không kịp nguồn tiền thanh toán. Trước đó, Công ty thông báo 31/10 là ngày chốt danh sách cổ đông trả cổ tức năm 2021 bằng tiền với tỷ lệ 10%, tương ứng cổ đông sở hữu 1 cp sẽ được nhận 1,000 đồng. Với hơn 132 triệu cp đang lưu hành, ước tính ANV cần chi hơn 132 tỷ đồng cho lần trả cổ tức này.  Thông tin Nam Việt rút ngắn thời gian thanh toán cổ tức gần 1 tháng trong bối cảnh Công ty vừa khép lại kỳ kinh doanh quý 4/2022 với kết quả tăng trưởng tích cực.   Theo BCTC hợp nhất quý 4/2022, doanh thu thuần trong kỳ của ANV hơn 1,144 tỷ đồng, tăng 8% và lãi ròng gần 107 tỷ đồng, tăng 96% so với cùng kỳ năm trước. Biên lãi gộp cải thiện từ 19.3% lên 20.6%. Lũy kế năm 2022, Navico ghi nhận doanh thu gần 4.9 ngàn tỷ đồng, tăng 40%; lãi trước thuế và lãi ròng lần lượt gần 774 tỷ đồng và gần 674 tỷ đồng, cùng gấp hơn 5 lần năm 2021. Năm 2022, Công ty kỳ vọng tổng doanh thu 4,900 tỷ đồng và lãi trước thuế 1,000 tỷ đồng. So với kế hoạch đề ra, Nam Việt thực hiện được hơn 77% mục tiêu lợi nhuận năm. Tính tới ngày 31/12/2022, tổng tài sản Công ty đạt 5,467 tỷ đồng, tăng 11% so với đầu năm. Trong đó, hàng tồn kho tăng 31%, lên 2,333 tỷ đồng, chiếm chủ yếu là thành phẩm 894 tỷ đồng.   Nợ phải trả ở thời điểm này là 2,585 tỷ đồng, tăng nhẹ 1% so với đầu năm. Trong đó, vay và nợ thuê tài chính ngắn hạn đạt 1,769 tỷ đồng, giảm 3%; vay và nợ thuê tài chính dài hạn đạt 152 tỷ đồng, giảm 27%.\n",
            "Predicted Label: ['ANV']\n",
            "True Label: ['ANV']\n",
            "========================================\n",
            " ===============================================\n",
            "\n",
            "Test Accuracy: 0.9529085872576177\n",
            "\n",
            " ===============================================\n"
          ]
        }
      ]
    },
    {
      "cell_type": "code",
      "source": [
        "report = classification_report(true_labels, predicted_labels)\n",
        "print(report)"
      ],
      "metadata": {
        "colab": {
          "base_uri": "https://localhost:8080/"
        },
        "id": "X0F3gqOsu3Gw",
        "outputId": "66f8a96c-699b-4b78-bb13-2a85e432049f"
      },
      "execution_count": 47,
      "outputs": [
        {
          "output_type": "stream",
          "name": "stdout",
          "text": [
            "              precision    recall  f1-score   support\n",
            "\n",
            "           0       1.00      0.67      0.80         6\n",
            "           1       1.00      1.00      1.00         4\n",
            "           2       0.70      0.78      0.74         9\n",
            "           3       0.86      0.86      0.86         7\n",
            "           4       1.00      1.00      1.00         7\n",
            "           5       0.80      1.00      0.89         4\n",
            "           6       0.86      1.00      0.92         6\n",
            "           7       1.00      1.00      1.00         9\n",
            "           8       0.95      1.00      0.97        18\n",
            "           9       0.91      1.00      0.95        10\n",
            "          10       1.00      0.83      0.91         6\n",
            "          11       0.88      1.00      0.93         7\n",
            "          12       0.93      1.00      0.96        13\n",
            "          13       1.00      1.00      1.00         5\n",
            "          14       1.00      1.00      1.00         5\n",
            "          15       1.00      1.00      1.00         6\n",
            "          16       1.00      0.88      0.94        17\n",
            "          17       1.00      1.00      1.00         4\n",
            "          18       0.83      1.00      0.91         5\n",
            "          19       1.00      1.00      1.00        18\n",
            "          20       0.67      1.00      0.80         4\n",
            "          21       1.00      0.80      0.89        10\n",
            "          22       1.00      1.00      1.00         7\n",
            "          23       1.00      1.00      1.00        15\n",
            "          24       1.00      1.00      1.00         8\n",
            "          25       1.00      1.00      1.00         6\n",
            "          26       0.56      1.00      0.71         5\n",
            "          27       1.00      1.00      1.00        26\n",
            "          28       1.00      0.90      0.95        10\n",
            "          29       1.00      1.00      1.00         6\n",
            "          30       1.00      0.94      0.97        16\n",
            "          31       0.80      1.00      0.89         4\n",
            "          32       1.00      1.00      1.00         7\n",
            "          33       1.00      1.00      1.00         6\n",
            "          34       1.00      1.00      1.00         4\n",
            "          35       0.82      0.64      0.72        28\n",
            "          36       1.00      1.00      1.00        11\n",
            "          37       1.00      0.94      0.97        16\n",
            "          38       0.91      1.00      0.95        10\n",
            "          39       1.00      1.00      1.00        13\n",
            "          40       1.00      1.00      1.00         7\n",
            "          41       0.95      0.95      0.95        19\n",
            "          42       1.00      1.00      1.00         7\n",
            "          43       1.00      1.00      1.00        10\n",
            "          44       1.00      1.00      1.00         8\n",
            "          45       0.96      0.96      0.96        23\n",
            "          46       1.00      1.00      1.00         7\n",
            "          47       1.00      1.00      1.00         7\n",
            "          48       0.97      0.97      0.97        29\n",
            "          49       1.00      1.00      1.00         4\n",
            "          50       1.00      1.00      1.00         9\n",
            "          51       1.00      1.00      1.00         6\n",
            "          52       1.00      1.00      1.00         5\n",
            "          53       1.00      1.00      1.00         4\n",
            "          54       0.92      0.85      0.88        13\n",
            "          55       0.95      0.97      0.96        39\n",
            "          56       1.00      1.00      1.00         9\n",
            "          57       1.00      1.00      1.00         8\n",
            "          58       0.96      0.96      0.96        23\n",
            "          59       0.75      1.00      0.86         6\n",
            "          60       1.00      1.00      1.00         7\n",
            "          61       0.89      1.00      0.94        24\n",
            "          62       1.00      1.00      1.00         5\n",
            "          63       1.00      1.00      1.00         9\n",
            "          64       1.00      1.00      1.00         4\n",
            "          65       1.00      1.00      1.00         5\n",
            "          66       1.00      1.00      1.00         4\n",
            "          67       1.00      1.00      1.00         5\n",
            "          68       1.00      1.00      1.00        12\n",
            "          69       1.00      1.00      1.00        20\n",
            "          70       0.92      0.92      0.92        12\n",
            "          71       0.91      1.00      0.95        10\n",
            "          72       1.00      1.00      1.00         5\n",
            "          73       1.00      1.00      1.00         4\n",
            "          74       0.85      1.00      0.92        11\n",
            "          75       0.83      1.00      0.91         5\n",
            "          76       1.00      1.00      1.00         5\n",
            "          77       0.86      1.00      0.92         6\n",
            "          78       0.67      0.40      0.50         5\n",
            "          79       1.00      0.78      0.88         9\n",
            "          80       1.00      0.80      0.89         5\n",
            "          81       1.00      0.95      0.98        22\n",
            "          82       1.00      1.00      1.00        37\n",
            "          83       0.77      1.00      0.87        10\n",
            "          84       1.00      1.00      1.00         5\n",
            "          85       1.00      1.00      1.00         7\n",
            "          86       0.91      0.91      0.91        11\n",
            "          87       0.83      1.00      0.91         5\n",
            "          88       1.00      1.00      1.00         5\n",
            "          89       1.00      0.96      0.98        26\n",
            "          90       0.80      1.00      0.89         4\n",
            "          91       1.00      1.00      1.00         6\n",
            "          92       1.00      1.00      1.00         5\n",
            "          93       1.00      0.75      0.86         4\n",
            "          94       1.00      1.00      1.00         4\n",
            "          95       1.00      0.88      0.93        16\n",
            "          96       1.00      1.00      1.00         9\n",
            "          97       1.00      1.00      1.00         8\n",
            "          98       1.00      0.86      0.92         7\n",
            "          99       1.00      1.00      1.00        13\n",
            "         100       1.00      1.00      1.00        18\n",
            "         101       1.00      1.00      1.00         4\n",
            "         102       1.00      0.93      0.97        15\n",
            "         103       1.00      1.00      1.00         4\n",
            "         104       1.00      1.00      1.00         5\n",
            "         105       1.00      1.00      1.00        12\n",
            "         106       1.00      1.00      1.00         6\n",
            "         107       1.00      1.00      1.00         8\n",
            "         108       1.00      1.00      1.00         6\n",
            "         109       0.75      1.00      0.86         6\n",
            "         110       1.00      1.00      1.00         4\n",
            "         111       1.00      0.90      0.95        10\n",
            "         112       0.64      0.75      0.69        12\n",
            "         113       1.00      0.92      0.96        12\n",
            "         114       1.00      1.00      1.00         6\n",
            "         115       1.00      0.90      0.95        10\n",
            "         116       0.88      1.00      0.93         7\n",
            "         117       1.00      0.75      0.86         4\n",
            "         118       1.00      1.00      1.00         4\n",
            "         119       0.75      0.75      0.75         4\n",
            "         120       1.00      1.00      1.00         4\n",
            "         121       1.00      1.00      1.00         5\n",
            "         122       1.00      1.00      1.00         5\n",
            "         123       0.80      1.00      0.89         4\n",
            "         124       1.00      1.00      1.00         6\n",
            "         125       1.00      1.00      1.00         6\n",
            "         126       1.00      1.00      1.00         7\n",
            "         127       1.00      1.00      1.00        15\n",
            "         128       1.00      1.00      1.00         4\n",
            "         129       1.00      0.86      0.92         7\n",
            "         130       0.88      1.00      0.93         7\n",
            "         131       1.00      1.00      1.00         4\n",
            "         132       1.00      1.00      1.00         7\n",
            "         133       0.80      1.00      0.89         4\n",
            "         134       1.00      1.00      1.00         8\n",
            "         135       1.00      1.00      1.00         5\n",
            "         136       1.00      1.00      1.00        10\n",
            "         137       1.00      0.86      0.92        14\n",
            "         138       0.80      1.00      0.89         4\n",
            "         139       1.00      1.00      1.00         6\n",
            "         140       1.00      1.00      1.00        11\n",
            "         141       1.00      1.00      1.00         7\n",
            "         142       0.80      1.00      0.89         4\n",
            "         143       1.00      1.00      1.00        18\n",
            "         144       0.82      0.75      0.78        12\n",
            "         145       0.89      0.81      0.85        21\n",
            "         146       1.00      0.75      0.86         4\n",
            "         147       1.00      1.00      1.00        17\n",
            "         148       0.80      0.57      0.67         7\n",
            "         149       1.00      0.96      0.98        23\n",
            "         150       1.00      1.00      1.00         4\n",
            "         151       0.86      1.00      0.92         6\n",
            "         152       1.00      1.00      1.00         5\n",
            "         153       1.00      1.00      1.00         4\n",
            "         154       1.00      1.00      1.00         4\n",
            "         155       1.00      1.00      1.00        11\n",
            "\n",
            "    accuracy                           0.95      1444\n",
            "   macro avg       0.95      0.96      0.95      1444\n",
            "weighted avg       0.96      0.95      0.95      1444\n",
            "\n"
          ]
        }
      ]
    },
    {
      "cell_type": "markdown",
      "source": [
        "# Naive Bayes"
      ],
      "metadata": {
        "id": "dQ72_pvwZ2pV"
      }
    },
    {
      "cell_type": "code",
      "source": [
        "from sklearn.feature_extraction.text import CountVectorizer\n",
        "from sklearn.naive_bayes import MultinomialNB\n",
        "from sklearn.pipeline import make_pipeline"
      ],
      "metadata": {
        "id": "ruqEZWsQZ5Qt"
      },
      "execution_count": 48,
      "outputs": []
    },
    {
      "cell_type": "code",
      "source": [
        "test_content = e_df.iloc[1].get(\"Content\")\n",
        "print(test_content)\n",
        "print(\"------------------------------------------------------------\")\n",
        "sentences = nltk.tokenize.sent_tokenize(test_content)\n",
        "for s in sentences:\n",
        "  print(s)"
      ],
      "metadata": {
        "id": "3CnlxtungvWe",
        "colab": {
          "base_uri": "https://localhost:8080/"
        },
        "outputId": "07a38c97-6fec-406c-e466-bf03d4d1da27"
      },
      "execution_count": 49,
      "outputs": [
        {
          "output_type": "stream",
          "name": "stdout",
          "text": [
            "Công ty Container Hòa Phát bị phạt hành chính 130 triệu đồng. Dự án nhà máy Sản xuất Container Hòa Phát tại tỉnh Bà Rịa – Vũng Tàu tổ chức thi công xây dựng khi chưa có giấy phép xây dựng. Hòa Phát đặt mục tiêu bán ra sản phẩm container đầu tiên trong quý IV năm nay. Ủy ban nhân dân tỉnh Bà Rịa – Vũng Tàu vừa cho biết Chủ tịch UBND tỉnh ngày 21/4 đã ban hành quyết định về việc xử phạt vi phạm hành chính đối với Công ty cổ phần Sản xuất Container Hòa Phát. Nguyên nhân là công ty đã tổ chức thi công xây dựng Nhà máy sản xuất container chở hàng khô theo tiêu chuẩn quốc tế tại Khu công nghiệp Phú Mỹ II mở rộng, thị xã Phú Mỹ mà không có giấy phép xây dựng. Container Hòa Phát bị phạt tiền 130 triệu đồng và phải dừng thi công công trình. Ngoài ra, công ty phải hoàn thành hồ sơ đề nghị cơ quan có thẩm quyền cấp giấy phép xây dựng. Thời hạn thực hiện biện pháp khắc phục hậu quả là 90 ngày, kể từ ngày nhận được quyết định xử phạt. Cũng trong ngày 21/4, Chủ tịch UBND tỉnh Bà Rịa – Vũng Tàu ra quyết định xử phạt Công ty cổ phần Điện lạnh Hòa Phát Phú Mỹ 130 triệu đồng. Nguyên nhân là công ty này đã tổ chức thi công xây dựng Nhà máy sản xuất tủ đông, tủ mát tại Lô B3, đường D9, Khu công nghiệp Phú Mỹ II mở rộng, Phường Tân Phước, thị xã Phú Mỹ khi không có giấy phép xây dựng. Điện lạnh Hòa Phát Phú Mỹ phải dừng xây dựng công trình, đồng thời hoàn thành hồ sơ đề nghị cơ quan có thẩm quyền cấp giấy phép xây dựng trong vòng 90 ngày kể từ ngày nhận được quyết định xử phạt. CTCP Sản xuất Container Hòa Phát là công ty con của CTCP Sản phẩm thép Hòa Phát. Tương tự, CTCP Điện lạnh Hòa Phát Phú Mỹ là công ty con của CTCP Điện máy gia dụng Hòa Phát. Cả hai công ty Sản phẩm thép Hòa Phát và Điện máy gia dụng Hòa Phát đều do Tập đoàn Hòa Phát trực tiếp sở hữu trên 99% vốn. Các nhà máy sản xuất container và đồ điện lạnh là những hạng mục được Tập đoàn Hòa Phát mở rộng đầu tư trong khoảng một năm gần đây do đánh giá triển vọng khả quan của hai lĩnh vực này. Cuối tháng 9/2021, Tập đoàn Hòa Phát thành lập CTCP Điện máy Gia dụng Hòa Phát với vốn điều lệ 1.000 tỷ đồng. Trong đó, tập đoàn góp 999 tỷ, tương ứng tỷ lệ sở hữu 99,9%. Ngày 30/11, Công ty Điện máy gia dụng Hòa Phát đã khởi công xây dựng Nhà máy sản xuất hàng gia dụng đầu tiên tại Khu công nghiệp Hòa Mạc, tỉnh Hà Nam. Theo kế hoạch, nhà máy sẽ hoàn thành xây dựng sau khoảng 5 tháng. Nhà máy có diện tích hơn 14 ha, các sản phẩm bao gồm máy làm mát không khí, máy lọc nước và máy lọc không khí. Công suất dự kiến khoảng 1 triệu sản phẩm/năm. Tỷ phú Trần Đình Long đặt mục tiêu Hòa Phát sẽ trở thành nhà sản xuất đồ gia dụng lớn nhất Việt Nam và kỳ vọng doanh thu 1 tỷ USD từ mảng này vào năm 2030. Hòa Phát sẽ tập trung vào các sản phẩm như điều hòa nhiệt độ, tủ lạnh, máy lọc nước, máy giặt. Khoảng 50% sản lượng sẽ được dành cho thị trường xuất khẩu, Chủ tịch HĐQT Trần Đình Long trả lời tờ Bloomberg vào tháng 10/2021. Ông Long nhận định: \"Trung Quốc có hai vấn đề khiến cho nhiều doanh nghiệp lớn chuyển sản xuất sang nước khác\", trong đó có Việt Nam. Vấn đề thứ nhất là GDP bình quân đầu người vượt ngưỡng 10.000 USD/năm, đồng nghĩa với chi phí nhân công lên cao, như thể hiện trong biểu đồ bên dưới. Vấn đề thứ hai là cuộc khủng hoảng thiếu năng lượng trầm trọng những tháng giữa năm 2021. Với nhà máy container, Hòa Phát kỳ vọng sẽ đưa dây chuyền vào chạy thử trong quý III và cung cấp sản phẩm đầu tiên ra thị trường vào quý IV năm nay. Nhà máy có tổng công suất 500.000 TEU/năm, tập trung vào các sản phẩm container phổ biến có chiều dài 20 feet và 40 feet. Trong đó, giai đoạn 1 có công suất 200.000 TEU/năm. Bà Rịa - Vũng Tàu nằm trong khu vực động lực phát triển của vùng Đông Nam Bộ, gần các cảng biển lớn như Cát Lái, Cái Mép-Thị Vải và có nhiều lợi thế hỗ trợ cho dự án sản xuất container. Các nhà máy sản xuất container và đồ điện lạnh đều sử dụng nguyên liệu đầu vào thép cuộn cán nóng (HRC) – sản phẩm mà Hòa Phát tự sản xuất được, qua đó đảm bảo tự chủ nguồn nguyên liệu và dễ kiểm soát giá thành. Trong đó, nhà máy container sử dụng loại thép HRC mác SPA-H đặc chủng, kháng thời tiết. Tại Việt Nam, chỉ có Khu Liên hợp Hòa Phát Dung Quất sản xuất được loại thép này. Biểu đồ sau đây cho thấy sản lượng tiêu thụ HRC của Hòa Phát trong tháng 3 vừa qua đạt mức cao kỷ lục 296.000 tấn.  Hòa Phát vừa công bố kết quả kinh doanh quý I/2021 với doanh thu khoảng 44.400 tỷ đồng và lãi sau thuế 8.200 tỷ, tăng trưởng lần lượt 41% và 17% so với cùng kỳ năm trước. Trong mảng điện máy gia dụng, Hòa Phát bắt đầu cung cấp máy làm mát không khí từ quý I/2022, bên cạnh các sản phẩm tủ lạnh, tủ đông và điều hòa không khí đã bán ra thị trường từ nhiều năm nay. Hòa Phát dự kiến các nhà máy đang xây tại Hà Nam và Bà Rịa – Vũng Tàu sẽ cho ra sản phẩm đầu tiên vào quý III năm nay, chủ yếu là máy lọc nước, máy lọc không khí, tủ mát.\n",
            "------------------------------------------------------------\n",
            "Công ty Container Hòa Phát bị phạt hành chính 130 triệu đồng.\n",
            "Dự án nhà máy Sản xuất Container Hòa Phát tại tỉnh Bà Rịa – Vũng Tàu tổ chức thi công xây dựng khi chưa có giấy phép xây dựng.\n",
            "Hòa Phát đặt mục tiêu bán ra sản phẩm container đầu tiên trong quý IV năm nay.\n",
            "Ủy ban nhân dân tỉnh Bà Rịa – Vũng Tàu vừa cho biết Chủ tịch UBND tỉnh ngày 21/4 đã ban hành quyết định về việc xử phạt vi phạm hành chính đối với Công ty cổ phần Sản xuất Container Hòa Phát.\n",
            "Nguyên nhân là công ty đã tổ chức thi công xây dựng Nhà máy sản xuất container chở hàng khô theo tiêu chuẩn quốc tế tại Khu công nghiệp Phú Mỹ II mở rộng, thị xã Phú Mỹ mà không có giấy phép xây dựng.\n",
            "Container Hòa Phát bị phạt tiền 130 triệu đồng và phải dừng thi công công trình.\n",
            "Ngoài ra, công ty phải hoàn thành hồ sơ đề nghị cơ quan có thẩm quyền cấp giấy phép xây dựng.\n",
            "Thời hạn thực hiện biện pháp khắc phục hậu quả là 90 ngày, kể từ ngày nhận được quyết định xử phạt.\n",
            "Cũng trong ngày 21/4, Chủ tịch UBND tỉnh Bà Rịa – Vũng Tàu ra quyết định xử phạt Công ty cổ phần Điện lạnh Hòa Phát Phú Mỹ 130 triệu đồng.\n",
            "Nguyên nhân là công ty này đã tổ chức thi công xây dựng Nhà máy sản xuất tủ đông, tủ mát tại Lô B3, đường D9, Khu công nghiệp Phú Mỹ II mở rộng, Phường Tân Phước, thị xã Phú Mỹ khi không có giấy phép xây dựng.\n",
            "Điện lạnh Hòa Phát Phú Mỹ phải dừng xây dựng công trình, đồng thời hoàn thành hồ sơ đề nghị cơ quan có thẩm quyền cấp giấy phép xây dựng trong vòng 90 ngày kể từ ngày nhận được quyết định xử phạt.\n",
            "CTCP Sản xuất Container Hòa Phát là công ty con của CTCP Sản phẩm thép Hòa Phát.\n",
            "Tương tự, CTCP Điện lạnh Hòa Phát Phú Mỹ là công ty con của CTCP Điện máy gia dụng Hòa Phát.\n",
            "Cả hai công ty Sản phẩm thép Hòa Phát và Điện máy gia dụng Hòa Phát đều do Tập đoàn Hòa Phát trực tiếp sở hữu trên 99% vốn.\n",
            "Các nhà máy sản xuất container và đồ điện lạnh là những hạng mục được Tập đoàn Hòa Phát mở rộng đầu tư trong khoảng một năm gần đây do đánh giá triển vọng khả quan của hai lĩnh vực này.\n",
            "Cuối tháng 9/2021, Tập đoàn Hòa Phát thành lập CTCP Điện máy Gia dụng Hòa Phát với vốn điều lệ 1.000 tỷ đồng.\n",
            "Trong đó, tập đoàn góp 999 tỷ, tương ứng tỷ lệ sở hữu 99,9%.\n",
            "Ngày 30/11, Công ty Điện máy gia dụng Hòa Phát đã khởi công xây dựng Nhà máy sản xuất hàng gia dụng đầu tiên tại Khu công nghiệp Hòa Mạc, tỉnh Hà Nam.\n",
            "Theo kế hoạch, nhà máy sẽ hoàn thành xây dựng sau khoảng 5 tháng.\n",
            "Nhà máy có diện tích hơn 14 ha, các sản phẩm bao gồm máy làm mát không khí, máy lọc nước và máy lọc không khí.\n",
            "Công suất dự kiến khoảng 1 triệu sản phẩm/năm.\n",
            "Tỷ phú Trần Đình Long đặt mục tiêu Hòa Phát sẽ trở thành nhà sản xuất đồ gia dụng lớn nhất Việt Nam và kỳ vọng doanh thu 1 tỷ USD từ mảng này vào năm 2030.\n",
            "Hòa Phát sẽ tập trung vào các sản phẩm như điều hòa nhiệt độ, tủ lạnh, máy lọc nước, máy giặt.\n",
            "Khoảng 50% sản lượng sẽ được dành cho thị trường xuất khẩu, Chủ tịch HĐQT Trần Đình Long trả lời tờ Bloomberg vào tháng 10/2021.\n",
            "Ông Long nhận định: \"Trung Quốc có hai vấn đề khiến cho nhiều doanh nghiệp lớn chuyển sản xuất sang nước khác\", trong đó có Việt Nam.\n",
            "Vấn đề thứ nhất là GDP bình quân đầu người vượt ngưỡng 10.000 USD/năm, đồng nghĩa với chi phí nhân công lên cao, như thể hiện trong biểu đồ bên dưới.\n",
            "Vấn đề thứ hai là cuộc khủng hoảng thiếu năng lượng trầm trọng những tháng giữa năm 2021.\n",
            "Với nhà máy container, Hòa Phát kỳ vọng sẽ đưa dây chuyền vào chạy thử trong quý III và cung cấp sản phẩm đầu tiên ra thị trường vào quý IV năm nay.\n",
            "Nhà máy có tổng công suất 500.000 TEU/năm, tập trung vào các sản phẩm container phổ biến có chiều dài 20 feet và 40 feet.\n",
            "Trong đó, giai đoạn 1 có công suất 200.000 TEU/năm.\n",
            "Bà Rịa - Vũng Tàu nằm trong khu vực động lực phát triển của vùng Đông Nam Bộ, gần các cảng biển lớn như Cát Lái, Cái Mép-Thị Vải và có nhiều lợi thế hỗ trợ cho dự án sản xuất container.\n",
            "Các nhà máy sản xuất container và đồ điện lạnh đều sử dụng nguyên liệu đầu vào thép cuộn cán nóng (HRC) – sản phẩm mà Hòa Phát tự sản xuất được, qua đó đảm bảo tự chủ nguồn nguyên liệu và dễ kiểm soát giá thành.\n",
            "Trong đó, nhà máy container sử dụng loại thép HRC mác SPA-H đặc chủng, kháng thời tiết.\n",
            "Tại Việt Nam, chỉ có Khu Liên hợp Hòa Phát Dung Quất sản xuất được loại thép này.\n",
            "Biểu đồ sau đây cho thấy sản lượng tiêu thụ HRC của Hòa Phát trong tháng 3 vừa qua đạt mức cao kỷ lục 296.000 tấn.\n",
            "Hòa Phát vừa công bố kết quả kinh doanh quý I/2021 với doanh thu khoảng 44.400 tỷ đồng và lãi sau thuế 8.200 tỷ, tăng trưởng lần lượt 41% và 17% so với cùng kỳ năm trước.\n",
            "Trong mảng điện máy gia dụng, Hòa Phát bắt đầu cung cấp máy làm mát không khí từ quý I/2022, bên cạnh các sản phẩm tủ lạnh, tủ đông và điều hòa không khí đã bán ra thị trường từ nhiều năm nay.\n",
            "Hòa Phát dự kiến các nhà máy đang xây tại Hà Nam và Bà Rịa – Vũng Tàu sẽ cho ra sản phẩm đầu tiên vào quý III năm nay, chủ yếu là máy lọc nước, máy lọc không khí, tủ mát.\n"
          ]
        }
      ]
    },
    {
      "cell_type": "code",
      "source": [
        "train_data, test_data, train_labels, test_labels = train_test_split(e_df['Content'], e_df['Encode Label'], random_state=42)"
      ],
      "metadata": {
        "id": "7ilSeDfvx3vm"
      },
      "execution_count": 50,
      "outputs": []
    },
    {
      "cell_type": "code",
      "source": [
        "model_nb = make_pipeline(CountVectorizer(), MultinomialNB())"
      ],
      "metadata": {
        "id": "xHy-8i_1hUHa"
      },
      "execution_count": 51,
      "outputs": []
    },
    {
      "cell_type": "code",
      "source": [
        "# Train the model\n",
        "model_nb.fit(train_data, train_labels)\n"
      ],
      "metadata": {
        "id": "ILdqAvj4hIvd",
        "colab": {
          "base_uri": "https://localhost:8080/",
          "height": 124
        },
        "outputId": "1897f522-36b3-4db5-c691-5ea189a10b66"
      },
      "execution_count": 52,
      "outputs": [
        {
          "output_type": "execute_result",
          "data": {
            "text/plain": [
              "Pipeline(steps=[('countvectorizer', CountVectorizer()),\n",
              "                ('multinomialnb', MultinomialNB())])"
            ],
            "text/html": [
              "<style>#sk-container-id-1 {color: black;background-color: white;}#sk-container-id-1 pre{padding: 0;}#sk-container-id-1 div.sk-toggleable {background-color: white;}#sk-container-id-1 label.sk-toggleable__label {cursor: pointer;display: block;width: 100%;margin-bottom: 0;padding: 0.3em;box-sizing: border-box;text-align: center;}#sk-container-id-1 label.sk-toggleable__label-arrow:before {content: \"▸\";float: left;margin-right: 0.25em;color: #696969;}#sk-container-id-1 label.sk-toggleable__label-arrow:hover:before {color: black;}#sk-container-id-1 div.sk-estimator:hover label.sk-toggleable__label-arrow:before {color: black;}#sk-container-id-1 div.sk-toggleable__content {max-height: 0;max-width: 0;overflow: hidden;text-align: left;background-color: #f0f8ff;}#sk-container-id-1 div.sk-toggleable__content pre {margin: 0.2em;color: black;border-radius: 0.25em;background-color: #f0f8ff;}#sk-container-id-1 input.sk-toggleable__control:checked~div.sk-toggleable__content {max-height: 200px;max-width: 100%;overflow: auto;}#sk-container-id-1 input.sk-toggleable__control:checked~label.sk-toggleable__label-arrow:before {content: \"▾\";}#sk-container-id-1 div.sk-estimator input.sk-toggleable__control:checked~label.sk-toggleable__label {background-color: #d4ebff;}#sk-container-id-1 div.sk-label input.sk-toggleable__control:checked~label.sk-toggleable__label {background-color: #d4ebff;}#sk-container-id-1 input.sk-hidden--visually {border: 0;clip: rect(1px 1px 1px 1px);clip: rect(1px, 1px, 1px, 1px);height: 1px;margin: -1px;overflow: hidden;padding: 0;position: absolute;width: 1px;}#sk-container-id-1 div.sk-estimator {font-family: monospace;background-color: #f0f8ff;border: 1px dotted black;border-radius: 0.25em;box-sizing: border-box;margin-bottom: 0.5em;}#sk-container-id-1 div.sk-estimator:hover {background-color: #d4ebff;}#sk-container-id-1 div.sk-parallel-item::after {content: \"\";width: 100%;border-bottom: 1px solid gray;flex-grow: 1;}#sk-container-id-1 div.sk-label:hover label.sk-toggleable__label {background-color: #d4ebff;}#sk-container-id-1 div.sk-serial::before {content: \"\";position: absolute;border-left: 1px solid gray;box-sizing: border-box;top: 0;bottom: 0;left: 50%;z-index: 0;}#sk-container-id-1 div.sk-serial {display: flex;flex-direction: column;align-items: center;background-color: white;padding-right: 0.2em;padding-left: 0.2em;position: relative;}#sk-container-id-1 div.sk-item {position: relative;z-index: 1;}#sk-container-id-1 div.sk-parallel {display: flex;align-items: stretch;justify-content: center;background-color: white;position: relative;}#sk-container-id-1 div.sk-item::before, #sk-container-id-1 div.sk-parallel-item::before {content: \"\";position: absolute;border-left: 1px solid gray;box-sizing: border-box;top: 0;bottom: 0;left: 50%;z-index: -1;}#sk-container-id-1 div.sk-parallel-item {display: flex;flex-direction: column;z-index: 1;position: relative;background-color: white;}#sk-container-id-1 div.sk-parallel-item:first-child::after {align-self: flex-end;width: 50%;}#sk-container-id-1 div.sk-parallel-item:last-child::after {align-self: flex-start;width: 50%;}#sk-container-id-1 div.sk-parallel-item:only-child::after {width: 0;}#sk-container-id-1 div.sk-dashed-wrapped {border: 1px dashed gray;margin: 0 0.4em 0.5em 0.4em;box-sizing: border-box;padding-bottom: 0.4em;background-color: white;}#sk-container-id-1 div.sk-label label {font-family: monospace;font-weight: bold;display: inline-block;line-height: 1.2em;}#sk-container-id-1 div.sk-label-container {text-align: center;}#sk-container-id-1 div.sk-container {/* jupyter's `normalize.less` sets `[hidden] { display: none; }` but bootstrap.min.css set `[hidden] { display: none !important; }` so we also need the `!important` here to be able to override the default hidden behavior on the sphinx rendered scikit-learn.org. See: https://github.com/scikit-learn/scikit-learn/issues/21755 */display: inline-block !important;position: relative;}#sk-container-id-1 div.sk-text-repr-fallback {display: none;}</style><div id=\"sk-container-id-1\" class=\"sk-top-container\"><div class=\"sk-text-repr-fallback\"><pre>Pipeline(steps=[(&#x27;countvectorizer&#x27;, CountVectorizer()),\n",
              "                (&#x27;multinomialnb&#x27;, MultinomialNB())])</pre><b>In a Jupyter environment, please rerun this cell to show the HTML representation or trust the notebook. <br />On GitHub, the HTML representation is unable to render, please try loading this page with nbviewer.org.</b></div><div class=\"sk-container\" hidden><div class=\"sk-item sk-dashed-wrapped\"><div class=\"sk-label-container\"><div class=\"sk-label sk-toggleable\"><input class=\"sk-toggleable__control sk-hidden--visually\" id=\"sk-estimator-id-1\" type=\"checkbox\" ><label for=\"sk-estimator-id-1\" class=\"sk-toggleable__label sk-toggleable__label-arrow\">Pipeline</label><div class=\"sk-toggleable__content\"><pre>Pipeline(steps=[(&#x27;countvectorizer&#x27;, CountVectorizer()),\n",
              "                (&#x27;multinomialnb&#x27;, MultinomialNB())])</pre></div></div></div><div class=\"sk-serial\"><div class=\"sk-item\"><div class=\"sk-estimator sk-toggleable\"><input class=\"sk-toggleable__control sk-hidden--visually\" id=\"sk-estimator-id-2\" type=\"checkbox\" ><label for=\"sk-estimator-id-2\" class=\"sk-toggleable__label sk-toggleable__label-arrow\">CountVectorizer</label><div class=\"sk-toggleable__content\"><pre>CountVectorizer()</pre></div></div></div><div class=\"sk-item\"><div class=\"sk-estimator sk-toggleable\"><input class=\"sk-toggleable__control sk-hidden--visually\" id=\"sk-estimator-id-3\" type=\"checkbox\" ><label for=\"sk-estimator-id-3\" class=\"sk-toggleable__label sk-toggleable__label-arrow\">MultinomialNB</label><div class=\"sk-toggleable__content\"><pre>MultinomialNB()</pre></div></div></div></div></div></div></div>"
            ]
          },
          "metadata": {},
          "execution_count": 52
        }
      ]
    },
    {
      "cell_type": "code",
      "source": [
        "# Predict the labels of the test set\n",
        "predictions = model_nb.predict(test_data)\n",
        "\n",
        "# Print out the accuracy\n",
        "print(f\"Accuracy: {accuracy_score(test_labels, predictions)}\")"
      ],
      "metadata": {
        "id": "vFY6ODvfyykq",
        "colab": {
          "base_uri": "https://localhost:8080/"
        },
        "outputId": "1ef3e455-737b-4a97-f8b4-002a82ea2ebb"
      },
      "execution_count": 53,
      "outputs": [
        {
          "output_type": "stream",
          "name": "stdout",
          "text": [
            "Accuracy: 0.6271468144044321\n"
          ]
        }
      ]
    }
  ],
  "metadata": {
    "colab": {
      "provenance": [],
      "gpuType": "T4",
      "machine_shape": "hm",
      "collapsed_sections": [
        "oAAmnOmSXj5a"
      ]
    },
    "kernelspec": {
      "display_name": "Python 3",
      "name": "python3"
    },
    "language_info": {
      "name": "python"
    },
    "accelerator": "GPU",
    "widgets": {
      "application/vnd.jupyter.widget-state+json": {
        "ac014e89250c4e309a05d723ba2c5134": {
          "model_module": "@jupyter-widgets/controls",
          "model_name": "HBoxModel",
          "model_module_version": "1.5.0",
          "state": {
            "_dom_classes": [],
            "_model_module": "@jupyter-widgets/controls",
            "_model_module_version": "1.5.0",
            "_model_name": "HBoxModel",
            "_view_count": null,
            "_view_module": "@jupyter-widgets/controls",
            "_view_module_version": "1.5.0",
            "_view_name": "HBoxView",
            "box_style": "",
            "children": [
              "IPY_MODEL_8994f6b419bb4a77b1d08280433c6a73",
              "IPY_MODEL_3427ad74744d4f248f700aef2800f1b2",
              "IPY_MODEL_2881748792e34c449b645ea9b9bf5d64"
            ],
            "layout": "IPY_MODEL_8eea9fd6241f4cf49d1b3cd16adab6c2"
          }
        },
        "8994f6b419bb4a77b1d08280433c6a73": {
          "model_module": "@jupyter-widgets/controls",
          "model_name": "HTMLModel",
          "model_module_version": "1.5.0",
          "state": {
            "_dom_classes": [],
            "_model_module": "@jupyter-widgets/controls",
            "_model_module_version": "1.5.0",
            "_model_name": "HTMLModel",
            "_view_count": null,
            "_view_module": "@jupyter-widgets/controls",
            "_view_module_version": "1.5.0",
            "_view_name": "HTMLView",
            "description": "",
            "description_tooltip": null,
            "layout": "IPY_MODEL_20e51559abb447208c9ae9fea1594e2d",
            "placeholder": "​",
            "style": "IPY_MODEL_d855322457964401a30a5945cd1bdfc2",
            "value": "Downloading (…)lve/main/config.json: 100%"
          }
        },
        "3427ad74744d4f248f700aef2800f1b2": {
          "model_module": "@jupyter-widgets/controls",
          "model_name": "FloatProgressModel",
          "model_module_version": "1.5.0",
          "state": {
            "_dom_classes": [],
            "_model_module": "@jupyter-widgets/controls",
            "_model_module_version": "1.5.0",
            "_model_name": "FloatProgressModel",
            "_view_count": null,
            "_view_module": "@jupyter-widgets/controls",
            "_view_module_version": "1.5.0",
            "_view_name": "ProgressView",
            "bar_style": "success",
            "description": "",
            "description_tooltip": null,
            "layout": "IPY_MODEL_93375d503d714137bc8f8a7611782659",
            "max": 678,
            "min": 0,
            "orientation": "horizontal",
            "style": "IPY_MODEL_d4fb6576668c4b7eb47c8db2a038bee8",
            "value": 678
          }
        },
        "2881748792e34c449b645ea9b9bf5d64": {
          "model_module": "@jupyter-widgets/controls",
          "model_name": "HTMLModel",
          "model_module_version": "1.5.0",
          "state": {
            "_dom_classes": [],
            "_model_module": "@jupyter-widgets/controls",
            "_model_module_version": "1.5.0",
            "_model_name": "HTMLModel",
            "_view_count": null,
            "_view_module": "@jupyter-widgets/controls",
            "_view_module_version": "1.5.0",
            "_view_name": "HTMLView",
            "description": "",
            "description_tooltip": null,
            "layout": "IPY_MODEL_a88e8f5d14b5471a9823dc7a2ea4e8bd",
            "placeholder": "​",
            "style": "IPY_MODEL_04baca36105942168368c083f9258b3d",
            "value": " 678/678 [00:00&lt;00:00, 29.5kB/s]"
          }
        },
        "8eea9fd6241f4cf49d1b3cd16adab6c2": {
          "model_module": "@jupyter-widgets/base",
          "model_name": "LayoutModel",
          "model_module_version": "1.2.0",
          "state": {
            "_model_module": "@jupyter-widgets/base",
            "_model_module_version": "1.2.0",
            "_model_name": "LayoutModel",
            "_view_count": null,
            "_view_module": "@jupyter-widgets/base",
            "_view_module_version": "1.2.0",
            "_view_name": "LayoutView",
            "align_content": null,
            "align_items": null,
            "align_self": null,
            "border": null,
            "bottom": null,
            "display": null,
            "flex": null,
            "flex_flow": null,
            "grid_area": null,
            "grid_auto_columns": null,
            "grid_auto_flow": null,
            "grid_auto_rows": null,
            "grid_column": null,
            "grid_gap": null,
            "grid_row": null,
            "grid_template_areas": null,
            "grid_template_columns": null,
            "grid_template_rows": null,
            "height": null,
            "justify_content": null,
            "justify_items": null,
            "left": null,
            "margin": null,
            "max_height": null,
            "max_width": null,
            "min_height": null,
            "min_width": null,
            "object_fit": null,
            "object_position": null,
            "order": null,
            "overflow": null,
            "overflow_x": null,
            "overflow_y": null,
            "padding": null,
            "right": null,
            "top": null,
            "visibility": null,
            "width": null
          }
        },
        "20e51559abb447208c9ae9fea1594e2d": {
          "model_module": "@jupyter-widgets/base",
          "model_name": "LayoutModel",
          "model_module_version": "1.2.0",
          "state": {
            "_model_module": "@jupyter-widgets/base",
            "_model_module_version": "1.2.0",
            "_model_name": "LayoutModel",
            "_view_count": null,
            "_view_module": "@jupyter-widgets/base",
            "_view_module_version": "1.2.0",
            "_view_name": "LayoutView",
            "align_content": null,
            "align_items": null,
            "align_self": null,
            "border": null,
            "bottom": null,
            "display": null,
            "flex": null,
            "flex_flow": null,
            "grid_area": null,
            "grid_auto_columns": null,
            "grid_auto_flow": null,
            "grid_auto_rows": null,
            "grid_column": null,
            "grid_gap": null,
            "grid_row": null,
            "grid_template_areas": null,
            "grid_template_columns": null,
            "grid_template_rows": null,
            "height": null,
            "justify_content": null,
            "justify_items": null,
            "left": null,
            "margin": null,
            "max_height": null,
            "max_width": null,
            "min_height": null,
            "min_width": null,
            "object_fit": null,
            "object_position": null,
            "order": null,
            "overflow": null,
            "overflow_x": null,
            "overflow_y": null,
            "padding": null,
            "right": null,
            "top": null,
            "visibility": null,
            "width": null
          }
        },
        "d855322457964401a30a5945cd1bdfc2": {
          "model_module": "@jupyter-widgets/controls",
          "model_name": "DescriptionStyleModel",
          "model_module_version": "1.5.0",
          "state": {
            "_model_module": "@jupyter-widgets/controls",
            "_model_module_version": "1.5.0",
            "_model_name": "DescriptionStyleModel",
            "_view_count": null,
            "_view_module": "@jupyter-widgets/base",
            "_view_module_version": "1.2.0",
            "_view_name": "StyleView",
            "description_width": ""
          }
        },
        "93375d503d714137bc8f8a7611782659": {
          "model_module": "@jupyter-widgets/base",
          "model_name": "LayoutModel",
          "model_module_version": "1.2.0",
          "state": {
            "_model_module": "@jupyter-widgets/base",
            "_model_module_version": "1.2.0",
            "_model_name": "LayoutModel",
            "_view_count": null,
            "_view_module": "@jupyter-widgets/base",
            "_view_module_version": "1.2.0",
            "_view_name": "LayoutView",
            "align_content": null,
            "align_items": null,
            "align_self": null,
            "border": null,
            "bottom": null,
            "display": null,
            "flex": null,
            "flex_flow": null,
            "grid_area": null,
            "grid_auto_columns": null,
            "grid_auto_flow": null,
            "grid_auto_rows": null,
            "grid_column": null,
            "grid_gap": null,
            "grid_row": null,
            "grid_template_areas": null,
            "grid_template_columns": null,
            "grid_template_rows": null,
            "height": null,
            "justify_content": null,
            "justify_items": null,
            "left": null,
            "margin": null,
            "max_height": null,
            "max_width": null,
            "min_height": null,
            "min_width": null,
            "object_fit": null,
            "object_position": null,
            "order": null,
            "overflow": null,
            "overflow_x": null,
            "overflow_y": null,
            "padding": null,
            "right": null,
            "top": null,
            "visibility": null,
            "width": null
          }
        },
        "d4fb6576668c4b7eb47c8db2a038bee8": {
          "model_module": "@jupyter-widgets/controls",
          "model_name": "ProgressStyleModel",
          "model_module_version": "1.5.0",
          "state": {
            "_model_module": "@jupyter-widgets/controls",
            "_model_module_version": "1.5.0",
            "_model_name": "ProgressStyleModel",
            "_view_count": null,
            "_view_module": "@jupyter-widgets/base",
            "_view_module_version": "1.2.0",
            "_view_name": "StyleView",
            "bar_color": null,
            "description_width": ""
          }
        },
        "a88e8f5d14b5471a9823dc7a2ea4e8bd": {
          "model_module": "@jupyter-widgets/base",
          "model_name": "LayoutModel",
          "model_module_version": "1.2.0",
          "state": {
            "_model_module": "@jupyter-widgets/base",
            "_model_module_version": "1.2.0",
            "_model_name": "LayoutModel",
            "_view_count": null,
            "_view_module": "@jupyter-widgets/base",
            "_view_module_version": "1.2.0",
            "_view_name": "LayoutView",
            "align_content": null,
            "align_items": null,
            "align_self": null,
            "border": null,
            "bottom": null,
            "display": null,
            "flex": null,
            "flex_flow": null,
            "grid_area": null,
            "grid_auto_columns": null,
            "grid_auto_flow": null,
            "grid_auto_rows": null,
            "grid_column": null,
            "grid_gap": null,
            "grid_row": null,
            "grid_template_areas": null,
            "grid_template_columns": null,
            "grid_template_rows": null,
            "height": null,
            "justify_content": null,
            "justify_items": null,
            "left": null,
            "margin": null,
            "max_height": null,
            "max_width": null,
            "min_height": null,
            "min_width": null,
            "object_fit": null,
            "object_position": null,
            "order": null,
            "overflow": null,
            "overflow_x": null,
            "overflow_y": null,
            "padding": null,
            "right": null,
            "top": null,
            "visibility": null,
            "width": null
          }
        },
        "04baca36105942168368c083f9258b3d": {
          "model_module": "@jupyter-widgets/controls",
          "model_name": "DescriptionStyleModel",
          "model_module_version": "1.5.0",
          "state": {
            "_model_module": "@jupyter-widgets/controls",
            "_model_module_version": "1.5.0",
            "_model_name": "DescriptionStyleModel",
            "_view_count": null,
            "_view_module": "@jupyter-widgets/base",
            "_view_module_version": "1.2.0",
            "_view_name": "StyleView",
            "description_width": ""
          }
        },
        "00953c8d99e94bacbef180663e6edf05": {
          "model_module": "@jupyter-widgets/controls",
          "model_name": "HBoxModel",
          "model_module_version": "1.5.0",
          "state": {
            "_dom_classes": [],
            "_model_module": "@jupyter-widgets/controls",
            "_model_module_version": "1.5.0",
            "_model_name": "HBoxModel",
            "_view_count": null,
            "_view_module": "@jupyter-widgets/controls",
            "_view_module_version": "1.5.0",
            "_view_name": "HBoxView",
            "box_style": "",
            "children": [
              "IPY_MODEL_8072250527b0414fa7ab0f03f6a8e0a9",
              "IPY_MODEL_fbb2d87fcd164b7c806ee51e886510b1",
              "IPY_MODEL_c76edda1553048ce8281e4f09429c8d2"
            ],
            "layout": "IPY_MODEL_3591fbf098014b838d9b229b66edf743"
          }
        },
        "8072250527b0414fa7ab0f03f6a8e0a9": {
          "model_module": "@jupyter-widgets/controls",
          "model_name": "HTMLModel",
          "model_module_version": "1.5.0",
          "state": {
            "_dom_classes": [],
            "_model_module": "@jupyter-widgets/controls",
            "_model_module_version": "1.5.0",
            "_model_name": "HTMLModel",
            "_view_count": null,
            "_view_module": "@jupyter-widgets/controls",
            "_view_module_version": "1.5.0",
            "_view_name": "HTMLView",
            "description": "",
            "description_tooltip": null,
            "layout": "IPY_MODEL_a1fd8495b01a497d99d957bf406c0cb9",
            "placeholder": "​",
            "style": "IPY_MODEL_7cd48eb4235b4335b6fe93cc01524969",
            "value": "Downloading (…)solve/main/vocab.txt: 100%"
          }
        },
        "fbb2d87fcd164b7c806ee51e886510b1": {
          "model_module": "@jupyter-widgets/controls",
          "model_name": "FloatProgressModel",
          "model_module_version": "1.5.0",
          "state": {
            "_dom_classes": [],
            "_model_module": "@jupyter-widgets/controls",
            "_model_module_version": "1.5.0",
            "_model_name": "FloatProgressModel",
            "_view_count": null,
            "_view_module": "@jupyter-widgets/controls",
            "_view_module_version": "1.5.0",
            "_view_name": "ProgressView",
            "bar_style": "success",
            "description": "",
            "description_tooltip": null,
            "layout": "IPY_MODEL_667ce99252374ead83cf9fbc678b3dd2",
            "max": 895321,
            "min": 0,
            "orientation": "horizontal",
            "style": "IPY_MODEL_f74706e1c9944a6f9c88aeed86e7ecef",
            "value": 895321
          }
        },
        "c76edda1553048ce8281e4f09429c8d2": {
          "model_module": "@jupyter-widgets/controls",
          "model_name": "HTMLModel",
          "model_module_version": "1.5.0",
          "state": {
            "_dom_classes": [],
            "_model_module": "@jupyter-widgets/controls",
            "_model_module_version": "1.5.0",
            "_model_name": "HTMLModel",
            "_view_count": null,
            "_view_module": "@jupyter-widgets/controls",
            "_view_module_version": "1.5.0",
            "_view_name": "HTMLView",
            "description": "",
            "description_tooltip": null,
            "layout": "IPY_MODEL_147d3fe1736e450388bffcd3670a6e71",
            "placeholder": "​",
            "style": "IPY_MODEL_ce382ab3391645ed8dc54d838ffbd744",
            "value": " 895k/895k [00:00&lt;00:00, 28.3MB/s]"
          }
        },
        "3591fbf098014b838d9b229b66edf743": {
          "model_module": "@jupyter-widgets/base",
          "model_name": "LayoutModel",
          "model_module_version": "1.2.0",
          "state": {
            "_model_module": "@jupyter-widgets/base",
            "_model_module_version": "1.2.0",
            "_model_name": "LayoutModel",
            "_view_count": null,
            "_view_module": "@jupyter-widgets/base",
            "_view_module_version": "1.2.0",
            "_view_name": "LayoutView",
            "align_content": null,
            "align_items": null,
            "align_self": null,
            "border": null,
            "bottom": null,
            "display": null,
            "flex": null,
            "flex_flow": null,
            "grid_area": null,
            "grid_auto_columns": null,
            "grid_auto_flow": null,
            "grid_auto_rows": null,
            "grid_column": null,
            "grid_gap": null,
            "grid_row": null,
            "grid_template_areas": null,
            "grid_template_columns": null,
            "grid_template_rows": null,
            "height": null,
            "justify_content": null,
            "justify_items": null,
            "left": null,
            "margin": null,
            "max_height": null,
            "max_width": null,
            "min_height": null,
            "min_width": null,
            "object_fit": null,
            "object_position": null,
            "order": null,
            "overflow": null,
            "overflow_x": null,
            "overflow_y": null,
            "padding": null,
            "right": null,
            "top": null,
            "visibility": null,
            "width": null
          }
        },
        "a1fd8495b01a497d99d957bf406c0cb9": {
          "model_module": "@jupyter-widgets/base",
          "model_name": "LayoutModel",
          "model_module_version": "1.2.0",
          "state": {
            "_model_module": "@jupyter-widgets/base",
            "_model_module_version": "1.2.0",
            "_model_name": "LayoutModel",
            "_view_count": null,
            "_view_module": "@jupyter-widgets/base",
            "_view_module_version": "1.2.0",
            "_view_name": "LayoutView",
            "align_content": null,
            "align_items": null,
            "align_self": null,
            "border": null,
            "bottom": null,
            "display": null,
            "flex": null,
            "flex_flow": null,
            "grid_area": null,
            "grid_auto_columns": null,
            "grid_auto_flow": null,
            "grid_auto_rows": null,
            "grid_column": null,
            "grid_gap": null,
            "grid_row": null,
            "grid_template_areas": null,
            "grid_template_columns": null,
            "grid_template_rows": null,
            "height": null,
            "justify_content": null,
            "justify_items": null,
            "left": null,
            "margin": null,
            "max_height": null,
            "max_width": null,
            "min_height": null,
            "min_width": null,
            "object_fit": null,
            "object_position": null,
            "order": null,
            "overflow": null,
            "overflow_x": null,
            "overflow_y": null,
            "padding": null,
            "right": null,
            "top": null,
            "visibility": null,
            "width": null
          }
        },
        "7cd48eb4235b4335b6fe93cc01524969": {
          "model_module": "@jupyter-widgets/controls",
          "model_name": "DescriptionStyleModel",
          "model_module_version": "1.5.0",
          "state": {
            "_model_module": "@jupyter-widgets/controls",
            "_model_module_version": "1.5.0",
            "_model_name": "DescriptionStyleModel",
            "_view_count": null,
            "_view_module": "@jupyter-widgets/base",
            "_view_module_version": "1.2.0",
            "_view_name": "StyleView",
            "description_width": ""
          }
        },
        "667ce99252374ead83cf9fbc678b3dd2": {
          "model_module": "@jupyter-widgets/base",
          "model_name": "LayoutModel",
          "model_module_version": "1.2.0",
          "state": {
            "_model_module": "@jupyter-widgets/base",
            "_model_module_version": "1.2.0",
            "_model_name": "LayoutModel",
            "_view_count": null,
            "_view_module": "@jupyter-widgets/base",
            "_view_module_version": "1.2.0",
            "_view_name": "LayoutView",
            "align_content": null,
            "align_items": null,
            "align_self": null,
            "border": null,
            "bottom": null,
            "display": null,
            "flex": null,
            "flex_flow": null,
            "grid_area": null,
            "grid_auto_columns": null,
            "grid_auto_flow": null,
            "grid_auto_rows": null,
            "grid_column": null,
            "grid_gap": null,
            "grid_row": null,
            "grid_template_areas": null,
            "grid_template_columns": null,
            "grid_template_rows": null,
            "height": null,
            "justify_content": null,
            "justify_items": null,
            "left": null,
            "margin": null,
            "max_height": null,
            "max_width": null,
            "min_height": null,
            "min_width": null,
            "object_fit": null,
            "object_position": null,
            "order": null,
            "overflow": null,
            "overflow_x": null,
            "overflow_y": null,
            "padding": null,
            "right": null,
            "top": null,
            "visibility": null,
            "width": null
          }
        },
        "f74706e1c9944a6f9c88aeed86e7ecef": {
          "model_module": "@jupyter-widgets/controls",
          "model_name": "ProgressStyleModel",
          "model_module_version": "1.5.0",
          "state": {
            "_model_module": "@jupyter-widgets/controls",
            "_model_module_version": "1.5.0",
            "_model_name": "ProgressStyleModel",
            "_view_count": null,
            "_view_module": "@jupyter-widgets/base",
            "_view_module_version": "1.2.0",
            "_view_name": "StyleView",
            "bar_color": null,
            "description_width": ""
          }
        },
        "147d3fe1736e450388bffcd3670a6e71": {
          "model_module": "@jupyter-widgets/base",
          "model_name": "LayoutModel",
          "model_module_version": "1.2.0",
          "state": {
            "_model_module": "@jupyter-widgets/base",
            "_model_module_version": "1.2.0",
            "_model_name": "LayoutModel",
            "_view_count": null,
            "_view_module": "@jupyter-widgets/base",
            "_view_module_version": "1.2.0",
            "_view_name": "LayoutView",
            "align_content": null,
            "align_items": null,
            "align_self": null,
            "border": null,
            "bottom": null,
            "display": null,
            "flex": null,
            "flex_flow": null,
            "grid_area": null,
            "grid_auto_columns": null,
            "grid_auto_flow": null,
            "grid_auto_rows": null,
            "grid_column": null,
            "grid_gap": null,
            "grid_row": null,
            "grid_template_areas": null,
            "grid_template_columns": null,
            "grid_template_rows": null,
            "height": null,
            "justify_content": null,
            "justify_items": null,
            "left": null,
            "margin": null,
            "max_height": null,
            "max_width": null,
            "min_height": null,
            "min_width": null,
            "object_fit": null,
            "object_position": null,
            "order": null,
            "overflow": null,
            "overflow_x": null,
            "overflow_y": null,
            "padding": null,
            "right": null,
            "top": null,
            "visibility": null,
            "width": null
          }
        },
        "ce382ab3391645ed8dc54d838ffbd744": {
          "model_module": "@jupyter-widgets/controls",
          "model_name": "DescriptionStyleModel",
          "model_module_version": "1.5.0",
          "state": {
            "_model_module": "@jupyter-widgets/controls",
            "_model_module_version": "1.5.0",
            "_model_name": "DescriptionStyleModel",
            "_view_count": null,
            "_view_module": "@jupyter-widgets/base",
            "_view_module_version": "1.2.0",
            "_view_name": "StyleView",
            "description_width": ""
          }
        },
        "b445f2a29a6546df8412150b3f2e4875": {
          "model_module": "@jupyter-widgets/controls",
          "model_name": "HBoxModel",
          "model_module_version": "1.5.0",
          "state": {
            "_dom_classes": [],
            "_model_module": "@jupyter-widgets/controls",
            "_model_module_version": "1.5.0",
            "_model_name": "HBoxModel",
            "_view_count": null,
            "_view_module": "@jupyter-widgets/controls",
            "_view_module_version": "1.5.0",
            "_view_name": "HBoxView",
            "box_style": "",
            "children": [
              "IPY_MODEL_f1e044978ac548c0bb582fde06927d7e",
              "IPY_MODEL_df07a823388848e2afae2ceb60413ba1",
              "IPY_MODEL_2ddfe777466449d688d46328bf69094c"
            ],
            "layout": "IPY_MODEL_a0176bd254f04bedb9b4dbcf7b7b41ca"
          }
        },
        "f1e044978ac548c0bb582fde06927d7e": {
          "model_module": "@jupyter-widgets/controls",
          "model_name": "HTMLModel",
          "model_module_version": "1.5.0",
          "state": {
            "_dom_classes": [],
            "_model_module": "@jupyter-widgets/controls",
            "_model_module_version": "1.5.0",
            "_model_name": "HTMLModel",
            "_view_count": null,
            "_view_module": "@jupyter-widgets/controls",
            "_view_module_version": "1.5.0",
            "_view_name": "HTMLView",
            "description": "",
            "description_tooltip": null,
            "layout": "IPY_MODEL_059ef8fa32ee43b38b9a12ae6a1fc131",
            "placeholder": "​",
            "style": "IPY_MODEL_5ddb49caac16449f845df56ca517bac2",
            "value": "Downloading (…)solve/main/bpe.codes: 100%"
          }
        },
        "df07a823388848e2afae2ceb60413ba1": {
          "model_module": "@jupyter-widgets/controls",
          "model_name": "FloatProgressModel",
          "model_module_version": "1.5.0",
          "state": {
            "_dom_classes": [],
            "_model_module": "@jupyter-widgets/controls",
            "_model_module_version": "1.5.0",
            "_model_name": "FloatProgressModel",
            "_view_count": null,
            "_view_module": "@jupyter-widgets/controls",
            "_view_module_version": "1.5.0",
            "_view_name": "ProgressView",
            "bar_style": "success",
            "description": "",
            "description_tooltip": null,
            "layout": "IPY_MODEL_646b6db93dd445809087794e64930dac",
            "max": 1135173,
            "min": 0,
            "orientation": "horizontal",
            "style": "IPY_MODEL_0adfca8cf9f04a06adb9faeb2a7294f1",
            "value": 1135173
          }
        },
        "2ddfe777466449d688d46328bf69094c": {
          "model_module": "@jupyter-widgets/controls",
          "model_name": "HTMLModel",
          "model_module_version": "1.5.0",
          "state": {
            "_dom_classes": [],
            "_model_module": "@jupyter-widgets/controls",
            "_model_module_version": "1.5.0",
            "_model_name": "HTMLModel",
            "_view_count": null,
            "_view_module": "@jupyter-widgets/controls",
            "_view_module_version": "1.5.0",
            "_view_name": "HTMLView",
            "description": "",
            "description_tooltip": null,
            "layout": "IPY_MODEL_0485aae177c94b0b8ef958b1242e595f",
            "placeholder": "​",
            "style": "IPY_MODEL_503181b120444d4dba6a92c45041ce9c",
            "value": " 1.14M/1.14M [00:00&lt;00:00, 5.13MB/s]"
          }
        },
        "a0176bd254f04bedb9b4dbcf7b7b41ca": {
          "model_module": "@jupyter-widgets/base",
          "model_name": "LayoutModel",
          "model_module_version": "1.2.0",
          "state": {
            "_model_module": "@jupyter-widgets/base",
            "_model_module_version": "1.2.0",
            "_model_name": "LayoutModel",
            "_view_count": null,
            "_view_module": "@jupyter-widgets/base",
            "_view_module_version": "1.2.0",
            "_view_name": "LayoutView",
            "align_content": null,
            "align_items": null,
            "align_self": null,
            "border": null,
            "bottom": null,
            "display": null,
            "flex": null,
            "flex_flow": null,
            "grid_area": null,
            "grid_auto_columns": null,
            "grid_auto_flow": null,
            "grid_auto_rows": null,
            "grid_column": null,
            "grid_gap": null,
            "grid_row": null,
            "grid_template_areas": null,
            "grid_template_columns": null,
            "grid_template_rows": null,
            "height": null,
            "justify_content": null,
            "justify_items": null,
            "left": null,
            "margin": null,
            "max_height": null,
            "max_width": null,
            "min_height": null,
            "min_width": null,
            "object_fit": null,
            "object_position": null,
            "order": null,
            "overflow": null,
            "overflow_x": null,
            "overflow_y": null,
            "padding": null,
            "right": null,
            "top": null,
            "visibility": null,
            "width": null
          }
        },
        "059ef8fa32ee43b38b9a12ae6a1fc131": {
          "model_module": "@jupyter-widgets/base",
          "model_name": "LayoutModel",
          "model_module_version": "1.2.0",
          "state": {
            "_model_module": "@jupyter-widgets/base",
            "_model_module_version": "1.2.0",
            "_model_name": "LayoutModel",
            "_view_count": null,
            "_view_module": "@jupyter-widgets/base",
            "_view_module_version": "1.2.0",
            "_view_name": "LayoutView",
            "align_content": null,
            "align_items": null,
            "align_self": null,
            "border": null,
            "bottom": null,
            "display": null,
            "flex": null,
            "flex_flow": null,
            "grid_area": null,
            "grid_auto_columns": null,
            "grid_auto_flow": null,
            "grid_auto_rows": null,
            "grid_column": null,
            "grid_gap": null,
            "grid_row": null,
            "grid_template_areas": null,
            "grid_template_columns": null,
            "grid_template_rows": null,
            "height": null,
            "justify_content": null,
            "justify_items": null,
            "left": null,
            "margin": null,
            "max_height": null,
            "max_width": null,
            "min_height": null,
            "min_width": null,
            "object_fit": null,
            "object_position": null,
            "order": null,
            "overflow": null,
            "overflow_x": null,
            "overflow_y": null,
            "padding": null,
            "right": null,
            "top": null,
            "visibility": null,
            "width": null
          }
        },
        "5ddb49caac16449f845df56ca517bac2": {
          "model_module": "@jupyter-widgets/controls",
          "model_name": "DescriptionStyleModel",
          "model_module_version": "1.5.0",
          "state": {
            "_model_module": "@jupyter-widgets/controls",
            "_model_module_version": "1.5.0",
            "_model_name": "DescriptionStyleModel",
            "_view_count": null,
            "_view_module": "@jupyter-widgets/base",
            "_view_module_version": "1.2.0",
            "_view_name": "StyleView",
            "description_width": ""
          }
        },
        "646b6db93dd445809087794e64930dac": {
          "model_module": "@jupyter-widgets/base",
          "model_name": "LayoutModel",
          "model_module_version": "1.2.0",
          "state": {
            "_model_module": "@jupyter-widgets/base",
            "_model_module_version": "1.2.0",
            "_model_name": "LayoutModel",
            "_view_count": null,
            "_view_module": "@jupyter-widgets/base",
            "_view_module_version": "1.2.0",
            "_view_name": "LayoutView",
            "align_content": null,
            "align_items": null,
            "align_self": null,
            "border": null,
            "bottom": null,
            "display": null,
            "flex": null,
            "flex_flow": null,
            "grid_area": null,
            "grid_auto_columns": null,
            "grid_auto_flow": null,
            "grid_auto_rows": null,
            "grid_column": null,
            "grid_gap": null,
            "grid_row": null,
            "grid_template_areas": null,
            "grid_template_columns": null,
            "grid_template_rows": null,
            "height": null,
            "justify_content": null,
            "justify_items": null,
            "left": null,
            "margin": null,
            "max_height": null,
            "max_width": null,
            "min_height": null,
            "min_width": null,
            "object_fit": null,
            "object_position": null,
            "order": null,
            "overflow": null,
            "overflow_x": null,
            "overflow_y": null,
            "padding": null,
            "right": null,
            "top": null,
            "visibility": null,
            "width": null
          }
        },
        "0adfca8cf9f04a06adb9faeb2a7294f1": {
          "model_module": "@jupyter-widgets/controls",
          "model_name": "ProgressStyleModel",
          "model_module_version": "1.5.0",
          "state": {
            "_model_module": "@jupyter-widgets/controls",
            "_model_module_version": "1.5.0",
            "_model_name": "ProgressStyleModel",
            "_view_count": null,
            "_view_module": "@jupyter-widgets/base",
            "_view_module_version": "1.2.0",
            "_view_name": "StyleView",
            "bar_color": null,
            "description_width": ""
          }
        },
        "0485aae177c94b0b8ef958b1242e595f": {
          "model_module": "@jupyter-widgets/base",
          "model_name": "LayoutModel",
          "model_module_version": "1.2.0",
          "state": {
            "_model_module": "@jupyter-widgets/base",
            "_model_module_version": "1.2.0",
            "_model_name": "LayoutModel",
            "_view_count": null,
            "_view_module": "@jupyter-widgets/base",
            "_view_module_version": "1.2.0",
            "_view_name": "LayoutView",
            "align_content": null,
            "align_items": null,
            "align_self": null,
            "border": null,
            "bottom": null,
            "display": null,
            "flex": null,
            "flex_flow": null,
            "grid_area": null,
            "grid_auto_columns": null,
            "grid_auto_flow": null,
            "grid_auto_rows": null,
            "grid_column": null,
            "grid_gap": null,
            "grid_row": null,
            "grid_template_areas": null,
            "grid_template_columns": null,
            "grid_template_rows": null,
            "height": null,
            "justify_content": null,
            "justify_items": null,
            "left": null,
            "margin": null,
            "max_height": null,
            "max_width": null,
            "min_height": null,
            "min_width": null,
            "object_fit": null,
            "object_position": null,
            "order": null,
            "overflow": null,
            "overflow_x": null,
            "overflow_y": null,
            "padding": null,
            "right": null,
            "top": null,
            "visibility": null,
            "width": null
          }
        },
        "503181b120444d4dba6a92c45041ce9c": {
          "model_module": "@jupyter-widgets/controls",
          "model_name": "DescriptionStyleModel",
          "model_module_version": "1.5.0",
          "state": {
            "_model_module": "@jupyter-widgets/controls",
            "_model_module_version": "1.5.0",
            "_model_name": "DescriptionStyleModel",
            "_view_count": null,
            "_view_module": "@jupyter-widgets/base",
            "_view_module_version": "1.2.0",
            "_view_name": "StyleView",
            "description_width": ""
          }
        },
        "83e37b0f68ed4fd0914f379912e30868": {
          "model_module": "@jupyter-widgets/controls",
          "model_name": "HBoxModel",
          "model_module_version": "1.5.0",
          "state": {
            "_dom_classes": [],
            "_model_module": "@jupyter-widgets/controls",
            "_model_module_version": "1.5.0",
            "_model_name": "HBoxModel",
            "_view_count": null,
            "_view_module": "@jupyter-widgets/controls",
            "_view_module_version": "1.5.0",
            "_view_name": "HBoxView",
            "box_style": "",
            "children": [
              "IPY_MODEL_06ddae15657c438faff4b2e14bc43a83",
              "IPY_MODEL_4f612b2e467e44e98f904d80bc362f22",
              "IPY_MODEL_410b38145b3e439d9386500c11b52610"
            ],
            "layout": "IPY_MODEL_03f89f3e6f0943a3b2072ed82e9a7c68"
          }
        },
        "06ddae15657c438faff4b2e14bc43a83": {
          "model_module": "@jupyter-widgets/controls",
          "model_name": "HTMLModel",
          "model_module_version": "1.5.0",
          "state": {
            "_dom_classes": [],
            "_model_module": "@jupyter-widgets/controls",
            "_model_module_version": "1.5.0",
            "_model_name": "HTMLModel",
            "_view_count": null,
            "_view_module": "@jupyter-widgets/controls",
            "_view_module_version": "1.5.0",
            "_view_name": "HTMLView",
            "description": "",
            "description_tooltip": null,
            "layout": "IPY_MODEL_bb0ce31aa8dd4e95865f9787e3ecbe72",
            "placeholder": "​",
            "style": "IPY_MODEL_5c28f322dd394df8b99474e28ee72c0b",
            "value": "Downloading pytorch_model.bin: 100%"
          }
        },
        "4f612b2e467e44e98f904d80bc362f22": {
          "model_module": "@jupyter-widgets/controls",
          "model_name": "FloatProgressModel",
          "model_module_version": "1.5.0",
          "state": {
            "_dom_classes": [],
            "_model_module": "@jupyter-widgets/controls",
            "_model_module_version": "1.5.0",
            "_model_name": "FloatProgressModel",
            "_view_count": null,
            "_view_module": "@jupyter-widgets/controls",
            "_view_module_version": "1.5.0",
            "_view_name": "ProgressView",
            "bar_style": "success",
            "description": "",
            "description_tooltip": null,
            "layout": "IPY_MODEL_7f49367439bb41d1b228eb4a780acd65",
            "max": 540322347,
            "min": 0,
            "orientation": "horizontal",
            "style": "IPY_MODEL_ec4f9ff31dd54cec8fd844b89b7444f4",
            "value": 540322347
          }
        },
        "410b38145b3e439d9386500c11b52610": {
          "model_module": "@jupyter-widgets/controls",
          "model_name": "HTMLModel",
          "model_module_version": "1.5.0",
          "state": {
            "_dom_classes": [],
            "_model_module": "@jupyter-widgets/controls",
            "_model_module_version": "1.5.0",
            "_model_name": "HTMLModel",
            "_view_count": null,
            "_view_module": "@jupyter-widgets/controls",
            "_view_module_version": "1.5.0",
            "_view_name": "HTMLView",
            "description": "",
            "description_tooltip": null,
            "layout": "IPY_MODEL_af425c5b6de74465b42e1c828bbfddef",
            "placeholder": "​",
            "style": "IPY_MODEL_df46bbb4c3e24b2fb1f604029e68c6e3",
            "value": " 540M/540M [00:02&lt;00:00, 245MB/s]"
          }
        },
        "03f89f3e6f0943a3b2072ed82e9a7c68": {
          "model_module": "@jupyter-widgets/base",
          "model_name": "LayoutModel",
          "model_module_version": "1.2.0",
          "state": {
            "_model_module": "@jupyter-widgets/base",
            "_model_module_version": "1.2.0",
            "_model_name": "LayoutModel",
            "_view_count": null,
            "_view_module": "@jupyter-widgets/base",
            "_view_module_version": "1.2.0",
            "_view_name": "LayoutView",
            "align_content": null,
            "align_items": null,
            "align_self": null,
            "border": null,
            "bottom": null,
            "display": null,
            "flex": null,
            "flex_flow": null,
            "grid_area": null,
            "grid_auto_columns": null,
            "grid_auto_flow": null,
            "grid_auto_rows": null,
            "grid_column": null,
            "grid_gap": null,
            "grid_row": null,
            "grid_template_areas": null,
            "grid_template_columns": null,
            "grid_template_rows": null,
            "height": null,
            "justify_content": null,
            "justify_items": null,
            "left": null,
            "margin": null,
            "max_height": null,
            "max_width": null,
            "min_height": null,
            "min_width": null,
            "object_fit": null,
            "object_position": null,
            "order": null,
            "overflow": null,
            "overflow_x": null,
            "overflow_y": null,
            "padding": null,
            "right": null,
            "top": null,
            "visibility": null,
            "width": null
          }
        },
        "bb0ce31aa8dd4e95865f9787e3ecbe72": {
          "model_module": "@jupyter-widgets/base",
          "model_name": "LayoutModel",
          "model_module_version": "1.2.0",
          "state": {
            "_model_module": "@jupyter-widgets/base",
            "_model_module_version": "1.2.0",
            "_model_name": "LayoutModel",
            "_view_count": null,
            "_view_module": "@jupyter-widgets/base",
            "_view_module_version": "1.2.0",
            "_view_name": "LayoutView",
            "align_content": null,
            "align_items": null,
            "align_self": null,
            "border": null,
            "bottom": null,
            "display": null,
            "flex": null,
            "flex_flow": null,
            "grid_area": null,
            "grid_auto_columns": null,
            "grid_auto_flow": null,
            "grid_auto_rows": null,
            "grid_column": null,
            "grid_gap": null,
            "grid_row": null,
            "grid_template_areas": null,
            "grid_template_columns": null,
            "grid_template_rows": null,
            "height": null,
            "justify_content": null,
            "justify_items": null,
            "left": null,
            "margin": null,
            "max_height": null,
            "max_width": null,
            "min_height": null,
            "min_width": null,
            "object_fit": null,
            "object_position": null,
            "order": null,
            "overflow": null,
            "overflow_x": null,
            "overflow_y": null,
            "padding": null,
            "right": null,
            "top": null,
            "visibility": null,
            "width": null
          }
        },
        "5c28f322dd394df8b99474e28ee72c0b": {
          "model_module": "@jupyter-widgets/controls",
          "model_name": "DescriptionStyleModel",
          "model_module_version": "1.5.0",
          "state": {
            "_model_module": "@jupyter-widgets/controls",
            "_model_module_version": "1.5.0",
            "_model_name": "DescriptionStyleModel",
            "_view_count": null,
            "_view_module": "@jupyter-widgets/base",
            "_view_module_version": "1.2.0",
            "_view_name": "StyleView",
            "description_width": ""
          }
        },
        "7f49367439bb41d1b228eb4a780acd65": {
          "model_module": "@jupyter-widgets/base",
          "model_name": "LayoutModel",
          "model_module_version": "1.2.0",
          "state": {
            "_model_module": "@jupyter-widgets/base",
            "_model_module_version": "1.2.0",
            "_model_name": "LayoutModel",
            "_view_count": null,
            "_view_module": "@jupyter-widgets/base",
            "_view_module_version": "1.2.0",
            "_view_name": "LayoutView",
            "align_content": null,
            "align_items": null,
            "align_self": null,
            "border": null,
            "bottom": null,
            "display": null,
            "flex": null,
            "flex_flow": null,
            "grid_area": null,
            "grid_auto_columns": null,
            "grid_auto_flow": null,
            "grid_auto_rows": null,
            "grid_column": null,
            "grid_gap": null,
            "grid_row": null,
            "grid_template_areas": null,
            "grid_template_columns": null,
            "grid_template_rows": null,
            "height": null,
            "justify_content": null,
            "justify_items": null,
            "left": null,
            "margin": null,
            "max_height": null,
            "max_width": null,
            "min_height": null,
            "min_width": null,
            "object_fit": null,
            "object_position": null,
            "order": null,
            "overflow": null,
            "overflow_x": null,
            "overflow_y": null,
            "padding": null,
            "right": null,
            "top": null,
            "visibility": null,
            "width": null
          }
        },
        "ec4f9ff31dd54cec8fd844b89b7444f4": {
          "model_module": "@jupyter-widgets/controls",
          "model_name": "ProgressStyleModel",
          "model_module_version": "1.5.0",
          "state": {
            "_model_module": "@jupyter-widgets/controls",
            "_model_module_version": "1.5.0",
            "_model_name": "ProgressStyleModel",
            "_view_count": null,
            "_view_module": "@jupyter-widgets/base",
            "_view_module_version": "1.2.0",
            "_view_name": "StyleView",
            "bar_color": null,
            "description_width": ""
          }
        },
        "af425c5b6de74465b42e1c828bbfddef": {
          "model_module": "@jupyter-widgets/base",
          "model_name": "LayoutModel",
          "model_module_version": "1.2.0",
          "state": {
            "_model_module": "@jupyter-widgets/base",
            "_model_module_version": "1.2.0",
            "_model_name": "LayoutModel",
            "_view_count": null,
            "_view_module": "@jupyter-widgets/base",
            "_view_module_version": "1.2.0",
            "_view_name": "LayoutView",
            "align_content": null,
            "align_items": null,
            "align_self": null,
            "border": null,
            "bottom": null,
            "display": null,
            "flex": null,
            "flex_flow": null,
            "grid_area": null,
            "grid_auto_columns": null,
            "grid_auto_flow": null,
            "grid_auto_rows": null,
            "grid_column": null,
            "grid_gap": null,
            "grid_row": null,
            "grid_template_areas": null,
            "grid_template_columns": null,
            "grid_template_rows": null,
            "height": null,
            "justify_content": null,
            "justify_items": null,
            "left": null,
            "margin": null,
            "max_height": null,
            "max_width": null,
            "min_height": null,
            "min_width": null,
            "object_fit": null,
            "object_position": null,
            "order": null,
            "overflow": null,
            "overflow_x": null,
            "overflow_y": null,
            "padding": null,
            "right": null,
            "top": null,
            "visibility": null,
            "width": null
          }
        },
        "df46bbb4c3e24b2fb1f604029e68c6e3": {
          "model_module": "@jupyter-widgets/controls",
          "model_name": "DescriptionStyleModel",
          "model_module_version": "1.5.0",
          "state": {
            "_model_module": "@jupyter-widgets/controls",
            "_model_module_version": "1.5.0",
            "_model_name": "DescriptionStyleModel",
            "_view_count": null,
            "_view_module": "@jupyter-widgets/base",
            "_view_module_version": "1.2.0",
            "_view_name": "StyleView",
            "description_width": ""
          }
        },
        "1aae612394174fafa25130fa21ae45ea": {
          "model_module": "@jupyter-widgets/controls",
          "model_name": "HBoxModel",
          "model_module_version": "1.5.0",
          "state": {
            "_dom_classes": [],
            "_model_module": "@jupyter-widgets/controls",
            "_model_module_version": "1.5.0",
            "_model_name": "HBoxModel",
            "_view_count": null,
            "_view_module": "@jupyter-widgets/controls",
            "_view_module_version": "1.5.0",
            "_view_name": "HBoxView",
            "box_style": "",
            "children": [
              "IPY_MODEL_36bfde9a423c48c49a90212843e32bfd",
              "IPY_MODEL_114460876aac4161b281251b4d536250",
              "IPY_MODEL_cc377b5c7694423fb12326bc1c1ea4df"
            ],
            "layout": "IPY_MODEL_02a1093efaf6455881ecd1c378c578ef"
          }
        },
        "36bfde9a423c48c49a90212843e32bfd": {
          "model_module": "@jupyter-widgets/controls",
          "model_name": "HTMLModel",
          "model_module_version": "1.5.0",
          "state": {
            "_dom_classes": [],
            "_model_module": "@jupyter-widgets/controls",
            "_model_module_version": "1.5.0",
            "_model_name": "HTMLModel",
            "_view_count": null,
            "_view_module": "@jupyter-widgets/controls",
            "_view_module_version": "1.5.0",
            "_view_name": "HTMLView",
            "description": "",
            "description_tooltip": null,
            "layout": "IPY_MODEL_ba2ef44d79504448a6c8358178acdc46",
            "placeholder": "​",
            "style": "IPY_MODEL_ac40af6ee84243a2b46b3081302e37d4",
            "value": "Training:  14%"
          }
        },
        "114460876aac4161b281251b4d536250": {
          "model_module": "@jupyter-widgets/controls",
          "model_name": "FloatProgressModel",
          "model_module_version": "1.5.0",
          "state": {
            "_dom_classes": [],
            "_model_module": "@jupyter-widgets/controls",
            "_model_module_version": "1.5.0",
            "_model_name": "FloatProgressModel",
            "_view_count": null,
            "_view_module": "@jupyter-widgets/controls",
            "_view_module_version": "1.5.0",
            "_view_name": "ProgressView",
            "bar_style": "danger",
            "description": "",
            "description_tooltip": null,
            "layout": "IPY_MODEL_e72c6ef32f204cb2843b014a82db06f8",
            "max": 100,
            "min": 0,
            "orientation": "horizontal",
            "style": "IPY_MODEL_dca17f3bfb3147649f544c938dae0b89",
            "value": 14
          }
        },
        "cc377b5c7694423fb12326bc1c1ea4df": {
          "model_module": "@jupyter-widgets/controls",
          "model_name": "HTMLModel",
          "model_module_version": "1.5.0",
          "state": {
            "_dom_classes": [],
            "_model_module": "@jupyter-widgets/controls",
            "_model_module_version": "1.5.0",
            "_model_name": "HTMLModel",
            "_view_count": null,
            "_view_module": "@jupyter-widgets/controls",
            "_view_module_version": "1.5.0",
            "_view_name": "HTMLView",
            "description": "",
            "description_tooltip": null,
            "layout": "IPY_MODEL_d93129a6058e412d86a217963e3c1b79",
            "placeholder": "​",
            "style": "IPY_MODEL_c8109f7c876b4260aa7cb2d2ad4ab0c6",
            "value": " 14/100 [1:30:21&lt;8:37:38, 361.15s/it, train_loss=0.0276, valid_loss=0.292, valid_acc=0.953, train_acc=0.999]"
          }
        },
        "02a1093efaf6455881ecd1c378c578ef": {
          "model_module": "@jupyter-widgets/base",
          "model_name": "LayoutModel",
          "model_module_version": "1.2.0",
          "state": {
            "_model_module": "@jupyter-widgets/base",
            "_model_module_version": "1.2.0",
            "_model_name": "LayoutModel",
            "_view_count": null,
            "_view_module": "@jupyter-widgets/base",
            "_view_module_version": "1.2.0",
            "_view_name": "LayoutView",
            "align_content": null,
            "align_items": null,
            "align_self": null,
            "border": null,
            "bottom": null,
            "display": null,
            "flex": null,
            "flex_flow": null,
            "grid_area": null,
            "grid_auto_columns": null,
            "grid_auto_flow": null,
            "grid_auto_rows": null,
            "grid_column": null,
            "grid_gap": null,
            "grid_row": null,
            "grid_template_areas": null,
            "grid_template_columns": null,
            "grid_template_rows": null,
            "height": null,
            "justify_content": null,
            "justify_items": null,
            "left": null,
            "margin": null,
            "max_height": null,
            "max_width": null,
            "min_height": null,
            "min_width": null,
            "object_fit": null,
            "object_position": null,
            "order": null,
            "overflow": null,
            "overflow_x": null,
            "overflow_y": null,
            "padding": null,
            "right": null,
            "top": null,
            "visibility": null,
            "width": null
          }
        },
        "ba2ef44d79504448a6c8358178acdc46": {
          "model_module": "@jupyter-widgets/base",
          "model_name": "LayoutModel",
          "model_module_version": "1.2.0",
          "state": {
            "_model_module": "@jupyter-widgets/base",
            "_model_module_version": "1.2.0",
            "_model_name": "LayoutModel",
            "_view_count": null,
            "_view_module": "@jupyter-widgets/base",
            "_view_module_version": "1.2.0",
            "_view_name": "LayoutView",
            "align_content": null,
            "align_items": null,
            "align_self": null,
            "border": null,
            "bottom": null,
            "display": null,
            "flex": null,
            "flex_flow": null,
            "grid_area": null,
            "grid_auto_columns": null,
            "grid_auto_flow": null,
            "grid_auto_rows": null,
            "grid_column": null,
            "grid_gap": null,
            "grid_row": null,
            "grid_template_areas": null,
            "grid_template_columns": null,
            "grid_template_rows": null,
            "height": null,
            "justify_content": null,
            "justify_items": null,
            "left": null,
            "margin": null,
            "max_height": null,
            "max_width": null,
            "min_height": null,
            "min_width": null,
            "object_fit": null,
            "object_position": null,
            "order": null,
            "overflow": null,
            "overflow_x": null,
            "overflow_y": null,
            "padding": null,
            "right": null,
            "top": null,
            "visibility": null,
            "width": null
          }
        },
        "ac40af6ee84243a2b46b3081302e37d4": {
          "model_module": "@jupyter-widgets/controls",
          "model_name": "DescriptionStyleModel",
          "model_module_version": "1.5.0",
          "state": {
            "_model_module": "@jupyter-widgets/controls",
            "_model_module_version": "1.5.0",
            "_model_name": "DescriptionStyleModel",
            "_view_count": null,
            "_view_module": "@jupyter-widgets/base",
            "_view_module_version": "1.2.0",
            "_view_name": "StyleView",
            "description_width": ""
          }
        },
        "e72c6ef32f204cb2843b014a82db06f8": {
          "model_module": "@jupyter-widgets/base",
          "model_name": "LayoutModel",
          "model_module_version": "1.2.0",
          "state": {
            "_model_module": "@jupyter-widgets/base",
            "_model_module_version": "1.2.0",
            "_model_name": "LayoutModel",
            "_view_count": null,
            "_view_module": "@jupyter-widgets/base",
            "_view_module_version": "1.2.0",
            "_view_name": "LayoutView",
            "align_content": null,
            "align_items": null,
            "align_self": null,
            "border": null,
            "bottom": null,
            "display": null,
            "flex": null,
            "flex_flow": null,
            "grid_area": null,
            "grid_auto_columns": null,
            "grid_auto_flow": null,
            "grid_auto_rows": null,
            "grid_column": null,
            "grid_gap": null,
            "grid_row": null,
            "grid_template_areas": null,
            "grid_template_columns": null,
            "grid_template_rows": null,
            "height": null,
            "justify_content": null,
            "justify_items": null,
            "left": null,
            "margin": null,
            "max_height": null,
            "max_width": null,
            "min_height": null,
            "min_width": null,
            "object_fit": null,
            "object_position": null,
            "order": null,
            "overflow": null,
            "overflow_x": null,
            "overflow_y": null,
            "padding": null,
            "right": null,
            "top": null,
            "visibility": null,
            "width": null
          }
        },
        "dca17f3bfb3147649f544c938dae0b89": {
          "model_module": "@jupyter-widgets/controls",
          "model_name": "ProgressStyleModel",
          "model_module_version": "1.5.0",
          "state": {
            "_model_module": "@jupyter-widgets/controls",
            "_model_module_version": "1.5.0",
            "_model_name": "ProgressStyleModel",
            "_view_count": null,
            "_view_module": "@jupyter-widgets/base",
            "_view_module_version": "1.2.0",
            "_view_name": "StyleView",
            "bar_color": null,
            "description_width": ""
          }
        },
        "d93129a6058e412d86a217963e3c1b79": {
          "model_module": "@jupyter-widgets/base",
          "model_name": "LayoutModel",
          "model_module_version": "1.2.0",
          "state": {
            "_model_module": "@jupyter-widgets/base",
            "_model_module_version": "1.2.0",
            "_model_name": "LayoutModel",
            "_view_count": null,
            "_view_module": "@jupyter-widgets/base",
            "_view_module_version": "1.2.0",
            "_view_name": "LayoutView",
            "align_content": null,
            "align_items": null,
            "align_self": null,
            "border": null,
            "bottom": null,
            "display": null,
            "flex": null,
            "flex_flow": null,
            "grid_area": null,
            "grid_auto_columns": null,
            "grid_auto_flow": null,
            "grid_auto_rows": null,
            "grid_column": null,
            "grid_gap": null,
            "grid_row": null,
            "grid_template_areas": null,
            "grid_template_columns": null,
            "grid_template_rows": null,
            "height": null,
            "justify_content": null,
            "justify_items": null,
            "left": null,
            "margin": null,
            "max_height": null,
            "max_width": null,
            "min_height": null,
            "min_width": null,
            "object_fit": null,
            "object_position": null,
            "order": null,
            "overflow": null,
            "overflow_x": null,
            "overflow_y": null,
            "padding": null,
            "right": null,
            "top": null,
            "visibility": null,
            "width": null
          }
        },
        "c8109f7c876b4260aa7cb2d2ad4ab0c6": {
          "model_module": "@jupyter-widgets/controls",
          "model_name": "DescriptionStyleModel",
          "model_module_version": "1.5.0",
          "state": {
            "_model_module": "@jupyter-widgets/controls",
            "_model_module_version": "1.5.0",
            "_model_name": "DescriptionStyleModel",
            "_view_count": null,
            "_view_module": "@jupyter-widgets/base",
            "_view_module_version": "1.2.0",
            "_view_name": "StyleView",
            "description_width": ""
          }
        }
      }
    }
  },
  "nbformat": 4,
  "nbformat_minor": 0
}
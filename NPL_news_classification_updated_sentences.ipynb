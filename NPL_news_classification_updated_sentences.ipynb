{
  "cells": [
    {
      "cell_type": "code",
      "execution_count": null,
      "metadata": {
        "colab": {
          "base_uri": "https://localhost:8080/"
        },
        "id": "RcpyAVGwavy5",
        "outputId": "87df3bc1-19ba-4c7c-e3ba-01a4e3423ebd"
      },
      "outputs": [
        {
          "name": "stdout",
          "output_type": "stream",
          "text": [
            "Collecting transformers\n",
            "  Downloading transformers-4.30.2-py3-none-any.whl (7.2 MB)\n",
            "\u001b[2K     \u001b[90m━━━━━━━━━━━━━━━━━━━━━━━━━━━━━━━━━━━━━━━━\u001b[0m \u001b[32m7.2/7.2 MB\u001b[0m \u001b[31m54.1 MB/s\u001b[0m eta \u001b[36m0:00:00\u001b[0m\n",
            "\u001b[?25hRequirement already satisfied: filelock in /usr/local/lib/python3.10/dist-packages (from transformers) (3.12.2)\n",
            "Collecting huggingface-hub<1.0,>=0.14.1 (from transformers)\n",
            "  Downloading huggingface_hub-0.16.4-py3-none-any.whl (268 kB)\n",
            "\u001b[2K     \u001b[90m━━━━━━━━━━━━━━━━━━━━━━━━━━━━━━━━━━━━━━\u001b[0m \u001b[32m268.8/268.8 kB\u001b[0m \u001b[31m36.4 MB/s\u001b[0m eta \u001b[36m0:00:00\u001b[0m\n",
            "\u001b[?25hRequirement already satisfied: numpy>=1.17 in /usr/local/lib/python3.10/dist-packages (from transformers) (1.22.4)\n",
            "Requirement already satisfied: packaging>=20.0 in /usr/local/lib/python3.10/dist-packages (from transformers) (23.1)\n",
            "Requirement already satisfied: pyyaml>=5.1 in /usr/local/lib/python3.10/dist-packages (from transformers) (6.0)\n",
            "Requirement already satisfied: regex!=2019.12.17 in /usr/local/lib/python3.10/dist-packages (from transformers) (2022.10.31)\n",
            "Requirement already satisfied: requests in /usr/local/lib/python3.10/dist-packages (from transformers) (2.27.1)\n",
            "Collecting tokenizers!=0.11.3,<0.14,>=0.11.1 (from transformers)\n",
            "  Downloading tokenizers-0.13.3-cp310-cp310-manylinux_2_17_x86_64.manylinux2014_x86_64.whl (7.8 MB)\n",
            "\u001b[2K     \u001b[90m━━━━━━━━━━━━━━━━━━━━━━━━━━━━━━━━━━━━━━━━\u001b[0m \u001b[32m7.8/7.8 MB\u001b[0m \u001b[31m91.8 MB/s\u001b[0m eta \u001b[36m0:00:00\u001b[0m\n",
            "\u001b[?25hCollecting safetensors>=0.3.1 (from transformers)\n",
            "  Downloading safetensors-0.3.1-cp310-cp310-manylinux_2_17_x86_64.manylinux2014_x86_64.whl (1.3 MB)\n",
            "\u001b[2K     \u001b[90m━━━━━━━━━━━━━━━━━━━━━━━━━━━━━━━━━━━━━━━━\u001b[0m \u001b[32m1.3/1.3 MB\u001b[0m \u001b[31m84.2 MB/s\u001b[0m eta \u001b[36m0:00:00\u001b[0m\n",
            "\u001b[?25hRequirement already satisfied: tqdm>=4.27 in /usr/local/lib/python3.10/dist-packages (from transformers) (4.65.0)\n",
            "Requirement already satisfied: fsspec in /usr/local/lib/python3.10/dist-packages (from huggingface-hub<1.0,>=0.14.1->transformers) (2023.6.0)\n",
            "Requirement already satisfied: typing-extensions>=3.7.4.3 in /usr/local/lib/python3.10/dist-packages (from huggingface-hub<1.0,>=0.14.1->transformers) (4.6.3)\n",
            "Requirement already satisfied: urllib3<1.27,>=1.21.1 in /usr/local/lib/python3.10/dist-packages (from requests->transformers) (1.26.16)\n",
            "Requirement already satisfied: certifi>=2017.4.17 in /usr/local/lib/python3.10/dist-packages (from requests->transformers) (2023.5.7)\n",
            "Requirement already satisfied: charset-normalizer~=2.0.0 in /usr/local/lib/python3.10/dist-packages (from requests->transformers) (2.0.12)\n",
            "Requirement already satisfied: idna<4,>=2.5 in /usr/local/lib/python3.10/dist-packages (from requests->transformers) (3.4)\n",
            "Installing collected packages: tokenizers, safetensors, huggingface-hub, transformers\n",
            "Successfully installed huggingface-hub-0.16.4 safetensors-0.3.1 tokenizers-0.13.3 transformers-4.30.2\n",
            "Collecting pytorch-lightning\n",
            "  Downloading pytorch_lightning-2.0.5-py3-none-any.whl (722 kB)\n",
            "\u001b[2K     \u001b[90m━━━━━━━━━━━━━━━━━━━━━━━━━━━━━━━━━━━━━━\u001b[0m \u001b[32m722.4/722.4 kB\u001b[0m \u001b[31m34.7 MB/s\u001b[0m eta \u001b[36m0:00:00\u001b[0m\n",
            "\u001b[?25hRequirement already satisfied: numpy>=1.17.2 in /usr/local/lib/python3.10/dist-packages (from pytorch-lightning) (1.22.4)\n",
            "Requirement already satisfied: torch>=1.11.0 in /usr/local/lib/python3.10/dist-packages (from pytorch-lightning) (2.0.1+cu118)\n",
            "Requirement already satisfied: tqdm>=4.57.0 in /usr/local/lib/python3.10/dist-packages (from pytorch-lightning) (4.65.0)\n",
            "Requirement already satisfied: PyYAML>=5.4 in /usr/local/lib/python3.10/dist-packages (from pytorch-lightning) (6.0)\n",
            "Requirement already satisfied: fsspec[http]>2021.06.0 in /usr/local/lib/python3.10/dist-packages (from pytorch-lightning) (2023.6.0)\n",
            "Collecting torchmetrics>=0.7.0 (from pytorch-lightning)\n",
            "  Downloading torchmetrics-1.0.0-py3-none-any.whl (728 kB)\n",
            "\u001b[2K     \u001b[90m━━━━━━━━━━━━━━━━━━━━━━━━━━━━━━━━━━━━━━\u001b[0m \u001b[32m728.8/728.8 kB\u001b[0m \u001b[31m64.7 MB/s\u001b[0m eta \u001b[36m0:00:00\u001b[0m\n",
            "\u001b[?25hRequirement already satisfied: packaging>=17.1 in /usr/local/lib/python3.10/dist-packages (from pytorch-lightning) (23.1)\n",
            "Requirement already satisfied: typing-extensions>=4.0.0 in /usr/local/lib/python3.10/dist-packages (from pytorch-lightning) (4.6.3)\n",
            "Collecting lightning-utilities>=0.7.0 (from pytorch-lightning)\n",
            "  Downloading lightning_utilities-0.9.0-py3-none-any.whl (23 kB)\n",
            "Requirement already satisfied: requests in /usr/local/lib/python3.10/dist-packages (from fsspec[http]>2021.06.0->pytorch-lightning) (2.27.1)\n",
            "Requirement already satisfied: aiohttp!=4.0.0a0,!=4.0.0a1 in /usr/local/lib/python3.10/dist-packages (from fsspec[http]>2021.06.0->pytorch-lightning) (3.8.4)\n",
            "Requirement already satisfied: filelock in /usr/local/lib/python3.10/dist-packages (from torch>=1.11.0->pytorch-lightning) (3.12.2)\n",
            "Requirement already satisfied: sympy in /usr/local/lib/python3.10/dist-packages (from torch>=1.11.0->pytorch-lightning) (1.11.1)\n",
            "Requirement already satisfied: networkx in /usr/local/lib/python3.10/dist-packages (from torch>=1.11.0->pytorch-lightning) (3.1)\n",
            "Requirement already satisfied: jinja2 in /usr/local/lib/python3.10/dist-packages (from torch>=1.11.0->pytorch-lightning) (3.1.2)\n",
            "Requirement already satisfied: triton==2.0.0 in /usr/local/lib/python3.10/dist-packages (from torch>=1.11.0->pytorch-lightning) (2.0.0)\n",
            "Requirement already satisfied: cmake in /usr/local/lib/python3.10/dist-packages (from triton==2.0.0->torch>=1.11.0->pytorch-lightning) (3.25.2)\n",
            "Requirement already satisfied: lit in /usr/local/lib/python3.10/dist-packages (from triton==2.0.0->torch>=1.11.0->pytorch-lightning) (16.0.6)\n",
            "Requirement already satisfied: attrs>=17.3.0 in /usr/local/lib/python3.10/dist-packages (from aiohttp!=4.0.0a0,!=4.0.0a1->fsspec[http]>2021.06.0->pytorch-lightning) (23.1.0)\n",
            "Requirement already satisfied: charset-normalizer<4.0,>=2.0 in /usr/local/lib/python3.10/dist-packages (from aiohttp!=4.0.0a0,!=4.0.0a1->fsspec[http]>2021.06.0->pytorch-lightning) (2.0.12)\n",
            "Requirement already satisfied: multidict<7.0,>=4.5 in /usr/local/lib/python3.10/dist-packages (from aiohttp!=4.0.0a0,!=4.0.0a1->fsspec[http]>2021.06.0->pytorch-lightning) (6.0.4)\n",
            "Requirement already satisfied: async-timeout<5.0,>=4.0.0a3 in /usr/local/lib/python3.10/dist-packages (from aiohttp!=4.0.0a0,!=4.0.0a1->fsspec[http]>2021.06.0->pytorch-lightning) (4.0.2)\n",
            "Requirement already satisfied: yarl<2.0,>=1.0 in /usr/local/lib/python3.10/dist-packages (from aiohttp!=4.0.0a0,!=4.0.0a1->fsspec[http]>2021.06.0->pytorch-lightning) (1.9.2)\n",
            "Requirement already satisfied: frozenlist>=1.1.1 in /usr/local/lib/python3.10/dist-packages (from aiohttp!=4.0.0a0,!=4.0.0a1->fsspec[http]>2021.06.0->pytorch-lightning) (1.3.3)\n",
            "Requirement already satisfied: aiosignal>=1.1.2 in /usr/local/lib/python3.10/dist-packages (from aiohttp!=4.0.0a0,!=4.0.0a1->fsspec[http]>2021.06.0->pytorch-lightning) (1.3.1)\n",
            "Requirement already satisfied: MarkupSafe>=2.0 in /usr/local/lib/python3.10/dist-packages (from jinja2->torch>=1.11.0->pytorch-lightning) (2.1.3)\n",
            "Requirement already satisfied: urllib3<1.27,>=1.21.1 in /usr/local/lib/python3.10/dist-packages (from requests->fsspec[http]>2021.06.0->pytorch-lightning) (1.26.16)\n",
            "Requirement already satisfied: certifi>=2017.4.17 in /usr/local/lib/python3.10/dist-packages (from requests->fsspec[http]>2021.06.0->pytorch-lightning) (2023.5.7)\n",
            "Requirement already satisfied: idna<4,>=2.5 in /usr/local/lib/python3.10/dist-packages (from requests->fsspec[http]>2021.06.0->pytorch-lightning) (3.4)\n",
            "Requirement already satisfied: mpmath>=0.19 in /usr/local/lib/python3.10/dist-packages (from sympy->torch>=1.11.0->pytorch-lightning) (1.3.0)\n",
            "Installing collected packages: lightning-utilities, torchmetrics, pytorch-lightning\n",
            "Successfully installed lightning-utilities-0.9.0 pytorch-lightning-2.0.5 torchmetrics-1.0.0\n",
            "Collecting torchinfo\n",
            "  Downloading torchinfo-1.8.0-py3-none-any.whl (23 kB)\n",
            "Installing collected packages: torchinfo\n",
            "Successfully installed torchinfo-1.8.0\n"
          ]
        }
      ],
      "source": [
        "!pip install transformers\n",
        "!pip install pytorch-lightning\n",
        "!pip install torchinfo"
      ]
    },
    {
      "cell_type": "markdown",
      "metadata": {
        "id": "WOoawOFSYKbC"
      },
      "source": [
        "# Import lib"
      ]
    },
    {
      "cell_type": "code",
      "execution_count": null,
      "metadata": {
        "colab": {
          "base_uri": "https://localhost:8080/"
        },
        "id": "03PaRuIGYETu",
        "outputId": "a4bfa174-5b4a-47bb-8b15-9e1d9707818d"
      },
      "outputs": [
        {
          "name": "stderr",
          "output_type": "stream",
          "text": [
            "[nltk_data] Downloading package punkt to /root/nltk_data...\n",
            "[nltk_data]   Unzipping tokenizers/punkt.zip.\n"
          ]
        },
        {
          "data": {
            "text/plain": [
              "True"
            ]
          },
          "execution_count": 3,
          "metadata": {},
          "output_type": "execute_result"
        }
      ],
      "source": [
        "import torch\n",
        "from torch import nn\n",
        "from torch.utils.data import Dataset, DataLoader\n",
        "from torch.nn import LayerNorm\n",
        "from torch.nn import functional as F\n",
        "from torch.nn.utils.rnn import pad_sequence\n",
        "from transformers import AutoModel, AutoTokenizer, AdamW, get_cosine_schedule_with_warmup\n",
        "import numpy as np\n",
        "import os\n",
        "import time\n",
        "import random\n",
        "from sklearn.preprocessing import LabelEncoder\n",
        "from sklearn.model_selection import train_test_split\n",
        "from sklearn.metrics import confusion_matrix\n",
        "from sklearn.metrics import accuracy_score\n",
        "from imblearn.under_sampling import RandomUnderSampler\n",
        "import pandas as pd\n",
        "import matplotlib.pyplot as plt\n",
        "import seaborn as sns\n",
        "from collections import Counter\n",
        "import pytorch_lightning as pl\n",
        "from torch.optim.lr_scheduler import StepLR\n",
        "import re\n",
        "import copy\n",
        "import nltk\n",
        "from nltk.tokenize import word_tokenize\n",
        "import math\n",
        "from torchinfo import summary\n",
        "from google.colab import drive\n",
        "from tqdm.auto import tqdm\n",
        "nltk.download('punkt')\n"
      ]
    },
    {
      "cell_type": "markdown",
      "metadata": {
        "id": "t09nEVgzGNkS"
      },
      "source": [
        "# Import dataset"
      ]
    },
    {
      "cell_type": "code",
      "execution_count": null,
      "metadata": {
        "colab": {
          "base_uri": "https://localhost:8080/"
        },
        "id": "ZWLpwD6iXdTk",
        "outputId": "dde801b4-a40a-454d-8836-7e66173ee56e"
      },
      "outputs": [
        {
          "name": "stdout",
          "output_type": "stream",
          "text": [
            "Cloning into 'News_classification'...\n",
            "remote: Enumerating objects: 468, done.\u001b[K\n",
            "remote: Counting objects: 100% (66/66), done.\u001b[K\n",
            "remote: Compressing objects: 100% (47/47), done.\u001b[K\n",
            "remote: Total 468 (delta 34), reused 46 (delta 18), pack-reused 402\u001b[K\n",
            "Receiving objects: 100% (468/468), 104.72 MiB | 16.11 MiB/s, done.\n",
            "Resolving deltas: 100% (272/272), done.\n",
            "Updating files: 100% (55/55), done.\n"
          ]
        }
      ],
      "source": [
        "! git clone https://github.com/duongnghia222/News_classification"
      ]
    },
    {
      "cell_type": "code",
      "execution_count": null,
      "metadata": {
        "id": "Bnge752SB8Ez"
      },
      "outputs": [],
      "source": [
        "# Load data from CSV file\n",
        "df = pd.read_csv('News_classification/data/raw_data/raw_data.csv', encoding='utf-8-sig')"
      ]
    },
    {
      "cell_type": "markdown",
      "metadata": {
        "id": "aqu8-QjYBzWc"
      },
      "source": [
        "# Visualize Data"
      ]
    },
    {
      "cell_type": "code",
      "execution_count": null,
      "metadata": {
        "colab": {
          "base_uri": "https://localhost:8080/",
          "height": 206
        },
        "id": "k7U3B_R3CflP",
        "outputId": "eab70f55-ca63-40e2-aef7-b52898c5c739"
      },
      "outputs": [
        {
          "data": {
            "text/html": [
              "\n",
              "\n",
              "  <div id=\"df-8b05debe-da6a-493c-bd5f-3fc865f5d6db\">\n",
              "    <div class=\"colab-df-container\">\n",
              "      <div>\n",
              "<style scoped>\n",
              "    .dataframe tbody tr th:only-of-type {\n",
              "        vertical-align: middle;\n",
              "    }\n",
              "\n",
              "    .dataframe tbody tr th {\n",
              "        vertical-align: top;\n",
              "    }\n",
              "\n",
              "    .dataframe thead th {\n",
              "        text-align: right;\n",
              "    }\n",
              "</style>\n",
              "<table border=\"1\" class=\"dataframe\">\n",
              "  <thead>\n",
              "    <tr style=\"text-align: right;\">\n",
              "      <th></th>\n",
              "      <th>Content</th>\n",
              "      <th>Label</th>\n",
              "    </tr>\n",
              "  </thead>\n",
              "  <tbody>\n",
              "    <tr>\n",
              "      <th>10391</th>\n",
              "      <td>Một cá nhân bất ngờ mua vào 30,77 triệu cổ phi...</td>\n",
              "      <td>TTF</td>\n",
              "    </tr>\n",
              "    <tr>\n",
              "      <th>10392</th>\n",
              "      <td>Chưa kịp bán ra, Chủ tịch Đỗ Quý Hải tiếp tục ...</td>\n",
              "      <td>HPX</td>\n",
              "    </tr>\n",
              "    <tr>\n",
              "      <th>10393</th>\n",
              "      <td>POM cho cán bộ nhân viên nghỉ việc vì dừng lò ...</td>\n",
              "      <td>POM</td>\n",
              "    </tr>\n",
              "    <tr>\n",
              "      <th>10394</th>\n",
              "      <td>Năm Bảy Bảy (NBB) chấp thuận cho Công ty con c...</td>\n",
              "      <td>NBB</td>\n",
              "    </tr>\n",
              "    <tr>\n",
              "      <th>10395</th>\n",
              "      <td>Chứng khoán Ngân hàng Sài Gòn Thương Tín (SBS)...</td>\n",
              "      <td>SBS</td>\n",
              "    </tr>\n",
              "  </tbody>\n",
              "</table>\n",
              "</div>\n",
              "      <button class=\"colab-df-convert\" onclick=\"convertToInteractive('df-8b05debe-da6a-493c-bd5f-3fc865f5d6db')\"\n",
              "              title=\"Convert this dataframe to an interactive table.\"\n",
              "              style=\"display:none;\">\n",
              "\n",
              "  <svg xmlns=\"http://www.w3.org/2000/svg\" height=\"24px\"viewBox=\"0 0 24 24\"\n",
              "       width=\"24px\">\n",
              "    <path d=\"M0 0h24v24H0V0z\" fill=\"none\"/>\n",
              "    <path d=\"M18.56 5.44l.94 2.06.94-2.06 2.06-.94-2.06-.94-.94-2.06-.94 2.06-2.06.94zm-11 1L8.5 8.5l.94-2.06 2.06-.94-2.06-.94L8.5 2.5l-.94 2.06-2.06.94zm10 10l.94 2.06.94-2.06 2.06-.94-2.06-.94-.94-2.06-.94 2.06-2.06.94z\"/><path d=\"M17.41 7.96l-1.37-1.37c-.4-.4-.92-.59-1.43-.59-.52 0-1.04.2-1.43.59L10.3 9.45l-7.72 7.72c-.78.78-.78 2.05 0 2.83L4 21.41c.39.39.9.59 1.41.59.51 0 1.02-.2 1.41-.59l7.78-7.78 2.81-2.81c.8-.78.8-2.07 0-2.86zM5.41 20L4 18.59l7.72-7.72 1.47 1.35L5.41 20z\"/>\n",
              "  </svg>\n",
              "      </button>\n",
              "\n",
              "\n",
              "\n",
              "    <div id=\"df-268da079-1f29-47c2-84a3-2f69883e3c95\">\n",
              "      <button class=\"colab-df-quickchart\" onclick=\"quickchart('df-268da079-1f29-47c2-84a3-2f69883e3c95')\"\n",
              "              title=\"Suggest charts.\"\n",
              "              style=\"display:none;\">\n",
              "\n",
              "<svg xmlns=\"http://www.w3.org/2000/svg\" height=\"24px\"viewBox=\"0 0 24 24\"\n",
              "     width=\"24px\">\n",
              "    <g>\n",
              "        <path d=\"M19 3H5c-1.1 0-2 .9-2 2v14c0 1.1.9 2 2 2h14c1.1 0 2-.9 2-2V5c0-1.1-.9-2-2-2zM9 17H7v-7h2v7zm4 0h-2V7h2v10zm4 0h-2v-4h2v4z\"/>\n",
              "    </g>\n",
              "</svg>\n",
              "      </button>\n",
              "    </div>\n",
              "\n",
              "<style>\n",
              "  .colab-df-quickchart {\n",
              "    background-color: #E8F0FE;\n",
              "    border: none;\n",
              "    border-radius: 50%;\n",
              "    cursor: pointer;\n",
              "    display: none;\n",
              "    fill: #1967D2;\n",
              "    height: 32px;\n",
              "    padding: 0 0 0 0;\n",
              "    width: 32px;\n",
              "  }\n",
              "\n",
              "  .colab-df-quickchart:hover {\n",
              "    background-color: #E2EBFA;\n",
              "    box-shadow: 0px 1px 2px rgba(60, 64, 67, 0.3), 0px 1px 3px 1px rgba(60, 64, 67, 0.15);\n",
              "    fill: #174EA6;\n",
              "  }\n",
              "\n",
              "  [theme=dark] .colab-df-quickchart {\n",
              "    background-color: #3B4455;\n",
              "    fill: #D2E3FC;\n",
              "  }\n",
              "\n",
              "  [theme=dark] .colab-df-quickchart:hover {\n",
              "    background-color: #434B5C;\n",
              "    box-shadow: 0px 1px 3px 1px rgba(0, 0, 0, 0.15);\n",
              "    filter: drop-shadow(0px 1px 2px rgba(0, 0, 0, 0.3));\n",
              "    fill: #FFFFFF;\n",
              "  }\n",
              "</style>\n",
              "\n",
              "    <script>\n",
              "      async function quickchart(key) {\n",
              "        const containerElement = document.querySelector('#' + key);\n",
              "        const charts = await google.colab.kernel.invokeFunction(\n",
              "            'suggestCharts', [key], {});\n",
              "      }\n",
              "    </script>\n",
              "\n",
              "      <script>\n",
              "\n",
              "function displayQuickchartButton(domScope) {\n",
              "  let quickchartButtonEl =\n",
              "    domScope.querySelector('#df-268da079-1f29-47c2-84a3-2f69883e3c95 button.colab-df-quickchart');\n",
              "  quickchartButtonEl.style.display =\n",
              "    google.colab.kernel.accessAllowed ? 'block' : 'none';\n",
              "}\n",
              "\n",
              "        displayQuickchartButton(document);\n",
              "      </script>\n",
              "      <style>\n",
              "    .colab-df-container {\n",
              "      display:flex;\n",
              "      flex-wrap:wrap;\n",
              "      gap: 12px;\n",
              "    }\n",
              "\n",
              "    .colab-df-convert {\n",
              "      background-color: #E8F0FE;\n",
              "      border: none;\n",
              "      border-radius: 50%;\n",
              "      cursor: pointer;\n",
              "      display: none;\n",
              "      fill: #1967D2;\n",
              "      height: 32px;\n",
              "      padding: 0 0 0 0;\n",
              "      width: 32px;\n",
              "    }\n",
              "\n",
              "    .colab-df-convert:hover {\n",
              "      background-color: #E2EBFA;\n",
              "      box-shadow: 0px 1px 2px rgba(60, 64, 67, 0.3), 0px 1px 3px 1px rgba(60, 64, 67, 0.15);\n",
              "      fill: #174EA6;\n",
              "    }\n",
              "\n",
              "    [theme=dark] .colab-df-convert {\n",
              "      background-color: #3B4455;\n",
              "      fill: #D2E3FC;\n",
              "    }\n",
              "\n",
              "    [theme=dark] .colab-df-convert:hover {\n",
              "      background-color: #434B5C;\n",
              "      box-shadow: 0px 1px 3px 1px rgba(0, 0, 0, 0.15);\n",
              "      filter: drop-shadow(0px 1px 2px rgba(0, 0, 0, 0.3));\n",
              "      fill: #FFFFFF;\n",
              "    }\n",
              "  </style>\n",
              "\n",
              "      <script>\n",
              "        const buttonEl =\n",
              "          document.querySelector('#df-8b05debe-da6a-493c-bd5f-3fc865f5d6db button.colab-df-convert');\n",
              "        buttonEl.style.display =\n",
              "          google.colab.kernel.accessAllowed ? 'block' : 'none';\n",
              "\n",
              "        async function convertToInteractive(key) {\n",
              "          const element = document.querySelector('#df-8b05debe-da6a-493c-bd5f-3fc865f5d6db');\n",
              "          const dataTable =\n",
              "            await google.colab.kernel.invokeFunction('convertToInteractive',\n",
              "                                                     [key], {});\n",
              "          if (!dataTable) return;\n",
              "\n",
              "          const docLinkHtml = 'Like what you see? Visit the ' +\n",
              "            '<a target=\"_blank\" href=https://colab.research.google.com/notebooks/data_table.ipynb>data table notebook</a>'\n",
              "            + ' to learn more about interactive tables.';\n",
              "          element.innerHTML = '';\n",
              "          dataTable['output_type'] = 'display_data';\n",
              "          await google.colab.output.renderOutput(dataTable, element);\n",
              "          const docLink = document.createElement('div');\n",
              "          docLink.innerHTML = docLinkHtml;\n",
              "          element.appendChild(docLink);\n",
              "        }\n",
              "      </script>\n",
              "    </div>\n",
              "  </div>\n"
            ],
            "text/plain": [
              "                                                 Content Label\n",
              "10391  Một cá nhân bất ngờ mua vào 30,77 triệu cổ phi...   TTF\n",
              "10392  Chưa kịp bán ra, Chủ tịch Đỗ Quý Hải tiếp tục ...   HPX\n",
              "10393  POM cho cán bộ nhân viên nghỉ việc vì dừng lò ...   POM\n",
              "10394  Năm Bảy Bảy (NBB) chấp thuận cho Công ty con c...   NBB\n",
              "10395  Chứng khoán Ngân hàng Sài Gòn Thương Tín (SBS)...   SBS"
            ]
          },
          "execution_count": 6,
          "metadata": {},
          "output_type": "execute_result"
        }
      ],
      "source": [
        "df.tail()"
      ]
    },
    {
      "cell_type": "code",
      "execution_count": null,
      "metadata": {
        "colab": {
          "base_uri": "https://localhost:8080/"
        },
        "id": "-evHq83aB4CI",
        "outputId": "263f2340-0073-42e3-842a-eb7aff0d4264"
      },
      "outputs": [
        {
          "data": {
            "text/plain": [
              "count    10396.000000\n",
              "mean       607.325414\n",
              "std        352.123889\n",
              "min         46.000000\n",
              "25%        381.000000\n",
              "50%        514.000000\n",
              "75%        725.250000\n",
              "max       4235.000000\n",
              "Name: Word Count, dtype: float64"
            ]
          },
          "execution_count": 7,
          "metadata": {},
          "output_type": "execute_result"
        }
      ],
      "source": [
        "# Count the number of words in each article's content and number of times a class appear\n",
        "df['Word Count'] = df['Content'].apply(lambda x: len(str(x).split()))\n",
        "df['Class Count'] = df.groupby('Label')['Label'].transform('count')\n",
        "\n",
        "# Calculate statistics for word count\n",
        "df['Word Count'].describe()"
      ]
    },
    {
      "cell_type": "code",
      "execution_count": null,
      "metadata": {
        "colab": {
          "base_uri": "https://localhost:8080/",
          "height": 206
        },
        "id": "9RvaCV55DsfU",
        "outputId": "fb2cf7bb-a245-4e64-aef8-9ac57118f49e"
      },
      "outputs": [
        {
          "data": {
            "text/html": [
              "\n",
              "\n",
              "  <div id=\"df-ba5414cd-f181-4709-a7ce-eb77d3af17c9\">\n",
              "    <div class=\"colab-df-container\">\n",
              "      <div>\n",
              "<style scoped>\n",
              "    .dataframe tbody tr th:only-of-type {\n",
              "        vertical-align: middle;\n",
              "    }\n",
              "\n",
              "    .dataframe tbody tr th {\n",
              "        vertical-align: top;\n",
              "    }\n",
              "\n",
              "    .dataframe thead th {\n",
              "        text-align: right;\n",
              "    }\n",
              "</style>\n",
              "<table border=\"1\" class=\"dataframe\">\n",
              "  <thead>\n",
              "    <tr style=\"text-align: right;\">\n",
              "      <th></th>\n",
              "      <th>Content</th>\n",
              "      <th>Label</th>\n",
              "      <th>Word Count</th>\n",
              "      <th>Class Count</th>\n",
              "    </tr>\n",
              "  </thead>\n",
              "  <tbody>\n",
              "    <tr>\n",
              "      <th>0</th>\n",
              "      <td>Vingroup báo lãi hơn 3.600 tỷ đồng, doanh thu ...</td>\n",
              "      <td>VIC</td>\n",
              "      <td>599</td>\n",
              "      <td>108</td>\n",
              "    </tr>\n",
              "    <tr>\n",
              "      <th>1</th>\n",
              "      <td>HAGL Agrico (HNG) lỗ quý thứ 5 liên tiếp. Giá ...</td>\n",
              "      <td>HNG</td>\n",
              "      <td>642</td>\n",
              "      <td>65</td>\n",
              "    </tr>\n",
              "    <tr>\n",
              "      <th>2</th>\n",
              "      <td>Vingroup lãi ròng 1.028 tỷ đồng nửa đầu năm, t...</td>\n",
              "      <td>VIC</td>\n",
              "      <td>577</td>\n",
              "      <td>108</td>\n",
              "    </tr>\n",
              "    <tr>\n",
              "      <th>3</th>\n",
              "      <td>Một doanh nghiệp khoáng sản đã vượt 153% mục t...</td>\n",
              "      <td>KSV</td>\n",
              "      <td>430</td>\n",
              "      <td>3</td>\n",
              "    </tr>\n",
              "    <tr>\n",
              "      <th>4</th>\n",
              "      <td>Doanh nghiệp thép từ lớn đến nhỏ đều báo lỗ qu...</td>\n",
              "      <td>HPG</td>\n",
              "      <td>1247</td>\n",
              "      <td>197</td>\n",
              "    </tr>\n",
              "  </tbody>\n",
              "</table>\n",
              "</div>\n",
              "      <button class=\"colab-df-convert\" onclick=\"convertToInteractive('df-ba5414cd-f181-4709-a7ce-eb77d3af17c9')\"\n",
              "              title=\"Convert this dataframe to an interactive table.\"\n",
              "              style=\"display:none;\">\n",
              "\n",
              "  <svg xmlns=\"http://www.w3.org/2000/svg\" height=\"24px\"viewBox=\"0 0 24 24\"\n",
              "       width=\"24px\">\n",
              "    <path d=\"M0 0h24v24H0V0z\" fill=\"none\"/>\n",
              "    <path d=\"M18.56 5.44l.94 2.06.94-2.06 2.06-.94-2.06-.94-.94-2.06-.94 2.06-2.06.94zm-11 1L8.5 8.5l.94-2.06 2.06-.94-2.06-.94L8.5 2.5l-.94 2.06-2.06.94zm10 10l.94 2.06.94-2.06 2.06-.94-2.06-.94-.94-2.06-.94 2.06-2.06.94z\"/><path d=\"M17.41 7.96l-1.37-1.37c-.4-.4-.92-.59-1.43-.59-.52 0-1.04.2-1.43.59L10.3 9.45l-7.72 7.72c-.78.78-.78 2.05 0 2.83L4 21.41c.39.39.9.59 1.41.59.51 0 1.02-.2 1.41-.59l7.78-7.78 2.81-2.81c.8-.78.8-2.07 0-2.86zM5.41 20L4 18.59l7.72-7.72 1.47 1.35L5.41 20z\"/>\n",
              "  </svg>\n",
              "      </button>\n",
              "\n",
              "\n",
              "\n",
              "    <div id=\"df-0d5b3377-249b-4f14-bf78-25497fb78fbc\">\n",
              "      <button class=\"colab-df-quickchart\" onclick=\"quickchart('df-0d5b3377-249b-4f14-bf78-25497fb78fbc')\"\n",
              "              title=\"Suggest charts.\"\n",
              "              style=\"display:none;\">\n",
              "\n",
              "<svg xmlns=\"http://www.w3.org/2000/svg\" height=\"24px\"viewBox=\"0 0 24 24\"\n",
              "     width=\"24px\">\n",
              "    <g>\n",
              "        <path d=\"M19 3H5c-1.1 0-2 .9-2 2v14c0 1.1.9 2 2 2h14c1.1 0 2-.9 2-2V5c0-1.1-.9-2-2-2zM9 17H7v-7h2v7zm4 0h-2V7h2v10zm4 0h-2v-4h2v4z\"/>\n",
              "    </g>\n",
              "</svg>\n",
              "      </button>\n",
              "    </div>\n",
              "\n",
              "<style>\n",
              "  .colab-df-quickchart {\n",
              "    background-color: #E8F0FE;\n",
              "    border: none;\n",
              "    border-radius: 50%;\n",
              "    cursor: pointer;\n",
              "    display: none;\n",
              "    fill: #1967D2;\n",
              "    height: 32px;\n",
              "    padding: 0 0 0 0;\n",
              "    width: 32px;\n",
              "  }\n",
              "\n",
              "  .colab-df-quickchart:hover {\n",
              "    background-color: #E2EBFA;\n",
              "    box-shadow: 0px 1px 2px rgba(60, 64, 67, 0.3), 0px 1px 3px 1px rgba(60, 64, 67, 0.15);\n",
              "    fill: #174EA6;\n",
              "  }\n",
              "\n",
              "  [theme=dark] .colab-df-quickchart {\n",
              "    background-color: #3B4455;\n",
              "    fill: #D2E3FC;\n",
              "  }\n",
              "\n",
              "  [theme=dark] .colab-df-quickchart:hover {\n",
              "    background-color: #434B5C;\n",
              "    box-shadow: 0px 1px 3px 1px rgba(0, 0, 0, 0.15);\n",
              "    filter: drop-shadow(0px 1px 2px rgba(0, 0, 0, 0.3));\n",
              "    fill: #FFFFFF;\n",
              "  }\n",
              "</style>\n",
              "\n",
              "    <script>\n",
              "      async function quickchart(key) {\n",
              "        const containerElement = document.querySelector('#' + key);\n",
              "        const charts = await google.colab.kernel.invokeFunction(\n",
              "            'suggestCharts', [key], {});\n",
              "      }\n",
              "    </script>\n",
              "\n",
              "      <script>\n",
              "\n",
              "function displayQuickchartButton(domScope) {\n",
              "  let quickchartButtonEl =\n",
              "    domScope.querySelector('#df-0d5b3377-249b-4f14-bf78-25497fb78fbc button.colab-df-quickchart');\n",
              "  quickchartButtonEl.style.display =\n",
              "    google.colab.kernel.accessAllowed ? 'block' : 'none';\n",
              "}\n",
              "\n",
              "        displayQuickchartButton(document);\n",
              "      </script>\n",
              "      <style>\n",
              "    .colab-df-container {\n",
              "      display:flex;\n",
              "      flex-wrap:wrap;\n",
              "      gap: 12px;\n",
              "    }\n",
              "\n",
              "    .colab-df-convert {\n",
              "      background-color: #E8F0FE;\n",
              "      border: none;\n",
              "      border-radius: 50%;\n",
              "      cursor: pointer;\n",
              "      display: none;\n",
              "      fill: #1967D2;\n",
              "      height: 32px;\n",
              "      padding: 0 0 0 0;\n",
              "      width: 32px;\n",
              "    }\n",
              "\n",
              "    .colab-df-convert:hover {\n",
              "      background-color: #E2EBFA;\n",
              "      box-shadow: 0px 1px 2px rgba(60, 64, 67, 0.3), 0px 1px 3px 1px rgba(60, 64, 67, 0.15);\n",
              "      fill: #174EA6;\n",
              "    }\n",
              "\n",
              "    [theme=dark] .colab-df-convert {\n",
              "      background-color: #3B4455;\n",
              "      fill: #D2E3FC;\n",
              "    }\n",
              "\n",
              "    [theme=dark] .colab-df-convert:hover {\n",
              "      background-color: #434B5C;\n",
              "      box-shadow: 0px 1px 3px 1px rgba(0, 0, 0, 0.15);\n",
              "      filter: drop-shadow(0px 1px 2px rgba(0, 0, 0, 0.3));\n",
              "      fill: #FFFFFF;\n",
              "    }\n",
              "  </style>\n",
              "\n",
              "      <script>\n",
              "        const buttonEl =\n",
              "          document.querySelector('#df-ba5414cd-f181-4709-a7ce-eb77d3af17c9 button.colab-df-convert');\n",
              "        buttonEl.style.display =\n",
              "          google.colab.kernel.accessAllowed ? 'block' : 'none';\n",
              "\n",
              "        async function convertToInteractive(key) {\n",
              "          const element = document.querySelector('#df-ba5414cd-f181-4709-a7ce-eb77d3af17c9');\n",
              "          const dataTable =\n",
              "            await google.colab.kernel.invokeFunction('convertToInteractive',\n",
              "                                                     [key], {});\n",
              "          if (!dataTable) return;\n",
              "\n",
              "          const docLinkHtml = 'Like what you see? Visit the ' +\n",
              "            '<a target=\"_blank\" href=https://colab.research.google.com/notebooks/data_table.ipynb>data table notebook</a>'\n",
              "            + ' to learn more about interactive tables.';\n",
              "          element.innerHTML = '';\n",
              "          dataTable['output_type'] = 'display_data';\n",
              "          await google.colab.output.renderOutput(dataTable, element);\n",
              "          const docLink = document.createElement('div');\n",
              "          docLink.innerHTML = docLinkHtml;\n",
              "          element.appendChild(docLink);\n",
              "        }\n",
              "      </script>\n",
              "    </div>\n",
              "  </div>\n"
            ],
            "text/plain": [
              "                                             Content Label  Word Count  \\\n",
              "0  Vingroup báo lãi hơn 3.600 tỷ đồng, doanh thu ...   VIC         599   \n",
              "1  HAGL Agrico (HNG) lỗ quý thứ 5 liên tiếp. Giá ...   HNG         642   \n",
              "2  Vingroup lãi ròng 1.028 tỷ đồng nửa đầu năm, t...   VIC         577   \n",
              "3  Một doanh nghiệp khoáng sản đã vượt 153% mục t...   KSV         430   \n",
              "4  Doanh nghiệp thép từ lớn đến nhỏ đều báo lỗ qu...   HPG        1247   \n",
              "\n",
              "   Class Count  \n",
              "0          108  \n",
              "1           65  \n",
              "2          108  \n",
              "3            3  \n",
              "4          197  "
            ]
          },
          "execution_count": 8,
          "metadata": {},
          "output_type": "execute_result"
        }
      ],
      "source": [
        "df.head()"
      ]
    },
    {
      "cell_type": "code",
      "execution_count": null,
      "metadata": {
        "colab": {
          "base_uri": "https://localhost:8080/",
          "height": 472
        },
        "id": "8Y7NA9bxCK40",
        "outputId": "1b7247e3-122e-4c98-b845-5958c137dfd8"
      },
      "outputs": [
        {
          "data": {
            "image/png": "[encoded data removed]",
            "text/plain": [
              "<Figure size 640x480 with 1 Axes>"
            ]
          },
          "metadata": {},
          "output_type": "display_data"
        }
      ],
      "source": [
        "# Plot histogram for word count\n",
        "plt.hist(df['Word Count'], bins=40, color='skyblue', edgecolor='black')\n",
        "plt.title('Histogram of Word Count')\n",
        "plt.xlabel('Word Count')\n",
        "plt.ylabel('Frequency')\n",
        "plt.grid(True)\n",
        "plt.show()"
      ]
    },
    {
      "cell_type": "code",
      "execution_count": null,
      "metadata": {
        "colab": {
          "base_uri": "https://localhost:8080/"
        },
        "id": "wGjBHZ7TB8Br",
        "outputId": "fae02f3f-3c34-49f2-cf59-c6f755cf8ab8"
      },
      "outputs": [
        {
          "name": "stdout",
          "output_type": "stream",
          "text": [
            "count    927.000000\n",
            "mean      11.214671\n",
            "std       21.224713\n",
            "min        1.000000\n",
            "25%        1.000000\n",
            "50%        3.000000\n",
            "75%       11.000000\n",
            "max      197.000000\n",
            "Name: Label, dtype: float64\n"
          ]
        }
      ],
      "source": [
        "# Count the occurrence of each unique label\n",
        "label_counts = df['Label'].value_counts()\n",
        "print(label_counts.describe())\n",
        "\n",
        "# Loop over each unique label and print its count\n",
        "# for label, count in label_counts.items():\n",
        "#     print(f\"Label: {label}, Count: {count}\")"
      ]
    },
    {
      "cell_type": "markdown",
      "metadata": {
        "id": "KbrIPHvNuCOF"
      },
      "source": [
        "## Extract Dataset"
      ]
    },
    {
      "cell_type": "code",
      "execution_count": null,
      "metadata": {
        "colab": {
          "base_uri": "https://localhost:8080/"
        },
        "id": "-OZpZDJiB8Sx",
        "outputId": "cfc53b84-728d-4335-9fad-d7135c219a1c"
      },
      "outputs": [
        {
          "data": {
            "text/plain": [
              "Content        7256\n",
              "Label          7256\n",
              "Word Count     7256\n",
              "Class Count    7256\n",
              "dtype: int64"
            ]
          },
          "execution_count": 11,
          "metadata": {},
          "output_type": "execute_result"
        }
      ],
      "source": [
        "# extracted_df\n",
        "e_df = df.loc[df['Class Count'] > 17].sort_values(by=\"Class Count\", ascending=False)\n",
        "e_df.count()"
      ]
    },
    {
      "cell_type": "code",
      "execution_count": null,
      "metadata": {
        "colab": {
          "base_uri": "https://localhost:8080/"
        },
        "id": "S5IyPXDJEwmh",
        "outputId": "ab41ccdd-6c72-4e63-d5cc-fa210121c0c8"
      },
      "outputs": [
        {
          "data": {
            "text/plain": [
              "156"
            ]
          },
          "execution_count": 12,
          "metadata": {},
          "output_type": "execute_result"
        }
      ],
      "source": [
        "number_of_classes = e_df['Label'].nunique()\n",
        "number_of_classes"
      ]
    },
    {
      "cell_type": "markdown",
      "metadata": {
        "id": "6NLAa4szYUhU"
      },
      "source": [
        "# Processing Dataset"
      ]
    },
    {
      "cell_type": "markdown",
      "metadata": {
        "id": "oAAmnOmSXj5a"
      },
      "source": [
        "## Clean text"
      ]
    },
    {
      "cell_type": "code",
      "execution_count": null,
      "metadata": {
        "colab": {
          "base_uri": "https://localhost:8080/"
        },
        "id": "GnWMnVIDXpl1",
        "outputId": "3d593aa5-f088-4f93-9af7-51ab140195e2"
      },
      "outputs": [
        {
          "data": {
            "text/plain": [
              "['a lô',\n",
              " 'a ha',\n",
              " 'ai',\n",
              " 'ai ai',\n",
              " 'ai nấy',\n",
              " 'ai đó',\n",
              " 'alô',\n",
              " 'amen',\n",
              " 'anh',\n",
              " 'anh ấy']"
            ]
          },
          "execution_count": 13,
          "metadata": {},
          "output_type": "execute_result"
        }
      ],
      "source": [
        "with open('/content/News_classification/vietnamese-stopwords.txt', 'r', encoding='utf-8') as f:\n",
        "    vietnamese_stopwords = f.read().splitlines()\n",
        "\n",
        "vietnamese_stopwords[:10]"
      ]
    },
    {
      "cell_type": "code",
      "execution_count": null,
      "metadata": {
        "colab": {
          "base_uri": "https://localhost:8080/"
        },
        "id": "ckULHpAOYP9z",
        "outputId": "45165b8c-9743-4b51-ae9e-7a28e6ec3054"
      },
      "outputs": [
        {
          "data": {
            "application/vnd.google.colaboratory.intrinsic+json": {
              "type": "string"
            },
            "text/plain": [
              "'VinFast thức vận hành 35 showroom xe máy điện kết hợp trung tâm trải nghiệm Vin3S 24 tỉnh thành phố'"
            ]
          },
          "execution_count": 14,
          "metadata": {},
          "output_type": "execute_result"
        }
      ],
      "source": [
        "def clean_text(txt):\n",
        "    txt = re.sub('\\s+', ' ', txt)\n",
        "    txt = txt.replace('.','')\n",
        "    txt = re.sub('\\n', ' ', txt)\n",
        "    txt = [word_tokenize(wrd) for wrd in txt.split() if wrd not in vietnamese_stopwords]\n",
        "    txt = [item[0] for item in txt]\n",
        "    txt = ' '.join(txt)\n",
        "    return txt\n",
        "\n",
        "clean_text(\" VinFast chính thức vận hành 35 showroom xe máy điện kết hợp trung tâm trải nghiệm Vin3S tại 24 tỉnh, thành phố trên cả nước\")"
      ]
    },
    {
      "cell_type": "code",
      "execution_count": null,
      "metadata": {
        "colab": {
          "base_uri": "https://localhost:8080/"
        },
        "id": "sLKqEbYMt7ZD",
        "outputId": "1502eec2-0572-446e-ee6f-24dedb459022"
      },
      "outputs": [
        {
          "data": {
            "text/html": [
              "\n",
              "\n",
              "  <div id=\"df-09c1058a-7f73-4e8a-a15a-305bd1adb1ed\">\n",
              "    <div class=\"colab-df-container\">\n",
              "      <div>\n",
              "<style scoped>\n",
              "    .dataframe tbody tr th:only-of-type {\n",
              "        vertical-align: middle;\n",
              "    }\n",
              "\n",
              "    .dataframe tbody tr th {\n",
              "        vertical-align: top;\n",
              "    }\n",
              "\n",
              "    .dataframe thead th {\n",
              "        text-align: right;\n",
              "    }\n",
              "</style>\n",
              "<table border=\"1\" class=\"dataframe\">\n",
              "  <thead>\n",
              "    <tr style=\"text-align: right;\">\n",
              "      <th></th>\n",
              "      <th>Content</th>\n",
              "      <th>Label</th>\n",
              "      <th>Word Count</th>\n",
              "      <th>Class Count</th>\n",
              "    </tr>\n",
              "  </thead>\n",
              "  <tbody>\n",
              "    <tr>\n",
              "      <th>979</th>\n",
              "      <td>Hòa Phát muốn đầu tư loạt dự án rộng hơn 1.500...</td>\n",
              "      <td>HPG</td>\n",
              "      <td>950</td>\n",
              "      <td>197</td>\n",
              "    </tr>\n",
              "    <tr>\n",
              "      <th>3878</th>\n",
              "      <td>Hòa Phát muốn rót 85.000 tỷ đồng để mở rộng Kh...</td>\n",
              "      <td>HPG</td>\n",
              "      <td>425</td>\n",
              "      <td>197</td>\n",
              "    </tr>\n",
              "    <tr>\n",
              "      <th>1256</th>\n",
              "      <td>Hòa Phát lên lịch tổ chức đại hội cổ đông 2022...</td>\n",
              "      <td>HPG</td>\n",
              "      <td>598</td>\n",
              "      <td>197</td>\n",
              "    </tr>\n",
              "    <tr>\n",
              "      <th>3787</th>\n",
              "      <td>Hòa Phát đã khắc phục xong sự cố hỏa hoạn tại ...</td>\n",
              "      <td>HPG</td>\n",
              "      <td>271</td>\n",
              "      <td>197</td>\n",
              "    </tr>\n",
              "    <tr>\n",
              "      <th>3771</th>\n",
              "      <td>Hòa Phát tiết kiệm 1.700 tỷ đồng trong 6 tháng...</td>\n",
              "      <td>HPG</td>\n",
              "      <td>601</td>\n",
              "      <td>197</td>\n",
              "    </tr>\n",
              "  </tbody>\n",
              "</table>\n",
              "</div>\n",
              "      <button class=\"colab-df-convert\" onclick=\"convertToInteractive('df-09c1058a-7f73-4e8a-a15a-305bd1adb1ed')\"\n",
              "              title=\"Convert this dataframe to an interactive table.\"\n",
              "              style=\"display:none;\">\n",
              "\n",
              "  <svg xmlns=\"http://www.w3.org/2000/svg\" height=\"24px\"viewBox=\"0 0 24 24\"\n",
              "       width=\"24px\">\n",
              "    <path d=\"M0 0h24v24H0V0z\" fill=\"none\"/>\n",
              "    <path d=\"M18.56 5.44l.94 2.06.94-2.06 2.06-.94-2.06-.94-.94-2.06-.94 2.06-2.06.94zm-11 1L8.5 8.5l.94-2.06 2.06-.94-2.06-.94L8.5 2.5l-.94 2.06-2.06.94zm10 10l.94 2.06.94-2.06 2.06-.94-2.06-.94-.94-2.06-.94 2.06-2.06.94z\"/><path d=\"M17.41 7.96l-1.37-1.37c-.4-.4-.92-.59-1.43-.59-.52 0-1.04.2-1.43.59L10.3 9.45l-7.72 7.72c-.78.78-.78 2.05 0 2.83L4 21.41c.39.39.9.59 1.41.59.51 0 1.02-.2 1.41-.59l7.78-7.78 2.81-2.81c.8-.78.8-2.07 0-2.86zM5.41 20L4 18.59l7.72-7.72 1.47 1.35L5.41 20z\"/>\n",
              "  </svg>\n",
              "      </button>\n",
              "\n",
              "\n",
              "\n",
              "    <div id=\"df-ce15e6d8-3c52-4925-bad8-723f8a584eac\">\n",
              "      <button class=\"colab-df-quickchart\" onclick=\"quickchart('df-ce15e6d8-3c52-4925-bad8-723f8a584eac')\"\n",
              "              title=\"Suggest charts.\"\n",
              "              style=\"display:none;\">\n",
              "\n",
              "<svg xmlns=\"http://www.w3.org/2000/svg\" height=\"24px\"viewBox=\"0 0 24 24\"\n",
              "     width=\"24px\">\n",
              "    <g>\n",
              "        <path d=\"M19 3H5c-1.1 0-2 .9-2 2v14c0 1.1.9 2 2 2h14c1.1 0 2-.9 2-2V5c0-1.1-.9-2-2-2zM9 17H7v-7h2v7zm4 0h-2V7h2v10zm4 0h-2v-4h2v4z\"/>\n",
              "    </g>\n",
              "</svg>\n",
              "      </button>\n",
              "    </div>\n",
              "\n",
              "<style>\n",
              "  .colab-df-quickchart {\n",
              "    background-color: #E8F0FE;\n",
              "    border: none;\n",
              "    border-radius: 50%;\n",
              "    cursor: pointer;\n",
              "    display: none;\n",
              "    fill: #1967D2;\n",
              "    height: 32px;\n",
              "    padding: 0 0 0 0;\n",
              "    width: 32px;\n",
              "  }\n",
              "\n",
              "  .colab-df-quickchart:hover {\n",
              "    background-color: #E2EBFA;\n",
              "    box-shadow: 0px 1px 2px rgba(60, 64, 67, 0.3), 0px 1px 3px 1px rgba(60, 64, 67, 0.15);\n",
              "    fill: #174EA6;\n",
              "  }\n",
              "\n",
              "  [theme=dark] .colab-df-quickchart {\n",
              "    background-color: #3B4455;\n",
              "    fill: #D2E3FC;\n",
              "  }\n",
              "\n",
              "  [theme=dark] .colab-df-quickchart:hover {\n",
              "    background-color: #434B5C;\n",
              "    box-shadow: 0px 1px 3px 1px rgba(0, 0, 0, 0.15);\n",
              "    filter: drop-shadow(0px 1px 2px rgba(0, 0, 0, 0.3));\n",
              "    fill: #FFFFFF;\n",
              "  }\n",
              "</style>\n",
              "\n",
              "    <script>\n",
              "      async function quickchart(key) {\n",
              "        const containerElement = document.querySelector('#' + key);\n",
              "        const charts = await google.colab.kernel.invokeFunction(\n",
              "            'suggestCharts', [key], {});\n",
              "      }\n",
              "    </script>\n",
              "\n",
              "      <script>\n",
              "\n",
              "function displayQuickchartButton(domScope) {\n",
              "  let quickchartButtonEl =\n",
              "    domScope.querySelector('#df-ce15e6d8-3c52-4925-bad8-723f8a584eac button.colab-df-quickchart');\n",
              "  quickchartButtonEl.style.display =\n",
              "    google.colab.kernel.accessAllowed ? 'block' : 'none';\n",
              "}\n",
              "\n",
              "        displayQuickchartButton(document);\n",
              "      </script>\n",
              "      <style>\n",
              "    .colab-df-container {\n",
              "      display:flex;\n",
              "      flex-wrap:wrap;\n",
              "      gap: 12px;\n",
              "    }\n",
              "\n",
              "    .colab-df-convert {\n",
              "      background-color: #E8F0FE;\n",
              "      border: none;\n",
              "      border-radius: 50%;\n",
              "      cursor: pointer;\n",
              "      display: none;\n",
              "      fill: #1967D2;\n",
              "      height: 32px;\n",
              "      padding: 0 0 0 0;\n",
              "      width: 32px;\n",
              "    }\n",
              "\n",
              "    .colab-df-convert:hover {\n",
              "      background-color: #E2EBFA;\n",
              "      box-shadow: 0px 1px 2px rgba(60, 64, 67, 0.3), 0px 1px 3px 1px rgba(60, 64, 67, 0.15);\n",
              "      fill: #174EA6;\n",
              "    }\n",
              "\n",
              "    [theme=dark] .colab-df-convert {\n",
              "      background-color: #3B4455;\n",
              "      fill: #D2E3FC;\n",
              "    }\n",
              "\n",
              "    [theme=dark] .colab-df-convert:hover {\n",
              "      background-color: #434B5C;\n",
              "      box-shadow: 0px 1px 3px 1px rgba(0, 0, 0, 0.15);\n",
              "      filter: drop-shadow(0px 1px 2px rgba(0, 0, 0, 0.3));\n",
              "      fill: #FFFFFF;\n",
              "    }\n",
              "  </style>\n",
              "\n",
              "      <script>\n",
              "        const buttonEl =\n",
              "          document.querySelector('#df-09c1058a-7f73-4e8a-a15a-305bd1adb1ed button.colab-df-convert');\n",
              "        buttonEl.style.display =\n",
              "          google.colab.kernel.accessAllowed ? 'block' : 'none';\n",
              "\n",
              "        async function convertToInteractive(key) {\n",
              "          const element = document.querySelector('#df-09c1058a-7f73-4e8a-a15a-305bd1adb1ed');\n",
              "          const dataTable =\n",
              "            await google.colab.kernel.invokeFunction('convertToInteractive',\n",
              "                                                     [key], {});\n",
              "          if (!dataTable) return;\n",
              "\n",
              "          const docLinkHtml = 'Like what you see? Visit the ' +\n",
              "            '<a target=\"_blank\" href=https://colab.research.google.com/notebooks/data_table.ipynb>data table notebook</a>'\n",
              "            + ' to learn more about interactive tables.';\n",
              "          element.innerHTML = '';\n",
              "          dataTable['output_type'] = 'display_data';\n",
              "          await google.colab.output.renderOutput(dataTable, element);\n",
              "          const docLink = document.createElement('div');\n",
              "          docLink.innerHTML = docLinkHtml;\n",
              "          element.appendChild(docLink);\n",
              "        }\n",
              "      </script>\n",
              "    </div>\n",
              "  </div>\n"
            ],
            "text/plain": [
              "                                                Content Label  Word Count  \\\n",
              "979   Hòa Phát muốn đầu tư loạt dự án rộng hơn 1.500...   HPG         950   \n",
              "3878  Hòa Phát muốn rót 85.000 tỷ đồng để mở rộng Kh...   HPG         425   \n",
              "1256  Hòa Phát lên lịch tổ chức đại hội cổ đông 2022...   HPG         598   \n",
              "3787  Hòa Phát đã khắc phục xong sự cố hỏa hoạn tại ...   HPG         271   \n",
              "3771  Hòa Phát tiết kiệm 1.700 tỷ đồng trong 6 tháng...   HPG         601   \n",
              "\n",
              "      Class Count  \n",
              "979           197  \n",
              "3878          197  \n",
              "1256          197  \n",
              "3787          197  \n",
              "3771          197  "
            ]
          },
          "execution_count": 15,
          "metadata": {},
          "output_type": "execute_result"
        }
      ],
      "source": [
        "# e_df['Content'] = e_df['Content'].apply(clean_text)\n",
        "e_df.head()"
      ]
    },
    {
      "cell_type": "markdown",
      "metadata": {
        "id": "d4CCJN2WY4iI"
      },
      "source": [
        "## Transform labels"
      ]
    },
    {
      "cell_type": "code",
      "execution_count": null,
      "metadata": {
        "colab": {
          "base_uri": "https://localhost:8080/"
        },
        "id": "4X84MjkGHYm7",
        "outputId": "312923d6-6808-4255-dee8-91bd9b76f884"
      },
      "outputs": [
        {
          "name": "stdout",
          "output_type": "stream",
          "text": [
            "['HPG', 'HPG', 'HPG', 'HPG', 'HPG', 'HPG', 'HPG', 'HPG', 'HPG', 'HPG']\n"
          ]
        }
      ],
      "source": [
        "labels_list = e_df['Label'].tolist()\n",
        "print(labels_list[:10])"
      ]
    },
    {
      "cell_type": "code",
      "execution_count": null,
      "metadata": {
        "colab": {
          "base_uri": "https://localhost:8080/"
        },
        "id": "rqVhpg4LdRgY",
        "outputId": "6a43d83f-9d15-42bf-af06-c0e05f682618"
      },
      "outputs": [
        {
          "name": "stdout",
          "output_type": "stream",
          "text": [
            "[142, 31, 142, 128, 90, 73, 101, 90, 90, 142]\n"
          ]
        }
      ],
      "source": [
        "le = LabelEncoder()\n",
        "labels = le.fit_transform(labels_list).tolist()\n",
        "print(labels[-10:])"
      ]
    },
    {
      "cell_type": "code",
      "execution_count": null,
      "metadata": {
        "colab": {
          "base_uri": "https://localhost:8080/",
          "height": 363
        },
        "id": "jcVd4SR3C_Bu",
        "outputId": "74a8605c-d42b-4175-c66a-ff7eea81fe52"
      },
      "outputs": [
        {
          "data": {
            "text/html": [
              "\n",
              "\n",
              "  <div id=\"df-fb680e76-3b29-42cd-91ea-0977b0ade452\">\n",
              "    <div class=\"colab-df-container\">\n",
              "      <div>\n",
              "<style scoped>\n",
              "    .dataframe tbody tr th:only-of-type {\n",
              "        vertical-align: middle;\n",
              "    }\n",
              "\n",
              "    .dataframe tbody tr th {\n",
              "        vertical-align: top;\n",
              "    }\n",
              "\n",
              "    .dataframe thead th {\n",
              "        text-align: right;\n",
              "    }\n",
              "</style>\n",
              "<table border=\"1\" class=\"dataframe\">\n",
              "  <thead>\n",
              "    <tr style=\"text-align: right;\">\n",
              "      <th></th>\n",
              "      <th>Content</th>\n",
              "      <th>Label</th>\n",
              "      <th>Word Count</th>\n",
              "      <th>Class Count</th>\n",
              "      <th>Encode Label</th>\n",
              "    </tr>\n",
              "  </thead>\n",
              "  <tbody>\n",
              "    <tr>\n",
              "      <th>979</th>\n",
              "      <td>Hòa Phát muốn đầu tư loạt dự án rộng hơn 1.500...</td>\n",
              "      <td>HPG</td>\n",
              "      <td>950</td>\n",
              "      <td>197</td>\n",
              "      <td>55</td>\n",
              "    </tr>\n",
              "    <tr>\n",
              "      <th>3878</th>\n",
              "      <td>Hòa Phát muốn rót 85.000 tỷ đồng để mở rộng Kh...</td>\n",
              "      <td>HPG</td>\n",
              "      <td>425</td>\n",
              "      <td>197</td>\n",
              "      <td>55</td>\n",
              "    </tr>\n",
              "    <tr>\n",
              "      <th>1256</th>\n",
              "      <td>Hòa Phát lên lịch tổ chức đại hội cổ đông 2022...</td>\n",
              "      <td>HPG</td>\n",
              "      <td>598</td>\n",
              "      <td>197</td>\n",
              "      <td>55</td>\n",
              "    </tr>\n",
              "    <tr>\n",
              "      <th>3787</th>\n",
              "      <td>Hòa Phát đã khắc phục xong sự cố hỏa hoạn tại ...</td>\n",
              "      <td>HPG</td>\n",
              "      <td>271</td>\n",
              "      <td>197</td>\n",
              "      <td>55</td>\n",
              "    </tr>\n",
              "    <tr>\n",
              "      <th>3771</th>\n",
              "      <td>Hòa Phát tiết kiệm 1.700 tỷ đồng trong 6 tháng...</td>\n",
              "      <td>HPG</td>\n",
              "      <td>601</td>\n",
              "      <td>197</td>\n",
              "      <td>55</td>\n",
              "    </tr>\n",
              "    <tr>\n",
              "      <th>1278</th>\n",
              "      <td>Tham vọng làm dự án thép công suất 80% Hoà Phá...</td>\n",
              "      <td>HPG</td>\n",
              "      <td>1135</td>\n",
              "      <td>197</td>\n",
              "      <td>55</td>\n",
              "    </tr>\n",
              "    <tr>\n",
              "      <th>1287</th>\n",
              "      <td>Những doanh nhân tuổi Sửu nổi bật trên thương ...</td>\n",
              "      <td>HPG</td>\n",
              "      <td>1253</td>\n",
              "      <td>197</td>\n",
              "      <td>55</td>\n",
              "    </tr>\n",
              "    <tr>\n",
              "      <th>3725</th>\n",
              "      <td>Hòa Phát lãi kỷ lục, ban lãnh đạo sắp được thư...</td>\n",
              "      <td>HPG</td>\n",
              "      <td>573</td>\n",
              "      <td>197</td>\n",
              "      <td>55</td>\n",
              "    </tr>\n",
              "    <tr>\n",
              "      <th>3685</th>\n",
              "      <td>Ông Nguyễn Việt Thắng, tân Tổng Giám đốc Tập đ...</td>\n",
              "      <td>HPG</td>\n",
              "      <td>135</td>\n",
              "      <td>197</td>\n",
              "      <td>55</td>\n",
              "    </tr>\n",
              "    <tr>\n",
              "      <th>7763</th>\n",
              "      <td>Hòa Phát đã bán 530 ngàn tấn thép trong tháng ...</td>\n",
              "      <td>HPG</td>\n",
              "      <td>303</td>\n",
              "      <td>197</td>\n",
              "      <td>55</td>\n",
              "    </tr>\n",
              "  </tbody>\n",
              "</table>\n",
              "</div>\n",
              "      <button class=\"colab-df-convert\" onclick=\"convertToInteractive('df-fb680e76-3b29-42cd-91ea-0977b0ade452')\"\n",
              "              title=\"Convert this dataframe to an interactive table.\"\n",
              "              style=\"display:none;\">\n",
              "\n",
              "  <svg xmlns=\"http://www.w3.org/2000/svg\" height=\"24px\"viewBox=\"0 0 24 24\"\n",
              "       width=\"24px\">\n",
              "    <path d=\"M0 0h24v24H0V0z\" fill=\"none\"/>\n",
              "    <path d=\"M18.56 5.44l.94 2.06.94-2.06 2.06-.94-2.06-.94-.94-2.06-.94 2.06-2.06.94zm-11 1L8.5 8.5l.94-2.06 2.06-.94-2.06-.94L8.5 2.5l-.94 2.06-2.06.94zm10 10l.94 2.06.94-2.06 2.06-.94-2.06-.94-.94-2.06-.94 2.06-2.06.94z\"/><path d=\"M17.41 7.96l-1.37-1.37c-.4-.4-.92-.59-1.43-.59-.52 0-1.04.2-1.43.59L10.3 9.45l-7.72 7.72c-.78.78-.78 2.05 0 2.83L4 21.41c.39.39.9.59 1.41.59.51 0 1.02-.2 1.41-.59l7.78-7.78 2.81-2.81c.8-.78.8-2.07 0-2.86zM5.41 20L4 18.59l7.72-7.72 1.47 1.35L5.41 20z\"/>\n",
              "  </svg>\n",
              "      </button>\n",
              "\n",
              "\n",
              "\n",
              "    <div id=\"df-afd5220b-6e58-4b74-994f-4e59bdd5cdb3\">\n",
              "      <button class=\"colab-df-quickchart\" onclick=\"quickchart('df-afd5220b-6e58-4b74-994f-4e59bdd5cdb3')\"\n",
              "              title=\"Suggest charts.\"\n",
              "              style=\"display:none;\">\n",
              "\n",
              "<svg xmlns=\"http://www.w3.org/2000/svg\" height=\"24px\"viewBox=\"0 0 24 24\"\n",
              "     width=\"24px\">\n",
              "    <g>\n",
              "        <path d=\"M19 3H5c-1.1 0-2 .9-2 2v14c0 1.1.9 2 2 2h14c1.1 0 2-.9 2-2V5c0-1.1-.9-2-2-2zM9 17H7v-7h2v7zm4 0h-2V7h2v10zm4 0h-2v-4h2v4z\"/>\n",
              "    </g>\n",
              "</svg>\n",
              "      </button>\n",
              "    </div>\n",
              "\n",
              "<style>\n",
              "  .colab-df-quickchart {\n",
              "    background-color: #E8F0FE;\n",
              "    border: none;\n",
              "    border-radius: 50%;\n",
              "    cursor: pointer;\n",
              "    display: none;\n",
              "    fill: #1967D2;\n",
              "    height: 32px;\n",
              "    padding: 0 0 0 0;\n",
              "    width: 32px;\n",
              "  }\n",
              "\n",
              "  .colab-df-quickchart:hover {\n",
              "    background-color: #E2EBFA;\n",
              "    box-shadow: 0px 1px 2px rgba(60, 64, 67, 0.3), 0px 1px 3px 1px rgba(60, 64, 67, 0.15);\n",
              "    fill: #174EA6;\n",
              "  }\n",
              "\n",
              "  [theme=dark] .colab-df-quickchart {\n",
              "    background-color: #3B4455;\n",
              "    fill: #D2E3FC;\n",
              "  }\n",
              "\n",
              "  [theme=dark] .colab-df-quickchart:hover {\n",
              "    background-color: #434B5C;\n",
              "    box-shadow: 0px 1px 3px 1px rgba(0, 0, 0, 0.15);\n",
              "    filter: drop-shadow(0px 1px 2px rgba(0, 0, 0, 0.3));\n",
              "    fill: #FFFFFF;\n",
              "  }\n",
              "</style>\n",
              "\n",
              "    <script>\n",
              "      async function quickchart(key) {\n",
              "        const containerElement = document.querySelector('#' + key);\n",
              "        const charts = await google.colab.kernel.invokeFunction(\n",
              "            'suggestCharts', [key], {});\n",
              "      }\n",
              "    </script>\n",
              "\n",
              "      <script>\n",
              "\n",
              "function displayQuickchartButton(domScope) {\n",
              "  let quickchartButtonEl =\n",
              "    domScope.querySelector('#df-afd5220b-6e58-4b74-994f-4e59bdd5cdb3 button.colab-df-quickchart');\n",
              "  quickchartButtonEl.style.display =\n",
              "    google.colab.kernel.accessAllowed ? 'block' : 'none';\n",
              "}\n",
              "\n",
              "        displayQuickchartButton(document);\n",
              "      </script>\n",
              "      <style>\n",
              "    .colab-df-container {\n",
              "      display:flex;\n",
              "      flex-wrap:wrap;\n",
              "      gap: 12px;\n",
              "    }\n",
              "\n",
              "    .colab-df-convert {\n",
              "      background-color: #E8F0FE;\n",
              "      border: none;\n",
              "      border-radius: 50%;\n",
              "      cursor: pointer;\n",
              "      display: none;\n",
              "      fill: #1967D2;\n",
              "      height: 32px;\n",
              "      padding: 0 0 0 0;\n",
              "      width: 32px;\n",
              "    }\n",
              "\n",
              "    .colab-df-convert:hover {\n",
              "      background-color: #E2EBFA;\n",
              "      box-shadow: 0px 1px 2px rgba(60, 64, 67, 0.3), 0px 1px 3px 1px rgba(60, 64, 67, 0.15);\n",
              "      fill: #174EA6;\n",
              "    }\n",
              "\n",
              "    [theme=dark] .colab-df-convert {\n",
              "      background-color: #3B4455;\n",
              "      fill: #D2E3FC;\n",
              "    }\n",
              "\n",
              "    [theme=dark] .colab-df-convert:hover {\n",
              "      background-color: #434B5C;\n",
              "      box-shadow: 0px 1px 3px 1px rgba(0, 0, 0, 0.15);\n",
              "      filter: drop-shadow(0px 1px 2px rgba(0, 0, 0, 0.3));\n",
              "      fill: #FFFFFF;\n",
              "    }\n",
              "  </style>\n",
              "\n",
              "      <script>\n",
              "        const buttonEl =\n",
              "          document.querySelector('#df-fb680e76-3b29-42cd-91ea-0977b0ade452 button.colab-df-convert');\n",
              "        buttonEl.style.display =\n",
              "          google.colab.kernel.accessAllowed ? 'block' : 'none';\n",
              "\n",
              "        async function convertToInteractive(key) {\n",
              "          const element = document.querySelector('#df-fb680e76-3b29-42cd-91ea-0977b0ade452');\n",
              "          const dataTable =\n",
              "            await google.colab.kernel.invokeFunction('convertToInteractive',\n",
              "                                                     [key], {});\n",
              "          if (!dataTable) return;\n",
              "\n",
              "          const docLinkHtml = 'Like what you see? Visit the ' +\n",
              "            '<a target=\"_blank\" href=https://colab.research.google.com/notebooks/data_table.ipynb>data table notebook</a>'\n",
              "            + ' to learn more about interactive tables.';\n",
              "          element.innerHTML = '';\n",
              "          dataTable['output_type'] = 'display_data';\n",
              "          await google.colab.output.renderOutput(dataTable, element);\n",
              "          const docLink = document.createElement('div');\n",
              "          docLink.innerHTML = docLinkHtml;\n",
              "          element.appendChild(docLink);\n",
              "        }\n",
              "      </script>\n",
              "    </div>\n",
              "  </div>\n"
            ],
            "text/plain": [
              "                                                Content Label  Word Count  \\\n",
              "979   Hòa Phát muốn đầu tư loạt dự án rộng hơn 1.500...   HPG         950   \n",
              "3878  Hòa Phát muốn rót 85.000 tỷ đồng để mở rộng Kh...   HPG         425   \n",
              "1256  Hòa Phát lên lịch tổ chức đại hội cổ đông 2022...   HPG         598   \n",
              "3787  Hòa Phát đã khắc phục xong sự cố hỏa hoạn tại ...   HPG         271   \n",
              "3771  Hòa Phát tiết kiệm 1.700 tỷ đồng trong 6 tháng...   HPG         601   \n",
              "1278  Tham vọng làm dự án thép công suất 80% Hoà Phá...   HPG        1135   \n",
              "1287  Những doanh nhân tuổi Sửu nổi bật trên thương ...   HPG        1253   \n",
              "3725  Hòa Phát lãi kỷ lục, ban lãnh đạo sắp được thư...   HPG         573   \n",
              "3685  Ông Nguyễn Việt Thắng, tân Tổng Giám đốc Tập đ...   HPG         135   \n",
              "7763  Hòa Phát đã bán 530 ngàn tấn thép trong tháng ...   HPG         303   \n",
              "\n",
              "      Class Count  Encode Label  \n",
              "979           197            55  \n",
              "3878          197            55  \n",
              "1256          197            55  \n",
              "3787          197            55  \n",
              "3771          197            55  \n",
              "1278          197            55  \n",
              "1287          197            55  \n",
              "3725          197            55  \n",
              "3685          197            55  \n",
              "7763          197            55  "
            ]
          },
          "execution_count": 18,
          "metadata": {},
          "output_type": "execute_result"
        }
      ],
      "source": [
        "e_df['Encode Label'] = labels\n",
        "e_df.head(10)"
      ]
    },
    {
      "cell_type": "markdown",
      "metadata": {
        "id": "pfz_FReFILAS"
      },
      "source": [
        "## Split trainset valset"
      ]
    },
    {
      "cell_type": "code",
      "execution_count": null,
      "metadata": {
        "colab": {
          "base_uri": "https://localhost:8080/"
        },
        "id": "Z8LKnxN4IOJJ",
        "outputId": "efdd7d5c-b216-4898-e85e-e721c91f875d"
      },
      "outputs": [
        {
          "name": "stdout",
          "output_type": "stream",
          "text": [
            "6530\n",
            "6107\n",
            "Number of unique labels in the trainset 156\n",
            "Number of unique labels in the valset 156\n"
          ]
        }
      ],
      "source": [
        "trainset, valset = train_test_split(e_df, test_size=0.1, stratify=e_df['Encode Label'])\n",
        "print(len(trainset))\n",
        "trainset = trainset.drop_duplicates(subset=['Label', 'Word Count'], keep='first')\n",
        "print(len(trainset))\n",
        "trainset['Class Count'] = trainset.groupby('Label')['Label'].transform('count')\n",
        "valset['Class Count'] = valset.groupby('Label')['Label'].transform('count')\n",
        "print(\"Number of unique labels in the trainset\", trainset['Encode Label'].nunique())\n",
        "print(\"Number of unique labels in the valset\", valset['Encode Label'].nunique())"
      ]
    },
    {
      "cell_type": "code",
      "execution_count": null,
      "metadata": {
        "colab": {
          "base_uri": "https://localhost:8080/",
          "height": 206
        },
        "id": "M2y3_Tf1vuJ0",
        "outputId": "effc1f4a-1177-4818-bacb-52b8746c7cf1"
      },
      "outputs": [
        {
          "data": {
            "text/html": [
              "\n",
              "\n",
              "  <div id=\"df-a7a15685-a803-4b04-b90a-abefe948752a\">\n",
              "    <div class=\"colab-df-container\">\n",
              "      <div>\n",
              "<style scoped>\n",
              "    .dataframe tbody tr th:only-of-type {\n",
              "        vertical-align: middle;\n",
              "    }\n",
              "\n",
              "    .dataframe tbody tr th {\n",
              "        vertical-align: top;\n",
              "    }\n",
              "\n",
              "    .dataframe thead th {\n",
              "        text-align: right;\n",
              "    }\n",
              "</style>\n",
              "<table border=\"1\" class=\"dataframe\">\n",
              "  <thead>\n",
              "    <tr style=\"text-align: right;\">\n",
              "      <th></th>\n",
              "      <th>Content</th>\n",
              "      <th>Label</th>\n",
              "      <th>Word Count</th>\n",
              "      <th>Class Count</th>\n",
              "      <th>Encode Label</th>\n",
              "    </tr>\n",
              "  </thead>\n",
              "  <tbody>\n",
              "    <tr>\n",
              "      <th>9641</th>\n",
              "      <td>One Capital Hospitality (OCH): Quản lý quỹ Lea...</td>\n",
              "      <td>OCH</td>\n",
              "      <td>495</td>\n",
              "      <td>14</td>\n",
              "      <td>90</td>\n",
              "    </tr>\n",
              "    <tr>\n",
              "      <th>2290</th>\n",
              "      <td>Lợi nhuận quý II của Vinatex tăng 49% nhờ dự t...</td>\n",
              "      <td>VGT</td>\n",
              "      <td>553</td>\n",
              "      <td>15</td>\n",
              "      <td>142</td>\n",
              "    </tr>\n",
              "    <tr>\n",
              "      <th>3700</th>\n",
              "      <td>Tổng Công ty Tín Nghĩa đẩy mạnh tái cơ cấu, th...</td>\n",
              "      <td>TID</td>\n",
              "      <td>1151</td>\n",
              "      <td>15</td>\n",
              "      <td>131</td>\n",
              "    </tr>\n",
              "    <tr>\n",
              "      <th>7200</th>\n",
              "      <td>POM chuyển từ lãi sang lỗ sau soát xét. Theo B...</td>\n",
              "      <td>POM</td>\n",
              "      <td>288</td>\n",
              "      <td>16</td>\n",
              "      <td>101</td>\n",
              "    </tr>\n",
              "    <tr>\n",
              "      <th>7051</th>\n",
              "      <td>L14 kỳ vọng lãi 2023 tăng 32%, giảm tỷ lệ cổ t...</td>\n",
              "      <td>L14</td>\n",
              "      <td>685</td>\n",
              "      <td>16</td>\n",
              "      <td>73</td>\n",
              "    </tr>\n",
              "  </tbody>\n",
              "</table>\n",
              "</div>\n",
              "      <button class=\"colab-df-convert\" onclick=\"convertToInteractive('df-a7a15685-a803-4b04-b90a-abefe948752a')\"\n",
              "              title=\"Convert this dataframe to an interactive table.\"\n",
              "              style=\"display:none;\">\n",
              "\n",
              "  <svg xmlns=\"http://www.w3.org/2000/svg\" height=\"24px\"viewBox=\"0 0 24 24\"\n",
              "       width=\"24px\">\n",
              "    <path d=\"M0 0h24v24H0V0z\" fill=\"none\"/>\n",
              "    <path d=\"M18.56 5.44l.94 2.06.94-2.06 2.06-.94-2.06-.94-.94-2.06-.94 2.06-2.06.94zm-11 1L8.5 8.5l.94-2.06 2.06-.94-2.06-.94L8.5 2.5l-.94 2.06-2.06.94zm10 10l.94 2.06.94-2.06 2.06-.94-2.06-.94-.94-2.06-.94 2.06-2.06.94z\"/><path d=\"M17.41 7.96l-1.37-1.37c-.4-.4-.92-.59-1.43-.59-.52 0-1.04.2-1.43.59L10.3 9.45l-7.72 7.72c-.78.78-.78 2.05 0 2.83L4 21.41c.39.39.9.59 1.41.59.51 0 1.02-.2 1.41-.59l7.78-7.78 2.81-2.81c.8-.78.8-2.07 0-2.86zM5.41 20L4 18.59l7.72-7.72 1.47 1.35L5.41 20z\"/>\n",
              "  </svg>\n",
              "      </button>\n",
              "\n",
              "\n",
              "\n",
              "    <div id=\"df-b7ee7393-41f2-4d5b-b8fc-ad6b9ba832b5\">\n",
              "      <button class=\"colab-df-quickchart\" onclick=\"quickchart('df-b7ee7393-41f2-4d5b-b8fc-ad6b9ba832b5')\"\n",
              "              title=\"Suggest charts.\"\n",
              "              style=\"display:none;\">\n",
              "\n",
              "<svg xmlns=\"http://www.w3.org/2000/svg\" height=\"24px\"viewBox=\"0 0 24 24\"\n",
              "     width=\"24px\">\n",
              "    <g>\n",
              "        <path d=\"M19 3H5c-1.1 0-2 .9-2 2v14c0 1.1.9 2 2 2h14c1.1 0 2-.9 2-2V5c0-1.1-.9-2-2-2zM9 17H7v-7h2v7zm4 0h-2V7h2v10zm4 0h-2v-4h2v4z\"/>\n",
              "    </g>\n",
              "</svg>\n",
              "      </button>\n",
              "    </div>\n",
              "\n",
              "<style>\n",
              "  .colab-df-quickchart {\n",
              "    background-color: #E8F0FE;\n",
              "    border: none;\n",
              "    border-radius: 50%;\n",
              "    cursor: pointer;\n",
              "    display: none;\n",
              "    fill: #1967D2;\n",
              "    height: 32px;\n",
              "    padding: 0 0 0 0;\n",
              "    width: 32px;\n",
              "  }\n",
              "\n",
              "  .colab-df-quickchart:hover {\n",
              "    background-color: #E2EBFA;\n",
              "    box-shadow: 0px 1px 2px rgba(60, 64, 67, 0.3), 0px 1px 3px 1px rgba(60, 64, 67, 0.15);\n",
              "    fill: #174EA6;\n",
              "  }\n",
              "\n",
              "  [theme=dark] .colab-df-quickchart {\n",
              "    background-color: #3B4455;\n",
              "    fill: #D2E3FC;\n",
              "  }\n",
              "\n",
              "  [theme=dark] .colab-df-quickchart:hover {\n",
              "    background-color: #434B5C;\n",
              "    box-shadow: 0px 1px 3px 1px rgba(0, 0, 0, 0.15);\n",
              "    filter: drop-shadow(0px 1px 2px rgba(0, 0, 0, 0.3));\n",
              "    fill: #FFFFFF;\n",
              "  }\n",
              "</style>\n",
              "\n",
              "    <script>\n",
              "      async function quickchart(key) {\n",
              "        const containerElement = document.querySelector('#' + key);\n",
              "        const charts = await google.colab.kernel.invokeFunction(\n",
              "            'suggestCharts', [key], {});\n",
              "      }\n",
              "    </script>\n",
              "\n",
              "      <script>\n",
              "\n",
              "function displayQuickchartButton(domScope) {\n",
              "  let quickchartButtonEl =\n",
              "    domScope.querySelector('#df-b7ee7393-41f2-4d5b-b8fc-ad6b9ba832b5 button.colab-df-quickchart');\n",
              "  quickchartButtonEl.style.display =\n",
              "    google.colab.kernel.accessAllowed ? 'block' : 'none';\n",
              "}\n",
              "\n",
              "        displayQuickchartButton(document);\n",
              "      </script>\n",
              "      <style>\n",
              "    .colab-df-container {\n",
              "      display:flex;\n",
              "      flex-wrap:wrap;\n",
              "      gap: 12px;\n",
              "    }\n",
              "\n",
              "    .colab-df-convert {\n",
              "      background-color: #E8F0FE;\n",
              "      border: none;\n",
              "      border-radius: 50%;\n",
              "      cursor: pointer;\n",
              "      display: none;\n",
              "      fill: #1967D2;\n",
              "      height: 32px;\n",
              "      padding: 0 0 0 0;\n",
              "      width: 32px;\n",
              "    }\n",
              "\n",
              "    .colab-df-convert:hover {\n",
              "      background-color: #E2EBFA;\n",
              "      box-shadow: 0px 1px 2px rgba(60, 64, 67, 0.3), 0px 1px 3px 1px rgba(60, 64, 67, 0.15);\n",
              "      fill: #174EA6;\n",
              "    }\n",
              "\n",
              "    [theme=dark] .colab-df-convert {\n",
              "      background-color: #3B4455;\n",
              "      fill: #D2E3FC;\n",
              "    }\n",
              "\n",
              "    [theme=dark] .colab-df-convert:hover {\n",
              "      background-color: #434B5C;\n",
              "      box-shadow: 0px 1px 3px 1px rgba(0, 0, 0, 0.15);\n",
              "      filter: drop-shadow(0px 1px 2px rgba(0, 0, 0, 0.3));\n",
              "      fill: #FFFFFF;\n",
              "    }\n",
              "  </style>\n",
              "\n",
              "      <script>\n",
              "        const buttonEl =\n",
              "          document.querySelector('#df-a7a15685-a803-4b04-b90a-abefe948752a button.colab-df-convert');\n",
              "        buttonEl.style.display =\n",
              "          google.colab.kernel.accessAllowed ? 'block' : 'none';\n",
              "\n",
              "        async function convertToInteractive(key) {\n",
              "          const element = document.querySelector('#df-a7a15685-a803-4b04-b90a-abefe948752a');\n",
              "          const dataTable =\n",
              "            await google.colab.kernel.invokeFunction('convertToInteractive',\n",
              "                                                     [key], {});\n",
              "          if (!dataTable) return;\n",
              "\n",
              "          const docLinkHtml = 'Like what you see? Visit the ' +\n",
              "            '<a target=\"_blank\" href=https://colab.research.google.com/notebooks/data_table.ipynb>data table notebook</a>'\n",
              "            + ' to learn more about interactive tables.';\n",
              "          element.innerHTML = '';\n",
              "          dataTable['output_type'] = 'display_data';\n",
              "          await google.colab.output.renderOutput(dataTable, element);\n",
              "          const docLink = document.createElement('div');\n",
              "          docLink.innerHTML = docLinkHtml;\n",
              "          element.appendChild(docLink);\n",
              "        }\n",
              "      </script>\n",
              "    </div>\n",
              "  </div>\n"
            ],
            "text/plain": [
              "                                                Content Label  Word Count  \\\n",
              "9641  One Capital Hospitality (OCH): Quản lý quỹ Lea...   OCH         495   \n",
              "2290  Lợi nhuận quý II của Vinatex tăng 49% nhờ dự t...   VGT         553   \n",
              "3700  Tổng Công ty Tín Nghĩa đẩy mạnh tái cơ cấu, th...   TID        1151   \n",
              "7200  POM chuyển từ lãi sang lỗ sau soát xét. Theo B...   POM         288   \n",
              "7051  L14 kỳ vọng lãi 2023 tăng 32%, giảm tỷ lệ cổ t...   L14         685   \n",
              "\n",
              "      Class Count  Encode Label  \n",
              "9641           14            90  \n",
              "2290           15           142  \n",
              "3700           15           131  \n",
              "7200           16           101  \n",
              "7051           16            73  "
            ]
          },
          "execution_count": 20,
          "metadata": {},
          "output_type": "execute_result"
        }
      ],
      "source": [
        "trainset_unique_label = trainset.drop_duplicates(subset='Encode Label').sort_values(by=\"Class Count\")\n",
        "trainset_unique_label.head()\n"
      ]
    },
    {
      "cell_type": "code",
      "execution_count": null,
      "metadata": {
        "colab": {
          "base_uri": "https://localhost:8080/",
          "height": 564
        },
        "id": "T1mxhA5RnGBS",
        "outputId": "72d8ee5e-a570-41d4-df92-9ff230d41d8d"
      },
      "outputs": [
        {
          "data": {
            "image/png": "[encoded data removed]",
            "text/plain": [
              "<Figure size 1000x600 with 1 Axes>"
            ]
          },
          "metadata": {},
          "output_type": "display_data"
        }
      ],
      "source": [
        "plt.figure(figsize=(10,6))\n",
        "plt.hist(trainset_unique_label['Class Count'], bins=30, edgecolor='black')\n",
        "plt.title('Distribution of Class Sizes')\n",
        "plt.xlabel('Class Count')\n",
        "plt.ylabel('Number of Classes')\n",
        "plt.show()\n"
      ]
    },
    {
      "cell_type": "code",
      "execution_count": null,
      "metadata": {
        "colab": {
          "base_uri": "https://localhost:8080/",
          "height": 521
        },
        "id": "azPKL6Y88LnS",
        "outputId": "df9bdbe7-d951-4ea9-abbc-a075c94da69a"
      },
      "outputs": [
        {
          "data": {
            "image/png": "[encoded data removed]",
            "text/plain": [
              "<Figure size 1000x600 with 1 Axes>"
            ]
          },
          "metadata": {},
          "output_type": "display_data"
        }
      ],
      "source": [
        "# Pie chart, where the slices will be ordered and plotted counter-clockwise:\n",
        "sizes = trainset_unique_label['Class Count'].values\n",
        "\n",
        "plt.figure(figsize=(10,6))\n",
        "plt.pie(sizes, startangle=140)\n",
        "plt.title('Distribution of Class Sizes')\n",
        "plt.axis('equal')  # Equal aspect ratio ensures that pie is drawn as a circle.\n",
        "plt.show()"
      ]
    },
    {
      "cell_type": "markdown",
      "metadata": {
        "id": "KQwBfmkcciYm"
      },
      "source": [
        "## Balance Dataset"
      ]
    },
    {
      "cell_type": "code",
      "execution_count": null,
      "metadata": {
        "id": "uzp9row0YzB3"
      },
      "outputs": [],
      "source": [
        "def balance_data(df, target_count):\n",
        "    new_data = pd.DataFrame(columns=df.columns)\n",
        "    for label in df['Label'].unique():\n",
        "        label_df = df[df['Label'] == label]\n",
        "        count = len(label_df)\n",
        "        additional_samples = []\n",
        "\n",
        "        if count < 20:\n",
        "            for _, row in label_df.iterrows():\n",
        "                content = row['Content']\n",
        "                sentences = nltk.tokenize.sent_tokenize(content)[:3]\n",
        "                for sentence in sentences:\n",
        "                    new_sample = pd.Series(data=row.values, index=df.columns)\n",
        "                    new_sample['Content'] = sentence\n",
        "                    new_sample['Word Count'] = len(sentence.split())\n",
        "                    if new_sample['Word Count'] > 3:\n",
        "                      additional_samples.append(new_sample)\n",
        "\n",
        "        elif 20 <= count < 45:\n",
        "            for _, row in label_df.iterrows():\n",
        "                content = row['Content']\n",
        "                sentences = nltk.tokenize.sent_tokenize(content)[:2]\n",
        "                for sentence in sentences:\n",
        "                    new_sample = pd.Series(data=row.values, index=df.columns)\n",
        "                    new_sample['Content'] = sentence\n",
        "                    new_sample['Word Count'] = len(sentence.split())\n",
        "                    if new_sample['Word Count'] > 3:\n",
        "                      additional_samples.append(new_sample)\n",
        "\n",
        "        else:  # count >= 45\n",
        "            for _, row in label_df.iterrows():\n",
        "                content = row['Content']\n",
        "                sentences = nltk.tokenize.sent_tokenize(content)\n",
        "                if len(sentences) > 1:\n",
        "                    sentence = sentences[1]  # Take only 2nd sentence if it exists\n",
        "                    new_sample = pd.Series(data=row.values, index=df.columns)\n",
        "                    new_sample['Content'] = sentence\n",
        "                    new_sample['Word Count'] = len(sentence.split())\n",
        "                    if new_sample['Word Count'] > 3:\n",
        "                      additional_samples.append(new_sample)\n",
        "\n",
        "        # This is a new block of code to limit the number of samples\n",
        "        # We randomly select 'target_count' samples if there are more than 'target_count' samples\n",
        "        if len(additional_samples) > target_count:\n",
        "            additional_samples = random.sample(additional_samples, target_count)\n",
        "\n",
        "        additional_samples = pd.DataFrame(additional_samples)\n",
        "        new_data = pd.concat([new_data, additional_samples], ignore_index=True)\n",
        "\n",
        "    return new_data\n"
      ]
    },
    {
      "cell_type": "code",
      "execution_count": null,
      "metadata": {
        "colab": {
          "base_uri": "https://localhost:8080/"
        },
        "id": "_gfQUISEYYXb",
        "outputId": "87b8c3b0-5c54-4cec-ffc2-0450508fc79a"
      },
      "outputs": [
        {
          "data": {
            "text/plain": [
              "8324"
            ]
          },
          "execution_count": 24,
          "metadata": {},
          "output_type": "execute_result"
        }
      ],
      "source": [
        "balanced_trainset = balance_data(trainset, target_count=60)\n",
        "len(balanced_trainset)"
      ]
    },
    {
      "cell_type": "code",
      "execution_count": null,
      "metadata": {
        "colab": {
          "base_uri": "https://localhost:8080/"
        },
        "id": "2m7Ja1eO_0Wh",
        "outputId": "c4ca4285-ef06-4b51-ed84-36975dcec72b"
      },
      "outputs": [
        {
          "data": {
            "text/plain": [
              "2145"
            ]
          },
          "execution_count": 25,
          "metadata": {},
          "output_type": "execute_result"
        }
      ],
      "source": [
        "balanced_valset = balance_data(valset, target_count=60)\n",
        "len(balanced_valset)"
      ]
    },
    {
      "cell_type": "code",
      "execution_count": null,
      "metadata": {
        "colab": {
          "base_uri": "https://localhost:8080/",
          "height": 363
        },
        "id": "bvt_FAwwbiQ5",
        "outputId": "7e5d6c08-afbc-4692-f2f2-75f1c240536a"
      },
      "outputs": [
        {
          "data": {
            "text/html": [
              "\n",
              "\n",
              "  <div id=\"df-7129cb42-d13d-433f-8f8a-6fb807dc52d4\">\n",
              "    <div class=\"colab-df-container\">\n",
              "      <div>\n",
              "<style scoped>\n",
              "    .dataframe tbody tr th:only-of-type {\n",
              "        vertical-align: middle;\n",
              "    }\n",
              "\n",
              "    .dataframe tbody tr th {\n",
              "        vertical-align: top;\n",
              "    }\n",
              "\n",
              "    .dataframe thead th {\n",
              "        text-align: right;\n",
              "    }\n",
              "</style>\n",
              "<table border=\"1\" class=\"dataframe\">\n",
              "  <thead>\n",
              "    <tr style=\"text-align: right;\">\n",
              "      <th></th>\n",
              "      <th>Content</th>\n",
              "      <th>Label</th>\n",
              "      <th>Word Count</th>\n",
              "      <th>Class Count</th>\n",
              "      <th>Encode Label</th>\n",
              "    </tr>\n",
              "  </thead>\n",
              "  <tbody>\n",
              "    <tr>\n",
              "      <th>0</th>\n",
              "      <td>Bà Phạm Thị Thanh Mai làm Chủ tịch Hội đồng qu...</td>\n",
              "      <td>FLC</td>\n",
              "      <td>29</td>\n",
              "      <td>60</td>\n",
              "      <td>35</td>\n",
              "    </tr>\n",
              "    <tr>\n",
              "      <th>1</th>\n",
              "      <td>Cục thuế TP Hà Nội cho biết Tập đoàn FLC có số...</td>\n",
              "      <td>FLC</td>\n",
              "      <td>21</td>\n",
              "      <td>60</td>\n",
              "      <td>35</td>\n",
              "    </tr>\n",
              "    <tr>\n",
              "      <th>2</th>\n",
              "      <td>Doanh thu hợp nhất về bán hàng và cung cấp dịc...</td>\n",
              "      <td>FLC</td>\n",
              "      <td>42</td>\n",
              "      <td>60</td>\n",
              "      <td>35</td>\n",
              "    </tr>\n",
              "    <tr>\n",
              "      <th>3</th>\n",
              "      <td>HĐQT Tập đoàn FLC (HOSE: FLC) vừa chấp thuận đ...</td>\n",
              "      <td>FLC</td>\n",
              "      <td>41</td>\n",
              "      <td>60</td>\n",
              "      <td>35</td>\n",
              "    </tr>\n",
              "    <tr>\n",
              "      <th>4</th>\n",
              "      <td>Cơ quan Cảnh sát điều tra Bộ Công an cho rằng ...</td>\n",
              "      <td>FLC</td>\n",
              "      <td>43</td>\n",
              "      <td>60</td>\n",
              "      <td>35</td>\n",
              "    </tr>\n",
              "    <tr>\n",
              "      <th>5</th>\n",
              "      <td>Kể từ ngày 1/1/2023, vị trí này được chuyển gi...</td>\n",
              "      <td>FLC</td>\n",
              "      <td>62</td>\n",
              "      <td>60</td>\n",
              "      <td>35</td>\n",
              "    </tr>\n",
              "    <tr>\n",
              "      <th>6</th>\n",
              "      <td>Ông Đặng Tất Thắng, cựu Chủ tịch FLC, cựu CEO ...</td>\n",
              "      <td>FLC</td>\n",
              "      <td>37</td>\n",
              "      <td>60</td>\n",
              "      <td>35</td>\n",
              "    </tr>\n",
              "    <tr>\n",
              "      <th>7</th>\n",
              "      <td>Sau gần một tháng ngồi ghế Phó Chủ tịch HĐQT l...</td>\n",
              "      <td>FLC</td>\n",
              "      <td>27</td>\n",
              "      <td>60</td>\n",
              "      <td>35</td>\n",
              "    </tr>\n",
              "    <tr>\n",
              "      <th>8</th>\n",
              "      <td>Công ty Đấu giá Hợp danh Minh Pháp cho biết bu...</td>\n",
              "      <td>FLC</td>\n",
              "      <td>38</td>\n",
              "      <td>60</td>\n",
              "      <td>35</td>\n",
              "    </tr>\n",
              "    <tr>\n",
              "      <th>9</th>\n",
              "      <td>UBCKNN phạt tiền Công ty CP Tập đoàn FLC 100 t...</td>\n",
              "      <td>FLC</td>\n",
              "      <td>49</td>\n",
              "      <td>60</td>\n",
              "      <td>35</td>\n",
              "    </tr>\n",
              "  </tbody>\n",
              "</table>\n",
              "</div>\n",
              "      <button class=\"colab-df-convert\" onclick=\"convertToInteractive('df-7129cb42-d13d-433f-8f8a-6fb807dc52d4')\"\n",
              "              title=\"Convert this dataframe to an interactive table.\"\n",
              "              style=\"display:none;\">\n",
              "\n",
              "  <svg xmlns=\"http://www.w3.org/2000/svg\" height=\"24px\"viewBox=\"0 0 24 24\"\n",
              "       width=\"24px\">\n",
              "    <path d=\"M0 0h24v24H0V0z\" fill=\"none\"/>\n",
              "    <path d=\"M18.56 5.44l.94 2.06.94-2.06 2.06-.94-2.06-.94-.94-2.06-.94 2.06-2.06.94zm-11 1L8.5 8.5l.94-2.06 2.06-.94-2.06-.94L8.5 2.5l-.94 2.06-2.06.94zm10 10l.94 2.06.94-2.06 2.06-.94-2.06-.94-.94-2.06-.94 2.06-2.06.94z\"/><path d=\"M17.41 7.96l-1.37-1.37c-.4-.4-.92-.59-1.43-.59-.52 0-1.04.2-1.43.59L10.3 9.45l-7.72 7.72c-.78.78-.78 2.05 0 2.83L4 21.41c.39.39.9.59 1.41.59.51 0 1.02-.2 1.41-.59l7.78-7.78 2.81-2.81c.8-.78.8-2.07 0-2.86zM5.41 20L4 18.59l7.72-7.72 1.47 1.35L5.41 20z\"/>\n",
              "  </svg>\n",
              "      </button>\n",
              "\n",
              "\n",
              "\n",
              "    <div id=\"df-566abf71-7d80-44e0-9517-85bf3a5cfab1\">\n",
              "      <button class=\"colab-df-quickchart\" onclick=\"quickchart('df-566abf71-7d80-44e0-9517-85bf3a5cfab1')\"\n",
              "              title=\"Suggest charts.\"\n",
              "              style=\"display:none;\">\n",
              "\n",
              "<svg xmlns=\"http://www.w3.org/2000/svg\" height=\"24px\"viewBox=\"0 0 24 24\"\n",
              "     width=\"24px\">\n",
              "    <g>\n",
              "        <path d=\"M19 3H5c-1.1 0-2 .9-2 2v14c0 1.1.9 2 2 2h14c1.1 0 2-.9 2-2V5c0-1.1-.9-2-2-2zM9 17H7v-7h2v7zm4 0h-2V7h2v10zm4 0h-2v-4h2v4z\"/>\n",
              "    </g>\n",
              "</svg>\n",
              "      </button>\n",
              "    </div>\n",
              "\n",
              "<style>\n",
              "  .colab-df-quickchart {\n",
              "    background-color: #E8F0FE;\n",
              "    border: none;\n",
              "    border-radius: 50%;\n",
              "    cursor: pointer;\n",
              "    display: none;\n",
              "    fill: #1967D2;\n",
              "    height: 32px;\n",
              "    padding: 0 0 0 0;\n",
              "    width: 32px;\n",
              "  }\n",
              "\n",
              "  .colab-df-quickchart:hover {\n",
              "    background-color: #E2EBFA;\n",
              "    box-shadow: 0px 1px 2px rgba(60, 64, 67, 0.3), 0px 1px 3px 1px rgba(60, 64, 67, 0.15);\n",
              "    fill: #174EA6;\n",
              "  }\n",
              "\n",
              "  [theme=dark] .colab-df-quickchart {\n",
              "    background-color: #3B4455;\n",
              "    fill: #D2E3FC;\n",
              "  }\n",
              "\n",
              "  [theme=dark] .colab-df-quickchart:hover {\n",
              "    background-color: #434B5C;\n",
              "    box-shadow: 0px 1px 3px 1px rgba(0, 0, 0, 0.15);\n",
              "    filter: drop-shadow(0px 1px 2px rgba(0, 0, 0, 0.3));\n",
              "    fill: #FFFFFF;\n",
              "  }\n",
              "</style>\n",
              "\n",
              "    <script>\n",
              "      async function quickchart(key) {\n",
              "        const containerElement = document.querySelector('#' + key);\n",
              "        const charts = await google.colab.kernel.invokeFunction(\n",
              "            'suggestCharts', [key], {});\n",
              "      }\n",
              "    </script>\n",
              "\n",
              "      <script>\n",
              "\n",
              "function displayQuickchartButton(domScope) {\n",
              "  let quickchartButtonEl =\n",
              "    domScope.querySelector('#df-566abf71-7d80-44e0-9517-85bf3a5cfab1 button.colab-df-quickchart');\n",
              "  quickchartButtonEl.style.display =\n",
              "    google.colab.kernel.accessAllowed ? 'block' : 'none';\n",
              "}\n",
              "\n",
              "        displayQuickchartButton(document);\n",
              "      </script>\n",
              "      <style>\n",
              "    .colab-df-container {\n",
              "      display:flex;\n",
              "      flex-wrap:wrap;\n",
              "      gap: 12px;\n",
              "    }\n",
              "\n",
              "    .colab-df-convert {\n",
              "      background-color: #E8F0FE;\n",
              "      border: none;\n",
              "      border-radius: 50%;\n",
              "      cursor: pointer;\n",
              "      display: none;\n",
              "      fill: #1967D2;\n",
              "      height: 32px;\n",
              "      padding: 0 0 0 0;\n",
              "      width: 32px;\n",
              "    }\n",
              "\n",
              "    .colab-df-convert:hover {\n",
              "      background-color: #E2EBFA;\n",
              "      box-shadow: 0px 1px 2px rgba(60, 64, 67, 0.3), 0px 1px 3px 1px rgba(60, 64, 67, 0.15);\n",
              "      fill: #174EA6;\n",
              "    }\n",
              "\n",
              "    [theme=dark] .colab-df-convert {\n",
              "      background-color: #3B4455;\n",
              "      fill: #D2E3FC;\n",
              "    }\n",
              "\n",
              "    [theme=dark] .colab-df-convert:hover {\n",
              "      background-color: #434B5C;\n",
              "      box-shadow: 0px 1px 3px 1px rgba(0, 0, 0, 0.15);\n",
              "      filter: drop-shadow(0px 1px 2px rgba(0, 0, 0, 0.3));\n",
              "      fill: #FFFFFF;\n",
              "    }\n",
              "  </style>\n",
              "\n",
              "      <script>\n",
              "        const buttonEl =\n",
              "          document.querySelector('#df-7129cb42-d13d-433f-8f8a-6fb807dc52d4 button.colab-df-convert');\n",
              "        buttonEl.style.display =\n",
              "          google.colab.kernel.accessAllowed ? 'block' : 'none';\n",
              "\n",
              "        async function convertToInteractive(key) {\n",
              "          const element = document.querySelector('#df-7129cb42-d13d-433f-8f8a-6fb807dc52d4');\n",
              "          const dataTable =\n",
              "            await google.colab.kernel.invokeFunction('convertToInteractive',\n",
              "                                                     [key], {});\n",
              "          if (!dataTable) return;\n",
              "\n",
              "          const docLinkHtml = 'Like what you see? Visit the ' +\n",
              "            '<a target=\"_blank\" href=https://colab.research.google.com/notebooks/data_table.ipynb>data table notebook</a>'\n",
              "            + ' to learn more about interactive tables.';\n",
              "          element.innerHTML = '';\n",
              "          dataTable['output_type'] = 'display_data';\n",
              "          await google.colab.output.renderOutput(dataTable, element);\n",
              "          const docLink = document.createElement('div');\n",
              "          docLink.innerHTML = docLinkHtml;\n",
              "          element.appendChild(docLink);\n",
              "        }\n",
              "      </script>\n",
              "    </div>\n",
              "  </div>\n"
            ],
            "text/plain": [
              "                                             Content Label Word Count  \\\n",
              "0  Bà Phạm Thị Thanh Mai làm Chủ tịch Hội đồng qu...   FLC         29   \n",
              "1  Cục thuế TP Hà Nội cho biết Tập đoàn FLC có số...   FLC         21   \n",
              "2  Doanh thu hợp nhất về bán hàng và cung cấp dịc...   FLC         42   \n",
              "3  HĐQT Tập đoàn FLC (HOSE: FLC) vừa chấp thuận đ...   FLC         41   \n",
              "4  Cơ quan Cảnh sát điều tra Bộ Công an cho rằng ...   FLC         43   \n",
              "5  Kể từ ngày 1/1/2023, vị trí này được chuyển gi...   FLC         62   \n",
              "6  Ông Đặng Tất Thắng, cựu Chủ tịch FLC, cựu CEO ...   FLC         37   \n",
              "7  Sau gần một tháng ngồi ghế Phó Chủ tịch HĐQT l...   FLC         27   \n",
              "8  Công ty Đấu giá Hợp danh Minh Pháp cho biết bu...   FLC         38   \n",
              "9  UBCKNN phạt tiền Công ty CP Tập đoàn FLC 100 t...   FLC         49   \n",
              "\n",
              "   Class Count Encode Label  \n",
              "0           60           35  \n",
              "1           60           35  \n",
              "2           60           35  \n",
              "3           60           35  \n",
              "4           60           35  \n",
              "5           60           35  \n",
              "6           60           35  \n",
              "7           60           35  \n",
              "8           60           35  \n",
              "9           60           35  "
            ]
          },
          "execution_count": 26,
          "metadata": {},
          "output_type": "execute_result"
        }
      ],
      "source": [
        "balanced_trainset['Class Count'] = balanced_trainset.groupby('Label')['Label'].transform('count')\n",
        "balanced_trainset.head(10)"
      ]
    },
    {
      "cell_type": "code",
      "execution_count": null,
      "metadata": {
        "colab": {
          "base_uri": "https://localhost:8080/",
          "height": 564
        },
        "id": "RQu6afHbeRi9",
        "outputId": "8ec46184-7a40-4e02-d7ee-51c5d27a14b8"
      },
      "outputs": [
        {
          "data": {
            "image/png": "[encoded data removed]",
            "text/plain": [
              "<Figure size 1000x600 with 1 Axes>"
            ]
          },
          "metadata": {},
          "output_type": "display_data"
        }
      ],
      "source": [
        "plt.figure(figsize=(10,6))\n",
        "plt.hist(balanced_trainset.drop_duplicates(subset='Encode Label').sort_values(by=\"Class Count\")['Class Count'], bins=60, edgecolor='black')\n",
        "plt.title('Distribution of Class Sizes')\n",
        "plt.xlabel('Class Count')\n",
        "plt.ylabel('Number of Classes')\n",
        "plt.show()"
      ]
    },
    {
      "cell_type": "markdown",
      "metadata": {
        "id": "_R14rC6nZDVO"
      },
      "source": [
        "# Load phoBERT tokenizer"
      ]
    },
    {
      "cell_type": "code",
      "execution_count": null,
      "metadata": {
        "colab": {
          "base_uri": "https://localhost:8080/",
          "height": 150,
          "referenced_widgets": [
            "03c90671ca8f42c7821b72a7db108f37",
            "cdc89baf60ec4388ba78501571c7c1d9",
            "c2800806e9f645f9937ebc1b0fc45291",
            "b890cadfe15444d7acd64ff30388d338",
            "86c046c2fb4c4306a5e974c92eb3425e",
            "356858febf1d4904a5069d56ad73f7c0",
            "1449a8494d52442fbfd9d024dc512b49",
            "14d21efb64864e859a668e7ec5d2efb9",
            "a198122a7f1f4203869b5bae60f1e550",
            "c5fba43b8ecb42f7b270d364023bf758",
            "e2651f4d6b1142dcbb392a142fc26f2c",
            "85c2f0c1d9bb4547987c5084efa4df2b",
            "9e30b30d0ced48e59f3eea8f098e11ff",
            "0981e61cc42944909e32a7f4cf148f31",
            "4cec9665811941c5b0f14a79e168347a",
            "98f5e25a20c0425aa36664b96cf97c49",
            "dfcf7e138f5446fb9e1278173b6041e4",
            "99295fc80d7b43a583e03a1139414bfd",
            "b9de6d0f820e414a9b872d51b45ed041",
            "fc6136d23df346a7ae1a3c01dc4cae7c",
            "b19eeb5cc44d4bce861446e1186c6749",
            "e110308d9caa4dc299468393119d23da",
            "6162a868ce824835b867a24ea1f52d82",
            "4773e756a29a4c649102eb0ffd3ba23f",
            "6ab347bdc02541fd92ea83665d4f5e67",
            "f7cc705458bb45e2b3d439489a0ee6bf",
            "adc6fd9641ed4ff9854aabe2f05e32e3",
            "f004aeb079fd46de990c579de34b8b25",
            "9f24e99b5e8b47708550284eb89b32be",
            "17f545b62bd6468d82e265bfca68a2a9",
            "b252b803f08e4fb4be8a939fee7c4715",
            "03a61afba36b46079ce44ca41de5a930",
            "3fd392d9d77c47fbaea204b415720544"
          ]
        },
        "id": "7B_rRMMoZGUT",
        "outputId": "21430de0-00dc-4b53-ab13-357161067771"
      },
      "outputs": [
        {
          "data": {
            "application/vnd.jupyter.widget-view+json": {
              "model_id": "03c90671ca8f42c7821b72a7db108f37",
              "version_major": 2,
              "version_minor": 0
            },
            "text/plain": [
              "Downloading (…)lve/main/config.json:   0%|          | 0.00/678 [00:00<?, ?B/s]"
            ]
          },
          "metadata": {},
          "output_type": "display_data"
        },
        {
          "data": {
            "application/vnd.jupyter.widget-view+json": {
              "model_id": "85c2f0c1d9bb4547987c5084efa4df2b",
              "version_major": 2,
              "version_minor": 0
            },
            "text/plain": [
              "Downloading (…)solve/main/vocab.txt:   0%|          | 0.00/895k [00:00<?, ?B/s]"
            ]
          },
          "metadata": {},
          "output_type": "display_data"
        },
        {
          "data": {
            "application/vnd.jupyter.widget-view+json": {
              "model_id": "6162a868ce824835b867a24ea1f52d82",
              "version_major": 2,
              "version_minor": 0
            },
            "text/plain": [
              "Downloading (…)solve/main/bpe.codes:   0%|          | 0.00/1.14M [00:00<?, ?B/s]"
            ]
          },
          "metadata": {},
          "output_type": "display_data"
        },
        {
          "name": "stderr",
          "output_type": "stream",
          "text": [
            "Special tokens have been added in the vocabulary, make sure the associated word embeddings are fine-tuned or trained.\n"
          ]
        }
      ],
      "source": [
        "# Load pre-trained tokenizer\n",
        "tokenizer = AutoTokenizer.from_pretrained(\"vinai/phobert-base-v2\", use_fast=False)"
      ]
    },
    {
      "cell_type": "code",
      "execution_count": null,
      "metadata": {
        "colab": {
          "base_uri": "https://localhost:8080/"
        },
        "id": "_goEc8618VXw",
        "outputId": "28a6873b-871e-445c-aa9e-e509da916d88"
      },
      "outputs": [
        {
          "name": "stdout",
          "output_type": "stream",
          "text": [
            "[0, 675, 6745, 313, 294, 1276, 2136, 2260, 2]\n",
            "[0, 675, 6892, 313, 294, 1529, 57202, 2]\n"
          ]
        }
      ],
      "source": [
        "text = \"công tyNếu tính GJK\"\n",
        "print(tokenizer.encode(text))\n",
        "text = \"công ty Nếu tính gjk\"\n",
        "print(tokenizer.encode(text))"
      ]
    },
    {
      "cell_type": "markdown",
      "metadata": {
        "id": "dtdcZMIXyWP1"
      },
      "source": [
        "# Hyperparameters\n"
      ]
    },
    {
      "cell_type": "code",
      "execution_count": null,
      "metadata": {
        "id": "ylRDFeY_ZB3G"
      },
      "outputs": [],
      "source": [
        "MAX_LENGTH = 256  # Adjust as needed\n",
        "BATCH_SIZE = 32\n",
        "N_CLASSES = number_of_classes  # Replace with your actual number of classes\n",
        "EPOCHS = 30"
      ]
    },
    {
      "cell_type": "markdown",
      "metadata": {
        "id": "lbrjz_3qzQTy"
      },
      "source": [
        "# ArticleDataset Class"
      ]
    },
    {
      "cell_type": "code",
      "execution_count": null,
      "metadata": {
        "id": "ffAub334zaQw"
      },
      "outputs": [],
      "source": [
        "class ArticleDataset(Dataset):\n",
        "    def __init__(self, data, labels, tokenizer, max_length=256):\n",
        "        self.data = data\n",
        "        self.labels = labels\n",
        "        self.tokenizer = tokenizer\n",
        "        self.max_length = max_length\n",
        "\n",
        "    def __len__(self):\n",
        "        return len(self.data)\n",
        "\n",
        "    def __getitem__(self, idx):\n",
        "        item = self.data.iloc[idx]\n",
        "        label = item.get('Encode Label')\n",
        "        encoding = self.tokenizer.encode_plus(\n",
        "            text=item.Content,\n",
        "            add_special_tokens=True,\n",
        "            max_length=self.max_length,\n",
        "            padding='max_length',\n",
        "            truncation=True,\n",
        "            return_attention_mask=True,\n",
        "            return_tensors='pt',\n",
        "        )\n",
        "\n",
        "        return {\n",
        "            'content': item.Content,\n",
        "            'input_ids':encoding['input_ids'].flatten(),\n",
        "            'attention_mask': encoding['attention_mask'].flatten(),\n",
        "            'labels': torch.tensor(label, dtype=torch.long)\n",
        "        }\n",
        "\n"
      ]
    },
    {
      "cell_type": "code",
      "execution_count": null,
      "metadata": {
        "colab": {
          "base_uri": "https://localhost:8080/"
        },
        "id": "LAcDCSbWqam4",
        "outputId": "64035aa1-0736-4dfc-d3ef-ea75bbd753f7"
      },
      "outputs": [
        {
          "name": "stdout",
          "output_type": "stream",
          "text": [
            "torch.Size([5])\n"
          ]
        }
      ],
      "source": [
        "x = torch.tensor([1, 2, 3, 4, 5])\n",
        "print(x.shape)"
      ]
    },
    {
      "cell_type": "code",
      "execution_count": null,
      "metadata": {
        "colab": {
          "base_uri": "https://localhost:8080/"
        },
        "id": "VHAPMslc5ikj",
        "outputId": "a95afa11-86fd-41f0-d711-04919b80c9d2"
      },
      "outputs": [
        {
          "name": "stdout",
          "output_type": "stream",
          "text": [
            "8324\n",
            "dict_keys(['content', 'input_ids', 'attention_mask', 'labels'])\n",
            "Trong đó, biên lợi nhuận gộp giảm từ 17,4% về còn 16,1%.Trong kỳ, lợi nhuận gộp giảm 82,7% so với cùng kỳ, tương ứng giảm 201,67 tỷ đồng về 42,2 tỷ đồng; doanh thu tài chính tăng 202,5%, tương ứng tăng thêm 55,79 tỷ đồng lên 83,34 tỷ đồng; chi phí tài chính tăng 181,3%, tương ứng tăng thêm 45,98 tỷ đồng lên 71,34 tỷ đồng; chi phí bán hàng và quản lý doanh nghiệp giảm 55,3%, tương ứng giảm 39,28 tỷ đồng về 31,8 tỷ đồng và các hoạt động khác biến động không đáng kể.Lũy kế trong năm 2022, GILimex ghi nhận doanh thu đạt 3.166,6 tỷ đồng, giảm 23,7% so với cùng kỳ và lợi nhuận sau thuế ghi nhận 361,43 tỷ đồng, tăng nhẹ 9,3% so với cùng kỳ năm trước.Xét về hoạt động kinh doanh cốt lõi (lợi nhuận gộp – chi phí tài chính – chi phí bán hàng & quản lý doanh nghiệp), trong năm 2022, Công ty ghi nhận lợi nhuận cốt lõi giảm 96,7% so với cùng kỳ, tương ứng giảm 366,84 tỷ đồng về 12,4 tỷ đồng.Như vậy, năm 2022, hoạt động kinh doanh cốt lõi của GILimex lao dốc, Công ty vẫn duy trì tốc độ tăng trưởng dương nhờ ghi nhận doanh thu tài chính đột biến 446,7 tỷ đồng so với cùng kỳ 85,1 tỷ đồng.Trước đó, Công ty thuyết minh trong quý III, doanh thu tài chính tăng đột biến chủ yếu do ghi nhận 200,9 tỷ đồng lãi thanh lý khoản đầu tư vào công ty liên kết so với cùng kỳ không ghi nhận.Nếu xem kỹ trong cơ cấu đầu tư vào công ty liên doanh, liên kết.\n"
          ]
        }
      ],
      "source": [
        "a_ds = ArticleDataset(balanced_trainset, labels, tokenizer, MAX_LENGTH)\n",
        "random_index = random.randint(0, len(a_ds) - 1)  # Generate a random index within the valid range\n",
        "sample_item = a_ds[random_index]\n",
        "print(len(a_ds))\n",
        "print(sample_item.keys())\n",
        "print(sample_item['content'])"
      ]
    },
    {
      "cell_type": "code",
      "execution_count": null,
      "metadata": {
        "colab": {
          "base_uri": "https://localhost:8080/"
        },
        "id": "xXkjnobs54UP",
        "outputId": "bfa8d2b1-8141-4a49-bb3b-4e0ddbb3baa1"
      },
      "outputs": [
        {
          "name": "stdout",
          "output_type": "stream",
          "text": [
            "torch.Size([256])\n",
            "<s> Trong đó, biên lợi nhuận gộp giảm từ 17,4% về còn 16,1%.Trong kỳ, lợi nhuận gộp giảm 82,7% so với cùng kỳ, tương ứng giảm 201,67 tỷ đồng về 42,2 tỷ đồng; doanh thu tài chính tăng 202,5%, tương ứng tăng thêm 55,79 tỷ đồng lên 83,34 tỷ đồng; chi phí tài chính tăng 181,3%, tương ứng tăng thêm 45,98 tỷ đồng lên 71,34 tỷ đồng; chi phí bán hàng và quản lý doanh nghiệp giảm 55,3%, tương ứng giảm 39,28 tỷ đồng về 31,8 tỷ đồng và các hoạt động khác biến động không đáng kể.Lũy kế trong năm 2022, GILimex ghi nhận doanh thu đạt 3.166,6 tỷ đồng, giảm 23,7% so với cùng kỳ và lợi nhuận sau thuế ghi nhận 361,43 tỷ đồng, tăng nhẹ 9,3% so với cùng kỳ năm trước.Xét về hoạt động kinh doanh cốt lõi (lợi nhuận gộp – chi phí tài chính – chi phí bán hàng & quản lý doanh nghiệp), trong năm 2022, Công ty ghi nhận lợi nhuận cốt lõi giảm 96,7% so với cùng kỳ, tương ứng giảm 366,84 tỷ đồng về 12,4 tỷ đồng.Như vậy</s>\n",
            "tensor(42)\n",
            "['GIL']\n"
          ]
        }
      ],
      "source": [
        "print(sample_item[\"input_ids\"].shape)\n",
        "print(tokenizer.decode(sample_item['input_ids']))\n",
        "print(sample_item[\"labels\"])\n",
        "print(le.inverse_transform([sample_item[\"labels\"]]))"
      ]
    },
    {
      "cell_type": "markdown",
      "metadata": {
        "id": "r4dNQIiL6XaJ"
      },
      "source": [
        "# Pytorch Lightning DataModule"
      ]
    },
    {
      "cell_type": "code",
      "execution_count": null,
      "metadata": {
        "id": "t_S6YmZv6dBJ"
      },
      "outputs": [],
      "source": [
        "class Data_Module(pl.LightningDataModule):\n",
        "    def __init__(self, trainset, valset, labels, batch_size: int = 32, max_token_length: int = 256, tokenizer=None):\n",
        "      super().__init__()\n",
        "      self.trainset = trainset\n",
        "      self.val_path = valset\n",
        "      self.labels = labels\n",
        "      self.batch_size = batch_size\n",
        "      self.max_token_length = max_token_length\n",
        "      self.tokenizer = tokenizer\n",
        "\n",
        "    def setup(self, stage = None):\n",
        "      if stage in (None, \"fit\"):\n",
        "        self.train_dataset = ArticleDataset(self.trainset, self.labels, self.tokenizer, self.max_token_length)\n",
        "        self.val_dataset = ArticleDataset(self.val_path, self.labels, self.tokenizer, self.max_token_length)\n",
        "      if stage == 'predict':\n",
        "        self.val_dataset = ArticleDataset(self.val_path, self.labels, self.tokenizer, self.max_token_length)\n",
        "\n",
        "    def train_dataloader(self):\n",
        "      return DataLoader(self.train_dataset, batch_size = self.batch_size, num_workers=2, shuffle=True)\n",
        "\n",
        "    def val_dataloader(self):\n",
        "      return DataLoader(self.val_dataset, batch_size = self.batch_size, num_workers=2, shuffle=False)\n",
        "\n",
        "    def predict_dataloader(self):\n",
        "      return DataLoader(self.val_dataset, batch_size = self.batch_size, num_workers=2, shuffle=False)"
      ]
    },
    {
      "cell_type": "markdown",
      "metadata": {
        "id": "8_GghUzA9dYk"
      },
      "source": [
        "# Create PyTorch lightning DataLoader"
      ]
    },
    {
      "cell_type": "code",
      "execution_count": null,
      "metadata": {
        "colab": {
          "base_uri": "https://localhost:8080/"
        },
        "id": "9EQkuLqcZR5q",
        "outputId": "8bdc190f-615b-4e50-ab67-9b8b7508d97b"
      },
      "outputs": [
        {
          "data": {
            "text/plain": [
              "261"
            ]
          },
          "execution_count": 36,
          "metadata": {},
          "output_type": "execute_result"
        }
      ],
      "source": [
        "# Create PyTorch lightning DataLoader\n",
        "data_loader = Data_Module(balanced_trainset, balanced_valset, labels, BATCH_SIZE, MAX_LENGTH, tokenizer)\n",
        "data_loader.setup()\n",
        "len(data_loader.train_dataloader())"
      ]
    },
    {
      "cell_type": "markdown",
      "metadata": {
        "id": "MXBH2wQtyZqi"
      },
      "source": [
        "# Model architecture"
      ]
    },
    {
      "cell_type": "code",
      "execution_count": null,
      "metadata": {
        "colab": {
          "base_uri": "https://localhost:8080/",
          "height": 35
        },
        "id": "wLuZ3CjDfn58",
        "outputId": "3373eb5d-609c-45e0-cd6a-f03a59781307"
      },
      "outputs": [
        {
          "data": {
            "application/vnd.google.colaboratory.intrinsic+json": {
              "type": "string"
            },
            "text/plain": [
              "'cuda'"
            ]
          },
          "execution_count": 37,
          "metadata": {},
          "output_type": "execute_result"
        }
      ],
      "source": [
        "device = \"cuda\" if torch.cuda.is_available() else \"cpu\"\n",
        "device"
      ]
    },
    {
      "cell_type": "code",
      "execution_count": null,
      "metadata": {
        "id": "WXpnzKDQY2Vp"
      },
      "outputs": [],
      "source": [
        "class ArticleClassifier(pl.LightningModule):\n",
        "    def __init__(self, config: dict, freeze_bert=False):\n",
        "        super().__init__()\n",
        "        self.config = config\n",
        "        self.bert = AutoModel.from_pretrained(config['model_name'], return_dict = True)\n",
        "        if freeze_bert:\n",
        "            for param in self.bert.parameters():\n",
        "                param.requires_grad = False\n",
        "        print(self.bert.config.hidden_size)\n",
        "        self.fc1 = nn.Linear(self.bert.config.hidden_size, 128)  # Adjusted the input size to match the bert's hidden size\n",
        "        self.dropout1 = nn.Dropout(0.2)\n",
        "        self.fc2 = nn.Linear(128, 256)\n",
        "        self.dropout2 = nn.Dropout(0.2)\n",
        "        self.layer_norm = LayerNorm(256)\n",
        "        self.output = nn.Linear(256, self.config['n_labels'])\n",
        "        self.loss = nn.CrossEntropyLoss()\n",
        "\n",
        "\n",
        "\n",
        "    def forward(self, input_ids, attention_mask):\n",
        "        x = self.bert(input_ids, attention_mask=attention_mask)[0]\n",
        "        # GlobalAveragePooling1D equivalent in Pytorch for 3D tensor\n",
        "        x = torch.mean(x, 1)\n",
        "        x = F.relu(self.fc1(x))\n",
        "        x = self.dropout1(x)\n",
        "        x = F.relu(self.fc2(x))\n",
        "        x = self.dropout2(x)\n",
        "        x = self.layer_norm(x)\n",
        "        logits = self.output(x)  # Remove softmax activation here\n",
        "        return logits"
      ]
    },
    {
      "cell_type": "markdown",
      "metadata": {
        "id": "17n-Sl-wZYG5"
      },
      "source": [
        "# Initialize Model"
      ]
    },
    {
      "cell_type": "markdown",
      "metadata": {
        "id": "MnnxrRBj2tnd"
      },
      "source": [
        "## Model configuration"
      ]
    },
    {
      "cell_type": "code",
      "execution_count": null,
      "metadata": {
        "id": "8rhH-JU02wrV"
      },
      "outputs": [],
      "source": [
        "config = {\n",
        "    'model_name': 'vinai/phobert-base-v2',\n",
        "    'n_labels': number_of_classes,\n",
        "    'batch_size': BATCH_SIZE,\n",
        "    'lr': 1e-3,\n",
        "    'warmup': 0.15,\n",
        "    'train_size': len(data_loader.train_dataloader()),\n",
        "    'weight_decay': 0.01,\n",
        "    'n_epochs': 100\n",
        "}"
      ]
    },
    {
      "cell_type": "markdown",
      "metadata": {
        "id": "2Q3dmcBV2zw2"
      },
      "source": [
        "## Create model"
      ]
    },
    {
      "cell_type": "code",
      "execution_count": null,
      "metadata": {
        "colab": {
          "base_uri": "https://localhost:8080/",
          "height": 173,
          "referenced_widgets": [
            "de28a6f82387440c9df745275d57ff0d",
            "10751f0d4a4a41698713f05189002530",
            "0ac2bfe1eff8431fb5a425943a2e457f",
            "e72fcc1c78814529a7999645678c11d1",
            "63caf2aaee3b4321843320d2fddead1e",
            "1353aefdb17f42f3922fa0e8f18a1b36",
            "0e4318a1ad7341639402dce53c417428",
            "3ae18e1ce89a4ade9118d96c1d04f64d",
            "f4368f03a96245368c02075cb5e59dde",
            "1ee0949ca61744dc97886637e53b1789",
            "3652ec9db74e44d6b310f6b0861b25cc"
          ]
        },
        "id": "J2d9tBNoZdVA",
        "outputId": "1a605f30-3c64-4e38-97f4-1137e23ade08"
      },
      "outputs": [
        {
          "data": {
            "application/vnd.jupyter.widget-view+json": {
              "model_id": "de28a6f82387440c9df745275d57ff0d",
              "version_major": 2,
              "version_minor": 0
            },
            "text/plain": [
              "Downloading pytorch_model.bin:   0%|          | 0.00/540M [00:00<?, ?B/s]"
            ]
          },
          "metadata": {},
          "output_type": "display_data"
        },
        {
          "name": "stderr",
          "output_type": "stream",
          "text": [
            "Some weights of the model checkpoint at vinai/phobert-base-v2 were not used when initializing RobertaModel: ['lm_head.dense.bias', 'lm_head.dense.weight', 'lm_head.layer_norm.weight', 'lm_head.layer_norm.bias', 'lm_head.bias']\n",
            "- This IS expected if you are initializing RobertaModel from the checkpoint of a model trained on another task or with another architecture (e.g. initializing a BertForSequenceClassification model from a BertForPreTraining model).\n",
            "- This IS NOT expected if you are initializing RobertaModel from the checkpoint of a model that you expect to be exactly identical (initializing a BertForSequenceClassification model from a BertForSequenceClassification model).\n",
            "Some weights of RobertaModel were not initialized from the model checkpoint at vinai/phobert-base-v2 and are newly initialized: ['roberta.pooler.dense.bias', 'roberta.pooler.dense.weight']\n",
            "You should probably TRAIN this model on a down-stream task to be able to use it for predictions and inference.\n"
          ]
        },
        {
          "name": "stdout",
          "output_type": "stream",
          "text": [
            "768\n"
          ]
        }
      ],
      "source": [
        "# Initialize our classifier\n",
        "model = ArticleClassifier(config, freeze_bert=True)\n",
        "model = model.to(device)"
      ]
    },
    {
      "cell_type": "code",
      "execution_count": null,
      "metadata": {
        "colab": {
          "base_uri": "https://localhost:8080/"
        },
        "id": "3JCqQ3vLLljF",
        "outputId": "42733184-6332-446e-954c-6b345289878b"
      },
      "outputs": [
        {
          "name": "stdout",
          "output_type": "stream",
          "text": [
            "torch.Size([]) torch.Size([1, 156])\n"
          ]
        }
      ],
      "source": [
        "idx=0\n",
        "input_ids_ = a_ds.__getitem__(idx)['input_ids']\n",
        "attention_mask_ = a_ds.__getitem__(idx)['attention_mask']\n",
        "labels_ = a_ds.__getitem__(idx)['labels']\n",
        "model.cpu()\n",
        "output = model(input_ids_.unsqueeze(dim=0), attention_mask_.unsqueeze(dim=0))\n",
        "print(labels_.shape, output.shape)"
      ]
    },
    {
      "cell_type": "code",
      "execution_count": null,
      "metadata": {
        "colab": {
          "base_uri": "https://localhost:8080/"
        },
        "id": "25S47zkl_Suq",
        "outputId": "33421637-1457-41f2-9108-04abcaed451f"
      },
      "outputs": [
        {
          "name": "stdout",
          "output_type": "stream",
          "text": [
            "torch.Size([32, 256])\n",
            "torch.Size([]) torch.Size([32, 156])\n"
          ]
        }
      ],
      "source": [
        "test_batch = next(iter(data_loader.train_dataloader()))\n",
        "test_batch_input_ids = test_batch['input_ids']\n",
        "print(test_batch_input_ids.shape)\n",
        "output = model(test_batch['input_ids'], test_batch['attention_mask'])\n",
        "print(labels_.shape, output.shape)"
      ]
    },
    {
      "cell_type": "code",
      "execution_count": null,
      "metadata": {
        "colab": {
          "base_uri": "https://localhost:8080/"
        },
        "id": "O4ooIT76D762",
        "outputId": "ca055b46-551e-44a9-d498-88ef9bd67aad"
      },
      "outputs": [
        {
          "data": {
            "text/plain": [
              "torch.Size([32])"
            ]
          },
          "execution_count": 43,
          "metadata": {},
          "output_type": "execute_result"
        }
      ],
      "source": [
        "test_batch_labels = test_batch['labels']\n",
        "test_batch_labels.shape"
      ]
    },
    {
      "cell_type": "markdown",
      "metadata": {
        "id": "YE0eEL3_i9jm"
      },
      "source": [
        "# Model Summary"
      ]
    },
    {
      "cell_type": "code",
      "execution_count": null,
      "metadata": {
        "colab": {
          "base_uri": "https://localhost:8080/"
        },
        "id": "43gS_CLwjAEU",
        "outputId": "4bdc4ebe-670d-4e97-9e42-5b7972eb6980"
      },
      "outputs": [
        {
          "data": {
            "text/plain": [
              "=====================================================================================\n",
              "Layer (type:depth-idx)                                       Param #\n",
              "=====================================================================================\n",
              "ArticleClassifier                                            --\n",
              "├─RobertaModel: 1-1                                          --\n",
              "│    └─RobertaEmbeddings: 2-1                                --\n",
              "│    │    └─Embedding: 3-1                                   (49,152,768)\n",
              "│    │    └─Embedding: 3-2                                   (198,144)\n",
              "│    │    └─Embedding: 3-3                                   (768)\n",
              "│    │    └─LayerNorm: 3-4                                   (1,536)\n",
              "│    │    └─Dropout: 3-5                                     --\n",
              "│    └─RobertaEncoder: 2-2                                   --\n",
              "│    │    └─ModuleList: 3-6                                  (85,054,464)\n",
              "│    └─RobertaPooler: 2-3                                    --\n",
              "│    │    └─Linear: 3-7                                      (590,592)\n",
              "│    │    └─Tanh: 3-8                                        --\n",
              "├─Linear: 1-2                                                98,432\n",
              "├─Dropout: 1-3                                               --\n",
              "├─Linear: 1-4                                                33,024\n",
              "├─Dropout: 1-5                                               --\n",
              "├─LayerNorm: 1-6                                             512\n",
              "├─Linear: 1-7                                                40,092\n",
              "├─CrossEntropyLoss: 1-8                                      --\n",
              "=====================================================================================\n",
              "Total params: 135,170,332\n",
              "Trainable params: 172,060\n",
              "Non-trainable params: 134,998,272\n",
              "====================================================================================="
            ]
          },
          "execution_count": 44,
          "metadata": {},
          "output_type": "execute_result"
        }
      ],
      "source": [
        "summary(model)"
      ]
    },
    {
      "cell_type": "markdown",
      "metadata": {
        "id": "43JH6zpgZlsp"
      },
      "source": [
        "\n",
        "# Train Model"
      ]
    },
    {
      "cell_type": "code",
      "execution_count": null,
      "metadata": {
        "id": "HFHQxP6T5B8T"
      },
      "outputs": [],
      "source": [
        "def train_model(model, data_loader, config, model_path=None):\n",
        "    if model_path is not None:\n",
        "        # Load the pre-trained model\n",
        "        model.load_state_dict(torch.load(model_path))\n",
        "        model.to(device)\n",
        "    model = model.to(device)\n",
        "    optimizer = torch.optim.AdamW(model.parameters(), lr=config['lr'], weight_decay=config['weight_decay'])\n",
        "\n",
        "    total_steps = config['train_size']/config['batch_size']\n",
        "    warmup_steps = math.floor(total_steps * config['warmup'])\n",
        "    scheduler = get_cosine_schedule_with_warmup(optimizer, warmup_steps, total_steps)\n",
        "\n",
        "    best_valid_loss = float('inf')\n",
        "    early_stopping_counter = 0\n",
        "    early_stopping_limit = 5  # Number of epochs with no improvement after which training will be stopped\n",
        "    model_path = 'best_model.pt'  # path where best model will be saved\n",
        "\n",
        "    progress_bar = tqdm(range(config['n_epochs']), desc=\"Training\", total=config['n_epochs'])\n",
        "\n",
        "    for epoch in progress_bar:\n",
        "        start_time = time.time()  # start time of the epoch\n",
        "\n",
        "        model.train()\n",
        "        total_loss = 0\n",
        "\n",
        "        train_predictions , train_true_labels = [], []\n",
        "\n",
        "        for batch in data_loader.train_dataloader():\n",
        "            optimizer.zero_grad()\n",
        "\n",
        "            input_ids = batch[\"input_ids\"].to(device)\n",
        "            attention_mask = batch[\"attention_mask\"].to(device)\n",
        "            labels = batch[\"labels\"].to(device)\n",
        "\n",
        "            logits = model(input_ids, attention_mask)\n",
        "\n",
        "            loss = model.loss(logits, labels)\n",
        "            total_loss += loss.item()\n",
        "\n",
        "            logits = logits.detach().cpu().numpy()\n",
        "            labels = labels.to('cpu').numpy()\n",
        "\n",
        "            # Store train predictions and true labels for accuracy calculation\n",
        "            train_predictions.append(logits)\n",
        "            train_true_labels.append(labels)\n",
        "\n",
        "            loss.backward()\n",
        "            optimizer.step()\n",
        "            scheduler.step()\n",
        "\n",
        "        avg_train_loss = total_loss / len(data_loader.train_dataloader())\n",
        "\n",
        "        # Calculate training accuracy\n",
        "        train_predictions = np.concatenate(train_predictions, axis=0)\n",
        "        train_true_labels = np.concatenate(train_true_labels, axis=0)\n",
        "        train_accuracy = accuracy_score(train_true_labels, np.argmax(train_predictions, axis=1))\n",
        "\n",
        "        # Start the validation\n",
        "        model.eval()\n",
        "\n",
        "        predictions , true_labels = [], []\n",
        "        total_eval_loss = 0\n",
        "\n",
        "        for batch in data_loader.val_dataloader():\n",
        "            input_ids = batch[\"input_ids\"].to(device)\n",
        "            attention_mask = batch[\"attention_mask\"].to(device)\n",
        "            labels = batch[\"labels\"].to(device)\n",
        "\n",
        "            with torch.no_grad():\n",
        "                logits = model(input_ids, attention_mask)\n",
        "\n",
        "            loss = model.loss(logits, labels)\n",
        "            total_eval_loss += loss.item()\n",
        "\n",
        "            # Move logits and labels to CPU\n",
        "            logits = logits.detach().cpu().numpy()\n",
        "            labels = labels.to('cpu').numpy()\n",
        "\n",
        "            # Store predictions and true labels\n",
        "            predictions.append(logits)\n",
        "            true_labels.append(labels)\n",
        "\n",
        "        # Calculate the average loss over all of the batches\n",
        "        avg_val_loss = total_eval_loss / len(data_loader.val_dataloader())\n",
        "\n",
        "        # Calculate validation accuracy\n",
        "        predictions = np.concatenate(predictions, axis=0)\n",
        "        true_labels = np.concatenate(true_labels, axis=0)\n",
        "        val_accuracy = accuracy_score(true_labels, np.argmax(predictions, axis=1))\n",
        "\n",
        "        end_time = time.time()  # end time of the epoch\n",
        "        epoch_mins, epoch_secs = divmod(end_time - start_time, 60)  # calculate elapsed time for this epoch\n",
        "\n",
        "        # Print additional information after each epoch\n",
        "        print(f'\\nEpoch: {epoch+1:02} | Time: {epoch_mins}m {epoch_secs}s')\n",
        "        print(f'\\tTrain Loss: {avg_train_loss:.3f} | Train Acc: {train_accuracy*100:.2f}% | Valid Loss: {avg_val_loss:.3f} | Valid Acc: {val_accuracy*100:.2f}%')\n",
        "\n",
        "        # Update progress bar\n",
        "        progress_bar.set_postfix({'train_loss': avg_train_loss, 'valid_loss': avg_val_loss, 'valid_acc': val_accuracy, 'train_acc': train_accuracy})\n",
        "\n",
        "        # save model if validation loss has decreased\n",
        "        if avg_val_loss < best_valid_loss:\n",
        "            best_valid_loss = avg_val_loss\n",
        "            torch.save(model.state_dict(), model_path)\n",
        "            early_stopping_counter = 0  # reset counter\n",
        "        else:\n",
        "            early_stopping_counter += 1\n",
        "            if early_stopping_counter >= early_stopping_limit:\n",
        "                print(f'EarlyStopping counter: {early_stopping_counter} out of {early_stopping_limit}')\n",
        "                if early_stopping_counter >= early_stopping_limit:\n",
        "                    print('Early stopping, stopping training')\n",
        "                    break  # break out from the training loop\n"
      ]
    },
    {
      "cell_type": "code",
      "execution_count": null,
      "metadata": {
        "colab": {
          "base_uri": "https://localhost:8080/"
        },
        "id": "mu8RsZurIo7v",
        "outputId": "5838cdd2-a87b-4f8a-e20a-c80b2108712d"
      },
      "outputs": [
        {
          "name": "stdout",
          "output_type": "stream",
          "text": [
            "Mounted at /content/drive\n"
          ]
        }
      ],
      "source": [
        "drive.mount('/content/drive')"
      ]
    },
    {
      "cell_type": "code",
      "execution_count": null,
      "metadata": {
        "colab": {
          "background_save": true,
          "base_uri": "https://localhost:8080/",
          "height": 285,
          "referenced_widgets": [
            "9f5be5272a794a5b9a1ebcfefdd835d9",
            "f9d283a0c09846af859956515376ee5a",
            "0f86ce7bc4ad4be38e7580aa5d16ebd6",
            "03494b80b63f4d6381fa566127212267",
            "06002a93f6f44e1cae86a63cfc83db95",
            "e26253382a094f1b85a17c18bccd3041",
            "13def570c1994f7c99b6d7e8a5c2fb54",
            "50252bea99624a9cbc92247e53b7a014",
            "eb5a17fea5a944b9bce97a52a7a01b9b",
            "5a688581a3334a4380db15526e4650a2",
            "9871f27f73ee4bf0b0a0c6b75d681ae0"
          ]
        },
        "id": "ttWZjMEVOWlU",
        "outputId": "d5ddcfad-392e-4846-f393-3712e90f228a"
      },
      "outputs": [
        {
          "data": {
            "application/vnd.jupyter.widget-view+json": {
              "model_id": "9f5be5272a794a5b9a1ebcfefdd835d9",
              "version_major": 2,
              "version_minor": 0
            },
            "text/plain": [
              "Training:   0%|          | 0/100 [00:00<?, ?it/s]"
            ]
          },
          "metadata": {},
          "output_type": "display_data"
        },
        {
          "name": "stdout",
          "output_type": "stream",
          "text": [
            "\n",
            "Epoch: 01 | Time: 2.0m 33.8013596534729s\n",
            "\tTrain Loss: 2.493 | Train Acc: 42.36% | Valid Loss: 3.556 | Valid Acc: 34.22%\n",
            "\n",
            "Epoch: 02 | Time: 2.0m 33.75561308860779s\n",
            "\tTrain Loss: 2.349 | Train Acc: 44.82% | Valid Loss: 3.329 | Valid Acc: 37.11%\n",
            "\n",
            "Epoch: 03 | Time: 2.0m 33.914560317993164s\n",
            "\tTrain Loss: 2.277 | Train Acc: 46.30% | Valid Loss: 3.437 | Valid Acc: 35.71%\n",
            "\n",
            "Epoch: 04 | Time: 2.0m 33.51986622810364s\n",
            "\tTrain Loss: 2.206 | Train Acc: 47.48% | Valid Loss: 3.496 | Valid Acc: 34.31%\n"
          ]
        }
      ],
      "source": [
        "train_model(model, data_loader, config, '/content/drive/MyDrive/Colab Notebooks/best_model.pt')\n"
      ]
    },
    {
      "cell_type": "markdown",
      "metadata": {
        "id": "dAODWzVvBMw_"
      },
      "source": [
        "# Predict"
      ]
    },
    {
      "cell_type": "code",
      "execution_count": null,
      "metadata": {
        "id": "AwsYvj063s39"
      },
      "outputs": [],
      "source": [
        "def load_model(model, model_path):\n",
        "    model.load_state_dict(torch.load(model_path))\n",
        "    model.eval()\n",
        "    return model"
      ]
    },
    {
      "cell_type": "code",
      "execution_count": null,
      "metadata": {
        "id": "Wn5qx4-hBQMi"
      },
      "outputs": [],
      "source": [
        "def test_model(model, data_loader):\n",
        "    # model.load_state_dict(torch.load('best_model.pt'))\n",
        "    model.eval()\n",
        "\n",
        "    predictions, true_labels = [], []\n",
        "    cnt = 0\n",
        "    for batch in data_loader.val_dataloader():\n",
        "        input_ids = batch[\"input_ids\"].to(device)\n",
        "        attention_mask = batch[\"attention_mask\"].to(device)\n",
        "        labels = batch[\"labels\"].to(device)\n",
        "\n",
        "        with torch.no_grad():\n",
        "            logits = model(input_ids, attention_mask)\n",
        "\n",
        "        logits = logits.detach().cpu().numpy()\n",
        "        labels = labels.to('cpu').numpy()\n",
        "\n",
        "        # Store predictions and true labels\n",
        "        predictions.append(logits)\n",
        "        true_labels.append(labels)\n",
        "        if cnt < 1:\n",
        "          for i in range(BATCH_SIZE):\n",
        "            print(f\"Content: {batch['content'][i]}\")\n",
        "            print(f\"Predicted Label: {le.inverse_transform([np.argmax(logits, axis=1)[i]])}\")\n",
        "            print(f\"True Label: {le.inverse_transform([labels[i]])}\")\n",
        "            print(\"========================================\")\n",
        "\n",
        "        cnt += 1\n",
        "\n",
        "    predictions = np.concatenate(predictions, axis=0)\n",
        "    true_labels = np.concatenate(true_labels, axis=0)\n",
        "\n",
        "    # Calculate accuracy\n",
        "    test_accuracy = accuracy_score(true_labels, np.argmax(predictions, axis=1))\n",
        "\n",
        "    print(f'Test Accuracy: {test_accuracy}')\n",
        "\n",
        "    return test_accuracy"
      ]
    },
    {
      "cell_type": "code",
      "execution_count": null,
      "metadata": {
        "id": "QIYf-rb2B02n"
      },
      "outputs": [],
      "source": [
        "test_model(model, data_loader)"
      ]
    },
    {
      "cell_type": "markdown",
      "metadata": {
        "id": "dQ72_pvwZ2pV"
      },
      "source": [
        "# Naive Bayes"
      ]
    },
    {
      "cell_type": "code",
      "execution_count": null,
      "metadata": {
        "id": "ruqEZWsQZ5Qt"
      },
      "outputs": [],
      "source": [
        "from sklearn.feature_extraction.text import CountVectorizer\n",
        "from sklearn.naive_bayes import MultinomialNB\n",
        "from sklearn.pipeline import make_pipeline"
      ]
    },
    {
      "cell_type": "code",
      "execution_count": null,
      "metadata": {
        "id": "3CnlxtungvWe"
      },
      "outputs": [],
      "source": [
        "test_content = e_df.iloc[1].get(\"Content\")\n",
        "print(test_content)\n",
        "print(\"------------------------------------------------------------\")\n",
        "sentences = nltk.tokenize.sent_tokenize(test_content)\n",
        "for s in sentences:\n",
        "  print(s)"
      ]
    },
    {
      "cell_type": "code",
      "execution_count": null,
      "metadata": {
        "id": "7ilSeDfvx3vm"
      },
      "outputs": [],
      "source": [
        "train_data, test_data, train_labels, test_labels = train_test_split(e_df['Content'], e_df['Encode Label'], random_state=42)"
      ]
    },
    {
      "cell_type": "code",
      "execution_count": null,
      "metadata": {
        "id": "xHy-8i_1hUHa"
      },
      "outputs": [],
      "source": [
        "model_nb = make_pipeline(CountVectorizer(), MultinomialNB())"
      ]
    },
    {
      "cell_type": "code",
      "execution_count": null,
      "metadata": {
        "id": "ILdqAvj4hIvd"
      },
      "outputs": [],
      "source": [
        "# Train the model\n",
        "model_nb.fit(train_data, train_labels)\n"
      ]
    },
    {
      "cell_type": "code",
      "execution_count": null,
      "metadata": {
        "id": "vFY6ODvfyykq"
      },
      "outputs": [],
      "source": [
        "# Predict the labels of the test set\n",
        "predictions = model_nb.predict(test_data)\n",
        "\n",
        "# Print out the accuracy\n",
        "print(f\"Accuracy: {accuracy_score(test_labels, predictions)}\")"
      ]
    }
  ],
  "metadata": {
    "accelerator": "GPU",
    "colab": {
      "collapsed_sections": [
        "oAAmnOmSXj5a"
      ],
      "machine_shape": "hm",
      "provenance": []
    },
    "kernelspec": {
      "display_name": "Python 3",
      "name": "python3"
    },
    "language_info": {
      "name": "python"
    },
    "widgets": {
      "application/vnd.jupyter.widget-state+json": {
        "03494b80b63f4d6381fa566127212267": {
          "model_module": "@jupyter-widgets/controls",
          "model_module_version": "1.5.0",
          "model_name": "HTMLModel",
          "state": {
            "_dom_classes": [],
            "_model_module": "@jupyter-widgets/controls",
            "_model_module_version": "1.5.0",
            "_model_name": "HTMLModel",
            "_view_count": null,
            "_view_module": "@jupyter-widgets/controls",
            "_view_module_version": "1.5.0",
            "_view_name": "HTMLView",
            "description": "",
            "description_tooltip": null,
            "layout": "IPY_MODEL_5a688581a3334a4380db15526e4650a2",
            "placeholder": "​",
            "style": "IPY_MODEL_9871f27f73ee4bf0b0a0c6b75d681ae0",
            "value": " 4/100 [10:16&lt;4:06:27, 154.03s/it, train_loss=2.21, valid_loss=3.5, valid_acc=0.343, train_acc=0.475]"
          }
        },
        "03a61afba36b46079ce44ca41de5a930": {
          "model_module": "@jupyter-widgets/base",
          "model_module_version": "1.2.0",
          "model_name": "LayoutModel",
          "state": {
            "_model_module": "@jupyter-widgets/base",
            "_model_module_version": "1.2.0",
            "_model_name": "LayoutModel",
            "_view_count": null,
            "_view_module": "@jupyter-widgets/base",
            "_view_module_version": "1.2.0",
            "_view_name": "LayoutView",
            "align_content": null,
            "align_items": null,
            "align_self": null,
            "border": null,
            "bottom": null,
            "display": null,
            "flex": null,
            "flex_flow": null,
            "grid_area": null,
            "grid_auto_columns": null,
            "grid_auto_flow": null,
            "grid_auto_rows": null,
            "grid_column": null,
            "grid_gap": null,
            "grid_row": null,
            "grid_template_areas": null,
            "grid_template_columns": null,
            "grid_template_rows": null,
            "height": null,
            "justify_content": null,
            "justify_items": null,
            "left": null,
            "margin": null,
            "max_height": null,
            "max_width": null,
            "min_height": null,
            "min_width": null,
            "object_fit": null,
            "object_position": null,
            "order": null,
            "overflow": null,
            "overflow_x": null,
            "overflow_y": null,
            "padding": null,
            "right": null,
            "top": null,
            "visibility": null,
            "width": null
          }
        },
        "03c90671ca8f42c7821b72a7db108f37": {
          "model_module": "@jupyter-widgets/controls",
          "model_module_version": "1.5.0",
          "model_name": "HBoxModel",
          "state": {
            "_dom_classes": [],
            "_model_module": "@jupyter-widgets/controls",
            "_model_module_version": "1.5.0",
            "_model_name": "HBoxModel",
            "_view_count": null,
            "_view_module": "@jupyter-widgets/controls",
            "_view_module_version": "1.5.0",
            "_view_name": "HBoxView",
            "box_style": "",
            "children": [
              "IPY_MODEL_cdc89baf60ec4388ba78501571c7c1d9",
              "IPY_MODEL_c2800806e9f645f9937ebc1b0fc45291",
              "IPY_MODEL_b890cadfe15444d7acd64ff30388d338"
            ],
            "layout": "IPY_MODEL_86c046c2fb4c4306a5e974c92eb3425e"
          }
        },
        "06002a93f6f44e1cae86a63cfc83db95": {
          "model_module": "@jupyter-widgets/base",
          "model_module_version": "1.2.0",
          "model_name": "LayoutModel",
          "state": {
            "_model_module": "@jupyter-widgets/base",
            "_model_module_version": "1.2.0",
            "_model_name": "LayoutModel",
            "_view_count": null,
            "_view_module": "@jupyter-widgets/base",
            "_view_module_version": "1.2.0",
            "_view_name": "LayoutView",
            "align_content": null,
            "align_items": null,
            "align_self": null,
            "border": null,
            "bottom": null,
            "display": null,
            "flex": null,
            "flex_flow": null,
            "grid_area": null,
            "grid_auto_columns": null,
            "grid_auto_flow": null,
            "grid_auto_rows": null,
            "grid_column": null,
            "grid_gap": null,
            "grid_row": null,
            "grid_template_areas": null,
            "grid_template_columns": null,
            "grid_template_rows": null,
            "height": null,
            "justify_content": null,
            "justify_items": null,
            "left": null,
            "margin": null,
            "max_height": null,
            "max_width": null,
            "min_height": null,
            "min_width": null,
            "object_fit": null,
            "object_position": null,
            "order": null,
            "overflow": null,
            "overflow_x": null,
            "overflow_y": null,
            "padding": null,
            "right": null,
            "top": null,
            "visibility": null,
            "width": null
          }
        },
        "0981e61cc42944909e32a7f4cf148f31": {
          "model_module": "@jupyter-widgets/controls",
          "model_module_version": "1.5.0",
          "model_name": "FloatProgressModel",
          "state": {
            "_dom_classes": [],
            "_model_module": "@jupyter-widgets/controls",
            "_model_module_version": "1.5.0",
            "_model_name": "FloatProgressModel",
            "_view_count": null,
            "_view_module": "@jupyter-widgets/controls",
            "_view_module_version": "1.5.0",
            "_view_name": "ProgressView",
            "bar_style": "success",
            "description": "",
            "description_tooltip": null,
            "layout": "IPY_MODEL_b9de6d0f820e414a9b872d51b45ed041",
            "max": 895321,
            "min": 0,
            "orientation": "horizontal",
            "style": "IPY_MODEL_fc6136d23df346a7ae1a3c01dc4cae7c",
            "value": 895321
          }
        },
        "0ac2bfe1eff8431fb5a425943a2e457f": {
          "model_module": "@jupyter-widgets/controls",
          "model_module_version": "1.5.0",
          "model_name": "FloatProgressModel",
          "state": {
            "_dom_classes": [],
            "_model_module": "@jupyter-widgets/controls",
            "_model_module_version": "1.5.0",
            "_model_name": "FloatProgressModel",
            "_view_count": null,
            "_view_module": "@jupyter-widgets/controls",
            "_view_module_version": "1.5.0",
            "_view_name": "ProgressView",
            "bar_style": "success",
            "description": "",
            "description_tooltip": null,
            "layout": "IPY_MODEL_3ae18e1ce89a4ade9118d96c1d04f64d",
            "max": 540322347,
            "min": 0,
            "orientation": "horizontal",
            "style": "IPY_MODEL_f4368f03a96245368c02075cb5e59dde",
            "value": 540322347
          }
        },
        "0e4318a1ad7341639402dce53c417428": {
          "model_module": "@jupyter-widgets/controls",
          "model_module_version": "1.5.0",
          "model_name": "DescriptionStyleModel",
          "state": {
            "_model_module": "@jupyter-widgets/controls",
            "_model_module_version": "1.5.0",
            "_model_name": "DescriptionStyleModel",
            "_view_count": null,
            "_view_module": "@jupyter-widgets/base",
            "_view_module_version": "1.2.0",
            "_view_name": "StyleView",
            "description_width": ""
          }
        },
        "0f86ce7bc4ad4be38e7580aa5d16ebd6": {
          "model_module": "@jupyter-widgets/controls",
          "model_module_version": "1.5.0",
          "model_name": "FloatProgressModel",
          "state": {
            "_dom_classes": [],
            "_model_module": "@jupyter-widgets/controls",
            "_model_module_version": "1.5.0",
            "_model_name": "FloatProgressModel",
            "_view_count": null,
            "_view_module": "@jupyter-widgets/controls",
            "_view_module_version": "1.5.0",
            "_view_name": "ProgressView",
            "bar_style": "",
            "description": "",
            "description_tooltip": null,
            "layout": "IPY_MODEL_50252bea99624a9cbc92247e53b7a014",
            "max": 100,
            "min": 0,
            "orientation": "horizontal",
            "style": "IPY_MODEL_eb5a17fea5a944b9bce97a52a7a01b9b",
            "value": 4
          }
        },
        "10751f0d4a4a41698713f05189002530": {
          "model_module": "@jupyter-widgets/controls",
          "model_module_version": "1.5.0",
          "model_name": "HTMLModel",
          "state": {
            "_dom_classes": [],
            "_model_module": "@jupyter-widgets/controls",
            "_model_module_version": "1.5.0",
            "_model_name": "HTMLModel",
            "_view_count": null,
            "_view_module": "@jupyter-widgets/controls",
            "_view_module_version": "1.5.0",
            "_view_name": "HTMLView",
            "description": "",
            "description_tooltip": null,
            "layout": "IPY_MODEL_1353aefdb17f42f3922fa0e8f18a1b36",
            "placeholder": "​",
            "style": "IPY_MODEL_0e4318a1ad7341639402dce53c417428",
            "value": "Downloading pytorch_model.bin: 100%"
          }
        },
        "1353aefdb17f42f3922fa0e8f18a1b36": {
          "model_module": "@jupyter-widgets/base",
          "model_module_version": "1.2.0",
          "model_name": "LayoutModel",
          "state": {
            "_model_module": "@jupyter-widgets/base",
            "_model_module_version": "1.2.0",
            "_model_name": "LayoutModel",
            "_view_count": null,
            "_view_module": "@jupyter-widgets/base",
            "_view_module_version": "1.2.0",
            "_view_name": "LayoutView",
            "align_content": null,
            "align_items": null,
            "align_self": null,
            "border": null,
            "bottom": null,
            "display": null,
            "flex": null,
            "flex_flow": null,
            "grid_area": null,
            "grid_auto_columns": null,
            "grid_auto_flow": null,
            "grid_auto_rows": null,
            "grid_column": null,
            "grid_gap": null,
            "grid_row": null,
            "grid_template_areas": null,
            "grid_template_columns": null,
            "grid_template_rows": null,
            "height": null,
            "justify_content": null,
            "justify_items": null,
            "left": null,
            "margin": null,
            "max_height": null,
            "max_width": null,
            "min_height": null,
            "min_width": null,
            "object_fit": null,
            "object_position": null,
            "order": null,
            "overflow": null,
            "overflow_x": null,
            "overflow_y": null,
            "padding": null,
            "right": null,
            "top": null,
            "visibility": null,
            "width": null
          }
        },
        "13def570c1994f7c99b6d7e8a5c2fb54": {
          "model_module": "@jupyter-widgets/controls",
          "model_module_version": "1.5.0",
          "model_name": "DescriptionStyleModel",
          "state": {
            "_model_module": "@jupyter-widgets/controls",
            "_model_module_version": "1.5.0",
            "_model_name": "DescriptionStyleModel",
            "_view_count": null,
            "_view_module": "@jupyter-widgets/base",
            "_view_module_version": "1.2.0",
            "_view_name": "StyleView",
            "description_width": ""
          }
        },
        "1449a8494d52442fbfd9d024dc512b49": {
          "model_module": "@jupyter-widgets/controls",
          "model_module_version": "1.5.0",
          "model_name": "DescriptionStyleModel",
          "state": {
            "_model_module": "@jupyter-widgets/controls",
            "_model_module_version": "1.5.0",
            "_model_name": "DescriptionStyleModel",
            "_view_count": null,
            "_view_module": "@jupyter-widgets/base",
            "_view_module_version": "1.2.0",
            "_view_name": "StyleView",
            "description_width": ""
          }
        },
        "14d21efb64864e859a668e7ec5d2efb9": {
          "model_module": "@jupyter-widgets/base",
          "model_module_version": "1.2.0",
          "model_name": "LayoutModel",
          "state": {
            "_model_module": "@jupyter-widgets/base",
            "_model_module_version": "1.2.0",
            "_model_name": "LayoutModel",
            "_view_count": null,
            "_view_module": "@jupyter-widgets/base",
            "_view_module_version": "1.2.0",
            "_view_name": "LayoutView",
            "align_content": null,
            "align_items": null,
            "align_self": null,
            "border": null,
            "bottom": null,
            "display": null,
            "flex": null,
            "flex_flow": null,
            "grid_area": null,
            "grid_auto_columns": null,
            "grid_auto_flow": null,
            "grid_auto_rows": null,
            "grid_column": null,
            "grid_gap": null,
            "grid_row": null,
            "grid_template_areas": null,
            "grid_template_columns": null,
            "grid_template_rows": null,
            "height": null,
            "justify_content": null,
            "justify_items": null,
            "left": null,
            "margin": null,
            "max_height": null,
            "max_width": null,
            "min_height": null,
            "min_width": null,
            "object_fit": null,
            "object_position": null,
            "order": null,
            "overflow": null,
            "overflow_x": null,
            "overflow_y": null,
            "padding": null,
            "right": null,
            "top": null,
            "visibility": null,
            "width": null
          }
        },
        "17f545b62bd6468d82e265bfca68a2a9": {
          "model_module": "@jupyter-widgets/base",
          "model_module_version": "1.2.0",
          "model_name": "LayoutModel",
          "state": {
            "_model_module": "@jupyter-widgets/base",
            "_model_module_version": "1.2.0",
            "_model_name": "LayoutModel",
            "_view_count": null,
            "_view_module": "@jupyter-widgets/base",
            "_view_module_version": "1.2.0",
            "_view_name": "LayoutView",
            "align_content": null,
            "align_items": null,
            "align_self": null,
            "border": null,
            "bottom": null,
            "display": null,
            "flex": null,
            "flex_flow": null,
            "grid_area": null,
            "grid_auto_columns": null,
            "grid_auto_flow": null,
            "grid_auto_rows": null,
            "grid_column": null,
            "grid_gap": null,
            "grid_row": null,
            "grid_template_areas": null,
            "grid_template_columns": null,
            "grid_template_rows": null,
            "height": null,
            "justify_content": null,
            "justify_items": null,
            "left": null,
            "margin": null,
            "max_height": null,
            "max_width": null,
            "min_height": null,
            "min_width": null,
            "object_fit": null,
            "object_position": null,
            "order": null,
            "overflow": null,
            "overflow_x": null,
            "overflow_y": null,
            "padding": null,
            "right": null,
            "top": null,
            "visibility": null,
            "width": null
          }
        },
        "1ee0949ca61744dc97886637e53b1789": {
          "model_module": "@jupyter-widgets/base",
          "model_module_version": "1.2.0",
          "model_name": "LayoutModel",
          "state": {
            "_model_module": "@jupyter-widgets/base",
            "_model_module_version": "1.2.0",
            "_model_name": "LayoutModel",
            "_view_count": null,
            "_view_module": "@jupyter-widgets/base",
            "_view_module_version": "1.2.0",
            "_view_name": "LayoutView",
            "align_content": null,
            "align_items": null,
            "align_self": null,
            "border": null,
            "bottom": null,
            "display": null,
            "flex": null,
            "flex_flow": null,
            "grid_area": null,
            "grid_auto_columns": null,
            "grid_auto_flow": null,
            "grid_auto_rows": null,
            "grid_column": null,
            "grid_gap": null,
            "grid_row": null,
            "grid_template_areas": null,
            "grid_template_columns": null,
            "grid_template_rows": null,
            "height": null,
            "justify_content": null,
            "justify_items": null,
            "left": null,
            "margin": null,
            "max_height": null,
            "max_width": null,
            "min_height": null,
            "min_width": null,
            "object_fit": null,
            "object_position": null,
            "order": null,
            "overflow": null,
            "overflow_x": null,
            "overflow_y": null,
            "padding": null,
            "right": null,
            "top": null,
            "visibility": null,
            "width": null
          }
        },
        "356858febf1d4904a5069d56ad73f7c0": {
          "model_module": "@jupyter-widgets/base",
          "model_module_version": "1.2.0",
          "model_name": "LayoutModel",
          "state": {
            "_model_module": "@jupyter-widgets/base",
            "_model_module_version": "1.2.0",
            "_model_name": "LayoutModel",
            "_view_count": null,
            "_view_module": "@jupyter-widgets/base",
            "_view_module_version": "1.2.0",
            "_view_name": "LayoutView",
            "align_content": null,
            "align_items": null,
            "align_self": null,
            "border": null,
            "bottom": null,
            "display": null,
            "flex": null,
            "flex_flow": null,
            "grid_area": null,
            "grid_auto_columns": null,
            "grid_auto_flow": null,
            "grid_auto_rows": null,
            "grid_column": null,
            "grid_gap": null,
            "grid_row": null,
            "grid_template_areas": null,
            "grid_template_columns": null,
            "grid_template_rows": null,
            "height": null,
            "justify_content": null,
            "justify_items": null,
            "left": null,
            "margin": null,
            "max_height": null,
            "max_width": null,
            "min_height": null,
            "min_width": null,
            "object_fit": null,
            "object_position": null,
            "order": null,
            "overflow": null,
            "overflow_x": null,
            "overflow_y": null,
            "padding": null,
            "right": null,
            "top": null,
            "visibility": null,
            "width": null
          }
        },
        "3652ec9db74e44d6b310f6b0861b25cc": {
          "model_module": "@jupyter-widgets/controls",
          "model_module_version": "1.5.0",
          "model_name": "DescriptionStyleModel",
          "state": {
            "_model_module": "@jupyter-widgets/controls",
            "_model_module_version": "1.5.0",
            "_model_name": "DescriptionStyleModel",
            "_view_count": null,
            "_view_module": "@jupyter-widgets/base",
            "_view_module_version": "1.2.0",
            "_view_name": "StyleView",
            "description_width": ""
          }
        },
        "3ae18e1ce89a4ade9118d96c1d04f64d": {
          "model_module": "@jupyter-widgets/base",
          "model_module_version": "1.2.0",
          "model_name": "LayoutModel",
          "state": {
            "_model_module": "@jupyter-widgets/base",
            "_model_module_version": "1.2.0",
            "_model_name": "LayoutModel",
            "_view_count": null,
            "_view_module": "@jupyter-widgets/base",
            "_view_module_version": "1.2.0",
            "_view_name": "LayoutView",
            "align_content": null,
            "align_items": null,
            "align_self": null,
            "border": null,
            "bottom": null,
            "display": null,
            "flex": null,
            "flex_flow": null,
            "grid_area": null,
            "grid_auto_columns": null,
            "grid_auto_flow": null,
            "grid_auto_rows": null,
            "grid_column": null,
            "grid_gap": null,
            "grid_row": null,
            "grid_template_areas": null,
            "grid_template_columns": null,
            "grid_template_rows": null,
            "height": null,
            "justify_content": null,
            "justify_items": null,
            "left": null,
            "margin": null,
            "max_height": null,
            "max_width": null,
            "min_height": null,
            "min_width": null,
            "object_fit": null,
            "object_position": null,
            "order": null,
            "overflow": null,
            "overflow_x": null,
            "overflow_y": null,
            "padding": null,
            "right": null,
            "top": null,
            "visibility": null,
            "width": null
          }
        },
        "3fd392d9d77c47fbaea204b415720544": {
          "model_module": "@jupyter-widgets/controls",
          "model_module_version": "1.5.0",
          "model_name": "DescriptionStyleModel",
          "state": {
            "_model_module": "@jupyter-widgets/controls",
            "_model_module_version": "1.5.0",
            "_model_name": "DescriptionStyleModel",
            "_view_count": null,
            "_view_module": "@jupyter-widgets/base",
            "_view_module_version": "1.2.0",
            "_view_name": "StyleView",
            "description_width": ""
          }
        },
        "4773e756a29a4c649102eb0ffd3ba23f": {
          "model_module": "@jupyter-widgets/controls",
          "model_module_version": "1.5.0",
          "model_name": "HTMLModel",
          "state": {
            "_dom_classes": [],
            "_model_module": "@jupyter-widgets/controls",
            "_model_module_version": "1.5.0",
            "_model_name": "HTMLModel",
            "_view_count": null,
            "_view_module": "@jupyter-widgets/controls",
            "_view_module_version": "1.5.0",
            "_view_name": "HTMLView",
            "description": "",
            "description_tooltip": null,
            "layout": "IPY_MODEL_f004aeb079fd46de990c579de34b8b25",
            "placeholder": "​",
            "style": "IPY_MODEL_9f24e99b5e8b47708550284eb89b32be",
            "value": "Downloading (…)solve/main/bpe.codes: 100%"
          }
        },
        "4cec9665811941c5b0f14a79e168347a": {
          "model_module": "@jupyter-widgets/controls",
          "model_module_version": "1.5.0",
          "model_name": "HTMLModel",
          "state": {
            "_dom_classes": [],
            "_model_module": "@jupyter-widgets/controls",
            "_model_module_version": "1.5.0",
            "_model_name": "HTMLModel",
            "_view_count": null,
            "_view_module": "@jupyter-widgets/controls",
            "_view_module_version": "1.5.0",
            "_view_name": "HTMLView",
            "description": "",
            "description_tooltip": null,
            "layout": "IPY_MODEL_b19eeb5cc44d4bce861446e1186c6749",
            "placeholder": "​",
            "style": "IPY_MODEL_e110308d9caa4dc299468393119d23da",
            "value": " 895k/895k [00:00&lt;00:00, 2.08MB/s]"
          }
        },
        "50252bea99624a9cbc92247e53b7a014": {
          "model_module": "@jupyter-widgets/base",
          "model_module_version": "1.2.0",
          "model_name": "LayoutModel",
          "state": {
            "_model_module": "@jupyter-widgets/base",
            "_model_module_version": "1.2.0",
            "_model_name": "LayoutModel",
            "_view_count": null,
            "_view_module": "@jupyter-widgets/base",
            "_view_module_version": "1.2.0",
            "_view_name": "LayoutView",
            "align_content": null,
            "align_items": null,
            "align_self": null,
            "border": null,
            "bottom": null,
            "display": null,
            "flex": null,
            "flex_flow": null,
            "grid_area": null,
            "grid_auto_columns": null,
            "grid_auto_flow": null,
            "grid_auto_rows": null,
            "grid_column": null,
            "grid_gap": null,
            "grid_row": null,
            "grid_template_areas": null,
            "grid_template_columns": null,
            "grid_template_rows": null,
            "height": null,
            "justify_content": null,
            "justify_items": null,
            "left": null,
            "margin": null,
            "max_height": null,
            "max_width": null,
            "min_height": null,
            "min_width": null,
            "object_fit": null,
            "object_position": null,
            "order": null,
            "overflow": null,
            "overflow_x": null,
            "overflow_y": null,
            "padding": null,
            "right": null,
            "top": null,
            "visibility": null,
            "width": null
          }
        },
        "5a688581a3334a4380db15526e4650a2": {
          "model_module": "@jupyter-widgets/base",
          "model_module_version": "1.2.0",
          "model_name": "LayoutModel",
          "state": {
            "_model_module": "@jupyter-widgets/base",
            "_model_module_version": "1.2.0",
            "_model_name": "LayoutModel",
            "_view_count": null,
            "_view_module": "@jupyter-widgets/base",
            "_view_module_version": "1.2.0",
            "_view_name": "LayoutView",
            "align_content": null,
            "align_items": null,
            "align_self": null,
            "border": null,
            "bottom": null,
            "display": null,
            "flex": null,
            "flex_flow": null,
            "grid_area": null,
            "grid_auto_columns": null,
            "grid_auto_flow": null,
            "grid_auto_rows": null,
            "grid_column": null,
            "grid_gap": null,
            "grid_row": null,
            "grid_template_areas": null,
            "grid_template_columns": null,
            "grid_template_rows": null,
            "height": null,
            "justify_content": null,
            "justify_items": null,
            "left": null,
            "margin": null,
            "max_height": null,
            "max_width": null,
            "min_height": null,
            "min_width": null,
            "object_fit": null,
            "object_position": null,
            "order": null,
            "overflow": null,
            "overflow_x": null,
            "overflow_y": null,
            "padding": null,
            "right": null,
            "top": null,
            "visibility": null,
            "width": null
          }
        },
        "6162a868ce824835b867a24ea1f52d82": {
          "model_module": "@jupyter-widgets/controls",
          "model_module_version": "1.5.0",
          "model_name": "HBoxModel",
          "state": {
            "_dom_classes": [],
            "_model_module": "@jupyter-widgets/controls",
            "_model_module_version": "1.5.0",
            "_model_name": "HBoxModel",
            "_view_count": null,
            "_view_module": "@jupyter-widgets/controls",
            "_view_module_version": "1.5.0",
            "_view_name": "HBoxView",
            "box_style": "",
            "children": [
              "IPY_MODEL_4773e756a29a4c649102eb0ffd3ba23f",
              "IPY_MODEL_6ab347bdc02541fd92ea83665d4f5e67",
              "IPY_MODEL_f7cc705458bb45e2b3d439489a0ee6bf"
            ],
            "layout": "IPY_MODEL_adc6fd9641ed4ff9854aabe2f05e32e3"
          }
        },
        "63caf2aaee3b4321843320d2fddead1e": {
          "model_module": "@jupyter-widgets/base",
          "model_module_version": "1.2.0",
          "model_name": "LayoutModel",
          "state": {
            "_model_module": "@jupyter-widgets/base",
            "_model_module_version": "1.2.0",
            "_model_name": "LayoutModel",
            "_view_count": null,
            "_view_module": "@jupyter-widgets/base",
            "_view_module_version": "1.2.0",
            "_view_name": "LayoutView",
            "align_content": null,
            "align_items": null,
            "align_self": null,
            "border": null,
            "bottom": null,
            "display": null,
            "flex": null,
            "flex_flow": null,
            "grid_area": null,
            "grid_auto_columns": null,
            "grid_auto_flow": null,
            "grid_auto_rows": null,
            "grid_column": null,
            "grid_gap": null,
            "grid_row": null,
            "grid_template_areas": null,
            "grid_template_columns": null,
            "grid_template_rows": null,
            "height": null,
            "justify_content": null,
            "justify_items": null,
            "left": null,
            "margin": null,
            "max_height": null,
            "max_width": null,
            "min_height": null,
            "min_width": null,
            "object_fit": null,
            "object_position": null,
            "order": null,
            "overflow": null,
            "overflow_x": null,
            "overflow_y": null,
            "padding": null,
            "right": null,
            "top": null,
            "visibility": null,
            "width": null
          }
        },
        "6ab347bdc02541fd92ea83665d4f5e67": {
          "model_module": "@jupyter-widgets/controls",
          "model_module_version": "1.5.0",
          "model_name": "FloatProgressModel",
          "state": {
            "_dom_classes": [],
            "_model_module": "@jupyter-widgets/controls",
            "_model_module_version": "1.5.0",
            "_model_name": "FloatProgressModel",
            "_view_count": null,
            "_view_module": "@jupyter-widgets/controls",
            "_view_module_version": "1.5.0",
            "_view_name": "ProgressView",
            "bar_style": "success",
            "description": "",
            "description_tooltip": null,
            "layout": "IPY_MODEL_17f545b62bd6468d82e265bfca68a2a9",
            "max": 1135173,
            "min": 0,
            "orientation": "horizontal",
            "style": "IPY_MODEL_b252b803f08e4fb4be8a939fee7c4715",
            "value": 1135173
          }
        },
        "85c2f0c1d9bb4547987c5084efa4df2b": {
          "model_module": "@jupyter-widgets/controls",
          "model_module_version": "1.5.0",
          "model_name": "HBoxModel",
          "state": {
            "_dom_classes": [],
            "_model_module": "@jupyter-widgets/controls",
            "_model_module_version": "1.5.0",
            "_model_name": "HBoxModel",
            "_view_count": null,
            "_view_module": "@jupyter-widgets/controls",
            "_view_module_version": "1.5.0",
            "_view_name": "HBoxView",
            "box_style": "",
            "children": [
              "IPY_MODEL_9e30b30d0ced48e59f3eea8f098e11ff",
              "IPY_MODEL_0981e61cc42944909e32a7f4cf148f31",
              "IPY_MODEL_4cec9665811941c5b0f14a79e168347a"
            ],
            "layout": "IPY_MODEL_98f5e25a20c0425aa36664b96cf97c49"
          }
        },
        "86c046c2fb4c4306a5e974c92eb3425e": {
          "model_module": "@jupyter-widgets/base",
          "model_module_version": "1.2.0",
          "model_name": "LayoutModel",
          "state": {
            "_model_module": "@jupyter-widgets/base",
            "_model_module_version": "1.2.0",
            "_model_name": "LayoutModel",
            "_view_count": null,
            "_view_module": "@jupyter-widgets/base",
            "_view_module_version": "1.2.0",
            "_view_name": "LayoutView",
            "align_content": null,
            "align_items": null,
            "align_self": null,
            "border": null,
            "bottom": null,
            "display": null,
            "flex": null,
            "flex_flow": null,
            "grid_area": null,
            "grid_auto_columns": null,
            "grid_auto_flow": null,
            "grid_auto_rows": null,
            "grid_column": null,
            "grid_gap": null,
            "grid_row": null,
            "grid_template_areas": null,
            "grid_template_columns": null,
            "grid_template_rows": null,
            "height": null,
            "justify_content": null,
            "justify_items": null,
            "left": null,
            "margin": null,
            "max_height": null,
            "max_width": null,
            "min_height": null,
            "min_width": null,
            "object_fit": null,
            "object_position": null,
            "order": null,
            "overflow": null,
            "overflow_x": null,
            "overflow_y": null,
            "padding": null,
            "right": null,
            "top": null,
            "visibility": null,
            "width": null
          }
        },
        "9871f27f73ee4bf0b0a0c6b75d681ae0": {
          "model_module": "@jupyter-widgets/controls",
          "model_module_version": "1.5.0",
          "model_name": "DescriptionStyleModel",
          "state": {
            "_model_module": "@jupyter-widgets/controls",
            "_model_module_version": "1.5.0",
            "_model_name": "DescriptionStyleModel",
            "_view_count": null,
            "_view_module": "@jupyter-widgets/base",
            "_view_module_version": "1.2.0",
            "_view_name": "StyleView",
            "description_width": ""
          }
        },
        "98f5e25a20c0425aa36664b96cf97c49": {
          "model_module": "@jupyter-widgets/base",
          "model_module_version": "1.2.0",
          "model_name": "LayoutModel",
          "state": {
            "_model_module": "@jupyter-widgets/base",
            "_model_module_version": "1.2.0",
            "_model_name": "LayoutModel",
            "_view_count": null,
            "_view_module": "@jupyter-widgets/base",
            "_view_module_version": "1.2.0",
            "_view_name": "LayoutView",
            "align_content": null,
            "align_items": null,
            "align_self": null,
            "border": null,
            "bottom": null,
            "display": null,
            "flex": null,
            "flex_flow": null,
            "grid_area": null,
            "grid_auto_columns": null,
            "grid_auto_flow": null,
            "grid_auto_rows": null,
            "grid_column": null,
            "grid_gap": null,
            "grid_row": null,
            "grid_template_areas": null,
            "grid_template_columns": null,
            "grid_template_rows": null,
            "height": null,
            "justify_content": null,
            "justify_items": null,
            "left": null,
            "margin": null,
            "max_height": null,
            "max_width": null,
            "min_height": null,
            "min_width": null,
            "object_fit": null,
            "object_position": null,
            "order": null,
            "overflow": null,
            "overflow_x": null,
            "overflow_y": null,
            "padding": null,
            "right": null,
            "top": null,
            "visibility": null,
            "width": null
          }
        },
        "99295fc80d7b43a583e03a1139414bfd": {
          "model_module": "@jupyter-widgets/controls",
          "model_module_version": "1.5.0",
          "model_name": "DescriptionStyleModel",
          "state": {
            "_model_module": "@jupyter-widgets/controls",
            "_model_module_version": "1.5.0",
            "_model_name": "DescriptionStyleModel",
            "_view_count": null,
            "_view_module": "@jupyter-widgets/base",
            "_view_module_version": "1.2.0",
            "_view_name": "StyleView",
            "description_width": ""
          }
        },
        "9e30b30d0ced48e59f3eea8f098e11ff": {
          "model_module": "@jupyter-widgets/controls",
          "model_module_version": "1.5.0",
          "model_name": "HTMLModel",
          "state": {
            "_dom_classes": [],
            "_model_module": "@jupyter-widgets/controls",
            "_model_module_version": "1.5.0",
            "_model_name": "HTMLModel",
            "_view_count": null,
            "_view_module": "@jupyter-widgets/controls",
            "_view_module_version": "1.5.0",
            "_view_name": "HTMLView",
            "description": "",
            "description_tooltip": null,
            "layout": "IPY_MODEL_dfcf7e138f5446fb9e1278173b6041e4",
            "placeholder": "​",
            "style": "IPY_MODEL_99295fc80d7b43a583e03a1139414bfd",
            "value": "Downloading (…)solve/main/vocab.txt: 100%"
          }
        },
        "9f24e99b5e8b47708550284eb89b32be": {
          "model_module": "@jupyter-widgets/controls",
          "model_module_version": "1.5.0",
          "model_name": "DescriptionStyleModel",
          "state": {
            "_model_module": "@jupyter-widgets/controls",
            "_model_module_version": "1.5.0",
            "_model_name": "DescriptionStyleModel",
            "_view_count": null,
            "_view_module": "@jupyter-widgets/base",
            "_view_module_version": "1.2.0",
            "_view_name": "StyleView",
            "description_width": ""
          }
        },
        "9f5be5272a794a5b9a1ebcfefdd835d9": {
          "model_module": "@jupyter-widgets/controls",
          "model_module_version": "1.5.0",
          "model_name": "HBoxModel",
          "state": {
            "_dom_classes": [],
            "_model_module": "@jupyter-widgets/controls",
            "_model_module_version": "1.5.0",
            "_model_name": "HBoxModel",
            "_view_count": null,
            "_view_module": "@jupyter-widgets/controls",
            "_view_module_version": "1.5.0",
            "_view_name": "HBoxView",
            "box_style": "",
            "children": [
              "IPY_MODEL_f9d283a0c09846af859956515376ee5a",
              "IPY_MODEL_0f86ce7bc4ad4be38e7580aa5d16ebd6",
              "IPY_MODEL_03494b80b63f4d6381fa566127212267"
            ],
            "layout": "IPY_MODEL_06002a93f6f44e1cae86a63cfc83db95"
          }
        },
        "a198122a7f1f4203869b5bae60f1e550": {
          "model_module": "@jupyter-widgets/controls",
          "model_module_version": "1.5.0",
          "model_name": "ProgressStyleModel",
          "state": {
            "_model_module": "@jupyter-widgets/controls",
            "_model_module_version": "1.5.0",
            "_model_name": "ProgressStyleModel",
            "_view_count": null,
            "_view_module": "@jupyter-widgets/base",
            "_view_module_version": "1.2.0",
            "_view_name": "StyleView",
            "bar_color": null,
            "description_width": ""
          }
        },
        "adc6fd9641ed4ff9854aabe2f05e32e3": {
          "model_module": "@jupyter-widgets/base",
          "model_module_version": "1.2.0",
          "model_name": "LayoutModel",
          "state": {
            "_model_module": "@jupyter-widgets/base",
            "_model_module_version": "1.2.0",
            "_model_name": "LayoutModel",
            "_view_count": null,
            "_view_module": "@jupyter-widgets/base",
            "_view_module_version": "1.2.0",
            "_view_name": "LayoutView",
            "align_content": null,
            "align_items": null,
            "align_self": null,
            "border": null,
            "bottom": null,
            "display": null,
            "flex": null,
            "flex_flow": null,
            "grid_area": null,
            "grid_auto_columns": null,
            "grid_auto_flow": null,
            "grid_auto_rows": null,
            "grid_column": null,
            "grid_gap": null,
            "grid_row": null,
            "grid_template_areas": null,
            "grid_template_columns": null,
            "grid_template_rows": null,
            "height": null,
            "justify_content": null,
            "justify_items": null,
            "left": null,
            "margin": null,
            "max_height": null,
            "max_width": null,
            "min_height": null,
            "min_width": null,
            "object_fit": null,
            "object_position": null,
            "order": null,
            "overflow": null,
            "overflow_x": null,
            "overflow_y": null,
            "padding": null,
            "right": null,
            "top": null,
            "visibility": null,
            "width": null
          }
        },
        "b19eeb5cc44d4bce861446e1186c6749": {
          "model_module": "@jupyter-widgets/base",
          "model_module_version": "1.2.0",
          "model_name": "LayoutModel",
          "state": {
            "_model_module": "@jupyter-widgets/base",
            "_model_module_version": "1.2.0",
            "_model_name": "LayoutModel",
            "_view_count": null,
            "_view_module": "@jupyter-widgets/base",
            "_view_module_version": "1.2.0",
            "_view_name": "LayoutView",
            "align_content": null,
            "align_items": null,
            "align_self": null,
            "border": null,
            "bottom": null,
            "display": null,
            "flex": null,
            "flex_flow": null,
            "grid_area": null,
            "grid_auto_columns": null,
            "grid_auto_flow": null,
            "grid_auto_rows": null,
            "grid_column": null,
            "grid_gap": null,
            "grid_row": null,
            "grid_template_areas": null,
            "grid_template_columns": null,
            "grid_template_rows": null,
            "height": null,
            "justify_content": null,
            "justify_items": null,
            "left": null,
            "margin": null,
            "max_height": null,
            "max_width": null,
            "min_height": null,
            "min_width": null,
            "object_fit": null,
            "object_position": null,
            "order": null,
            "overflow": null,
            "overflow_x": null,
            "overflow_y": null,
            "padding": null,
            "right": null,
            "top": null,
            "visibility": null,
            "width": null
          }
        },
        "b252b803f08e4fb4be8a939fee7c4715": {
          "model_module": "@jupyter-widgets/controls",
          "model_module_version": "1.5.0",
          "model_name": "ProgressStyleModel",
          "state": {
            "_model_module": "@jupyter-widgets/controls",
            "_model_module_version": "1.5.0",
            "_model_name": "ProgressStyleModel",
            "_view_count": null,
            "_view_module": "@jupyter-widgets/base",
            "_view_module_version": "1.2.0",
            "_view_name": "StyleView",
            "bar_color": null,
            "description_width": ""
          }
        },
        "b890cadfe15444d7acd64ff30388d338": {
          "model_module": "@jupyter-widgets/controls",
          "model_module_version": "1.5.0",
          "model_name": "HTMLModel",
          "state": {
            "_dom_classes": [],
            "_model_module": "@jupyter-widgets/controls",
            "_model_module_version": "1.5.0",
            "_model_name": "HTMLModel",
            "_view_count": null,
            "_view_module": "@jupyter-widgets/controls",
            "_view_module_version": "1.5.0",
            "_view_name": "HTMLView",
            "description": "",
            "description_tooltip": null,
            "layout": "IPY_MODEL_c5fba43b8ecb42f7b270d364023bf758",
            "placeholder": "​",
            "style": "IPY_MODEL_e2651f4d6b1142dcbb392a142fc26f2c",
            "value": " 678/678 [00:00&lt;00:00, 52.1kB/s]"
          }
        },
        "b9de6d0f820e414a9b872d51b45ed041": {
          "model_module": "@jupyter-widgets/base",
          "model_module_version": "1.2.0",
          "model_name": "LayoutModel",
          "state": {
            "_model_module": "@jupyter-widgets/base",
            "_model_module_version": "1.2.0",
            "_model_name": "LayoutModel",
            "_view_count": null,
            "_view_module": "@jupyter-widgets/base",
            "_view_module_version": "1.2.0",
            "_view_name": "LayoutView",
            "align_content": null,
            "align_items": null,
            "align_self": null,
            "border": null,
            "bottom": null,
            "display": null,
            "flex": null,
            "flex_flow": null,
            "grid_area": null,
            "grid_auto_columns": null,
            "grid_auto_flow": null,
            "grid_auto_rows": null,
            "grid_column": null,
            "grid_gap": null,
            "grid_row": null,
            "grid_template_areas": null,
            "grid_template_columns": null,
            "grid_template_rows": null,
            "height": null,
            "justify_content": null,
            "justify_items": null,
            "left": null,
            "margin": null,
            "max_height": null,
            "max_width": null,
            "min_height": null,
            "min_width": null,
            "object_fit": null,
            "object_position": null,
            "order": null,
            "overflow": null,
            "overflow_x": null,
            "overflow_y": null,
            "padding": null,
            "right": null,
            "top": null,
            "visibility": null,
            "width": null
          }
        },
        "c2800806e9f645f9937ebc1b0fc45291": {
          "model_module": "@jupyter-widgets/controls",
          "model_module_version": "1.5.0",
          "model_name": "FloatProgressModel",
          "state": {
            "_dom_classes": [],
            "_model_module": "@jupyter-widgets/controls",
            "_model_module_version": "1.5.0",
            "_model_name": "FloatProgressModel",
            "_view_count": null,
            "_view_module": "@jupyter-widgets/controls",
            "_view_module_version": "1.5.0",
            "_view_name": "ProgressView",
            "bar_style": "success",
            "description": "",
            "description_tooltip": null,
            "layout": "IPY_MODEL_14d21efb64864e859a668e7ec5d2efb9",
            "max": 678,
            "min": 0,
            "orientation": "horizontal",
            "style": "IPY_MODEL_a198122a7f1f4203869b5bae60f1e550",
            "value": 678
          }
        },
        "c5fba43b8ecb42f7b270d364023bf758": {
          "model_module": "@jupyter-widgets/base",
          "model_module_version": "1.2.0",
          "model_name": "LayoutModel",
          "state": {
            "_model_module": "@jupyter-widgets/base",
            "_model_module_version": "1.2.0",
            "_model_name": "LayoutModel",
            "_view_count": null,
            "_view_module": "@jupyter-widgets/base",
            "_view_module_version": "1.2.0",
            "_view_name": "LayoutView",
            "align_content": null,
            "align_items": null,
            "align_self": null,
            "border": null,
            "bottom": null,
            "display": null,
            "flex": null,
            "flex_flow": null,
            "grid_area": null,
            "grid_auto_columns": null,
            "grid_auto_flow": null,
            "grid_auto_rows": null,
            "grid_column": null,
            "grid_gap": null,
            "grid_row": null,
            "grid_template_areas": null,
            "grid_template_columns": null,
            "grid_template_rows": null,
            "height": null,
            "justify_content": null,
            "justify_items": null,
            "left": null,
            "margin": null,
            "max_height": null,
            "max_width": null,
            "min_height": null,
            "min_width": null,
            "object_fit": null,
            "object_position": null,
            "order": null,
            "overflow": null,
            "overflow_x": null,
            "overflow_y": null,
            "padding": null,
            "right": null,
            "top": null,
            "visibility": null,
            "width": null
          }
        },
        "cdc89baf60ec4388ba78501571c7c1d9": {
          "model_module": "@jupyter-widgets/controls",
          "model_module_version": "1.5.0",
          "model_name": "HTMLModel",
          "state": {
            "_dom_classes": [],
            "_model_module": "@jupyter-widgets/controls",
            "_model_module_version": "1.5.0",
            "_model_name": "HTMLModel",
            "_view_count": null,
            "_view_module": "@jupyter-widgets/controls",
            "_view_module_version": "1.5.0",
            "_view_name": "HTMLView",
            "description": "",
            "description_tooltip": null,
            "layout": "IPY_MODEL_356858febf1d4904a5069d56ad73f7c0",
            "placeholder": "​",
            "style": "IPY_MODEL_1449a8494d52442fbfd9d024dc512b49",
            "value": "Downloading (…)lve/main/config.json: 100%"
          }
        },
        "de28a6f82387440c9df745275d57ff0d": {
          "model_module": "@jupyter-widgets/controls",
          "model_module_version": "1.5.0",
          "model_name": "HBoxModel",
          "state": {
            "_dom_classes": [],
            "_model_module": "@jupyter-widgets/controls",
            "_model_module_version": "1.5.0",
            "_model_name": "HBoxModel",
            "_view_count": null,
            "_view_module": "@jupyter-widgets/controls",
            "_view_module_version": "1.5.0",
            "_view_name": "HBoxView",
            "box_style": "",
            "children": [
              "IPY_MODEL_10751f0d4a4a41698713f05189002530",
              "IPY_MODEL_0ac2bfe1eff8431fb5a425943a2e457f",
              "IPY_MODEL_e72fcc1c78814529a7999645678c11d1"
            ],
            "layout": "IPY_MODEL_63caf2aaee3b4321843320d2fddead1e"
          }
        },
        "dfcf7e138f5446fb9e1278173b6041e4": {
          "model_module": "@jupyter-widgets/base",
          "model_module_version": "1.2.0",
          "model_name": "LayoutModel",
          "state": {
            "_model_module": "@jupyter-widgets/base",
            "_model_module_version": "1.2.0",
            "_model_name": "LayoutModel",
            "_view_count": null,
            "_view_module": "@jupyter-widgets/base",
            "_view_module_version": "1.2.0",
            "_view_name": "LayoutView",
            "align_content": null,
            "align_items": null,
            "align_self": null,
            "border": null,
            "bottom": null,
            "display": null,
            "flex": null,
            "flex_flow": null,
            "grid_area": null,
            "grid_auto_columns": null,
            "grid_auto_flow": null,
            "grid_auto_rows": null,
            "grid_column": null,
            "grid_gap": null,
            "grid_row": null,
            "grid_template_areas": null,
            "grid_template_columns": null,
            "grid_template_rows": null,
            "height": null,
            "justify_content": null,
            "justify_items": null,
            "left": null,
            "margin": null,
            "max_height": null,
            "max_width": null,
            "min_height": null,
            "min_width": null,
            "object_fit": null,
            "object_position": null,
            "order": null,
            "overflow": null,
            "overflow_x": null,
            "overflow_y": null,
            "padding": null,
            "right": null,
            "top": null,
            "visibility": null,
            "width": null
          }
        },
        "e110308d9caa4dc299468393119d23da": {
          "model_module": "@jupyter-widgets/controls",
          "model_module_version": "1.5.0",
          "model_name": "DescriptionStyleModel",
          "state": {
            "_model_module": "@jupyter-widgets/controls",
            "_model_module_version": "1.5.0",
            "_model_name": "DescriptionStyleModel",
            "_view_count": null,
            "_view_module": "@jupyter-widgets/base",
            "_view_module_version": "1.2.0",
            "_view_name": "StyleView",
            "description_width": ""
          }
        },
        "e26253382a094f1b85a17c18bccd3041": {
          "model_module": "@jupyter-widgets/base",
          "model_module_version": "1.2.0",
          "model_name": "LayoutModel",
          "state": {
            "_model_module": "@jupyter-widgets/base",
            "_model_module_version": "1.2.0",
            "_model_name": "LayoutModel",
            "_view_count": null,
            "_view_module": "@jupyter-widgets/base",
            "_view_module_version": "1.2.0",
            "_view_name": "LayoutView",
            "align_content": null,
            "align_items": null,
            "align_self": null,
            "border": null,
            "bottom": null,
            "display": null,
            "flex": null,
            "flex_flow": null,
            "grid_area": null,
            "grid_auto_columns": null,
            "grid_auto_flow": null,
            "grid_auto_rows": null,
            "grid_column": null,
            "grid_gap": null,
            "grid_row": null,
            "grid_template_areas": null,
            "grid_template_columns": null,
            "grid_template_rows": null,
            "height": null,
            "justify_content": null,
            "justify_items": null,
            "left": null,
            "margin": null,
            "max_height": null,
            "max_width": null,
            "min_height": null,
            "min_width": null,
            "object_fit": null,
            "object_position": null,
            "order": null,
            "overflow": null,
            "overflow_x": null,
            "overflow_y": null,
            "padding": null,
            "right": null,
            "top": null,
            "visibility": null,
            "width": null
          }
        },
        "e2651f4d6b1142dcbb392a142fc26f2c": {
          "model_module": "@jupyter-widgets/controls",
          "model_module_version": "1.5.0",
          "model_name": "DescriptionStyleModel",
          "state": {
            "_model_module": "@jupyter-widgets/controls",
            "_model_module_version": "1.5.0",
            "_model_name": "DescriptionStyleModel",
            "_view_count": null,
            "_view_module": "@jupyter-widgets/base",
            "_view_module_version": "1.2.0",
            "_view_name": "StyleView",
            "description_width": ""
          }
        },
        "e72fcc1c78814529a7999645678c11d1": {
          "model_module": "@jupyter-widgets/controls",
          "model_module_version": "1.5.0",
          "model_name": "HTMLModel",
          "state": {
            "_dom_classes": [],
            "_model_module": "@jupyter-widgets/controls",
            "_model_module_version": "1.5.0",
            "_model_name": "HTMLModel",
            "_view_count": null,
            "_view_module": "@jupyter-widgets/controls",
            "_view_module_version": "1.5.0",
            "_view_name": "HTMLView",
            "description": "",
            "description_tooltip": null,
            "layout": "IPY_MODEL_1ee0949ca61744dc97886637e53b1789",
            "placeholder": "​",
            "style": "IPY_MODEL_3652ec9db74e44d6b310f6b0861b25cc",
            "value": " 540M/540M [00:01&lt;00:00, 271MB/s]"
          }
        },
        "eb5a17fea5a944b9bce97a52a7a01b9b": {
          "model_module": "@jupyter-widgets/controls",
          "model_module_version": "1.5.0",
          "model_name": "ProgressStyleModel",
          "state": {
            "_model_module": "@jupyter-widgets/controls",
            "_model_module_version": "1.5.0",
            "_model_name": "ProgressStyleModel",
            "_view_count": null,
            "_view_module": "@jupyter-widgets/base",
            "_view_module_version": "1.2.0",
            "_view_name": "StyleView",
            "bar_color": null,
            "description_width": ""
          }
        },
        "f004aeb079fd46de990c579de34b8b25": {
          "model_module": "@jupyter-widgets/base",
          "model_module_version": "1.2.0",
          "model_name": "LayoutModel",
          "state": {
            "_model_module": "@jupyter-widgets/base",
            "_model_module_version": "1.2.0",
            "_model_name": "LayoutModel",
            "_view_count": null,
            "_view_module": "@jupyter-widgets/base",
            "_view_module_version": "1.2.0",
            "_view_name": "LayoutView",
            "align_content": null,
            "align_items": null,
            "align_self": null,
            "border": null,
            "bottom": null,
            "display": null,
            "flex": null,
            "flex_flow": null,
            "grid_area": null,
            "grid_auto_columns": null,
            "grid_auto_flow": null,
            "grid_auto_rows": null,
            "grid_column": null,
            "grid_gap": null,
            "grid_row": null,
            "grid_template_areas": null,
            "grid_template_columns": null,
            "grid_template_rows": null,
            "height": null,
            "justify_content": null,
            "justify_items": null,
            "left": null,
            "margin": null,
            "max_height": null,
            "max_width": null,
            "min_height": null,
            "min_width": null,
            "object_fit": null,
            "object_position": null,
            "order": null,
            "overflow": null,
            "overflow_x": null,
            "overflow_y": null,
            "padding": null,
            "right": null,
            "top": null,
            "visibility": null,
            "width": null
          }
        },
        "f4368f03a96245368c02075cb5e59dde": {
          "model_module": "@jupyter-widgets/controls",
          "model_module_version": "1.5.0",
          "model_name": "ProgressStyleModel",
          "state": {
            "_model_module": "@jupyter-widgets/controls",
            "_model_module_version": "1.5.0",
            "_model_name": "ProgressStyleModel",
            "_view_count": null,
            "_view_module": "@jupyter-widgets/base",
            "_view_module_version": "1.2.0",
            "_view_name": "StyleView",
            "bar_color": null,
            "description_width": ""
          }
        },
        "f7cc705458bb45e2b3d439489a0ee6bf": {
          "model_module": "@jupyter-widgets/controls",
          "model_module_version": "1.5.0",
          "model_name": "HTMLModel",
          "state": {
            "_dom_classes": [],
            "_model_module": "@jupyter-widgets/controls",
            "_model_module_version": "1.5.0",
            "_model_name": "HTMLModel",
            "_view_count": null,
            "_view_module": "@jupyter-widgets/controls",
            "_view_module_version": "1.5.0",
            "_view_name": "HTMLView",
            "description": "",
            "description_tooltip": null,
            "layout": "IPY_MODEL_03a61afba36b46079ce44ca41de5a930",
            "placeholder": "​",
            "style": "IPY_MODEL_3fd392d9d77c47fbaea204b415720544",
            "value": " 1.14M/1.14M [00:00&lt;00:00, 5.38MB/s]"
          }
        },
        "f9d283a0c09846af859956515376ee5a": {
          "model_module": "@jupyter-widgets/controls",
          "model_module_version": "1.5.0",
          "model_name": "HTMLModel",
          "state": {
            "_dom_classes": [],
            "_model_module": "@jupyter-widgets/controls",
            "_model_module_version": "1.5.0",
            "_model_name": "HTMLModel",
            "_view_count": null,
            "_view_module": "@jupyter-widgets/controls",
            "_view_module_version": "1.5.0",
            "_view_name": "HTMLView",
            "description": "",
            "description_tooltip": null,
            "layout": "IPY_MODEL_e26253382a094f1b85a17c18bccd3041",
            "placeholder": "​",
            "style": "IPY_MODEL_13def570c1994f7c99b6d7e8a5c2fb54",
            "value": "Training:   4%"
          }
        },
        "fc6136d23df346a7ae1a3c01dc4cae7c": {
          "model_module": "@jupyter-widgets/controls",
          "model_module_version": "1.5.0",
          "model_name": "ProgressStyleModel",
          "state": {
            "_model_module": "@jupyter-widgets/controls",
            "_model_module_version": "1.5.0",
            "_model_name": "ProgressStyleModel",
            "_view_count": null,
            "_view_module": "@jupyter-widgets/base",
            "_view_module_version": "1.2.0",
            "_view_name": "StyleView",
            "bar_color": null,
            "description_width": ""
          }
        }
      }
    }
  },
  "nbformat": 4,
  "nbformat_minor": 0
}